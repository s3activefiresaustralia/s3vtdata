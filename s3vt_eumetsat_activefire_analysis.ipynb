{
 "cells": [
  {
   "cell_type": "code",
   "execution_count": null,
   "metadata": {},
   "outputs": [],
   "source": [
    "%matplotlib inline\n",
    "import os\n",
    "from pathlib import Path\n",
    "\n",
    "import matplotlib.pyplot as plt\n",
    "from shapely.geometry import Polygon\n",
    "import geopandas as gpd\n",
    "import pandas as pd\n",
    "from datetime import datetime"
   ]
  },
  {
   "cell_type": "markdown",
   "metadata": {},
   "source": [
    "#### Function to query geopandas dataframe using query arguments"
   ]
  },
  {
   "cell_type": "code",
   "execution_count": null,
   "metadata": {},
   "outputs": [],
   "source": [
    "def query_sv3t_gpd(hotspot_gpd, query_args):\n",
    "    solar_day = query_args.get('solar_day', None)\n",
    "    if solar_day is not None:\n",
    "        hotspot_gpd['solar_day_temp'] = pd.to_datetime(hotspot_gpd['solar_day']).dt.date\n",
    "        hotspot_gpd = hotspot_gpd[(hotspot_gpd['solar_day_temp'] >= solar_day[0]) & (hotspot_gpd['solar_day_temp'] <= solar_day[1])]\n",
    "        hotspot_gpd = hotspot_gpd.drop(['solar_day_temp'], axis=1)\n",
    "        \n",
    "    query_string = ''\n",
    "    for k, v in query_args.items():\n",
    "        if k == 'solar_day':\n",
    "            continue\n",
    "        query_string += ' '.join([k, v[0], v[1], ' and '])\n",
    "    print(f\"subseting for {query_string[:-5]} between {solar_day[0]} and {solar_day[1]}\")\n",
    "    if query_string == \"\":\n",
    "        return hotspot_gpd\n",
    "    return hotspot_gpd.query(query_string[:-5])"
   ]
  },
  {
   "cell_type": "code",
   "execution_count": null,
   "metadata": {},
   "outputs": [],
   "source": [
    "def plot(df, column_name, ax,  bounds, cmap='jet', title=''):\n",
    "    poly = Polygon.from_bounds(*bounds)\n",
    "    df_clipped = gpd.clip(df, poly)\n",
    "    df_clipped.plot(markersize=0.1, column=column_name, ax=ax)\n",
    "    ax.set_title(title)\n",
    "    world = gpd.read_file(gpd.datasets.get_path('naturalearth_lowres'))\n",
    "    bound_subset = gpd.clip(world, poly)\n",
    "    bound_subset.to_crs(df.crs).plot(ax=ax, color='none', edgecolor='black')"
   ]
  },
  {
   "cell_type": "markdown",
   "metadata": {},
   "source": [
    "#### Set the Spatial Subset, Temporal and fieldname subset parameters\n",
    "Set bounding box to represent smaller extents for rapid analysis and shorter date ranges.\\\n",
    "The query parameters for DEA hotsopt, ESA and EUMETSAT's Hotspot are column names within each GeoPandas Dataframe."
   ]
  },
  {
   "cell_type": "code",
   "execution_count": null,
   "metadata": {},
   "outputs": [],
   "source": [
    "# Set the area of interest\n",
    "westlon = 110.0\n",
    "southlat = -50.0\n",
    "eastlon = 160.0\n",
    "northlat = -10.0\n",
    "bbox = (westlon, southlat, eastlon, northlat)\n",
    "\n",
    "# set start and end time for temporal subset \n",
    "start_date = '2019-12-15' #YYYY-MM-DD\n",
    "end_date = '2019-12-19'\n",
    "\n",
    "# query arguments used in subsetting the dea hotspot\n",
    "# The dea hotspot for different sensors have different fieldname. The only common fieldnames\n",
    "# is 'solar_day'.\n",
    "dea_hotspot_query_parameters = {\n",
    "    # 'confidence': ('>=', '0'),  # The confidence level of DEA hotspot to subset above this confidence level\n",
    "    # 'power': ('>=', '0.'), # The power above 0. to include all (set threshold if hotspot needs subset using Fire Radiative Power)\n",
    "    'solar_day': (pd.to_datetime(start_date), pd.to_datetime(end_date))\n",
    "}\n",
    "\n",
    "# query arguments used in subsetting ESA's and EUMETSAT's FRP\n",
    "s3_frp_query_parameters = {\n",
    "    'F1_Fire_pixel_radiance': ('>=', '0.'), # The FRP to subset the S3 FRP, >= 0. includes all \n",
    "    'confidence': ('>=', '0.01'),\n",
    "    'solar_day': (pd.to_datetime(start_date), pd.to_datetime(end_date))\n",
    "}"
   ]
  },
  {
   "cell_type": "markdown",
   "metadata": {},
   "source": [
    "#### Set all the geojson composite paths needed for hotspot analysis\n",
    "1. Geojson composite file from Eumetsat FRP product.\n",
    "2. Geojson composite file from ESA's FRP product.\n",
    "3. Geojson composite file from DEA's hotspot."
   ]
  },
  {
   "cell_type": "code",
   "execution_count": null,
   "metadata": {},
   "outputs": [],
   "source": [
    "# path to a file containing all .geojson from eumetsat's FRP product\n",
    "eumetsat_s3vt_geojson_file = Path(\"/home/jovyan/s3vt/workdir_s3vt_old/s3vt_eumetsat_hotspots.geojson\")\n",
    "# Path to a file containing all .geojson from ESA's FRP product\n",
    "esa_s3vt_geojson_file = Path(\"/home/jovyan/s3vt/s3vt_hotspots.geojson\")\n",
    "# Path to a file containing DEA hotspots from WFS query\n",
    "dea_hotspot_geojson_file = Path(\"/home/jovyan/s3vt/DEAHotspots_hotspots.geojson\")"
   ]
  },
  {
   "cell_type": "markdown",
   "metadata": {},
   "source": [
    "#### Load spatial subset of FRP products"
   ]
  },
  {
   "cell_type": "code",
   "execution_count": null,
   "metadata": {},
   "outputs": [],
   "source": [
    "eumetsat_hotspot_gdf = gpd.read_file(eumetsat_s3vt_geojson_file, bbox=bbox)\n",
    "esa_hotspot_gdf = gpd.read_file(esa_s3vt_geojson_file, bbox=bbox)\n",
    "dea_hotspot_gdf = gpd.read_file(dea_hotspot_geojson_file, bbox=bbox)"
   ]
  },
  {
   "cell_type": "markdown",
   "metadata": {},
   "source": [
    "#### Load the samples items from FRP products."
   ]
  },
  {
   "cell_type": "code",
   "execution_count": null,
   "metadata": {},
   "outputs": [],
   "source": [
    "# get samples from eumetsat FRP product\n",
    "eumetsat_hotspot_gdf.head()"
   ]
  },
  {
   "cell_type": "code",
   "execution_count": null,
   "metadata": {},
   "outputs": [],
   "source": [
    "for col in eumetsat_hotspot_gdf.columns:\n",
    "    print(col)"
   ]
  },
  {
   "cell_type": "code",
   "execution_count": null,
   "metadata": {},
   "outputs": [],
   "source": [
    "# get samples from ESA's FRP product\n",
    "esa_hotspot_gdf.head()"
   ]
  },
  {
   "cell_type": "code",
   "execution_count": null,
   "metadata": {},
   "outputs": [],
   "source": [
    "for col in esa_hotspot_gdf.columns:\n",
    "    print(col)"
   ]
  },
  {
   "cell_type": "code",
   "execution_count": null,
   "metadata": {},
   "outputs": [],
   "source": [
    "# get samples from DEA's hotspot\n",
    "dea_hotspot_gdf.head()"
   ]
  },
  {
   "cell_type": "markdown",
   "metadata": {},
   "source": [
    "###### There is difference in fields between ESA's and EUMETSAT's FRP"
   ]
  },
  {
   "cell_type": "code",
   "execution_count": null,
   "metadata": {},
   "outputs": [],
   "source": [
    "# get the difference of fieldnames between Eumetsat and ESA's FRP\n",
    "set(eumetsat_hotspot_gdf.columns) - set(esa_hotspot_gdf.columns)"
   ]
  },
  {
   "cell_type": "markdown",
   "metadata": {},
   "source": [
    "#### Set FRP's GPD field of `solar_day`, `datetime` and `date` columns to pandas datetime object"
   ]
  },
  {
   "cell_type": "code",
   "execution_count": null,
   "metadata": {},
   "outputs": [],
   "source": [
    "# set dea solar_day and datetime to pandas datetime\n",
    "dea_hotspot_gdf['datetime'] = pd.to_datetime(dea_hotspot_gdf['datetime'])\n",
    "dea_hotspot_gdf['solar_day'] = pd.to_datetime(dea_hotspot_gdf['solar_day'])\n",
    "dea_hotspot_gdf['power'] = dea_hotspot_gdf['power'].astype('float32')   # power was not in floating point "
   ]
  },
  {
   "cell_type": "code",
   "execution_count": null,
   "metadata": {},
   "outputs": [],
   "source": [
    "# set eumetsat solar_day and date to pandas datetime\n",
    "eumetsat_hotspot_gdf['datetime'] = pd.to_datetime(eumetsat_hotspot_gdf['date'])\n",
    "eumetsat_hotspot_gdf['solar_day'] = pd.to_datetime(eumetsat_hotspot_gdf['solar_day'])\n"
   ]
  },
  {
   "cell_type": "code",
   "execution_count": null,
   "metadata": {},
   "outputs": [],
   "source": [
    "# set esa solar_day and date to pandas datetime\n",
    "esa_hotspot_gdf['datetime'] = pd.to_datetime(esa_hotspot_gdf['date'])\n",
    "esa_hotspot_gdf['solar_day'] = pd.to_datetime(esa_hotspot_gdf['solar_day'])"
   ]
  },
  {
   "cell_type": "markdown",
   "metadata": {},
   "source": [
    "#### Create `satellite_sensor_product` field which is unique for sensor and platforms and product origin (DEA, ESA, EUMETSAT)"
   ]
  },
  {
   "cell_type": "code",
   "execution_count": null,
   "metadata": {},
   "outputs": [],
   "source": [
    "esa_hotspot_gdf['satellite_sensor_product'] = esa_hotspot_gdf['satellite']+'_'+esa_hotspot_gdf['sensor']+'_ESA'\n",
    "eumetsat_hotspot_gdf['satellite_sensor_product'] = eumetsat_hotspot_gdf['satellite']+'_'+eumetsat_hotspot_gdf['sensor']+'_EUMETSAT'\n",
    "dea_hotspot_gdf['satellite_sensor_product'] = dea_hotspot_gdf['satellite']+'_'+dea_hotspot_gdf['sensor']+'_'+dea_hotspot_gdf['product']"
   ]
  },
  {
   "cell_type": "code",
   "execution_count": null,
   "metadata": {},
   "outputs": [],
   "source": [
    "dea_hotspot_gdf['product'].unique()"
   ]
  },
  {
   "cell_type": "code",
   "execution_count": null,
   "metadata": {},
   "outputs": [],
   "source": [
    "esa_hotspot_gdf['satellite_sensor_product'].unique()\n"
   ]
  },
  {
   "cell_type": "code",
   "execution_count": null,
   "metadata": {},
   "outputs": [],
   "source": [
    "eumetsat_hotspot_gdf['satellite_sensor_product'].unique()"
   ]
  },
  {
   "cell_type": "code",
   "execution_count": null,
   "metadata": {},
   "outputs": [],
   "source": [
    "dea_hotspot_gdf['satellite_sensor_product'].unique()"
   ]
  },
  {
   "cell_type": "markdown",
   "metadata": {},
   "source": [
    "#### Plotting for all satellite sensor products from ESA, EUMETSAT and DEA "
   ]
  },
  {
   "cell_type": "code",
   "execution_count": null,
   "metadata": {},
   "outputs": [],
   "source": [
    "fig, axs = plt.subplots(ncols=3, figsize=(20, 12))\n",
    "plot(eumetsat_hotspot_gdf, 'F1_Fire_pixel_radiance', axs[0],  bbox, cmap='jet', title=f'Eumetsat FRP')\n",
    "plot(esa_hotspot_gdf, 'F1_Fire_pixel_radiance', axs[1],  bbox, cmap='jet', title=f'ESA FRP')\n",
    "plot(dea_hotspot_gdf, 'power', axs[2],  bbox, cmap='jet', title=f'DEA Hotspot')"
   ]
  },
  {
   "cell_type": "markdown",
   "metadata": {},
   "source": [
    "### Subsetting Hotspot/FRP dataframes using column names and values\n",
    "The sample for dea query arguments shows that we want specific satellite_sensor_product `TERRA_MODIS_SRSS` on `solar_date_range` 2019-11-1 and 2019-11-2 with `power` value greater than 10\\ and `confidence` value greater than 40. We can use combination of many column names, value threshold to subset the dataframes to meet the analytic requirement of the users. \\\n",
    "The query are specified as `key: column names and values: (operator, column values threshold)` for all column names, except for `datetime fields: (start_date, end_date) `\n",
    "```sample_query_arguments = {\n",
    "    'satellite_sensor_product' : ('==', \"'TERRA_MODIS_SRSS'\"),  # remote satellite_sensor_product key if you want to include all the sensor products.\n",
    "    'solar_date_range': (pd.to_datetime('2019-11-1'), pd.to_datetime('2019-11-2')),  # start and end date (will look inclusive of both the dates)\n",
    "    'power': ('>', '10.'),\n",
    "    'confidence': ('>', '40.'),\n",
    "}```"
   ]
  },
  {
   "cell_type": "code",
   "execution_count": null,
   "metadata": {},
   "outputs": [],
   "source": [
    "# generate all the individual satellite_sensor_product for dea hotspot for parameters specified in dea_hotspot_query_parameters\n",
    "dea_hotspots_subsets_dict = {}\n",
    "for prd in dea_hotspot_gdf['satellite_sensor_product'].unique():\n",
    "    dea_hotspot_query_arguments = {\n",
    "        **dea_hotspot_query_parameters,\n",
    "        'satellite_sensor_product': ('==', f\"'{prd}'\")\n",
    "    }\n",
    "    dea_hotspot_subset = query_sv3t_gpd(dea_hotspot_gdf, dea_hotspot_query_arguments)\n",
    "    filename = f\"dea_hotspot_{prd.lower()}_{start_date.replace('-', '')}_{end_date.replace('-', '')}.geojson\"\n",
    "    if not dea_hotspot_subset.empty:\n",
    "        dea_hotspots_subsets_dict[prd] = dea_hotspot_subset\n",
    "        # dea_hotspot_subset.to_file(filename, driver='GeoJSON')   # uncomment if you want to save to use with QGIS or other software"
   ]
  },
  {
   "cell_type": "code",
   "execution_count": null,
   "metadata": {},
   "outputs": [],
   "source": [
    "# generate all the individual satellite_sensor_product for EUMETSAT FRP parameters specified in s3_frp_query_parameters\n",
    "eumetsat_frp_subset_dict = {}\n",
    "for prd in eumetsat_hotspot_gdf['satellite_sensor_product'].unique():\n",
    "    eumetsat_hotspot_query_arguments = {\n",
    "        **s3_frp_query_parameters,\n",
    "        'satellite_sensor_product': ('==', f\"'{prd}'\")\n",
    "    }\n",
    "    filename = f\"eumetsat_frp_{prd.lower()}_{start_date.replace('-', '')}_{end_date.replace('-', '')}.geojson\"\n",
    "    eumetsat_frp_subset = query_sv3t_gpd(eumetsat_hotspot_gdf, eumetsat_hotspot_query_arguments)\n",
    "    if not eumetsat_frp_subset.empty:\n",
    "        eumetsat_frp_subset_dict[prd] = eumetsat_frp_subset\n",
    "        # eumetsat_frp_subset.to_file(filename, driver='GeoJSON')  # uncomment if you want to save to use with QGIS or other software"
   ]
  },
  {
   "cell_type": "code",
   "execution_count": null,
   "metadata": {},
   "outputs": [],
   "source": [
    "# list all the satellite_sensor_product for ESA FRP\n",
    "# generate all the individual satellite_sensor_product for EUMETSAT FRP parameters specified in s3_frp_query_parameters\n",
    "esa_frp_subset_dict = {}\n",
    "for prd in esa_hotspot_gdf['satellite_sensor_product'].unique():\n",
    "    esa_hotspot_query_arguments = {\n",
    "        **s3_frp_query_parameters,\n",
    "        'satellite_sensor_product': ('==', f\"'{prd}'\")\n",
    "    }\n",
    "    filename = f\"esa_frp_{prd.lower()}_{start_date.replace('-', '')}_{end_date.replace('-', '')}.geojson\"\n",
    "    esa_frp_subset = query_sv3t_gpd(esa_hotspot_gdf, esa_hotspot_query_arguments)\n",
    "    if not esa_frp_subset.empty:\n",
    "        esa_frp_subset_dict[prd] = esa_frp_subset\n",
    "        # esa_frp_subset.to_file(filename, driver='GeoJSON') # uncomment if you want to save to use with QGIS or other software"
   ]
  },
  {
   "cell_type": "code",
   "execution_count": null,
   "metadata": {},
   "outputs": [],
   "source": [
    "dea_hotspots_subsets_dict['NOAA 19_AVHRR_SRSS'].head()"
   ]
  },
  {
   "cell_type": "code",
   "execution_count": null,
   "metadata": {},
   "outputs": [],
   "source": [
    "dea_hotspots_subsets_dict.keys()"
   ]
  },
  {
   "cell_type": "code",
   "execution_count": null,
   "metadata": {},
   "outputs": [],
   "source": [
    "esa_frp_subset_dict.keys()"
   ]
  },
  {
   "cell_type": "markdown",
   "metadata": {},
   "source": [
    "#### DEA Hotspot plots for individual satellite_sensor_product"
   ]
  },
  {
   "cell_type": "code",
   "execution_count": null,
   "metadata": {},
   "outputs": [],
   "source": [
    "fig, axs = plt.subplots(ncols=3, figsize=(20, 12))\n",
    "esa_sensor_prd = 'SENTINEL_3B_SLSTR_ESA'\n",
    "eumet_sensor_prd = 'SENTINEL_S3B_SLSTR_EUMETSAT'\n",
    "dea_sensor_prd = 'NOAA 20_VIIRS_SRSS'\n",
    "# bbox = (146., -35., 152., -30.)    # use smaller subset for zoom into a region of interest\n",
    "plot(eumetsat_frp_subset_dict[eumet_sensor_prd], 'F1_Fire_pixel_radiance', axs[0],  bbox, cmap='jet', title=f'Eumetsat {eumet_sensor_prd} FRP')\n",
    "plot(esa_frp_subset_dict[esa_sensor_prd], 'F1_Fire_pixel_radiance', axs[1],  bbox, cmap='jet', title=f'ESA {esa_sensor_prd} FRP')\n",
    "plot(dea_hotspots_subsets_dict[dea_sensor_prd], 'longitude', axs[2],  bbox, cmap='jet', title=f'DEA {dea_sensor_prd} Hotspot')"
   ]
  }
 ],
 "metadata": {
  "kernelspec": {
   "display_name": "Python 3",
   "language": "python",
   "name": "python3"
  },
  "language_info": {
   "codemirror_mode": {
    "name": "ipython",
    "version": 3
   },
   "file_extension": ".py",
   "mimetype": "text/x-python",
   "name": "python",
   "nbconvert_exporter": "python",
   "pygments_lexer": "ipython3",
   "version": "3.6.9"
  }
 },
 "nbformat": 4,
 "nbformat_minor": 4
}
