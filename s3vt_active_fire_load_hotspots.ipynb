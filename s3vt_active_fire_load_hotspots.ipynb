{
 "cells": [
  {
   "cell_type": "code",
   "execution_count": 5,
   "metadata": {},
   "outputs": [],
   "source": [
    "import matplotlib\n",
    "import boto3\n",
    "from botocore.exceptions import ClientError\n",
    "from netCDF4 import Dataset\n",
    "import datetime as dt\n",
    "import json\n",
    "import geopandas as gpd\n",
    "import pandas as pd\n",
    "from shapely.geometry import Polygon\n",
    "import xmltodict\n",
    "import yaml\n",
    "import os\n",
    "import subprocess\n",
    "from datetime import date\n",
    "from datetime import datetime\n",
    "import logging\n",
    "logger = logging.getLogger()\n",
    "import os\n",
    "import netCDF4\n",
    "import numpy as np\n",
    "from scipy.spatial import cKDTree\n",
    "from shapely.geometry import Point\n",
    "from geopy.distance import distance\n",
    "from pathlib import Path\n",
    "import shutil"
   ]
  },
  {
   "cell_type": "code",
   "execution_count": 6,
   "metadata": {},
   "outputs": [],
   "source": [
    "logger.setLevel(level=logging.INFO)"
   ]
  },
  {
   "cell_type": "markdown",
   "metadata": {},
   "source": [
    "# Open configuration file and read paramters"
   ]
  },
  {
   "cell_type": "code",
   "execution_count": 7,
   "metadata": {},
   "outputs": [],
   "source": [
    "with open(r'config.yaml') as file:\n",
    "    configuration =  yaml.load(file, Loader=yaml.FullLoader)"
   ]
  },
  {
   "cell_type": "code",
   "execution_count": 8,
   "metadata": {},
   "outputs": [],
   "source": [
    "for config in configuration['configurations']:\n",
    "    username = config['username']\n",
    "    password = config['password']\n",
    "    url = config['url']\n",
    "    aoi = config['aoi']\n",
    "    awss3bucket = config['awss3bucket']\n",
    "    awskeyid = config['awskeyid']\n",
    "    awskeypass = config['awskeypass']"
   ]
  },
  {
   "cell_type": "markdown",
   "metadata": {},
   "source": [
    "# Functions"
   ]
  },
  {
   "cell_type": "code",
   "execution_count": 53,
   "metadata": {},
   "outputs": [],
   "source": [
    "def get_satellite_swaths(satsensorsA, satsensorsB, configuration, start, period):\n",
    "\n",
    "\n",
    "    dirpath = Path('output')\n",
    "    if dirpath.exists() and dirpath.is_dir():\n",
    "        shutil.rmtree(dirpath)\n",
    "    \n",
    "    try:\n",
    "        subprocess.call(['python', 'swathpredict.py', '--configuration', configuration, '--start', start, '--period', period])\n",
    "        success = True\n",
    "    except:\n",
    "        success = False\n",
    "    \n",
    "    filesA = []\n",
    "    filesB = []\n",
    "    \n",
    "    for sat in satsensorsA:\n",
    "   \n",
    "        filesA.extend([f for f in os.listdir('output') if sat in f and 'swath.geojson' in f])\n",
    "    \n",
    "    for sat in satsensorsB:\n",
    "    \n",
    "        filesB.extend([f for f in os.listdir('output') if sat in f and 'swath.geojson' in f])\n",
    "    \n",
    "    gpdlistA = []\n",
    "    for file in filesA:\n",
    "        df = gpd.read_file(Path('output', file))\n",
    "        gpdlistA.append(df)\n",
    "    gpdlistB = []\n",
    "    for file in filesB:\n",
    "        df = gpd.read_file(Path('output',file))\n",
    "        gpdlistB.append(df)        \n",
    "    return(pd.concat(gpdlistA),pd.concat(gpdlistB) )    "
   ]
  },
  {
   "cell_type": "code",
   "execution_count": 56,
   "metadata": {},
   "outputs": [],
   "source": [
    "# TODO for each pairwise comparison find the common imaged are per time period from start time\n",
    "gpd1, gpd2 = get_satellite_swaths(['TERRA', 'AQUA'], ['NOAA_20', 'SUOMI_NPP'], 's3vtconfig.yaml', '2020-02-21T00:00:00Z', '1440')\n",
    "gpd1 = gpd1.unary_union\n",
    "gpd2 = gpd2.unary_union\n",
    "intersection = gpd1.intersection(gpd2)"
   ]
  },
  {
   "cell_type": "code",
   "execution_count": 5,
   "metadata": {},
   "outputs": [],
   "source": [
    "def get_file_list(username, password, aoi, startrecord):\n",
    "    # rows returned is limited to 100, add pagination but looking at number of records and incrementing by 100 each iteration\n",
    "    try:\n",
    "        subprocess.call(['wget','--no-check-certificate', '--user='+username, '--password='+password, '--output-document=filelist.txt', 'https://131.176.236.38/dhus/search?q=footprint:\"Intersects('+aoi+')\" AND platformname:Sentinel-3 AND producttype:SL_2_FRP___&rows=100&start='+startrecord+'&format=json'])\n",
    "        success = True\n",
    "    except:\n",
    "        success = False\n",
    "    return(success)"
   ]
  },
  {
   "cell_type": "code",
   "execution_count": 6,
   "metadata": {},
   "outputs": [],
   "source": [
    "def filter(sensors):\n",
    "\n",
    "    for sensordict in sensors:\n",
    "        \n",
    "        filter_string = ''\n",
    "        count = 0\n",
    "        \n",
    "        for sensor in sensordict.keys():\n",
    "            filter_string = filter_string+'(sensor=%27'+sensor+'%27%20AND%20(product=%27'\n",
    "            product_count = 0\n",
    "            for product in sensordict[sensor]:\n",
    "                filter_string = filter_string+product+'%27'\n",
    "                if product_count < (len(sensordict[sensor])-1):\n",
    "                    filter_string = filter_string+'%20OR%20product=%27'\n",
    "                else:\n",
    "                    filter_string = filter_string+'))' \n",
    "                product_count = product_count + 1\n",
    "            if count < (len(sensordict.keys())-1):        \n",
    "                filter_string = filter_string+'%20OR%20'\n",
    "            count = count+1\n",
    "\n",
    "    return(filter_string)"
   ]
  },
  {
   "cell_type": "code",
   "execution_count": 7,
   "metadata": {},
   "outputs": [],
   "source": [
    "def get_polygon_from_gml(gml_dict):\n",
    "    listoftuples = []\n",
    "    for i in list(gml_dict.split(\" \")):\n",
    "        pair = (float(i.split(',')[1]), float(i.split(',')[0]))\n",
    "        listoftuples.append(pair)\n",
    "    return(listoftuples)"
   ]
  },
  {
   "cell_type": "code",
   "execution_count": 8,
   "metadata": {},
   "outputs": [],
   "source": [
    "def load_hotspots(filter_string, time_period, bbox, max_features, min_confidence, to_date):\n",
    "    y_max = bbox[0]\n",
    "    x_min = bbox[1]\n",
    "    y_min = bbox[2]\n",
    "    x_max = bbox[3]\n",
    "    if to_date is None:\n",
    "        \n",
    "        to_date = dt.datetime.now()\n",
    "    \n",
    "    \n",
    "    from_date = (to_date - dt.timedelta(days=time_period)).strftime('%Y-%m-%d')\n",
    "    \n",
    "    # trim datetime to enable WFS \n",
    "    to_date = to_date.strftime('%Y-%m-%d')\n",
    "    logger.info(str(from_date)+' '+str(to_date))\n",
    "    \n",
    "    # TODO - sort out paging - looks like there is a limit to WFS requests number returned per query\n",
    "    logger.info(f\"https://hotspots.dea.ga.gov.au/geoserver/public/wfs?service=WFS&version=1.1.0&request=GetFeature&typeName=public:hotspots&outputFormat=application/json&CQL_FILTER=({filter_string})%20AND%20datetime%20%3E%20%27{from_date}%27%20AND%20datetime%20%3C%20%27{to_date}%27%20AND%20INTERSECTS(location,%20POLYGON(({y_max}%20{x_min},%20{y_max}%20{x_max},%20{y_min}%20{x_max},%20{y_min}%20{x_min},%20{y_max}%20{x_min})))&maxFeatures={max_features}&startIndex=0&sortBy=sensor%20A\")\n",
    "    url = f\"https://hotspots.dea.ga.gov.au/geoserver/public/wfs?service=WFS&version=1.1.0&request=GetFeature&typeName=public:hotspots&outputFormat=application/json&CQL_FILTER=({filter_string})%20AND%20datetime%20%3E%20%27{from_date}%27%20AND%20datetime%20%3C%20%27{to_date}%27%20AND%20INTERSECTS(location,%20POLYGON(({y_max}%20{x_min},%20{y_max}%20{x_max},%20{y_min}%20{x_max},%20{y_min}%20{x_min},%20{y_max}%20{x_min})))&maxFeatures={max_features}&startIndex=0&sortBy=sensor%20A\"\n",
    "    \n",
    "    hotspots_gdf = gpd.read_file(url)\n",
    "    #logger.info(str(hotspots_gdf['stop_dt']))\n",
    "    \n",
    "    # TODO - improved None value handling  -currently just look at first and apply that to all\n",
    "    if hotspots_gdf['confidence'][0] == None:\n",
    "        logger.info('Skipping confidence filter as confidence not populated')\n",
    "    else:\n",
    "\n",
    "        # Filter by confidence\n",
    "        hotspots_gdf = hotspots_gdf.loc[hotspots_gdf.confidence >= min_confidence]\n",
    "\n",
    "    # Fix datetime\n",
    "    if hotspots_gdf['start_dt'][0] == None:\n",
    "        logger.info('Start date field is not populated')\n",
    "        hotspots_gdf['datetime'] = pd.to_datetime(hotspots_gdf['datetime'])\n",
    "    else:\n",
    "        hotspots_gdf['datetime'] = pd.to_datetime(hotspots_gdf['start_dt'])\n",
    "\n",
    "    # Extract required columns\n",
    "    hotspots_gdf = hotspots_gdf.loc[:, [\n",
    "            'datetime', 'latitude', 'longitude', 'confidence', 'geometry', 'product', 'satellite', 'sensor', 'power'\n",
    "            ]]\n",
    "    hotspots_gdf.sort_values('datetime', ascending=True, inplace=True)\n",
    "    logger.info('Hotspots loaded successfully '+str(hotspots_gdf.geometry.total_bounds))\n",
    "\n",
    "    return(hotspots_gdf)"
   ]
  },
  {
   "cell_type": "code",
   "execution_count": 9,
   "metadata": {},
   "outputs": [],
   "source": [
    "def solar_day(utc, longitude):\n",
    "    SECONDS_PER_DEGREE = 240\n",
    "    offset_seconds = int(longitude * SECONDS_PER_DEGREE)\n",
    "    offset = np.timedelta64(offset_seconds, 's')\n",
    "    return (np.datetime64(utc) + offset).astype(datetime)"
   ]
  },
  {
   "cell_type": "code",
   "execution_count": 10,
   "metadata": {},
   "outputs": [],
   "source": [
    "def ckdnearest(gdA, gdB):\n",
    "    nA = np.array(list(zip(gdA.geometry.x, gdA.geometry.y)) )\n",
    "    nB = np.array(list(zip(gdB.geometry.x, gdB.geometry.y)) )\n",
    "    btree = cKDTree(nB)\n",
    "    dist, idx = btree.query(nA, k=1)\n",
    "    gdf = pd.concat(\n",
    "        [gdA.reset_index(drop=True), gdB.loc[idx, gdB.columns != 'geometry'].reset_index(drop=True).add_prefix('2_'),\n",
    "         pd.Series(dist, name='dist')], axis=1)\n",
    "    return gdf"
   ]
  },
  {
   "cell_type": "markdown",
   "metadata": {},
   "source": [
    "# Skip to \"Load Hotspots to GeoPandas\" if testing analytics"
   ]
  },
  {
   "cell_type": "markdown",
   "metadata": {},
   "source": [
    "# Assess inventory against AWS bucket listing"
   ]
  },
  {
   "cell_type": "code",
   "execution_count": null,
   "metadata": {},
   "outputs": [],
   "source": [
    "# Get bucket listing of image granules and hotspot files\n",
    "\n",
    "s3 = boto3.resource('s3', aws_access_key_id=awskeyid,\n",
    "                    aws_secret_access_key=awskeypass)\n",
    "\n",
    "s3folderlist = []\n",
    "s3geojsonlist = []\n",
    "s3bucket = s3.Bucket('s3vtaustralia')\n",
    "\n",
    "for bucket_object in s3bucket.objects.all():\n",
    "    s3bucketobject = str(bucket_object.key).split(\"/\")[2]\n",
    "    if '.SEN3' in s3bucketobject:\n",
    "        s3folderlist.append(s3bucketobject)\n",
    "    if '.FRP.geojson' in s3bucketobject:\n",
    "        s3geojsonlist.append(bucket_object.key)\n",
    "\n",
    "print(len(s3geojsonlist), \"S3 Hotspot files From ESA available in AWS S3\") "
   ]
  },
  {
   "cell_type": "code",
   "execution_count": null,
   "metadata": {},
   "outputs": [],
   "source": [
    "print(len(set(s3folderlist)), \"S3 Granules From ESA available in AWS S3\") "
   ]
  },
  {
   "cell_type": "markdown",
   "metadata": {},
   "source": [
    "# Retrieve the file list inventory used to gather the S3 files"
   ]
  },
  {
   "cell_type": "code",
   "execution_count": null,
   "metadata": {},
   "outputs": [],
   "source": [
    "# Get File List from server\n",
    "# Run this if no local inventory exists\n",
    "if not os.path.exists('s3vt_inventory.json'):\n",
    "    startrecord = 0\n",
    "\n",
    "    responselist = [] \n",
    "\n",
    "    # Determine number of records to retrieve\n",
    "    get_file_list(username, password, aoi, str(startrecord))\n",
    "    with open('filelist.txt') as results:\n",
    "        for i in results: \n",
    "            response = json.loads(i)\n",
    "            responselist.append(response)\n",
    "\n",
    "    upperlimit = int(response['feed']['opensearch:totalResults'])\n",
    "    upperlimit = 200\n",
    "    # Get the full list of records\n",
    "\n",
    "    while startrecord <= upperlimit:\n",
    "        startrecord = startrecord+100\n",
    "\n",
    "        get_file_list(username, password, aoi, str(startrecord)) \n",
    "        with open('filelist.txt') as results:\n",
    "            for i in results: responselist.append(json.loads(i))\n",
    "\n",
    "            # Dump the results to an inventory file\n",
    "            with open('s3vt_inventory.json', 'w') as f:\n",
    "                json.dump(responselist, f)"
   ]
  },
  {
   "cell_type": "markdown",
   "metadata": {},
   "source": [
    "# From the inventory - generate a vector fooprint"
   ]
  },
  {
   "cell_type": "code",
   "execution_count": null,
   "metadata": {},
   "outputs": [],
   "source": [
    "# Read inventory to geopandas - write to geojson       \n",
    "        \n",
    "with open('s3vt_inventory.json') as inventory:\n",
    "    frames = []\n",
    "    for p in inventory:\n",
    "        pages = json.loads(p)\n",
    "                \n",
    "        for page in pages:\n",
    "            for page in pages:\n",
    "                try:\n",
    "                    \n",
    "                    for entry in page['feed']['entry']:\n",
    "\n",
    "                        df = pd.DataFrame.from_dict(entry, orient='index')\n",
    "\n",
    "                        polygon = get_polygon_from_gml(xmltodict.parse(entry['str'][2]['content'])['gml:Polygon']['gml:outerBoundaryIs']['gml:LinearRing']['gml:coordinates'])\n",
    "\n",
    "                        df = df.transpose()\n",
    "                        df['Coordinates'] = Polygon(polygon)\n",
    "                        for d in entry['str']:\n",
    "                            if d['name'] ==  'orbitdirection':\n",
    "                                df['orbitdirection'] = d['content']\n",
    "                            if d['name'] ==  'platformidentifier':\n",
    "                                df['platformidentifier'] = d['content'] \n",
    "                            if d['name'] ==  'filename':\n",
    "                                df['filename'] = d['content']\n",
    "                            if d['name'] ==  'instrumentshortname':\n",
    "                                df['instrumentshortname'] = d['content']\n",
    "                            if d['name'] ==  'passnumber':\n",
    "                                df['passnumber'] = d['content']        \n",
    "                        s3vtdf = gpd.GeoDataFrame(df, geometry='Coordinates')\n",
    "\n",
    "                        frames.append(s3vtdf)\n",
    "                                \n",
    "                except KeyError:\n",
    "                        logger.info(\"KeyError exception for get_polygon_from_gml()\")\n",
    "                        \n",
    "s3vtgpd = pd.concat(frames)\n",
    "\n",
    "# Not sure why we need to index but do it anyway\n",
    "s3vtgpd = s3vtgpd.reset_index(drop=True)\n",
    "s3vtgpd['date'] = pd.to_datetime(s3vtgpd.summary.str.split(\",\", expand= True)[0].str.split(' ', expand=True)[1])\n",
    "# Some fields are lists and geojson translation doesn't like it\n",
    "\n",
    "s3vtgpd = s3vtgpd.drop(['link', 'int', 'str', 'summary'], axis=1)\n",
    "s3vtgpd.to_file('s3vt_geometry.geojson', driver='GeoJSON')"
   ]
  },
  {
   "cell_type": "markdown",
   "metadata": {},
   "source": [
    "# Set up for checking inventory against files on AWS"
   ]
  },
  {
   "cell_type": "code",
   "execution_count": null,
   "metadata": {},
   "outputs": [],
   "source": [
    "dataframelength = len(s3vtgpd)\n",
    "# Add field to enable monitoring\n",
    "s3vtgpd['hotspot'] = 0\n",
    "s3vtgpd['download'] = 0\n",
    "s3vtgpd['s3bucket'] = 0\n",
    "\n",
    "s3vthostpotsgpdlist = []"
   ]
  },
  {
   "cell_type": "markdown",
   "metadata": {},
   "source": [
    "# Run inventory check"
   ]
  },
  {
   "cell_type": "code",
   "execution_count": null,
   "metadata": {},
   "outputs": [],
   "source": [
    "# Check if folder already downloaded and flag in gpd\n",
    "for i in range(dataframelength):\n",
    "    if s3vtgpd.loc[i]['title']+'.SEN3' in set(s3folderlist):\n",
    "        s3vtgpd.at[i, 'download'] = 1\n",
    "    if s3vtgpd.loc[i]['title']+'.FRP.geojson' in set(s3folderlist):\n",
    "        s3vtgpd.at[i, 'hotspot'] = 1\n",
    "        s3vthostpotsgpdlist.append(s3hotspotsgpd)"
   ]
  },
  {
   "cell_type": "markdown",
   "metadata": {},
   "source": [
    "# Sync GeoJSON to local machine"
   ]
  },
  {
   "cell_type": "code",
   "execution_count": null,
   "metadata": {},
   "outputs": [],
   "source": [
    "# Copy all S3 geojson files locally and load to GPD\n",
    "# TODO - fix the below subprocess as it doesn't seem to accept the exclude include parameters and syncs everything\n",
    "#subprocess.call(['echo', 'aws', 's3', 'sync', 's3://s3vtaustralia/', '.', '--exclude', '\\\"*\\\"', '--include', '\\\"*.geojson\\\"', '--dryrun'])\n",
    "# Going with this in the interim\n",
    "!aws s3 sync s3://s3vtaustralia/ . --exclude \"*\" --include \"*.geojson\"\n",
    "\n",
    "#for i in s3geojsonlist:\n",
    "#    print(i)\n",
    "#    subprocess.call(['aws', 's3', 'sync', 's3://s3vtaustralia/'+i, i, '--dryrun'])"
   ]
  },
  {
   "cell_type": "markdown",
   "metadata": {},
   "source": [
    "# Filter hotspots based on limitations stated by UCL"
   ]
  },
  {
   "cell_type": "code",
   "execution_count": null,
   "metadata": {},
   "outputs": [],
   "source": [
    "frames = []\n",
    "for i in s3geojsonlist:\n",
    "    df1 = gpd.read_file(i)\n",
    "    if 'S3A' in i:\n",
    "        df1['satellite'] = 'S3A'\n",
    "    else:\n",
    "        df1['satellite'] = 'S3B'\n",
    "    df1['sensor'] = 'SLSTR'\n",
    "    df2 = df1.query(\"FRP_MWIR>0\")\n",
    "    if len(df2) > 0:\n",
    "        frames.append(df2)\n",
    "        \n",
    "s3vthotspots = pd.concat(frames)\n",
    "#for i in s3geojsonlist:\n",
    "#    s3vtdf = gpd.GeoDataFrame(df, geometry='Coordinates')"
   ]
  },
  {
   "cell_type": "markdown",
   "metadata": {},
   "source": [
    "# Convert netcdf CF time to something pandas understands"
   ]
  },
  {
   "cell_type": "code",
   "execution_count": null,
   "metadata": {},
   "outputs": [],
   "source": [
    "s3vthotspots['date'] = pd.to_datetime(netCDF4.num2date(s3vthotspots.time, units='microseconds since 2000-01-01T00:00:00Z', only_use_cftime_datetimes=False, only_use_python_datetimes=True))"
   ]
  },
  {
   "cell_type": "markdown",
   "metadata": {},
   "source": [
    "# Add solar day column to enable group by function"
   ]
  },
  {
   "cell_type": "code",
   "execution_count": null,
   "metadata": {},
   "outputs": [],
   "source": [
    "s3vthotspots['solar_day'] = s3vthotspots.apply(lambda row: solar_day(row.date, row.longitude), axis = 1)"
   ]
  },
  {
   "cell_type": "markdown",
   "metadata": {},
   "source": [
    "# Write S3 Hotspots to GeoJSON"
   ]
  },
  {
   "cell_type": "code",
   "execution_count": null,
   "metadata": {},
   "outputs": [],
   "source": [
    "s3vthotspots.to_file('s3vt_hotspots.geojson', driver='GeoJSON')"
   ]
  },
  {
   "cell_type": "code",
   "execution_count": null,
   "metadata": {},
   "outputs": [],
   "source": [
    "bounds = list(s3vthotspots.geometry.total_bounds)\n",
    "bbox = [bounds[3], bounds[0], bounds[1], bounds[2]]\n",
    "bbox"
   ]
  },
  {
   "cell_type": "code",
   "execution_count": null,
   "metadata": {
    "scrolled": true
   },
   "outputs": [],
   "source": [
    "# Get time bounds for DEA Hotspots query\n",
    "# TODO - AHI hotspots\n",
    "\n",
    "maxdate = s3vthotspots.date.max().to_datetime64()\n",
    "mindate = s3vthotspots.date.min().to_datetime64()\n",
    "to_date = dt.datetime.strptime(str(s3vthotspots.date.max().to_datetime64()), '%Y-%m-%dT%H:%M:%S.%f000') # '2018-01-01T00:00:00.000Z'\n",
    "time_period = int(str(np.timedelta64(maxdate - mindate, 'D')).split(' ')[0])"
   ]
  },
  {
   "cell_type": "code",
   "execution_count": null,
   "metadata": {},
   "outputs": [],
   "source": [
    "for config in configuration['configurations']:\n",
    "    \n",
    "    hotspots_gdf = load_hotspots(filter(config['sensors']),\n",
    "                                         time_period,\n",
    "                                         bbox,\n",
    "                                         config['max_features'], \n",
    "                                         config['min_confidence'],\n",
    "                                         to_date)\n",
    "hotspots_gdf['solar_day'] = hotspots_gdf.apply(lambda row: solar_day(row.datetime, row.longitude), axis = 1) "
   ]
  },
  {
   "cell_type": "code",
   "execution_count": null,
   "metadata": {},
   "outputs": [],
   "source": [
    "try:\n",
    "    os.remove('DEAHotspots_hotspots.geojson')\n",
    "except:\n",
    "    logger.info('DEA Hotspots geojson does not exist or cannot be deleted')\n",
    "    \n",
    "hotspots_gdf.to_file('DEAHotspots_hotspots.geojson', driver='GeoJSON')"
   ]
  },
  {
   "cell_type": "code",
   "execution_count": null,
   "metadata": {},
   "outputs": [],
   "source": [
    "hotspots_gdf.datetime.max()"
   ]
  },
  {
   "cell_type": "code",
   "execution_count": null,
   "metadata": {},
   "outputs": [],
   "source": [
    "s3vthotspots.date.max()"
   ]
  },
  {
   "cell_type": "code",
   "execution_count": null,
   "metadata": {},
   "outputs": [],
   "source": [
    "s3vthotspots.plot()"
   ]
  },
  {
   "cell_type": "code",
   "execution_count": null,
   "metadata": {},
   "outputs": [],
   "source": [
    "hotspots_gdf.plot()"
   ]
  },
  {
   "cell_type": "markdown",
   "metadata": {},
   "source": [
    "# Load Hotspots to GeoPandas"
   ]
  },
  {
   "cell_type": "code",
   "execution_count": 15,
   "metadata": {},
   "outputs": [],
   "source": [
    "hotspots_gdf = gpd.read_file('DEAHotspots_hotspots.geojson')\n",
    "hotspots_gdf['datetime'] = pd.to_datetime(hotspots_gdf['datetime'])\n",
    "hotspots_gdf['solar_day'] = pd.to_datetime(hotspots_gdf['solar_day'])"
   ]
  },
  {
   "cell_type": "code",
   "execution_count": null,
   "metadata": {},
   "outputs": [],
   "source": [
    "s3vthotspots = gpd.read_file('s3vt_hotspots.geojson')\n",
    "s3vthotspots['datetime'] = pd.to_datetime(s3vthotspots['date'])\n",
    "s3vthotspots['solar_day'] = pd.to_datetime(s3vthotspots['solar_day'])"
   ]
  },
  {
   "cell_type": "code",
   "execution_count": null,
   "metadata": {},
   "outputs": [],
   "source": [
    "hotspot"
   ]
  },
  {
   "cell_type": "markdown",
   "metadata": {},
   "source": [
    "# Merge to a single GeoPandas Datafame"
   ]
  },
  {
   "cell_type": "code",
   "execution_count": 13,
   "metadata": {},
   "outputs": [],
   "source": [
    "# TODO"
   ]
  },
  {
   "cell_type": "markdown",
   "metadata": {},
   "source": [
    "# Set products for comparison"
   ]
  },
  {
   "cell_type": "code",
   "execution_count": 14,
   "metadata": {
    "scrolled": true
   },
   "outputs": [],
   "source": [
    "products = [{'product': 'SRSS', 'sensor': 'MODIS', 'satellite': 'TERRA'},\n",
    " {'product': 'MOD14', 'sensor': 'MODIS', 'satellite': 'TERRA'},\n",
    " {'product': 'SRSS', 'sensor': 'MODIS', 'satellite': 'AQUA'},\n",
    " {'product': 'MOD14', 'sensor': 'MODIS', 'satellite': 'AQUA'},                        \n",
    " {'product': 'SRSS', 'sensor': 'AVHRR', 'satellite': 'NOAA 19'},\n",
    " {'product': 'GA', 'sensor': 'AVHRR', 'satellite': 'NOAA 19'},\n",
    " {'product': 'SRSS', 'sensor': 'VIIRS', 'satellite': 'NOAA 20'},\n",
    " {'product': 'AFMOD', 'sensor': 'VIIRS', 'satellite': 'NOAA 20'},\n",
    " {'product': 'EDR', 'sensor': 'VIIRS', 'satellite': 'NOAA 20'},\n",
    " {'product': 'SRSS', 'sensor': 'VIIRS', 'satellite': 'SUOMI NPP'},\n",
    " {'product': 'AFMOD', 'sensor': 'VIIRS', 'satellite': 'SUOMI NPP'},\n",
    " {'product': 'EDR', 'sensor': 'VIIRS', 'satellite': 'SUOMI NPP'}] "
   ]
  },
  {
   "cell_type": "markdown",
   "metadata": {},
   "source": [
    "# Index by solar time to enable groupby"
   ]
  },
  {
   "cell_type": "code",
   "execution_count": 15,
   "metadata": {},
   "outputs": [
    {
     "data": {
      "text/html": [
       "<div>\n",
       "<style scoped>\n",
       "    .dataframe tbody tr th:only-of-type {\n",
       "        vertical-align: middle;\n",
       "    }\n",
       "\n",
       "    .dataframe tbody tr th {\n",
       "        vertical-align: top;\n",
       "    }\n",
       "\n",
       "    .dataframe thead th {\n",
       "        text-align: right;\n",
       "    }\n",
       "</style>\n",
       "<table border=\"1\" class=\"dataframe\">\n",
       "  <thead>\n",
       "    <tr style=\"text-align: right;\">\n",
       "      <th></th>\n",
       "      <th>datetime</th>\n",
       "      <th>latitude</th>\n",
       "      <th>longitude</th>\n",
       "      <th>confidence</th>\n",
       "      <th>product</th>\n",
       "      <th>satellite</th>\n",
       "      <th>sensor</th>\n",
       "      <th>power</th>\n",
       "      <th>solar_day</th>\n",
       "      <th>geometry</th>\n",
       "    </tr>\n",
       "  </thead>\n",
       "  <tbody>\n",
       "    <tr>\n",
       "      <th>2020-02-03 09:46:58</th>\n",
       "      <td>2020-02-02 23:51:16</td>\n",
       "      <td>-35.777</td>\n",
       "      <td>148.927</td>\n",
       "      <td>100</td>\n",
       "      <td>MOD14</td>\n",
       "      <td>TERRA</td>\n",
       "      <td>MODIS</td>\n",
       "      <td>123.6</td>\n",
       "      <td>2020-02-03 09:46:58</td>\n",
       "      <td>POINT (148.92700 -35.77700)</td>\n",
       "    </tr>\n",
       "    <tr>\n",
       "      <th>2020-02-03 09:46:28</th>\n",
       "      <td>2020-02-02 23:51:16</td>\n",
       "      <td>-35.615</td>\n",
       "      <td>148.801</td>\n",
       "      <td>66</td>\n",
       "      <td>MOD14</td>\n",
       "      <td>TERRA</td>\n",
       "      <td>MODIS</td>\n",
       "      <td>32.8</td>\n",
       "      <td>2020-02-03 09:46:28</td>\n",
       "      <td>POINT (148.80100 -35.61500)</td>\n",
       "    </tr>\n",
       "    <tr>\n",
       "      <th>2020-02-03 09:47:22</th>\n",
       "      <td>2020-02-02 23:51:16</td>\n",
       "      <td>-35.652</td>\n",
       "      <td>149.026</td>\n",
       "      <td>68</td>\n",
       "      <td>MOD14</td>\n",
       "      <td>TERRA</td>\n",
       "      <td>MODIS</td>\n",
       "      <td>23.8</td>\n",
       "      <td>2020-02-03 09:47:22</td>\n",
       "      <td>POINT (149.02600 -35.65200)</td>\n",
       "    </tr>\n",
       "    <tr>\n",
       "      <th>2020-02-03 09:46:27</th>\n",
       "      <td>2020-02-02 23:51:16</td>\n",
       "      <td>-35.624</td>\n",
       "      <td>148.798</td>\n",
       "      <td>73</td>\n",
       "      <td>MOD14</td>\n",
       "      <td>TERRA</td>\n",
       "      <td>MODIS</td>\n",
       "      <td>42.6</td>\n",
       "      <td>2020-02-03 09:46:27</td>\n",
       "      <td>POINT (148.79800 -35.62400)</td>\n",
       "    </tr>\n",
       "    <tr>\n",
       "      <th>2020-02-03 09:46:30</th>\n",
       "      <td>2020-02-02 23:51:16</td>\n",
       "      <td>-35.626</td>\n",
       "      <td>148.810</td>\n",
       "      <td>100</td>\n",
       "      <td>MOD14</td>\n",
       "      <td>TERRA</td>\n",
       "      <td>MODIS</td>\n",
       "      <td>197.2</td>\n",
       "      <td>2020-02-03 09:46:30</td>\n",
       "      <td>POINT (148.81000 -35.62600)</td>\n",
       "    </tr>\n",
       "    <tr>\n",
       "      <th>...</th>\n",
       "      <td>...</td>\n",
       "      <td>...</td>\n",
       "      <td>...</td>\n",
       "      <td>...</td>\n",
       "      <td>...</td>\n",
       "      <td>...</td>\n",
       "      <td>...</td>\n",
       "      <td>...</td>\n",
       "      <td>...</td>\n",
       "      <td>...</td>\n",
       "    </tr>\n",
       "    <tr>\n",
       "      <th>2020-04-22 09:27:58</th>\n",
       "      <td>2020-04-21 23:15:42</td>\n",
       "      <td>-25.980</td>\n",
       "      <td>153.070</td>\n",
       "      <td>50</td>\n",
       "      <td>SRSS</td>\n",
       "      <td>TERRA</td>\n",
       "      <td>MODIS</td>\n",
       "      <td>12.8</td>\n",
       "      <td>2020-04-22 09:27:58</td>\n",
       "      <td>POINT (153.07000 -25.98000)</td>\n",
       "    </tr>\n",
       "    <tr>\n",
       "      <th>2020-04-22 09:27:56</th>\n",
       "      <td>2020-04-21 23:15:42</td>\n",
       "      <td>-25.980</td>\n",
       "      <td>153.060</td>\n",
       "      <td>50</td>\n",
       "      <td>SRSS</td>\n",
       "      <td>TERRA</td>\n",
       "      <td>MODIS</td>\n",
       "      <td>12.8</td>\n",
       "      <td>2020-04-22 09:27:56</td>\n",
       "      <td>POINT (153.06000 -25.98000)</td>\n",
       "    </tr>\n",
       "    <tr>\n",
       "      <th>2020-04-22 09:27:54</th>\n",
       "      <td>2020-04-21 23:15:42</td>\n",
       "      <td>-25.980</td>\n",
       "      <td>153.050</td>\n",
       "      <td>50</td>\n",
       "      <td>SRSS</td>\n",
       "      <td>TERRA</td>\n",
       "      <td>MODIS</td>\n",
       "      <td>12.9</td>\n",
       "      <td>2020-04-22 09:27:54</td>\n",
       "      <td>POINT (153.05000 -25.98000)</td>\n",
       "    </tr>\n",
       "    <tr>\n",
       "      <th>2020-04-22 09:27:54</th>\n",
       "      <td>2020-04-21 23:15:42</td>\n",
       "      <td>-25.970</td>\n",
       "      <td>153.050</td>\n",
       "      <td>50</td>\n",
       "      <td>SRSS</td>\n",
       "      <td>TERRA</td>\n",
       "      <td>MODIS</td>\n",
       "      <td>12.9</td>\n",
       "      <td>2020-04-22 09:27:54</td>\n",
       "      <td>POINT (153.05000 -25.97000)</td>\n",
       "    </tr>\n",
       "    <tr>\n",
       "      <th>2020-04-22 09:27:57</th>\n",
       "      <td>2020-04-21 23:15:42</td>\n",
       "      <td>-25.974</td>\n",
       "      <td>153.065</td>\n",
       "      <td>55</td>\n",
       "      <td>MOD14</td>\n",
       "      <td>TERRA</td>\n",
       "      <td>MODIS</td>\n",
       "      <td>80.7</td>\n",
       "      <td>2020-04-22 09:27:57</td>\n",
       "      <td>POINT (153.06500 -25.97400)</td>\n",
       "    </tr>\n",
       "  </tbody>\n",
       "</table>\n",
       "<p>238819 rows × 10 columns</p>\n",
       "</div>"
      ],
      "text/plain": [
       "                               datetime  latitude  longitude  confidence  \\\n",
       "2020-02-03 09:46:58 2020-02-02 23:51:16   -35.777    148.927         100   \n",
       "2020-02-03 09:46:28 2020-02-02 23:51:16   -35.615    148.801          66   \n",
       "2020-02-03 09:47:22 2020-02-02 23:51:16   -35.652    149.026          68   \n",
       "2020-02-03 09:46:27 2020-02-02 23:51:16   -35.624    148.798          73   \n",
       "2020-02-03 09:46:30 2020-02-02 23:51:16   -35.626    148.810         100   \n",
       "...                                 ...       ...        ...         ...   \n",
       "2020-04-22 09:27:58 2020-04-21 23:15:42   -25.980    153.070          50   \n",
       "2020-04-22 09:27:56 2020-04-21 23:15:42   -25.980    153.060          50   \n",
       "2020-04-22 09:27:54 2020-04-21 23:15:42   -25.980    153.050          50   \n",
       "2020-04-22 09:27:54 2020-04-21 23:15:42   -25.970    153.050          50   \n",
       "2020-04-22 09:27:57 2020-04-21 23:15:42   -25.974    153.065          55   \n",
       "\n",
       "                    product satellite sensor  power           solar_day  \\\n",
       "2020-02-03 09:46:58   MOD14     TERRA  MODIS  123.6 2020-02-03 09:46:58   \n",
       "2020-02-03 09:46:28   MOD14     TERRA  MODIS   32.8 2020-02-03 09:46:28   \n",
       "2020-02-03 09:47:22   MOD14     TERRA  MODIS   23.8 2020-02-03 09:47:22   \n",
       "2020-02-03 09:46:27   MOD14     TERRA  MODIS   42.6 2020-02-03 09:46:27   \n",
       "2020-02-03 09:46:30   MOD14     TERRA  MODIS  197.2 2020-02-03 09:46:30   \n",
       "...                     ...       ...    ...    ...                 ...   \n",
       "2020-04-22 09:27:58    SRSS     TERRA  MODIS   12.8 2020-04-22 09:27:58   \n",
       "2020-04-22 09:27:56    SRSS     TERRA  MODIS   12.8 2020-04-22 09:27:56   \n",
       "2020-04-22 09:27:54    SRSS     TERRA  MODIS   12.9 2020-04-22 09:27:54   \n",
       "2020-04-22 09:27:54    SRSS     TERRA  MODIS   12.9 2020-04-22 09:27:54   \n",
       "2020-04-22 09:27:57   MOD14     TERRA  MODIS   80.7 2020-04-22 09:27:57   \n",
       "\n",
       "                                        geometry  \n",
       "2020-02-03 09:46:58  POINT (148.92700 -35.77700)  \n",
       "2020-02-03 09:46:28  POINT (148.80100 -35.61500)  \n",
       "2020-02-03 09:47:22  POINT (149.02600 -35.65200)  \n",
       "2020-02-03 09:46:27  POINT (148.79800 -35.62400)  \n",
       "2020-02-03 09:46:30  POINT (148.81000 -35.62600)  \n",
       "...                                          ...  \n",
       "2020-04-22 09:27:58  POINT (153.07000 -25.98000)  \n",
       "2020-04-22 09:27:56  POINT (153.06000 -25.98000)  \n",
       "2020-04-22 09:27:54  POINT (153.05000 -25.98000)  \n",
       "2020-04-22 09:27:54  POINT (153.05000 -25.97000)  \n",
       "2020-04-22 09:27:57  POINT (153.06500 -25.97400)  \n",
       "\n",
       "[238819 rows x 10 columns]"
      ]
     },
     "execution_count": 15,
     "metadata": {},
     "output_type": "execute_result"
    }
   ],
   "source": [
    "hotspots_gdf.set_index(pd.DatetimeIndex(hotspots_gdf.solar_day.values))\n"
   ]
  },
  {
   "cell_type": "code",
   "execution_count": 16,
   "metadata": {},
   "outputs": [
    {
     "data": {
      "text/html": [
       "<div>\n",
       "<style scoped>\n",
       "    .dataframe tbody tr th:only-of-type {\n",
       "        vertical-align: middle;\n",
       "    }\n",
       "\n",
       "    .dataframe tbody tr th {\n",
       "        vertical-align: top;\n",
       "    }\n",
       "\n",
       "    .dataframe thead th {\n",
       "        text-align: right;\n",
       "    }\n",
       "</style>\n",
       "<table border=\"1\" class=\"dataframe\">\n",
       "  <thead>\n",
       "    <tr style=\"text-align: right;\">\n",
       "      <th></th>\n",
       "      <th>F1_Fire_pixel_radiance</th>\n",
       "      <th>FRP_MWIR</th>\n",
       "      <th>FRP_SWIR</th>\n",
       "      <th>FRP_uncertainty_MWIR</th>\n",
       "      <th>FRP_uncertainty_SWIR</th>\n",
       "      <th>Glint_angle</th>\n",
       "      <th>IFOV_area</th>\n",
       "      <th>Radiance_window</th>\n",
       "      <th>S7_Fire_pixel_radiance</th>\n",
       "      <th>TCWV</th>\n",
       "      <th>...</th>\n",
       "      <th>time</th>\n",
       "      <th>transmittance_MWIR</th>\n",
       "      <th>transmittance_SWIR</th>\n",
       "      <th>used_channel</th>\n",
       "      <th>satellite</th>\n",
       "      <th>sensor</th>\n",
       "      <th>date</th>\n",
       "      <th>solar_day</th>\n",
       "      <th>geometry</th>\n",
       "      <th>datetime</th>\n",
       "    </tr>\n",
       "  </thead>\n",
       "  <tbody>\n",
       "    <tr>\n",
       "      <th>2020-02-02 22:11:07</th>\n",
       "      <td>0.17</td>\n",
       "      <td>9.095869</td>\n",
       "      <td>9.68015</td>\n",
       "      <td>1.075820</td>\n",
       "      <td>14.428136</td>\n",
       "      <td>100.000987</td>\n",
       "      <td>1498243.500</td>\n",
       "      <td>0.16</td>\n",
       "      <td>0.45</td>\n",
       "      <td>15.562044</td>\n",
       "      <td>...</td>\n",
       "      <td>633960916768279</td>\n",
       "      <td>0.802744</td>\n",
       "      <td>1.619436</td>\n",
       "      <td>0</td>\n",
       "      <td>S3A</td>\n",
       "      <td>SLSTR</td>\n",
       "      <td>2020-02-02T12:15:16</td>\n",
       "      <td>2020-02-02 22:11:07</td>\n",
       "      <td>POINT (148.96626 -37.22027)</td>\n",
       "      <td>2020-02-02 12:15:16</td>\n",
       "    </tr>\n",
       "    <tr>\n",
       "      <th>2020-02-02 22:10:17</th>\n",
       "      <td>0.26</td>\n",
       "      <td>2.933022</td>\n",
       "      <td>-1.00000</td>\n",
       "      <td>1.098716</td>\n",
       "      <td>0.000000</td>\n",
       "      <td>98.470242</td>\n",
       "      <td>1543194.000</td>\n",
       "      <td>0.21</td>\n",
       "      <td>0.30</td>\n",
       "      <td>15.498196</td>\n",
       "      <td>...</td>\n",
       "      <td>633960917969608</td>\n",
       "      <td>0.801471</td>\n",
       "      <td>-1.000000</td>\n",
       "      <td>0</td>\n",
       "      <td>S3A</td>\n",
       "      <td>SLSTR</td>\n",
       "      <td>2020-02-02T12:15:17</td>\n",
       "      <td>2020-02-02 22:10:17</td>\n",
       "      <td>POINT (148.75155 -37.25186)</td>\n",
       "      <td>2020-02-02 12:15:17</td>\n",
       "    </tr>\n",
       "    <tr>\n",
       "      <th>2020-02-02 22:10:14</th>\n",
       "      <td>0.44</td>\n",
       "      <td>4.478996</td>\n",
       "      <td>-1.00000</td>\n",
       "      <td>1.449789</td>\n",
       "      <td>0.000000</td>\n",
       "      <td>98.394357</td>\n",
       "      <td>1545956.875</td>\n",
       "      <td>0.24</td>\n",
       "      <td>0.37</td>\n",
       "      <td>15.531377</td>\n",
       "      <td>...</td>\n",
       "      <td>633960917969690</td>\n",
       "      <td>0.801227</td>\n",
       "      <td>-1.000000</td>\n",
       "      <td>0</td>\n",
       "      <td>S3A</td>\n",
       "      <td>SLSTR</td>\n",
       "      <td>2020-02-02T12:15:17</td>\n",
       "      <td>2020-02-02 22:10:14</td>\n",
       "      <td>POINT (148.73992 -37.25800)</td>\n",
       "      <td>2020-02-02 12:15:17</td>\n",
       "    </tr>\n",
       "    <tr>\n",
       "      <th>2020-02-02 22:11:10</th>\n",
       "      <td>0.16</td>\n",
       "      <td>4.994986</td>\n",
       "      <td>-1.00000</td>\n",
       "      <td>0.550582</td>\n",
       "      <td>0.000000</td>\n",
       "      <td>100.082946</td>\n",
       "      <td>1495717.750</td>\n",
       "      <td>0.15</td>\n",
       "      <td>0.31</td>\n",
       "      <td>15.538684</td>\n",
       "      <td>...</td>\n",
       "      <td>633960917068182</td>\n",
       "      <td>0.802935</td>\n",
       "      <td>-1.000000</td>\n",
       "      <td>0</td>\n",
       "      <td>S3A</td>\n",
       "      <td>SLSTR</td>\n",
       "      <td>2020-02-02T12:15:17</td>\n",
       "      <td>2020-02-02 22:11:10</td>\n",
       "      <td>POINT (148.97391 -37.20723)</td>\n",
       "      <td>2020-02-02 12:15:17</td>\n",
       "    </tr>\n",
       "    <tr>\n",
       "      <th>2020-02-02 22:11:08</th>\n",
       "      <td>0.63</td>\n",
       "      <td>17.271609</td>\n",
       "      <td>-1.00000</td>\n",
       "      <td>1.759986</td>\n",
       "      <td>0.000000</td>\n",
       "      <td>100.006031</td>\n",
       "      <td>1498243.500</td>\n",
       "      <td>0.16</td>\n",
       "      <td>0.70</td>\n",
       "      <td>15.505946</td>\n",
       "      <td>...</td>\n",
       "      <td>633960917068264</td>\n",
       "      <td>0.803017</td>\n",
       "      <td>-1.000000</td>\n",
       "      <td>0</td>\n",
       "      <td>S3A</td>\n",
       "      <td>SLSTR</td>\n",
       "      <td>2020-02-02T12:15:17</td>\n",
       "      <td>2020-02-02 22:11:08</td>\n",
       "      <td>POINT (148.96274 -37.21304)</td>\n",
       "      <td>2020-02-02 12:15:17</td>\n",
       "    </tr>\n",
       "    <tr>\n",
       "      <th>...</th>\n",
       "      <td>...</td>\n",
       "      <td>...</td>\n",
       "      <td>...</td>\n",
       "      <td>...</td>\n",
       "      <td>...</td>\n",
       "      <td>...</td>\n",
       "      <td>...</td>\n",
       "      <td>...</td>\n",
       "      <td>...</td>\n",
       "      <td>...</td>\n",
       "      <td>...</td>\n",
       "      <td>...</td>\n",
       "      <td>...</td>\n",
       "      <td>...</td>\n",
       "      <td>...</td>\n",
       "      <td>...</td>\n",
       "      <td>...</td>\n",
       "      <td>...</td>\n",
       "      <td>...</td>\n",
       "      <td>...</td>\n",
       "      <td>...</td>\n",
       "    </tr>\n",
       "    <tr>\n",
       "      <th>2020-04-22 09:32:34</th>\n",
       "      <td>0.43</td>\n",
       "      <td>9.080075</td>\n",
       "      <td>-1.00000</td>\n",
       "      <td>0.968183</td>\n",
       "      <td>0.000000</td>\n",
       "      <td>66.657121</td>\n",
       "      <td>1156394.500</td>\n",
       "      <td>0.28</td>\n",
       "      <td>0.67</td>\n",
       "      <td>10.377250</td>\n",
       "      <td>...</td>\n",
       "      <td>640827905944053</td>\n",
       "      <td>0.842408</td>\n",
       "      <td>0.000000</td>\n",
       "      <td>0</td>\n",
       "      <td>S3B</td>\n",
       "      <td>SLSTR</td>\n",
       "      <td>2020-04-21T23:45:05</td>\n",
       "      <td>2020-04-22 09:32:34</td>\n",
       "      <td>POINT (146.87343 -36.68392)</td>\n",
       "      <td>2020-04-21 23:45:05</td>\n",
       "    </tr>\n",
       "    <tr>\n",
       "      <th>2020-04-22 09:47:10</th>\n",
       "      <td>0.47</td>\n",
       "      <td>16.401955</td>\n",
       "      <td>-1.00000</td>\n",
       "      <td>1.955553</td>\n",
       "      <td>0.000000</td>\n",
       "      <td>52.845568</td>\n",
       "      <td>0.000</td>\n",
       "      <td>0.47</td>\n",
       "      <td>0.74</td>\n",
       "      <td>13.567919</td>\n",
       "      <td>...</td>\n",
       "      <td>640830231514760</td>\n",
       "      <td>0.819852</td>\n",
       "      <td>0.000000</td>\n",
       "      <td>1</td>\n",
       "      <td>S3A</td>\n",
       "      <td>SLSTR</td>\n",
       "      <td>2020-04-22T00:23:51</td>\n",
       "      <td>2020-04-22 09:47:10</td>\n",
       "      <td>POINT (140.83282 -34.09221)</td>\n",
       "      <td>2020-04-22 00:23:51</td>\n",
       "    </tr>\n",
       "    <tr>\n",
       "      <th>2020-04-22 10:01:18</th>\n",
       "      <td>0.84</td>\n",
       "      <td>10.207374</td>\n",
       "      <td>-1.00000</td>\n",
       "      <td>2.661284</td>\n",
       "      <td>0.000000</td>\n",
       "      <td>34.458620</td>\n",
       "      <td>0.000</td>\n",
       "      <td>0.56</td>\n",
       "      <td>0.74</td>\n",
       "      <td>53.808964</td>\n",
       "      <td>...</td>\n",
       "      <td>640835697549905</td>\n",
       "      <td>0.666571</td>\n",
       "      <td>0.000000</td>\n",
       "      <td>1</td>\n",
       "      <td>S3A</td>\n",
       "      <td>SLSTR</td>\n",
       "      <td>2020-04-22T01:54:57</td>\n",
       "      <td>2020-04-22 10:01:18</td>\n",
       "      <td>POINT (121.59141 1.04187)</td>\n",
       "      <td>2020-04-22 01:54:57</td>\n",
       "    </tr>\n",
       "    <tr>\n",
       "      <th>2020-04-22 10:13:33</th>\n",
       "      <td>0.76</td>\n",
       "      <td>15.103070</td>\n",
       "      <td>-1.00000</td>\n",
       "      <td>1.770896</td>\n",
       "      <td>0.000000</td>\n",
       "      <td>19.488487</td>\n",
       "      <td>0.000</td>\n",
       "      <td>0.49</td>\n",
       "      <td>0.73</td>\n",
       "      <td>48.303738</td>\n",
       "      <td>...</td>\n",
       "      <td>640835748877024</td>\n",
       "      <td>0.658864</td>\n",
       "      <td>0.000000</td>\n",
       "      <td>1</td>\n",
       "      <td>S3A</td>\n",
       "      <td>SLSTR</td>\n",
       "      <td>2020-04-22T01:55:48</td>\n",
       "      <td>2020-04-22 10:13:33</td>\n",
       "      <td>POINT (124.43958 -1.97301)</td>\n",
       "      <td>2020-04-22 01:55:48</td>\n",
       "    </tr>\n",
       "    <tr>\n",
       "      <th>2020-04-22 09:48:47</th>\n",
       "      <td>0.30</td>\n",
       "      <td>29.789314</td>\n",
       "      <td>-1.00000</td>\n",
       "      <td>3.022599</td>\n",
       "      <td>0.000000</td>\n",
       "      <td>51.430811</td>\n",
       "      <td>0.000</td>\n",
       "      <td>0.24</td>\n",
       "      <td>0.74</td>\n",
       "      <td>21.694043</td>\n",
       "      <td>...</td>\n",
       "      <td>640836296943695</td>\n",
       "      <td>0.778945</td>\n",
       "      <td>0.000000</td>\n",
       "      <td>1</td>\n",
       "      <td>S3A</td>\n",
       "      <td>SLSTR</td>\n",
       "      <td>2020-04-22T02:04:56</td>\n",
       "      <td>2020-04-22 09:48:47</td>\n",
       "      <td>POINT (115.96426 -34.43692)</td>\n",
       "      <td>2020-04-22 02:04:56</td>\n",
       "    </tr>\n",
       "  </tbody>\n",
       "</table>\n",
       "<p>403736 rows × 30 columns</p>\n",
       "</div>"
      ],
      "text/plain": [
       "                     F1_Fire_pixel_radiance   FRP_MWIR  FRP_SWIR  \\\n",
       "2020-02-02 22:11:07                    0.17   9.095869   9.68015   \n",
       "2020-02-02 22:10:17                    0.26   2.933022  -1.00000   \n",
       "2020-02-02 22:10:14                    0.44   4.478996  -1.00000   \n",
       "2020-02-02 22:11:10                    0.16   4.994986  -1.00000   \n",
       "2020-02-02 22:11:08                    0.63  17.271609  -1.00000   \n",
       "...                                     ...        ...       ...   \n",
       "2020-04-22 09:32:34                    0.43   9.080075  -1.00000   \n",
       "2020-04-22 09:47:10                    0.47  16.401955  -1.00000   \n",
       "2020-04-22 10:01:18                    0.84  10.207374  -1.00000   \n",
       "2020-04-22 10:13:33                    0.76  15.103070  -1.00000   \n",
       "2020-04-22 09:48:47                    0.30  29.789314  -1.00000   \n",
       "\n",
       "                     FRP_uncertainty_MWIR  FRP_uncertainty_SWIR  Glint_angle  \\\n",
       "2020-02-02 22:11:07              1.075820             14.428136   100.000987   \n",
       "2020-02-02 22:10:17              1.098716              0.000000    98.470242   \n",
       "2020-02-02 22:10:14              1.449789              0.000000    98.394357   \n",
       "2020-02-02 22:11:10              0.550582              0.000000   100.082946   \n",
       "2020-02-02 22:11:08              1.759986              0.000000   100.006031   \n",
       "...                                   ...                   ...          ...   \n",
       "2020-04-22 09:32:34              0.968183              0.000000    66.657121   \n",
       "2020-04-22 09:47:10              1.955553              0.000000    52.845568   \n",
       "2020-04-22 10:01:18              2.661284              0.000000    34.458620   \n",
       "2020-04-22 10:13:33              1.770896              0.000000    19.488487   \n",
       "2020-04-22 09:48:47              3.022599              0.000000    51.430811   \n",
       "\n",
       "                       IFOV_area  Radiance_window  S7_Fire_pixel_radiance  \\\n",
       "2020-02-02 22:11:07  1498243.500             0.16                    0.45   \n",
       "2020-02-02 22:10:17  1543194.000             0.21                    0.30   \n",
       "2020-02-02 22:10:14  1545956.875             0.24                    0.37   \n",
       "2020-02-02 22:11:10  1495717.750             0.15                    0.31   \n",
       "2020-02-02 22:11:08  1498243.500             0.16                    0.70   \n",
       "...                          ...              ...                     ...   \n",
       "2020-04-22 09:32:34  1156394.500             0.28                    0.67   \n",
       "2020-04-22 09:47:10        0.000             0.47                    0.74   \n",
       "2020-04-22 10:01:18        0.000             0.56                    0.74   \n",
       "2020-04-22 10:13:33        0.000             0.49                    0.73   \n",
       "2020-04-22 09:48:47        0.000             0.24                    0.74   \n",
       "\n",
       "                          TCWV  ...             time  transmittance_MWIR  \\\n",
       "2020-02-02 22:11:07  15.562044  ...  633960916768279            0.802744   \n",
       "2020-02-02 22:10:17  15.498196  ...  633960917969608            0.801471   \n",
       "2020-02-02 22:10:14  15.531377  ...  633960917969690            0.801227   \n",
       "2020-02-02 22:11:10  15.538684  ...  633960917068182            0.802935   \n",
       "2020-02-02 22:11:08  15.505946  ...  633960917068264            0.803017   \n",
       "...                        ...  ...              ...                 ...   \n",
       "2020-04-22 09:32:34  10.377250  ...  640827905944053            0.842408   \n",
       "2020-04-22 09:47:10  13.567919  ...  640830231514760            0.819852   \n",
       "2020-04-22 10:01:18  53.808964  ...  640835697549905            0.666571   \n",
       "2020-04-22 10:13:33  48.303738  ...  640835748877024            0.658864   \n",
       "2020-04-22 09:48:47  21.694043  ...  640836296943695            0.778945   \n",
       "\n",
       "                     transmittance_SWIR  used_channel  satellite  sensor  \\\n",
       "2020-02-02 22:11:07            1.619436             0        S3A   SLSTR   \n",
       "2020-02-02 22:10:17           -1.000000             0        S3A   SLSTR   \n",
       "2020-02-02 22:10:14           -1.000000             0        S3A   SLSTR   \n",
       "2020-02-02 22:11:10           -1.000000             0        S3A   SLSTR   \n",
       "2020-02-02 22:11:08           -1.000000             0        S3A   SLSTR   \n",
       "...                                 ...           ...        ...     ...   \n",
       "2020-04-22 09:32:34            0.000000             0        S3B   SLSTR   \n",
       "2020-04-22 09:47:10            0.000000             1        S3A   SLSTR   \n",
       "2020-04-22 10:01:18            0.000000             1        S3A   SLSTR   \n",
       "2020-04-22 10:13:33            0.000000             1        S3A   SLSTR   \n",
       "2020-04-22 09:48:47            0.000000             1        S3A   SLSTR   \n",
       "\n",
       "                                    date           solar_day  \\\n",
       "2020-02-02 22:11:07  2020-02-02T12:15:16 2020-02-02 22:11:07   \n",
       "2020-02-02 22:10:17  2020-02-02T12:15:17 2020-02-02 22:10:17   \n",
       "2020-02-02 22:10:14  2020-02-02T12:15:17 2020-02-02 22:10:14   \n",
       "2020-02-02 22:11:10  2020-02-02T12:15:17 2020-02-02 22:11:10   \n",
       "2020-02-02 22:11:08  2020-02-02T12:15:17 2020-02-02 22:11:08   \n",
       "...                                  ...                 ...   \n",
       "2020-04-22 09:32:34  2020-04-21T23:45:05 2020-04-22 09:32:34   \n",
       "2020-04-22 09:47:10  2020-04-22T00:23:51 2020-04-22 09:47:10   \n",
       "2020-04-22 10:01:18  2020-04-22T01:54:57 2020-04-22 10:01:18   \n",
       "2020-04-22 10:13:33  2020-04-22T01:55:48 2020-04-22 10:13:33   \n",
       "2020-04-22 09:48:47  2020-04-22T02:04:56 2020-04-22 09:48:47   \n",
       "\n",
       "                                        geometry            datetime  \n",
       "2020-02-02 22:11:07  POINT (148.96626 -37.22027) 2020-02-02 12:15:16  \n",
       "2020-02-02 22:10:17  POINT (148.75155 -37.25186) 2020-02-02 12:15:17  \n",
       "2020-02-02 22:10:14  POINT (148.73992 -37.25800) 2020-02-02 12:15:17  \n",
       "2020-02-02 22:11:10  POINT (148.97391 -37.20723) 2020-02-02 12:15:17  \n",
       "2020-02-02 22:11:08  POINT (148.96274 -37.21304) 2020-02-02 12:15:17  \n",
       "...                                          ...                 ...  \n",
       "2020-04-22 09:32:34  POINT (146.87343 -36.68392) 2020-04-21 23:45:05  \n",
       "2020-04-22 09:47:10  POINT (140.83282 -34.09221) 2020-04-22 00:23:51  \n",
       "2020-04-22 10:01:18    POINT (121.59141 1.04187) 2020-04-22 01:54:57  \n",
       "2020-04-22 10:13:33   POINT (124.43958 -1.97301) 2020-04-22 01:55:48  \n",
       "2020-04-22 09:48:47  POINT (115.96426 -34.43692) 2020-04-22 02:04:56  \n",
       "\n",
       "[403736 rows x 30 columns]"
      ]
     },
     "execution_count": 16,
     "metadata": {},
     "output_type": "execute_result"
    }
   ],
   "source": [
    "s3vthotspots.set_index(pd.DatetimeIndex(s3vthotspots.solar_day.values))"
   ]
  },
  {
   "cell_type": "markdown",
   "metadata": {},
   "source": [
    "# Run comparison matrix"
   ]
  },
  {
   "cell_type": "code",
   "execution_count": 17,
   "metadata": {},
   "outputs": [],
   "source": [
    "appended_dataframe = []\n",
    "\n",
    "# For each DEA Hotspots solar day group\n",
    "for name, group in hotspots_gdf.resample('D', on='solar_day'):\n",
    "    #print(group.datetime.max() - group.datetime.min(), name)\n",
    "    # TODO predict swaths for time interval\n",
    "    # and each S3 Hotspots solar day group\n",
    "    for s3name, s3group in s3vthotspots.resample('D', on='solar_day'):      \n",
    "        # where the solar days are the same\n",
    "        if (name == s3name):\n",
    "            # On each unique DEA Hotspots solar group\n",
    "            for product in products:\n",
    "                # each product represents a unique sensor, product and satellite\n",
    "               \n",
    "                dea_hotspot_product = (group[(group['sensor'] == product['sensor']) &\\\n",
    "                                            (group['product'] == product['product']) &\\\n",
    "                                            (group['satellite'] == product['satellite'])]).reset_index()\n",
    "                dea_hotspot_product['solar_date'] = name\n",
    "                # If one of the dataframes going into the nearest hotspot function is empty this fails so try except\n",
    "                \n",
    "                try:\n",
    "                    per_solarday_nearest_hotspots = ckdnearest(dea_hotspot_product , s3group.reset_index())\n",
    "                    \n",
    "                    appended_dataframe.append(per_solarday_nearest_hotspots)\n",
    "                except:\n",
    "                    logger.info('Skipping')\n",
    "                # Clip to common intersection of predicted swaths\n",
    "                \n",
    "dea_s3_nearest_hotspot_gdf = pd.concat(appended_dataframe)               "
   ]
  },
  {
   "cell_type": "markdown",
   "metadata": {},
   "source": [
    "# Add metres distance between two points"
   ]
  },
  {
   "cell_type": "code",
   "execution_count": 19,
   "metadata": {},
   "outputs": [],
   "source": [
    "dea_s3_nearest_hotspot_gdf['dist_m'] = dea_s3_nearest_hotspot_gdf.apply(lambda row: distance((row.latitude, row.longitude),(row['2_latitude'], row['2_longitude'])).meters, axis = 1)"
   ]
  },
  {
   "cell_type": "code",
   "execution_count": null,
   "metadata": {},
   "outputs": [],
   "source": [
    "#TODO polygon intersection (using satellite footprint tool and S3 geojson)\n",
    "#TODO match available Landsat and Sentinel 2 datasets with hotspots\n",
    "#TODO run fire detection on Landsat and Sentinel 2 - update attributes\n",
    "#TODO rerun the nearest test with S3 as the primary, as well as DEA Hotspots.\n",
    "#TODO add Himawari Hotspots from SRSS and WFABBA.\n",
    "#TODO add persistent hotspots and compare frequency of detection"
   ]
  },
  {
   "cell_type": "code",
   "execution_count": null,
   "metadata": {},
   "outputs": [],
   "source": [
    "# Questions to answer\n",
    "# How to define coincidence?\n",
    "# How to constrain results - based on confidence? and minimum allowable radius?\n",
    "# Perhaps groupby time should be a moving window of two days or only look at matching hotspots first detected early in the day?"
   ]
  },
  {
   "cell_type": "code",
   "execution_count": 20,
   "metadata": {},
   "outputs": [],
   "source": [
    "# Add product group attribute to DEA dataframe\n",
    "# TODO roll this up to the nearest comparison to simplify product handling\n",
    "dea_s3_nearest_hotspot_gdf['product_group'] = dea_s3_nearest_hotspot_gdf['satellite'].map(str) + '_' + dea_s3_nearest_hotspot_gdf['sensor'].map(str) + '_' + dea_s3_nearest_hotspot_gdf['product'].map(str)"
   ]
  },
  {
   "cell_type": "markdown",
   "metadata": {},
   "source": [
    "## MODIS vs S3"
   ]
  },
  {
   "cell_type": "code",
   "execution_count": null,
   "metadata": {},
   "outputs": [],
   "source": [
    "len(dea_s3_nearest_hotspot_gdf[(dea_s3_nearest_hotspot_gdf['confidence'] > 85) & \\\n",
    "                               (dea_s3_nearest_hotspot_gdf['2_confidence'] > 0.90) & \\\n",
    "                               (dea_s3_nearest_hotspot_gdf['dist'] < 0.05) & \\\n",
    "                               (dea_s3_nearest_hotspot_gdf['sensor'] == 'MODIS')])"
   ]
  },
  {
   "cell_type": "code",
   "execution_count": null,
   "metadata": {},
   "outputs": [],
   "source": [
    "len(dea_s3_nearest_hotspot_gdf[(dea_s3_nearest_hotspot_gdf['confidence'] > 85) & \\\n",
    "                               (dea_s3_nearest_hotspot_gdf['2_confidence'] > 0.90) &\\\n",
    "                               (dea_s3_nearest_hotspot_gdf['sensor'] == 'MODIS')])"
   ]
  },
  {
   "cell_type": "code",
   "execution_count": null,
   "metadata": {},
   "outputs": [],
   "source": [
    "dea_s3_nearest_hotspot_gdf[(dea_s3_nearest_hotspot_gdf['dist'] < 0.05) & (dea_s3_nearest_hotspot_gdf['sensor'] == 'MODIS')].plot()"
   ]
  },
  {
   "cell_type": "markdown",
   "metadata": {},
   "source": [
    "## AVHRR vs S3"
   ]
  },
  {
   "cell_type": "code",
   "execution_count": null,
   "metadata": {},
   "outputs": [],
   "source": [
    "len(dea_s3_nearest_hotspot_gdf[#(dea_s3_nearest_hotspot_gdf['confidence'] > 85) & \\\n",
    "                               (dea_s3_nearest_hotspot_gdf['2_confidence'] > 0.90) & \\\n",
    "    \n",
    "                               (dea_s3_nearest_hotspot_gdf['dist_m'] < 2000) & \\\n",
    "                               (dea_s3_nearest_hotspot_gdf['sensor'] == 'AVHRR')])"
   ]
  },
  {
   "cell_type": "code",
   "execution_count": null,
   "metadata": {},
   "outputs": [],
   "source": [
    "len(dea_s3_nearest_hotspot_gdf[#(dea_s3_nearest_hotspot_gdf['confidence'] > 85) & \\\n",
    "                               (dea_s3_nearest_hotspot_gdf['2_confidence'] > 0.90) & \\\n",
    "    \n",
    "                               (dea_s3_nearest_hotspot_gdf['sensor'] == 'AVHRR')])"
   ]
  },
  {
   "cell_type": "code",
   "execution_count": null,
   "metadata": {},
   "outputs": [],
   "source": [
    "dea_s3_nearest_hotspot_gdf[(dea_s3_nearest_hotspot_gdf['dist_m'] < 2000) & (dea_s3_nearest_hotspot_gdf['sensor'] == 'AVHRR')].plot()"
   ]
  },
  {
   "cell_type": "code",
   "execution_count": null,
   "metadata": {},
   "outputs": [],
   "source": [
    "len(dea_s3_nearest_hotspot_gdf[(dea_s3_nearest_hotspot_gdf['confidence'] > 85) & \\\n",
    "                               (dea_s3_nearest_hotspot_gdf['2_confidence'] > 0.90) & \\\n",
    "                               (dea_s3_nearest_hotspot_gdf['dist_m'] < 2000) & \\\n",
    "                               (dea_s3_nearest_hotspot_gdf['sensor'] == 'VIIRS')])"
   ]
  },
  {
   "cell_type": "code",
   "execution_count": null,
   "metadata": {},
   "outputs": [],
   "source": [
    "len(dea_s3_nearest_hotspot_gdf[(dea_s3_nearest_hotspot_gdf['confidence'] > 85) & \\\n",
    "                               (dea_s3_nearest_hotspot_gdf['2_confidence'] > 0.90) & \\\n",
    "                               #(dea_s3_nearest_hotspot_gdf['dist_m'] < 2000) & \\\n",
    "                               (dea_s3_nearest_hotspot_gdf['sensor'] == 'VIIRS')])"
   ]
  },
  {
   "cell_type": "code",
   "execution_count": null,
   "metadata": {},
   "outputs": [],
   "source": [
    "dea_s3_nearest_hotspot_gdf[(dea_s3_nearest_hotspot_gdf['dist_m'] < 2000) & (dea_s3_nearest_hotspot_gdf['sensor'] == 'VIIRS')].plot()"
   ]
  },
  {
   "cell_type": "code",
   "execution_count": null,
   "metadata": {},
   "outputs": [],
   "source": [
    "dea_s3_nearest_hotspot_gdf.to_csv('dea_s3_nearest_hotspot_gdf.csv')"
   ]
  },
  {
   "cell_type": "code",
   "execution_count": 56,
   "metadata": {},
   "outputs": [],
   "source": [
    "results = {}"
   ]
  },
  {
   "cell_type": "code",
   "execution_count": 57,
   "metadata": {},
   "outputs": [],
   "source": [
    "for product_group in set(dea_s3_nearest_hotspot_gdf['product_group']):\n",
    "    results[product_group+'_candidates'] = len(dea_s3_nearest_hotspot_gdf[(dea_s3_nearest_hotspot_gdf['confidence'] > 0) & (dea_s3_nearest_hotspot_gdf['2_confidence'] > 0) & (dea_s3_nearest_hotspot_gdf['product_group'] == product_group)])\n",
    "    results[product_group+'_matches'] = len(dea_s3_nearest_hotspot_gdf[(dea_s3_nearest_hotspot_gdf['confidence'] > 0) & (dea_s3_nearest_hotspot_gdf['2_confidence'] > 0) & (dea_s3_nearest_hotspot_gdf['dist_m'] < 2000) & (dea_s3_nearest_hotspot_gdf['product_group'] == product_group)])\n",
    "    results[product_group+'_percent_matched'] = (results[product_group+'_matches']/results[product_group+'_candidates'])*100"
   ]
  },
  {
   "cell_type": "code",
   "execution_count": 58,
   "metadata": {},
   "outputs": [
    {
     "data": {
      "text/plain": [
       "{'TERRA_MODIS_SRSS_candidates': 2055,\n",
       " 'TERRA_MODIS_SRSS_matches': 1134,\n",
       " 'TERRA_MODIS_SRSS_percent_matched': 55.18248175182482,\n",
       " 'SUOMI NPP_VIIRS_SRSS_candidates': 3258,\n",
       " 'SUOMI NPP_VIIRS_SRSS_matches': 493,\n",
       " 'SUOMI NPP_VIIRS_SRSS_percent_matched': 15.131982811540823,\n",
       " 'SUOMI NPP_VIIRS_EDR_candidates': 77,\n",
       " 'SUOMI NPP_VIIRS_EDR_matches': 8,\n",
       " 'SUOMI NPP_VIIRS_EDR_percent_matched': 10.38961038961039,\n",
       " 'AQUA_MODIS_SRSS_candidates': 2488,\n",
       " 'AQUA_MODIS_SRSS_matches': 677,\n",
       " 'AQUA_MODIS_SRSS_percent_matched': 27.21061093247588,\n",
       " 'SUOMI NPP_VIIRS_AFMOD_candidates': 6212,\n",
       " 'SUOMI NPP_VIIRS_AFMOD_matches': 1556,\n",
       " 'SUOMI NPP_VIIRS_AFMOD_percent_matched': 25.04829362524147,\n",
       " 'NOAA 19_AVHRR_SRSS_candidates': 724,\n",
       " 'NOAA 19_AVHRR_SRSS_matches': 280,\n",
       " 'NOAA 19_AVHRR_SRSS_percent_matched': 38.67403314917127,\n",
       " 'NOAA 20_VIIRS_SRSS_candidates': 2626,\n",
       " 'NOAA 20_VIIRS_SRSS_matches': 390,\n",
       " 'NOAA 20_VIIRS_SRSS_percent_matched': 14.85148514851485,\n",
       " 'TERRA_MODIS_MOD14_candidates': 2530,\n",
       " 'TERRA_MODIS_MOD14_matches': 1463,\n",
       " 'TERRA_MODIS_MOD14_percent_matched': 57.826086956521735,\n",
       " 'NOAA 19_AVHRR_GA_candidates': 76282,\n",
       " 'NOAA 19_AVHRR_GA_matches': 67,\n",
       " 'NOAA 19_AVHRR_GA_percent_matched': 0.08783199181982643,\n",
       " 'AQUA_MODIS_MOD14_candidates': 3642,\n",
       " 'AQUA_MODIS_MOD14_matches': 1132,\n",
       " 'AQUA_MODIS_MOD14_percent_matched': 31.081823174080174,\n",
       " 'NOAA 20_VIIRS_AFMOD_candidates': 4208,\n",
       " 'NOAA 20_VIIRS_AFMOD_matches': 1368,\n",
       " 'NOAA 20_VIIRS_AFMOD_percent_matched': 32.50950570342205}"
      ]
     },
     "execution_count": 58,
     "metadata": {},
     "output_type": "execute_result"
    }
   ],
   "source": [
    "results"
   ]
  },
  {
   "cell_type": "code",
   "execution_count": 37,
   "metadata": {},
   "outputs": [],
   "source": [
    "    results[i[product_group+'_matches']/results[product_group+'_candidates']"
   ]
  },
  {
   "cell_type": "code",
   "execution_count": null,
   "metadata": {},
   "outputs": [],
   "source": []
  }
 ],
 "metadata": {
  "kernelspec": {
   "display_name": "Python 3",
   "language": "python",
   "name": "python3"
  },
  "language_info": {
   "codemirror_mode": {
    "name": "ipython",
    "version": 3
   },
   "file_extension": ".py",
   "mimetype": "text/x-python",
   "name": "python",
   "nbconvert_exporter": "python",
   "pygments_lexer": "ipython3",
   "version": "3.7.6"
  }
 },
 "nbformat": 4,
 "nbformat_minor": 4
}
