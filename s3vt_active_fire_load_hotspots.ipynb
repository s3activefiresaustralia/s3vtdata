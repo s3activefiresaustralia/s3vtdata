{
 "cells": [
  {
   "cell_type": "code",
   "execution_count": 1,
   "metadata": {},
   "outputs": [],
   "source": [
    "import matplotlib\n",
    "import boto3\n",
    "from botocore.exceptions import ClientError\n",
    "from netCDF4 import Dataset\n",
    "import datetime as dt\n",
    "import json\n",
    "import geopandas as gpd\n",
    "import pandas as pd\n",
    "from shapely.geometry import Polygon\n",
    "import xmltodict\n",
    "import yaml\n",
    "import os\n",
    "import subprocess\n",
    "from datetime import date\n",
    "from datetime import datetime\n",
    "import logging\n",
    "logger = logging.getLogger()\n",
    "import os\n",
    "import netCDF4\n",
    "import numpy as np\n",
    "from scipy.spatial import cKDTree\n",
    "from shapely.geometry import Point"
   ]
  },
  {
   "cell_type": "code",
   "execution_count": 2,
   "metadata": {},
   "outputs": [],
   "source": [
    "logger.setLevel(level=logging.INFO)"
   ]
  },
  {
   "cell_type": "markdown",
   "metadata": {},
   "source": [
    "# Open configuration file and read paramters"
   ]
  },
  {
   "cell_type": "code",
   "execution_count": 115,
   "metadata": {},
   "outputs": [],
   "source": [
    "with open(r'config.yaml') as file:\n",
    "    configuration =  yaml.load(file, Loader=yaml.FullLoader)"
   ]
  },
  {
   "cell_type": "code",
   "execution_count": null,
   "metadata": {},
   "outputs": [],
   "source": [
    "for config in configuration['configurations']:\n",
    "    print(config)\n",
    "    username = config['username']\n",
    "    password = config['password']\n",
    "    url = config['url']\n",
    "    aoi = config['aoi']\n",
    "    awss3bucket = config['awss3bucket']\n",
    "    awskeyid = config['awskeyid']\n",
    "    awskeypass = config['awskeypass']"
   ]
  },
  {
   "cell_type": "markdown",
   "metadata": {},
   "source": [
    "# Functions"
   ]
  },
  {
   "cell_type": "code",
   "execution_count": 5,
   "metadata": {},
   "outputs": [],
   "source": [
    "def filter(sensors):\n",
    "\n",
    "    for sensordict in sensors:\n",
    "        \n",
    "        filter_string = ''\n",
    "        count = 0\n",
    "        \n",
    "        for sensor in sensordict.keys():\n",
    "            filter_string = filter_string+'(sensor=%27'+sensor+'%27%20AND%20(product=%27'\n",
    "            product_count = 0\n",
    "            for product in sensordict[sensor]:\n",
    "                filter_string = filter_string+product+'%27'\n",
    "                if product_count < (len(sensordict[sensor])-1):\n",
    "                    filter_string = filter_string+'%20OR%20product=%27'\n",
    "                else:\n",
    "                    filter_string = filter_string+'))' \n",
    "                product_count = product_count + 1\n",
    "            if count < (len(sensordict.keys())-1):        \n",
    "                filter_string = filter_string+'%20OR%20'\n",
    "            count = count+1\n",
    "\n",
    "    return(filter_string)"
   ]
  },
  {
   "cell_type": "code",
   "execution_count": 6,
   "metadata": {},
   "outputs": [],
   "source": [
    "def get_polygon_from_gml(gml_dict):\n",
    "    listoftuples = []\n",
    "    for i in list(gml_dict.split(\" \")):\n",
    "        pair = (float(i.split(',')[1]), float(i.split(',')[0]))\n",
    "        listoftuples.append(pair)\n",
    "    return(listoftuples)"
   ]
  },
  {
   "cell_type": "code",
   "execution_count": 7,
   "metadata": {},
   "outputs": [],
   "source": [
    "def load_hotspots(filter_string, time_period, bbox, max_features, min_confidence, to_date):\n",
    "    y_max = bbox[0]\n",
    "    x_min = bbox[1]\n",
    "    y_min = bbox[2]\n",
    "    x_max = bbox[3]\n",
    "    if to_date is None:\n",
    "        \n",
    "        to_date = dt.datetime.now()\n",
    "    \n",
    "    \n",
    "    from_date = (to_date - dt.timedelta(days=time_period)).strftime('%Y-%m-%d')\n",
    "    \n",
    "    # trim datetime to enable WFS \n",
    "    to_date = to_date.strftime('%Y-%m-%d')\n",
    "    logger.info(str(from_date)+' '+str(to_date))\n",
    "    \n",
    "    # TODO - sort out paging - looks like there is a limit to WFS requests number returned per query\n",
    "    logger.info(f\"https://hotspots.dea.ga.gov.au/geoserver/public/wfs?service=WFS&version=1.1.0&request=GetFeature&typeName=public:hotspots&outputFormat=application/json&CQL_FILTER=({filter_string})%20AND%20datetime%20%3E%20%27{from_date}%27%20AND%20datetime%20%3C%20%27{to_date}%27%20AND%20INTERSECTS(location,%20POLYGON(({y_max}%20{x_min},%20{y_max}%20{x_max},%20{y_min}%20{x_max},%20{y_min}%20{x_min},%20{y_max}%20{x_min})))&maxFeatures={max_features}&startIndex=0&sortBy=sensor%20A\")\n",
    "    url = f\"https://hotspots.dea.ga.gov.au/geoserver/public/wfs?service=WFS&version=1.1.0&request=GetFeature&typeName=public:hotspots&outputFormat=application/json&CQL_FILTER=({filter_string})%20AND%20datetime%20%3E%20%27{from_date}%27%20AND%20datetime%20%3C%20%27{to_date}%27%20AND%20INTERSECTS(location,%20POLYGON(({y_max}%20{x_min},%20{y_max}%20{x_max},%20{y_min}%20{x_max},%20{y_min}%20{x_min},%20{y_max}%20{x_min})))&maxFeatures={max_features}&startIndex=0&sortBy=sensor%20A\"\n",
    "    \n",
    "    hotspots_gdf = gpd.read_file(url)\n",
    "    #logger.info(str(hotspots_gdf['stop_dt']))\n",
    "    \n",
    "    # TODO - improved None value handling  -currently just look at first and apply that to all\n",
    "    if hotspots_gdf['confidence'][0] == None:\n",
    "        logger.info('Skipping confidence filter as confidence not populated')\n",
    "    else:\n",
    "\n",
    "        # Filter by confidence\n",
    "        hotspots_gdf = hotspots_gdf.loc[hotspots_gdf.confidence >= min_confidence]\n",
    "\n",
    "    # Fix datetime\n",
    "    if hotspots_gdf['start_dt'][0] == None:\n",
    "        logger.info('Start date field is not populated')\n",
    "        hotspots_gdf['datetime'] = pd.to_datetime(hotspots_gdf['datetime'])\n",
    "    else:\n",
    "        hotspots_gdf['datetime'] = pd.to_datetime(hotspots_gdf['start_dt'])\n",
    "\n",
    "    # Extract required columns\n",
    "    hotspots_gdf = hotspots_gdf.loc[:, [\n",
    "            'datetime', 'latitude', 'longitude', 'confidence', 'geometry', 'product', 'satellite', 'sensor', 'power'\n",
    "            ]]\n",
    "    hotspots_gdf.sort_values('datetime', ascending=True, inplace=True)\n",
    "    logger.info('Hotspots loaded successfully '+str(hotspots_gdf.geometry.total_bounds))\n",
    "\n",
    "    return(hotspots_gdf)"
   ]
  },
  {
   "cell_type": "code",
   "execution_count": 8,
   "metadata": {},
   "outputs": [],
   "source": [
    "def solar_day(utc, latitude):\n",
    "    SECONDS_PER_DEGREE = 240\n",
    "    offset_seconds = int(latitude * SECONDS_PER_DEGREE)\n",
    "    offset = np.timedelta64(offset_seconds, 's')\n",
    "    return (np.datetime64(utc) + offset).astype(datetime)"
   ]
  },
  {
   "cell_type": "markdown",
   "metadata": {},
   "source": [
    "# Assess inventory against AWS bucket listing"
   ]
  },
  {
   "cell_type": "code",
   "execution_count": 9,
   "metadata": {},
   "outputs": [
    {
     "name": "stdout",
     "output_type": "stream",
     "text": [
      "3452 S3 Hotspot files From ESA available in AWS S3\n"
     ]
    }
   ],
   "source": [
    "# Get bucket listing of image granules and hotspot files\n",
    "\n",
    "s3 = boto3.resource('s3', aws_access_key_id=awskeyid,\n",
    "                    aws_secret_access_key=awskeypass)\n",
    "\n",
    "s3folderlist = []\n",
    "s3geojsonlist = []\n",
    "s3bucket = s3.Bucket('s3vtaustralia')\n",
    "\n",
    "for bucket_object in s3bucket.objects.all():\n",
    "    s3bucketobject = str(bucket_object.key).split(\"/\")[2]\n",
    "    if '.SEN3' in s3bucketobject:\n",
    "        s3folderlist.append(s3bucketobject)\n",
    "    if '.FRP.geojson' in s3bucketobject:\n",
    "        s3geojsonlist.append(bucket_object.key)\n",
    "\n",
    "print(len(s3geojsonlist), \"S3 Hotspot files From ESA available in AWS S3\") "
   ]
  },
  {
   "cell_type": "code",
   "execution_count": 10,
   "metadata": {},
   "outputs": [
    {
     "name": "stdout",
     "output_type": "stream",
     "text": [
      "7644 S3 Granules From ESA available in AWS S3\n"
     ]
    }
   ],
   "source": [
    "print(len(set(s3folderlist)), \"S3 Granules From ESA available in AWS S3\") "
   ]
  },
  {
   "cell_type": "markdown",
   "metadata": {},
   "source": [
    "# Retrieve the file list inventory used to gather the S3 files"
   ]
  },
  {
   "cell_type": "code",
   "execution_count": 11,
   "metadata": {},
   "outputs": [],
   "source": [
    "# Get File List from server\n",
    "# Run this if no local inventory exists\n",
    "if not os.path.exists('s3vt_inventory.json'):\n",
    "    startrecord = 0\n",
    "\n",
    "    responselist = [] \n",
    "\n",
    "    # Determine number of records to retrieve\n",
    "    get_file_list(username, password, aoi, str(startrecord))\n",
    "    with open('filelist.txt') as results:\n",
    "        for i in results: \n",
    "            response = json.loads(i)\n",
    "            responselist.append(response)\n",
    "\n",
    "    upperlimit = int(response['feed']['opensearch:totalResults'])\n",
    "    upperlimit = 200\n",
    "    # Get the full list of records\n",
    "\n",
    "    while startrecord <= upperlimit:\n",
    "        startrecord = startrecord+100\n",
    "\n",
    "        get_file_list(username, password, aoi, str(startrecord)) \n",
    "        with open('filelist.txt') as results:\n",
    "            for i in results: responselist.append(json.loads(i))\n",
    "\n",
    "            # Dump the results to an inventory file\n",
    "            with open('s3vt_inventory.json', 'w') as f:\n",
    "                json.dump(responselist, f)"
   ]
  },
  {
   "cell_type": "markdown",
   "metadata": {},
   "source": [
    "# From the inventory - generate a vector fooprint"
   ]
  },
  {
   "cell_type": "code",
   "execution_count": 12,
   "metadata": {},
   "outputs": [],
   "source": [
    "# Read inventory to geopandas - write to geojson       \n",
    "        \n",
    "with open('s3vt_inventory.json') as inventory:\n",
    "    frames = []\n",
    "    for p in inventory:\n",
    "        pages = json.loads(p)\n",
    "                \n",
    "        for page in pages:\n",
    "            for page in pages:\n",
    "                try:\n",
    "                    \n",
    "                    for entry in page['feed']['entry']:\n",
    "\n",
    "                        df = pd.DataFrame.from_dict(entry, orient='index')\n",
    "\n",
    "                        polygon = get_polygon_from_gml(xmltodict.parse(entry['str'][2]['content'])['gml:Polygon']['gml:outerBoundaryIs']['gml:LinearRing']['gml:coordinates'])\n",
    "\n",
    "                        df = df.transpose()\n",
    "                        df['Coordinates'] = Polygon(polygon)\n",
    "                        for d in entry['str']:\n",
    "                            if d['name'] ==  'orbitdirection':\n",
    "                                df['orbitdirection'] = d['content']\n",
    "                            if d['name'] ==  'platformidentifier':\n",
    "                                df['platformidentifier'] = d['content'] \n",
    "                            if d['name'] ==  'filename':\n",
    "                                df['filename'] = d['content']\n",
    "                            if d['name'] ==  'instrumentshortname':\n",
    "                                df['instrumentshortname'] = d['content']\n",
    "                            if d['name'] ==  'passnumber':\n",
    "                                df['passnumber'] = d['content']        \n",
    "                        s3vtdf = gpd.GeoDataFrame(df, geometry='Coordinates')\n",
    "\n",
    "                        frames.append(s3vtdf)\n",
    "                                \n",
    "                except KeyError:\n",
    "                        logger.info(\"KeyError exception for get_polygon_from_gml()\")\n",
    "                        \n",
    "s3vtgpd = pd.concat(frames)\n",
    "\n",
    "# Not sure why we need to index but do it anyway\n",
    "s3vtgpd = s3vtgpd.reset_index(drop=True)\n",
    "s3vtgpd['date'] = pd.to_datetime(s3vtgpd.summary.str.split(\",\", expand= True)[0].str.split(' ', expand=True)[1])\n",
    "# Some fields are lists and geojson translation doesn't like it\n",
    "\n",
    "s3vtgpd = s3vtgpd.drop(['link', 'int', 'str', 'summary'], axis=1)\n",
    "s3vtgpd.to_file('s3vt_geometry.geojson', driver='GeoJSON')"
   ]
  },
  {
   "cell_type": "markdown",
   "metadata": {},
   "source": [
    "# Set up for checking inventory against files on AWS"
   ]
  },
  {
   "cell_type": "code",
   "execution_count": 13,
   "metadata": {},
   "outputs": [],
   "source": [
    "dataframelength = len(s3vtgpd)\n",
    "# Add field to enable monitoring\n",
    "s3vtgpd['hotspot'] = 0\n",
    "s3vtgpd['download'] = 0\n",
    "s3vtgpd['s3bucket'] = 0\n",
    "\n",
    "s3vthostpotsgpdlist = []"
   ]
  },
  {
   "cell_type": "markdown",
   "metadata": {},
   "source": [
    "# Run inventory check"
   ]
  },
  {
   "cell_type": "code",
   "execution_count": 14,
   "metadata": {},
   "outputs": [],
   "source": [
    "# Check if folder already downloaded and flag in gpd\n",
    "for i in range(dataframelength):\n",
    "    if s3vtgpd.loc[i]['title']+'.SEN3' in set(s3folderlist):\n",
    "        s3vtgpd.at[i, 'download'] = 1\n",
    "    if s3vtgpd.loc[i]['title']+'.FRP.geojson' in set(s3folderlist):\n",
    "        s3vtgpd.at[i, 'hotspot'] = 1\n",
    "        s3vthostpotsgpdlist.append(s3hotspotsgpd)"
   ]
  },
  {
   "cell_type": "markdown",
   "metadata": {},
   "source": [
    "# Sync GeoJSON to local machine"
   ]
  },
  {
   "cell_type": "code",
   "execution_count": 17,
   "metadata": {},
   "outputs": [
    {
     "data": {
      "text/plain": [
       "0"
      ]
     },
     "execution_count": 17,
     "metadata": {},
     "output_type": "execute_result"
    }
   ],
   "source": [
    "# Copy all S3 geojson files locally and load to GPD\n",
    "subprocess.call(['aws', 's3', 'sync', 's3://s3vtaustralia/', '.', '--exclude', '''*''', '--include', '''*.geojson''', '--dryrun'])\n",
    "\n",
    "#for i in s3geojsonlist:\n",
    "#    print(i)\n",
    "#    subprocess.call(['aws', 's3', 'sync', 's3://s3vtaustralia/'+i, i, '--dryrun'])"
   ]
  },
  {
   "cell_type": "markdown",
   "metadata": {},
   "source": [
    "# Filter hotspots based on limitations stated by UCL"
   ]
  },
  {
   "cell_type": "code",
   "execution_count": 18,
   "metadata": {},
   "outputs": [],
   "source": [
    "frames = []\n",
    "for i in s3geojsonlist:\n",
    "    df1 = gpd.read_file(i)\n",
    "    if 'S3A' in i:\n",
    "        df1['satellite'] = 'S3A'\n",
    "    else:\n",
    "        df1['satellite'] = 'S3B'\n",
    "    df1['sensor'] = 'SLSTR'\n",
    "    df2 = df1.query(\"FRP_MWIR>0\")\n",
    "    if len(df2) > 0:\n",
    "        frames.append(df2)\n",
    "        \n",
    "s3vthotspots = pd.concat(frames)\n",
    "#for i in s3geojsonlist:\n",
    "#    s3vtdf = gpd.GeoDataFrame(df, geometry='Coordinates')"
   ]
  },
  {
   "cell_type": "markdown",
   "metadata": {},
   "source": [
    "# Convert netcdf CF time to something pandas understands"
   ]
  },
  {
   "cell_type": "code",
   "execution_count": 19,
   "metadata": {},
   "outputs": [],
   "source": [
    "s3vthotspots['date'] = pd.to_datetime(netCDF4.num2date(s3vthotspots.time, units='microseconds since 2000-01-01T00:00:00Z', only_use_cftime_datetimes=False, only_use_python_datetimes=True))"
   ]
  },
  {
   "cell_type": "markdown",
   "metadata": {},
   "source": [
    "# Add solar day column to enable group by function"
   ]
  },
  {
   "cell_type": "code",
   "execution_count": 20,
   "metadata": {},
   "outputs": [],
   "source": [
    "s3vthotspots['solar_day'] = s3vthotspots.apply(lambda row: solar_day(row.date, row.latitude), axis = 1)"
   ]
  },
  {
   "cell_type": "markdown",
   "metadata": {},
   "source": [
    "# Write S3 Hotspots to GeoJSON"
   ]
  },
  {
   "cell_type": "code",
   "execution_count": 21,
   "metadata": {},
   "outputs": [],
   "source": [
    "s3vthotspots.to_file('s3vt_hotspots.geojson', driver='GeoJSON')"
   ]
  },
  {
   "cell_type": "code",
   "execution_count": 22,
   "metadata": {},
   "outputs": [
    {
     "data": {
      "text/plain": [
       "[12.234104969111854, -179.98885754557182, -46.4811018826465, 179.9494145456714]"
      ]
     },
     "execution_count": 22,
     "metadata": {},
     "output_type": "execute_result"
    }
   ],
   "source": [
    "bounds = list(s3vthotspots.geometry.total_bounds)\n",
    "bbox = [bounds[3], bounds[0], bounds[1], bounds[2]]\n",
    "bbox"
   ]
  },
  {
   "cell_type": "code",
   "execution_count": 23,
   "metadata": {
    "scrolled": true
   },
   "outputs": [],
   "source": [
    "# Get time bounds for DEA Hotspots query\n",
    "# TODO - AHI hotspots\n",
    "\n",
    "maxdate = s3vthotspots.date.max().to_datetime64()\n",
    "mindate = s3vthotspots.date.min().to_datetime64()\n",
    "to_date = dt.datetime.strptime(str(s3vthotspots.date.max().to_datetime64()), '%Y-%m-%dT%H:%M:%S.%f000') # '2018-01-01T00:00:00.000Z'"
   ]
  },
  {
   "cell_type": "code",
   "execution_count": 24,
   "metadata": {},
   "outputs": [],
   "source": [
    "time_period = int(str(np.timedelta64(maxdate - mindate, 'D')).split(' ')[0])"
   ]
  },
  {
   "cell_type": "code",
   "execution_count": 117,
   "metadata": {},
   "outputs": [],
   "source": [
    "for config in configuration['configurations']:\n",
    "    \n",
    "    hotspots_gdf = load_hotspots(filter(config['sensors']),\n",
    "                                         time_period,\n",
    "                                         bbox,\n",
    "                                         config['max_features'], \n",
    "                                         config['min_confidence'],\n",
    "                                         to_date)\n",
    "hotspots_gdf['solar_day'] = hotspots_gdf.apply(lambda row: solar_day(row.datetime, row.latitude), axis = 1) "
   ]
  },
  {
   "cell_type": "code",
   "execution_count": 118,
   "metadata": {},
   "outputs": [],
   "source": [
    "try:\n",
    "    os.remove('DEAHotspots_hotspots.geojson')\n",
    "except:\n",
    "    hotspots_gdf.to_file('DEAHotspots_hotspots.geojson', driver='GeoJSON')"
   ]
  },
  {
   "cell_type": "code",
   "execution_count": 27,
   "metadata": {},
   "outputs": [
    {
     "data": {
      "text/plain": [
       "Timestamp('2020-04-16 17:12:01')"
      ]
     },
     "execution_count": 27,
     "metadata": {},
     "output_type": "execute_result"
    }
   ],
   "source": [
    "hotspots_gdf.datetime.max()"
   ]
  },
  {
   "cell_type": "code",
   "execution_count": 28,
   "metadata": {},
   "outputs": [
    {
     "data": {
      "text/plain": [
       "Timestamp('2020-04-17 03:26:48.243559')"
      ]
     },
     "execution_count": 28,
     "metadata": {},
     "output_type": "execute_result"
    }
   ],
   "source": [
    "s3vthotspots.date.max()"
   ]
  },
  {
   "cell_type": "code",
   "execution_count": null,
   "metadata": {},
   "outputs": [],
   "source": [
    "s3vthotspots.plot()"
   ]
  },
  {
   "cell_type": "code",
   "execution_count": null,
   "metadata": {},
   "outputs": [],
   "source": [
    "hotspots_gdf.plot()"
   ]
  },
  {
   "cell_type": "markdown",
   "metadata": {},
   "source": [
    "# Load Hotspots to GeoPandas"
   ]
  },
  {
   "cell_type": "code",
   "execution_count": null,
   "metadata": {},
   "outputs": [],
   "source": [
    "hotspots_gdf = gpd.read_file('DEAHotspots_hotspots.geojson')"
   ]
  },
  {
   "cell_type": "code",
   "execution_count": null,
   "metadata": {},
   "outputs": [],
   "source": [
    "s3vthotspots = gpd.read_file('s3vt_hotspots.geojson')"
   ]
  },
  {
   "cell_type": "code",
   "execution_count": 52,
   "metadata": {},
   "outputs": [],
   "source": [
    "def ckdnearest(gdA, gdB):\n",
    "    nA = np.array(list(zip(gdA.geometry.x, gdA.geometry.y)) )\n",
    "    nB = np.array(list(zip(gdB.geometry.x, gdB.geometry.y)) )\n",
    "    btree = cKDTree(nB)\n",
    "    dist, idx = btree.query(nA, k=1)\n",
    "    gdf = pd.concat(\n",
    "        [gdA.reset_index(drop=True), gdB.loc[idx, gdB.columns != 'geometry'].reset_index(drop=True).add_prefix('2_'),\n",
    "         pd.Series(dist, name='dist')], axis=1)\n",
    "    return gdf\n",
    "\n"
   ]
  },
  {
   "cell_type": "code",
   "execution_count": 30,
   "metadata": {},
   "outputs": [
    {
     "data": {
      "text/plain": [
       "{'AQUA', 'NOAA 19', 'NOAA 20', 'SUOMI NPP', 'TERRA'}"
      ]
     },
     "execution_count": 30,
     "metadata": {},
     "output_type": "execute_result"
    }
   ],
   "source": [
    "set(hotspots_gdf.satellite)"
   ]
  },
  {
   "cell_type": "markdown",
   "metadata": {},
   "source": [
    "# Set products for comparison"
   ]
  },
  {
   "cell_type": "code",
   "execution_count": 119,
   "metadata": {
    "scrolled": true
   },
   "outputs": [],
   "source": [
    "products = [{'product': 'SRSS', 'sensor': 'MODIS', 'satellite': 'TERRA'},\n",
    " {'product': 'MOD14', 'sensor': 'MODIS', 'satellite': 'TERRA'},\n",
    " {'product': 'SRSS', 'sensor': 'MODIS', 'satellite': 'AQUA'},\n",
    " {'product': 'MOD14', 'sensor': 'MODIS', 'satellite': 'AQUA'},                        \n",
    " {'product': 'SRSS', 'sensor': 'AVHRR', 'satellite': 'NOAA 19'},\n",
    " {'product': 'GA', 'sensor': 'AVHRR', 'satellite': 'NOAA 19'},\n",
    " {'product': 'SRSS', 'sensor': 'VIIRS', 'satellite': 'NOAA 20'},\n",
    " {'product': 'AFMOD', 'sensor': 'VIIRS', 'satellite': 'NOAA 20'},\n",
    " {'product': 'EDR', 'sensor': 'VIIRS', 'satellite': 'NOAA 20'},\n",
    " {'product': 'SRSS', 'sensor': 'VIIRS', 'satellite': 'SUOMI NPP'},\n",
    " {'product': 'AFMOD', 'sensor': 'VIIRS', 'satellite': 'SUOMI NPP'},\n",
    " {'product': 'EDR', 'sensor': 'VIIRS', 'satellite': 'SUOMI NPP'}] "
   ]
  },
  {
   "cell_type": "markdown",
   "metadata": {},
   "source": [
    "# Index by solar time to enable groupby"
   ]
  },
  {
   "cell_type": "code",
   "execution_count": 120,
   "metadata": {},
   "outputs": [
    {
     "data": {
      "text/html": [
       "<div>\n",
       "<style scoped>\n",
       "    .dataframe tbody tr th:only-of-type {\n",
       "        vertical-align: middle;\n",
       "    }\n",
       "\n",
       "    .dataframe tbody tr th {\n",
       "        vertical-align: top;\n",
       "    }\n",
       "\n",
       "    .dataframe thead th {\n",
       "        text-align: right;\n",
       "    }\n",
       "</style>\n",
       "<table border=\"1\" class=\"dataframe\">\n",
       "  <thead>\n",
       "    <tr style=\"text-align: right;\">\n",
       "      <th></th>\n",
       "      <th>datetime</th>\n",
       "      <th>latitude</th>\n",
       "      <th>longitude</th>\n",
       "      <th>confidence</th>\n",
       "      <th>geometry</th>\n",
       "      <th>product</th>\n",
       "      <th>satellite</th>\n",
       "      <th>sensor</th>\n",
       "      <th>power</th>\n",
       "      <th>solar_day</th>\n",
       "    </tr>\n",
       "  </thead>\n",
       "  <tbody>\n",
       "    <tr>\n",
       "      <th>2020-02-02 21:28:45</th>\n",
       "      <td>2020-02-02 23:51:16</td>\n",
       "      <td>-35.6330</td>\n",
       "      <td>148.7960</td>\n",
       "      <td>66</td>\n",
       "      <td>POINT (148.79600 -35.63300)</td>\n",
       "      <td>MOD14</td>\n",
       "      <td>TERRA</td>\n",
       "      <td>MODIS</td>\n",
       "      <td>22.1</td>\n",
       "      <td>2020-02-02 21:28:45</td>\n",
       "    </tr>\n",
       "    <tr>\n",
       "      <th>2020-02-02 21:27:40</th>\n",
       "      <td>2020-02-02 23:51:16</td>\n",
       "      <td>-35.9010</td>\n",
       "      <td>149.0630</td>\n",
       "      <td>84</td>\n",
       "      <td>POINT (149.06300 -35.90100)</td>\n",
       "      <td>MOD14</td>\n",
       "      <td>TERRA</td>\n",
       "      <td>MODIS</td>\n",
       "      <td>45.9</td>\n",
       "      <td>2020-02-02 21:27:40</td>\n",
       "    </tr>\n",
       "    <tr>\n",
       "      <th>2020-02-02 21:28:10</th>\n",
       "      <td>2020-02-02 23:51:16</td>\n",
       "      <td>-35.7750</td>\n",
       "      <td>148.9160</td>\n",
       "      <td>99</td>\n",
       "      <td>POINT (148.91600 -35.77500)</td>\n",
       "      <td>MOD14</td>\n",
       "      <td>TERRA</td>\n",
       "      <td>MODIS</td>\n",
       "      <td>84.0</td>\n",
       "      <td>2020-02-02 21:28:10</td>\n",
       "    </tr>\n",
       "    <tr>\n",
       "      <th>2020-02-02 21:27:42</th>\n",
       "      <td>2020-02-02 23:51:16</td>\n",
       "      <td>-35.8920</td>\n",
       "      <td>149.0660</td>\n",
       "      <td>64</td>\n",
       "      <td>POINT (149.06600 -35.89200)</td>\n",
       "      <td>MOD14</td>\n",
       "      <td>TERRA</td>\n",
       "      <td>MODIS</td>\n",
       "      <td>24.8</td>\n",
       "      <td>2020-02-02 21:27:42</td>\n",
       "    </tr>\n",
       "    <tr>\n",
       "      <th>2020-02-02 21:28:51</th>\n",
       "      <td>2020-02-02 23:51:16</td>\n",
       "      <td>-35.6050</td>\n",
       "      <td>148.8030</td>\n",
       "      <td>83</td>\n",
       "      <td>POINT (148.80300 -35.60500)</td>\n",
       "      <td>MOD14</td>\n",
       "      <td>TERRA</td>\n",
       "      <td>MODIS</td>\n",
       "      <td>32.8</td>\n",
       "      <td>2020-02-02 21:28:51</td>\n",
       "    </tr>\n",
       "    <tr>\n",
       "      <th>...</th>\n",
       "      <td>...</td>\n",
       "      <td>...</td>\n",
       "      <td>...</td>\n",
       "      <td>...</td>\n",
       "      <td>...</td>\n",
       "      <td>...</td>\n",
       "      <td>...</td>\n",
       "      <td>...</td>\n",
       "      <td>...</td>\n",
       "      <td>...</td>\n",
       "    </tr>\n",
       "    <tr>\n",
       "      <th>2020-04-16 14:54:46</th>\n",
       "      <td>2020-04-16 17:12:01</td>\n",
       "      <td>-34.3143</td>\n",
       "      <td>115.9872</td>\n",
       "      <td>86</td>\n",
       "      <td>POINT (115.98716 -34.31432)</td>\n",
       "      <td>AFMOD</td>\n",
       "      <td>NOAA 20</td>\n",
       "      <td>VIIRS</td>\n",
       "      <td>10.9</td>\n",
       "      <td>2020-04-16 14:54:46</td>\n",
       "    </tr>\n",
       "    <tr>\n",
       "      <th>2020-04-16 14:54:46</th>\n",
       "      <td>2020-04-16 17:12:01</td>\n",
       "      <td>-34.3156</td>\n",
       "      <td>115.9957</td>\n",
       "      <td>100</td>\n",
       "      <td>POINT (115.99568 -34.31557)</td>\n",
       "      <td>AFMOD</td>\n",
       "      <td>NOAA 20</td>\n",
       "      <td>VIIRS</td>\n",
       "      <td>15.4</td>\n",
       "      <td>2020-04-16 14:54:46</td>\n",
       "    </tr>\n",
       "    <tr>\n",
       "      <th>2020-04-16 14:55:03</th>\n",
       "      <td>2020-04-16 17:12:01</td>\n",
       "      <td>-34.2440</td>\n",
       "      <td>115.4705</td>\n",
       "      <td>100</td>\n",
       "      <td>POINT (115.47054 -34.24400)</td>\n",
       "      <td>AFMOD</td>\n",
       "      <td>NOAA 20</td>\n",
       "      <td>VIIRS</td>\n",
       "      <td>86.8</td>\n",
       "      <td>2020-04-16 14:55:03</td>\n",
       "    </tr>\n",
       "    <tr>\n",
       "      <th>2020-04-16 17:06:12</th>\n",
       "      <td>2020-04-16 17:12:01</td>\n",
       "      <td>-1.4570</td>\n",
       "      <td>127.4372</td>\n",
       "      <td>100</td>\n",
       "      <td>POINT (127.43720 -1.45703)</td>\n",
       "      <td>AFMOD</td>\n",
       "      <td>NOAA 20</td>\n",
       "      <td>VIIRS</td>\n",
       "      <td>26.3</td>\n",
       "      <td>2020-04-16 17:06:12</td>\n",
       "    </tr>\n",
       "    <tr>\n",
       "      <th>2020-04-16 16:15:47</th>\n",
       "      <td>2020-04-16 17:12:01</td>\n",
       "      <td>-14.0612</td>\n",
       "      <td>126.0307</td>\n",
       "      <td>91</td>\n",
       "      <td>POINT (126.03071 -14.06116)</td>\n",
       "      <td>AFMOD</td>\n",
       "      <td>NOAA 20</td>\n",
       "      <td>VIIRS</td>\n",
       "      <td>13.0</td>\n",
       "      <td>2020-04-16 16:15:47</td>\n",
       "    </tr>\n",
       "  </tbody>\n",
       "</table>\n",
       "<p>225726 rows × 10 columns</p>\n",
       "</div>"
      ],
      "text/plain": [
       "                               datetime  latitude  longitude  confidence  \\\n",
       "2020-02-02 21:28:45 2020-02-02 23:51:16  -35.6330   148.7960          66   \n",
       "2020-02-02 21:27:40 2020-02-02 23:51:16  -35.9010   149.0630          84   \n",
       "2020-02-02 21:28:10 2020-02-02 23:51:16  -35.7750   148.9160          99   \n",
       "2020-02-02 21:27:42 2020-02-02 23:51:16  -35.8920   149.0660          64   \n",
       "2020-02-02 21:28:51 2020-02-02 23:51:16  -35.6050   148.8030          83   \n",
       "...                                 ...       ...        ...         ...   \n",
       "2020-04-16 14:54:46 2020-04-16 17:12:01  -34.3143   115.9872          86   \n",
       "2020-04-16 14:54:46 2020-04-16 17:12:01  -34.3156   115.9957         100   \n",
       "2020-04-16 14:55:03 2020-04-16 17:12:01  -34.2440   115.4705         100   \n",
       "2020-04-16 17:06:12 2020-04-16 17:12:01   -1.4570   127.4372         100   \n",
       "2020-04-16 16:15:47 2020-04-16 17:12:01  -14.0612   126.0307          91   \n",
       "\n",
       "                                        geometry product satellite sensor  \\\n",
       "2020-02-02 21:28:45  POINT (148.79600 -35.63300)   MOD14     TERRA  MODIS   \n",
       "2020-02-02 21:27:40  POINT (149.06300 -35.90100)   MOD14     TERRA  MODIS   \n",
       "2020-02-02 21:28:10  POINT (148.91600 -35.77500)   MOD14     TERRA  MODIS   \n",
       "2020-02-02 21:27:42  POINT (149.06600 -35.89200)   MOD14     TERRA  MODIS   \n",
       "2020-02-02 21:28:51  POINT (148.80300 -35.60500)   MOD14     TERRA  MODIS   \n",
       "...                                          ...     ...       ...    ...   \n",
       "2020-04-16 14:54:46  POINT (115.98716 -34.31432)   AFMOD   NOAA 20  VIIRS   \n",
       "2020-04-16 14:54:46  POINT (115.99568 -34.31557)   AFMOD   NOAA 20  VIIRS   \n",
       "2020-04-16 14:55:03  POINT (115.47054 -34.24400)   AFMOD   NOAA 20  VIIRS   \n",
       "2020-04-16 17:06:12   POINT (127.43720 -1.45703)   AFMOD   NOAA 20  VIIRS   \n",
       "2020-04-16 16:15:47  POINT (126.03071 -14.06116)   AFMOD   NOAA 20  VIIRS   \n",
       "\n",
       "                     power           solar_day  \n",
       "2020-02-02 21:28:45   22.1 2020-02-02 21:28:45  \n",
       "2020-02-02 21:27:40   45.9 2020-02-02 21:27:40  \n",
       "2020-02-02 21:28:10   84.0 2020-02-02 21:28:10  \n",
       "2020-02-02 21:27:42   24.8 2020-02-02 21:27:42  \n",
       "2020-02-02 21:28:51   32.8 2020-02-02 21:28:51  \n",
       "...                    ...                 ...  \n",
       "2020-04-16 14:54:46   10.9 2020-04-16 14:54:46  \n",
       "2020-04-16 14:54:46   15.4 2020-04-16 14:54:46  \n",
       "2020-04-16 14:55:03   86.8 2020-04-16 14:55:03  \n",
       "2020-04-16 17:06:12   26.3 2020-04-16 17:06:12  \n",
       "2020-04-16 16:15:47   13.0 2020-04-16 16:15:47  \n",
       "\n",
       "[225726 rows x 10 columns]"
      ]
     },
     "execution_count": 120,
     "metadata": {},
     "output_type": "execute_result"
    }
   ],
   "source": [
    "hotspots_gdf.set_index(pd.DatetimeIndex(hotspots_gdf.solar_day.values))\n"
   ]
  },
  {
   "cell_type": "code",
   "execution_count": 121,
   "metadata": {},
   "outputs": [
    {
     "data": {
      "text/html": [
       "<div>\n",
       "<style scoped>\n",
       "    .dataframe tbody tr th:only-of-type {\n",
       "        vertical-align: middle;\n",
       "    }\n",
       "\n",
       "    .dataframe tbody tr th {\n",
       "        vertical-align: top;\n",
       "    }\n",
       "\n",
       "    .dataframe thead th {\n",
       "        text-align: right;\n",
       "    }\n",
       "</style>\n",
       "<table border=\"1\" class=\"dataframe\">\n",
       "  <thead>\n",
       "    <tr style=\"text-align: right;\">\n",
       "      <th></th>\n",
       "      <th>F1_Fire_pixel_radiance</th>\n",
       "      <th>FRP_MWIR</th>\n",
       "      <th>FRP_SWIR</th>\n",
       "      <th>FRP_uncertainty_MWIR</th>\n",
       "      <th>FRP_uncertainty_SWIR</th>\n",
       "      <th>Glint_angle</th>\n",
       "      <th>IFOV_area</th>\n",
       "      <th>Radiance_window</th>\n",
       "      <th>S7_Fire_pixel_radiance</th>\n",
       "      <th>TCWV</th>\n",
       "      <th>...</th>\n",
       "      <th>n_window</th>\n",
       "      <th>time</th>\n",
       "      <th>transmittance_MWIR</th>\n",
       "      <th>transmittance_SWIR</th>\n",
       "      <th>used_channel</th>\n",
       "      <th>geometry</th>\n",
       "      <th>satellite</th>\n",
       "      <th>sensor</th>\n",
       "      <th>date</th>\n",
       "      <th>solar_day</th>\n",
       "    </tr>\n",
       "  </thead>\n",
       "  <tbody>\n",
       "    <tr>\n",
       "      <th>2020-02-02 09:46:24.768279</th>\n",
       "      <td>0.17</td>\n",
       "      <td>9.095869</td>\n",
       "      <td>9.68015</td>\n",
       "      <td>1.075820</td>\n",
       "      <td>14.428136</td>\n",
       "      <td>100.000987</td>\n",
       "      <td>1498243.500</td>\n",
       "      <td>0.16</td>\n",
       "      <td>0.45</td>\n",
       "      <td>15.562044</td>\n",
       "      <td>...</td>\n",
       "      <td>5</td>\n",
       "      <td>633960916768279</td>\n",
       "      <td>0.802744</td>\n",
       "      <td>1.619436</td>\n",
       "      <td>0</td>\n",
       "      <td>POINT (148.96626 -37.22027)</td>\n",
       "      <td>S3A</td>\n",
       "      <td>SLSTR</td>\n",
       "      <td>2020-02-02 12:15:16.768279</td>\n",
       "      <td>2020-02-02 09:46:24.768279</td>\n",
       "    </tr>\n",
       "    <tr>\n",
       "      <th>2020-02-02 09:46:17.969608</th>\n",
       "      <td>0.26</td>\n",
       "      <td>2.933022</td>\n",
       "      <td>-1.00000</td>\n",
       "      <td>1.098716</td>\n",
       "      <td>0.000000</td>\n",
       "      <td>98.470242</td>\n",
       "      <td>1543194.000</td>\n",
       "      <td>0.21</td>\n",
       "      <td>0.30</td>\n",
       "      <td>15.498196</td>\n",
       "      <td>...</td>\n",
       "      <td>5</td>\n",
       "      <td>633960917969608</td>\n",
       "      <td>0.801471</td>\n",
       "      <td>-1.000000</td>\n",
       "      <td>0</td>\n",
       "      <td>POINT (148.75155 -37.25186)</td>\n",
       "      <td>S3A</td>\n",
       "      <td>SLSTR</td>\n",
       "      <td>2020-02-02 12:15:17.969608</td>\n",
       "      <td>2020-02-02 09:46:17.969608</td>\n",
       "    </tr>\n",
       "    <tr>\n",
       "      <th>2020-02-02 09:46:16.969690</th>\n",
       "      <td>0.44</td>\n",
       "      <td>4.478996</td>\n",
       "      <td>-1.00000</td>\n",
       "      <td>1.449789</td>\n",
       "      <td>0.000000</td>\n",
       "      <td>98.394357</td>\n",
       "      <td>1545956.875</td>\n",
       "      <td>0.24</td>\n",
       "      <td>0.37</td>\n",
       "      <td>15.531377</td>\n",
       "      <td>...</td>\n",
       "      <td>5</td>\n",
       "      <td>633960917969690</td>\n",
       "      <td>0.801227</td>\n",
       "      <td>-1.000000</td>\n",
       "      <td>0</td>\n",
       "      <td>POINT (148.73992 -37.25800)</td>\n",
       "      <td>S3A</td>\n",
       "      <td>SLSTR</td>\n",
       "      <td>2020-02-02 12:15:17.969690</td>\n",
       "      <td>2020-02-02 09:46:16.969690</td>\n",
       "    </tr>\n",
       "    <tr>\n",
       "      <th>2020-02-02 09:46:28.068182</th>\n",
       "      <td>0.16</td>\n",
       "      <td>4.994986</td>\n",
       "      <td>-1.00000</td>\n",
       "      <td>0.550582</td>\n",
       "      <td>0.000000</td>\n",
       "      <td>100.082946</td>\n",
       "      <td>1495717.750</td>\n",
       "      <td>0.15</td>\n",
       "      <td>0.31</td>\n",
       "      <td>15.538684</td>\n",
       "      <td>...</td>\n",
       "      <td>5</td>\n",
       "      <td>633960917068182</td>\n",
       "      <td>0.802935</td>\n",
       "      <td>-1.000000</td>\n",
       "      <td>0</td>\n",
       "      <td>POINT (148.97391 -37.20723)</td>\n",
       "      <td>S3A</td>\n",
       "      <td>SLSTR</td>\n",
       "      <td>2020-02-02 12:15:17.068182</td>\n",
       "      <td>2020-02-02 09:46:28.068182</td>\n",
       "    </tr>\n",
       "    <tr>\n",
       "      <th>2020-02-02 09:46:26.068264</th>\n",
       "      <td>0.63</td>\n",
       "      <td>17.271609</td>\n",
       "      <td>-1.00000</td>\n",
       "      <td>1.759986</td>\n",
       "      <td>0.000000</td>\n",
       "      <td>100.006031</td>\n",
       "      <td>1498243.500</td>\n",
       "      <td>0.16</td>\n",
       "      <td>0.70</td>\n",
       "      <td>15.505946</td>\n",
       "      <td>...</td>\n",
       "      <td>5</td>\n",
       "      <td>633960917068264</td>\n",
       "      <td>0.803017</td>\n",
       "      <td>-1.000000</td>\n",
       "      <td>0</td>\n",
       "      <td>POINT (148.96274 -37.21304)</td>\n",
       "      <td>S3A</td>\n",
       "      <td>SLSTR</td>\n",
       "      <td>2020-02-02 12:15:17.068264</td>\n",
       "      <td>2020-02-02 09:46:26.068264</td>\n",
       "    </tr>\n",
       "    <tr>\n",
       "      <th>...</th>\n",
       "      <td>...</td>\n",
       "      <td>...</td>\n",
       "      <td>...</td>\n",
       "      <td>...</td>\n",
       "      <td>...</td>\n",
       "      <td>...</td>\n",
       "      <td>...</td>\n",
       "      <td>...</td>\n",
       "      <td>...</td>\n",
       "      <td>...</td>\n",
       "      <td>...</td>\n",
       "      <td>...</td>\n",
       "      <td>...</td>\n",
       "      <td>...</td>\n",
       "      <td>...</td>\n",
       "      <td>...</td>\n",
       "      <td>...</td>\n",
       "      <td>...</td>\n",
       "      <td>...</td>\n",
       "      <td>...</td>\n",
       "      <td>...</td>\n",
       "    </tr>\n",
       "    <tr>\n",
       "      <th>2020-04-16 23:38:01.725863</th>\n",
       "      <td>1.17</td>\n",
       "      <td>17.941762</td>\n",
       "      <td>-1.00000</td>\n",
       "      <td>2.299093</td>\n",
       "      <td>0.000000</td>\n",
       "      <td>58.969780</td>\n",
       "      <td>0.000</td>\n",
       "      <td>0.31</td>\n",
       "      <td>0.74</td>\n",
       "      <td>14.305071</td>\n",
       "      <td>...</td>\n",
       "      <td>5</td>\n",
       "      <td>640403715725863</td>\n",
       "      <td>0.821569</td>\n",
       "      <td>0.000000</td>\n",
       "      <td>1</td>\n",
       "      <td>POINT (115.99875 -34.31129)</td>\n",
       "      <td>S3B</td>\n",
       "      <td>SLSTR</td>\n",
       "      <td>2020-04-17 01:55:15.725863</td>\n",
       "      <td>2020-04-16 23:38:01.725863</td>\n",
       "    </tr>\n",
       "    <tr>\n",
       "      <th>2020-04-16 23:36:51.337454</th>\n",
       "      <td>0.55</td>\n",
       "      <td>36.329001</td>\n",
       "      <td>-1.00000</td>\n",
       "      <td>5.362936</td>\n",
       "      <td>0.000000</td>\n",
       "      <td>52.607786</td>\n",
       "      <td>0.000</td>\n",
       "      <td>0.48</td>\n",
       "      <td>0.74</td>\n",
       "      <td>14.180964</td>\n",
       "      <td>...</td>\n",
       "      <td>5</td>\n",
       "      <td>640403719337454</td>\n",
       "      <td>0.817493</td>\n",
       "      <td>0.000000</td>\n",
       "      <td>1</td>\n",
       "      <td>POINT (117.58112 -34.61741)</td>\n",
       "      <td>S3B</td>\n",
       "      <td>SLSTR</td>\n",
       "      <td>2020-04-17 01:55:19.337454</td>\n",
       "      <td>2020-04-16 23:36:51.337454</td>\n",
       "    </tr>\n",
       "    <tr>\n",
       "      <th>2020-04-16 23:36:37.840158</th>\n",
       "      <td>0.89</td>\n",
       "      <td>6.582990</td>\n",
       "      <td>-1.00000</td>\n",
       "      <td>1.399829</td>\n",
       "      <td>0.000000</td>\n",
       "      <td>51.095907</td>\n",
       "      <td>0.000</td>\n",
       "      <td>0.44</td>\n",
       "      <td>0.74</td>\n",
       "      <td>14.920742</td>\n",
       "      <td>...</td>\n",
       "      <td>5</td>\n",
       "      <td>640403720840158</td>\n",
       "      <td>0.811749</td>\n",
       "      <td>0.000000</td>\n",
       "      <td>1</td>\n",
       "      <td>POINT (117.97110 -34.68033)</td>\n",
       "      <td>S3B</td>\n",
       "      <td>SLSTR</td>\n",
       "      <td>2020-04-17 01:55:20.840158</td>\n",
       "      <td>2020-04-16 23:36:37.840158</td>\n",
       "    </tr>\n",
       "    <tr>\n",
       "      <th>2020-04-17 03:34:53.355954</th>\n",
       "      <td>0.56</td>\n",
       "      <td>16.712896</td>\n",
       "      <td>-1.00000</td>\n",
       "      <td>3.794849</td>\n",
       "      <td>0.000000</td>\n",
       "      <td>14.375906</td>\n",
       "      <td>0.000</td>\n",
       "      <td>0.52</td>\n",
       "      <td>0.74</td>\n",
       "      <td>48.848000</td>\n",
       "      <td>...</td>\n",
       "      <td>5</td>\n",
       "      <td>640409156355954</td>\n",
       "      <td>0.657672</td>\n",
       "      <td>0.000000</td>\n",
       "      <td>1</td>\n",
       "      <td>POINT (102.40972 2.23801)</td>\n",
       "      <td>S3B</td>\n",
       "      <td>SLSTR</td>\n",
       "      <td>2020-04-17 03:25:56.355954</td>\n",
       "      <td>2020-04-17 03:34:53.355954</td>\n",
       "    </tr>\n",
       "    <tr>\n",
       "      <th>2020-04-17 03:22:52.243559</th>\n",
       "      <td>0.65</td>\n",
       "      <td>202.930084</td>\n",
       "      <td>-1.00000</td>\n",
       "      <td>72.636850</td>\n",
       "      <td>0.000000</td>\n",
       "      <td>21.386735</td>\n",
       "      <td>0.000</td>\n",
       "      <td>0.55</td>\n",
       "      <td>0.74</td>\n",
       "      <td>51.455449</td>\n",
       "      <td>...</td>\n",
       "      <td>7</td>\n",
       "      <td>640409208243559</td>\n",
       "      <td>0.663952</td>\n",
       "      <td>0.000000</td>\n",
       "      <td>1</td>\n",
       "      <td>POINT (100.37930 -0.98337)</td>\n",
       "      <td>S3B</td>\n",
       "      <td>SLSTR</td>\n",
       "      <td>2020-04-17 03:26:48.243559</td>\n",
       "      <td>2020-04-17 03:22:52.243559</td>\n",
       "    </tr>\n",
       "  </tbody>\n",
       "</table>\n",
       "<p>394960 rows × 29 columns</p>\n",
       "</div>"
      ],
      "text/plain": [
       "                            F1_Fire_pixel_radiance    FRP_MWIR  FRP_SWIR  \\\n",
       "2020-02-02 09:46:24.768279                    0.17    9.095869   9.68015   \n",
       "2020-02-02 09:46:17.969608                    0.26    2.933022  -1.00000   \n",
       "2020-02-02 09:46:16.969690                    0.44    4.478996  -1.00000   \n",
       "2020-02-02 09:46:28.068182                    0.16    4.994986  -1.00000   \n",
       "2020-02-02 09:46:26.068264                    0.63   17.271609  -1.00000   \n",
       "...                                            ...         ...       ...   \n",
       "2020-04-16 23:38:01.725863                    1.17   17.941762  -1.00000   \n",
       "2020-04-16 23:36:51.337454                    0.55   36.329001  -1.00000   \n",
       "2020-04-16 23:36:37.840158                    0.89    6.582990  -1.00000   \n",
       "2020-04-17 03:34:53.355954                    0.56   16.712896  -1.00000   \n",
       "2020-04-17 03:22:52.243559                    0.65  202.930084  -1.00000   \n",
       "\n",
       "                            FRP_uncertainty_MWIR  FRP_uncertainty_SWIR  \\\n",
       "2020-02-02 09:46:24.768279              1.075820             14.428136   \n",
       "2020-02-02 09:46:17.969608              1.098716              0.000000   \n",
       "2020-02-02 09:46:16.969690              1.449789              0.000000   \n",
       "2020-02-02 09:46:28.068182              0.550582              0.000000   \n",
       "2020-02-02 09:46:26.068264              1.759986              0.000000   \n",
       "...                                          ...                   ...   \n",
       "2020-04-16 23:38:01.725863              2.299093              0.000000   \n",
       "2020-04-16 23:36:51.337454              5.362936              0.000000   \n",
       "2020-04-16 23:36:37.840158              1.399829              0.000000   \n",
       "2020-04-17 03:34:53.355954              3.794849              0.000000   \n",
       "2020-04-17 03:22:52.243559             72.636850              0.000000   \n",
       "\n",
       "                            Glint_angle    IFOV_area  Radiance_window  \\\n",
       "2020-02-02 09:46:24.768279   100.000987  1498243.500             0.16   \n",
       "2020-02-02 09:46:17.969608    98.470242  1543194.000             0.21   \n",
       "2020-02-02 09:46:16.969690    98.394357  1545956.875             0.24   \n",
       "2020-02-02 09:46:28.068182   100.082946  1495717.750             0.15   \n",
       "2020-02-02 09:46:26.068264   100.006031  1498243.500             0.16   \n",
       "...                                 ...          ...              ...   \n",
       "2020-04-16 23:38:01.725863    58.969780        0.000             0.31   \n",
       "2020-04-16 23:36:51.337454    52.607786        0.000             0.48   \n",
       "2020-04-16 23:36:37.840158    51.095907        0.000             0.44   \n",
       "2020-04-17 03:34:53.355954    14.375906        0.000             0.52   \n",
       "2020-04-17 03:22:52.243559    21.386735        0.000             0.55   \n",
       "\n",
       "                            S7_Fire_pixel_radiance       TCWV  ...  n_window  \\\n",
       "2020-02-02 09:46:24.768279                    0.45  15.562044  ...         5   \n",
       "2020-02-02 09:46:17.969608                    0.30  15.498196  ...         5   \n",
       "2020-02-02 09:46:16.969690                    0.37  15.531377  ...         5   \n",
       "2020-02-02 09:46:28.068182                    0.31  15.538684  ...         5   \n",
       "2020-02-02 09:46:26.068264                    0.70  15.505946  ...         5   \n",
       "...                                            ...        ...  ...       ...   \n",
       "2020-04-16 23:38:01.725863                    0.74  14.305071  ...         5   \n",
       "2020-04-16 23:36:51.337454                    0.74  14.180964  ...         5   \n",
       "2020-04-16 23:36:37.840158                    0.74  14.920742  ...         5   \n",
       "2020-04-17 03:34:53.355954                    0.74  48.848000  ...         5   \n",
       "2020-04-17 03:22:52.243559                    0.74  51.455449  ...         7   \n",
       "\n",
       "                                       time  transmittance_MWIR  \\\n",
       "2020-02-02 09:46:24.768279  633960916768279            0.802744   \n",
       "2020-02-02 09:46:17.969608  633960917969608            0.801471   \n",
       "2020-02-02 09:46:16.969690  633960917969690            0.801227   \n",
       "2020-02-02 09:46:28.068182  633960917068182            0.802935   \n",
       "2020-02-02 09:46:26.068264  633960917068264            0.803017   \n",
       "...                                     ...                 ...   \n",
       "2020-04-16 23:38:01.725863  640403715725863            0.821569   \n",
       "2020-04-16 23:36:51.337454  640403719337454            0.817493   \n",
       "2020-04-16 23:36:37.840158  640403720840158            0.811749   \n",
       "2020-04-17 03:34:53.355954  640409156355954            0.657672   \n",
       "2020-04-17 03:22:52.243559  640409208243559            0.663952   \n",
       "\n",
       "                            transmittance_SWIR  used_channel  \\\n",
       "2020-02-02 09:46:24.768279            1.619436             0   \n",
       "2020-02-02 09:46:17.969608           -1.000000             0   \n",
       "2020-02-02 09:46:16.969690           -1.000000             0   \n",
       "2020-02-02 09:46:28.068182           -1.000000             0   \n",
       "2020-02-02 09:46:26.068264           -1.000000             0   \n",
       "...                                        ...           ...   \n",
       "2020-04-16 23:38:01.725863            0.000000             1   \n",
       "2020-04-16 23:36:51.337454            0.000000             1   \n",
       "2020-04-16 23:36:37.840158            0.000000             1   \n",
       "2020-04-17 03:34:53.355954            0.000000             1   \n",
       "2020-04-17 03:22:52.243559            0.000000             1   \n",
       "\n",
       "                                               geometry  satellite  sensor  \\\n",
       "2020-02-02 09:46:24.768279  POINT (148.96626 -37.22027)        S3A   SLSTR   \n",
       "2020-02-02 09:46:17.969608  POINT (148.75155 -37.25186)        S3A   SLSTR   \n",
       "2020-02-02 09:46:16.969690  POINT (148.73992 -37.25800)        S3A   SLSTR   \n",
       "2020-02-02 09:46:28.068182  POINT (148.97391 -37.20723)        S3A   SLSTR   \n",
       "2020-02-02 09:46:26.068264  POINT (148.96274 -37.21304)        S3A   SLSTR   \n",
       "...                                                 ...        ...     ...   \n",
       "2020-04-16 23:38:01.725863  POINT (115.99875 -34.31129)        S3B   SLSTR   \n",
       "2020-04-16 23:36:51.337454  POINT (117.58112 -34.61741)        S3B   SLSTR   \n",
       "2020-04-16 23:36:37.840158  POINT (117.97110 -34.68033)        S3B   SLSTR   \n",
       "2020-04-17 03:34:53.355954    POINT (102.40972 2.23801)        S3B   SLSTR   \n",
       "2020-04-17 03:22:52.243559   POINT (100.37930 -0.98337)        S3B   SLSTR   \n",
       "\n",
       "                                                 date  \\\n",
       "2020-02-02 09:46:24.768279 2020-02-02 12:15:16.768279   \n",
       "2020-02-02 09:46:17.969608 2020-02-02 12:15:17.969608   \n",
       "2020-02-02 09:46:16.969690 2020-02-02 12:15:17.969690   \n",
       "2020-02-02 09:46:28.068182 2020-02-02 12:15:17.068182   \n",
       "2020-02-02 09:46:26.068264 2020-02-02 12:15:17.068264   \n",
       "...                                               ...   \n",
       "2020-04-16 23:38:01.725863 2020-04-17 01:55:15.725863   \n",
       "2020-04-16 23:36:51.337454 2020-04-17 01:55:19.337454   \n",
       "2020-04-16 23:36:37.840158 2020-04-17 01:55:20.840158   \n",
       "2020-04-17 03:34:53.355954 2020-04-17 03:25:56.355954   \n",
       "2020-04-17 03:22:52.243559 2020-04-17 03:26:48.243559   \n",
       "\n",
       "                                            solar_day  \n",
       "2020-02-02 09:46:24.768279 2020-02-02 09:46:24.768279  \n",
       "2020-02-02 09:46:17.969608 2020-02-02 09:46:17.969608  \n",
       "2020-02-02 09:46:16.969690 2020-02-02 09:46:16.969690  \n",
       "2020-02-02 09:46:28.068182 2020-02-02 09:46:28.068182  \n",
       "2020-02-02 09:46:26.068264 2020-02-02 09:46:26.068264  \n",
       "...                                               ...  \n",
       "2020-04-16 23:38:01.725863 2020-04-16 23:38:01.725863  \n",
       "2020-04-16 23:36:51.337454 2020-04-16 23:36:51.337454  \n",
       "2020-04-16 23:36:37.840158 2020-04-16 23:36:37.840158  \n",
       "2020-04-17 03:34:53.355954 2020-04-17 03:34:53.355954  \n",
       "2020-04-17 03:22:52.243559 2020-04-17 03:22:52.243559  \n",
       "\n",
       "[394960 rows x 29 columns]"
      ]
     },
     "execution_count": 121,
     "metadata": {},
     "output_type": "execute_result"
    }
   ],
   "source": [
    "s3vthotspots.set_index(pd.DatetimeIndex(s3vthotspots.solar_day.values))"
   ]
  },
  {
   "cell_type": "markdown",
   "metadata": {},
   "source": [
    "# Run comparison matrix"
   ]
  },
  {
   "cell_type": "code",
   "execution_count": 122,
   "metadata": {},
   "outputs": [],
   "source": [
    "appended_dataframe = []\n",
    "\n",
    "# For each DEA Hotspots solar day group\n",
    "for name, group in hotspots_gdf.resample('D', on='solar_day'):\n",
    "    #print(group.datetime.max() - group.datetime.min(), name)\n",
    "    # and each S3 Hotspots solar day group\n",
    "    for s3name, s3group in s3vthotspots.resample('D', on='solar_day'):      \n",
    "        # where the solar days are the same\n",
    "        if (name == s3name):\n",
    "            # On each unique DEA Hotspots solar group\n",
    "            for product in products:\n",
    "                # each product represents a unique sensor, product and satellite\n",
    "               \n",
    "                dea_hotspot_product = (group[(group['sensor'] == product['sensor']) &\\\n",
    "                                            (group['product'] == product['product']) &\\\n",
    "                                            (group['satellite'] == product['satellite'])]).reset_index()\n",
    "                \n",
    "                # If one of the dataframes going into the nearest hotspot function is empty this fails so try except\n",
    "                \n",
    "                try:\n",
    "                    per_solarday_nearest_hotspots = ckdnearest(dea_hotspot_product , s3group.reset_index())\n",
    "                    \n",
    "                    appended_dataframe.append(per_solarday_nearest_hotspots)\n",
    "                except:\n",
    "                    logger.info('Skipping')\n",
    "dea_s3_nearest_hotspot_gdf = pd.concat(appended_dataframe)               "
   ]
  },
  {
   "cell_type": "code",
   "execution_count": null,
   "metadata": {},
   "outputs": [],
   "source": [
    "#TODO add new field with vincenty metres distance between the matched points\n",
    "#TODO match available Landsat and Sentinel 2 datasets with hotspots\n",
    "#TODO run fire detection on Landsat and Sentinel 2 - update attributes\n",
    "#TODO rerun the nearest test with S3 as the primary, rather than DEA Hotspots.\n",
    "#TODO add Himawari Hotspots.\n",
    "#TODO add persistent hotspots and compare frequency of detection"
   ]
  },
  {
   "cell_type": "code",
   "execution_count": 123,
   "metadata": {},
   "outputs": [
    {
     "data": {
      "text/plain": [
       "Index(['index', 'datetime', 'latitude', 'longitude', 'confidence', 'geometry',\n",
       "       'product', 'satellite', 'sensor', 'power', 'solar_day', '2_index',\n",
       "       '2_F1_Fire_pixel_radiance', '2_FRP_MWIR', '2_FRP_SWIR',\n",
       "       '2_FRP_uncertainty_MWIR', '2_FRP_uncertainty_SWIR', '2_Glint_angle',\n",
       "       '2_IFOV_area', '2_Radiance_window', '2_S7_Fire_pixel_radiance',\n",
       "       '2_TCWV', '2_classification', '2_confidence', '2_i', '2_j',\n",
       "       '2_latitude', '2_longitude', '2_n_SWIR_fire', '2_n_cloud', '2_n_water',\n",
       "       '2_n_window', '2_time', '2_transmittance_MWIR', '2_transmittance_SWIR',\n",
       "       '2_used_channel', '2_satellite', '2_sensor', '2_date', '2_solar_day',\n",
       "       'dist'],\n",
       "      dtype='object')"
      ]
     },
     "execution_count": 123,
     "metadata": {},
     "output_type": "execute_result"
    }
   ],
   "source": [
    "dea_s3_nearest_hotspot_gdf.columns"
   ]
  },
  {
   "cell_type": "markdown",
   "metadata": {},
   "source": [
    "# Count high confidence co-occurrence per sensor"
   ]
  },
  {
   "cell_type": "markdown",
   "metadata": {},
   "source": [
    "## MODIS vs S3"
   ]
  },
  {
   "cell_type": "code",
   "execution_count": 124,
   "metadata": {},
   "outputs": [
    {
     "data": {
      "text/plain": [
       "726"
      ]
     },
     "execution_count": 124,
     "metadata": {},
     "output_type": "execute_result"
    }
   ],
   "source": [
    "len(dea_s3_nearest_hotspot_gdf[(dea_s3_nearest_hotspot_gdf['confidence'] > 85) & \\\n",
    "                               (dea_s3_nearest_hotspot_gdf['2_confidence'] > 0.90) & \\\n",
    "                               (dea_s3_nearest_hotspot_gdf['dist'] < 0.05) & \\\n",
    "                               (dea_s3_nearest_hotspot_gdf['sensor'] == 'MODIS')])"
   ]
  },
  {
   "cell_type": "code",
   "execution_count": 125,
   "metadata": {},
   "outputs": [
    {
     "data": {
      "text/plain": [
       "878"
      ]
     },
     "execution_count": 125,
     "metadata": {},
     "output_type": "execute_result"
    }
   ],
   "source": [
    "len(dea_s3_nearest_hotspot_gdf[(dea_s3_nearest_hotspot_gdf['confidence'] > 85) & \\\n",
    "                               (dea_s3_nearest_hotspot_gdf['2_confidence'] > 0.90) &\\\n",
    "                               (dea_s3_nearest_hotspot_gdf['sensor'] == 'MODIS')])"
   ]
  },
  {
   "cell_type": "code",
   "execution_count": 126,
   "metadata": {},
   "outputs": [
    {
     "data": {
      "text/plain": [
       "<matplotlib.axes._subplots.AxesSubplot at 0x7f08b82accd0>"
      ]
     },
     "execution_count": 126,
     "metadata": {},
     "output_type": "execute_result"
    },
    {
     "data": {
      "image/png": "[encoded data removed]",
      "text/plain": [
       "<Figure size 432x288 with 1 Axes>"
      ]
     },
     "metadata": {
      "needs_background": "light"
     },
     "output_type": "display_data"
    }
   ],
   "source": [
    "dea_s3_nearest_hotspot_gdf[(dea_s3_nearest_hotspot_gdf['dist'] < 0.05) & (dea_s3_nearest_hotspot_gdf['sensor'] == 'MODIS')].plot()"
   ]
  },
  {
   "cell_type": "markdown",
   "metadata": {},
   "source": [
    "## AVHRR vs S3"
   ]
  },
  {
   "cell_type": "code",
   "execution_count": 127,
   "metadata": {},
   "outputs": [
    {
     "data": {
      "text/plain": [
       "560"
      ]
     },
     "execution_count": 127,
     "metadata": {},
     "output_type": "execute_result"
    }
   ],
   "source": [
    "len(dea_s3_nearest_hotspot_gdf[#(dea_s3_nearest_hotspot_gdf['confidence'] > 85) & \\\n",
    "                               (dea_s3_nearest_hotspot_gdf['2_confidence'] > 0.90) & \\\n",
    "    \n",
    "                               (dea_s3_nearest_hotspot_gdf['dist'] < 0.05) & \\\n",
    "                               (dea_s3_nearest_hotspot_gdf['sensor'] == 'AVHRR')])"
   ]
  },
  {
   "cell_type": "code",
   "execution_count": 134,
   "metadata": {},
   "outputs": [
    {
     "data": {
      "text/plain": [
       "30738"
      ]
     },
     "execution_count": 134,
     "metadata": {},
     "output_type": "execute_result"
    }
   ],
   "source": [
    "len(dea_s3_nearest_hotspot_gdf[#(dea_s3_nearest_hotspot_gdf['confidence'] > 85) & \\\n",
    "                               (dea_s3_nearest_hotspot_gdf['2_confidence'] > 0.90) & \\\n",
    "    \n",
    "                               (dea_s3_nearest_hotspot_gdf['sensor'] == 'AVHRR')])"
   ]
  },
  {
   "cell_type": "code",
   "execution_count": 129,
   "metadata": {},
   "outputs": [
    {
     "data": {
      "text/plain": [
       "<matplotlib.axes._subplots.AxesSubplot at 0x7f08b82e4490>"
      ]
     },
     "execution_count": 129,
     "metadata": {},
     "output_type": "execute_result"
    },
    {
     "data": {
      "image/png": "[encoded data removed]",
      "text/plain": [
       "<Figure size 432x288 with 1 Axes>"
      ]
     },
     "metadata": {
      "needs_background": "light"
     },
     "output_type": "display_data"
    }
   ],
   "source": [
    "dea_s3_nearest_hotspot_gdf[(dea_s3_nearest_hotspot_gdf['dist'] < 0.005) & (dea_s3_nearest_hotspot_gdf['sensor'] == 'AVHRR')].plot()"
   ]
  },
  {
   "cell_type": "code",
   "execution_count": 130,
   "metadata": {},
   "outputs": [
    {
     "data": {
      "text/plain": [
       "982"
      ]
     },
     "execution_count": 130,
     "metadata": {},
     "output_type": "execute_result"
    }
   ],
   "source": [
    "len(dea_s3_nearest_hotspot_gdf[(dea_s3_nearest_hotspot_gdf['confidence'] > 85) & \\\n",
    "                               (dea_s3_nearest_hotspot_gdf['2_confidence'] > 0.90) & \\\n",
    "                               (dea_s3_nearest_hotspot_gdf['dist'] < 0.05) & \\\n",
    "                               (dea_s3_nearest_hotspot_gdf['sensor'] == 'VIIRS')])"
   ]
  },
  {
   "cell_type": "code",
   "execution_count": 131,
   "metadata": {},
   "outputs": [
    {
     "data": {
      "text/plain": [
       "1521"
      ]
     },
     "execution_count": 131,
     "metadata": {},
     "output_type": "execute_result"
    }
   ],
   "source": [
    "len(dea_s3_nearest_hotspot_gdf[(dea_s3_nearest_hotspot_gdf['confidence'] > 85) & \\\n",
    "                               (dea_s3_nearest_hotspot_gdf['2_confidence'] > 0.90) & \\\n",
    "                               #(dea_s3_nearest_hotspot_gdf['dist'] < 0.05) & \\\n",
    "                               (dea_s3_nearest_hotspot_gdf['sensor'] == 'VIIRS')])"
   ]
  },
  {
   "cell_type": "code",
   "execution_count": 109,
   "metadata": {},
   "outputs": [
    {
     "data": {
      "text/plain": [
       "<matplotlib.axes._subplots.AxesSubplot at 0x7f08b96441d0>"
      ]
     },
     "execution_count": 109,
     "metadata": {},
     "output_type": "execute_result"
    },
    {
     "data": {
      "image/png": "[encoded data removed]",
      "text/plain": [
       "<Figure size 432x288 with 1 Axes>"
      ]
     },
     "metadata": {
      "needs_background": "light"
     },
     "output_type": "display_data"
    }
   ],
   "source": [
    "dea_s3_nearest_hotspot_gdf[(dea_s3_nearest_hotspot_gdf['dist'] < 0.05) & (dea_s3_nearest_hotspot_gdf['sensor'] == 'VIIRS')].plot()"
   ]
  },
  {
   "cell_type": "code",
   "execution_count": 135,
   "metadata": {},
   "outputs": [],
   "source": [
    "dea_s3_nearest_hotspot_gdf.to_csv('dea_s3_nearest_hotspot_gdf.csv')"
   ]
  },
  {
   "cell_type": "code",
   "execution_count": 86,
   "metadata": {},
   "outputs": [
    {
     "data": {
      "text/plain": [
       "'\\n\\nYou\\'ll need to define your own metric, which handles \"time\" in an appropriate way. In the docs for scipy.spatial.distance.pdist you can define your own function\\n\\nY = pdist(X, f)\\n\\n    Computes the distance between all pairs of vectors in X using the user supplied 2-arity function f. [...] For example, Euclidean distance between the vectors could be computed as follows:\\n\\ndm = pdist(X, lambda u, v: np.sqrt(((u-v)**2).sum()))\\n\\nThe metric can be passed to any scipy clustering algorithm, via the metric keyword. For example, using linkage:\\n\\nscipy.cluster.hierarchy.linkage(y, method=\\'single\\', metric=\\'euclidean\\')\\n\\n'"
      ]
     },
     "execution_count": 86,
     "metadata": {},
     "output_type": "execute_result"
    }
   ],
   "source": [
    "#TODO - group temporally - same solar day\n",
    "#TODO - find nearest\n",
    "# https://stackoverflow.com/questions/18737942/clustering-in-pythonscipy-with-space-and-time-variables\n",
    "\n",
    "'''\n",
    "\n",
    "You'll need to define your own metric, which handles \"time\" in an appropriate way. In the docs for scipy.spatial.distance.pdist you can define your own function\n",
    "\n",
    "Y = pdist(X, f)\n",
    "\n",
    "    Computes the distance between all pairs of vectors in X using the user supplied 2-arity function f. [...] For example, Euclidean distance between the vectors could be computed as follows:\n",
    "\n",
    "dm = pdist(X, lambda u, v: np.sqrt(((u-v)**2).sum()))\n",
    "\n",
    "The metric can be passed to any scipy clustering algorithm, via the metric keyword. For example, using linkage:\n",
    "\n",
    "scipy.cluster.hierarchy.linkage(y, method='single', metric='euclidean')\n",
    "\n",
    "'''"
   ]
  },
  {
   "cell_type": "code",
   "execution_count": null,
   "metadata": {},
   "outputs": [],
   "source": []
  },
  {
   "cell_type": "code",
   "execution_count": null,
   "metadata": {},
   "outputs": [],
   "source": []
  },
  {
   "cell_type": "code",
   "execution_count": null,
   "metadata": {},
   "outputs": [],
   "source": [
    "hotspots_gdf.datetime"
   ]
  }
 ],
 "metadata": {
  "kernelspec": {
   "display_name": "Python 3",
   "language": "python",
   "name": "python3"
  },
  "language_info": {
   "codemirror_mode": {
    "name": "ipython",
    "version": 3
   },
   "file_extension": ".py",
   "mimetype": "text/x-python",
   "name": "python",
   "nbconvert_exporter": "python",
   "pygments_lexer": "ipython3",
   "version": "3.7.6"
  }
 },
 "nbformat": 4,
 "nbformat_minor": 4
}
