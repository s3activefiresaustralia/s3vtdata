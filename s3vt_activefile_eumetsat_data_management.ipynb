{
 "cells": [
  {
   "cell_type": "code",
   "execution_count": null,
   "metadata": {},
   "outputs": [],
   "source": [
    "import os\n",
    "from pathlib import Path\n",
    "import shutil\n",
    "import logging\n",
    "import re\n",
    "import tempfile\n",
    "\n",
    "import boto3\n",
    "import netCDF4\n",
    "import pandas as pd\n",
    "import geopandas as gpd\n",
    "import yaml\n",
    "\n",
    "import s3vtdatamgt_EUMETSATftp as eufr"
   ]
  },
  {
   "cell_type": "markdown",
   "metadata": {},
   "source": [
    "### Logging configuration for the Notebook"
   ]
  },
  {
   "cell_type": "code",
   "execution_count": null,
   "metadata": {},
   "outputs": [],
   "source": [
    "logger = logging.getLogger()\n",
    "logger.setLevel(level=logging.INFO)\n",
    "logging.basicConfig(filename='eumetsat_process.log',level=logging.INFO)"
   ]
  },
  {
   "cell_type": "markdown",
   "metadata": {},
   "source": [
    "### Configure Parameters from the configuration file\n",
    "The first configuration detail is used as a default"
   ]
  },
  {
   "cell_type": "code",
   "execution_count": null,
   "metadata": {},
   "outputs": [],
   "source": [
    "config_file = \"/home/jovyan/s3vt/config.yaml\"\n",
    "with open(config_file) as fid:\n",
    "    configs = yaml.load(fid, Loader=yaml.FullLoader)\n",
    "    configs = configs[\"configurations\"][0] # takes the first configuration details \n",
    "    ftp_username = configs[\"eumetsatftpusername\"]\n",
    "    ftp_password = configs[\"eumetsatftppassword\"]\n",
    "    ftp_url = configs[\"eumetsatftpurl\"]\n",
    "    ftp_directory = configs[\"eumetsatftpdirectory\"]\n",
    "    aoi = configs[\"aoi\"]\n",
    "    aws_access_key_id = configs[\"awskeyid\"]\n",
    "    aws_secret_access_key = configs[\"awskeypass\"]\n",
    "    s3_bucket_name = configs[\"awss3bucket\"]"
   ]
  },
  {
   "cell_type": "code",
   "execution_count": null,
   "metadata": {},
   "outputs": [],
   "source": [
    "print(configs)"
   ]
  },
  {
   "cell_type": "markdown",
   "metadata": {},
   "source": [
    "### Create a workdir\n",
    "Creates a working directory `workdir_s3vt` in current working directory if not explicitly specified. Change to the working directory.\\\n",
    "The outputs from this excercise will be within the specified work directory."
   ]
  },
  {
   "cell_type": "code",
   "execution_count": null,
   "metadata": {},
   "outputs": [],
   "source": [
    "workdir =  Path(os.getcwd()).joinpath(\"workdir_s3vt\")\n",
    "workdir.mkdir(exist_ok=True)\n",
    "os.chdir(str(workdir))"
   ]
  },
  {
   "cell_type": "markdown",
   "metadata": {},
   "source": [
    "### Listing of FRP products from the Eumetsat's FTP site\n",
    "If `.csv` file containing the listing of FRP products with `.SEN3` suffix from Eumetsat's site is available then provide a full path in place \\\n",
    "of `None` in `eumetsat_ftp_frp_list_file` variable. This listing from FTP sites takes a while. You can use the `eumetsat_ftp_frp_list.csv` to skip\n",
    "this part."
   ]
  },
  {
   "cell_type": "code",
   "execution_count": null,
   "metadata": {},
   "outputs": [],
   "source": [
    "eumetsat_ftp_frp_list_file = \"/home/jovyan/s3vt/eumetsat_ftp_frp_list.csv\" # use None or /home/jovyan/s3vt/eumetsat_ftp_frp_list.csv if not update of file is made in Eumetsat's FTP sie.\n",
    "if eumetsat_ftp_frp_list_file is not None:\n",
    "    if Path(eumetsat_ftp_frp_list_file).exists():\n",
    "        try:\n",
    "            shutil.copy(eumetsat_ftp_frp_list_file, workdir)\n",
    "        except shutil.SameFileError:\n",
    "            logger.info(f\"{eumetsat_ftp_frp_list_file} points to same file: will read from same file\")\n",
    "        eumetsat_ftp_frp_list_file = Path(workdir).joinpath(Path(eumetsat_ftp_frp_list_file).name)\n",
    "        \n",
    "# get ftp listing of eumetsat's site for FRP products\n",
    "eumetsat_ftp_frp_list_file = eufr._get_eumetsat_ftp_listing(\n",
    "    ftp_username,\n",
    "    ftp_password,\n",
    "    ftp_url,\n",
    "    ftp_directory,\n",
    "    eumetsat_ftp_frp_list_file\n",
    ")"
   ]
  },
  {
   "cell_type": "markdown",
   "metadata": {},
   "source": [
    "### Listing of ESA's FRP products from AWS S3\n",
    "If `.csv` file containing the listing of ESA's FRP from AWS S3 exists then provide a full path in place of `None` in `esa_s3_sen3_frp_list_file` variable"
   ]
  },
  {
   "cell_type": "code",
   "execution_count": null,
   "metadata": {},
   "outputs": [],
   "source": [
    "esa_s3_sen3_frp_list_file = None\n",
    "if esa_s3_sen3_frp_list_file is not None:\n",
    "    if Path(esa_s3_sen3_frp_list_file).exists():\n",
    "        try:\n",
    "            shutil.copy(esa_s3_sen3_frp_list_file, workdir)\n",
    "        except shutil.SameFileError:\n",
    "            logger.info(f\"{esa_s3_sen3_frp_list_file} points to same file: will read from same file\")\n",
    "        esa_s3_sen3_frp_list_file = Path(workdir).joinpath(Path(esa_s3_sen3_frp_list_file).name)\n",
    "\n",
    "# get s3 listing of ESA's FRP from s3 with .SEN3 extension\n",
    "# The Eumetsat's FRP product are assumed to be in AWS S3 bucket at s3://{bucketn_name}/eumetsat_data/\n",
    "esa_s3_sen3_frp_list_file = eufr._get_esa_s3_listing(\n",
    "    aws_access_key_id,\n",
    "    aws_secret_access_key,\n",
    "    s3_bucket_name,\n",
    "    esa_s3_sen3_frp_list_file,\n",
    "    exclude_s3_key='eumetsat_data/',  # this key is to exclude the s3 folder where eumetsat's FRP product resides.\n",
    "    match_suffix='.SEN3'\n",
    ")"
   ]
  },
  {
   "cell_type": "markdown",
   "metadata": {},
   "source": [
    "### Listing of Eumetsat's FRP products from AWS S3\n",
    "If `.csv` file containing the listing of Eumetsat's FRP with `.SEN3` suffix from AWS S3 exists then set full path at `eumetsat_s3_sen3_frp_list_file`\\\n",
    "The `.csv` file containing the listing of Eumetsat's FRP with `.geojson` suffix will be searched where filename is expected to be same with `_geojson_` instead of `_sen3_`.\n",
    "For example, `eumetsat_s3_frp_geojson_list.csv` for file listing geojson files and `eumetsat_s3_frp_sen3_list.csv` for `.SEN3` files should reside within same folder.\n"
   ]
  },
  {
   "cell_type": "code",
   "execution_count": null,
   "metadata": {},
   "outputs": [],
   "source": [
    "eumetsat_s3_sen3_frp_list_file = None\n",
    "eumet_s3_geojson_list_file = None\n",
    "if eumetsat_s3_sen3_frp_list_file is not None:\n",
    "    if Path(eumetsat_s3_sen3_frp_list_file).exists():\n",
    "        try:\n",
    "            shutil.copy(eumetsat_s3_sen3_frp_list_file, workdir)\n",
    "        except shutil.SameFileError:\n",
    "            logger.info(f\"{eumetsat_s3_sen3_frp_list_file} points to same file: will read from same file\")\n",
    "        # if eumetsat_s3_frp_list_file exists, check if geojson file list for eumetsat's exists\n",
    "        # the file has same name with `geojson` instead of `sen3`.\n",
    "        eumet_geojson_list = re.sub(\"_sen3_\", \"_geojson_\", Path(eumetsat_s3_frp_list_file).name)\n",
    "        if eumet_geojson_list:\n",
    "            eumet_s3_geojson_list_file = Path(eumetsat_s3_frp_list_file).parent.joinpath(eumet_geojson_list[0])\n",
    "            if eumet_s3_geojson_list_file.exists():\n",
    "                try:\n",
    "                    shutil.copy(eumet_geojson_list_file, workdir)\n",
    "                except shutil.SameFileError:\n",
    "                    logger.info(f\"{eumet_geojson_list_file} points to same file: will read from same file\")\n",
    "                eumet_s3_geojson_list_file = Path(workdir).joinpath(Path(eumet_geojson_list_file).name)\n",
    "        eumetsat_s3_sen3_frp_list_file = Path(workdir).joinpath(Path(eumetsat_s3_frp_list_file).name)\n"
   ]
  },
  {
   "cell_type": "code",
   "execution_count": null,
   "metadata": {},
   "outputs": [],
   "source": [
    "# get s3 listing of eumetsat's FRP from s3 with .SEN3 extension\n",
    "# The ESA's FRP product are assumed to be in AWS S3 bucket at s3://{bucketn_name}/data/\n",
    "eumetsat_s3_sen3_frp_list_file = eufr._get_eumetsat_s3_listing(\n",
    "    aws_access_key_id,\n",
    "    aws_secret_access_key,\n",
    "    s3_bucket_name,\n",
    "    eumetsat_s3_sen3_frp_list_file,\n",
    "    exclude_s3_key='/data/', # key to exlude s3 bucket where esa's FRP are stored.\n",
    "    match_suffix='.SEN3'\n",
    ")"
   ]
  },
  {
   "cell_type": "code",
   "execution_count": null,
   "metadata": {},
   "outputs": [],
   "source": [
    "# get s3 listing of eumetsat's FRP from s3 with .geojson extension\n",
    "# The ESA's FRP product are assumed to be in AWS S3 bucket at s3://{bucketn_name}/data/\n",
    "eumet_s3_geojson_list_file = eufr._get_eumetsat_s3_listing(\n",
    "    aws_access_key_id,\n",
    "    aws_secret_access_key,\n",
    "    s3_bucket_name,\n",
    "    eumet_s3_geojson_list_file,\n",
    "    exclude_s3_key='/data/', # key to exlude s3 bucket where esa's FRP are stored.\n",
    "    match_suffix='.geojson'\n",
    ")"
   ]
  },
  {
   "cell_type": "markdown",
   "metadata": {},
   "source": [
    "### Subsetting Eumetsat's FRP product using ESA's S3 listing of .SEN3 files\n",
    "The ESA's file listing with `.SEN3` is used to subset Eumetsat's FRP products. Eumetsat's FRP products has approximately 117000 files `.SEN3` extensions.\\\n",
    "The subsetting will enable to limit the Eumetsat's FRP product to that of ESA's FRP product over Australiasian bounds. The subsetting is done by performing\\\n",
    "acquisition date match, sensor (S3A/B) and relative oribit number. We verified that the FRP products from both ESA and Eumetsat has maintained the same filenames\\\n",
    "attributes (acquisition dates, sensor and relative orbit)."
   ]
  },
  {
   "cell_type": "code",
   "execution_count": null,
   "metadata": {},
   "outputs": [],
   "source": [
    "# if .pkl extension file exists in esa_s3_sen3_frp_list_file and eumetsat_s3_sen3_frp_list_file\n",
    "# directory with same name, then it is best to pass read_pickle to True, it will\n",
    "# save time in regenerating attributes dataframe. .pkl file contains the pandas dataframe with \n",
    "# filename attributes already parsed. \n",
    "read_pickle = False\n",
    "if (\n",
    "    (Path(eumetsat_ftp_frp_list_file).with_suffix(\".pkl\").exists())\n",
    "    & (Path(esa_s3_sen3_frp_list_file).with_suffix(\".pkl\").exists())\n",
    "):\n",
    "    read_pickle = True\n",
    "\n",
    "# this subsets the list of FRP product that are both in ESA's and EUMETSAT's FRP\n",
    "# listings.\n",
    "eumet_subset_df = eufr.subset_eumetsat_frp_list(\n",
    "    esa_s3_sen3_frp_list_file,\n",
    "    eumetsat_ftp_frp_list_file,\n",
    "    read_pickle=read_pickle\n",
    ")"
   ]
  },
  {
   "cell_type": "markdown",
   "metadata": {},
   "source": [
    "#### Create dataframe with list of .SEN3 filenames from Eumetsat's FRP products"
   ]
  },
  {
   "cell_type": "code",
   "execution_count": null,
   "metadata": {},
   "outputs": [],
   "source": [
    "# get lists of files that needs uploading to s3 bucket and/or process\n",
    "# the .geojson file\n",
    "# names of all the eumetsat's FRP names without extension\n",
    "eumet_subset_all_names =  eumet_subset_df['title_x'].apply(\n",
    "    lambda x: Path(x).stem\n",
    ")\n",
    "print(eumet_subset_all_names)"
   ]
  },
  {
   "cell_type": "markdown",
   "metadata": {},
   "source": [
    "#### Create dataframe with list of .SEN3 filenames from ESA's FRP in AWS S3"
   ]
  },
  {
   "cell_type": "code",
   "execution_count": null,
   "metadata": {},
   "outputs": [],
   "source": [
    "# names of eumetsat's FRP with .SEN3 extension from s3 bucket\n",
    "eumet_subset_s3_sen3_df = pd.read_csv(\n",
    "    eumetsat_s3_sen3_frp_list_file,\n",
    "    names=['name'],\n",
    "    header=None\n",
    ")\n",
    "eumet_subset_s3_sen3_names = set(eumet_subset_s3_sen3_df['name'].apply(\n",
    "    lambda x: Path(x).stem\n",
    "))\n",
    "for item in eumet_subset_s3_sen3_names:\n",
    "    print(item)"
   ]
  },
  {
   "cell_type": "markdown",
   "metadata": {},
   "source": [
    "#### Create dataframe with list of .geojson filename from Eumetsat's FRP in AWS S3"
   ]
  },
  {
   "cell_type": "code",
   "execution_count": null,
   "metadata": {},
   "outputs": [],
   "source": [
    "# names of eumetsat's FRP with .geojson extension from s3 bucket\n",
    "eumet_subset_s3_geojson_df = pd.read_csv(\n",
    "    eumet_s3_geojson_list_file,\n",
    "    names=['name'],\n",
    "    header=None\n",
    ")\n",
    "eumet_subset_s3_geojson_names = set(eumet_subset_s3_geojson_df['name'].apply(\n",
    "    lambda x: Path(Path(x).stem).stem\n",
    "))\n",
    "for item in eumet_subset_s3_geojson_names:\n",
    "    print(item)"
   ]
  },
  {
   "cell_type": "markdown",
   "metadata": {},
   "source": [
    "#### Initialize AWS session to be used processing stream ahead"
   ]
  },
  {
   "cell_type": "code",
   "execution_count": null,
   "metadata": {},
   "outputs": [],
   "source": [
    "# eumetsat_s3_sen3_frp_list_file"
   ]
  },
  {
   "cell_type": "code",
   "execution_count": null,
   "metadata": {},
   "outputs": [],
   "source": [
    "# initialize aws session to upload data to s3\n",
    "aws_session = boto3.Session(\n",
    "    aws_access_key_id=aws_access_key_id,\n",
    "    aws_secret_access_key=aws_secret_access_key\n",
    ")\n",
    "s3_client = aws_session.client(\"s3\")"
   ]
  },
  {
   "cell_type": "markdown",
   "metadata": {},
   "source": [
    "### Main workflow to process .geojson files and upload EUMETSAT's FRP to AWS S3\n",
    "The processing logics implemented here uses the subset of Eumetsat's FRP products with same filename attributes of ESA's FRP in S3:\\\n",
    "    1. If Eumetsat's FRP product with .SEN3 and .geojson are available in AWS S3 then skip processing, but download .geojson file to local file system for use in analysis.\\\n",
    "    2. If only Eumetsat's FRP product with .SEN3 is available in AWS S3 then fetch FRP from ftp site and process .geojson file and upload to S3. and move to local file\\\n",
    "    3. If only Eumetsat's FRP product with .geojson is available in AWS S3 then fetch the .SEN3 FRP from ftp site and upload to AWS S3. and download .geojson to local file\\"
   ]
  },
  {
   "cell_type": "code",
   "execution_count": null,
   "metadata": {},
   "outputs": [],
   "source": [
    "s3_upload = True # set to True if files are to be uploaded to s3\n",
    "for _, row in eumet_subset_df.iterrows():\n",
    "    _ftp_url = f\"ftp://{ftp_url}/{row['title_x']}\"  # ftp url for the eumetsat FRP\n",
    "    _sen3_frp_name = Path(_ftp_url).name # FRP name with .SEN3 extension\n",
    "    _sen3_frp_stem = Path(_ftp_url).stem # FRP name without extension\n",
    "    print(_sen3_frp_stem)\n",
    "    acq_date = re.findall(r\"[0-9]{8}T[0-9]{6}\" , _sen3_frp_name)[0]\n",
    "    s3_sen3_exist = False\n",
    "    s3_geojson_exist = False  # set both the .SEN3 and .geojson s3 existance flags to False\n",
    "    _frp_dir_name = f\"eumetsat_data/{acq_date[0:4]}-{acq_date[4:6]}-{acq_date[6:8]}\" # directory to store the eumetsat's .geojson files for processing\n",
    "\n",
    "    # staging is done in tmpdir to avoid storage limitation of sandbox\n",
    "    with tempfile.TemporaryDirectory() as tmpdir:   \n",
    "        _sen3_dir = Path(tmpdir).joinpath(_sen3_frp_name)  # temp directory space to store FRP product\n",
    "        if _sen3_frp_stem in eumet_subset_s3_sen3_names:\n",
    "            s3_sen3_exist = True\n",
    "        if _sen3_frp_stem in eumet_subset_s3_geojson_names:\n",
    "            s3_geojson_exist = True\n",
    "\n",
    "        # if .geojson exists in s3 bucket then download the.geojson to local file\n",
    "        if s3_geojson_exist:\n",
    "            # make directory to store the file if downloading\n",
    "            Path(f\"{workdir}/{_frp_dir_name}\").mkdir(parents=True, exist_ok=True)\n",
    "            eufr.s3_download_file(\n",
    "                s3_bucket_name,\n",
    "                s3_client,\n",
    "                filename=f\"{_sen3_frp_stem}.FRP.geojson\",\n",
    "                out_dir=Path(f\"{workdir}/{_frp_dir_name}\"),\n",
    "                prefix=_frp_dir_name\n",
    "            )\n",
    "           \n",
    "        # if .geojson and .SEN3 exists then skip processing\n",
    "        print(s3_geojson_exist, s3_sen3_exist)\n",
    "        if (s3_geojson_exist) & (s3_sen3_exist):\n",
    "            continue\n",
    "        # if either .SEN3 or .geojson file does not exist in s3\n",
    "        # then download from the ftp site and process .geojson file if it does not \n",
    "        # exist in s3. Upload the file if s3_upload flag is True. Finally\n",
    "        # store the .geojson file to a local file system.\n",
    "        eufr.get_eumetsat_dir(\n",
    "            ftp_username,\n",
    "            ftp_password,\n",
    "            _ftp_url,\n",
    "            tmpdir,\n",
    "        )\n",
    "        \n",
    "        for item in _sen3_dir.iterdir():\n",
    "            if s3_upload:\n",
    "                if not s3_sen3_exist:\n",
    "                    eufr.s3_upload_file(\n",
    "                        item,\n",
    "                        s3_client,\n",
    "                        s3_bucket_name,\n",
    "                        prefix=f\"{_frp_dir_name}/{_sen3_frp_name}\"\n",
    "                    )\n",
    "            # if .geojson file does not exist then process the file and upload to s3 bucket.\n",
    "            if not s3_geojson_exist:\n",
    "                # create .geojson file for FRP file \n",
    "                if item.name == \"FRP_in.nc\":\n",
    "                    gpd_hotspotfile = _sen3_dir.with_suffix(\".FRP.geojson\")\n",
    "                    s3hotspotsgpd = eufr.IPF_FRP_read(item)\n",
    "                    if len(s3hotspotsgpd) > 0:\n",
    "                        s3hotspotsgpd.to_file(gpd_hotspotfile, driver='GeoJSON')\n",
    "                        if s3_upload:\n",
    "                            print(gpd_hotspotfile)\n",
    "                            eufr.s3_upload_file(gpd_hotspotfile, s3_client, s3_bucket_name, prefix=_frp_dir_name )\n",
    "\n",
    "                        # move the .geojson file to local file system for analysis\n",
    "                        # make directory to store the file if downloading\n",
    "                        Path(f\"{workdir}/{_frp_dir_name}\").mkdir(parents=True, exist_ok=True)\n",
    "                        shutil.move(gpd_hotspotfile.as_posix(), f\"{workdir}/{_frp_dir_name}/{gpd_hotspotfile.name}\")"
   ]
  },
  {
   "cell_type": "markdown",
   "metadata": {},
   "source": [
    "### Concatenate .geojson Eumetsat's FRP to an Eumetsat's hotspot file\n",
    "Set the directory where .geojson file from Eumetsat's FRP product resides. Individual dataframe from .geojson files parsed and additional attributes\n",
    "are added to form `s3vt_hotspot.geojson` file equivalent \\ at working directory named `s3vt_eumetsat_hotspots.geojson`. \\ After you have finished running through this notebook you will see the `s3vt_eumetsat_hotspots.geojson` file in the `workdir`. Use `s3vt_eumetsat_hotspots.geojson` file for analysis with other hotspot products."
   ]
  },
  {
   "cell_type": "code",
   "execution_count": null,
   "metadata": {},
   "outputs": [],
   "source": [
    "eumet_geojson_dir = Path(\"/home/jovyan/s3vt/workdir_s3vt/eumetsat_data\") # this is be the directory where .geojson files are downloaded if you follow this notebook. home/jovyan might be different depending on sandbox configuration file\n",
    "df_eumetsat = []\n",
    "for fp in eumet_geojson_dir.glob(\"**/*.geojson\"):\n",
    "    df1 = gpd.read_file(fp.as_posix())\n",
    "    df1[\"satellite\"] = f\"SENTINEL_{fp.name[0:3]}\"\n",
    "    df1['sensor'] = 'SLSTR'\n",
    "    df2 = df1.query(\"FRP_MWIR>0\")\n",
    "    if len(df2) > 0:\n",
    "        df_eumetsat.append(df2)\n",
    "s3vthotspot_eumetsat = gpd.GeoDataFrame(pd.concat(df_eumetsat, ignore_index=True))\n",
    "s3vthotspot_eumetsat[\"date\"] = pd.to_datetime(netCDF4.num2date(s3vthotspot_eumetsat.time, units='microseconds since 2000-01-01T00:00:00Z', only_use_cftime_datetimes=False, only_use_python_datetimes=True))\n",
    "s3vthotspot_eumetsat[\"solar_day\"] = s3vthotspot_eumetsat.apply(lambda row: eufr.solar_day(row.date, row.longitude), axis=1)\n",
    "s3vthotspot_eumetsat.to_file(workdir.joinpath(\"s3vt_eumetsat_hotspots.geojson\"), driver='GeoJSON')"
   ]
  },
  {
   "cell_type": "code",
   "execution_count": null,
   "metadata": {},
   "outputs": [],
   "source": [
    "bbox = (110.0, -50.0, 160.0, -10)\n",
    "eumetsat_geojson_file = \"/home/jovyan/s3vt/workdir_s3vt/workdir_s3vt/s3vt_eumetsat_hotspots.geojson\"\n",
    "df_subset = gpd.read_file(eumetsat_geojson_file, bbox=bbox)"
   ]
  },
  {
   "cell_type": "code",
   "execution_count": null,
   "metadata": {},
   "outputs": [],
   "source": [
    "df_subset.plot()"
   ]
  },
  {
   "cell_type": "code",
   "execution_count": null,
   "metadata": {},
   "outputs": [],
   "source": []
  }
 ],
 "metadata": {
  "kernelspec": {
   "display_name": "Python 3",
   "language": "python",
   "name": "python3"
  },
  "language_info": {
   "codemirror_mode": {
    "name": "ipython",
    "version": 3
   },
   "file_extension": ".py",
   "mimetype": "text/x-python",
   "name": "python",
   "nbconvert_exporter": "python",
   "pygments_lexer": "ipython3",
   "version": "3.6.9"
  }
 },
 "nbformat": 4,
 "nbformat_minor": 4
}
