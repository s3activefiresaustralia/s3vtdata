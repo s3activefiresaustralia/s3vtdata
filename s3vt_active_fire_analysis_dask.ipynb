{
 "cells": [
  {
   "cell_type": "code",
   "execution_count": 1,
   "metadata": {},
   "outputs": [],
   "source": [
    "import os\n",
    "import sys\n",
    "from pathlib import Path\n",
    "import logging\n",
    "import time\n",
    "import pandas as pd\n",
    "import geopandas as gpd\n",
    "import seaborn\n",
    "import dask\n",
    "import numpy as np\n",
    "import dask.dataframe as dd\n",
    "from dask.distributed import Client\n",
    "import hotspot_utils as util\n",
    "import process_nearest_hotspots as nearest_process\n",
    "import logging"
   ]
  },
  {
   "cell_type": "code",
   "execution_count": 2,
   "metadata": {},
   "outputs": [],
   "source": [
    "logging.basicConfig(\n",
    "    format='%(asctime)s [%(levelname)s] %(name)s - %(message)s',\n",
    "    level=logging.INFO,\n",
    "    datefmt='%Y-%m-%d %H:%M:%S',\n",
    "    stream=sys.stdout,\n",
    ")\n",
    "_LOG = logging.getLogger(__name__)"
   ]
  },
  {
   "cell_type": "code",
   "execution_count": 3,
   "metadata": {},
   "outputs": [],
   "source": [
    "client = Client(processes=False)"
   ]
  },
  {
   "cell_type": "markdown",
   "metadata": {},
   "source": [
    "# Processing Parameter used in Sub-setting Spatial Extent and Temporal Range for Area of Interest\n",
    "##### The FRP data from nasa, esa, eumetsat and landgate are merged, sub-setted and neareast hotspots csv files are generated based on the parameters in `processing_parameters`  \n",
    "##### The parameter `chunks` in blocking FRP data to enable multi-processing. If you encounter memory issues then higher the number.\n",
    "##### The parameter `compare_field` is the name of column that will be used to generate nearest hotspots, the data in the column should be of datetime type."
   ]
  },
  {
   "cell_type": "code",
   "execution_count": 4,
   "metadata": {},
   "outputs": [],
   "source": [
    "processing_parameters = {\n",
    "    \"nasa_frp\": \"s3://s3vtaustralia/nasa_hotspots_gdf.geojson\",\n",
    "    \"esa_frp\": \"s3://s3vtaustralia/s3vt_hotspots.geojson\",\n",
    "    \"eumetsat_frp\": \"s3://s3vtaustralia/s3vt_eumetsat_hotspots.geojson\",\n",
    "    \"landgate_frp\": \"s3://s3vtaustralia/landgate_hotspots_gdf.geojson\",\n",
    "    \"dea_frp\": None,\n",
    "    \"lon_west\": 147.0,\n",
    "    \"lat_south\": -38.0,\n",
    "    \"lon_east\": 154.0,\n",
    "    \"lat_north\": -27.,\n",
    "    \"start_date\": \"2019-11-01\",\n",
    "    \"end_date\": \"2020-10-08\",\n",
    "    \"start_time\": \"21:00\",\n",
    "    \"end_time\": \"3:00\",\n",
    "    \"chunks\": 300,\n",
    "    \"outdir\": Path(os.getcwd()).joinpath(\"workdir\"),\n",
    "    \"compare_field\": \"solar_night\"\n",
    "}"
   ]
  },
  {
   "cell_type": "code",
   "execution_count": null,
   "metadata": {},
   "outputs": [
    {
     "name": "stdout",
     "output_type": "stream",
     "text": [
      "2021-03-12 02:25:49 [INFO] process_nearest_hotspots - Processing Neareast Hotspots...\n",
      "2021-03-12 02:25:49 [INFO] botocore.credentials - Found credentials in environment variables.\n",
      "2021-03-12 02:25:49 [INFO] hotspot_utils - s3://s3vtaustralia/nasa_hotspots_gdf.geojson exists: skipped download\n",
      "2021-03-12 02:25:49 [INFO] hotspot_utils - s3://s3vtaustralia/s3vt_hotspots.geojson exists: skipped download\n",
      "2021-03-12 02:25:49 [INFO] hotspot_utils - s3://s3vtaustralia/s3vt_eumetsat_hotspots.geojson exists: skipped download\n",
      "2021-03-12 02:25:49 [INFO] hotspot_utils - s3://s3vtaustralia/landgate_hotspots_gdf.geojson exists: skipped download\n",
      "2021-03-12 02:25:49 [INFO] hotspot_utils - dea Hotspots FRP  is None. excluding from analysis.\n",
      "2021-03-12 02:25:49 [INFO] process_nearest_hotspots - Reading spatial and temporal subsets of all hotspots dataframes...\n",
      "2021-03-12 02:25:49 [INFO] hotspot_utils - reading and subsetting GeoDataFrame for nasa: /home/jovyan/s3vt_dask/s3vtdata/workdir/nasa_hotspots_gdf.geojson\n",
      "2021-03-12 02:27:24 [INFO] hotspot_utils - reading and subsetting GeoDataFrame for esa: /home/jovyan/s3vt_dask/s3vtdata/workdir/s3vt_hotspots.geojson\n",
      "2021-03-12 02:28:17 [INFO] hotspot_utils - reading and subsetting GeoDataFrame for eumetsat: /home/jovyan/s3vt_dask/s3vtdata/workdir/s3vt_eumetsat_hotspots.geojson\n",
      "2021-03-12 02:29:49 [INFO] hotspot_utils - reading and subsetting GeoDataFrame for landgate: /home/jovyan/s3vt_dask/s3vtdata/workdir/landgate_hotspots_gdf.geojson\n",
      "2021-03-12 02:32:56 [INFO] process_nearest_hotspots - Merging hotspots dataframe...\n",
      "2021-03-12 02:36:35 [INFO] process_nearest_hotspots - The merged hotspots dataframe head:\n",
      "                      latitude  longitude satellite sensor  confidence  power  \\\n",
      "2019-12-05 00:14:32 -30.06377  152.13608   NOAA 20  VIIRS        50.0    7.0   \n",
      "2019-12-05 00:07:23 -33.95615  150.34776   NOAA 20  VIIRS        50.0    3.5   \n",
      "2019-12-05 00:07:24 -33.95773  150.35387   NOAA 20  VIIRS        50.0    3.6   \n",
      "2019-12-05 00:07:25 -33.95880  150.35799   NOAA 20  VIIRS        50.0    3.6   \n",
      "2019-12-05 00:07:27 -33.96070  150.36525   NOAA 20  VIIRS        50.0    1.6   \n",
      "\n",
      "                               datetime           solar_day  \\\n",
      "2019-12-05 00:14:32 2019-12-04 14:06:00 2019-12-05 00:14:32   \n",
      "2019-12-05 00:07:23 2019-12-04 14:06:00 2019-12-05 00:07:23   \n",
      "2019-12-05 00:07:24 2019-12-04 14:06:00 2019-12-05 00:07:24   \n",
      "2019-12-05 00:07:25 2019-12-04 14:06:00 2019-12-05 00:07:25   \n",
      "2019-12-05 00:07:27 2019-12-04 14:06:00 2019-12-05 00:07:27   \n",
      "\n",
      "                     satellite_sensor_product                     geometry  \\\n",
      "2019-12-05 00:14:32  NOAA 20_VIIRS_NASA2.0NRT  POINT (152.13608 -30.06377)   \n",
      "2019-12-05 00:07:23  NOAA 20_VIIRS_NASA2.0NRT  POINT (150.34776 -33.95615)   \n",
      "2019-12-05 00:07:24  NOAA 20_VIIRS_NASA2.0NRT  POINT (150.35387 -33.95773)   \n",
      "2019-12-05 00:07:25  NOAA 20_VIIRS_NASA2.0NRT  POINT (150.35799 -33.95880)   \n",
      "2019-12-05 00:07:27  NOAA 20_VIIRS_NASA2.0NRT  POINT (150.36525 -33.96070)   \n",
      "\n",
      "                            solar_night  \n",
      "2019-12-05 00:14:32 2019-12-04 12:14:32  \n",
      "2019-12-05 00:07:23 2019-12-04 12:07:23  \n",
      "2019-12-05 00:07:24 2019-12-04 12:07:24  \n",
      "2019-12-05 00:07:25 2019-12-04 12:07:25  \n",
      "2019-12-05 00:07:27 2019-12-04 12:07:27  \n",
      "2021-03-12 02:36:36 [INFO] process_nearest_hotspots - The merged hotspots dataframe count:\n",
      " latitude                    1923850\n",
      "longitude                   1923850\n",
      "satellite                   1923850\n",
      "sensor                      1923850\n",
      "confidence                  1923850\n",
      "power                       1923850\n",
      "datetime                    1923850\n",
      "solar_day                   1923850\n",
      "satellite_sensor_product    1923850\n",
      "geometry                    1923850\n",
      "solar_night                 1923850\n",
      "dtype: int64\n",
      "2021-03-12 02:36:36 [INFO] process_nearest_hotspots - The spatial and temporal extents of merged hotspots.\n",
      "2021-03-12 02:36:36 [INFO] process_nearest_hotspots - minimum datetime: 2019-11-01 11:46:00, maximum datetime: 2020-10-07 16:12:00\n",
      "2021-03-12 02:36:36 [INFO] process_nearest_hotspots - longitude range: 147.0  to 153.76323761178514\n",
      "2021-03-12 02:36:36 [INFO] process_nearest_hotspots - latitude range: -37.887  to -27.0\n",
      "2021-03-12 02:36:36 [INFO] process_nearest_hotspots - Generating satellite swaths from 2019-11-01 to 2020-10-08\n",
      "2021-03-12 02:36:37 [INFO] process_nearest_hotspots - Generating neareast hotspots...\n",
      "2021-03-12 02:36:37 [INFO] process_nearest_hotspots - Comparing Hotspots for NOAA 20_VIIRS_NASA2.0NRT and NOAA 20_VIIRS_NASA2.0NRT\n"
     ]
    },
    {
     "name": "stderr",
     "output_type": "stream",
     "text": [
      "/env/lib/python3.6/site-packages/distributed/worker.py:3382: UserWarning: Large object of size 1.99 MB detected in task graph: \n",
      "  (                     latitude  longitude satellit ... 7/2019-12-04'))\n",
      "Consider scattering large objects ahead of time\n",
      "with client.scatter to reduce scheduler burden and \n",
      "keep data on workers\n",
      "\n",
      "    future = client.submit(func, big_data)    # bad\n",
      "\n",
      "    big_future = client.scatter(big_data)     # good\n",
      "    future = client.submit(func, big_future)  # good\n",
      "  % (format_bytes(len(b)), s)\n"
     ]
    },
    {
     "name": "stdout",
     "output_type": "stream",
     "text": [
      "2021-03-12 02:40:04 [INFO] process_nearest_hotspots - Comparing Hotspots for NOAA 20_VIIRS_NASA2.0NRT and SUOMI NPP_VIIRS_NASA1\n",
      "2021-03-12 02:44:07 [INFO] process_nearest_hotspots - Comparing Hotspots for NOAA 20_VIIRS_NASA2.0NRT and TERRA_MODIS_NASA6.03\n",
      "2021-03-12 02:45:27 [INFO] process_nearest_hotspots - Comparing Hotspots for NOAA 20_VIIRS_NASA2.0NRT and AQUA_MODIS_NASA6.03\n",
      "2021-03-12 02:46:39 [INFO] process_nearest_hotspots - Comparing Hotspots for NOAA 20_VIIRS_NASA2.0NRT and SENTINEL_3A_SLSTR_ESA\n",
      "2021-03-12 02:47:49 [INFO] process_nearest_hotspots - Comparing Hotspots for NOAA 20_VIIRS_NASA2.0NRT and SENTINEL_3B_SLSTR_ESA\n",
      "2021-03-12 02:49:05 [INFO] process_nearest_hotspots - Comparing Hotspots for NOAA 20_VIIRS_NASA2.0NRT and SENTINEL_3A_SLSTR_EUMETSAT\n",
      "2021-03-12 02:50:46 [INFO] process_nearest_hotspots - Comparing Hotspots for NOAA 20_VIIRS_NASA2.0NRT and SENTINEL_3B_SLSTR_EUMETSAT\n",
      "2021-03-12 02:52:37 [INFO] process_nearest_hotspots - Comparing Hotspots for NOAA 20_VIIRS_NASA2.0NRT and SUOMI NPP_VIIRS_LANDGATE\n"
     ]
    }
   ],
   "source": [
    "# This is to generate nearest .csv files. If .csv files already exists then skip this process. Takes around ~5-6 hours in this sandbox environment with 2-core and 16 GB RAM\n",
    "nearest_hotspots_product_files = nearest_process.process_nearest_points(**processing_parameters)"
   ]
  },
  {
   "cell_type": "markdown",
   "metadata": {},
   "source": [
    "## Nearest Hotspots DataFrame merged from neareast hotspots csv files"
   ]
  },
  {
   "cell_type": "code",
   "execution_count": null,
   "metadata": {},
   "outputs": [],
   "source": [
    "# csv directory is where nearest hotspots csv files are stored. \n",
    "csv_directory = Path(os.getcwd()).joinpath(\"workdir\")\n",
    "# This is read all the .csv files if name starts with `nearest_points` and ends with `compare_field` value from processing parameters.\n",
    "nearest_hotspots_csv_files = [\n",
    "    fp for fp in csv_directory.iterdir()\n",
    "    if (fp.name.startswith(\"nearest_points\"))\n",
    "    and (fp.name.endswith(f\"{processing_parameters['compare_field']}.csv\"))\n",
    "]"
   ]
  },
  {
   "cell_type": "code",
   "execution_count": null,
   "metadata": {},
   "outputs": [],
   "source": [
    "# nearest points csv files that will be used analysis from here on.\n",
    "nearest_hotspots_csv_files"
   ]
  },
  {
   "cell_type": "code",
   "execution_count": null,
   "metadata": {},
   "outputs": [],
   "source": [
    "# returns a dask DataFrame with index set at column `compare_field` from processing_parameters.\n",
    "nearest_points_ddf = util.csv_to_dataframe(nearest_hotspots_csv_files, processing_parameters[\"compare_field\"])"
   ]
  },
  {
   "cell_type": "code",
   "execution_count": null,
   "metadata": {},
   "outputs": [],
   "source": [
    "nearest_points_ddf.head()"
   ]
  },
  {
   "cell_type": "markdown",
   "metadata": {},
   "source": [
    "# Results\n",
    "## Co-occurrence metrics"
   ]
  },
  {
   "cell_type": "code",
   "execution_count": null,
   "metadata": {},
   "outputs": [],
   "source": [
    "# set the nearest distance threshold between two hotspots to confine the analysis within the distance threshold.  \n",
    "dist_threshold = 5000  # units in meters"
   ]
  },
  {
   "cell_type": "code",
   "execution_count": null,
   "metadata": {},
   "outputs": [],
   "source": [
    "nearest_ddf_dist_subset = client.persist(nearest_points_ddf[nearest_points_ddf[\"dist_m\"] < dist_threshold])"
   ]
  },
  {
   "cell_type": "code",
   "execution_count": null,
   "metadata": {},
   "outputs": [],
   "source": [
    "# Count of hotspot matches < dist_threshold\n",
    "numerator = util.dask_pivot_table(\n",
    "    nearest_ddf_dist_subset,\n",
    "    index=\"2_satellite_sensor_product\",\n",
    "    column=\"satellite_sensor_product\",\n",
    "    values=\"count\",\n",
    "    aggfunc=\"count\"\n",
    ").compute()"
   ]
  },
  {
   "cell_type": "code",
   "execution_count": null,
   "metadata": {},
   "outputs": [],
   "source": [
    "numerator.astype(int)"
   ]
  },
  {
   "cell_type": "code",
   "execution_count": null,
   "metadata": {},
   "outputs": [],
   "source": [
    "# Count of hotspot matches - total  \n",
    "denominator = util.dask_pivot_table(\n",
    "        nearest_points_ddf,\n",
    "        index=\"2_satellite_sensor_product\",\n",
    "        column=\"satellite_sensor_product\",\n",
    "        values=\"count\",\n",
    "        aggfunc=\"count\",\n",
    "    ).compute()"
   ]
  },
  {
   "cell_type": "code",
   "execution_count": null,
   "metadata": {},
   "outputs": [],
   "source": [
    "denominator.astype(int)"
   ]
  },
  {
   "cell_type": "code",
   "execution_count": null,
   "metadata": {},
   "outputs": [],
   "source": [
    "# Difference of matched points closer than 5000m\n",
    "difference = denominator - numerator"
   ]
  },
  {
   "cell_type": "code",
   "execution_count": null,
   "metadata": {},
   "outputs": [],
   "source": [
    "difference.astype(int)"
   ]
  },
  {
   "cell_type": "code",
   "execution_count": null,
   "metadata": {},
   "outputs": [],
   "source": [
    "# Percentage of matched points closer than dist_threshold\n",
    "percentage = (numerator / denominator) * 100"
   ]
  },
  {
   "cell_type": "code",
   "execution_count": null,
   "metadata": {},
   "outputs": [],
   "source": [
    "percentage.astype(int)"
   ]
  },
  {
   "cell_type": "code",
   "execution_count": null,
   "metadata": {},
   "outputs": [],
   "source": [
    "# Maximum time between match points < dist_threshold\n",
    "timemax = util.pandas_pivot_table(\n",
    "    nearest_ddf_dist_subset.compute(),\n",
    "    index=[\"satellite_sensor_product\"],\n",
    "    columns=[\"2_satellite_sensor_product\"],\n",
    "    values=[\"timedelta\"],\n",
    "    aggfunc={\"timedelta\": np.max}\n",
    "    \n",
    ")"
   ]
  },
  {
   "cell_type": "code",
   "execution_count": null,
   "metadata": {},
   "outputs": [],
   "source": [
    "timemax"
   ]
  },
  {
   "cell_type": "code",
   "execution_count": null,
   "metadata": {},
   "outputs": [],
   "source": [
    "# Minimum time between match points < dist_threshold\n",
    "timemin = util.pandas_pivot_table(\n",
    "    nearest_ddf_dist_subset.compute(),\n",
    "    index=[\"satellite_sensor_product\"],\n",
    "    columns=[\"2_satellite_sensor_product\"],\n",
    "    values=[\"timedelta\"],\n",
    "    aggfunc={\"timedelta\": np.min}\n",
    "    \n",
    ")"
   ]
  },
  {
   "cell_type": "code",
   "execution_count": null,
   "metadata": {},
   "outputs": [],
   "source": [
    "timemin"
   ]
  },
  {
   "cell_type": "code",
   "execution_count": null,
   "metadata": {},
   "outputs": [],
   "source": [
    "# Average distance (m) between matched points < dist_threshold\n",
    "averagedist = util.dask_pivot_table(\n",
    "    nearest_ddf_dist_subset,\n",
    "    index=\"2_satellite_sensor_product\",\n",
    "    column=\"satellite_sensor_product\",\n",
    "    values=\"dist_m\",\n",
    "    aggfunc=\"mean\",\n",
    ").compute()"
   ]
  },
  {
   "cell_type": "code",
   "execution_count": 1,
   "metadata": {},
   "outputs": [
    {
     "ename": "NameError",
     "evalue": "name 'np' is not defined",
     "output_type": "error",
     "traceback": [
      "\u001b[0;31m---------------------------------------------------------------------------\u001b[0m",
      "\u001b[0;31mNameError\u001b[0m                                 Traceback (most recent call last)",
      "\u001b[0;32m<ipython-input-1-925638c0be0b>\u001b[0m in \u001b[0;36m<module>\u001b[0;34m\u001b[0m\n\u001b[0;32m----> 1\u001b[0;31m \u001b[0mnp\u001b[0m\u001b[0;34m.\u001b[0m\u001b[0mround\u001b[0m\u001b[0;34m(\u001b[0m\u001b[0maveragedist\u001b[0m\u001b[0;34m,\u001b[0m \u001b[0;36m2\u001b[0m\u001b[0;34m)\u001b[0m\u001b[0;34m\u001b[0m\u001b[0;34m\u001b[0m\u001b[0m\n\u001b[0m",
      "\u001b[0;31mNameError\u001b[0m: name 'np' is not defined"
     ]
    }
   ],
   "source": [
    "np.round(averagedist, 2)"
   ]
  },
  {
   "cell_type": "code",
   "execution_count": null,
   "metadata": {},
   "outputs": [],
   "source": []
  }
 ],
 "metadata": {
  "kernelspec": {
   "display_name": "Python 3",
   "language": "python",
   "name": "python3"
  },
  "language_info": {
   "codemirror_mode": {
    "name": "ipython",
    "version": 3
   },
   "file_extension": ".py",
   "mimetype": "text/x-python",
   "name": "python",
   "nbconvert_exporter": "python",
   "pygments_lexer": "ipython3",
   "version": "3.6.9"
  }
 },
 "nbformat": 4,
 "nbformat_minor": 4
}
