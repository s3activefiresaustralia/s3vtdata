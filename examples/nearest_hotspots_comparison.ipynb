{
 "cells": [
  {
   "cell_type": "code",
   "execution_count": 1,
   "metadata": {},
   "outputs": [
    {
     "name": "stderr",
     "output_type": "stream",
     "text": [
      "/env/lib/python3.8/site-packages/geopandas/_compat.py:106: UserWarning: The Shapely GEOS version (3.8.0-CAPI-1.13.1 ) is incompatible with the GEOS version PyGEOS was compiled with (3.9.1-CAPI-1.14.2). Conversions between both will be slow.\n",
      "  warnings.warn(\n"
     ]
    }
   ],
   "source": [
    "import os\n",
    "import sys\n",
    "import datetime\n",
    "from pathlib import Path\n",
    "import xml.etree.ElementTree as ET\n",
    "import logging\n",
    "import uuid\n",
    "import time\n",
    "import shapely\n",
    "import pandas as pd\n",
    "pd.options.plotting.backend = \"plotly\"\n",
    "import geopandas as gpd\n",
    "import seaborn\n",
    "import dask\n",
    "import numpy as np\n",
    "import dask.dataframe as dd\n",
    "from dask.distributed import Client\n",
    "\n",
    "sys.path.insert(0, '..')\n",
    "import src.hotspot_utils as util \n",
    "import src.process_nearest_hotspots as nearest_process\n",
    "import src.xml_util as xutil"
   ]
  },
  {
   "cell_type": "code",
   "execution_count": 2,
   "metadata": {},
   "outputs": [],
   "source": [
    "outdir = Path(f\"/home/jovyan/s3vt_dask/s3vtdata/workdir_test1\")"
   ]
  },
  {
   "cell_type": "code",
   "execution_count": 3,
   "metadata": {},
   "outputs": [],
   "source": [
    "logging.basicConfig(\n",
    "    format='%(asctime)s [%(levelname)s] %(name)s - %(message)s',\n",
    "    level=logging.INFO,\n",
    "    datefmt='%Y-%m-%d %H:%M:%S',\n",
    ")\n",
    "_LOG = logging.getLogger(__name__)"
   ]
  },
  {
   "cell_type": "code",
   "execution_count": 4,
   "metadata": {},
   "outputs": [
    {
     "data": {
      "text/html": [
       "<table style=\"border: 2px solid white;\">\n",
       "<tr>\n",
       "<td style=\"vertical-align: top; border: 0px solid white\">\n",
       "<h3 style=\"text-align: left;\">Client</h3>\n",
       "<ul style=\"text-align: left; list-style: none; margin: 0; padding: 0;\">\n",
       "  <li><b>Scheduler: </b>tcp://127.0.0.1:36793</li>\n",
       "  <li><b>Dashboard: </b><a href='http://127.0.0.1:8787/status' target='_blank'>http://127.0.0.1:8787/status</a></li>\n",
       "</ul>\n",
       "</td>\n",
       "<td style=\"vertical-align: top; border: 0px solid white\">\n",
       "<h3 style=\"text-align: left;\">Cluster</h3>\n",
       "<ul style=\"text-align: left; list-style:none; margin: 0; padding: 0;\">\n",
       "  <li><b>Workers: </b>4</li>\n",
       "  <li><b>Cores: </b>16</li>\n",
       "  <li><b>Memory: </b>66.57 GB</li>\n",
       "</ul>\n",
       "</td>\n",
       "</tr>\n",
       "</table>"
      ],
      "text/plain": [
       "<Client: 'tcp://127.0.0.1:36793' processes=4 threads=16, memory=66.57 GB>"
      ]
     },
     "execution_count": 4,
     "metadata": {},
     "output_type": "execute_result"
    }
   ],
   "source": [
    "# include n_workers equal or less than the number of core\n",
    "# To visualise status in Dask add /user/<username>/proxy/8787/status\n",
    "client = Client(n_workers=4)\n",
    "client"
   ]
  },
  {
   "cell_type": "markdown",
   "metadata": {},
   "source": [
    "# Processing Parameter used in Sub-setting Spatial Extent and Temporal Range for Area of Interest\n",
    "##### The FRP data from nasa, esa, eumetsat and landgate are merged, sub-setted and neareast hotspots csv files are generated based on the parameters in `processing_parameters`  \n",
    "##### The parameter `chunks` in blocking FRP data to enable multi-processing. If you encounter memory issues then higher the number.\n",
    "##### The `start_time` and `end_time` can be used to subset for solar_day (3:00-22:00), solar_night (22:00-03:00 with 12 hours offset) and solar_all(0:00-24:00) hours."
   ]
  },
  {
   "cell_type": "code",
   "execution_count": 5,
   "metadata": {},
   "outputs": [],
   "source": [
    "processing_parameters = {\n",
    "    \"nasa_frp\": \"s3://s3vtaustralia/nasa_hotspots_gdf.geojson\",\n",
    "    \"esa_frp\": \"s3://s3vtaustralia/s3vt_hotspots.geojson\",\n",
    "    \"eumetsat_frp\": \"s3://s3vtaustralia/s3vt_eumetsat_hotspots.geojson\",\n",
    "    \"landgate_frp\": \"s3://s3vtaustralia/landgate_hotspots_gdf.geojson\",\n",
    "    \"sentinel3_swath_geojson\": \"s3://s3vtaustralia/sentinel3_swath_gdfs.geojson\",\n",
    "    \"dea_frp\": None,\n",
    "    \"lon_west\": 147.0,\n",
    "    \"lat_south\": -38.0,\n",
    "    \"lon_east\": 154.0,\n",
    "    \"lat_north\": -27.,\n",
    "    \"start_date\": \"2019-11-01\",\n",
    "    \"end_date\": \"2020-10-08\",\n",
    "    \"start_time\": \"20:00\",\n",
    "    \"end_time\": \"03:00\",\n",
    "    \"chunks\": 250,\n",
    "    \"compare_field\": \"solar_night\",\n",
    "    \"swath_config_file\": Path(\"/home/jovyan/s3vt_dask/s3vtdata/configs/s3vtconfig.yaml\"),\n",
    "    \"outdir\": outdir,\n",
    "    \"test\": False\n",
    "}"
   ]
  },
  {
   "cell_type": "code",
   "execution_count": null,
   "metadata": {},
   "outputs": [],
   "source": []
  },
  {
   "cell_type": "code",
   "execution_count": 6,
   "metadata": {},
   "outputs": [
    {
     "name": "stderr",
     "output_type": "stream",
     "text": [
      "2021-10-04 03:57:49,003: INFO: /home/jovyan/s3vt_dask/s3vtdata/workdir_test1/all_hotspots_154_147_20191101_20201008_2000_0300.pkl exists. Reading hotspots GeoDataFrame from the file.\n",
      "2021-10-04 03:57:52,951: INFO: Processing subset between 09:44 and 17:12 utc time\n",
      "2021-10-04 03:57:54,103: INFO: Processing Neareast Hotspots...\n",
      "2021-10-04 03:57:54,118: INFO: /home/jovyan/s3vt_dask/s3vtdata/workdir_test1/swaths_154_147_20191101_20201008.pkl exists. Reading Swath GeoDataFrame from the file.\n"
     ]
    },
    {
     "name": "stdout",
     "output_type": "stream",
     "text": [
      "                     latitude  longitude satellite sensor  confidence  power  \\\n",
      "datetime                                                                       \n",
      "2019-12-04 14:06:00 -30.06377  152.13608   NOAA 20  VIIRS        50.0    7.0   \n",
      "2019-12-04 14:06:00 -33.95615  150.34776   NOAA 20  VIIRS        50.0    3.5   \n",
      "2019-12-04 14:06:00 -33.95773  150.35387   NOAA 20  VIIRS        50.0    3.6   \n",
      "2019-12-04 14:06:00 -33.95880  150.35799   NOAA 20  VIIRS        50.0    3.6   \n",
      "2019-12-04 14:06:00 -33.96070  150.36525   NOAA 20  VIIRS        50.0    1.6   \n",
      "\n",
      "                               datetime           solar_day  \\\n",
      "datetime                                                      \n",
      "2019-12-04 14:06:00 2019-12-04 14:06:00 2019-12-05 00:14:32   \n",
      "2019-12-04 14:06:00 2019-12-04 14:06:00 2019-12-05 00:07:23   \n",
      "2019-12-04 14:06:00 2019-12-04 14:06:00 2019-12-05 00:07:24   \n",
      "2019-12-04 14:06:00 2019-12-04 14:06:00 2019-12-05 00:07:25   \n",
      "2019-12-04 14:06:00 2019-12-04 14:06:00 2019-12-05 00:07:27   \n",
      "\n",
      "                     satellite_sensor_product                     geometry  \\\n",
      "datetime                                                                     \n",
      "2019-12-04 14:06:00  NOAA 20_VIIRS_NASA2.0NRT  POINT (152.13608 -30.06377)   \n",
      "2019-12-04 14:06:00  NOAA 20_VIIRS_NASA2.0NRT  POINT (150.34776 -33.95615)   \n",
      "2019-12-04 14:06:00  NOAA 20_VIIRS_NASA2.0NRT  POINT (150.35387 -33.95773)   \n",
      "2019-12-04 14:06:00  NOAA 20_VIIRS_NASA2.0NRT  POINT (150.35799 -33.95880)   \n",
      "2019-12-04 14:06:00  NOAA 20_VIIRS_NASA2.0NRT  POINT (150.36525 -33.96070)   \n",
      "\n",
      "                            solar_night  \n",
      "datetime                                 \n",
      "2019-12-04 14:06:00 2019-12-04 12:14:32  \n",
      "2019-12-04 14:06:00 2019-12-04 12:07:23  \n",
      "2019-12-04 14:06:00 2019-12-04 12:07:24  \n",
      "2019-12-04 14:06:00 2019-12-04 12:07:25  \n",
      "2019-12-04 14:06:00 2019-12-04 12:07:27  \n"
     ]
    },
    {
     "name": "stderr",
     "output_type": "stream",
     "text": [
      "2021-10-04 03:57:54,758: INFO: Generating neareast hotspots...\n",
      "2021-10-04 03:57:54,886: INFO: /home/jovyan/s3vt_dask/s3vtdata/workdir_test1/nearest_points_NOAA 20_VIIRS_NASA2.0NRT_2000_0300.csv exists. skipped nearest hotspots processing for product NOAA 20_VIIRS_NASA2.0NRT. Same file will be used in analysis.\n",
      "2021-10-04 03:57:54,886: INFO: /home/jovyan/s3vt_dask/s3vtdata/workdir_test1/nearest_points_SUOMI NPP_VIIRS_NASA1_2000_0300.csv exists. skipped nearest hotspots processing for product SUOMI NPP_VIIRS_NASA1. Same file will be used in analysis.\n",
      "2021-10-04 03:57:54,887: INFO: /home/jovyan/s3vt_dask/s3vtdata/workdir_test1/nearest_points_TERRA_MODIS_NASA6.03_2000_0300.csv exists. skipped nearest hotspots processing for product TERRA_MODIS_NASA6.03. Same file will be used in analysis.\n",
      "2021-10-04 03:57:54,887: INFO: /home/jovyan/s3vt_dask/s3vtdata/workdir_test1/nearest_points_AQUA_MODIS_NASA6.03_2000_0300.csv exists. skipped nearest hotspots processing for product AQUA_MODIS_NASA6.03. Same file will be used in analysis.\n",
      "2021-10-04 03:57:54,887: INFO: /home/jovyan/s3vt_dask/s3vtdata/workdir_test1/nearest_points_SENTINEL_3A_SLSTR_ESA_2000_0300.csv exists. skipped nearest hotspots processing for product SENTINEL_3A_SLSTR_ESA. Same file will be used in analysis.\n",
      "2021-10-04 03:57:54,888: INFO: /home/jovyan/s3vt_dask/s3vtdata/workdir_test1/nearest_points_SENTINEL_3B_SLSTR_ESA_2000_0300.csv exists. skipped nearest hotspots processing for product SENTINEL_3B_SLSTR_ESA. Same file will be used in analysis.\n",
      "2021-10-04 03:57:54,888: INFO: /home/jovyan/s3vt_dask/s3vtdata/workdir_test1/nearest_points_SENTINEL_3A_SLSTR_EUMETSAT_2000_0300.csv exists. skipped nearest hotspots processing for product SENTINEL_3A_SLSTR_EUMETSAT. Same file will be used in analysis.\n",
      "2021-10-04 03:57:54,889: INFO: /home/jovyan/s3vt_dask/s3vtdata/workdir_test1/nearest_points_SENTINEL_3B_SLSTR_EUMETSAT_2000_0300.csv exists. skipped nearest hotspots processing for product SENTINEL_3B_SLSTR_EUMETSAT. Same file will be used in analysis.\n",
      "2021-10-04 03:57:54,889: INFO: /home/jovyan/s3vt_dask/s3vtdata/workdir_test1/nearest_points_SUOMI NPP_VIIRS_LANDGATE_2000_0300.csv exists. skipped nearest hotspots processing for product SUOMI NPP_VIIRS_LANDGATE. Same file will be used in analysis.\n",
      "2021-10-04 03:57:54,889: INFO: /home/jovyan/s3vt_dask/s3vtdata/workdir_test1/nearest_points_NOAA 20_VIIRS_LANDGATE_2000_0300.csv exists. skipped nearest hotspots processing for product NOAA 20_VIIRS_LANDGATE. Same file will be used in analysis.\n",
      "2021-10-04 03:57:54,891: INFO: /home/jovyan/s3vt_dask/s3vtdata/workdir_test1/nearest_points_TERRA_MODIS_LANDGATE_2000_0300.csv exists. skipped nearest hotspots processing for product TERRA_MODIS_LANDGATE. Same file will be used in analysis.\n",
      "2021-10-04 03:57:54,891: INFO: /home/jovyan/s3vt_dask/s3vtdata/workdir_test1/nearest_points_AQUA_MODIS_LANDGATE_2000_0300.csv exists. skipped nearest hotspots processing for product AQUA_MODIS_LANDGATE. Same file will be used in analysis.\n",
      "2021-10-04 03:58:00,444: INFO: Note: NumExpr detected 16 cores but \"NUMEXPR_MAX_THREADS\" not set, so enforcing safe limit of 8.\n",
      "2021-10-04 03:58:00,444: INFO: NumExpr defaulting to 8 threads.\n",
      "/env/lib/python3.8/site-packages/geopandas/_compat.py:106: UserWarning: The Shapely GEOS version (3.8.0-CAPI-1.13.1 ) is incompatible with the GEOS version PyGEOS was compiled with (3.9.1-CAPI-1.14.2). Conversions between both will be slow.\n",
      "  warnings.warn(\n",
      "2021-10-04 03:58:03,416: INFO: Comparing Hotspots for NOAA-19_AVHRR_LANDGATE and NOAA 20_VIIRS_NASA2.0NRT\n",
      "2021-10-04 03:58:04,891: INFO: Comparing Hotspots for NOAA-19_AVHRR_LANDGATE and SUOMI NPP_VIIRS_NASA1\n",
      "2021-10-04 03:58:05,389: INFO: Comparing Hotspots for NOAA-19_AVHRR_LANDGATE and TERRA_MODIS_NASA6.03\n",
      "2021-10-04 03:58:05,637: INFO: Comparing Hotspots for NOAA-19_AVHRR_LANDGATE and AQUA_MODIS_NASA6.03\n",
      "2021-10-04 03:58:05,863: INFO: Comparing Hotspots for NOAA-19_AVHRR_LANDGATE and SENTINEL_3A_SLSTR_ESA\n",
      "2021-10-04 03:58:06,078: INFO: Comparing Hotspots for NOAA-19_AVHRR_LANDGATE and SENTINEL_3B_SLSTR_ESA\n",
      "2021-10-04 03:58:06,309: INFO: Comparing Hotspots for NOAA-19_AVHRR_LANDGATE and SENTINEL_3A_SLSTR_EUMETSAT\n",
      "2021-10-04 03:58:07,546: INFO: Note: NumExpr detected 16 cores but \"NUMEXPR_MAX_THREADS\" not set, so enforcing safe limit of 8.\n",
      "2021-10-04 03:58:07,546: INFO: NumExpr defaulting to 8 threads.\n",
      "2021-10-04 03:58:08,384: INFO: Comparing Hotspots for NOAA-19_AVHRR_LANDGATE and SENTINEL_3B_SLSTR_EUMETSAT\n",
      "2021-10-04 03:58:09,683: INFO: Comparing Hotspots for NOAA-19_AVHRR_LANDGATE and SUOMI NPP_VIIRS_LANDGATE\n",
      "2021-10-04 03:58:10,263: INFO: Comparing Hotspots for NOAA-19_AVHRR_LANDGATE and NOAA 20_VIIRS_LANDGATE\n",
      "2021-10-04 03:58:10,798: INFO: Comparing Hotspots for NOAA-19_AVHRR_LANDGATE and NOAA-19_AVHRR_LANDGATE\n",
      "2021-10-04 03:58:11,844: INFO: Comparing Hotspots for NOAA-19_AVHRR_LANDGATE and TERRA_MODIS_LANDGATE\n",
      "2021-10-04 03:58:12,149: INFO: Comparing Hotspots for NOAA-19_AVHRR_LANDGATE and AQUA_MODIS_LANDGATE\n"
     ]
    }
   ],
   "source": [
    "# This is to generate nearest .csv files. If .csv files already exists then skip this process. Takes around ~5-6 hours in this sandbox environment with 2-core and 16 GB RAM\n",
    "nearest_hotspots_product_files = nearest_process.process_nearest_points(**processing_parameters)"
   ]
  },
  {
   "cell_type": "code",
   "execution_count": null,
   "metadata": {},
   "outputs": [],
   "source": []
  },
  {
   "cell_type": "markdown",
   "metadata": {},
   "source": [
    "## Nearest Hotspots DataFrame merged from neareast hotspots csv files"
   ]
  },
  {
   "cell_type": "code",
   "execution_count": 7,
   "metadata": {},
   "outputs": [
    {
     "name": "stdout",
     "output_type": "stream",
     "text": [
      "/home/jovyan/s3vt_dask/s3vtdata/workdir_test1\n"
     ]
    }
   ],
   "source": [
    "# csv directory is where nearest hotspots csv files are stored. \n",
    "csv_directory = outdir\n",
    "print(csv_directory)\n",
    "# This is read all the .csv files if name starts with `nearest_points` and ends with `compare_field` value from processing parameters.\n",
    "nearest_hotspots_csv_files = [\n",
    "    fp for fp in csv_directory.iterdir()\n",
    "    if (fp.name.startswith(\"nearest_points\"))\n",
    "    and (fp.name.endswith(\"csv\"))\n",
    "]"
   ]
  },
  {
   "cell_type": "code",
   "execution_count": 8,
   "metadata": {},
   "outputs": [
    {
     "data": {
      "text/plain": [
       "[PosixPath('/home/jovyan/s3vt_dask/s3vtdata/workdir_test1/nearest_points_AQUA_MODIS_NASA6.03_2000_0300.csv'),\n",
       " PosixPath('/home/jovyan/s3vt_dask/s3vtdata/workdir_test1/nearest_points_SENTINEL_3B_SLSTR_ESA_2000_0300.csv'),\n",
       " PosixPath('/home/jovyan/s3vt_dask/s3vtdata/workdir_test1/nearest_points_SENTINEL_3A_SLSTR_EUMETSAT_2000_0300.csv'),\n",
       " PosixPath('/home/jovyan/s3vt_dask/s3vtdata/workdir_test1/nearest_points_SENTINEL_3B_SLSTR_EUMETSAT_2000_0300.csv'),\n",
       " PosixPath('/home/jovyan/s3vt_dask/s3vtdata/workdir_test1/nearest_points_SUOMI NPP_VIIRS_NASA1_2000_0300.csv'),\n",
       " PosixPath('/home/jovyan/s3vt_dask/s3vtdata/workdir_test1/nearest_points_NOAA 20_VIIRS_NASA2.0NRT_2000_0300.csv'),\n",
       " PosixPath('/home/jovyan/s3vt_dask/s3vtdata/workdir_test1/nearest_points_NOAA 20_VIIRS_LANDGATE_2000_0300.csv'),\n",
       " PosixPath('/home/jovyan/s3vt_dask/s3vtdata/workdir_test1/nearest_points_TERRA_MODIS_LANDGATE_2000_0300.csv'),\n",
       " PosixPath('/home/jovyan/s3vt_dask/s3vtdata/workdir_test1/nearest_points_SUOMI NPP_VIIRS_LANDGATE_2000_0300.csv'),\n",
       " PosixPath('/home/jovyan/s3vt_dask/s3vtdata/workdir_test1/nearest_points_TERRA_MODIS_NASA6.03_2000_0300.csv'),\n",
       " PosixPath('/home/jovyan/s3vt_dask/s3vtdata/workdir_test1/nearest_points_SENTINEL_3A_SLSTR_ESA_2000_0300.csv'),\n",
       " PosixPath('/home/jovyan/s3vt_dask/s3vtdata/workdir_test1/nearest_points_AQUA_MODIS_LANDGATE_2000_0300.csv')]"
      ]
     },
     "execution_count": 8,
     "metadata": {},
     "output_type": "execute_result"
    }
   ],
   "source": [
    "# nearest points csv files that will be used analysis from here on.\n",
    "nearest_hotspots_csv_files"
   ]
  },
  {
   "cell_type": "code",
   "execution_count": 9,
   "metadata": {},
   "outputs": [
    {
     "name": "stderr",
     "output_type": "stream",
     "text": [
      "2021-10-04 03:58:13,514: INFO: Note: NumExpr detected 16 cores but \"NUMEXPR_MAX_THREADS\" not set, so enforcing safe limit of 8.\n",
      "2021-10-04 03:58:13,515: INFO: NumExpr defaulting to 8 threads.\n",
      "2021-10-04 03:58:13,535: INFO: Note: NumExpr detected 16 cores but \"NUMEXPR_MAX_THREADS\" not set, so enforcing safe limit of 8.\n",
      "2021-10-04 03:58:13,551: INFO: NumExpr defaulting to 8 threads.\n"
     ]
    }
   ],
   "source": [
    "# returns a dask DataFrame with index set at column `compare_field` from processing_parameters.\n",
    "nearest_points_ddf = util.csv_to_dataframe(nearest_hotspots_csv_files, processing_parameters[\"compare_field\"])"
   ]
  },
  {
   "cell_type": "code",
   "execution_count": 10,
   "metadata": {},
   "outputs": [],
   "source": [
    "nearest_points_ddf = nearest_points_ddf.compute()"
   ]
  },
  {
   "cell_type": "code",
   "execution_count": 90,
   "metadata": {},
   "outputs": [
    {
     "name": "stdout",
     "output_type": "stream",
     "text": [
      "SENTINEL_3B_SLSTR_ESA SENTINEL_3A_SLSTR_ESA 0.7727272727272727 nan 0.7727272727272727\n",
      "SENTINEL_3B_SLSTR_ESA TERRA_MODIS_NASA6.03 77.0 14.665784954089334 10.036026634955089\n",
      "SENTINEL_3B_SLSTR_ESA TERRA_MODIS_LANDGATE 77.0 14.918923442683496 6.022618844045334\n",
      "SENTINEL_3B_SLSTR_ESA AQUA_MODIS_LANDGATE 61.6 12.804753182971462 5.84924420367362\n",
      "SENTINEL_3B_SLSTR_ESA AQUA_MODIS_NASA6.03 78.0 19.045934275752547 16.42698407743961\n",
      "SENTINEL_3B_SLSTR_ESA SUOMI NPP_VIIRS_LANDGATE 61.142857142857146 11.542258031545183 3.298003257372884\n",
      "SENTINEL_3B_SLSTR_ESA SUOMI NPP_VIIRS_NASA1 1.7469387755102042 0.31171999413194157 0.4702663250933899\n",
      "SENTINEL_3B_SLSTR_ESA NOAA 20_VIIRS_LANDGATE 1.5639810426540284 0.3269611766900415 0.45235918099010863\n",
      "SENTINEL_3B_SLSTR_ESA SENTINEL_3B_SLSTR_EUMETSAT 1.0584192439862543 0.016346905376740547 1.0051324377933264\n",
      "SENTINEL_3B_SLSTR_ESA SENTINEL_3A_SLSTR_EUMETSAT nan nan nan\n",
      "SENTINEL_3B_SLSTR_ESA NOAA 20_VIIRS_NASA2.0NRT 0.6137466307277628 0.18063303960915314 0.3497165581274087\n",
      "SENTINEL_3A_SLSTR_ESA SENTINEL_3B_SLSTR_ESA 1.2941176470588236 nan 1.2941176470588236\n",
      "SENTINEL_3A_SLSTR_ESA TERRA_MODIS_NASA6.03 469.0 83.25433821844253 22.276805778122718\n",
      "SENTINEL_3A_SLSTR_ESA TERRA_MODIS_LANDGATE 31.266666666666666 6.066218487864314 3.230150621668897\n",
      "SENTINEL_3A_SLSTR_ESA AQUA_MODIS_LANDGATE 146.66666666666666 27.206653333736085 7.861732831100531\n",
      "SENTINEL_3A_SLSTR_ESA AQUA_MODIS_NASA6.03 146.66666666666666 31.295996745308113 18.854056020140092\n",
      "SENTINEL_3A_SLSTR_ESA SUOMI NPP_VIIRS_LANDGATE 1.752988047808765 0.395675449641924 0.38612842026704813\n",
      "SENTINEL_3A_SLSTR_ESA SUOMI NPP_VIIRS_NASA1 8.666666666666666 1.5023333232377125 0.6402521172681166\n",
      "SENTINEL_3A_SLSTR_ESA NOAA 20_VIIRS_LANDGATE 150.83333333333334 27.95855236274837 6.889677848192413\n",
      "SENTINEL_3A_SLSTR_ESA SENTINEL_3B_SLSTR_EUMETSAT nan nan nan\n",
      "SENTINEL_3A_SLSTR_ESA SENTINEL_3A_SLSTR_EUMETSAT 1.0538243626062322 0.013462103096107842 1.0037927909423292\n",
      "SENTINEL_3A_SLSTR_ESA NOAA 20_VIIRS_NASA2.0NRT 8.666666666666666 2.1458847528758773 1.0047466779907366\n",
      "TERRA_MODIS_NASA6.03 SENTINEL_3B_SLSTR_ESA 0.5157894736842106 0.14191512087660293 0.20774459536135706\n",
      "TERRA_MODIS_NASA6.03 SENTINEL_3A_SLSTR_ESA 0.6666666666666666 0.1589340370610617 0.24122002326574524\n",
      "TERRA_MODIS_NASA6.03 TERRA_MODIS_LANDGATE 1.5 0.21948340236382638 0.32745969474735837\n",
      "TERRA_MODIS_NASA6.03 AQUA_MODIS_LANDGATE 30.333333333333332 3.0015132793806583 0.9777738345271013\n",
      "TERRA_MODIS_NASA6.03 AQUA_MODIS_NASA6.03 112.0 13.588420557021267 5.319411900168217\n",
      "TERRA_MODIS_NASA6.03 SUOMI NPP_VIIRS_LANDGATE 18.0 1.5046509076738077 0.2454034405943869\n",
      "TERRA_MODIS_NASA6.03 SUOMI NPP_VIIRS_NASA1 2.5 0.20145995605191638 0.09720237597696525\n",
      "TERRA_MODIS_NASA6.03 NOAA 20_VIIRS_LANDGATE 48.666666666666664 3.6820959268328584 0.43639502586573403\n",
      "TERRA_MODIS_NASA6.03 SENTINEL_3B_SLSTR_EUMETSAT 0.5157894736842106 0.16402207544143335 0.24184887012569856\n",
      "TERRA_MODIS_NASA6.03 SENTINEL_3A_SLSTR_EUMETSAT 0.4707646176911544 0.13972697713879906 0.2530023214188185\n",
      "TERRA_MODIS_NASA6.03 NOAA 20_VIIRS_NASA2.0NRT 0.3006396588486141 0.052914875488609646 0.0754973647449217\n",
      "TERRA_MODIS_LANDGATE SENTINEL_3B_SLSTR_ESA 2.642105263157895 0.6261957069449007 0.7811805365461814\n",
      "TERRA_MODIS_LANDGATE SENTINEL_3A_SLSTR_ESA 2.4175824175824174 0.6286083318514051 0.9849828021506495\n",
      "TERRA_MODIS_LANDGATE TERRA_MODIS_NASA6.03 17.0 2.330297309711228 4.106877667820685\n",
      "TERRA_MODIS_LANDGATE AQUA_MODIS_LANDGATE 125.66666666666667 10.842809384322774 3.343295855240686\n",
      "TERRA_MODIS_LANDGATE AQUA_MODIS_NASA6.03 404.0 44.087373820797545 18.658081000745273\n",
      "TERRA_MODIS_LANDGATE SUOMI NPP_VIIRS_LANDGATE 74.42857142857143 5.0521695852342425 0.6597340972026872\n",
      "TERRA_MODIS_LANDGATE SUOMI NPP_VIIRS_NASA1 7.0 0.5595426744169117 0.3171102333129344\n",
      "TERRA_MODIS_LANDGATE NOAA 20_VIIRS_LANDGATE 209.57142857142858 13.12520329709881 1.2458312499225337\n",
      "TERRA_MODIS_LANDGATE SENTINEL_3B_SLSTR_EUMETSAT 2.642105263157895 0.6979721524486413 0.7502522087827532\n",
      "TERRA_MODIS_LANDGATE SENTINEL_3A_SLSTR_EUMETSAT 2.4175824175824174 0.6358894692323234 1.009720733741642\n",
      "TERRA_MODIS_LANDGATE NOAA 20_VIIRS_NASA2.0NRT 1.1087420042643923 0.16680301961631774 0.21406818282121065\n",
      "AQUA_MODIS_LANDGATE SENTINEL_3B_SLSTR_ESA 25.0 4.722540406593929 1.802577800376246\n",
      "AQUA_MODIS_LANDGATE SENTINEL_3A_SLSTR_ESA 4.571428571428571 1.1272506677211929 1.159645415588971\n",
      "AQUA_MODIS_LANDGATE TERRA_MODIS_NASA6.03 284.0 26.41016112943358 8.709781503898505\n",
      "AQUA_MODIS_LANDGATE TERRA_MODIS_LANDGATE 18.933333333333334 2.983634834329815 1.9261671044358615\n",
      "AQUA_MODIS_LANDGATE AQUA_MODIS_NASA6.03 31.0 6.919390887025248 8.210729210258226\n",
      "AQUA_MODIS_LANDGATE SUOMI NPP_VIIRS_LANDGATE 15.714285714285714 1.1356303801048062 0.2856674937907353\n",
      "AQUA_MODIS_LANDGATE SUOMI NPP_VIIRS_NASA1 0.8415094339622642 0.1812181831745808 0.2383540271931277\n",
      "AQUA_MODIS_LANDGATE NOAA 20_VIIRS_LANDGATE 394.04761904761904 32.113530555531945 3.604601395642741\n",
      "AQUA_MODIS_LANDGATE SENTINEL_3B_SLSTR_EUMETSAT 25.0 5.256064976746953 1.7903958325582576\n",
      "AQUA_MODIS_LANDGATE SENTINEL_3A_SLSTR_EUMETSAT 4.571428571428571 1.2202614371521376 1.2142518251932635\n",
      "AQUA_MODIS_LANDGATE NOAA 20_VIIRS_NASA2.0NRT 0.81419624217119 0.16421800759527588 0.19257449978095081\n",
      "AQUA_MODIS_NASA6.03 SENTINEL_3B_SLSTR_ESA 3.0 0.6856138421800584 0.3451674807510513\n",
      "AQUA_MODIS_NASA6.03 SENTINEL_3A_SLSTR_ESA 2.0 0.37366283208742435 0.2272846099503778\n",
      "AQUA_MODIS_NASA6.03 TERRA_MODIS_NASA6.03 40.0 4.492780370048451 2.097665415520009\n",
      "AQUA_MODIS_NASA6.03 TERRA_MODIS_LANDGATE 4.75 0.7446670209681023 0.4979041962874707\n",
      "AQUA_MODIS_NASA6.03 AQUA_MODIS_LANDGATE 14.59375 1.657906676297763 0.487597828876469\n",
      "AQUA_MODIS_NASA6.03 SUOMI NPP_VIIRS_LANDGATE 1.1428571428571428 0.1058096105492849 0.05448400952560247\n",
      "AQUA_MODIS_NASA6.03 SUOMI NPP_VIIRS_NASA1 0.17449021486246066 0.03929323468015389 0.05045945058491474\n",
      "AQUA_MODIS_NASA6.03 NOAA 20_VIIRS_LANDGATE 111.95238095238095 10.69478040062175 1.538241417562018\n",
      "AQUA_MODIS_NASA6.03 SENTINEL_3B_SLSTR_EUMETSAT 3.0 0.8342462320933097 0.43555871372294297\n",
      "AQUA_MODIS_NASA6.03 SENTINEL_3A_SLSTR_EUMETSAT 0.5986928104575163 0.16267006221336586 0.17887651811071148\n",
      "AQUA_MODIS_NASA6.03 NOAA 20_VIIRS_NASA2.0NRT 0.18580375782881003 0.03977561280542707 0.050684115229384784\n",
      "SUOMI NPP_VIIRS_LANDGATE SENTINEL_3B_SLSTR_ESA 88.0 15.43058179960909 6.262675937368963\n",
      "SUOMI NPP_VIIRS_LANDGATE SENTINEL_3A_SLSTR_ESA 14.857142857142858 3.651144292385679 4.698748322482095\n",
      "SUOMI NPP_VIIRS_LANDGATE TERRA_MODIS_NASA6.03 826.0 83.07513833532482 45.243631011776884\n",
      "SUOMI NPP_VIIRS_LANDGATE TERRA_MODIS_LANDGATE 330.0 31.71492217284348 19.427078920912678\n",
      "SUOMI NPP_VIIRS_LANDGATE AQUA_MODIS_LANDGATE 346.0 46.222969813971844 25.535029037999298\n",
      "SUOMI NPP_VIIRS_LANDGATE AQUA_MODIS_NASA6.03 472.0 77.17871491332406 58.30623520982605\n",
      "SUOMI NPP_VIIRS_LANDGATE SUOMI NPP_VIIRS_NASA1 8.0 0.9291202254650647 1.361798429698523\n",
      "SUOMI NPP_VIIRS_LANDGATE NOAA 20_VIIRS_LANDGATE 1297.904761904762 77.5579020164062 8.663766968046685\n",
      "SUOMI NPP_VIIRS_LANDGATE SENTINEL_3B_SLSTR_EUMETSAT 88.0 17.069565853384553 7.138445893576001\n",
      "SUOMI NPP_VIIRS_LANDGATE SENTINEL_3A_SLSTR_EUMETSAT 13.494505494505495 3.169313145911825 4.426484463704866\n",
      "SUOMI NPP_VIIRS_LANDGATE NOAA 20_VIIRS_NASA2.0NRT 12.0 1.619895057540732 2.071622519299353\n",
      "SUOMI NPP_VIIRS_NASA1 SENTINEL_3B_SLSTR_ESA 68.0 12.174252393959945 5.194613536468538\n",
      "SUOMI NPP_VIIRS_NASA1 SENTINEL_3A_SLSTR_ESA 14.0 2.711269432989192 3.5864922827212964\n",
      "SUOMI NPP_VIIRS_NASA1 TERRA_MODIS_NASA6.03 534.0 50.728284144488036 30.37578797936303\n",
      "SUOMI NPP_VIIRS_NASA1 TERRA_MODIS_LANDGATE 111.0 15.00025977465844 8.996753164860896\n",
      "SUOMI NPP_VIIRS_NASA1 AQUA_MODIS_LANDGATE 214.0 31.04984434923812 14.539464132494624\n",
      "SUOMI NPP_VIIRS_NASA1 AQUA_MODIS_NASA6.03 1281.0 147.53806894974937 59.46803659156322\n",
      "SUOMI NPP_VIIRS_NASA1 SUOMI NPP_VIIRS_LANDGATE 39.75 3.870545702262757 1.5680799889695534\n",
      "SUOMI NPP_VIIRS_NASA1 NOAA 20_VIIRS_LANDGATE 670.8095238095239 57.98955617503352 9.045360285933336\n",
      "SUOMI NPP_VIIRS_NASA1 SENTINEL_3B_SLSTR_EUMETSAT 68.0 15.029691787807877 6.800946762073234\n",
      "SUOMI NPP_VIIRS_NASA1 SENTINEL_3A_SLSTR_EUMETSAT 10.0 2.3555115805319393 3.3686861727338715\n",
      "SUOMI NPP_VIIRS_NASA1 NOAA 20_VIIRS_NASA2.0NRT 4.691964285714286 0.5099759629149607 1.0607336060785149\n",
      "NOAA 20_VIIRS_LANDGATE SENTINEL_3B_SLSTR_ESA 24.94736842105263 4.57215628856559 3.811338324313894\n",
      "NOAA 20_VIIRS_LANDGATE SENTINEL_3A_SLSTR_ESA 25.428571428571427 5.483086164999603 4.282798205871755\n",
      "NOAA 20_VIIRS_LANDGATE TERRA_MODIS_NASA6.03 336.0 42.93903493715469 31.30437127924073\n",
      "NOAA 20_VIIRS_LANDGATE TERRA_MODIS_LANDGATE 290.0 31.43777924716663 17.03789399818998\n",
      "NOAA 20_VIIRS_LANDGATE AQUA_MODIS_LANDGATE 229.0 40.585797082041076 21.636625493522104\n",
      "NOAA 20_VIIRS_LANDGATE AQUA_MODIS_NASA6.03 832.0 91.93047575382653 56.28645924592889\n",
      "NOAA 20_VIIRS_LANDGATE SUOMI NPP_VIIRS_LANDGATE 116.71428571428571 7.656668156963693 2.081616649562813\n",
      "NOAA 20_VIIRS_LANDGATE SUOMI NPP_VIIRS_NASA1 31.0 2.3670620539498883 1.5231026555169478\n",
      "NOAA 20_VIIRS_LANDGATE SENTINEL_3B_SLSTR_EUMETSAT 24.94736842105263 4.79171883439983 4.175802079934865\n",
      "NOAA 20_VIIRS_LANDGATE SENTINEL_3A_SLSTR_EUMETSAT 18.373626373626372 4.478962454798755 3.9746456845145453\n",
      "NOAA 20_VIIRS_LANDGATE NOAA 20_VIIRS_NASA2.0NRT 4.742857142857143 1.0991903677488994 1.7393750894609512\n",
      "SENTINEL_3B_SLSTR_EUMETSAT SENTINEL_3B_SLSTR_ESA 1.007710100231303 0.015559129373363002 0.9951341430483227\n",
      "SENTINEL_3B_SLSTR_EUMETSAT SENTINEL_3A_SLSTR_ESA nan nan nan\n",
      "SENTINEL_3B_SLSTR_EUMETSAT TERRA_MODIS_NASA6.03 72.75 17.022863444816334 10.511137946563807\n",
      "SENTINEL_3B_SLSTR_EUMETSAT TERRA_MODIS_LANDGATE 72.75 16.013933285513854 7.458483322354049\n",
      "SENTINEL_3B_SLSTR_EUMETSAT AQUA_MODIS_LANDGATE 58.2 13.490207352890867 9.055465622658728\n",
      "SENTINEL_3B_SLSTR_EUMETSAT AQUA_MODIS_NASA6.03 53.25 16.20986819776957 14.91806037057281\n",
      "SENTINEL_3B_SLSTR_EUMETSAT SUOMI NPP_VIIRS_LANDGATE 60.857142857142854 12.090863169304285 2.9014305410289634\n",
      "SENTINEL_3B_SLSTR_EUMETSAT SUOMI NPP_VIIRS_NASA1 1.7387755102040816 0.3527801304327609 0.4433047705442868\n",
      "SENTINEL_3B_SLSTR_EUMETSAT NOAA 20_VIIRS_LANDGATE 4.142857142857143 0.8211570412459218 0.528951564418909\n",
      "SENTINEL_3B_SLSTR_EUMETSAT SENTINEL_3A_SLSTR_EUMETSAT nan nan nan\n",
      "SENTINEL_3B_SLSTR_EUMETSAT NOAA 20_VIIRS_NASA2.0NRT 1.0952380952380953 0.254013348282417 0.44576623668383825\n",
      "SENTINEL_3A_SLSTR_EUMETSAT SENTINEL_3B_SLSTR_ESA nan nan nan\n",
      "SENTINEL_3A_SLSTR_EUMETSAT SENTINEL_3A_SLSTR_ESA 1.0038095238095237 0.012781762536389678 0.9963822416108965\n",
      "SENTINEL_3A_SLSTR_EUMETSAT TERRA_MODIS_NASA6.03 27.736842105263158 6.957579016851188 6.75750974587591\n",
      "SENTINEL_3A_SLSTR_EUMETSAT TERRA_MODIS_LANDGATE 10.755102040816327 2.6307307935955198 2.09152857097435\n",
      "SENTINEL_3A_SLSTR_EUMETSAT AQUA_MODIS_LANDGATE 146.66666666666666 38.86387961889841 13.69657245652367\n",
      "SENTINEL_3A_SLSTR_EUMETSAT AQUA_MODIS_NASA6.03 146.66666666666666 38.16474061631816 20.70118434001777\n",
      "SENTINEL_3A_SLSTR_EUMETSAT SUOMI NPP_VIIRS_LANDGATE 1.752988047808765 0.485538677048524 0.42423535818416463\n",
      "SENTINEL_3A_SLSTR_EUMETSAT SUOMI NPP_VIIRS_NASA1 8.666666666666666 2.0819426997050012 0.8905914492918453\n",
      "SENTINEL_3A_SLSTR_EUMETSAT NOAA 20_VIIRS_LANDGATE 14.666666666666666 4.478010892278832 1.9817212532959516\n",
      "SENTINEL_3A_SLSTR_EUMETSAT SENTINEL_3B_SLSTR_EUMETSAT nan nan nan\n",
      "SENTINEL_3A_SLSTR_EUMETSAT NOAA 20_VIIRS_NASA2.0NRT 8.666666666666666 1.9526669098836515 0.9440755110958187\n",
      "NOAA 20_VIIRS_NASA2.0NRT SENTINEL_3B_SLSTR_ESA 25.0 6.482837552201714 5.318150342730997\n",
      "NOAA 20_VIIRS_NASA2.0NRT SENTINEL_3A_SLSTR_ESA 7.9010989010989015 2.1862229540064457 3.131433299365547\n",
      "NOAA 20_VIIRS_NASA2.0NRT TERRA_MODIS_NASA6.03 153.0 27.713984777842008 25.954349923049705\n",
      "NOAA 20_VIIRS_NASA2.0NRT TERRA_MODIS_LANDGATE 134.75 15.299615563730262 10.55307657143545\n",
      "NOAA 20_VIIRS_NASA2.0NRT AQUA_MODIS_LANDGATE 214.71875 25.27463148008335 15.709596664625067\n",
      "NOAA 20_VIIRS_NASA2.0NRT AQUA_MODIS_NASA6.03 1103.0 112.699624054127 51.99013572001529\n",
      "NOAA 20_VIIRS_NASA2.0NRT SUOMI NPP_VIIRS_LANDGATE 123.71428571428571 7.3236581833794405 1.3824998621136073\n",
      "NOAA 20_VIIRS_NASA2.0NRT SUOMI NPP_VIIRS_NASA1 21.0 1.5866719217376912 1.22067881932063\n",
      "NOAA 20_VIIRS_NASA2.0NRT NOAA 20_VIIRS_LANDGATE 759.0 45.0043646002818 4.0950947126043005\n",
      "NOAA 20_VIIRS_NASA2.0NRT SENTINEL_3B_SLSTR_EUMETSAT 25.0 5.867856894714751 4.384322857939293\n",
      "NOAA 20_VIIRS_NASA2.0NRT SENTINEL_3A_SLSTR_EUMETSAT 7.9010989010989015 2.093391680117997 2.886580420877697\n"
     ]
    }
   ],
   "source": [
    "satellite_sensor_product = nearest_points_ddf.satellite_sensor_product.unique()\n",
    "satellite_sensor_product_daily_list = []\n",
    "for i in satellite_sensor_product:\n",
    "    \n",
    "    for j in satellite_sensor_product:\n",
    "        if i != j:\n",
    "            Acount = nearest_points_ddf[(nearest_points_ddf['satellite_sensor_product'] == i) & (nearest_points_ddf['2_satellite_sensor_product'] == j)].resample(\"D\", on='datetime').datetime.count()\n",
    "            Acount = Acount.rename('master_count')\n",
    "            Bcount = nearest_points_ddf[(nearest_points_ddf['satellite_sensor_product'] == j) & (nearest_points_ddf['2_satellite_sensor_product'] == i)].resample(\"D\", on='datetime').datetime.count()\n",
    "            Bcount = Bcount.rename('slave_count')\n",
    "            \n",
    "            # Use the ratio of the master and slave daily counts in the same observation extent as a consistency measure\n",
    "            # - theory being that there should be a proportional shift in both hotspot sources\n",
    "            # - using ratio as a quick measure\n",
    "            \n",
    "            ratio = Acount/Bcount\n",
    "            ratio = ratio.rename('ratio')\n",
    "           \n",
    "            zscore = ratio - ratio.mean() / ratio.std()\n",
    "            zscore = zscore.rename('zscore')\n",
    "\n",
    "            satellite_sensor_product_daily = pd.concat([Acount, Bcount, ratio, zscore], axis=1)\n",
    "            satellite_sensor_product_daily['satellite_sensor_product'] = i\n",
    "            satellite_sensor_product_daily['2_satellite_sensor_product'] = j\n",
    "            satellite_sensor_product_daily['pair'] = i+'|'+j\n",
    "            satellite_sensor_product_daily_list.append(satellite_sensor_product_daily)\n",
    "            print(i,j,ratio.max(),ratio.std(),ratio.mean())\n",
    "satellite_sensor_product_daily_pd = pd.concat(satellite_sensor_product_daily_list)"
   ]
  },
  {
   "cell_type": "code",
   "execution_count": 302,
   "metadata": {},
   "outputs": [
    {
     "data": {
      "text/plain": [
       "1297.7930548221461"
      ]
     },
     "execution_count": 302,
     "metadata": {},
     "output_type": "execute_result"
    }
   ],
   "source": [
    "satellite_sensor_product_daily_pd.zscore.max()"
   ]
  },
  {
   "cell_type": "code",
   "execution_count": 91,
   "metadata": {},
   "outputs": [],
   "source": [
    "pairs = list(satellite_sensor_product_daily_pd['pair'].unique())"
   ]
  },
  {
   "cell_type": "code",
   "execution_count": 109,
   "metadata": {},
   "outputs": [
    {
     "data": {
      "text/plain": [
       "array(['NOAA 20_VIIRS_NASA2.0NRT'], dtype=object)"
      ]
     },
     "execution_count": 109,
     "metadata": {},
     "output_type": "execute_result"
    }
   ],
   "source": [
    "satellite_sensor_product_daily.satellite_sensor_product.unique()"
   ]
  },
  {
   "cell_type": "code",
   "execution_count": 124,
   "metadata": {},
   "outputs": [],
   "source": [
    "pair_list = []\n",
    "pair_dict = {}\n",
    "for pair in pairs:\n",
    "    daily_pair = satellite_sensor_product_daily_pd[satellite_sensor_product_daily_pd['pair'] == pair]\n",
    "    correlation = daily_pair[['master_count','slave_count']].corr().master_count[1]\n",
    "    #pair_list.append(pd.DataFrame({pair: {'correlation': correlation}}))\n",
    "    pair_dict[pair] = {'correlation': correlation, 'master': pair.split('|')[0], 'slave': pair.split('|')[1]}\n",
    "pair_pd = pd.DataFrame(pair_dict).transpose()"
   ]
  },
  {
   "cell_type": "code",
   "execution_count": 134,
   "metadata": {},
   "outputs": [
    {
     "name": "stdout",
     "output_type": "stream",
     "text": [
      "                                                 correlation\n",
      "SENTINEL_3B_SLSTR_ESA|SENTINEL_3B_SLSTR_EUMETSAT    0.999989\n",
      "SENTINEL_3B_SLSTR_ESA|NOAA 20_VIIRS_NASA2.0NRT      0.953632\n",
      "SENTINEL_3B_SLSTR_ESA|SUOMI NPP_VIIRS_NASA1         0.951214\n",
      "SENTINEL_3B_SLSTR_ESA|NOAA 20_VIIRS_LANDGATE        0.947815\n",
      "SENTINEL_3B_SLSTR_ESA|TERRA_MODIS_NASA6.03          0.896469\n",
      "SENTINEL_3B_SLSTR_ESA|AQUA_MODIS_NASA6.03           0.875173\n",
      "SENTINEL_3B_SLSTR_ESA|SUOMI NPP_VIIRS_LANDGATE      0.868757\n",
      "SENTINEL_3B_SLSTR_ESA|AQUA_MODIS_LANDGATE           0.837938\n",
      "SENTINEL_3B_SLSTR_ESA|TERRA_MODIS_LANDGATE          0.706158\n",
      "SENTINEL_3B_SLSTR_ESA|SENTINEL_3A_SLSTR_ESA              NaN\n",
      "                                                 correlation\n",
      "SENTINEL_3A_SLSTR_ESA|SENTINEL_3A_SLSTR_EUMETSAT    0.999979\n",
      "SENTINEL_3A_SLSTR_ESA|SUOMI NPP_VIIRS_NASA1          0.97001\n",
      "SENTINEL_3A_SLSTR_ESA|TERRA_MODIS_LANDGATE          0.943507\n",
      "SENTINEL_3A_SLSTR_ESA|NOAA 20_VIIRS_NASA2.0NRT      0.940076\n",
      "SENTINEL_3A_SLSTR_ESA|SUOMI NPP_VIIRS_LANDGATE      0.935413\n",
      "SENTINEL_3A_SLSTR_ESA|AQUA_MODIS_LANDGATE           0.926744\n",
      "SENTINEL_3A_SLSTR_ESA|NOAA 20_VIIRS_LANDGATE        0.919065\n",
      "SENTINEL_3A_SLSTR_ESA|TERRA_MODIS_NASA6.03          0.914629\n",
      "SENTINEL_3A_SLSTR_ESA|AQUA_MODIS_NASA6.03           0.754634\n",
      "SENTINEL_3A_SLSTR_ESA|SENTINEL_3B_SLSTR_ESA              NaN\n",
      "                                                correlation\n",
      "TERRA_MODIS_NASA6.03|TERRA_MODIS_LANDGATE          0.968436\n",
      "TERRA_MODIS_NASA6.03|SENTINEL_3A_SLSTR_EUMETSAT    0.928363\n",
      "TERRA_MODIS_NASA6.03|SENTINEL_3A_SLSTR_ESA         0.914629\n",
      "TERRA_MODIS_NASA6.03|SENTINEL_3B_SLSTR_ESA         0.896469\n",
      "TERRA_MODIS_NASA6.03|NOAA 20_VIIRS_NASA2.0NRT      0.884945\n",
      "TERRA_MODIS_NASA6.03|NOAA 20_VIIRS_LANDGATE        0.873615\n",
      "TERRA_MODIS_NASA6.03|SENTINEL_3B_SLSTR_EUMETSAT    0.871386\n",
      "TERRA_MODIS_NASA6.03|SUOMI NPP_VIIRS_NASA1         0.821503\n",
      "TERRA_MODIS_NASA6.03|AQUA_MODIS_LANDGATE           0.755815\n",
      "TERRA_MODIS_NASA6.03|SUOMI NPP_VIIRS_LANDGATE       0.68994\n",
      "TERRA_MODIS_NASA6.03|AQUA_MODIS_NASA6.03           0.624626\n",
      "                                                correlation\n",
      "TERRA_MODIS_LANDGATE|TERRA_MODIS_NASA6.03          0.968436\n",
      "TERRA_MODIS_LANDGATE|SENTINEL_3A_SLSTR_EUMETSAT    0.962558\n",
      "TERRA_MODIS_LANDGATE|SENTINEL_3A_SLSTR_ESA         0.943507\n",
      "TERRA_MODIS_LANDGATE|NOAA 20_VIIRS_NASA2.0NRT      0.901002\n",
      "TERRA_MODIS_LANDGATE|SENTINEL_3B_SLSTR_EUMETSAT    0.854166\n",
      "TERRA_MODIS_LANDGATE|NOAA 20_VIIRS_LANDGATE        0.822126\n",
      "TERRA_MODIS_LANDGATE|SUOMI NPP_VIIRS_NASA1         0.804294\n",
      "TERRA_MODIS_LANDGATE|AQUA_MODIS_LANDGATE           0.788884\n",
      "TERRA_MODIS_LANDGATE|SENTINEL_3B_SLSTR_ESA         0.706158\n",
      "TERRA_MODIS_LANDGATE|SUOMI NPP_VIIRS_LANDGATE      0.700979\n",
      "TERRA_MODIS_LANDGATE|AQUA_MODIS_NASA6.03           0.617389\n",
      "                                               correlation\n",
      "AQUA_MODIS_LANDGATE|SENTINEL_3A_SLSTR_ESA         0.926744\n",
      "AQUA_MODIS_LANDGATE|AQUA_MODIS_NASA6.03           0.894089\n",
      "AQUA_MODIS_LANDGATE|SENTINEL_3A_SLSTR_EUMETSAT    0.886499\n",
      "AQUA_MODIS_LANDGATE|NOAA 20_VIIRS_NASA2.0NRT      0.882686\n",
      "AQUA_MODIS_LANDGATE|SUOMI NPP_VIIRS_NASA1         0.872768\n",
      "AQUA_MODIS_LANDGATE|SUOMI NPP_VIIRS_LANDGATE      0.839552\n",
      "AQUA_MODIS_LANDGATE|SENTINEL_3B_SLSTR_ESA         0.837938\n",
      "AQUA_MODIS_LANDGATE|TERRA_MODIS_LANDGATE          0.788884\n",
      "AQUA_MODIS_LANDGATE|TERRA_MODIS_NASA6.03          0.755815\n",
      "AQUA_MODIS_LANDGATE|NOAA 20_VIIRS_LANDGATE        0.698499\n",
      "AQUA_MODIS_LANDGATE|SENTINEL_3B_SLSTR_EUMETSAT    0.657031\n",
      "                                               correlation\n",
      "AQUA_MODIS_NASA6.03|AQUA_MODIS_LANDGATE           0.894089\n",
      "AQUA_MODIS_NASA6.03|SENTINEL_3B_SLSTR_ESA         0.875173\n",
      "AQUA_MODIS_NASA6.03|NOAA 20_VIIRS_NASA2.0NRT      0.855278\n",
      "AQUA_MODIS_NASA6.03|SUOMI NPP_VIIRS_NASA1         0.849252\n",
      "AQUA_MODIS_NASA6.03|SUOMI NPP_VIIRS_LANDGATE      0.845813\n",
      "AQUA_MODIS_NASA6.03|SENTINEL_3B_SLSTR_EUMETSAT    0.785467\n",
      "AQUA_MODIS_NASA6.03|SENTINEL_3A_SLSTR_EUMETSAT     0.76464\n",
      "AQUA_MODIS_NASA6.03|SENTINEL_3A_SLSTR_ESA         0.754634\n",
      "AQUA_MODIS_NASA6.03|TERRA_MODIS_NASA6.03          0.624626\n",
      "AQUA_MODIS_NASA6.03|TERRA_MODIS_LANDGATE          0.617389\n",
      "AQUA_MODIS_NASA6.03|NOAA 20_VIIRS_LANDGATE        0.576998\n",
      "                                                   correlation\n",
      "SUOMI NPP_VIIRS_LANDGATE|SENTINEL_3A_SLSTR_EUME...    0.964593\n",
      "SUOMI NPP_VIIRS_LANDGATE|SENTINEL_3A_SLSTR_ESA        0.935413\n",
      "SUOMI NPP_VIIRS_LANDGATE|SUOMI NPP_VIIRS_NASA1        0.923455\n",
      "SUOMI NPP_VIIRS_LANDGATE|NOAA 20_VIIRS_NASA2.0NRT     0.895139\n",
      "SUOMI NPP_VIIRS_LANDGATE|SENTINEL_3B_SLSTR_ESA        0.868757\n",
      "SUOMI NPP_VIIRS_LANDGATE|AQUA_MODIS_NASA6.03          0.845813\n",
      "SUOMI NPP_VIIRS_LANDGATE|SENTINEL_3B_SLSTR_EUME...     0.84193\n",
      "SUOMI NPP_VIIRS_LANDGATE|AQUA_MODIS_LANDGATE          0.839552\n",
      "SUOMI NPP_VIIRS_LANDGATE|TERRA_MODIS_LANDGATE         0.700979\n",
      "SUOMI NPP_VIIRS_LANDGATE|TERRA_MODIS_NASA6.03          0.68994\n",
      "SUOMI NPP_VIIRS_LANDGATE|NOAA 20_VIIRS_LANDGATE       0.641858\n",
      "                                                 correlation\n",
      "SUOMI NPP_VIIRS_NASA1|NOAA 20_VIIRS_NASA2.0NRT      0.989299\n",
      "SUOMI NPP_VIIRS_NASA1|SENTINEL_3A_SLSTR_EUMETSAT    0.985354\n",
      "SUOMI NPP_VIIRS_NASA1|SENTINEL_3A_SLSTR_ESA          0.97001\n",
      "SUOMI NPP_VIIRS_NASA1|SENTINEL_3B_SLSTR_ESA         0.951214\n",
      "SUOMI NPP_VIIRS_NASA1|SENTINEL_3B_SLSTR_EUMETSAT    0.946563\n",
      "SUOMI NPP_VIIRS_NASA1|SUOMI NPP_VIIRS_LANDGATE      0.923455\n",
      "SUOMI NPP_VIIRS_NASA1|AQUA_MODIS_LANDGATE           0.872768\n",
      "SUOMI NPP_VIIRS_NASA1|AQUA_MODIS_NASA6.03           0.849252\n",
      "SUOMI NPP_VIIRS_NASA1|NOAA 20_VIIRS_LANDGATE        0.831033\n",
      "SUOMI NPP_VIIRS_NASA1|TERRA_MODIS_NASA6.03          0.821503\n",
      "SUOMI NPP_VIIRS_NASA1|TERRA_MODIS_LANDGATE          0.804294\n",
      "                                                  correlation\n",
      "NOAA 20_VIIRS_LANDGATE|SENTINEL_3B_SLSTR_ESA         0.947815\n",
      "NOAA 20_VIIRS_LANDGATE|SENTINEL_3B_SLSTR_EUMETSAT    0.929397\n",
      "NOAA 20_VIIRS_LANDGATE|SENTINEL_3A_SLSTR_ESA         0.919065\n",
      "NOAA 20_VIIRS_LANDGATE|SENTINEL_3A_SLSTR_EUMETSAT    0.883859\n",
      "NOAA 20_VIIRS_LANDGATE|TERRA_MODIS_NASA6.03          0.873615\n",
      "NOAA 20_VIIRS_LANDGATE|NOAA 20_VIIRS_NASA2.0NRT      0.858517\n",
      "NOAA 20_VIIRS_LANDGATE|SUOMI NPP_VIIRS_NASA1         0.831033\n",
      "NOAA 20_VIIRS_LANDGATE|TERRA_MODIS_LANDGATE          0.822126\n",
      "NOAA 20_VIIRS_LANDGATE|AQUA_MODIS_LANDGATE           0.698499\n",
      "NOAA 20_VIIRS_LANDGATE|SUOMI NPP_VIIRS_LANDGATE      0.641858\n",
      "NOAA 20_VIIRS_LANDGATE|AQUA_MODIS_NASA6.03           0.576998\n",
      "                                                   correlation\n",
      "SENTINEL_3B_SLSTR_EUMETSAT|SENTINEL_3B_SLSTR_ESA      0.999989\n",
      "SENTINEL_3B_SLSTR_EUMETSAT|NOAA 20_VIIRS_NASA2....    0.960969\n",
      "SENTINEL_3B_SLSTR_EUMETSAT|SUOMI NPP_VIIRS_NASA1      0.946563\n",
      "SENTINEL_3B_SLSTR_EUMETSAT|NOAA 20_VIIRS_LANDGATE     0.929397\n",
      "SENTINEL_3B_SLSTR_EUMETSAT|TERRA_MODIS_NASA6.03       0.871386\n",
      "SENTINEL_3B_SLSTR_EUMETSAT|TERRA_MODIS_LANDGATE       0.854166\n",
      "SENTINEL_3B_SLSTR_EUMETSAT|SUOMI NPP_VIIRS_LAND...     0.84193\n",
      "SENTINEL_3B_SLSTR_EUMETSAT|AQUA_MODIS_NASA6.03        0.785467\n",
      "SENTINEL_3B_SLSTR_EUMETSAT|AQUA_MODIS_LANDGATE        0.657031\n",
      "                                                   correlation\n",
      "SENTINEL_3A_SLSTR_EUMETSAT|SENTINEL_3A_SLSTR_ESA      0.999979\n",
      "SENTINEL_3A_SLSTR_EUMETSAT|SUOMI NPP_VIIRS_NASA1      0.985354\n",
      "SENTINEL_3A_SLSTR_EUMETSAT|SUOMI NPP_VIIRS_LAND...    0.964593\n",
      "SENTINEL_3A_SLSTR_EUMETSAT|TERRA_MODIS_LANDGATE       0.962558\n",
      "SENTINEL_3A_SLSTR_EUMETSAT|NOAA 20_VIIRS_NASA2....     0.94549\n",
      "SENTINEL_3A_SLSTR_EUMETSAT|TERRA_MODIS_NASA6.03       0.928363\n",
      "SENTINEL_3A_SLSTR_EUMETSAT|AQUA_MODIS_LANDGATE        0.886499\n",
      "SENTINEL_3A_SLSTR_EUMETSAT|NOAA 20_VIIRS_LANDGATE     0.883859\n",
      "SENTINEL_3A_SLSTR_EUMETSAT|AQUA_MODIS_NASA6.03         0.76464\n",
      "                                                   correlation\n",
      "NOAA 20_VIIRS_NASA2.0NRT|SUOMI NPP_VIIRS_NASA1        0.989299\n",
      "NOAA 20_VIIRS_NASA2.0NRT|SENTINEL_3B_SLSTR_EUME...    0.960969\n",
      "NOAA 20_VIIRS_NASA2.0NRT|SENTINEL_3B_SLSTR_ESA        0.953632\n",
      "NOAA 20_VIIRS_NASA2.0NRT|SENTINEL_3A_SLSTR_EUME...     0.94549\n",
      "NOAA 20_VIIRS_NASA2.0NRT|SENTINEL_3A_SLSTR_ESA        0.940076\n",
      "NOAA 20_VIIRS_NASA2.0NRT|TERRA_MODIS_LANDGATE         0.901002\n",
      "NOAA 20_VIIRS_NASA2.0NRT|SUOMI NPP_VIIRS_LANDGATE     0.895139\n",
      "NOAA 20_VIIRS_NASA2.0NRT|TERRA_MODIS_NASA6.03         0.884945\n",
      "NOAA 20_VIIRS_NASA2.0NRT|AQUA_MODIS_LANDGATE          0.882686\n",
      "NOAA 20_VIIRS_NASA2.0NRT|NOAA 20_VIIRS_LANDGATE       0.858517\n",
      "NOAA 20_VIIRS_NASA2.0NRT|AQUA_MODIS_NASA6.03          0.855278\n"
     ]
    }
   ],
   "source": [
    "for master in pair_pd['master'].unique():\n",
    "    print(pair_pd[pair_pd['master'] == master][['correlation']].sort_values(by=['correlation'], ascending=False))"
   ]
  },
  {
   "cell_type": "code",
   "execution_count": 13,
   "metadata": {},
   "outputs": [],
   "source": [
    "sample = satellite_sensor_product_daily_pd[(satellite_sensor_product_daily_pd['pair'] == 'NOAA 20_VIIRS_NASA2.0NRT|SENTINEL_3A_SLSTR_EUMETSAT')]\n",
    "#sample = satellite_sensor_product_daily_pd[(satellite_sensor_product_daily_pd['satellite_sensor_product'] == 'SUOMI NPP_VIIRS_LANDGATE') & (satellite_sensor_product_daily_pd['2_satellite_sensor_product'] == 'SUOMI NPP_VIIRS_NASA1')]#.plot()"
   ]
  },
  {
   "cell_type": "code",
   "execution_count": null,
   "metadata": {},
   "outputs": [],
   "source": []
  },
  {
   "cell_type": "code",
   "execution_count": 354,
   "metadata": {},
   "outputs": [
    {
     "data": {
      "application/vnd.plotly.v1+json": {
       "config": {
        "plotlyServerURL": "https://plot.ly"
       },
       "data": [
        {
         "hovertemplate": "variable=master_count<br>datetime=%{x}<br>value=%{y}<extra></extra>",
         "legendgroup": "master_count",
         "marker": {
          "color": "#636efa",
          "symbol": "circle"
         },
         "mode": "markers",
         "name": "master_count",
         "orientation": "v",
         "showlegend": true,
         "type": "scatter",
         "x": [
          "2019-12-04T00:00:00",
          "2019-12-05T00:00:00",
          "2019-12-06T00:00:00",
          "2019-12-07T00:00:00",
          "2019-12-08T00:00:00",
          "2019-12-09T00:00:00",
          "2019-12-10T00:00:00",
          "2019-12-11T00:00:00",
          "2019-12-12T00:00:00",
          "2019-12-13T00:00:00",
          "2019-12-14T00:00:00",
          "2019-12-15T00:00:00",
          "2019-12-16T00:00:00",
          "2019-12-17T00:00:00",
          "2019-12-18T00:00:00",
          "2019-12-19T00:00:00",
          "2019-12-20T00:00:00",
          "2019-12-21T00:00:00",
          "2019-12-22T00:00:00",
          "2019-12-23T00:00:00",
          "2019-12-24T00:00:00",
          "2019-12-25T00:00:00",
          "2019-12-26T00:00:00",
          "2019-12-27T00:00:00",
          "2019-12-28T00:00:00",
          "2019-12-29T00:00:00",
          "2019-12-30T00:00:00",
          "2019-12-31T00:00:00",
          "2020-01-01T00:00:00",
          "2020-01-02T00:00:00",
          "2020-01-03T00:00:00",
          "2020-01-04T00:00:00",
          "2020-01-05T00:00:00",
          "2020-01-06T00:00:00",
          "2020-01-07T00:00:00",
          "2020-01-08T00:00:00",
          "2020-01-09T00:00:00",
          "2020-01-10T00:00:00",
          "2020-01-11T00:00:00",
          "2020-01-12T00:00:00",
          "2020-01-13T00:00:00",
          "2020-01-14T00:00:00",
          "2020-01-15T00:00:00",
          "2020-01-16T00:00:00",
          "2020-01-17T00:00:00",
          "2020-01-18T00:00:00",
          "2020-01-19T00:00:00",
          "2020-01-20T00:00:00",
          "2020-01-21T00:00:00",
          "2020-01-22T00:00:00",
          "2020-01-23T00:00:00",
          "2020-01-24T00:00:00",
          "2020-01-25T00:00:00",
          "2020-01-26T00:00:00",
          "2020-01-27T00:00:00",
          "2020-01-28T00:00:00",
          "2020-01-29T00:00:00",
          "2020-01-30T00:00:00",
          "2020-01-31T00:00:00",
          "2020-02-01T00:00:00",
          "2020-02-02T00:00:00",
          "2020-02-03T00:00:00",
          "2020-02-04T00:00:00",
          "2020-02-05T00:00:00",
          "2020-02-06T00:00:00",
          "2020-02-07T00:00:00",
          "2020-02-08T00:00:00",
          "2020-02-09T00:00:00",
          "2020-02-10T00:00:00",
          "2020-02-11T00:00:00",
          "2020-02-12T00:00:00",
          "2020-02-13T00:00:00",
          "2020-02-14T00:00:00",
          "2020-02-15T00:00:00",
          "2020-02-16T00:00:00",
          "2020-02-17T00:00:00",
          "2020-02-18T00:00:00",
          "2020-02-19T00:00:00",
          "2020-02-20T00:00:00",
          "2020-02-21T00:00:00",
          "2020-02-22T00:00:00",
          "2020-02-23T00:00:00",
          "2020-02-24T00:00:00",
          "2020-02-25T00:00:00",
          "2020-02-26T00:00:00",
          "2020-02-27T00:00:00",
          "2020-02-28T00:00:00",
          "2020-02-29T00:00:00",
          "2020-03-01T00:00:00",
          "2020-03-02T00:00:00",
          "2020-03-03T00:00:00",
          "2020-03-04T00:00:00",
          "2020-03-05T00:00:00",
          "2020-03-06T00:00:00",
          "2020-03-07T00:00:00",
          "2020-03-08T00:00:00",
          "2020-03-09T00:00:00",
          "2020-03-10T00:00:00",
          "2020-03-11T00:00:00",
          "2020-03-12T00:00:00",
          "2020-03-13T00:00:00",
          "2020-03-14T00:00:00",
          "2020-03-15T00:00:00",
          "2020-03-16T00:00:00",
          "2020-03-17T00:00:00",
          "2020-03-18T00:00:00",
          "2020-03-19T00:00:00",
          "2020-03-20T00:00:00",
          "2020-03-21T00:00:00",
          "2020-03-22T00:00:00",
          "2020-03-23T00:00:00",
          "2020-03-24T00:00:00",
          "2020-03-25T00:00:00",
          "2020-03-26T00:00:00",
          "2020-03-27T00:00:00",
          "2020-03-28T00:00:00",
          "2020-03-29T00:00:00",
          "2020-03-30T00:00:00",
          "2020-03-31T00:00:00",
          "2020-04-01T00:00:00",
          "2020-04-02T00:00:00",
          "2020-04-03T00:00:00",
          "2020-04-04T00:00:00",
          "2020-04-05T00:00:00",
          "2020-04-06T00:00:00",
          "2020-04-07T00:00:00",
          "2020-04-08T00:00:00",
          "2020-04-09T00:00:00",
          "2020-04-10T00:00:00",
          "2020-04-11T00:00:00",
          "2020-04-12T00:00:00",
          "2020-04-13T00:00:00",
          "2020-04-14T00:00:00",
          "2020-04-15T00:00:00",
          "2020-04-16T00:00:00",
          "2020-04-17T00:00:00",
          "2020-04-18T00:00:00",
          "2020-04-19T00:00:00",
          "2020-04-20T00:00:00",
          "2020-04-21T00:00:00",
          "2020-04-22T00:00:00",
          "2020-04-23T00:00:00",
          "2020-04-24T00:00:00",
          "2020-04-25T00:00:00",
          "2020-04-26T00:00:00",
          "2020-04-27T00:00:00",
          "2020-04-28T00:00:00",
          "2020-04-29T00:00:00",
          "2020-04-30T00:00:00",
          "2020-05-01T00:00:00",
          "2020-05-02T00:00:00",
          "2020-05-03T00:00:00",
          "2020-05-04T00:00:00",
          "2020-05-05T00:00:00",
          "2020-05-06T00:00:00",
          "2020-05-07T00:00:00",
          "2020-05-08T00:00:00",
          "2020-05-09T00:00:00",
          "2020-05-10T00:00:00",
          "2020-05-11T00:00:00",
          "2020-05-12T00:00:00",
          "2020-05-13T00:00:00",
          "2020-05-14T00:00:00",
          "2020-05-15T00:00:00",
          "2020-05-16T00:00:00",
          "2020-05-17T00:00:00",
          "2020-05-18T00:00:00",
          "2020-05-19T00:00:00",
          "2020-05-20T00:00:00",
          "2020-05-21T00:00:00",
          "2020-05-22T00:00:00",
          "2020-05-23T00:00:00",
          "2020-05-24T00:00:00",
          "2020-05-25T00:00:00",
          "2020-05-26T00:00:00",
          "2020-05-27T00:00:00",
          "2020-05-28T00:00:00",
          "2020-05-29T00:00:00",
          "2020-05-30T00:00:00",
          "2020-05-31T00:00:00",
          "2020-06-01T00:00:00",
          "2020-06-02T00:00:00",
          "2020-06-03T00:00:00",
          "2020-06-04T00:00:00",
          "2020-06-05T00:00:00",
          "2020-06-06T00:00:00",
          "2020-06-07T00:00:00",
          "2020-06-08T00:00:00",
          "2020-06-09T00:00:00",
          "2020-06-10T00:00:00",
          "2020-06-11T00:00:00",
          "2020-06-12T00:00:00",
          "2020-06-13T00:00:00",
          "2020-06-14T00:00:00",
          "2020-06-15T00:00:00",
          "2020-06-16T00:00:00",
          "2020-06-17T00:00:00",
          "2020-06-18T00:00:00",
          "2020-06-19T00:00:00",
          "2020-06-20T00:00:00",
          "2020-06-21T00:00:00",
          "2020-06-22T00:00:00",
          "2020-06-23T00:00:00",
          "2020-06-24T00:00:00",
          "2020-06-25T00:00:00",
          "2020-06-26T00:00:00",
          "2020-06-27T00:00:00",
          "2020-06-28T00:00:00",
          "2020-06-29T00:00:00",
          "2020-06-30T00:00:00",
          "2020-07-01T00:00:00",
          "2020-07-02T00:00:00",
          "2020-07-03T00:00:00",
          "2020-07-04T00:00:00",
          "2020-07-05T00:00:00",
          "2020-07-06T00:00:00",
          "2020-07-07T00:00:00",
          "2020-07-08T00:00:00",
          "2020-07-09T00:00:00",
          "2020-07-10T00:00:00",
          "2020-07-11T00:00:00",
          "2020-07-12T00:00:00",
          "2020-07-13T00:00:00",
          "2020-07-14T00:00:00",
          "2020-07-15T00:00:00",
          "2020-07-16T00:00:00",
          "2020-07-17T00:00:00",
          "2020-07-18T00:00:00",
          "2020-07-19T00:00:00",
          "2020-07-20T00:00:00",
          "2020-07-21T00:00:00",
          "2020-07-22T00:00:00",
          "2020-07-23T00:00:00",
          "2020-07-24T00:00:00",
          "2020-07-25T00:00:00",
          "2020-07-26T00:00:00",
          "2020-07-27T00:00:00",
          "2020-07-28T00:00:00",
          "2020-07-29T00:00:00",
          "2020-07-30T00:00:00",
          "2020-07-31T00:00:00",
          "2020-08-01T00:00:00",
          "2020-08-02T00:00:00",
          "2020-08-03T00:00:00",
          "2020-08-04T00:00:00",
          "2020-08-05T00:00:00",
          "2020-08-06T00:00:00",
          "2020-08-07T00:00:00",
          "2020-08-08T00:00:00",
          "2020-08-09T00:00:00",
          "2020-08-10T00:00:00",
          "2020-08-11T00:00:00",
          "2020-08-12T00:00:00",
          "2020-08-13T00:00:00",
          "2020-08-14T00:00:00",
          "2020-08-15T00:00:00",
          "2020-08-16T00:00:00",
          "2020-08-17T00:00:00",
          "2020-08-18T00:00:00",
          "2020-08-19T00:00:00",
          "2020-08-20T00:00:00",
          "2020-08-21T00:00:00",
          "2020-08-22T00:00:00",
          "2020-08-23T00:00:00",
          "2020-08-24T00:00:00",
          "2020-08-25T00:00:00",
          "2020-08-26T00:00:00",
          "2020-08-27T00:00:00",
          "2020-08-28T00:00:00",
          "2020-08-29T00:00:00",
          "2020-08-30T00:00:00",
          "2020-08-31T00:00:00",
          "2020-09-01T00:00:00",
          "2020-09-02T00:00:00",
          "2020-09-03T00:00:00",
          "2020-09-04T00:00:00",
          "2020-09-05T00:00:00",
          "2020-09-06T00:00:00",
          "2020-09-07T00:00:00",
          "2020-09-08T00:00:00",
          "2020-09-09T00:00:00",
          "2020-09-10T00:00:00",
          "2020-09-11T00:00:00",
          "2020-09-12T00:00:00",
          "2020-09-13T00:00:00",
          "2020-09-14T00:00:00",
          "2020-09-15T00:00:00",
          "2020-09-16T00:00:00",
          "2020-09-17T00:00:00",
          "2020-09-18T00:00:00",
          "2020-09-19T00:00:00",
          "2020-09-20T00:00:00",
          "2020-09-21T00:00:00",
          "2020-09-22T00:00:00",
          "2020-09-23T00:00:00",
          "2020-09-24T00:00:00",
          "2020-09-25T00:00:00",
          "2020-09-26T00:00:00",
          "2020-09-27T00:00:00"
         ],
         "xaxis": "x",
         "y": [
          5,
          3201,
          0,
          0,
          0,
          1307,
          1,
          0,
          117,
          46,
          0,
          0,
          1395,
          104,
          0,
          0,
          2426,
          192,
          0,
          0,
          291,
          0,
          0,
          0,
          1637,
          0,
          0,
          0,
          765,
          95,
          0,
          0,
          225,
          0,
          0,
          426,
          13,
          0,
          0,
          2276,
          12,
          0,
          0,
          0,
          0,
          0,
          0,
          0,
          0,
          0,
          0,
          0,
          0,
          0,
          0,
          0,
          0,
          0,
          0,
          0,
          0,
          0,
          0,
          0,
          0,
          0,
          0,
          0,
          0,
          0,
          0,
          0,
          0,
          0,
          0,
          0,
          0,
          0,
          0,
          0,
          0,
          0,
          0,
          0,
          0,
          0,
          0,
          0,
          0,
          0,
          0,
          0,
          0,
          0,
          0,
          0,
          0,
          0,
          0,
          0,
          0,
          0,
          0,
          0,
          0,
          0,
          0,
          0,
          0,
          0,
          0,
          0,
          0,
          0,
          0,
          0,
          0,
          0,
          0,
          0,
          0,
          0,
          0,
          0,
          0,
          0,
          0,
          0,
          0,
          0,
          0,
          0,
          0,
          0,
          0,
          0,
          0,
          0,
          0,
          0,
          0,
          0,
          0,
          0,
          0,
          0,
          0,
          0,
          0,
          0,
          0,
          0,
          0,
          0,
          0,
          0,
          0,
          0,
          0,
          0,
          0,
          0,
          0,
          0,
          0,
          0,
          0,
          0,
          0,
          0,
          0,
          0,
          0,
          0,
          0,
          0,
          0,
          0,
          0,
          0,
          0,
          0,
          0,
          0,
          0,
          0,
          0,
          0,
          0,
          0,
          0,
          0,
          0,
          0,
          0,
          0,
          0,
          0,
          0,
          0,
          0,
          0,
          0,
          0,
          0,
          0,
          0,
          0,
          0,
          0,
          0,
          0,
          0,
          0,
          0,
          0,
          0,
          0,
          0,
          0,
          0,
          0,
          0,
          0,
          0,
          0,
          0,
          0,
          0,
          0,
          0,
          0,
          0,
          0,
          0,
          0,
          0,
          0,
          0,
          0,
          0,
          0,
          0,
          0,
          0,
          0,
          0,
          0,
          0,
          0,
          0,
          0,
          0,
          0,
          0,
          0,
          0,
          0,
          0,
          60,
          0,
          0,
          0,
          48,
          0,
          0,
          0,
          0,
          0,
          0,
          0,
          87,
          0,
          0,
          0,
          0,
          0,
          0,
          0,
          0,
          0,
          0,
          48,
          0,
          0,
          0,
          63,
          0,
          0,
          0,
          0,
          0,
          0,
          0,
          0,
          0,
          0,
          0,
          69
         ],
         "yaxis": "y"
        },
        {
         "hovertemplate": "variable=slave_count<br>datetime=%{x}<br>value=%{y}<extra></extra>",
         "legendgroup": "slave_count",
         "marker": {
          "color": "#EF553B",
          "symbol": "circle"
         },
         "mode": "markers",
         "name": "slave_count",
         "orientation": "v",
         "showlegend": true,
         "type": "scatter",
         "x": [
          "2019-12-04T00:00:00",
          "2019-12-05T00:00:00",
          "2019-12-06T00:00:00",
          "2019-12-07T00:00:00",
          "2019-12-08T00:00:00",
          "2019-12-09T00:00:00",
          "2019-12-10T00:00:00",
          "2019-12-11T00:00:00",
          "2019-12-12T00:00:00",
          "2019-12-13T00:00:00",
          "2019-12-14T00:00:00",
          "2019-12-15T00:00:00",
          "2019-12-16T00:00:00",
          "2019-12-17T00:00:00",
          "2019-12-18T00:00:00",
          "2019-12-19T00:00:00",
          "2019-12-20T00:00:00",
          "2019-12-21T00:00:00",
          "2019-12-22T00:00:00",
          "2019-12-23T00:00:00",
          "2019-12-24T00:00:00",
          "2019-12-25T00:00:00",
          "2019-12-26T00:00:00",
          "2019-12-27T00:00:00",
          "2019-12-28T00:00:00",
          "2019-12-29T00:00:00",
          "2019-12-30T00:00:00",
          "2019-12-31T00:00:00",
          "2020-01-01T00:00:00",
          "2020-01-02T00:00:00",
          "2020-01-03T00:00:00",
          "2020-01-04T00:00:00",
          "2020-01-05T00:00:00",
          "2020-01-06T00:00:00",
          "2020-01-07T00:00:00",
          "2020-01-08T00:00:00",
          "2020-01-09T00:00:00",
          "2020-01-10T00:00:00",
          "2020-01-11T00:00:00",
          "2020-01-12T00:00:00",
          "2020-01-13T00:00:00",
          "2020-01-14T00:00:00",
          "2020-01-15T00:00:00",
          "2020-01-16T00:00:00",
          "2020-01-17T00:00:00",
          "2020-01-18T00:00:00",
          "2020-01-19T00:00:00",
          "2020-01-20T00:00:00",
          "2020-01-21T00:00:00",
          "2020-01-22T00:00:00",
          "2020-01-23T00:00:00",
          "2020-01-24T00:00:00",
          "2020-01-25T00:00:00",
          "2020-01-26T00:00:00",
          "2020-01-27T00:00:00",
          "2020-01-28T00:00:00",
          "2020-01-29T00:00:00",
          "2020-01-30T00:00:00",
          "2020-01-31T00:00:00",
          "2020-02-01T00:00:00",
          "2020-02-02T00:00:00",
          "2020-02-03T00:00:00",
          "2020-02-04T00:00:00",
          "2020-02-05T00:00:00",
          "2020-02-06T00:00:00",
          "2020-02-07T00:00:00",
          "2020-02-08T00:00:00",
          "2020-02-09T00:00:00",
          "2020-02-10T00:00:00",
          "2020-02-11T00:00:00",
          "2020-02-12T00:00:00",
          "2020-02-13T00:00:00",
          "2020-02-14T00:00:00",
          "2020-02-15T00:00:00",
          "2020-02-16T00:00:00",
          "2020-02-17T00:00:00",
          "2020-02-18T00:00:00",
          "2020-02-19T00:00:00",
          "2020-02-20T00:00:00",
          "2020-02-21T00:00:00",
          "2020-02-22T00:00:00",
          "2020-02-23T00:00:00",
          "2020-02-24T00:00:00",
          "2020-02-25T00:00:00",
          "2020-02-26T00:00:00",
          "2020-02-27T00:00:00",
          "2020-02-28T00:00:00",
          "2020-02-29T00:00:00",
          "2020-03-01T00:00:00",
          "2020-03-02T00:00:00",
          "2020-03-03T00:00:00",
          "2020-03-04T00:00:00",
          "2020-03-05T00:00:00",
          "2020-03-06T00:00:00",
          "2020-03-07T00:00:00",
          "2020-03-08T00:00:00",
          "2020-03-09T00:00:00",
          "2020-03-10T00:00:00",
          "2020-03-11T00:00:00",
          "2020-03-12T00:00:00",
          "2020-03-13T00:00:00",
          "2020-03-14T00:00:00",
          "2020-03-15T00:00:00",
          "2020-03-16T00:00:00",
          "2020-03-17T00:00:00",
          "2020-03-18T00:00:00",
          "2020-03-19T00:00:00",
          "2020-03-20T00:00:00",
          "2020-03-21T00:00:00",
          "2020-03-22T00:00:00",
          "2020-03-23T00:00:00",
          "2020-03-24T00:00:00",
          "2020-03-25T00:00:00",
          "2020-03-26T00:00:00",
          "2020-03-27T00:00:00",
          "2020-03-28T00:00:00",
          "2020-03-29T00:00:00",
          "2020-03-30T00:00:00",
          "2020-03-31T00:00:00",
          "2020-04-01T00:00:00",
          "2020-04-02T00:00:00",
          "2020-04-03T00:00:00",
          "2020-04-04T00:00:00",
          "2020-04-05T00:00:00",
          "2020-04-06T00:00:00",
          "2020-04-07T00:00:00",
          "2020-04-08T00:00:00",
          "2020-04-09T00:00:00",
          "2020-04-10T00:00:00",
          "2020-04-11T00:00:00",
          "2020-04-12T00:00:00",
          "2020-04-13T00:00:00",
          "2020-04-14T00:00:00",
          "2020-04-15T00:00:00",
          "2020-04-16T00:00:00",
          "2020-04-17T00:00:00",
          "2020-04-18T00:00:00",
          "2020-04-19T00:00:00",
          "2020-04-20T00:00:00",
          "2020-04-21T00:00:00",
          "2020-04-22T00:00:00",
          "2020-04-23T00:00:00",
          "2020-04-24T00:00:00",
          "2020-04-25T00:00:00",
          "2020-04-26T00:00:00",
          "2020-04-27T00:00:00",
          "2020-04-28T00:00:00",
          "2020-04-29T00:00:00",
          "2020-04-30T00:00:00",
          "2020-05-01T00:00:00",
          "2020-05-02T00:00:00",
          "2020-05-03T00:00:00",
          "2020-05-04T00:00:00",
          "2020-05-05T00:00:00",
          "2020-05-06T00:00:00",
          "2020-05-07T00:00:00",
          "2020-05-08T00:00:00",
          "2020-05-09T00:00:00",
          "2020-05-10T00:00:00",
          "2020-05-11T00:00:00",
          "2020-05-12T00:00:00",
          "2020-05-13T00:00:00",
          "2020-05-14T00:00:00",
          "2020-05-15T00:00:00",
          "2020-05-16T00:00:00",
          "2020-05-17T00:00:00",
          "2020-05-18T00:00:00",
          "2020-05-19T00:00:00",
          "2020-05-20T00:00:00",
          "2020-05-21T00:00:00",
          "2020-05-22T00:00:00",
          "2020-05-23T00:00:00",
          "2020-05-24T00:00:00",
          "2020-05-25T00:00:00",
          "2020-05-26T00:00:00",
          "2020-05-27T00:00:00",
          "2020-05-28T00:00:00",
          "2020-05-29T00:00:00",
          "2020-05-30T00:00:00",
          "2020-05-31T00:00:00",
          "2020-06-01T00:00:00",
          "2020-06-02T00:00:00",
          "2020-06-03T00:00:00",
          "2020-06-04T00:00:00",
          "2020-06-05T00:00:00",
          "2020-06-06T00:00:00",
          "2020-06-07T00:00:00",
          "2020-06-08T00:00:00",
          "2020-06-09T00:00:00",
          "2020-06-10T00:00:00",
          "2020-06-11T00:00:00",
          "2020-06-12T00:00:00",
          "2020-06-13T00:00:00",
          "2020-06-14T00:00:00",
          "2020-06-15T00:00:00",
          "2020-06-16T00:00:00",
          "2020-06-17T00:00:00",
          "2020-06-18T00:00:00",
          "2020-06-19T00:00:00",
          "2020-06-20T00:00:00",
          "2020-06-21T00:00:00",
          "2020-06-22T00:00:00",
          "2020-06-23T00:00:00",
          "2020-06-24T00:00:00",
          "2020-06-25T00:00:00",
          "2020-06-26T00:00:00",
          "2020-06-27T00:00:00",
          "2020-06-28T00:00:00",
          "2020-06-29T00:00:00",
          "2020-06-30T00:00:00",
          "2020-07-01T00:00:00",
          "2020-07-02T00:00:00",
          "2020-07-03T00:00:00",
          "2020-07-04T00:00:00",
          "2020-07-05T00:00:00",
          "2020-07-06T00:00:00",
          "2020-07-07T00:00:00",
          "2020-07-08T00:00:00",
          "2020-07-09T00:00:00",
          "2020-07-10T00:00:00",
          "2020-07-11T00:00:00",
          "2020-07-12T00:00:00",
          "2020-07-13T00:00:00",
          "2020-07-14T00:00:00",
          "2020-07-15T00:00:00",
          "2020-07-16T00:00:00",
          "2020-07-17T00:00:00",
          "2020-07-18T00:00:00",
          "2020-07-19T00:00:00",
          "2020-07-20T00:00:00",
          "2020-07-21T00:00:00",
          "2020-07-22T00:00:00",
          "2020-07-23T00:00:00",
          "2020-07-24T00:00:00",
          "2020-07-25T00:00:00",
          "2020-07-26T00:00:00",
          "2020-07-27T00:00:00",
          "2020-07-28T00:00:00",
          "2020-07-29T00:00:00",
          "2020-07-30T00:00:00",
          "2020-07-31T00:00:00",
          "2020-08-01T00:00:00",
          "2020-08-02T00:00:00",
          "2020-08-03T00:00:00",
          "2020-08-04T00:00:00",
          "2020-08-05T00:00:00",
          "2020-08-06T00:00:00",
          "2020-08-07T00:00:00",
          "2020-08-08T00:00:00",
          "2020-08-09T00:00:00",
          "2020-08-10T00:00:00",
          "2020-08-11T00:00:00",
          "2020-08-12T00:00:00",
          "2020-08-13T00:00:00",
          "2020-08-14T00:00:00",
          "2020-08-15T00:00:00",
          "2020-08-16T00:00:00",
          "2020-08-17T00:00:00",
          "2020-08-18T00:00:00",
          "2020-08-19T00:00:00",
          "2020-08-20T00:00:00",
          "2020-08-21T00:00:00",
          "2020-08-22T00:00:00",
          "2020-08-23T00:00:00",
          "2020-08-24T00:00:00",
          "2020-08-25T00:00:00",
          "2020-08-26T00:00:00",
          "2020-08-27T00:00:00",
          "2020-08-28T00:00:00",
          "2020-08-29T00:00:00",
          "2020-08-30T00:00:00",
          "2020-08-31T00:00:00",
          "2020-09-01T00:00:00",
          "2020-09-02T00:00:00",
          "2020-09-03T00:00:00",
          "2020-09-04T00:00:00",
          "2020-09-05T00:00:00",
          "2020-09-06T00:00:00",
          "2020-09-07T00:00:00",
          "2020-09-08T00:00:00",
          "2020-09-09T00:00:00",
          "2020-09-10T00:00:00",
          "2020-09-11T00:00:00",
          "2020-09-12T00:00:00",
          "2020-09-13T00:00:00",
          "2020-09-14T00:00:00",
          "2020-09-15T00:00:00",
          "2020-09-16T00:00:00",
          "2020-09-17T00:00:00",
          "2020-09-18T00:00:00",
          "2020-09-19T00:00:00",
          "2020-09-20T00:00:00",
          "2020-09-21T00:00:00",
          "2020-09-22T00:00:00",
          "2020-09-23T00:00:00",
          "2020-09-24T00:00:00",
          "2020-09-25T00:00:00",
          "2020-09-26T00:00:00",
          "2020-09-27T00:00:00"
         ],
         "xaxis": "x",
         "y": [
          9,
          6703,
          0,
          0,
          0,
          3046,
          25,
          0,
          378,
          345,
          0,
          0,
          3615,
          202,
          0,
          0,
          8104,
          619,
          0,
          0,
          518,
          0,
          0,
          0,
          4701,
          0,
          0,
          0,
          2416,
          1968,
          0,
          0,
          482,
          0,
          0,
          866,
          89,
          0,
          0,
          3710,
          84,
          0,
          0,
          0,
          0,
          0,
          0,
          0,
          0,
          0,
          0,
          0,
          0,
          0,
          0,
          0,
          0,
          0,
          0,
          0,
          0,
          0,
          0,
          0,
          0,
          0,
          0,
          0,
          0,
          0,
          0,
          0,
          0,
          0,
          0,
          0,
          0,
          0,
          0,
          0,
          0,
          0,
          0,
          0,
          0,
          0,
          0,
          0,
          0,
          0,
          0,
          0,
          0,
          0,
          0,
          0,
          0,
          0,
          0,
          0,
          0,
          0,
          0,
          0,
          0,
          0,
          0,
          0,
          0,
          0,
          0,
          0,
          0,
          0,
          0,
          0,
          0,
          0,
          0,
          0,
          0,
          0,
          0,
          0,
          0,
          0,
          0,
          0,
          0,
          0,
          0,
          0,
          0,
          0,
          0,
          0,
          0,
          0,
          0,
          0,
          0,
          0,
          0,
          0,
          0,
          0,
          0,
          0,
          0,
          0,
          0,
          0,
          0,
          0,
          0,
          0,
          0,
          0,
          0,
          0,
          0,
          0,
          0,
          0,
          0,
          0,
          0,
          0,
          0,
          0,
          0,
          0,
          0,
          0,
          0,
          0,
          0,
          0,
          0,
          0,
          0,
          0,
          0,
          0,
          0,
          0,
          0,
          0,
          0,
          0,
          0,
          0,
          0,
          0,
          0,
          0,
          0,
          0,
          0,
          0,
          0,
          0,
          0,
          0,
          0,
          0,
          0,
          0,
          0,
          0,
          0,
          0,
          0,
          0,
          0,
          0,
          0,
          0,
          0,
          0,
          0,
          0,
          0,
          0,
          0,
          0,
          0,
          0,
          0,
          0,
          0,
          0,
          0,
          0,
          0,
          0,
          0,
          0,
          0,
          0,
          0,
          0,
          0,
          0,
          0,
          0,
          0,
          0,
          0,
          0,
          0,
          0,
          0,
          0,
          0,
          0,
          0,
          0,
          0,
          84,
          0,
          0,
          0,
          67,
          0,
          0,
          0,
          0,
          0,
          0,
          0,
          99,
          0,
          0,
          0,
          0,
          0,
          0,
          0,
          0,
          0,
          0,
          75,
          0,
          0,
          0,
          124,
          0,
          0,
          0,
          0,
          0,
          0,
          0,
          0,
          0,
          0,
          0,
          63
         ],
         "yaxis": "y"
        }
       ],
       "layout": {
        "autosize": true,
        "legend": {
         "title": {
          "text": "variable"
         },
         "tracegroupgap": 0
        },
        "template": {
         "data": {
          "bar": [
           {
            "error_x": {
             "color": "#2a3f5f"
            },
            "error_y": {
             "color": "#2a3f5f"
            },
            "marker": {
             "line": {
              "color": "#E5ECF6",
              "width": 0.5
             },
             "pattern": {
              "fillmode": "overlay",
              "size": 10,
              "solidity": 0.2
             }
            },
            "type": "bar"
           }
          ],
          "barpolar": [
           {
            "marker": {
             "line": {
              "color": "#E5ECF6",
              "width": 0.5
             },
             "pattern": {
              "fillmode": "overlay",
              "size": 10,
              "solidity": 0.2
             }
            },
            "type": "barpolar"
           }
          ],
          "carpet": [
           {
            "aaxis": {
             "endlinecolor": "#2a3f5f",
             "gridcolor": "white",
             "linecolor": "white",
             "minorgridcolor": "white",
             "startlinecolor": "#2a3f5f"
            },
            "baxis": {
             "endlinecolor": "#2a3f5f",
             "gridcolor": "white",
             "linecolor": "white",
             "minorgridcolor": "white",
             "startlinecolor": "#2a3f5f"
            },
            "type": "carpet"
           }
          ],
          "choropleth": [
           {
            "colorbar": {
             "outlinewidth": 0,
             "ticks": ""
            },
            "type": "choropleth"
           }
          ],
          "contour": [
           {
            "colorbar": {
             "outlinewidth": 0,
             "ticks": ""
            },
            "colorscale": [
             [
              0,
              "#0d0887"
             ],
             [
              0.1111111111111111,
              "#46039f"
             ],
             [
              0.2222222222222222,
              "#7201a8"
             ],
             [
              0.3333333333333333,
              "#9c179e"
             ],
             [
              0.4444444444444444,
              "#bd3786"
             ],
             [
              0.5555555555555556,
              "#d8576b"
             ],
             [
              0.6666666666666666,
              "#ed7953"
             ],
             [
              0.7777777777777778,
              "#fb9f3a"
             ],
             [
              0.8888888888888888,
              "#fdca26"
             ],
             [
              1,
              "#f0f921"
             ]
            ],
            "type": "contour"
           }
          ],
          "contourcarpet": [
           {
            "colorbar": {
             "outlinewidth": 0,
             "ticks": ""
            },
            "type": "contourcarpet"
           }
          ],
          "heatmap": [
           {
            "colorbar": {
             "outlinewidth": 0,
             "ticks": ""
            },
            "colorscale": [
             [
              0,
              "#0d0887"
             ],
             [
              0.1111111111111111,
              "#46039f"
             ],
             [
              0.2222222222222222,
              "#7201a8"
             ],
             [
              0.3333333333333333,
              "#9c179e"
             ],
             [
              0.4444444444444444,
              "#bd3786"
             ],
             [
              0.5555555555555556,
              "#d8576b"
             ],
             [
              0.6666666666666666,
              "#ed7953"
             ],
             [
              0.7777777777777778,
              "#fb9f3a"
             ],
             [
              0.8888888888888888,
              "#fdca26"
             ],
             [
              1,
              "#f0f921"
             ]
            ],
            "type": "heatmap"
           }
          ],
          "heatmapgl": [
           {
            "colorbar": {
             "outlinewidth": 0,
             "ticks": ""
            },
            "colorscale": [
             [
              0,
              "#0d0887"
             ],
             [
              0.1111111111111111,
              "#46039f"
             ],
             [
              0.2222222222222222,
              "#7201a8"
             ],
             [
              0.3333333333333333,
              "#9c179e"
             ],
             [
              0.4444444444444444,
              "#bd3786"
             ],
             [
              0.5555555555555556,
              "#d8576b"
             ],
             [
              0.6666666666666666,
              "#ed7953"
             ],
             [
              0.7777777777777778,
              "#fb9f3a"
             ],
             [
              0.8888888888888888,
              "#fdca26"
             ],
             [
              1,
              "#f0f921"
             ]
            ],
            "type": "heatmapgl"
           }
          ],
          "histogram": [
           {
            "marker": {
             "pattern": {
              "fillmode": "overlay",
              "size": 10,
              "solidity": 0.2
             }
            },
            "type": "histogram"
           }
          ],
          "histogram2d": [
           {
            "colorbar": {
             "outlinewidth": 0,
             "ticks": ""
            },
            "colorscale": [
             [
              0,
              "#0d0887"
             ],
             [
              0.1111111111111111,
              "#46039f"
             ],
             [
              0.2222222222222222,
              "#7201a8"
             ],
             [
              0.3333333333333333,
              "#9c179e"
             ],
             [
              0.4444444444444444,
              "#bd3786"
             ],
             [
              0.5555555555555556,
              "#d8576b"
             ],
             [
              0.6666666666666666,
              "#ed7953"
             ],
             [
              0.7777777777777778,
              "#fb9f3a"
             ],
             [
              0.8888888888888888,
              "#fdca26"
             ],
             [
              1,
              "#f0f921"
             ]
            ],
            "type": "histogram2d"
           }
          ],
          "histogram2dcontour": [
           {
            "colorbar": {
             "outlinewidth": 0,
             "ticks": ""
            },
            "colorscale": [
             [
              0,
              "#0d0887"
             ],
             [
              0.1111111111111111,
              "#46039f"
             ],
             [
              0.2222222222222222,
              "#7201a8"
             ],
             [
              0.3333333333333333,
              "#9c179e"
             ],
             [
              0.4444444444444444,
              "#bd3786"
             ],
             [
              0.5555555555555556,
              "#d8576b"
             ],
             [
              0.6666666666666666,
              "#ed7953"
             ],
             [
              0.7777777777777778,
              "#fb9f3a"
             ],
             [
              0.8888888888888888,
              "#fdca26"
             ],
             [
              1,
              "#f0f921"
             ]
            ],
            "type": "histogram2dcontour"
           }
          ],
          "mesh3d": [
           {
            "colorbar": {
             "outlinewidth": 0,
             "ticks": ""
            },
            "type": "mesh3d"
           }
          ],
          "parcoords": [
           {
            "line": {
             "colorbar": {
              "outlinewidth": 0,
              "ticks": ""
             }
            },
            "type": "parcoords"
           }
          ],
          "pie": [
           {
            "automargin": true,
            "type": "pie"
           }
          ],
          "scatter": [
           {
            "marker": {
             "colorbar": {
              "outlinewidth": 0,
              "ticks": ""
             }
            },
            "type": "scatter"
           }
          ],
          "scatter3d": [
           {
            "line": {
             "colorbar": {
              "outlinewidth": 0,
              "ticks": ""
             }
            },
            "marker": {
             "colorbar": {
              "outlinewidth": 0,
              "ticks": ""
             }
            },
            "type": "scatter3d"
           }
          ],
          "scattercarpet": [
           {
            "marker": {
             "colorbar": {
              "outlinewidth": 0,
              "ticks": ""
             }
            },
            "type": "scattercarpet"
           }
          ],
          "scattergeo": [
           {
            "marker": {
             "colorbar": {
              "outlinewidth": 0,
              "ticks": ""
             }
            },
            "type": "scattergeo"
           }
          ],
          "scattergl": [
           {
            "marker": {
             "colorbar": {
              "outlinewidth": 0,
              "ticks": ""
             }
            },
            "type": "scattergl"
           }
          ],
          "scattermapbox": [
           {
            "marker": {
             "colorbar": {
              "outlinewidth": 0,
              "ticks": ""
             }
            },
            "type": "scattermapbox"
           }
          ],
          "scatterpolar": [
           {
            "marker": {
             "colorbar": {
              "outlinewidth": 0,
              "ticks": ""
             }
            },
            "type": "scatterpolar"
           }
          ],
          "scatterpolargl": [
           {
            "marker": {
             "colorbar": {
              "outlinewidth": 0,
              "ticks": ""
             }
            },
            "type": "scatterpolargl"
           }
          ],
          "scatterternary": [
           {
            "marker": {
             "colorbar": {
              "outlinewidth": 0,
              "ticks": ""
             }
            },
            "type": "scatterternary"
           }
          ],
          "surface": [
           {
            "colorbar": {
             "outlinewidth": 0,
             "ticks": ""
            },
            "colorscale": [
             [
              0,
              "#0d0887"
             ],
             [
              0.1111111111111111,
              "#46039f"
             ],
             [
              0.2222222222222222,
              "#7201a8"
             ],
             [
              0.3333333333333333,
              "#9c179e"
             ],
             [
              0.4444444444444444,
              "#bd3786"
             ],
             [
              0.5555555555555556,
              "#d8576b"
             ],
             [
              0.6666666666666666,
              "#ed7953"
             ],
             [
              0.7777777777777778,
              "#fb9f3a"
             ],
             [
              0.8888888888888888,
              "#fdca26"
             ],
             [
              1,
              "#f0f921"
             ]
            ],
            "type": "surface"
           }
          ],
          "table": [
           {
            "cells": {
             "fill": {
              "color": "#EBF0F8"
             },
             "line": {
              "color": "white"
             }
            },
            "header": {
             "fill": {
              "color": "#C8D4E3"
             },
             "line": {
              "color": "white"
             }
            },
            "type": "table"
           }
          ]
         },
         "layout": {
          "annotationdefaults": {
           "arrowcolor": "#2a3f5f",
           "arrowhead": 0,
           "arrowwidth": 1
          },
          "autotypenumbers": "strict",
          "coloraxis": {
           "colorbar": {
            "outlinewidth": 0,
            "ticks": ""
           }
          },
          "colorscale": {
           "diverging": [
            [
             0,
             "#8e0152"
            ],
            [
             0.1,
             "#c51b7d"
            ],
            [
             0.2,
             "#de77ae"
            ],
            [
             0.3,
             "#f1b6da"
            ],
            [
             0.4,
             "#fde0ef"
            ],
            [
             0.5,
             "#f7f7f7"
            ],
            [
             0.6,
             "#e6f5d0"
            ],
            [
             0.7,
             "#b8e186"
            ],
            [
             0.8,
             "#7fbc41"
            ],
            [
             0.9,
             "#4d9221"
            ],
            [
             1,
             "#276419"
            ]
           ],
           "sequential": [
            [
             0,
             "#0d0887"
            ],
            [
             0.1111111111111111,
             "#46039f"
            ],
            [
             0.2222222222222222,
             "#7201a8"
            ],
            [
             0.3333333333333333,
             "#9c179e"
            ],
            [
             0.4444444444444444,
             "#bd3786"
            ],
            [
             0.5555555555555556,
             "#d8576b"
            ],
            [
             0.6666666666666666,
             "#ed7953"
            ],
            [
             0.7777777777777778,
             "#fb9f3a"
            ],
            [
             0.8888888888888888,
             "#fdca26"
            ],
            [
             1,
             "#f0f921"
            ]
           ],
           "sequentialminus": [
            [
             0,
             "#0d0887"
            ],
            [
             0.1111111111111111,
             "#46039f"
            ],
            [
             0.2222222222222222,
             "#7201a8"
            ],
            [
             0.3333333333333333,
             "#9c179e"
            ],
            [
             0.4444444444444444,
             "#bd3786"
            ],
            [
             0.5555555555555556,
             "#d8576b"
            ],
            [
             0.6666666666666666,
             "#ed7953"
            ],
            [
             0.7777777777777778,
             "#fb9f3a"
            ],
            [
             0.8888888888888888,
             "#fdca26"
            ],
            [
             1,
             "#f0f921"
            ]
           ]
          },
          "colorway": [
           "#636efa",
           "#EF553B",
           "#00cc96",
           "#ab63fa",
           "#FFA15A",
           "#19d3f3",
           "#FF6692",
           "#B6E880",
           "#FF97FF",
           "#FECB52"
          ],
          "font": {
           "color": "#2a3f5f"
          },
          "geo": {
           "bgcolor": "white",
           "lakecolor": "white",
           "landcolor": "#E5ECF6",
           "showlakes": true,
           "showland": true,
           "subunitcolor": "white"
          },
          "hoverlabel": {
           "align": "left"
          },
          "hovermode": "closest",
          "mapbox": {
           "style": "light"
          },
          "paper_bgcolor": "white",
          "plot_bgcolor": "#E5ECF6",
          "polar": {
           "angularaxis": {
            "gridcolor": "white",
            "linecolor": "white",
            "ticks": ""
           },
           "bgcolor": "#E5ECF6",
           "radialaxis": {
            "gridcolor": "white",
            "linecolor": "white",
            "ticks": ""
           }
          },
          "scene": {
           "xaxis": {
            "backgroundcolor": "#E5ECF6",
            "gridcolor": "white",
            "gridwidth": 2,
            "linecolor": "white",
            "showbackground": true,
            "ticks": "",
            "zerolinecolor": "white"
           },
           "yaxis": {
            "backgroundcolor": "#E5ECF6",
            "gridcolor": "white",
            "gridwidth": 2,
            "linecolor": "white",
            "showbackground": true,
            "ticks": "",
            "zerolinecolor": "white"
           },
           "zaxis": {
            "backgroundcolor": "#E5ECF6",
            "gridcolor": "white",
            "gridwidth": 2,
            "linecolor": "white",
            "showbackground": true,
            "ticks": "",
            "zerolinecolor": "white"
           }
          },
          "shapedefaults": {
           "line": {
            "color": "#2a3f5f"
           }
          },
          "ternary": {
           "aaxis": {
            "gridcolor": "white",
            "linecolor": "white",
            "ticks": ""
           },
           "baxis": {
            "gridcolor": "white",
            "linecolor": "white",
            "ticks": ""
           },
           "bgcolor": "#E5ECF6",
           "caxis": {
            "gridcolor": "white",
            "linecolor": "white",
            "ticks": ""
           }
          },
          "title": {
           "x": 0.05
          },
          "xaxis": {
           "automargin": true,
           "gridcolor": "white",
           "linecolor": "white",
           "ticks": "",
           "title": {
            "standoff": 15
           },
           "zerolinecolor": "white",
           "zerolinewidth": 2
          },
          "yaxis": {
           "automargin": true,
           "gridcolor": "white",
           "linecolor": "white",
           "ticks": "",
           "title": {
            "standoff": 15
           },
           "zerolinecolor": "white",
           "zerolinewidth": 2
          }
         }
        },
        "title": {
         "text": "SENTINEL_3B_SLSTR_EUMETSAT|NOAA 20_VIIRS_NASA2.0NRT"
        },
        "xaxis": {
         "anchor": "y",
         "autorange": true,
         "domain": [
          0,
          1
         ],
         "range": [
          "2019-11-15 02:30:51.8937",
          "2020-10-15 21:29:08.1063"
         ],
         "title": {
          "text": "date"
         },
         "type": "date"
        },
        "yaxis": {
         "anchor": "x",
         "autorange": true,
         "domain": [
          0,
          1
         ],
         "range": [
          -668.7766990291262,
          8772.776699029126
         ],
         "title": {
          "text": "hotspots"
         },
         "type": "linear"
        }
       }
      },
      "image/png": "[encoded data removed]",
      "text/html": [
       "<div>                            <div id=\"847d15c3-141a-43a6-8cf4-6ae1ff8ab317\" class=\"plotly-graph-div\" style=\"height:525px; width:100%;\"></div>            <script type=\"text/javascript\">                require([\"plotly\"], function(Plotly) {                    window.PLOTLYENV=window.PLOTLYENV || {};                                    if (document.getElementById(\"847d15c3-141a-43a6-8cf4-6ae1ff8ab317\")) {                    Plotly.newPlot(                        \"847d15c3-141a-43a6-8cf4-6ae1ff8ab317\",                        [{\"hovertemplate\":\"variable=master_count<br>datetime=%{x}<br>value=%{y}<extra></extra>\",\"legendgroup\":\"master_count\",\"marker\":{\"color\":\"#636efa\",\"symbol\":\"circle\"},\"mode\":\"markers\",\"name\":\"master_count\",\"orientation\":\"v\",\"showlegend\":true,\"type\":\"scatter\",\"x\":[\"2019-12-04T00:00:00\",\"2019-12-05T00:00:00\",\"2019-12-06T00:00:00\",\"2019-12-07T00:00:00\",\"2019-12-08T00:00:00\",\"2019-12-09T00:00:00\",\"2019-12-10T00:00:00\",\"2019-12-11T00:00:00\",\"2019-12-12T00:00:00\",\"2019-12-13T00:00:00\",\"2019-12-14T00:00:00\",\"2019-12-15T00:00:00\",\"2019-12-16T00:00:00\",\"2019-12-17T00:00:00\",\"2019-12-18T00:00:00\",\"2019-12-19T00:00:00\",\"2019-12-20T00:00:00\",\"2019-12-21T00:00:00\",\"2019-12-22T00:00:00\",\"2019-12-23T00:00:00\",\"2019-12-24T00:00:00\",\"2019-12-25T00:00:00\",\"2019-12-26T00:00:00\",\"2019-12-27T00:00:00\",\"2019-12-28T00:00:00\",\"2019-12-29T00:00:00\",\"2019-12-30T00:00:00\",\"2019-12-31T00:00:00\",\"2020-01-01T00:00:00\",\"2020-01-02T00:00:00\",\"2020-01-03T00:00:00\",\"2020-01-04T00:00:00\",\"2020-01-05T00:00:00\",\"2020-01-06T00:00:00\",\"2020-01-07T00:00:00\",\"2020-01-08T00:00:00\",\"2020-01-09T00:00:00\",\"2020-01-10T00:00:00\",\"2020-01-11T00:00:00\",\"2020-01-12T00:00:00\",\"2020-01-13T00:00:00\",\"2020-01-14T00:00:00\",\"2020-01-15T00:00:00\",\"2020-01-16T00:00:00\",\"2020-01-17T00:00:00\",\"2020-01-18T00:00:00\",\"2020-01-19T00:00:00\",\"2020-01-20T00:00:00\",\"2020-01-21T00:00:00\",\"2020-01-22T00:00:00\",\"2020-01-23T00:00:00\",\"2020-01-24T00:00:00\",\"2020-01-25T00:00:00\",\"2020-01-26T00:00:00\",\"2020-01-27T00:00:00\",\"2020-01-28T00:00:00\",\"2020-01-29T00:00:00\",\"2020-01-30T00:00:00\",\"2020-01-31T00:00:00\",\"2020-02-01T00:00:00\",\"2020-02-02T00:00:00\",\"2020-02-03T00:00:00\",\"2020-02-04T00:00:00\",\"2020-02-05T00:00:00\",\"2020-02-06T00:00:00\",\"2020-02-07T00:00:00\",\"2020-02-08T00:00:00\",\"2020-02-09T00:00:00\",\"2020-02-10T00:00:00\",\"2020-02-11T00:00:00\",\"2020-02-12T00:00:00\",\"2020-02-13T00:00:00\",\"2020-02-14T00:00:00\",\"2020-02-15T00:00:00\",\"2020-02-16T00:00:00\",\"2020-02-17T00:00:00\",\"2020-02-18T00:00:00\",\"2020-02-19T00:00:00\",\"2020-02-20T00:00:00\",\"2020-02-21T00:00:00\",\"2020-02-22T00:00:00\",\"2020-02-23T00:00:00\",\"2020-02-24T00:00:00\",\"2020-02-25T00:00:00\",\"2020-02-26T00:00:00\",\"2020-02-27T00:00:00\",\"2020-02-28T00:00:00\",\"2020-02-29T00:00:00\",\"2020-03-01T00:00:00\",\"2020-03-02T00:00:00\",\"2020-03-03T00:00:00\",\"2020-03-04T00:00:00\",\"2020-03-05T00:00:00\",\"2020-03-06T00:00:00\",\"2020-03-07T00:00:00\",\"2020-03-08T00:00:00\",\"2020-03-09T00:00:00\",\"2020-03-10T00:00:00\",\"2020-03-11T00:00:00\",\"2020-03-12T00:00:00\",\"2020-03-13T00:00:00\",\"2020-03-14T00:00:00\",\"2020-03-15T00:00:00\",\"2020-03-16T00:00:00\",\"2020-03-17T00:00:00\",\"2020-03-18T00:00:00\",\"2020-03-19T00:00:00\",\"2020-03-20T00:00:00\",\"2020-03-21T00:00:00\",\"2020-03-22T00:00:00\",\"2020-03-23T00:00:00\",\"2020-03-24T00:00:00\",\"2020-03-25T00:00:00\",\"2020-03-26T00:00:00\",\"2020-03-27T00:00:00\",\"2020-03-28T00:00:00\",\"2020-03-29T00:00:00\",\"2020-03-30T00:00:00\",\"2020-03-31T00:00:00\",\"2020-04-01T00:00:00\",\"2020-04-02T00:00:00\",\"2020-04-03T00:00:00\",\"2020-04-04T00:00:00\",\"2020-04-05T00:00:00\",\"2020-04-06T00:00:00\",\"2020-04-07T00:00:00\",\"2020-04-08T00:00:00\",\"2020-04-09T00:00:00\",\"2020-04-10T00:00:00\",\"2020-04-11T00:00:00\",\"2020-04-12T00:00:00\",\"2020-04-13T00:00:00\",\"2020-04-14T00:00:00\",\"2020-04-15T00:00:00\",\"2020-04-16T00:00:00\",\"2020-04-17T00:00:00\",\"2020-04-18T00:00:00\",\"2020-04-19T00:00:00\",\"2020-04-20T00:00:00\",\"2020-04-21T00:00:00\",\"2020-04-22T00:00:00\",\"2020-04-23T00:00:00\",\"2020-04-24T00:00:00\",\"2020-04-25T00:00:00\",\"2020-04-26T00:00:00\",\"2020-04-27T00:00:00\",\"2020-04-28T00:00:00\",\"2020-04-29T00:00:00\",\"2020-04-30T00:00:00\",\"2020-05-01T00:00:00\",\"2020-05-02T00:00:00\",\"2020-05-03T00:00:00\",\"2020-05-04T00:00:00\",\"2020-05-05T00:00:00\",\"2020-05-06T00:00:00\",\"2020-05-07T00:00:00\",\"2020-05-08T00:00:00\",\"2020-05-09T00:00:00\",\"2020-05-10T00:00:00\",\"2020-05-11T00:00:00\",\"2020-05-12T00:00:00\",\"2020-05-13T00:00:00\",\"2020-05-14T00:00:00\",\"2020-05-15T00:00:00\",\"2020-05-16T00:00:00\",\"2020-05-17T00:00:00\",\"2020-05-18T00:00:00\",\"2020-05-19T00:00:00\",\"2020-05-20T00:00:00\",\"2020-05-21T00:00:00\",\"2020-05-22T00:00:00\",\"2020-05-23T00:00:00\",\"2020-05-24T00:00:00\",\"2020-05-25T00:00:00\",\"2020-05-26T00:00:00\",\"2020-05-27T00:00:00\",\"2020-05-28T00:00:00\",\"2020-05-29T00:00:00\",\"2020-05-30T00:00:00\",\"2020-05-31T00:00:00\",\"2020-06-01T00:00:00\",\"2020-06-02T00:00:00\",\"2020-06-03T00:00:00\",\"2020-06-04T00:00:00\",\"2020-06-05T00:00:00\",\"2020-06-06T00:00:00\",\"2020-06-07T00:00:00\",\"2020-06-08T00:00:00\",\"2020-06-09T00:00:00\",\"2020-06-10T00:00:00\",\"2020-06-11T00:00:00\",\"2020-06-12T00:00:00\",\"2020-06-13T00:00:00\",\"2020-06-14T00:00:00\",\"2020-06-15T00:00:00\",\"2020-06-16T00:00:00\",\"2020-06-17T00:00:00\",\"2020-06-18T00:00:00\",\"2020-06-19T00:00:00\",\"2020-06-20T00:00:00\",\"2020-06-21T00:00:00\",\"2020-06-22T00:00:00\",\"2020-06-23T00:00:00\",\"2020-06-24T00:00:00\",\"2020-06-25T00:00:00\",\"2020-06-26T00:00:00\",\"2020-06-27T00:00:00\",\"2020-06-28T00:00:00\",\"2020-06-29T00:00:00\",\"2020-06-30T00:00:00\",\"2020-07-01T00:00:00\",\"2020-07-02T00:00:00\",\"2020-07-03T00:00:00\",\"2020-07-04T00:00:00\",\"2020-07-05T00:00:00\",\"2020-07-06T00:00:00\",\"2020-07-07T00:00:00\",\"2020-07-08T00:00:00\",\"2020-07-09T00:00:00\",\"2020-07-10T00:00:00\",\"2020-07-11T00:00:00\",\"2020-07-12T00:00:00\",\"2020-07-13T00:00:00\",\"2020-07-14T00:00:00\",\"2020-07-15T00:00:00\",\"2020-07-16T00:00:00\",\"2020-07-17T00:00:00\",\"2020-07-18T00:00:00\",\"2020-07-19T00:00:00\",\"2020-07-20T00:00:00\",\"2020-07-21T00:00:00\",\"2020-07-22T00:00:00\",\"2020-07-23T00:00:00\",\"2020-07-24T00:00:00\",\"2020-07-25T00:00:00\",\"2020-07-26T00:00:00\",\"2020-07-27T00:00:00\",\"2020-07-28T00:00:00\",\"2020-07-29T00:00:00\",\"2020-07-30T00:00:00\",\"2020-07-31T00:00:00\",\"2020-08-01T00:00:00\",\"2020-08-02T00:00:00\",\"2020-08-03T00:00:00\",\"2020-08-04T00:00:00\",\"2020-08-05T00:00:00\",\"2020-08-06T00:00:00\",\"2020-08-07T00:00:00\",\"2020-08-08T00:00:00\",\"2020-08-09T00:00:00\",\"2020-08-10T00:00:00\",\"2020-08-11T00:00:00\",\"2020-08-12T00:00:00\",\"2020-08-13T00:00:00\",\"2020-08-14T00:00:00\",\"2020-08-15T00:00:00\",\"2020-08-16T00:00:00\",\"2020-08-17T00:00:00\",\"2020-08-18T00:00:00\",\"2020-08-19T00:00:00\",\"2020-08-20T00:00:00\",\"2020-08-21T00:00:00\",\"2020-08-22T00:00:00\",\"2020-08-23T00:00:00\",\"2020-08-24T00:00:00\",\"2020-08-25T00:00:00\",\"2020-08-26T00:00:00\",\"2020-08-27T00:00:00\",\"2020-08-28T00:00:00\",\"2020-08-29T00:00:00\",\"2020-08-30T00:00:00\",\"2020-08-31T00:00:00\",\"2020-09-01T00:00:00\",\"2020-09-02T00:00:00\",\"2020-09-03T00:00:00\",\"2020-09-04T00:00:00\",\"2020-09-05T00:00:00\",\"2020-09-06T00:00:00\",\"2020-09-07T00:00:00\",\"2020-09-08T00:00:00\",\"2020-09-09T00:00:00\",\"2020-09-10T00:00:00\",\"2020-09-11T00:00:00\",\"2020-09-12T00:00:00\",\"2020-09-13T00:00:00\",\"2020-09-14T00:00:00\",\"2020-09-15T00:00:00\",\"2020-09-16T00:00:00\",\"2020-09-17T00:00:00\",\"2020-09-18T00:00:00\",\"2020-09-19T00:00:00\",\"2020-09-20T00:00:00\",\"2020-09-21T00:00:00\",\"2020-09-22T00:00:00\",\"2020-09-23T00:00:00\",\"2020-09-24T00:00:00\",\"2020-09-25T00:00:00\",\"2020-09-26T00:00:00\",\"2020-09-27T00:00:00\"],\"xaxis\":\"x\",\"y\":[5,3201,0,0,0,1307,1,0,117,46,0,0,1395,104,0,0,2426,192,0,0,291,0,0,0,1637,0,0,0,765,95,0,0,225,0,0,426,13,0,0,2276,12,0,0,0,0,0,0,0,0,0,0,0,0,0,0,0,0,0,0,0,0,0,0,0,0,0,0,0,0,0,0,0,0,0,0,0,0,0,0,0,0,0,0,0,0,0,0,0,0,0,0,0,0,0,0,0,0,0,0,0,0,0,0,0,0,0,0,0,0,0,0,0,0,0,0,0,0,0,0,0,0,0,0,0,0,0,0,0,0,0,0,0,0,0,0,0,0,0,0,0,0,0,0,0,0,0,0,0,0,0,0,0,0,0,0,0,0,0,0,0,0,0,0,0,0,0,0,0,0,0,0,0,0,0,0,0,0,0,0,0,0,0,0,0,0,0,0,0,0,0,0,0,0,0,0,0,0,0,0,0,0,0,0,0,0,0,0,0,0,0,0,0,0,0,0,0,0,0,0,0,0,0,0,0,0,0,0,0,0,0,0,0,0,0,0,0,0,0,0,0,0,0,0,0,0,0,0,0,0,0,0,0,0,0,0,0,0,0,0,60,0,0,0,48,0,0,0,0,0,0,0,87,0,0,0,0,0,0,0,0,0,0,48,0,0,0,63,0,0,0,0,0,0,0,0,0,0,0,69],\"yaxis\":\"y\"},{\"hovertemplate\":\"variable=slave_count<br>datetime=%{x}<br>value=%{y}<extra></extra>\",\"legendgroup\":\"slave_count\",\"marker\":{\"color\":\"#EF553B\",\"symbol\":\"circle\"},\"mode\":\"markers\",\"name\":\"slave_count\",\"orientation\":\"v\",\"showlegend\":true,\"type\":\"scatter\",\"x\":[\"2019-12-04T00:00:00\",\"2019-12-05T00:00:00\",\"2019-12-06T00:00:00\",\"2019-12-07T00:00:00\",\"2019-12-08T00:00:00\",\"2019-12-09T00:00:00\",\"2019-12-10T00:00:00\",\"2019-12-11T00:00:00\",\"2019-12-12T00:00:00\",\"2019-12-13T00:00:00\",\"2019-12-14T00:00:00\",\"2019-12-15T00:00:00\",\"2019-12-16T00:00:00\",\"2019-12-17T00:00:00\",\"2019-12-18T00:00:00\",\"2019-12-19T00:00:00\",\"2019-12-20T00:00:00\",\"2019-12-21T00:00:00\",\"2019-12-22T00:00:00\",\"2019-12-23T00:00:00\",\"2019-12-24T00:00:00\",\"2019-12-25T00:00:00\",\"2019-12-26T00:00:00\",\"2019-12-27T00:00:00\",\"2019-12-28T00:00:00\",\"2019-12-29T00:00:00\",\"2019-12-30T00:00:00\",\"2019-12-31T00:00:00\",\"2020-01-01T00:00:00\",\"2020-01-02T00:00:00\",\"2020-01-03T00:00:00\",\"2020-01-04T00:00:00\",\"2020-01-05T00:00:00\",\"2020-01-06T00:00:00\",\"2020-01-07T00:00:00\",\"2020-01-08T00:00:00\",\"2020-01-09T00:00:00\",\"2020-01-10T00:00:00\",\"2020-01-11T00:00:00\",\"2020-01-12T00:00:00\",\"2020-01-13T00:00:00\",\"2020-01-14T00:00:00\",\"2020-01-15T00:00:00\",\"2020-01-16T00:00:00\",\"2020-01-17T00:00:00\",\"2020-01-18T00:00:00\",\"2020-01-19T00:00:00\",\"2020-01-20T00:00:00\",\"2020-01-21T00:00:00\",\"2020-01-22T00:00:00\",\"2020-01-23T00:00:00\",\"2020-01-24T00:00:00\",\"2020-01-25T00:00:00\",\"2020-01-26T00:00:00\",\"2020-01-27T00:00:00\",\"2020-01-28T00:00:00\",\"2020-01-29T00:00:00\",\"2020-01-30T00:00:00\",\"2020-01-31T00:00:00\",\"2020-02-01T00:00:00\",\"2020-02-02T00:00:00\",\"2020-02-03T00:00:00\",\"2020-02-04T00:00:00\",\"2020-02-05T00:00:00\",\"2020-02-06T00:00:00\",\"2020-02-07T00:00:00\",\"2020-02-08T00:00:00\",\"2020-02-09T00:00:00\",\"2020-02-10T00:00:00\",\"2020-02-11T00:00:00\",\"2020-02-12T00:00:00\",\"2020-02-13T00:00:00\",\"2020-02-14T00:00:00\",\"2020-02-15T00:00:00\",\"2020-02-16T00:00:00\",\"2020-02-17T00:00:00\",\"2020-02-18T00:00:00\",\"2020-02-19T00:00:00\",\"2020-02-20T00:00:00\",\"2020-02-21T00:00:00\",\"2020-02-22T00:00:00\",\"2020-02-23T00:00:00\",\"2020-02-24T00:00:00\",\"2020-02-25T00:00:00\",\"2020-02-26T00:00:00\",\"2020-02-27T00:00:00\",\"2020-02-28T00:00:00\",\"2020-02-29T00:00:00\",\"2020-03-01T00:00:00\",\"2020-03-02T00:00:00\",\"2020-03-03T00:00:00\",\"2020-03-04T00:00:00\",\"2020-03-05T00:00:00\",\"2020-03-06T00:00:00\",\"2020-03-07T00:00:00\",\"2020-03-08T00:00:00\",\"2020-03-09T00:00:00\",\"2020-03-10T00:00:00\",\"2020-03-11T00:00:00\",\"2020-03-12T00:00:00\",\"2020-03-13T00:00:00\",\"2020-03-14T00:00:00\",\"2020-03-15T00:00:00\",\"2020-03-16T00:00:00\",\"2020-03-17T00:00:00\",\"2020-03-18T00:00:00\",\"2020-03-19T00:00:00\",\"2020-03-20T00:00:00\",\"2020-03-21T00:00:00\",\"2020-03-22T00:00:00\",\"2020-03-23T00:00:00\",\"2020-03-24T00:00:00\",\"2020-03-25T00:00:00\",\"2020-03-26T00:00:00\",\"2020-03-27T00:00:00\",\"2020-03-28T00:00:00\",\"2020-03-29T00:00:00\",\"2020-03-30T00:00:00\",\"2020-03-31T00:00:00\",\"2020-04-01T00:00:00\",\"2020-04-02T00:00:00\",\"2020-04-03T00:00:00\",\"2020-04-04T00:00:00\",\"2020-04-05T00:00:00\",\"2020-04-06T00:00:00\",\"2020-04-07T00:00:00\",\"2020-04-08T00:00:00\",\"2020-04-09T00:00:00\",\"2020-04-10T00:00:00\",\"2020-04-11T00:00:00\",\"2020-04-12T00:00:00\",\"2020-04-13T00:00:00\",\"2020-04-14T00:00:00\",\"2020-04-15T00:00:00\",\"2020-04-16T00:00:00\",\"2020-04-17T00:00:00\",\"2020-04-18T00:00:00\",\"2020-04-19T00:00:00\",\"2020-04-20T00:00:00\",\"2020-04-21T00:00:00\",\"2020-04-22T00:00:00\",\"2020-04-23T00:00:00\",\"2020-04-24T00:00:00\",\"2020-04-25T00:00:00\",\"2020-04-26T00:00:00\",\"2020-04-27T00:00:00\",\"2020-04-28T00:00:00\",\"2020-04-29T00:00:00\",\"2020-04-30T00:00:00\",\"2020-05-01T00:00:00\",\"2020-05-02T00:00:00\",\"2020-05-03T00:00:00\",\"2020-05-04T00:00:00\",\"2020-05-05T00:00:00\",\"2020-05-06T00:00:00\",\"2020-05-07T00:00:00\",\"2020-05-08T00:00:00\",\"2020-05-09T00:00:00\",\"2020-05-10T00:00:00\",\"2020-05-11T00:00:00\",\"2020-05-12T00:00:00\",\"2020-05-13T00:00:00\",\"2020-05-14T00:00:00\",\"2020-05-15T00:00:00\",\"2020-05-16T00:00:00\",\"2020-05-17T00:00:00\",\"2020-05-18T00:00:00\",\"2020-05-19T00:00:00\",\"2020-05-20T00:00:00\",\"2020-05-21T00:00:00\",\"2020-05-22T00:00:00\",\"2020-05-23T00:00:00\",\"2020-05-24T00:00:00\",\"2020-05-25T00:00:00\",\"2020-05-26T00:00:00\",\"2020-05-27T00:00:00\",\"2020-05-28T00:00:00\",\"2020-05-29T00:00:00\",\"2020-05-30T00:00:00\",\"2020-05-31T00:00:00\",\"2020-06-01T00:00:00\",\"2020-06-02T00:00:00\",\"2020-06-03T00:00:00\",\"2020-06-04T00:00:00\",\"2020-06-05T00:00:00\",\"2020-06-06T00:00:00\",\"2020-06-07T00:00:00\",\"2020-06-08T00:00:00\",\"2020-06-09T00:00:00\",\"2020-06-10T00:00:00\",\"2020-06-11T00:00:00\",\"2020-06-12T00:00:00\",\"2020-06-13T00:00:00\",\"2020-06-14T00:00:00\",\"2020-06-15T00:00:00\",\"2020-06-16T00:00:00\",\"2020-06-17T00:00:00\",\"2020-06-18T00:00:00\",\"2020-06-19T00:00:00\",\"2020-06-20T00:00:00\",\"2020-06-21T00:00:00\",\"2020-06-22T00:00:00\",\"2020-06-23T00:00:00\",\"2020-06-24T00:00:00\",\"2020-06-25T00:00:00\",\"2020-06-26T00:00:00\",\"2020-06-27T00:00:00\",\"2020-06-28T00:00:00\",\"2020-06-29T00:00:00\",\"2020-06-30T00:00:00\",\"2020-07-01T00:00:00\",\"2020-07-02T00:00:00\",\"2020-07-03T00:00:00\",\"2020-07-04T00:00:00\",\"2020-07-05T00:00:00\",\"2020-07-06T00:00:00\",\"2020-07-07T00:00:00\",\"2020-07-08T00:00:00\",\"2020-07-09T00:00:00\",\"2020-07-10T00:00:00\",\"2020-07-11T00:00:00\",\"2020-07-12T00:00:00\",\"2020-07-13T00:00:00\",\"2020-07-14T00:00:00\",\"2020-07-15T00:00:00\",\"2020-07-16T00:00:00\",\"2020-07-17T00:00:00\",\"2020-07-18T00:00:00\",\"2020-07-19T00:00:00\",\"2020-07-20T00:00:00\",\"2020-07-21T00:00:00\",\"2020-07-22T00:00:00\",\"2020-07-23T00:00:00\",\"2020-07-24T00:00:00\",\"2020-07-25T00:00:00\",\"2020-07-26T00:00:00\",\"2020-07-27T00:00:00\",\"2020-07-28T00:00:00\",\"2020-07-29T00:00:00\",\"2020-07-30T00:00:00\",\"2020-07-31T00:00:00\",\"2020-08-01T00:00:00\",\"2020-08-02T00:00:00\",\"2020-08-03T00:00:00\",\"2020-08-04T00:00:00\",\"2020-08-05T00:00:00\",\"2020-08-06T00:00:00\",\"2020-08-07T00:00:00\",\"2020-08-08T00:00:00\",\"2020-08-09T00:00:00\",\"2020-08-10T00:00:00\",\"2020-08-11T00:00:00\",\"2020-08-12T00:00:00\",\"2020-08-13T00:00:00\",\"2020-08-14T00:00:00\",\"2020-08-15T00:00:00\",\"2020-08-16T00:00:00\",\"2020-08-17T00:00:00\",\"2020-08-18T00:00:00\",\"2020-08-19T00:00:00\",\"2020-08-20T00:00:00\",\"2020-08-21T00:00:00\",\"2020-08-22T00:00:00\",\"2020-08-23T00:00:00\",\"2020-08-24T00:00:00\",\"2020-08-25T00:00:00\",\"2020-08-26T00:00:00\",\"2020-08-27T00:00:00\",\"2020-08-28T00:00:00\",\"2020-08-29T00:00:00\",\"2020-08-30T00:00:00\",\"2020-08-31T00:00:00\",\"2020-09-01T00:00:00\",\"2020-09-02T00:00:00\",\"2020-09-03T00:00:00\",\"2020-09-04T00:00:00\",\"2020-09-05T00:00:00\",\"2020-09-06T00:00:00\",\"2020-09-07T00:00:00\",\"2020-09-08T00:00:00\",\"2020-09-09T00:00:00\",\"2020-09-10T00:00:00\",\"2020-09-11T00:00:00\",\"2020-09-12T00:00:00\",\"2020-09-13T00:00:00\",\"2020-09-14T00:00:00\",\"2020-09-15T00:00:00\",\"2020-09-16T00:00:00\",\"2020-09-17T00:00:00\",\"2020-09-18T00:00:00\",\"2020-09-19T00:00:00\",\"2020-09-20T00:00:00\",\"2020-09-21T00:00:00\",\"2020-09-22T00:00:00\",\"2020-09-23T00:00:00\",\"2020-09-24T00:00:00\",\"2020-09-25T00:00:00\",\"2020-09-26T00:00:00\",\"2020-09-27T00:00:00\"],\"xaxis\":\"x\",\"y\":[9,6703,0,0,0,3046,25,0,378,345,0,0,3615,202,0,0,8104,619,0,0,518,0,0,0,4701,0,0,0,2416,1968,0,0,482,0,0,866,89,0,0,3710,84,0,0,0,0,0,0,0,0,0,0,0,0,0,0,0,0,0,0,0,0,0,0,0,0,0,0,0,0,0,0,0,0,0,0,0,0,0,0,0,0,0,0,0,0,0,0,0,0,0,0,0,0,0,0,0,0,0,0,0,0,0,0,0,0,0,0,0,0,0,0,0,0,0,0,0,0,0,0,0,0,0,0,0,0,0,0,0,0,0,0,0,0,0,0,0,0,0,0,0,0,0,0,0,0,0,0,0,0,0,0,0,0,0,0,0,0,0,0,0,0,0,0,0,0,0,0,0,0,0,0,0,0,0,0,0,0,0,0,0,0,0,0,0,0,0,0,0,0,0,0,0,0,0,0,0,0,0,0,0,0,0,0,0,0,0,0,0,0,0,0,0,0,0,0,0,0,0,0,0,0,0,0,0,0,0,0,0,0,0,0,0,0,0,0,0,0,0,0,0,0,0,0,0,0,0,0,0,0,0,0,0,0,0,0,0,0,0,0,84,0,0,0,67,0,0,0,0,0,0,0,99,0,0,0,0,0,0,0,0,0,0,75,0,0,0,124,0,0,0,0,0,0,0,0,0,0,0,63],\"yaxis\":\"y\"}],                        {\"legend\":{\"title\":{\"text\":\"variable\"},\"tracegroupgap\":0},\"template\":{\"data\":{\"bar\":[{\"error_x\":{\"color\":\"#2a3f5f\"},\"error_y\":{\"color\":\"#2a3f5f\"},\"marker\":{\"line\":{\"color\":\"#E5ECF6\",\"width\":0.5},\"pattern\":{\"fillmode\":\"overlay\",\"size\":10,\"solidity\":0.2}},\"type\":\"bar\"}],\"barpolar\":[{\"marker\":{\"line\":{\"color\":\"#E5ECF6\",\"width\":0.5},\"pattern\":{\"fillmode\":\"overlay\",\"size\":10,\"solidity\":0.2}},\"type\":\"barpolar\"}],\"carpet\":[{\"aaxis\":{\"endlinecolor\":\"#2a3f5f\",\"gridcolor\":\"white\",\"linecolor\":\"white\",\"minorgridcolor\":\"white\",\"startlinecolor\":\"#2a3f5f\"},\"baxis\":{\"endlinecolor\":\"#2a3f5f\",\"gridcolor\":\"white\",\"linecolor\":\"white\",\"minorgridcolor\":\"white\",\"startlinecolor\":\"#2a3f5f\"},\"type\":\"carpet\"}],\"choropleth\":[{\"colorbar\":{\"outlinewidth\":0,\"ticks\":\"\"},\"type\":\"choropleth\"}],\"contour\":[{\"colorbar\":{\"outlinewidth\":0,\"ticks\":\"\"},\"colorscale\":[[0.0,\"#0d0887\"],[0.1111111111111111,\"#46039f\"],[0.2222222222222222,\"#7201a8\"],[0.3333333333333333,\"#9c179e\"],[0.4444444444444444,\"#bd3786\"],[0.5555555555555556,\"#d8576b\"],[0.6666666666666666,\"#ed7953\"],[0.7777777777777778,\"#fb9f3a\"],[0.8888888888888888,\"#fdca26\"],[1.0,\"#f0f921\"]],\"type\":\"contour\"}],\"contourcarpet\":[{\"colorbar\":{\"outlinewidth\":0,\"ticks\":\"\"},\"type\":\"contourcarpet\"}],\"heatmap\":[{\"colorbar\":{\"outlinewidth\":0,\"ticks\":\"\"},\"colorscale\":[[0.0,\"#0d0887\"],[0.1111111111111111,\"#46039f\"],[0.2222222222222222,\"#7201a8\"],[0.3333333333333333,\"#9c179e\"],[0.4444444444444444,\"#bd3786\"],[0.5555555555555556,\"#d8576b\"],[0.6666666666666666,\"#ed7953\"],[0.7777777777777778,\"#fb9f3a\"],[0.8888888888888888,\"#fdca26\"],[1.0,\"#f0f921\"]],\"type\":\"heatmap\"}],\"heatmapgl\":[{\"colorbar\":{\"outlinewidth\":0,\"ticks\":\"\"},\"colorscale\":[[0.0,\"#0d0887\"],[0.1111111111111111,\"#46039f\"],[0.2222222222222222,\"#7201a8\"],[0.3333333333333333,\"#9c179e\"],[0.4444444444444444,\"#bd3786\"],[0.5555555555555556,\"#d8576b\"],[0.6666666666666666,\"#ed7953\"],[0.7777777777777778,\"#fb9f3a\"],[0.8888888888888888,\"#fdca26\"],[1.0,\"#f0f921\"]],\"type\":\"heatmapgl\"}],\"histogram\":[{\"marker\":{\"pattern\":{\"fillmode\":\"overlay\",\"size\":10,\"solidity\":0.2}},\"type\":\"histogram\"}],\"histogram2d\":[{\"colorbar\":{\"outlinewidth\":0,\"ticks\":\"\"},\"colorscale\":[[0.0,\"#0d0887\"],[0.1111111111111111,\"#46039f\"],[0.2222222222222222,\"#7201a8\"],[0.3333333333333333,\"#9c179e\"],[0.4444444444444444,\"#bd3786\"],[0.5555555555555556,\"#d8576b\"],[0.6666666666666666,\"#ed7953\"],[0.7777777777777778,\"#fb9f3a\"],[0.8888888888888888,\"#fdca26\"],[1.0,\"#f0f921\"]],\"type\":\"histogram2d\"}],\"histogram2dcontour\":[{\"colorbar\":{\"outlinewidth\":0,\"ticks\":\"\"},\"colorscale\":[[0.0,\"#0d0887\"],[0.1111111111111111,\"#46039f\"],[0.2222222222222222,\"#7201a8\"],[0.3333333333333333,\"#9c179e\"],[0.4444444444444444,\"#bd3786\"],[0.5555555555555556,\"#d8576b\"],[0.6666666666666666,\"#ed7953\"],[0.7777777777777778,\"#fb9f3a\"],[0.8888888888888888,\"#fdca26\"],[1.0,\"#f0f921\"]],\"type\":\"histogram2dcontour\"}],\"mesh3d\":[{\"colorbar\":{\"outlinewidth\":0,\"ticks\":\"\"},\"type\":\"mesh3d\"}],\"parcoords\":[{\"line\":{\"colorbar\":{\"outlinewidth\":0,\"ticks\":\"\"}},\"type\":\"parcoords\"}],\"pie\":[{\"automargin\":true,\"type\":\"pie\"}],\"scatter\":[{\"marker\":{\"colorbar\":{\"outlinewidth\":0,\"ticks\":\"\"}},\"type\":\"scatter\"}],\"scatter3d\":[{\"line\":{\"colorbar\":{\"outlinewidth\":0,\"ticks\":\"\"}},\"marker\":{\"colorbar\":{\"outlinewidth\":0,\"ticks\":\"\"}},\"type\":\"scatter3d\"}],\"scattercarpet\":[{\"marker\":{\"colorbar\":{\"outlinewidth\":0,\"ticks\":\"\"}},\"type\":\"scattercarpet\"}],\"scattergeo\":[{\"marker\":{\"colorbar\":{\"outlinewidth\":0,\"ticks\":\"\"}},\"type\":\"scattergeo\"}],\"scattergl\":[{\"marker\":{\"colorbar\":{\"outlinewidth\":0,\"ticks\":\"\"}},\"type\":\"scattergl\"}],\"scattermapbox\":[{\"marker\":{\"colorbar\":{\"outlinewidth\":0,\"ticks\":\"\"}},\"type\":\"scattermapbox\"}],\"scatterpolar\":[{\"marker\":{\"colorbar\":{\"outlinewidth\":0,\"ticks\":\"\"}},\"type\":\"scatterpolar\"}],\"scatterpolargl\":[{\"marker\":{\"colorbar\":{\"outlinewidth\":0,\"ticks\":\"\"}},\"type\":\"scatterpolargl\"}],\"scatterternary\":[{\"marker\":{\"colorbar\":{\"outlinewidth\":0,\"ticks\":\"\"}},\"type\":\"scatterternary\"}],\"surface\":[{\"colorbar\":{\"outlinewidth\":0,\"ticks\":\"\"},\"colorscale\":[[0.0,\"#0d0887\"],[0.1111111111111111,\"#46039f\"],[0.2222222222222222,\"#7201a8\"],[0.3333333333333333,\"#9c179e\"],[0.4444444444444444,\"#bd3786\"],[0.5555555555555556,\"#d8576b\"],[0.6666666666666666,\"#ed7953\"],[0.7777777777777778,\"#fb9f3a\"],[0.8888888888888888,\"#fdca26\"],[1.0,\"#f0f921\"]],\"type\":\"surface\"}],\"table\":[{\"cells\":{\"fill\":{\"color\":\"#EBF0F8\"},\"line\":{\"color\":\"white\"}},\"header\":{\"fill\":{\"color\":\"#C8D4E3\"},\"line\":{\"color\":\"white\"}},\"type\":\"table\"}]},\"layout\":{\"annotationdefaults\":{\"arrowcolor\":\"#2a3f5f\",\"arrowhead\":0,\"arrowwidth\":1},\"autotypenumbers\":\"strict\",\"coloraxis\":{\"colorbar\":{\"outlinewidth\":0,\"ticks\":\"\"}},\"colorscale\":{\"diverging\":[[0,\"#8e0152\"],[0.1,\"#c51b7d\"],[0.2,\"#de77ae\"],[0.3,\"#f1b6da\"],[0.4,\"#fde0ef\"],[0.5,\"#f7f7f7\"],[0.6,\"#e6f5d0\"],[0.7,\"#b8e186\"],[0.8,\"#7fbc41\"],[0.9,\"#4d9221\"],[1,\"#276419\"]],\"sequential\":[[0.0,\"#0d0887\"],[0.1111111111111111,\"#46039f\"],[0.2222222222222222,\"#7201a8\"],[0.3333333333333333,\"#9c179e\"],[0.4444444444444444,\"#bd3786\"],[0.5555555555555556,\"#d8576b\"],[0.6666666666666666,\"#ed7953\"],[0.7777777777777778,\"#fb9f3a\"],[0.8888888888888888,\"#fdca26\"],[1.0,\"#f0f921\"]],\"sequentialminus\":[[0.0,\"#0d0887\"],[0.1111111111111111,\"#46039f\"],[0.2222222222222222,\"#7201a8\"],[0.3333333333333333,\"#9c179e\"],[0.4444444444444444,\"#bd3786\"],[0.5555555555555556,\"#d8576b\"],[0.6666666666666666,\"#ed7953\"],[0.7777777777777778,\"#fb9f3a\"],[0.8888888888888888,\"#fdca26\"],[1.0,\"#f0f921\"]]},\"colorway\":[\"#636efa\",\"#EF553B\",\"#00cc96\",\"#ab63fa\",\"#FFA15A\",\"#19d3f3\",\"#FF6692\",\"#B6E880\",\"#FF97FF\",\"#FECB52\"],\"font\":{\"color\":\"#2a3f5f\"},\"geo\":{\"bgcolor\":\"white\",\"lakecolor\":\"white\",\"landcolor\":\"#E5ECF6\",\"showlakes\":true,\"showland\":true,\"subunitcolor\":\"white\"},\"hoverlabel\":{\"align\":\"left\"},\"hovermode\":\"closest\",\"mapbox\":{\"style\":\"light\"},\"paper_bgcolor\":\"white\",\"plot_bgcolor\":\"#E5ECF6\",\"polar\":{\"angularaxis\":{\"gridcolor\":\"white\",\"linecolor\":\"white\",\"ticks\":\"\"},\"bgcolor\":\"#E5ECF6\",\"radialaxis\":{\"gridcolor\":\"white\",\"linecolor\":\"white\",\"ticks\":\"\"}},\"scene\":{\"xaxis\":{\"backgroundcolor\":\"#E5ECF6\",\"gridcolor\":\"white\",\"gridwidth\":2,\"linecolor\":\"white\",\"showbackground\":true,\"ticks\":\"\",\"zerolinecolor\":\"white\"},\"yaxis\":{\"backgroundcolor\":\"#E5ECF6\",\"gridcolor\":\"white\",\"gridwidth\":2,\"linecolor\":\"white\",\"showbackground\":true,\"ticks\":\"\",\"zerolinecolor\":\"white\"},\"zaxis\":{\"backgroundcolor\":\"#E5ECF6\",\"gridcolor\":\"white\",\"gridwidth\":2,\"linecolor\":\"white\",\"showbackground\":true,\"ticks\":\"\",\"zerolinecolor\":\"white\"}},\"shapedefaults\":{\"line\":{\"color\":\"#2a3f5f\"}},\"ternary\":{\"aaxis\":{\"gridcolor\":\"white\",\"linecolor\":\"white\",\"ticks\":\"\"},\"baxis\":{\"gridcolor\":\"white\",\"linecolor\":\"white\",\"ticks\":\"\"},\"bgcolor\":\"#E5ECF6\",\"caxis\":{\"gridcolor\":\"white\",\"linecolor\":\"white\",\"ticks\":\"\"}},\"title\":{\"x\":0.05},\"xaxis\":{\"automargin\":true,\"gridcolor\":\"white\",\"linecolor\":\"white\",\"ticks\":\"\",\"title\":{\"standoff\":15},\"zerolinecolor\":\"white\",\"zerolinewidth\":2},\"yaxis\":{\"automargin\":true,\"gridcolor\":\"white\",\"linecolor\":\"white\",\"ticks\":\"\",\"title\":{\"standoff\":15},\"zerolinecolor\":\"white\",\"zerolinewidth\":2}}},\"title\":{\"text\":\"SENTINEL_3B_SLSTR_EUMETSAT|NOAA 20_VIIRS_NASA2.0NRT\"},\"xaxis\":{\"anchor\":\"y\",\"domain\":[0.0,1.0],\"title\":{\"text\":\"date\"}},\"yaxis\":{\"anchor\":\"x\",\"domain\":[0.0,1.0],\"title\":{\"text\":\"hotspots\"}}},                        {\"responsive\": true}                    ).then(function(){\n",
       "                            \n",
       "var gd = document.getElementById('847d15c3-141a-43a6-8cf4-6ae1ff8ab317');\n",
       "var x = new MutationObserver(function (mutations, observer) {{\n",
       "        var display = window.getComputedStyle(gd).display;\n",
       "        if (!display || display === 'none') {{\n",
       "            console.log([gd, 'removed!']);\n",
       "            Plotly.purge(gd);\n",
       "            observer.disconnect();\n",
       "        }}\n",
       "}});\n",
       "\n",
       "// Listen for the removal of the full notebook cells\n",
       "var notebookContainer = gd.closest('#notebook-container');\n",
       "if (notebookContainer) {{\n",
       "    x.observe(notebookContainer, {childList: true});\n",
       "}}\n",
       "\n",
       "// Listen for the clearing of the current output cell\n",
       "var outputEl = gd.closest('.output');\n",
       "if (outputEl) {{\n",
       "    x.observe(outputEl, {childList: true});\n",
       "}}\n",
       "\n",
       "                        })                };                });            </script>        </div>"
      ]
     },
     "metadata": {},
     "output_type": "display_data"
    }
   ],
   "source": [
    "# Cut and paste pair from above to visualise daily pair counts (from coincident observation area)\n",
    "# Theory is that within in some range, the number of hotspots should be roughly proportional, day to day.\n",
    "pair = 'SENTINEL_3B_SLSTR_EUMETSAT|NOAA 20_VIIRS_NASA2.0NRT'\n",
    "\n",
    "example = satellite_sensor_product_daily_pd[satellite_sensor_product_daily_pd['pair'] == pair]\n",
    "ax = example.plot.scatter(x=example.index, y=['master_count', 'slave_count'], title=pair)\n",
    "ax.layout.xaxis = {    'anchor': 'y', 'domain': [0.0, 1.0], 'title': {'text': 'date'}}\n",
    "ax.layout.yaxis = {    'anchor': 'x', 'domain': [0.0, 1.0], 'title': {'text': 'hotspots'}}\n",
    "#ax.layout.legend = {    'title': {'satellite_sensor_product': 'variable'}, 'tracegroupgap': 0}\n",
    "ax"
   ]
  },
  {
   "cell_type": "code",
   "execution_count": 347,
   "metadata": {},
   "outputs": [
    {
     "data": {
      "application/vnd.plotly.v1+json": {
       "config": {
        "plotlyServerURL": "https://plot.ly"
       },
       "data": [
        {
         "hovertemplate": "variable=slave_count<br>master_count=%{x}<br>value=%{y}<extra></extra>",
         "legendgroup": "slave_count",
         "marker": {
          "color": "#636efa",
          "symbol": "circle"
         },
         "mode": "markers",
         "name": "slave_count",
         "orientation": "v",
         "showlegend": true,
         "type": "scatter",
         "x": [
          5,
          3201,
          0,
          0,
          0,
          1307,
          1,
          0,
          117,
          46,
          0,
          0,
          1395,
          104,
          0,
          0,
          2426,
          192,
          0,
          0,
          291,
          0,
          0,
          0,
          1637,
          0,
          0,
          0,
          765,
          95,
          0,
          0,
          225,
          0,
          0,
          426,
          13,
          0,
          0,
          2276,
          12,
          0,
          0,
          0,
          0,
          0,
          0,
          0,
          0,
          0,
          0,
          0,
          0,
          0,
          0,
          0,
          0,
          0,
          0,
          0,
          0,
          0,
          0,
          0,
          0,
          0,
          0,
          0,
          0,
          0,
          0,
          0,
          0,
          0,
          0,
          0,
          0,
          0,
          0,
          0,
          0,
          0,
          0,
          0,
          0,
          0,
          0,
          0,
          0,
          0,
          0,
          0,
          0,
          0,
          0,
          0,
          0,
          0,
          0,
          0,
          0,
          0,
          0,
          0,
          0,
          0,
          0,
          0,
          0,
          0,
          0,
          0,
          0,
          0,
          0,
          0,
          0,
          0,
          0,
          0,
          0,
          0,
          0,
          0,
          0,
          0,
          0,
          0,
          0,
          0,
          0,
          0,
          0,
          0,
          0,
          0,
          0,
          0,
          0,
          0,
          0,
          0,
          0,
          0,
          0,
          0,
          0,
          0,
          0,
          0,
          0,
          0,
          0,
          0,
          0,
          0,
          0,
          0,
          0,
          0,
          0,
          0,
          0,
          0,
          0,
          0,
          0,
          0,
          0,
          0,
          0,
          0,
          0,
          0,
          0,
          0,
          0,
          0,
          0,
          0,
          0,
          0,
          0,
          0,
          0,
          0,
          0,
          0,
          0,
          0,
          0,
          0,
          0,
          0,
          0,
          0,
          0,
          0,
          0,
          0,
          0,
          0,
          0,
          0,
          0,
          0,
          0,
          0,
          0,
          0,
          0,
          0,
          0,
          0,
          0,
          0,
          0,
          0,
          0,
          0,
          0,
          0,
          0,
          0,
          0,
          0,
          0,
          0,
          0,
          0,
          0,
          0,
          0,
          0,
          0,
          0,
          0,
          0,
          0,
          0,
          0,
          0,
          0,
          0,
          0,
          0,
          0,
          0,
          0,
          0,
          0,
          0,
          0,
          0,
          0,
          0,
          0,
          0,
          0,
          60,
          0,
          0,
          0,
          48,
          0,
          0,
          0,
          0,
          0,
          0,
          0,
          87,
          0,
          0,
          0,
          0,
          0,
          0,
          0,
          0,
          0,
          0,
          48,
          0,
          0,
          0,
          63,
          0,
          0,
          0,
          0,
          0,
          0,
          0,
          0,
          0,
          0,
          0,
          69
         ],
         "xaxis": "x",
         "y": [
          9,
          6703,
          0,
          0,
          0,
          3046,
          25,
          0,
          378,
          345,
          0,
          0,
          3615,
          202,
          0,
          0,
          8104,
          619,
          0,
          0,
          518,
          0,
          0,
          0,
          4701,
          0,
          0,
          0,
          2416,
          1968,
          0,
          0,
          482,
          0,
          0,
          866,
          89,
          0,
          0,
          3710,
          84,
          0,
          0,
          0,
          0,
          0,
          0,
          0,
          0,
          0,
          0,
          0,
          0,
          0,
          0,
          0,
          0,
          0,
          0,
          0,
          0,
          0,
          0,
          0,
          0,
          0,
          0,
          0,
          0,
          0,
          0,
          0,
          0,
          0,
          0,
          0,
          0,
          0,
          0,
          0,
          0,
          0,
          0,
          0,
          0,
          0,
          0,
          0,
          0,
          0,
          0,
          0,
          0,
          0,
          0,
          0,
          0,
          0,
          0,
          0,
          0,
          0,
          0,
          0,
          0,
          0,
          0,
          0,
          0,
          0,
          0,
          0,
          0,
          0,
          0,
          0,
          0,
          0,
          0,
          0,
          0,
          0,
          0,
          0,
          0,
          0,
          0,
          0,
          0,
          0,
          0,
          0,
          0,
          0,
          0,
          0,
          0,
          0,
          0,
          0,
          0,
          0,
          0,
          0,
          0,
          0,
          0,
          0,
          0,
          0,
          0,
          0,
          0,
          0,
          0,
          0,
          0,
          0,
          0,
          0,
          0,
          0,
          0,
          0,
          0,
          0,
          0,
          0,
          0,
          0,
          0,
          0,
          0,
          0,
          0,
          0,
          0,
          0,
          0,
          0,
          0,
          0,
          0,
          0,
          0,
          0,
          0,
          0,
          0,
          0,
          0,
          0,
          0,
          0,
          0,
          0,
          0,
          0,
          0,
          0,
          0,
          0,
          0,
          0,
          0,
          0,
          0,
          0,
          0,
          0,
          0,
          0,
          0,
          0,
          0,
          0,
          0,
          0,
          0,
          0,
          0,
          0,
          0,
          0,
          0,
          0,
          0,
          0,
          0,
          0,
          0,
          0,
          0,
          0,
          0,
          0,
          0,
          0,
          0,
          0,
          0,
          0,
          0,
          0,
          0,
          0,
          0,
          0,
          0,
          0,
          0,
          0,
          0,
          0,
          0,
          0,
          0,
          0,
          0,
          84,
          0,
          0,
          0,
          67,
          0,
          0,
          0,
          0,
          0,
          0,
          0,
          99,
          0,
          0,
          0,
          0,
          0,
          0,
          0,
          0,
          0,
          0,
          75,
          0,
          0,
          0,
          124,
          0,
          0,
          0,
          0,
          0,
          0,
          0,
          0,
          0,
          0,
          0,
          63
         ],
         "yaxis": "y"
        }
       ],
       "layout": {
        "autosize": true,
        "legend": {
         "title": {
          "text": "variable"
         },
         "tracegroupgap": 0
        },
        "margin": {
         "t": 60
        },
        "template": {
         "data": {
          "bar": [
           {
            "error_x": {
             "color": "#2a3f5f"
            },
            "error_y": {
             "color": "#2a3f5f"
            },
            "marker": {
             "line": {
              "color": "#E5ECF6",
              "width": 0.5
             },
             "pattern": {
              "fillmode": "overlay",
              "size": 10,
              "solidity": 0.2
             }
            },
            "type": "bar"
           }
          ],
          "barpolar": [
           {
            "marker": {
             "line": {
              "color": "#E5ECF6",
              "width": 0.5
             },
             "pattern": {
              "fillmode": "overlay",
              "size": 10,
              "solidity": 0.2
             }
            },
            "type": "barpolar"
           }
          ],
          "carpet": [
           {
            "aaxis": {
             "endlinecolor": "#2a3f5f",
             "gridcolor": "white",
             "linecolor": "white",
             "minorgridcolor": "white",
             "startlinecolor": "#2a3f5f"
            },
            "baxis": {
             "endlinecolor": "#2a3f5f",
             "gridcolor": "white",
             "linecolor": "white",
             "minorgridcolor": "white",
             "startlinecolor": "#2a3f5f"
            },
            "type": "carpet"
           }
          ],
          "choropleth": [
           {
            "colorbar": {
             "outlinewidth": 0,
             "ticks": ""
            },
            "type": "choropleth"
           }
          ],
          "contour": [
           {
            "colorbar": {
             "outlinewidth": 0,
             "ticks": ""
            },
            "colorscale": [
             [
              0,
              "#0d0887"
             ],
             [
              0.1111111111111111,
              "#46039f"
             ],
             [
              0.2222222222222222,
              "#7201a8"
             ],
             [
              0.3333333333333333,
              "#9c179e"
             ],
             [
              0.4444444444444444,
              "#bd3786"
             ],
             [
              0.5555555555555556,
              "#d8576b"
             ],
             [
              0.6666666666666666,
              "#ed7953"
             ],
             [
              0.7777777777777778,
              "#fb9f3a"
             ],
             [
              0.8888888888888888,
              "#fdca26"
             ],
             [
              1,
              "#f0f921"
             ]
            ],
            "type": "contour"
           }
          ],
          "contourcarpet": [
           {
            "colorbar": {
             "outlinewidth": 0,
             "ticks": ""
            },
            "type": "contourcarpet"
           }
          ],
          "heatmap": [
           {
            "colorbar": {
             "outlinewidth": 0,
             "ticks": ""
            },
            "colorscale": [
             [
              0,
              "#0d0887"
             ],
             [
              0.1111111111111111,
              "#46039f"
             ],
             [
              0.2222222222222222,
              "#7201a8"
             ],
             [
              0.3333333333333333,
              "#9c179e"
             ],
             [
              0.4444444444444444,
              "#bd3786"
             ],
             [
              0.5555555555555556,
              "#d8576b"
             ],
             [
              0.6666666666666666,
              "#ed7953"
             ],
             [
              0.7777777777777778,
              "#fb9f3a"
             ],
             [
              0.8888888888888888,
              "#fdca26"
             ],
             [
              1,
              "#f0f921"
             ]
            ],
            "type": "heatmap"
           }
          ],
          "heatmapgl": [
           {
            "colorbar": {
             "outlinewidth": 0,
             "ticks": ""
            },
            "colorscale": [
             [
              0,
              "#0d0887"
             ],
             [
              0.1111111111111111,
              "#46039f"
             ],
             [
              0.2222222222222222,
              "#7201a8"
             ],
             [
              0.3333333333333333,
              "#9c179e"
             ],
             [
              0.4444444444444444,
              "#bd3786"
             ],
             [
              0.5555555555555556,
              "#d8576b"
             ],
             [
              0.6666666666666666,
              "#ed7953"
             ],
             [
              0.7777777777777778,
              "#fb9f3a"
             ],
             [
              0.8888888888888888,
              "#fdca26"
             ],
             [
              1,
              "#f0f921"
             ]
            ],
            "type": "heatmapgl"
           }
          ],
          "histogram": [
           {
            "marker": {
             "pattern": {
              "fillmode": "overlay",
              "size": 10,
              "solidity": 0.2
             }
            },
            "type": "histogram"
           }
          ],
          "histogram2d": [
           {
            "colorbar": {
             "outlinewidth": 0,
             "ticks": ""
            },
            "colorscale": [
             [
              0,
              "#0d0887"
             ],
             [
              0.1111111111111111,
              "#46039f"
             ],
             [
              0.2222222222222222,
              "#7201a8"
             ],
             [
              0.3333333333333333,
              "#9c179e"
             ],
             [
              0.4444444444444444,
              "#bd3786"
             ],
             [
              0.5555555555555556,
              "#d8576b"
             ],
             [
              0.6666666666666666,
              "#ed7953"
             ],
             [
              0.7777777777777778,
              "#fb9f3a"
             ],
             [
              0.8888888888888888,
              "#fdca26"
             ],
             [
              1,
              "#f0f921"
             ]
            ],
            "type": "histogram2d"
           }
          ],
          "histogram2dcontour": [
           {
            "colorbar": {
             "outlinewidth": 0,
             "ticks": ""
            },
            "colorscale": [
             [
              0,
              "#0d0887"
             ],
             [
              0.1111111111111111,
              "#46039f"
             ],
             [
              0.2222222222222222,
              "#7201a8"
             ],
             [
              0.3333333333333333,
              "#9c179e"
             ],
             [
              0.4444444444444444,
              "#bd3786"
             ],
             [
              0.5555555555555556,
              "#d8576b"
             ],
             [
              0.6666666666666666,
              "#ed7953"
             ],
             [
              0.7777777777777778,
              "#fb9f3a"
             ],
             [
              0.8888888888888888,
              "#fdca26"
             ],
             [
              1,
              "#f0f921"
             ]
            ],
            "type": "histogram2dcontour"
           }
          ],
          "mesh3d": [
           {
            "colorbar": {
             "outlinewidth": 0,
             "ticks": ""
            },
            "type": "mesh3d"
           }
          ],
          "parcoords": [
           {
            "line": {
             "colorbar": {
              "outlinewidth": 0,
              "ticks": ""
             }
            },
            "type": "parcoords"
           }
          ],
          "pie": [
           {
            "automargin": true,
            "type": "pie"
           }
          ],
          "scatter": [
           {
            "marker": {
             "colorbar": {
              "outlinewidth": 0,
              "ticks": ""
             }
            },
            "type": "scatter"
           }
          ],
          "scatter3d": [
           {
            "line": {
             "colorbar": {
              "outlinewidth": 0,
              "ticks": ""
             }
            },
            "marker": {
             "colorbar": {
              "outlinewidth": 0,
              "ticks": ""
             }
            },
            "type": "scatter3d"
           }
          ],
          "scattercarpet": [
           {
            "marker": {
             "colorbar": {
              "outlinewidth": 0,
              "ticks": ""
             }
            },
            "type": "scattercarpet"
           }
          ],
          "scattergeo": [
           {
            "marker": {
             "colorbar": {
              "outlinewidth": 0,
              "ticks": ""
             }
            },
            "type": "scattergeo"
           }
          ],
          "scattergl": [
           {
            "marker": {
             "colorbar": {
              "outlinewidth": 0,
              "ticks": ""
             }
            },
            "type": "scattergl"
           }
          ],
          "scattermapbox": [
           {
            "marker": {
             "colorbar": {
              "outlinewidth": 0,
              "ticks": ""
             }
            },
            "type": "scattermapbox"
           }
          ],
          "scatterpolar": [
           {
            "marker": {
             "colorbar": {
              "outlinewidth": 0,
              "ticks": ""
             }
            },
            "type": "scatterpolar"
           }
          ],
          "scatterpolargl": [
           {
            "marker": {
             "colorbar": {
              "outlinewidth": 0,
              "ticks": ""
             }
            },
            "type": "scatterpolargl"
           }
          ],
          "scatterternary": [
           {
            "marker": {
             "colorbar": {
              "outlinewidth": 0,
              "ticks": ""
             }
            },
            "type": "scatterternary"
           }
          ],
          "surface": [
           {
            "colorbar": {
             "outlinewidth": 0,
             "ticks": ""
            },
            "colorscale": [
             [
              0,
              "#0d0887"
             ],
             [
              0.1111111111111111,
              "#46039f"
             ],
             [
              0.2222222222222222,
              "#7201a8"
             ],
             [
              0.3333333333333333,
              "#9c179e"
             ],
             [
              0.4444444444444444,
              "#bd3786"
             ],
             [
              0.5555555555555556,
              "#d8576b"
             ],
             [
              0.6666666666666666,
              "#ed7953"
             ],
             [
              0.7777777777777778,
              "#fb9f3a"
             ],
             [
              0.8888888888888888,
              "#fdca26"
             ],
             [
              1,
              "#f0f921"
             ]
            ],
            "type": "surface"
           }
          ],
          "table": [
           {
            "cells": {
             "fill": {
              "color": "#EBF0F8"
             },
             "line": {
              "color": "white"
             }
            },
            "header": {
             "fill": {
              "color": "#C8D4E3"
             },
             "line": {
              "color": "white"
             }
            },
            "type": "table"
           }
          ]
         },
         "layout": {
          "annotationdefaults": {
           "arrowcolor": "#2a3f5f",
           "arrowhead": 0,
           "arrowwidth": 1
          },
          "autotypenumbers": "strict",
          "coloraxis": {
           "colorbar": {
            "outlinewidth": 0,
            "ticks": ""
           }
          },
          "colorscale": {
           "diverging": [
            [
             0,
             "#8e0152"
            ],
            [
             0.1,
             "#c51b7d"
            ],
            [
             0.2,
             "#de77ae"
            ],
            [
             0.3,
             "#f1b6da"
            ],
            [
             0.4,
             "#fde0ef"
            ],
            [
             0.5,
             "#f7f7f7"
            ],
            [
             0.6,
             "#e6f5d0"
            ],
            [
             0.7,
             "#b8e186"
            ],
            [
             0.8,
             "#7fbc41"
            ],
            [
             0.9,
             "#4d9221"
            ],
            [
             1,
             "#276419"
            ]
           ],
           "sequential": [
            [
             0,
             "#0d0887"
            ],
            [
             0.1111111111111111,
             "#46039f"
            ],
            [
             0.2222222222222222,
             "#7201a8"
            ],
            [
             0.3333333333333333,
             "#9c179e"
            ],
            [
             0.4444444444444444,
             "#bd3786"
            ],
            [
             0.5555555555555556,
             "#d8576b"
            ],
            [
             0.6666666666666666,
             "#ed7953"
            ],
            [
             0.7777777777777778,
             "#fb9f3a"
            ],
            [
             0.8888888888888888,
             "#fdca26"
            ],
            [
             1,
             "#f0f921"
            ]
           ],
           "sequentialminus": [
            [
             0,
             "#0d0887"
            ],
            [
             0.1111111111111111,
             "#46039f"
            ],
            [
             0.2222222222222222,
             "#7201a8"
            ],
            [
             0.3333333333333333,
             "#9c179e"
            ],
            [
             0.4444444444444444,
             "#bd3786"
            ],
            [
             0.5555555555555556,
             "#d8576b"
            ],
            [
             0.6666666666666666,
             "#ed7953"
            ],
            [
             0.7777777777777778,
             "#fb9f3a"
            ],
            [
             0.8888888888888888,
             "#fdca26"
            ],
            [
             1,
             "#f0f921"
            ]
           ]
          },
          "colorway": [
           "#636efa",
           "#EF553B",
           "#00cc96",
           "#ab63fa",
           "#FFA15A",
           "#19d3f3",
           "#FF6692",
           "#B6E880",
           "#FF97FF",
           "#FECB52"
          ],
          "font": {
           "color": "#2a3f5f"
          },
          "geo": {
           "bgcolor": "white",
           "lakecolor": "white",
           "landcolor": "#E5ECF6",
           "showlakes": true,
           "showland": true,
           "subunitcolor": "white"
          },
          "hoverlabel": {
           "align": "left"
          },
          "hovermode": "closest",
          "mapbox": {
           "style": "light"
          },
          "paper_bgcolor": "white",
          "plot_bgcolor": "#E5ECF6",
          "polar": {
           "angularaxis": {
            "gridcolor": "white",
            "linecolor": "white",
            "ticks": ""
           },
           "bgcolor": "#E5ECF6",
           "radialaxis": {
            "gridcolor": "white",
            "linecolor": "white",
            "ticks": ""
           }
          },
          "scene": {
           "xaxis": {
            "backgroundcolor": "#E5ECF6",
            "gridcolor": "white",
            "gridwidth": 2,
            "linecolor": "white",
            "showbackground": true,
            "ticks": "",
            "zerolinecolor": "white"
           },
           "yaxis": {
            "backgroundcolor": "#E5ECF6",
            "gridcolor": "white",
            "gridwidth": 2,
            "linecolor": "white",
            "showbackground": true,
            "ticks": "",
            "zerolinecolor": "white"
           },
           "zaxis": {
            "backgroundcolor": "#E5ECF6",
            "gridcolor": "white",
            "gridwidth": 2,
            "linecolor": "white",
            "showbackground": true,
            "ticks": "",
            "zerolinecolor": "white"
           }
          },
          "shapedefaults": {
           "line": {
            "color": "#2a3f5f"
           }
          },
          "ternary": {
           "aaxis": {
            "gridcolor": "white",
            "linecolor": "white",
            "ticks": ""
           },
           "baxis": {
            "gridcolor": "white",
            "linecolor": "white",
            "ticks": ""
           },
           "bgcolor": "#E5ECF6",
           "caxis": {
            "gridcolor": "white",
            "linecolor": "white",
            "ticks": ""
           }
          },
          "title": {
           "x": 0.05
          },
          "xaxis": {
           "automargin": true,
           "gridcolor": "white",
           "linecolor": "white",
           "ticks": "",
           "title": {
            "standoff": 15
           },
           "zerolinecolor": "white",
           "zerolinewidth": 2
          },
          "yaxis": {
           "automargin": true,
           "gridcolor": "white",
           "linecolor": "white",
           "ticks": "",
           "title": {
            "standoff": 15
           },
           "zerolinecolor": "white",
           "zerolinewidth": 2
          }
         }
        },
        "xaxis": {
         "anchor": "y",
         "autorange": true,
         "domain": [
          0,
          1
         ],
         "range": [
          -202.50499445061047,
          3403.5049944506104
         ],
         "title": {
          "text": "SENTINEL_3B_SLSTR_EUMETSAT"
         },
         "type": "linear"
        },
        "yaxis": {
         "anchor": "x",
         "autorange": true,
         "domain": [
          0,
          1
         ],
         "range": [
          -627.4750656167979,
          8731.475065616798
         ],
         "title": {
          "text": "NOAA 20_VIIRS_NASA2.0NRT"
         },
         "type": "linear"
        }
       }
      },
      "image/png": "[encoded data removed]",
      "text/html": [
       "<div>                            <div id=\"5641c930-4d7e-471e-b1c0-79cf6add68a9\" class=\"plotly-graph-div\" style=\"height:525px; width:100%;\"></div>            <script type=\"text/javascript\">                require([\"plotly\"], function(Plotly) {                    window.PLOTLYENV=window.PLOTLYENV || {};                                    if (document.getElementById(\"5641c930-4d7e-471e-b1c0-79cf6add68a9\")) {                    Plotly.newPlot(                        \"5641c930-4d7e-471e-b1c0-79cf6add68a9\",                        [{\"hovertemplate\":\"variable=slave_count<br>master_count=%{x}<br>value=%{y}<extra></extra>\",\"legendgroup\":\"slave_count\",\"marker\":{\"color\":\"#636efa\",\"symbol\":\"circle\"},\"mode\":\"markers\",\"name\":\"slave_count\",\"orientation\":\"v\",\"showlegend\":true,\"type\":\"scatter\",\"x\":[5,3201,0,0,0,1307,1,0,117,46,0,0,1395,104,0,0,2426,192,0,0,291,0,0,0,1637,0,0,0,765,95,0,0,225,0,0,426,13,0,0,2276,12,0,0,0,0,0,0,0,0,0,0,0,0,0,0,0,0,0,0,0,0,0,0,0,0,0,0,0,0,0,0,0,0,0,0,0,0,0,0,0,0,0,0,0,0,0,0,0,0,0,0,0,0,0,0,0,0,0,0,0,0,0,0,0,0,0,0,0,0,0,0,0,0,0,0,0,0,0,0,0,0,0,0,0,0,0,0,0,0,0,0,0,0,0,0,0,0,0,0,0,0,0,0,0,0,0,0,0,0,0,0,0,0,0,0,0,0,0,0,0,0,0,0,0,0,0,0,0,0,0,0,0,0,0,0,0,0,0,0,0,0,0,0,0,0,0,0,0,0,0,0,0,0,0,0,0,0,0,0,0,0,0,0,0,0,0,0,0,0,0,0,0,0,0,0,0,0,0,0,0,0,0,0,0,0,0,0,0,0,0,0,0,0,0,0,0,0,0,0,0,0,0,0,0,0,0,0,0,0,0,0,0,0,0,0,0,0,0,0,60,0,0,0,48,0,0,0,0,0,0,0,87,0,0,0,0,0,0,0,0,0,0,48,0,0,0,63,0,0,0,0,0,0,0,0,0,0,0,69],\"xaxis\":\"x\",\"y\":[9,6703,0,0,0,3046,25,0,378,345,0,0,3615,202,0,0,8104,619,0,0,518,0,0,0,4701,0,0,0,2416,1968,0,0,482,0,0,866,89,0,0,3710,84,0,0,0,0,0,0,0,0,0,0,0,0,0,0,0,0,0,0,0,0,0,0,0,0,0,0,0,0,0,0,0,0,0,0,0,0,0,0,0,0,0,0,0,0,0,0,0,0,0,0,0,0,0,0,0,0,0,0,0,0,0,0,0,0,0,0,0,0,0,0,0,0,0,0,0,0,0,0,0,0,0,0,0,0,0,0,0,0,0,0,0,0,0,0,0,0,0,0,0,0,0,0,0,0,0,0,0,0,0,0,0,0,0,0,0,0,0,0,0,0,0,0,0,0,0,0,0,0,0,0,0,0,0,0,0,0,0,0,0,0,0,0,0,0,0,0,0,0,0,0,0,0,0,0,0,0,0,0,0,0,0,0,0,0,0,0,0,0,0,0,0,0,0,0,0,0,0,0,0,0,0,0,0,0,0,0,0,0,0,0,0,0,0,0,0,0,0,0,0,0,0,0,0,0,0,0,0,0,0,0,0,0,0,0,0,0,0,0,84,0,0,0,67,0,0,0,0,0,0,0,99,0,0,0,0,0,0,0,0,0,0,75,0,0,0,124,0,0,0,0,0,0,0,0,0,0,0,63],\"yaxis\":\"y\"}],                        {\"legend\":{\"title\":{\"text\":\"variable\"},\"tracegroupgap\":0},\"margin\":{\"t\":60},\"template\":{\"data\":{\"bar\":[{\"error_x\":{\"color\":\"#2a3f5f\"},\"error_y\":{\"color\":\"#2a3f5f\"},\"marker\":{\"line\":{\"color\":\"#E5ECF6\",\"width\":0.5},\"pattern\":{\"fillmode\":\"overlay\",\"size\":10,\"solidity\":0.2}},\"type\":\"bar\"}],\"barpolar\":[{\"marker\":{\"line\":{\"color\":\"#E5ECF6\",\"width\":0.5},\"pattern\":{\"fillmode\":\"overlay\",\"size\":10,\"solidity\":0.2}},\"type\":\"barpolar\"}],\"carpet\":[{\"aaxis\":{\"endlinecolor\":\"#2a3f5f\",\"gridcolor\":\"white\",\"linecolor\":\"white\",\"minorgridcolor\":\"white\",\"startlinecolor\":\"#2a3f5f\"},\"baxis\":{\"endlinecolor\":\"#2a3f5f\",\"gridcolor\":\"white\",\"linecolor\":\"white\",\"minorgridcolor\":\"white\",\"startlinecolor\":\"#2a3f5f\"},\"type\":\"carpet\"}],\"choropleth\":[{\"colorbar\":{\"outlinewidth\":0,\"ticks\":\"\"},\"type\":\"choropleth\"}],\"contour\":[{\"colorbar\":{\"outlinewidth\":0,\"ticks\":\"\"},\"colorscale\":[[0.0,\"#0d0887\"],[0.1111111111111111,\"#46039f\"],[0.2222222222222222,\"#7201a8\"],[0.3333333333333333,\"#9c179e\"],[0.4444444444444444,\"#bd3786\"],[0.5555555555555556,\"#d8576b\"],[0.6666666666666666,\"#ed7953\"],[0.7777777777777778,\"#fb9f3a\"],[0.8888888888888888,\"#fdca26\"],[1.0,\"#f0f921\"]],\"type\":\"contour\"}],\"contourcarpet\":[{\"colorbar\":{\"outlinewidth\":0,\"ticks\":\"\"},\"type\":\"contourcarpet\"}],\"heatmap\":[{\"colorbar\":{\"outlinewidth\":0,\"ticks\":\"\"},\"colorscale\":[[0.0,\"#0d0887\"],[0.1111111111111111,\"#46039f\"],[0.2222222222222222,\"#7201a8\"],[0.3333333333333333,\"#9c179e\"],[0.4444444444444444,\"#bd3786\"],[0.5555555555555556,\"#d8576b\"],[0.6666666666666666,\"#ed7953\"],[0.7777777777777778,\"#fb9f3a\"],[0.8888888888888888,\"#fdca26\"],[1.0,\"#f0f921\"]],\"type\":\"heatmap\"}],\"heatmapgl\":[{\"colorbar\":{\"outlinewidth\":0,\"ticks\":\"\"},\"colorscale\":[[0.0,\"#0d0887\"],[0.1111111111111111,\"#46039f\"],[0.2222222222222222,\"#7201a8\"],[0.3333333333333333,\"#9c179e\"],[0.4444444444444444,\"#bd3786\"],[0.5555555555555556,\"#d8576b\"],[0.6666666666666666,\"#ed7953\"],[0.7777777777777778,\"#fb9f3a\"],[0.8888888888888888,\"#fdca26\"],[1.0,\"#f0f921\"]],\"type\":\"heatmapgl\"}],\"histogram\":[{\"marker\":{\"pattern\":{\"fillmode\":\"overlay\",\"size\":10,\"solidity\":0.2}},\"type\":\"histogram\"}],\"histogram2d\":[{\"colorbar\":{\"outlinewidth\":0,\"ticks\":\"\"},\"colorscale\":[[0.0,\"#0d0887\"],[0.1111111111111111,\"#46039f\"],[0.2222222222222222,\"#7201a8\"],[0.3333333333333333,\"#9c179e\"],[0.4444444444444444,\"#bd3786\"],[0.5555555555555556,\"#d8576b\"],[0.6666666666666666,\"#ed7953\"],[0.7777777777777778,\"#fb9f3a\"],[0.8888888888888888,\"#fdca26\"],[1.0,\"#f0f921\"]],\"type\":\"histogram2d\"}],\"histogram2dcontour\":[{\"colorbar\":{\"outlinewidth\":0,\"ticks\":\"\"},\"colorscale\":[[0.0,\"#0d0887\"],[0.1111111111111111,\"#46039f\"],[0.2222222222222222,\"#7201a8\"],[0.3333333333333333,\"#9c179e\"],[0.4444444444444444,\"#bd3786\"],[0.5555555555555556,\"#d8576b\"],[0.6666666666666666,\"#ed7953\"],[0.7777777777777778,\"#fb9f3a\"],[0.8888888888888888,\"#fdca26\"],[1.0,\"#f0f921\"]],\"type\":\"histogram2dcontour\"}],\"mesh3d\":[{\"colorbar\":{\"outlinewidth\":0,\"ticks\":\"\"},\"type\":\"mesh3d\"}],\"parcoords\":[{\"line\":{\"colorbar\":{\"outlinewidth\":0,\"ticks\":\"\"}},\"type\":\"parcoords\"}],\"pie\":[{\"automargin\":true,\"type\":\"pie\"}],\"scatter\":[{\"marker\":{\"colorbar\":{\"outlinewidth\":0,\"ticks\":\"\"}},\"type\":\"scatter\"}],\"scatter3d\":[{\"line\":{\"colorbar\":{\"outlinewidth\":0,\"ticks\":\"\"}},\"marker\":{\"colorbar\":{\"outlinewidth\":0,\"ticks\":\"\"}},\"type\":\"scatter3d\"}],\"scattercarpet\":[{\"marker\":{\"colorbar\":{\"outlinewidth\":0,\"ticks\":\"\"}},\"type\":\"scattercarpet\"}],\"scattergeo\":[{\"marker\":{\"colorbar\":{\"outlinewidth\":0,\"ticks\":\"\"}},\"type\":\"scattergeo\"}],\"scattergl\":[{\"marker\":{\"colorbar\":{\"outlinewidth\":0,\"ticks\":\"\"}},\"type\":\"scattergl\"}],\"scattermapbox\":[{\"marker\":{\"colorbar\":{\"outlinewidth\":0,\"ticks\":\"\"}},\"type\":\"scattermapbox\"}],\"scatterpolar\":[{\"marker\":{\"colorbar\":{\"outlinewidth\":0,\"ticks\":\"\"}},\"type\":\"scatterpolar\"}],\"scatterpolargl\":[{\"marker\":{\"colorbar\":{\"outlinewidth\":0,\"ticks\":\"\"}},\"type\":\"scatterpolargl\"}],\"scatterternary\":[{\"marker\":{\"colorbar\":{\"outlinewidth\":0,\"ticks\":\"\"}},\"type\":\"scatterternary\"}],\"surface\":[{\"colorbar\":{\"outlinewidth\":0,\"ticks\":\"\"},\"colorscale\":[[0.0,\"#0d0887\"],[0.1111111111111111,\"#46039f\"],[0.2222222222222222,\"#7201a8\"],[0.3333333333333333,\"#9c179e\"],[0.4444444444444444,\"#bd3786\"],[0.5555555555555556,\"#d8576b\"],[0.6666666666666666,\"#ed7953\"],[0.7777777777777778,\"#fb9f3a\"],[0.8888888888888888,\"#fdca26\"],[1.0,\"#f0f921\"]],\"type\":\"surface\"}],\"table\":[{\"cells\":{\"fill\":{\"color\":\"#EBF0F8\"},\"line\":{\"color\":\"white\"}},\"header\":{\"fill\":{\"color\":\"#C8D4E3\"},\"line\":{\"color\":\"white\"}},\"type\":\"table\"}]},\"layout\":{\"annotationdefaults\":{\"arrowcolor\":\"#2a3f5f\",\"arrowhead\":0,\"arrowwidth\":1},\"autotypenumbers\":\"strict\",\"coloraxis\":{\"colorbar\":{\"outlinewidth\":0,\"ticks\":\"\"}},\"colorscale\":{\"diverging\":[[0,\"#8e0152\"],[0.1,\"#c51b7d\"],[0.2,\"#de77ae\"],[0.3,\"#f1b6da\"],[0.4,\"#fde0ef\"],[0.5,\"#f7f7f7\"],[0.6,\"#e6f5d0\"],[0.7,\"#b8e186\"],[0.8,\"#7fbc41\"],[0.9,\"#4d9221\"],[1,\"#276419\"]],\"sequential\":[[0.0,\"#0d0887\"],[0.1111111111111111,\"#46039f\"],[0.2222222222222222,\"#7201a8\"],[0.3333333333333333,\"#9c179e\"],[0.4444444444444444,\"#bd3786\"],[0.5555555555555556,\"#d8576b\"],[0.6666666666666666,\"#ed7953\"],[0.7777777777777778,\"#fb9f3a\"],[0.8888888888888888,\"#fdca26\"],[1.0,\"#f0f921\"]],\"sequentialminus\":[[0.0,\"#0d0887\"],[0.1111111111111111,\"#46039f\"],[0.2222222222222222,\"#7201a8\"],[0.3333333333333333,\"#9c179e\"],[0.4444444444444444,\"#bd3786\"],[0.5555555555555556,\"#d8576b\"],[0.6666666666666666,\"#ed7953\"],[0.7777777777777778,\"#fb9f3a\"],[0.8888888888888888,\"#fdca26\"],[1.0,\"#f0f921\"]]},\"colorway\":[\"#636efa\",\"#EF553B\",\"#00cc96\",\"#ab63fa\",\"#FFA15A\",\"#19d3f3\",\"#FF6692\",\"#B6E880\",\"#FF97FF\",\"#FECB52\"],\"font\":{\"color\":\"#2a3f5f\"},\"geo\":{\"bgcolor\":\"white\",\"lakecolor\":\"white\",\"landcolor\":\"#E5ECF6\",\"showlakes\":true,\"showland\":true,\"subunitcolor\":\"white\"},\"hoverlabel\":{\"align\":\"left\"},\"hovermode\":\"closest\",\"mapbox\":{\"style\":\"light\"},\"paper_bgcolor\":\"white\",\"plot_bgcolor\":\"#E5ECF6\",\"polar\":{\"angularaxis\":{\"gridcolor\":\"white\",\"linecolor\":\"white\",\"ticks\":\"\"},\"bgcolor\":\"#E5ECF6\",\"radialaxis\":{\"gridcolor\":\"white\",\"linecolor\":\"white\",\"ticks\":\"\"}},\"scene\":{\"xaxis\":{\"backgroundcolor\":\"#E5ECF6\",\"gridcolor\":\"white\",\"gridwidth\":2,\"linecolor\":\"white\",\"showbackground\":true,\"ticks\":\"\",\"zerolinecolor\":\"white\"},\"yaxis\":{\"backgroundcolor\":\"#E5ECF6\",\"gridcolor\":\"white\",\"gridwidth\":2,\"linecolor\":\"white\",\"showbackground\":true,\"ticks\":\"\",\"zerolinecolor\":\"white\"},\"zaxis\":{\"backgroundcolor\":\"#E5ECF6\",\"gridcolor\":\"white\",\"gridwidth\":2,\"linecolor\":\"white\",\"showbackground\":true,\"ticks\":\"\",\"zerolinecolor\":\"white\"}},\"shapedefaults\":{\"line\":{\"color\":\"#2a3f5f\"}},\"ternary\":{\"aaxis\":{\"gridcolor\":\"white\",\"linecolor\":\"white\",\"ticks\":\"\"},\"baxis\":{\"gridcolor\":\"white\",\"linecolor\":\"white\",\"ticks\":\"\"},\"bgcolor\":\"#E5ECF6\",\"caxis\":{\"gridcolor\":\"white\",\"linecolor\":\"white\",\"ticks\":\"\"}},\"title\":{\"x\":0.05},\"xaxis\":{\"automargin\":true,\"gridcolor\":\"white\",\"linecolor\":\"white\",\"ticks\":\"\",\"title\":{\"standoff\":15},\"zerolinecolor\":\"white\",\"zerolinewidth\":2},\"yaxis\":{\"automargin\":true,\"gridcolor\":\"white\",\"linecolor\":\"white\",\"ticks\":\"\",\"title\":{\"standoff\":15},\"zerolinecolor\":\"white\",\"zerolinewidth\":2}}},\"xaxis\":{\"anchor\":\"y\",\"domain\":[0.0,1.0],\"title\":{\"text\":\"SENTINEL_3B_SLSTR_EUMETSAT\"}},\"yaxis\":{\"anchor\":\"x\",\"domain\":[0.0,1.0],\"title\":{\"text\":\"NOAA 20_VIIRS_NASA2.0NRT\"}}},                        {\"responsive\": true}                    ).then(function(){\n",
       "                            \n",
       "var gd = document.getElementById('5641c930-4d7e-471e-b1c0-79cf6add68a9');\n",
       "var x = new MutationObserver(function (mutations, observer) {{\n",
       "        var display = window.getComputedStyle(gd).display;\n",
       "        if (!display || display === 'none') {{\n",
       "            console.log([gd, 'removed!']);\n",
       "            Plotly.purge(gd);\n",
       "            observer.disconnect();\n",
       "        }}\n",
       "}});\n",
       "\n",
       "// Listen for the removal of the full notebook cells\n",
       "var notebookContainer = gd.closest('#notebook-container');\n",
       "if (notebookContainer) {{\n",
       "    x.observe(notebookContainer, {childList: true});\n",
       "}}\n",
       "\n",
       "// Listen for the clearing of the current output cell\n",
       "var outputEl = gd.closest('.output');\n",
       "if (outputEl) {{\n",
       "    x.observe(outputEl, {childList: true});\n",
       "}}\n",
       "\n",
       "                        })                };                });            </script>        </div>"
      ]
     },
     "metadata": {},
     "output_type": "display_data"
    }
   ],
   "source": [
    "ax = example.plot.scatter(x=example['master_count'], y=['slave_count'])\n",
    "ax.layout.xaxis = {    'anchor': 'y', 'domain': [0.0, 1.0], 'title': {'text': 'SENTINEL_3B_SLSTR_EUMETSAT'}}\n",
    "ax.layout.yaxis = {    'anchor': 'x', 'domain': [0.0, 1.0], 'title': {'text': 'NOAA 20_VIIRS_NASA2.0NRT'}}\n",
    "ax"
   ]
  },
  {
   "cell_type": "code",
   "execution_count": 355,
   "metadata": {},
   "outputs": [],
   "source": [
    "# Create a dictionary to enable interactive plotting with dropdown menu using Plotly\n",
    "#pair_dict = {}\n",
    "#for pair in pairs:\n",
    "#    pair_results = satellite_sensor_product_daily_pd[satellite_sensor_product_daily_pd['pair'] == pair][['master_count', 'slave_count']].to_dict()\n",
    "    \n",
    "#    pair_dict[pair] = [pd.Series(pair_results['master_count']).index.strftime('%Y-%m-%d'),\n",
    "#                       pd.Series(pair_results['slave_count']).index.strftime('%Y-%m-%d')]\n",
    "    "
   ]
  },
  {
   "cell_type": "code",
   "execution_count": 356,
   "metadata": {},
   "outputs": [],
   "source": [
    "#pd.Series(pair_results['master_count']).index.strftime('%Y-%m-%d')"
   ]
  },
  {
   "cell_type": "code",
   "execution_count": 357,
   "metadata": {},
   "outputs": [],
   "source": [
    "#df = pd.DataFrame(pair_dict)\n",
    "#df = df.transpose()"
   ]
  },
  {
   "cell_type": "code",
   "execution_count": 358,
   "metadata": {},
   "outputs": [],
   "source": [
    "#df"
   ]
  },
  {
   "cell_type": "code",
   "execution_count": 264,
   "metadata": {},
   "outputs": [
    {
     "data": {
      "text/plain": [
       "\"\\nimport plotly.graph_objs as go\\nimport pandas as pd\\n\\n# plotly figure setup\\nfig = go.Figure()\\n\\n# one trace for each df column\\nfor col in df.columns:\\n    fig.add_trace(go.Scatter(x=df.index, y=df[col].values,\\n                             name = col,\\n                             mode = 'lines')\\n                 )\\n\\n# one button for each df column\\nupdatemenu= []\\nbuttons=[]\\nfor col in df.columns:\\n    buttons.append(dict(method='restyle',\\n                        label=col,\\n                        args=[{'y':[df[col].values]}])\\n                  )\\n\\n# some adjustments to the updatemenu\\nupdatemenu=[]\\nyour_menu=dict()\\nupdatemenu.append(your_menu)\\nupdatemenu[0]['buttons']=buttons\\nupdatemenu[0]['direction']='down'\\nupdatemenu[0]['showactive']=True\\n\\n# update layout and show figure\\nfig.update_layout(updatemenus=updatemenu)\\n\""
      ]
     },
     "execution_count": 264,
     "metadata": {},
     "output_type": "execute_result"
    }
   ],
   "source": [
    "# Failed. Timestamp needs to be a string - \n",
    "'''\n",
    "import plotly.graph_objs as go\n",
    "import pandas as pd\n",
    "\n",
    "# plotly figure setup\n",
    "fig = go.Figure()\n",
    "\n",
    "# one trace for each df column\n",
    "for col in df.columns:\n",
    "    fig.add_trace(go.Scatter(x=df.index, y=df[col].values,\n",
    "                             name = col,\n",
    "                             mode = 'lines')\n",
    "                 )\n",
    "\n",
    "# one button for each df column\n",
    "updatemenu= []\n",
    "buttons=[]\n",
    "for col in df.columns:\n",
    "    buttons.append(dict(method='restyle',\n",
    "                        label=col,\n",
    "                        args=[{'y':[df[col].values]}])\n",
    "                  )\n",
    "\n",
    "# some adjustments to the updatemenu\n",
    "updatemenu=[]\n",
    "your_menu=dict()\n",
    "updatemenu.append(your_menu)\n",
    "updatemenu[0]['buttons']=buttons\n",
    "updatemenu[0]['direction']='down'\n",
    "updatemenu[0]['showactive']=True\n",
    "\n",
    "# update layout and show figure\n",
    "fig.update_layout(updatemenus=updatemenu)\n",
    "'''"
   ]
  },
  {
   "cell_type": "code",
   "execution_count": 282,
   "metadata": {},
   "outputs": [],
   "source": [
    "filter_candidates_list = []\n",
    "for i in satellite_sensor_product_daily_pd['pair'].unique():\n",
    "    candidate_pair = satellite_sensor_product_daily_pd[(satellite_sensor_product_daily_pd['pair'] == i)]\n",
    "    #print(i, sample['ratio'].mean(), sample['ratio'].std())\n",
    "    #print(sample[sample['ratio'] > 3*sample['ratio'].std()].index)\n",
    "    filter_candidates_list.append(pd.DataFrame({'pair': i, \n",
    "                                                'satellite_sensor_product': i.split('|')[0],\n",
    "                                                '2_satellite_sensor_product': i.split('|')[1],\n",
    "                                                'gt3std': candidate_pair[candidate_pair['ratio'] > 3*candidate_pair['ratio'].std()].index,\n",
    "                                                'correlation': candidate_pair[['master_count','slave_count']].corr().master_count[1]}))\n",
    "filter_candidates_pd = pd.concat(filter_candidates_list)"
   ]
  },
  {
   "cell_type": "markdown",
   "metadata": {},
   "source": [
    "# Confirm that the candidate_pair and results make sense - high positive or negative zscore indicate how far away from the mean the sample is"
   ]
  },
  {
   "cell_type": "code",
   "execution_count": 283,
   "metadata": {},
   "outputs": [
    {
     "data": {
      "text/html": [
       "<div>\n",
       "<style scoped>\n",
       "    .dataframe tbody tr th:only-of-type {\n",
       "        vertical-align: middle;\n",
       "    }\n",
       "\n",
       "    .dataframe tbody tr th {\n",
       "        vertical-align: top;\n",
       "    }\n",
       "\n",
       "    .dataframe thead th {\n",
       "        text-align: right;\n",
       "    }\n",
       "</style>\n",
       "<table border=\"1\" class=\"dataframe\">\n",
       "  <thead>\n",
       "    <tr style=\"text-align: right;\">\n",
       "      <th></th>\n",
       "      <th>master_count</th>\n",
       "      <th>slave_count</th>\n",
       "      <th>ratio</th>\n",
       "      <th>zscore</th>\n",
       "      <th>satellite_sensor_product</th>\n",
       "      <th>2_satellite_sensor_product</th>\n",
       "      <th>pair</th>\n",
       "    </tr>\n",
       "    <tr>\n",
       "      <th>datetime</th>\n",
       "      <th></th>\n",
       "      <th></th>\n",
       "      <th></th>\n",
       "      <th></th>\n",
       "      <th></th>\n",
       "      <th></th>\n",
       "      <th></th>\n",
       "    </tr>\n",
       "  </thead>\n",
       "  <tbody>\n",
       "    <tr>\n",
       "      <th>2019-12-27</th>\n",
       "      <td>719</td>\n",
       "      <td>91</td>\n",
       "      <td>7.901099</td>\n",
       "      <td>6.522198</td>\n",
       "      <td>NOAA 20_VIIRS_NASA2.0NRT</td>\n",
       "      <td>SENTINEL_3A_SLSTR_EUMETSAT</td>\n",
       "      <td>NOAA 20_VIIRS_NASA2.0NRT|SENTINEL_3A_SLSTR_EUM...</td>\n",
       "    </tr>\n",
       "  </tbody>\n",
       "</table>\n",
       "</div>"
      ],
      "text/plain": [
       "            master_count  slave_count     ratio    zscore  \\\n",
       "datetime                                                    \n",
       "2019-12-27           719           91  7.901099  6.522198   \n",
       "\n",
       "            satellite_sensor_product  2_satellite_sensor_product  \\\n",
       "datetime                                                           \n",
       "2019-12-27  NOAA 20_VIIRS_NASA2.0NRT  SENTINEL_3A_SLSTR_EUMETSAT   \n",
       "\n",
       "                                                         pair  \n",
       "datetime                                                       \n",
       "2019-12-27  NOAA 20_VIIRS_NASA2.0NRT|SENTINEL_3A_SLSTR_EUM...  "
      ]
     },
     "execution_count": 283,
     "metadata": {},
     "output_type": "execute_result"
    }
   ],
   "source": [
    "candidate_pair[candidate_pair['ratio'] > 3*candidate_pair['ratio'].std()]"
   ]
  },
  {
   "cell_type": "code",
   "execution_count": 284,
   "metadata": {},
   "outputs": [
    {
     "data": {
      "text/html": [
       "<div>\n",
       "<style scoped>\n",
       "    .dataframe tbody tr th:only-of-type {\n",
       "        vertical-align: middle;\n",
       "    }\n",
       "\n",
       "    .dataframe tbody tr th {\n",
       "        vertical-align: top;\n",
       "    }\n",
       "\n",
       "    .dataframe thead th {\n",
       "        text-align: right;\n",
       "    }\n",
       "</style>\n",
       "<table border=\"1\" class=\"dataframe\">\n",
       "  <thead>\n",
       "    <tr style=\"text-align: right;\">\n",
       "      <th></th>\n",
       "      <th>master_count</th>\n",
       "      <th>slave_count</th>\n",
       "      <th>ratio</th>\n",
       "      <th>zscore</th>\n",
       "      <th>satellite_sensor_product</th>\n",
       "      <th>2_satellite_sensor_product</th>\n",
       "      <th>pair</th>\n",
       "    </tr>\n",
       "    <tr>\n",
       "      <th>datetime</th>\n",
       "      <th></th>\n",
       "      <th></th>\n",
       "      <th></th>\n",
       "      <th></th>\n",
       "      <th></th>\n",
       "      <th></th>\n",
       "      <th></th>\n",
       "    </tr>\n",
       "  </thead>\n",
       "  <tbody>\n",
       "    <tr>\n",
       "      <th>2019-12-07</th>\n",
       "      <td>5213</td>\n",
       "      <td>844</td>\n",
       "      <td>6.176540</td>\n",
       "      <td>4.797639</td>\n",
       "      <td>NOAA 20_VIIRS_NASA2.0NRT</td>\n",
       "      <td>SENTINEL_3A_SLSTR_EUMETSAT</td>\n",
       "      <td>NOAA 20_VIIRS_NASA2.0NRT|SENTINEL_3A_SLSTR_EUM...</td>\n",
       "    </tr>\n",
       "    <tr>\n",
       "      <th>2019-12-19</th>\n",
       "      <td>36</td>\n",
       "      <td>7</td>\n",
       "      <td>5.142857</td>\n",
       "      <td>3.763956</td>\n",
       "      <td>NOAA 20_VIIRS_NASA2.0NRT</td>\n",
       "      <td>SENTINEL_3A_SLSTR_EUMETSAT</td>\n",
       "      <td>NOAA 20_VIIRS_NASA2.0NRT|SENTINEL_3A_SLSTR_EUM...</td>\n",
       "    </tr>\n",
       "    <tr>\n",
       "      <th>2019-12-26</th>\n",
       "      <td>2222</td>\n",
       "      <td>527</td>\n",
       "      <td>4.216319</td>\n",
       "      <td>2.837418</td>\n",
       "      <td>NOAA 20_VIIRS_NASA2.0NRT</td>\n",
       "      <td>SENTINEL_3A_SLSTR_EUMETSAT</td>\n",
       "      <td>NOAA 20_VIIRS_NASA2.0NRT|SENTINEL_3A_SLSTR_EUM...</td>\n",
       "    </tr>\n",
       "    <tr>\n",
       "      <th>2019-12-27</th>\n",
       "      <td>719</td>\n",
       "      <td>91</td>\n",
       "      <td>7.901099</td>\n",
       "      <td>6.522198</td>\n",
       "      <td>NOAA 20_VIIRS_NASA2.0NRT</td>\n",
       "      <td>SENTINEL_3A_SLSTR_EUMETSAT</td>\n",
       "      <td>NOAA 20_VIIRS_NASA2.0NRT|SENTINEL_3A_SLSTR_EUM...</td>\n",
       "    </tr>\n",
       "    <tr>\n",
       "      <th>2020-01-14</th>\n",
       "      <td>1959</td>\n",
       "      <td>353</td>\n",
       "      <td>5.549575</td>\n",
       "      <td>4.170674</td>\n",
       "      <td>NOAA 20_VIIRS_NASA2.0NRT</td>\n",
       "      <td>SENTINEL_3A_SLSTR_EUMETSAT</td>\n",
       "      <td>NOAA 20_VIIRS_NASA2.0NRT|SENTINEL_3A_SLSTR_EUM...</td>\n",
       "    </tr>\n",
       "  </tbody>\n",
       "</table>\n",
       "</div>"
      ],
      "text/plain": [
       "            master_count  slave_count     ratio    zscore  \\\n",
       "datetime                                                    \n",
       "2019-12-07          5213          844  6.176540  4.797639   \n",
       "2019-12-19            36            7  5.142857  3.763956   \n",
       "2019-12-26          2222          527  4.216319  2.837418   \n",
       "2019-12-27           719           91  7.901099  6.522198   \n",
       "2020-01-14          1959          353  5.549575  4.170674   \n",
       "\n",
       "            satellite_sensor_product  2_satellite_sensor_product  \\\n",
       "datetime                                                           \n",
       "2019-12-07  NOAA 20_VIIRS_NASA2.0NRT  SENTINEL_3A_SLSTR_EUMETSAT   \n",
       "2019-12-19  NOAA 20_VIIRS_NASA2.0NRT  SENTINEL_3A_SLSTR_EUMETSAT   \n",
       "2019-12-26  NOAA 20_VIIRS_NASA2.0NRT  SENTINEL_3A_SLSTR_EUMETSAT   \n",
       "2019-12-27  NOAA 20_VIIRS_NASA2.0NRT  SENTINEL_3A_SLSTR_EUMETSAT   \n",
       "2020-01-14  NOAA 20_VIIRS_NASA2.0NRT  SENTINEL_3A_SLSTR_EUMETSAT   \n",
       "\n",
       "                                                         pair  \n",
       "datetime                                                       \n",
       "2019-12-07  NOAA 20_VIIRS_NASA2.0NRT|SENTINEL_3A_SLSTR_EUM...  \n",
       "2019-12-19  NOAA 20_VIIRS_NASA2.0NRT|SENTINEL_3A_SLSTR_EUM...  \n",
       "2019-12-26  NOAA 20_VIIRS_NASA2.0NRT|SENTINEL_3A_SLSTR_EUM...  \n",
       "2019-12-27  NOAA 20_VIIRS_NASA2.0NRT|SENTINEL_3A_SLSTR_EUM...  \n",
       "2020-01-14  NOAA 20_VIIRS_NASA2.0NRT|SENTINEL_3A_SLSTR_EUM...  "
      ]
     },
     "execution_count": 284,
     "metadata": {},
     "output_type": "execute_result"
    }
   ],
   "source": [
    "candidate_pair[candidate_pair['ratio'] > 2*candidate_pair['ratio'].std()]"
   ]
  },
  {
   "cell_type": "code",
   "execution_count": 285,
   "metadata": {},
   "outputs": [
    {
     "data": {
      "text/html": [
       "<div>\n",
       "<style scoped>\n",
       "    .dataframe tbody tr th:only-of-type {\n",
       "        vertical-align: middle;\n",
       "    }\n",
       "\n",
       "    .dataframe tbody tr th {\n",
       "        vertical-align: top;\n",
       "    }\n",
       "\n",
       "    .dataframe thead th {\n",
       "        text-align: right;\n",
       "    }\n",
       "</style>\n",
       "<table border=\"1\" class=\"dataframe\">\n",
       "  <thead>\n",
       "    <tr style=\"text-align: right;\">\n",
       "      <th></th>\n",
       "      <th>master_count</th>\n",
       "      <th>slave_count</th>\n",
       "      <th>ratio</th>\n",
       "      <th>zscore</th>\n",
       "      <th>satellite_sensor_product</th>\n",
       "      <th>2_satellite_sensor_product</th>\n",
       "      <th>pair</th>\n",
       "    </tr>\n",
       "    <tr>\n",
       "      <th>datetime</th>\n",
       "      <th></th>\n",
       "      <th></th>\n",
       "      <th></th>\n",
       "      <th></th>\n",
       "      <th></th>\n",
       "      <th></th>\n",
       "      <th></th>\n",
       "    </tr>\n",
       "  </thead>\n",
       "  <tbody>\n",
       "    <tr>\n",
       "      <th>2019-12-07</th>\n",
       "      <td>5213</td>\n",
       "      <td>844</td>\n",
       "      <td>6.176540</td>\n",
       "      <td>4.797639</td>\n",
       "      <td>NOAA 20_VIIRS_NASA2.0NRT</td>\n",
       "      <td>SENTINEL_3A_SLSTR_EUMETSAT</td>\n",
       "      <td>NOAA 20_VIIRS_NASA2.0NRT|SENTINEL_3A_SLSTR_EUM...</td>\n",
       "    </tr>\n",
       "    <tr>\n",
       "      <th>2019-12-14</th>\n",
       "      <td>1548</td>\n",
       "      <td>677</td>\n",
       "      <td>2.286558</td>\n",
       "      <td>0.907657</td>\n",
       "      <td>NOAA 20_VIIRS_NASA2.0NRT</td>\n",
       "      <td>SENTINEL_3A_SLSTR_EUMETSAT</td>\n",
       "      <td>NOAA 20_VIIRS_NASA2.0NRT|SENTINEL_3A_SLSTR_EUM...</td>\n",
       "    </tr>\n",
       "    <tr>\n",
       "      <th>2019-12-18</th>\n",
       "      <td>5587</td>\n",
       "      <td>2001</td>\n",
       "      <td>2.792104</td>\n",
       "      <td>1.413203</td>\n",
       "      <td>NOAA 20_VIIRS_NASA2.0NRT</td>\n",
       "      <td>SENTINEL_3A_SLSTR_EUMETSAT</td>\n",
       "      <td>NOAA 20_VIIRS_NASA2.0NRT|SENTINEL_3A_SLSTR_EUM...</td>\n",
       "    </tr>\n",
       "    <tr>\n",
       "      <th>2019-12-19</th>\n",
       "      <td>36</td>\n",
       "      <td>7</td>\n",
       "      <td>5.142857</td>\n",
       "      <td>3.763956</td>\n",
       "      <td>NOAA 20_VIIRS_NASA2.0NRT</td>\n",
       "      <td>SENTINEL_3A_SLSTR_EUMETSAT</td>\n",
       "      <td>NOAA 20_VIIRS_NASA2.0NRT|SENTINEL_3A_SLSTR_EUM...</td>\n",
       "    </tr>\n",
       "    <tr>\n",
       "      <th>2019-12-25</th>\n",
       "      <td>2491</td>\n",
       "      <td>995</td>\n",
       "      <td>2.503518</td>\n",
       "      <td>1.124616</td>\n",
       "      <td>NOAA 20_VIIRS_NASA2.0NRT</td>\n",
       "      <td>SENTINEL_3A_SLSTR_EUMETSAT</td>\n",
       "      <td>NOAA 20_VIIRS_NASA2.0NRT|SENTINEL_3A_SLSTR_EUM...</td>\n",
       "    </tr>\n",
       "    <tr>\n",
       "      <th>2019-12-26</th>\n",
       "      <td>2222</td>\n",
       "      <td>527</td>\n",
       "      <td>4.216319</td>\n",
       "      <td>2.837418</td>\n",
       "      <td>NOAA 20_VIIRS_NASA2.0NRT</td>\n",
       "      <td>SENTINEL_3A_SLSTR_EUMETSAT</td>\n",
       "      <td>NOAA 20_VIIRS_NASA2.0NRT|SENTINEL_3A_SLSTR_EUM...</td>\n",
       "    </tr>\n",
       "    <tr>\n",
       "      <th>2019-12-27</th>\n",
       "      <td>719</td>\n",
       "      <td>91</td>\n",
       "      <td>7.901099</td>\n",
       "      <td>6.522198</td>\n",
       "      <td>NOAA 20_VIIRS_NASA2.0NRT</td>\n",
       "      <td>SENTINEL_3A_SLSTR_EUMETSAT</td>\n",
       "      <td>NOAA 20_VIIRS_NASA2.0NRT|SENTINEL_3A_SLSTR_EUM...</td>\n",
       "    </tr>\n",
       "    <tr>\n",
       "      <th>2019-12-29</th>\n",
       "      <td>5008</td>\n",
       "      <td>1823</td>\n",
       "      <td>2.747120</td>\n",
       "      <td>1.368219</td>\n",
       "      <td>NOAA 20_VIIRS_NASA2.0NRT</td>\n",
       "      <td>SENTINEL_3A_SLSTR_EUMETSAT</td>\n",
       "      <td>NOAA 20_VIIRS_NASA2.0NRT|SENTINEL_3A_SLSTR_EUM...</td>\n",
       "    </tr>\n",
       "    <tr>\n",
       "      <th>2019-12-30</th>\n",
       "      <td>899</td>\n",
       "      <td>348</td>\n",
       "      <td>2.583333</td>\n",
       "      <td>1.204432</td>\n",
       "      <td>NOAA 20_VIIRS_NASA2.0NRT</td>\n",
       "      <td>SENTINEL_3A_SLSTR_EUMETSAT</td>\n",
       "      <td>NOAA 20_VIIRS_NASA2.0NRT|SENTINEL_3A_SLSTR_EUM...</td>\n",
       "    </tr>\n",
       "    <tr>\n",
       "      <th>2020-01-14</th>\n",
       "      <td>1959</td>\n",
       "      <td>353</td>\n",
       "      <td>5.549575</td>\n",
       "      <td>4.170674</td>\n",
       "      <td>NOAA 20_VIIRS_NASA2.0NRT</td>\n",
       "      <td>SENTINEL_3A_SLSTR_EUMETSAT</td>\n",
       "      <td>NOAA 20_VIIRS_NASA2.0NRT|SENTINEL_3A_SLSTR_EUM...</td>\n",
       "    </tr>\n",
       "  </tbody>\n",
       "</table>\n",
       "</div>"
      ],
      "text/plain": [
       "            master_count  slave_count     ratio    zscore  \\\n",
       "datetime                                                    \n",
       "2019-12-07          5213          844  6.176540  4.797639   \n",
       "2019-12-14          1548          677  2.286558  0.907657   \n",
       "2019-12-18          5587         2001  2.792104  1.413203   \n",
       "2019-12-19            36            7  5.142857  3.763956   \n",
       "2019-12-25          2491          995  2.503518  1.124616   \n",
       "2019-12-26          2222          527  4.216319  2.837418   \n",
       "2019-12-27           719           91  7.901099  6.522198   \n",
       "2019-12-29          5008         1823  2.747120  1.368219   \n",
       "2019-12-30           899          348  2.583333  1.204432   \n",
       "2020-01-14          1959          353  5.549575  4.170674   \n",
       "\n",
       "            satellite_sensor_product  2_satellite_sensor_product  \\\n",
       "datetime                                                           \n",
       "2019-12-07  NOAA 20_VIIRS_NASA2.0NRT  SENTINEL_3A_SLSTR_EUMETSAT   \n",
       "2019-12-14  NOAA 20_VIIRS_NASA2.0NRT  SENTINEL_3A_SLSTR_EUMETSAT   \n",
       "2019-12-18  NOAA 20_VIIRS_NASA2.0NRT  SENTINEL_3A_SLSTR_EUMETSAT   \n",
       "2019-12-19  NOAA 20_VIIRS_NASA2.0NRT  SENTINEL_3A_SLSTR_EUMETSAT   \n",
       "2019-12-25  NOAA 20_VIIRS_NASA2.0NRT  SENTINEL_3A_SLSTR_EUMETSAT   \n",
       "2019-12-26  NOAA 20_VIIRS_NASA2.0NRT  SENTINEL_3A_SLSTR_EUMETSAT   \n",
       "2019-12-27  NOAA 20_VIIRS_NASA2.0NRT  SENTINEL_3A_SLSTR_EUMETSAT   \n",
       "2019-12-29  NOAA 20_VIIRS_NASA2.0NRT  SENTINEL_3A_SLSTR_EUMETSAT   \n",
       "2019-12-30  NOAA 20_VIIRS_NASA2.0NRT  SENTINEL_3A_SLSTR_EUMETSAT   \n",
       "2020-01-14  NOAA 20_VIIRS_NASA2.0NRT  SENTINEL_3A_SLSTR_EUMETSAT   \n",
       "\n",
       "                                                         pair  \n",
       "datetime                                                       \n",
       "2019-12-07  NOAA 20_VIIRS_NASA2.0NRT|SENTINEL_3A_SLSTR_EUM...  \n",
       "2019-12-14  NOAA 20_VIIRS_NASA2.0NRT|SENTINEL_3A_SLSTR_EUM...  \n",
       "2019-12-18  NOAA 20_VIIRS_NASA2.0NRT|SENTINEL_3A_SLSTR_EUM...  \n",
       "2019-12-19  NOAA 20_VIIRS_NASA2.0NRT|SENTINEL_3A_SLSTR_EUM...  \n",
       "2019-12-25  NOAA 20_VIIRS_NASA2.0NRT|SENTINEL_3A_SLSTR_EUM...  \n",
       "2019-12-26  NOAA 20_VIIRS_NASA2.0NRT|SENTINEL_3A_SLSTR_EUM...  \n",
       "2019-12-27  NOAA 20_VIIRS_NASA2.0NRT|SENTINEL_3A_SLSTR_EUM...  \n",
       "2019-12-29  NOAA 20_VIIRS_NASA2.0NRT|SENTINEL_3A_SLSTR_EUM...  \n",
       "2019-12-30  NOAA 20_VIIRS_NASA2.0NRT|SENTINEL_3A_SLSTR_EUM...  \n",
       "2020-01-14  NOAA 20_VIIRS_NASA2.0NRT|SENTINEL_3A_SLSTR_EUM...  "
      ]
     },
     "execution_count": 285,
     "metadata": {},
     "output_type": "execute_result"
    }
   ],
   "source": [
    "candidate_pair[candidate_pair['ratio'] > 1*candidate_pair['ratio'].std()]"
   ]
  },
  {
   "cell_type": "code",
   "execution_count": 360,
   "metadata": {},
   "outputs": [
    {
     "data": {
      "application/vnd.plotly.v1+json": {
       "config": {
        "plotlyServerURL": "https://plot.ly"
       },
       "data": [
        {
         "hovertemplate": "variable=slave_count<br>master_count=%{x}<br>value=%{y}<extra></extra>",
         "legendgroup": "slave_count",
         "marker": {
          "color": "#636efa",
          "symbol": "circle"
         },
         "mode": "markers",
         "name": "slave_count",
         "orientation": "v",
         "showlegend": true,
         "type": "scatter",
         "x": [
          112,
          5213,
          0,
          0,
          11,
          0,
          0,
          0,
          1548,
          0,
          0,
          0,
          5587,
          36,
          0,
          0,
          3,
          0,
          0,
          2491,
          2222,
          719,
          0,
          5008,
          899,
          0,
          0,
          0,
          0,
          0,
          0,
          0,
          0,
          0,
          0,
          358,
          0,
          0,
          0,
          1959,
          0,
          0,
          0,
          0,
          0,
          0,
          0,
          0,
          0,
          0,
          0,
          0,
          0,
          0,
          0,
          0,
          0,
          0,
          469,
          0,
          0,
          0,
          0,
          0,
          0,
          0,
          0,
          0,
          0,
          0,
          0,
          0,
          0,
          0,
          0,
          0,
          0,
          0,
          0,
          0,
          0,
          0,
          0,
          0,
          0,
          0,
          0,
          0,
          0,
          0,
          0,
          0,
          0,
          0,
          0,
          0,
          0,
          0,
          0,
          0,
          0,
          0,
          0,
          0,
          0,
          0,
          0,
          0,
          0,
          0,
          0,
          0,
          0,
          0,
          0,
          0,
          0,
          0,
          0,
          0,
          0,
          0,
          0,
          0,
          0,
          0,
          0,
          0,
          0,
          0,
          0,
          0,
          0,
          0,
          0,
          0,
          0,
          0,
          0,
          0,
          0,
          0,
          0,
          0,
          0,
          0,
          0,
          0,
          0,
          0,
          0,
          0,
          0,
          0,
          0,
          0,
          0,
          0,
          0,
          0,
          0,
          0,
          0,
          0,
          0,
          0,
          0,
          0,
          0,
          0,
          0,
          0,
          0,
          0,
          0,
          0,
          0,
          0,
          0,
          0,
          0,
          0,
          0,
          0,
          0,
          0,
          0,
          0,
          0,
          0,
          0,
          0,
          0,
          0,
          0,
          0,
          0,
          0,
          0,
          0,
          0,
          0,
          0,
          0,
          0,
          0,
          0,
          0,
          0,
          0,
          0,
          0,
          0,
          0,
          0,
          0,
          0,
          0,
          0,
          0,
          0,
          0,
          0,
          0,
          0,
          0,
          0,
          0,
          0,
          0,
          0,
          0,
          0,
          0,
          0,
          0,
          0,
          0,
          0,
          0,
          0,
          0,
          0,
          0,
          0,
          0,
          0,
          0,
          0,
          0,
          0,
          0,
          0,
          0,
          0,
          0,
          0,
          0,
          0,
          0,
          0,
          0,
          0,
          0,
          0,
          0,
          0,
          0,
          0,
          0,
          0,
          0,
          0,
          0,
          0,
          0,
          0,
          0,
          46,
          0,
          0,
          0,
          83,
          0,
          0,
          0,
          0,
          0,
          0,
          0,
          0,
          0,
          0,
          0,
          0,
          0,
          0,
          0,
          0,
          0,
          0,
          0,
          0,
          0,
          0,
          89
         ],
         "xaxis": "x",
         "y": [
          55,
          844,
          0,
          0,
          13,
          0,
          0,
          0,
          677,
          0,
          0,
          0,
          2001,
          7,
          0,
          0,
          26,
          0,
          0,
          995,
          527,
          91,
          0,
          1823,
          348,
          0,
          0,
          0,
          0,
          0,
          0,
          0,
          0,
          0,
          0,
          440,
          0,
          0,
          0,
          353,
          0,
          0,
          0,
          0,
          0,
          0,
          0,
          0,
          0,
          0,
          0,
          0,
          0,
          0,
          0,
          0,
          0,
          0,
          302,
          0,
          0,
          0,
          0,
          0,
          0,
          0,
          0,
          0,
          0,
          0,
          0,
          0,
          0,
          0,
          0,
          0,
          0,
          0,
          0,
          0,
          0,
          0,
          0,
          0,
          0,
          0,
          0,
          0,
          0,
          0,
          0,
          0,
          0,
          0,
          0,
          0,
          0,
          0,
          0,
          0,
          0,
          0,
          0,
          0,
          0,
          0,
          0,
          0,
          0,
          0,
          0,
          0,
          0,
          0,
          0,
          0,
          0,
          0,
          0,
          0,
          0,
          0,
          0,
          0,
          0,
          0,
          0,
          0,
          0,
          0,
          0,
          0,
          0,
          0,
          0,
          0,
          0,
          0,
          0,
          0,
          0,
          0,
          0,
          0,
          0,
          0,
          0,
          0,
          0,
          0,
          0,
          0,
          0,
          0,
          0,
          0,
          0,
          0,
          0,
          0,
          0,
          0,
          0,
          0,
          0,
          0,
          0,
          0,
          0,
          0,
          0,
          0,
          0,
          0,
          0,
          0,
          0,
          0,
          0,
          0,
          0,
          0,
          0,
          0,
          0,
          0,
          0,
          0,
          0,
          0,
          0,
          0,
          0,
          0,
          0,
          0,
          0,
          0,
          0,
          0,
          0,
          0,
          0,
          0,
          0,
          0,
          0,
          0,
          0,
          0,
          0,
          0,
          0,
          0,
          0,
          0,
          0,
          0,
          0,
          0,
          0,
          0,
          0,
          0,
          0,
          0,
          0,
          0,
          0,
          0,
          0,
          0,
          0,
          0,
          0,
          0,
          0,
          0,
          0,
          0,
          0,
          0,
          0,
          0,
          0,
          0,
          0,
          0,
          0,
          0,
          0,
          0,
          0,
          0,
          0,
          0,
          0,
          0,
          0,
          0,
          0,
          0,
          0,
          0,
          0,
          0,
          0,
          0,
          0,
          0,
          0,
          0,
          0,
          0,
          0,
          0,
          0,
          0,
          31,
          0,
          0,
          0,
          58,
          0,
          0,
          0,
          0,
          0,
          0,
          0,
          0,
          0,
          0,
          0,
          0,
          0,
          0,
          0,
          0,
          0,
          0,
          0,
          0,
          0,
          0,
          50
         ],
         "yaxis": "y"
        }
       ],
       "layout": {
        "autosize": true,
        "legend": {
         "title": {
          "text": "variable"
         },
         "tracegroupgap": 0
        },
        "margin": {
         "t": 60
        },
        "template": {
         "data": {
          "bar": [
           {
            "error_x": {
             "color": "#2a3f5f"
            },
            "error_y": {
             "color": "#2a3f5f"
            },
            "marker": {
             "line": {
              "color": "#E5ECF6",
              "width": 0.5
             },
             "pattern": {
              "fillmode": "overlay",
              "size": 10,
              "solidity": 0.2
             }
            },
            "type": "bar"
           }
          ],
          "barpolar": [
           {
            "marker": {
             "line": {
              "color": "#E5ECF6",
              "width": 0.5
             },
             "pattern": {
              "fillmode": "overlay",
              "size": 10,
              "solidity": 0.2
             }
            },
            "type": "barpolar"
           }
          ],
          "carpet": [
           {
            "aaxis": {
             "endlinecolor": "#2a3f5f",
             "gridcolor": "white",
             "linecolor": "white",
             "minorgridcolor": "white",
             "startlinecolor": "#2a3f5f"
            },
            "baxis": {
             "endlinecolor": "#2a3f5f",
             "gridcolor": "white",
             "linecolor": "white",
             "minorgridcolor": "white",
             "startlinecolor": "#2a3f5f"
            },
            "type": "carpet"
           }
          ],
          "choropleth": [
           {
            "colorbar": {
             "outlinewidth": 0,
             "ticks": ""
            },
            "type": "choropleth"
           }
          ],
          "contour": [
           {
            "colorbar": {
             "outlinewidth": 0,
             "ticks": ""
            },
            "colorscale": [
             [
              0,
              "#0d0887"
             ],
             [
              0.1111111111111111,
              "#46039f"
             ],
             [
              0.2222222222222222,
              "#7201a8"
             ],
             [
              0.3333333333333333,
              "#9c179e"
             ],
             [
              0.4444444444444444,
              "#bd3786"
             ],
             [
              0.5555555555555556,
              "#d8576b"
             ],
             [
              0.6666666666666666,
              "#ed7953"
             ],
             [
              0.7777777777777778,
              "#fb9f3a"
             ],
             [
              0.8888888888888888,
              "#fdca26"
             ],
             [
              1,
              "#f0f921"
             ]
            ],
            "type": "contour"
           }
          ],
          "contourcarpet": [
           {
            "colorbar": {
             "outlinewidth": 0,
             "ticks": ""
            },
            "type": "contourcarpet"
           }
          ],
          "heatmap": [
           {
            "colorbar": {
             "outlinewidth": 0,
             "ticks": ""
            },
            "colorscale": [
             [
              0,
              "#0d0887"
             ],
             [
              0.1111111111111111,
              "#46039f"
             ],
             [
              0.2222222222222222,
              "#7201a8"
             ],
             [
              0.3333333333333333,
              "#9c179e"
             ],
             [
              0.4444444444444444,
              "#bd3786"
             ],
             [
              0.5555555555555556,
              "#d8576b"
             ],
             [
              0.6666666666666666,
              "#ed7953"
             ],
             [
              0.7777777777777778,
              "#fb9f3a"
             ],
             [
              0.8888888888888888,
              "#fdca26"
             ],
             [
              1,
              "#f0f921"
             ]
            ],
            "type": "heatmap"
           }
          ],
          "heatmapgl": [
           {
            "colorbar": {
             "outlinewidth": 0,
             "ticks": ""
            },
            "colorscale": [
             [
              0,
              "#0d0887"
             ],
             [
              0.1111111111111111,
              "#46039f"
             ],
             [
              0.2222222222222222,
              "#7201a8"
             ],
             [
              0.3333333333333333,
              "#9c179e"
             ],
             [
              0.4444444444444444,
              "#bd3786"
             ],
             [
              0.5555555555555556,
              "#d8576b"
             ],
             [
              0.6666666666666666,
              "#ed7953"
             ],
             [
              0.7777777777777778,
              "#fb9f3a"
             ],
             [
              0.8888888888888888,
              "#fdca26"
             ],
             [
              1,
              "#f0f921"
             ]
            ],
            "type": "heatmapgl"
           }
          ],
          "histogram": [
           {
            "marker": {
             "pattern": {
              "fillmode": "overlay",
              "size": 10,
              "solidity": 0.2
             }
            },
            "type": "histogram"
           }
          ],
          "histogram2d": [
           {
            "colorbar": {
             "outlinewidth": 0,
             "ticks": ""
            },
            "colorscale": [
             [
              0,
              "#0d0887"
             ],
             [
              0.1111111111111111,
              "#46039f"
             ],
             [
              0.2222222222222222,
              "#7201a8"
             ],
             [
              0.3333333333333333,
              "#9c179e"
             ],
             [
              0.4444444444444444,
              "#bd3786"
             ],
             [
              0.5555555555555556,
              "#d8576b"
             ],
             [
              0.6666666666666666,
              "#ed7953"
             ],
             [
              0.7777777777777778,
              "#fb9f3a"
             ],
             [
              0.8888888888888888,
              "#fdca26"
             ],
             [
              1,
              "#f0f921"
             ]
            ],
            "type": "histogram2d"
           }
          ],
          "histogram2dcontour": [
           {
            "colorbar": {
             "outlinewidth": 0,
             "ticks": ""
            },
            "colorscale": [
             [
              0,
              "#0d0887"
             ],
             [
              0.1111111111111111,
              "#46039f"
             ],
             [
              0.2222222222222222,
              "#7201a8"
             ],
             [
              0.3333333333333333,
              "#9c179e"
             ],
             [
              0.4444444444444444,
              "#bd3786"
             ],
             [
              0.5555555555555556,
              "#d8576b"
             ],
             [
              0.6666666666666666,
              "#ed7953"
             ],
             [
              0.7777777777777778,
              "#fb9f3a"
             ],
             [
              0.8888888888888888,
              "#fdca26"
             ],
             [
              1,
              "#f0f921"
             ]
            ],
            "type": "histogram2dcontour"
           }
          ],
          "mesh3d": [
           {
            "colorbar": {
             "outlinewidth": 0,
             "ticks": ""
            },
            "type": "mesh3d"
           }
          ],
          "parcoords": [
           {
            "line": {
             "colorbar": {
              "outlinewidth": 0,
              "ticks": ""
             }
            },
            "type": "parcoords"
           }
          ],
          "pie": [
           {
            "automargin": true,
            "type": "pie"
           }
          ],
          "scatter": [
           {
            "marker": {
             "colorbar": {
              "outlinewidth": 0,
              "ticks": ""
             }
            },
            "type": "scatter"
           }
          ],
          "scatter3d": [
           {
            "line": {
             "colorbar": {
              "outlinewidth": 0,
              "ticks": ""
             }
            },
            "marker": {
             "colorbar": {
              "outlinewidth": 0,
              "ticks": ""
             }
            },
            "type": "scatter3d"
           }
          ],
          "scattercarpet": [
           {
            "marker": {
             "colorbar": {
              "outlinewidth": 0,
              "ticks": ""
             }
            },
            "type": "scattercarpet"
           }
          ],
          "scattergeo": [
           {
            "marker": {
             "colorbar": {
              "outlinewidth": 0,
              "ticks": ""
             }
            },
            "type": "scattergeo"
           }
          ],
          "scattergl": [
           {
            "marker": {
             "colorbar": {
              "outlinewidth": 0,
              "ticks": ""
             }
            },
            "type": "scattergl"
           }
          ],
          "scattermapbox": [
           {
            "marker": {
             "colorbar": {
              "outlinewidth": 0,
              "ticks": ""
             }
            },
            "type": "scattermapbox"
           }
          ],
          "scatterpolar": [
           {
            "marker": {
             "colorbar": {
              "outlinewidth": 0,
              "ticks": ""
             }
            },
            "type": "scatterpolar"
           }
          ],
          "scatterpolargl": [
           {
            "marker": {
             "colorbar": {
              "outlinewidth": 0,
              "ticks": ""
             }
            },
            "type": "scatterpolargl"
           }
          ],
          "scatterternary": [
           {
            "marker": {
             "colorbar": {
              "outlinewidth": 0,
              "ticks": ""
             }
            },
            "type": "scatterternary"
           }
          ],
          "surface": [
           {
            "colorbar": {
             "outlinewidth": 0,
             "ticks": ""
            },
            "colorscale": [
             [
              0,
              "#0d0887"
             ],
             [
              0.1111111111111111,
              "#46039f"
             ],
             [
              0.2222222222222222,
              "#7201a8"
             ],
             [
              0.3333333333333333,
              "#9c179e"
             ],
             [
              0.4444444444444444,
              "#bd3786"
             ],
             [
              0.5555555555555556,
              "#d8576b"
             ],
             [
              0.6666666666666666,
              "#ed7953"
             ],
             [
              0.7777777777777778,
              "#fb9f3a"
             ],
             [
              0.8888888888888888,
              "#fdca26"
             ],
             [
              1,
              "#f0f921"
             ]
            ],
            "type": "surface"
           }
          ],
          "table": [
           {
            "cells": {
             "fill": {
              "color": "#EBF0F8"
             },
             "line": {
              "color": "white"
             }
            },
            "header": {
             "fill": {
              "color": "#C8D4E3"
             },
             "line": {
              "color": "white"
             }
            },
            "type": "table"
           }
          ]
         },
         "layout": {
          "annotationdefaults": {
           "arrowcolor": "#2a3f5f",
           "arrowhead": 0,
           "arrowwidth": 1
          },
          "autotypenumbers": "strict",
          "coloraxis": {
           "colorbar": {
            "outlinewidth": 0,
            "ticks": ""
           }
          },
          "colorscale": {
           "diverging": [
            [
             0,
             "#8e0152"
            ],
            [
             0.1,
             "#c51b7d"
            ],
            [
             0.2,
             "#de77ae"
            ],
            [
             0.3,
             "#f1b6da"
            ],
            [
             0.4,
             "#fde0ef"
            ],
            [
             0.5,
             "#f7f7f7"
            ],
            [
             0.6,
             "#e6f5d0"
            ],
            [
             0.7,
             "#b8e186"
            ],
            [
             0.8,
             "#7fbc41"
            ],
            [
             0.9,
             "#4d9221"
            ],
            [
             1,
             "#276419"
            ]
           ],
           "sequential": [
            [
             0,
             "#0d0887"
            ],
            [
             0.1111111111111111,
             "#46039f"
            ],
            [
             0.2222222222222222,
             "#7201a8"
            ],
            [
             0.3333333333333333,
             "#9c179e"
            ],
            [
             0.4444444444444444,
             "#bd3786"
            ],
            [
             0.5555555555555556,
             "#d8576b"
            ],
            [
             0.6666666666666666,
             "#ed7953"
            ],
            [
             0.7777777777777778,
             "#fb9f3a"
            ],
            [
             0.8888888888888888,
             "#fdca26"
            ],
            [
             1,
             "#f0f921"
            ]
           ],
           "sequentialminus": [
            [
             0,
             "#0d0887"
            ],
            [
             0.1111111111111111,
             "#46039f"
            ],
            [
             0.2222222222222222,
             "#7201a8"
            ],
            [
             0.3333333333333333,
             "#9c179e"
            ],
            [
             0.4444444444444444,
             "#bd3786"
            ],
            [
             0.5555555555555556,
             "#d8576b"
            ],
            [
             0.6666666666666666,
             "#ed7953"
            ],
            [
             0.7777777777777778,
             "#fb9f3a"
            ],
            [
             0.8888888888888888,
             "#fdca26"
            ],
            [
             1,
             "#f0f921"
            ]
           ]
          },
          "colorway": [
           "#636efa",
           "#EF553B",
           "#00cc96",
           "#ab63fa",
           "#FFA15A",
           "#19d3f3",
           "#FF6692",
           "#B6E880",
           "#FF97FF",
           "#FECB52"
          ],
          "font": {
           "color": "#2a3f5f"
          },
          "geo": {
           "bgcolor": "white",
           "lakecolor": "white",
           "landcolor": "#E5ECF6",
           "showlakes": true,
           "showland": true,
           "subunitcolor": "white"
          },
          "hoverlabel": {
           "align": "left"
          },
          "hovermode": "closest",
          "mapbox": {
           "style": "light"
          },
          "paper_bgcolor": "white",
          "plot_bgcolor": "#E5ECF6",
          "polar": {
           "angularaxis": {
            "gridcolor": "white",
            "linecolor": "white",
            "ticks": ""
           },
           "bgcolor": "#E5ECF6",
           "radialaxis": {
            "gridcolor": "white",
            "linecolor": "white",
            "ticks": ""
           }
          },
          "scene": {
           "xaxis": {
            "backgroundcolor": "#E5ECF6",
            "gridcolor": "white",
            "gridwidth": 2,
            "linecolor": "white",
            "showbackground": true,
            "ticks": "",
            "zerolinecolor": "white"
           },
           "yaxis": {
            "backgroundcolor": "#E5ECF6",
            "gridcolor": "white",
            "gridwidth": 2,
            "linecolor": "white",
            "showbackground": true,
            "ticks": "",
            "zerolinecolor": "white"
           },
           "zaxis": {
            "backgroundcolor": "#E5ECF6",
            "gridcolor": "white",
            "gridwidth": 2,
            "linecolor": "white",
            "showbackground": true,
            "ticks": "",
            "zerolinecolor": "white"
           }
          },
          "shapedefaults": {
           "line": {
            "color": "#2a3f5f"
           }
          },
          "ternary": {
           "aaxis": {
            "gridcolor": "white",
            "linecolor": "white",
            "ticks": ""
           },
           "baxis": {
            "gridcolor": "white",
            "linecolor": "white",
            "ticks": ""
           },
           "bgcolor": "#E5ECF6",
           "caxis": {
            "gridcolor": "white",
            "linecolor": "white",
            "ticks": ""
           }
          },
          "title": {
           "x": 0.05
          },
          "xaxis": {
           "automargin": true,
           "gridcolor": "white",
           "linecolor": "white",
           "ticks": "",
           "title": {
            "standoff": 15
           },
           "zerolinecolor": "white",
           "zerolinewidth": 2
          },
          "yaxis": {
           "automargin": true,
           "gridcolor": "white",
           "linecolor": "white",
           "ticks": "",
           "title": {
            "standoff": 15
           },
           "zerolinecolor": "white",
           "zerolinewidth": 2
          }
         }
        },
        "xaxis": {
         "anchor": "y",
         "autorange": true,
         "domain": [
          0,
          1
         ],
         "range": [
          -353.4506104328525,
          5940.450610432852
         ],
         "title": {
          "text": "SENTINEL_3B_SLSTR_EUMETSAT"
         },
         "type": "linear"
        },
        "yaxis": {
         "anchor": "x",
         "autorange": true,
         "domain": [
          0,
          1
         ],
         "range": [
          -154.93307086614175,
          2155.933070866142
         ],
         "title": {
          "text": "NOAA 20_VIIRS_NASA2.0NRT"
         },
         "type": "linear"
        }
       }
      },
      "image/png": "[encoded data removed]",
      "text/html": [
       "<div>                            <div id=\"43561c02-8b0d-4844-b3de-0b03b72f564a\" class=\"plotly-graph-div\" style=\"height:525px; width:100%;\"></div>            <script type=\"text/javascript\">                require([\"plotly\"], function(Plotly) {                    window.PLOTLYENV=window.PLOTLYENV || {};                                    if (document.getElementById(\"43561c02-8b0d-4844-b3de-0b03b72f564a\")) {                    Plotly.newPlot(                        \"43561c02-8b0d-4844-b3de-0b03b72f564a\",                        [{\"hovertemplate\":\"variable=slave_count<br>master_count=%{x}<br>value=%{y}<extra></extra>\",\"legendgroup\":\"slave_count\",\"marker\":{\"color\":\"#636efa\",\"symbol\":\"circle\"},\"mode\":\"markers\",\"name\":\"slave_count\",\"orientation\":\"v\",\"showlegend\":true,\"type\":\"scatter\",\"x\":[112,5213,0,0,11,0,0,0,1548,0,0,0,5587,36,0,0,3,0,0,2491,2222,719,0,5008,899,0,0,0,0,0,0,0,0,0,0,358,0,0,0,1959,0,0,0,0,0,0,0,0,0,0,0,0,0,0,0,0,0,0,469,0,0,0,0,0,0,0,0,0,0,0,0,0,0,0,0,0,0,0,0,0,0,0,0,0,0,0,0,0,0,0,0,0,0,0,0,0,0,0,0,0,0,0,0,0,0,0,0,0,0,0,0,0,0,0,0,0,0,0,0,0,0,0,0,0,0,0,0,0,0,0,0,0,0,0,0,0,0,0,0,0,0,0,0,0,0,0,0,0,0,0,0,0,0,0,0,0,0,0,0,0,0,0,0,0,0,0,0,0,0,0,0,0,0,0,0,0,0,0,0,0,0,0,0,0,0,0,0,0,0,0,0,0,0,0,0,0,0,0,0,0,0,0,0,0,0,0,0,0,0,0,0,0,0,0,0,0,0,0,0,0,0,0,0,0,0,0,0,0,0,0,0,0,0,0,0,0,0,0,0,0,0,0,0,0,0,0,0,0,0,0,0,0,0,0,0,0,0,0,0,0,0,0,0,0,0,0,0,0,0,0,0,0,0,0,0,0,0,0,46,0,0,0,83,0,0,0,0,0,0,0,0,0,0,0,0,0,0,0,0,0,0,0,0,0,0,89],\"xaxis\":\"x\",\"y\":[55,844,0,0,13,0,0,0,677,0,0,0,2001,7,0,0,26,0,0,995,527,91,0,1823,348,0,0,0,0,0,0,0,0,0,0,440,0,0,0,353,0,0,0,0,0,0,0,0,0,0,0,0,0,0,0,0,0,0,302,0,0,0,0,0,0,0,0,0,0,0,0,0,0,0,0,0,0,0,0,0,0,0,0,0,0,0,0,0,0,0,0,0,0,0,0,0,0,0,0,0,0,0,0,0,0,0,0,0,0,0,0,0,0,0,0,0,0,0,0,0,0,0,0,0,0,0,0,0,0,0,0,0,0,0,0,0,0,0,0,0,0,0,0,0,0,0,0,0,0,0,0,0,0,0,0,0,0,0,0,0,0,0,0,0,0,0,0,0,0,0,0,0,0,0,0,0,0,0,0,0,0,0,0,0,0,0,0,0,0,0,0,0,0,0,0,0,0,0,0,0,0,0,0,0,0,0,0,0,0,0,0,0,0,0,0,0,0,0,0,0,0,0,0,0,0,0,0,0,0,0,0,0,0,0,0,0,0,0,0,0,0,0,0,0,0,0,0,0,0,0,0,0,0,0,0,0,0,0,0,0,0,0,0,0,0,0,0,0,0,0,0,0,0,0,0,0,0,0,31,0,0,0,58,0,0,0,0,0,0,0,0,0,0,0,0,0,0,0,0,0,0,0,0,0,0,50],\"yaxis\":\"y\"}],                        {\"legend\":{\"title\":{\"text\":\"variable\"},\"tracegroupgap\":0},\"margin\":{\"t\":60},\"template\":{\"data\":{\"bar\":[{\"error_x\":{\"color\":\"#2a3f5f\"},\"error_y\":{\"color\":\"#2a3f5f\"},\"marker\":{\"line\":{\"color\":\"#E5ECF6\",\"width\":0.5},\"pattern\":{\"fillmode\":\"overlay\",\"size\":10,\"solidity\":0.2}},\"type\":\"bar\"}],\"barpolar\":[{\"marker\":{\"line\":{\"color\":\"#E5ECF6\",\"width\":0.5},\"pattern\":{\"fillmode\":\"overlay\",\"size\":10,\"solidity\":0.2}},\"type\":\"barpolar\"}],\"carpet\":[{\"aaxis\":{\"endlinecolor\":\"#2a3f5f\",\"gridcolor\":\"white\",\"linecolor\":\"white\",\"minorgridcolor\":\"white\",\"startlinecolor\":\"#2a3f5f\"},\"baxis\":{\"endlinecolor\":\"#2a3f5f\",\"gridcolor\":\"white\",\"linecolor\":\"white\",\"minorgridcolor\":\"white\",\"startlinecolor\":\"#2a3f5f\"},\"type\":\"carpet\"}],\"choropleth\":[{\"colorbar\":{\"outlinewidth\":0,\"ticks\":\"\"},\"type\":\"choropleth\"}],\"contour\":[{\"colorbar\":{\"outlinewidth\":0,\"ticks\":\"\"},\"colorscale\":[[0.0,\"#0d0887\"],[0.1111111111111111,\"#46039f\"],[0.2222222222222222,\"#7201a8\"],[0.3333333333333333,\"#9c179e\"],[0.4444444444444444,\"#bd3786\"],[0.5555555555555556,\"#d8576b\"],[0.6666666666666666,\"#ed7953\"],[0.7777777777777778,\"#fb9f3a\"],[0.8888888888888888,\"#fdca26\"],[1.0,\"#f0f921\"]],\"type\":\"contour\"}],\"contourcarpet\":[{\"colorbar\":{\"outlinewidth\":0,\"ticks\":\"\"},\"type\":\"contourcarpet\"}],\"heatmap\":[{\"colorbar\":{\"outlinewidth\":0,\"ticks\":\"\"},\"colorscale\":[[0.0,\"#0d0887\"],[0.1111111111111111,\"#46039f\"],[0.2222222222222222,\"#7201a8\"],[0.3333333333333333,\"#9c179e\"],[0.4444444444444444,\"#bd3786\"],[0.5555555555555556,\"#d8576b\"],[0.6666666666666666,\"#ed7953\"],[0.7777777777777778,\"#fb9f3a\"],[0.8888888888888888,\"#fdca26\"],[1.0,\"#f0f921\"]],\"type\":\"heatmap\"}],\"heatmapgl\":[{\"colorbar\":{\"outlinewidth\":0,\"ticks\":\"\"},\"colorscale\":[[0.0,\"#0d0887\"],[0.1111111111111111,\"#46039f\"],[0.2222222222222222,\"#7201a8\"],[0.3333333333333333,\"#9c179e\"],[0.4444444444444444,\"#bd3786\"],[0.5555555555555556,\"#d8576b\"],[0.6666666666666666,\"#ed7953\"],[0.7777777777777778,\"#fb9f3a\"],[0.8888888888888888,\"#fdca26\"],[1.0,\"#f0f921\"]],\"type\":\"heatmapgl\"}],\"histogram\":[{\"marker\":{\"pattern\":{\"fillmode\":\"overlay\",\"size\":10,\"solidity\":0.2}},\"type\":\"histogram\"}],\"histogram2d\":[{\"colorbar\":{\"outlinewidth\":0,\"ticks\":\"\"},\"colorscale\":[[0.0,\"#0d0887\"],[0.1111111111111111,\"#46039f\"],[0.2222222222222222,\"#7201a8\"],[0.3333333333333333,\"#9c179e\"],[0.4444444444444444,\"#bd3786\"],[0.5555555555555556,\"#d8576b\"],[0.6666666666666666,\"#ed7953\"],[0.7777777777777778,\"#fb9f3a\"],[0.8888888888888888,\"#fdca26\"],[1.0,\"#f0f921\"]],\"type\":\"histogram2d\"}],\"histogram2dcontour\":[{\"colorbar\":{\"outlinewidth\":0,\"ticks\":\"\"},\"colorscale\":[[0.0,\"#0d0887\"],[0.1111111111111111,\"#46039f\"],[0.2222222222222222,\"#7201a8\"],[0.3333333333333333,\"#9c179e\"],[0.4444444444444444,\"#bd3786\"],[0.5555555555555556,\"#d8576b\"],[0.6666666666666666,\"#ed7953\"],[0.7777777777777778,\"#fb9f3a\"],[0.8888888888888888,\"#fdca26\"],[1.0,\"#f0f921\"]],\"type\":\"histogram2dcontour\"}],\"mesh3d\":[{\"colorbar\":{\"outlinewidth\":0,\"ticks\":\"\"},\"type\":\"mesh3d\"}],\"parcoords\":[{\"line\":{\"colorbar\":{\"outlinewidth\":0,\"ticks\":\"\"}},\"type\":\"parcoords\"}],\"pie\":[{\"automargin\":true,\"type\":\"pie\"}],\"scatter\":[{\"marker\":{\"colorbar\":{\"outlinewidth\":0,\"ticks\":\"\"}},\"type\":\"scatter\"}],\"scatter3d\":[{\"line\":{\"colorbar\":{\"outlinewidth\":0,\"ticks\":\"\"}},\"marker\":{\"colorbar\":{\"outlinewidth\":0,\"ticks\":\"\"}},\"type\":\"scatter3d\"}],\"scattercarpet\":[{\"marker\":{\"colorbar\":{\"outlinewidth\":0,\"ticks\":\"\"}},\"type\":\"scattercarpet\"}],\"scattergeo\":[{\"marker\":{\"colorbar\":{\"outlinewidth\":0,\"ticks\":\"\"}},\"type\":\"scattergeo\"}],\"scattergl\":[{\"marker\":{\"colorbar\":{\"outlinewidth\":0,\"ticks\":\"\"}},\"type\":\"scattergl\"}],\"scattermapbox\":[{\"marker\":{\"colorbar\":{\"outlinewidth\":0,\"ticks\":\"\"}},\"type\":\"scattermapbox\"}],\"scatterpolar\":[{\"marker\":{\"colorbar\":{\"outlinewidth\":0,\"ticks\":\"\"}},\"type\":\"scatterpolar\"}],\"scatterpolargl\":[{\"marker\":{\"colorbar\":{\"outlinewidth\":0,\"ticks\":\"\"}},\"type\":\"scatterpolargl\"}],\"scatterternary\":[{\"marker\":{\"colorbar\":{\"outlinewidth\":0,\"ticks\":\"\"}},\"type\":\"scatterternary\"}],\"surface\":[{\"colorbar\":{\"outlinewidth\":0,\"ticks\":\"\"},\"colorscale\":[[0.0,\"#0d0887\"],[0.1111111111111111,\"#46039f\"],[0.2222222222222222,\"#7201a8\"],[0.3333333333333333,\"#9c179e\"],[0.4444444444444444,\"#bd3786\"],[0.5555555555555556,\"#d8576b\"],[0.6666666666666666,\"#ed7953\"],[0.7777777777777778,\"#fb9f3a\"],[0.8888888888888888,\"#fdca26\"],[1.0,\"#f0f921\"]],\"type\":\"surface\"}],\"table\":[{\"cells\":{\"fill\":{\"color\":\"#EBF0F8\"},\"line\":{\"color\":\"white\"}},\"header\":{\"fill\":{\"color\":\"#C8D4E3\"},\"line\":{\"color\":\"white\"}},\"type\":\"table\"}]},\"layout\":{\"annotationdefaults\":{\"arrowcolor\":\"#2a3f5f\",\"arrowhead\":0,\"arrowwidth\":1},\"autotypenumbers\":\"strict\",\"coloraxis\":{\"colorbar\":{\"outlinewidth\":0,\"ticks\":\"\"}},\"colorscale\":{\"diverging\":[[0,\"#8e0152\"],[0.1,\"#c51b7d\"],[0.2,\"#de77ae\"],[0.3,\"#f1b6da\"],[0.4,\"#fde0ef\"],[0.5,\"#f7f7f7\"],[0.6,\"#e6f5d0\"],[0.7,\"#b8e186\"],[0.8,\"#7fbc41\"],[0.9,\"#4d9221\"],[1,\"#276419\"]],\"sequential\":[[0.0,\"#0d0887\"],[0.1111111111111111,\"#46039f\"],[0.2222222222222222,\"#7201a8\"],[0.3333333333333333,\"#9c179e\"],[0.4444444444444444,\"#bd3786\"],[0.5555555555555556,\"#d8576b\"],[0.6666666666666666,\"#ed7953\"],[0.7777777777777778,\"#fb9f3a\"],[0.8888888888888888,\"#fdca26\"],[1.0,\"#f0f921\"]],\"sequentialminus\":[[0.0,\"#0d0887\"],[0.1111111111111111,\"#46039f\"],[0.2222222222222222,\"#7201a8\"],[0.3333333333333333,\"#9c179e\"],[0.4444444444444444,\"#bd3786\"],[0.5555555555555556,\"#d8576b\"],[0.6666666666666666,\"#ed7953\"],[0.7777777777777778,\"#fb9f3a\"],[0.8888888888888888,\"#fdca26\"],[1.0,\"#f0f921\"]]},\"colorway\":[\"#636efa\",\"#EF553B\",\"#00cc96\",\"#ab63fa\",\"#FFA15A\",\"#19d3f3\",\"#FF6692\",\"#B6E880\",\"#FF97FF\",\"#FECB52\"],\"font\":{\"color\":\"#2a3f5f\"},\"geo\":{\"bgcolor\":\"white\",\"lakecolor\":\"white\",\"landcolor\":\"#E5ECF6\",\"showlakes\":true,\"showland\":true,\"subunitcolor\":\"white\"},\"hoverlabel\":{\"align\":\"left\"},\"hovermode\":\"closest\",\"mapbox\":{\"style\":\"light\"},\"paper_bgcolor\":\"white\",\"plot_bgcolor\":\"#E5ECF6\",\"polar\":{\"angularaxis\":{\"gridcolor\":\"white\",\"linecolor\":\"white\",\"ticks\":\"\"},\"bgcolor\":\"#E5ECF6\",\"radialaxis\":{\"gridcolor\":\"white\",\"linecolor\":\"white\",\"ticks\":\"\"}},\"scene\":{\"xaxis\":{\"backgroundcolor\":\"#E5ECF6\",\"gridcolor\":\"white\",\"gridwidth\":2,\"linecolor\":\"white\",\"showbackground\":true,\"ticks\":\"\",\"zerolinecolor\":\"white\"},\"yaxis\":{\"backgroundcolor\":\"#E5ECF6\",\"gridcolor\":\"white\",\"gridwidth\":2,\"linecolor\":\"white\",\"showbackground\":true,\"ticks\":\"\",\"zerolinecolor\":\"white\"},\"zaxis\":{\"backgroundcolor\":\"#E5ECF6\",\"gridcolor\":\"white\",\"gridwidth\":2,\"linecolor\":\"white\",\"showbackground\":true,\"ticks\":\"\",\"zerolinecolor\":\"white\"}},\"shapedefaults\":{\"line\":{\"color\":\"#2a3f5f\"}},\"ternary\":{\"aaxis\":{\"gridcolor\":\"white\",\"linecolor\":\"white\",\"ticks\":\"\"},\"baxis\":{\"gridcolor\":\"white\",\"linecolor\":\"white\",\"ticks\":\"\"},\"bgcolor\":\"#E5ECF6\",\"caxis\":{\"gridcolor\":\"white\",\"linecolor\":\"white\",\"ticks\":\"\"}},\"title\":{\"x\":0.05},\"xaxis\":{\"automargin\":true,\"gridcolor\":\"white\",\"linecolor\":\"white\",\"ticks\":\"\",\"title\":{\"standoff\":15},\"zerolinecolor\":\"white\",\"zerolinewidth\":2},\"yaxis\":{\"automargin\":true,\"gridcolor\":\"white\",\"linecolor\":\"white\",\"ticks\":\"\",\"title\":{\"standoff\":15},\"zerolinecolor\":\"white\",\"zerolinewidth\":2}}},\"xaxis\":{\"anchor\":\"y\",\"domain\":[0.0,1.0],\"title\":{\"text\":\"SENTINEL_3B_SLSTR_EUMETSAT\"}},\"yaxis\":{\"anchor\":\"x\",\"domain\":[0.0,1.0],\"title\":{\"text\":\"NOAA 20_VIIRS_NASA2.0NRT\"}}},                        {\"responsive\": true}                    ).then(function(){\n",
       "                            \n",
       "var gd = document.getElementById('43561c02-8b0d-4844-b3de-0b03b72f564a');\n",
       "var x = new MutationObserver(function (mutations, observer) {{\n",
       "        var display = window.getComputedStyle(gd).display;\n",
       "        if (!display || display === 'none') {{\n",
       "            console.log([gd, 'removed!']);\n",
       "            Plotly.purge(gd);\n",
       "            observer.disconnect();\n",
       "        }}\n",
       "}});\n",
       "\n",
       "// Listen for the removal of the full notebook cells\n",
       "var notebookContainer = gd.closest('#notebook-container');\n",
       "if (notebookContainer) {{\n",
       "    x.observe(notebookContainer, {childList: true});\n",
       "}}\n",
       "\n",
       "// Listen for the clearing of the current output cell\n",
       "var outputEl = gd.closest('.output');\n",
       "if (outputEl) {{\n",
       "    x.observe(outputEl, {childList: true});\n",
       "}}\n",
       "\n",
       "                        })                };                });            </script>        </div>"
      ]
     },
     "metadata": {},
     "output_type": "display_data"
    }
   ],
   "source": [
    "ax = candidate_pair.plot.scatter(x=candidate_pair['master_count'], y=['slave_count'])\n",
    "ax.layout.xaxis = {    'anchor': 'y', 'domain': [0.0, 1.0], 'title': {'text': 'SENTINEL_3B_SLSTR_EUMETSAT'}}\n",
    "ax.layout.yaxis = {    'anchor': 'x', 'domain': [0.0, 1.0], 'title': {'text': 'NOAA 20_VIIRS_NASA2.0NRT'}}\n",
    "ax"
   ]
  },
  {
   "cell_type": "markdown",
   "metadata": {},
   "source": [
    "# Candidate dates should be excluded from the pairwise comparison results if they fail two tests:\n",
    "### 1. the ratio of counts for the pair exceeds a threshold of 3 standard deviations from the mean ratio (assumes that the ratio of hotspots will be reasonably stable)\n",
    "### 2. the threshold of 3 standard deviations from the mean ratio is also exceeded in at least 4 other pairwise comparisons where the master / target satellite_sensor_product \n",
    "\n",
    "### Use the results to drop candidates matching the time and satellite_sensor_product (Master) from the nearest match results - chances are they get excluded from the <5000m results anyway"
   ]
  },
  {
   "cell_type": "code",
   "execution_count": 291,
   "metadata": {},
   "outputs": [
    {
     "name": "stdout",
     "output_type": "stream",
     "text": [
      "SENTINEL_3B_SLSTR_ESA 2019-12-24T00:00:00.000000000 5\n",
      "SENTINEL_3B_SLSTR_EUMETSAT 2019-12-24T00:00:00.000000000 4\n",
      "NOAA 20_VIIRS_NASA2.0NRT 2019-12-24T00:00:00.000000000 3\n",
      "SENTINEL_3B_SLSTR_ESA 2020-01-08T00:00:00.000000000 3\n",
      "TERRA_MODIS_LANDGATE 2020-01-08T00:00:00.000000000 3\n",
      "SENTINEL_3B_SLSTR_EUMETSAT 2020-01-08T00:00:00.000000000 4\n",
      "TERRA_MODIS_NASA6.03 2020-01-01T00:00:00.000000000 3\n",
      "AQUA_MODIS_NASA6.03 2020-01-02T00:00:00.000000000 3\n",
      "AQUA_MODIS_LANDGATE 2019-11-01T00:00:00.000000000 3\n",
      "SENTINEL_3A_SLSTR_ESA 2020-01-10T00:00:00.000000000 4\n",
      "SENTINEL_3A_SLSTR_EUMETSAT 2020-01-10T00:00:00.000000000 5\n",
      "SENTINEL_3A_SLSTR_ESA 2019-12-22T00:00:00.000000000 3\n",
      "SENTINEL_3A_SLSTR_EUMETSAT 2019-12-22T00:00:00.000000000 3\n",
      "AQUA_MODIS_LANDGATE 2019-11-17T00:00:00.000000000 3\n",
      "AQUA_MODIS_LANDGATE 2019-12-26T00:00:00.000000000 3\n",
      "SENTINEL_3A_SLSTR_EUMETSAT 2019-12-26T00:00:00.000000000 3\n",
      "TERRA_MODIS_LANDGATE 2019-12-27T00:00:00.000000000 3\n",
      "AQUA_MODIS_LANDGATE 2019-12-27T00:00:00.000000000 3\n",
      "TERRA_MODIS_NASA6.03 2020-02-02T00:00:00.000000000 3\n",
      "AQUA_MODIS_LANDGATE 2020-01-04T00:00:00.000000000 3\n",
      "AQUA_MODIS_NASA6.03 2020-01-04T00:00:00.000000000 3\n",
      "SUOMI NPP_VIIRS_LANDGATE 2020-05-08T00:00:00.000000000 3\n",
      "SUOMI NPP_VIIRS_LANDGATE 2020-05-29T00:00:00.000000000 4\n",
      "AQUA_MODIS_LANDGATE 2020-01-23T00:00:00.000000000 3\n",
      "NOAA 20_VIIRS_LANDGATE 2020-06-17T00:00:00.000000000 3\n",
      "SUOMI NPP_VIIRS_NASA1 2020-01-15T00:00:00.000000000 6\n",
      "SUOMI NPP_VIIRS_LANDGATE 2020-05-07T00:00:00.000000000 3\n"
     ]
    }
   ],
   "source": [
    "for date in filter_candidates_pd['gt3std'].unique():\n",
    "    for i in filter_candidates_pd['satellite_sensor_product'].unique():\n",
    "        candidate_product_count = filter_candidates_pd[(filter_candidates_pd['gt3std'] == date) & (filter_candidates_pd['satellite_sensor_product'] == i)].count()\n",
    "        if candidate_product_count[0] >= 3:\n",
    "            print(i, date, candidate_product_count[0])   "
   ]
  },
  {
   "cell_type": "code",
   "execution_count": 24,
   "metadata": {},
   "outputs": [
    {
     "data": {
      "text/html": [
       "<div>\n",
       "<style scoped>\n",
       "    .dataframe tbody tr th:only-of-type {\n",
       "        vertical-align: middle;\n",
       "    }\n",
       "\n",
       "    .dataframe tbody tr th {\n",
       "        vertical-align: top;\n",
       "    }\n",
       "\n",
       "    .dataframe thead th {\n",
       "        text-align: right;\n",
       "    }\n",
       "</style>\n",
       "<table border=\"1\" class=\"dataframe\">\n",
       "  <thead>\n",
       "    <tr style=\"text-align: right;\">\n",
       "      <th></th>\n",
       "      <th>pair</th>\n",
       "      <th>satellite_sensor_product</th>\n",
       "      <th>2_satellite_sensor_product</th>\n",
       "      <th>gt3std</th>\n",
       "    </tr>\n",
       "  </thead>\n",
       "  <tbody>\n",
       "    <tr>\n",
       "      <th>0</th>\n",
       "      <td>SENTINEL_3B_SLSTR_ESA|TERRA_MODIS_NASA6.03</td>\n",
       "      <td>SENTINEL_3B_SLSTR_ESA</td>\n",
       "      <td>TERRA_MODIS_NASA6.03</td>\n",
       "      <td>2019-12-24</td>\n",
       "    </tr>\n",
       "    <tr>\n",
       "      <th>0</th>\n",
       "      <td>SENTINEL_3B_SLSTR_ESA|TERRA_MODIS_LANDGATE</td>\n",
       "      <td>SENTINEL_3B_SLSTR_ESA</td>\n",
       "      <td>TERRA_MODIS_LANDGATE</td>\n",
       "      <td>2019-12-24</td>\n",
       "    </tr>\n",
       "    <tr>\n",
       "      <th>0</th>\n",
       "      <td>SENTINEL_3B_SLSTR_ESA|AQUA_MODIS_LANDGATE</td>\n",
       "      <td>SENTINEL_3B_SLSTR_ESA</td>\n",
       "      <td>AQUA_MODIS_LANDGATE</td>\n",
       "      <td>2019-12-24</td>\n",
       "    </tr>\n",
       "    <tr>\n",
       "      <th>0</th>\n",
       "      <td>SENTINEL_3B_SLSTR_ESA|AQUA_MODIS_NASA6.03</td>\n",
       "      <td>SENTINEL_3B_SLSTR_ESA</td>\n",
       "      <td>AQUA_MODIS_NASA6.03</td>\n",
       "      <td>2019-11-04</td>\n",
       "    </tr>\n",
       "    <tr>\n",
       "      <th>0</th>\n",
       "      <td>SENTINEL_3B_SLSTR_ESA|SUOMI NPP_VIIRS_LANDGATE</td>\n",
       "      <td>SENTINEL_3B_SLSTR_ESA</td>\n",
       "      <td>SUOMI NPP_VIIRS_LANDGATE</td>\n",
       "      <td>2020-01-08</td>\n",
       "    </tr>\n",
       "    <tr>\n",
       "      <th>...</th>\n",
       "      <td>...</td>\n",
       "      <td>...</td>\n",
       "      <td>...</td>\n",
       "      <td>...</td>\n",
       "    </tr>\n",
       "    <tr>\n",
       "      <th>0</th>\n",
       "      <td>NOAA 20_VIIRS_NASA2.0NRT|SUOMI NPP_VIIRS_NASA1</td>\n",
       "      <td>NOAA 20_VIIRS_NASA2.0NRT</td>\n",
       "      <td>SUOMI NPP_VIIRS_NASA1</td>\n",
       "      <td>2020-03-02</td>\n",
       "    </tr>\n",
       "    <tr>\n",
       "      <th>0</th>\n",
       "      <td>NOAA 20_VIIRS_NASA2.0NRT|NOAA 20_VIIRS_LANDGATE</td>\n",
       "      <td>NOAA 20_VIIRS_NASA2.0NRT</td>\n",
       "      <td>NOAA 20_VIIRS_LANDGATE</td>\n",
       "      <td>2020-01-04</td>\n",
       "    </tr>\n",
       "    <tr>\n",
       "      <th>0</th>\n",
       "      <td>NOAA 20_VIIRS_NASA2.0NRT|SENTINEL_3B_SLSTR_EUM...</td>\n",
       "      <td>NOAA 20_VIIRS_NASA2.0NRT</td>\n",
       "      <td>SENTINEL_3B_SLSTR_EUMETSAT</td>\n",
       "      <td>2019-12-10</td>\n",
       "    </tr>\n",
       "    <tr>\n",
       "      <th>1</th>\n",
       "      <td>NOAA 20_VIIRS_NASA2.0NRT|SENTINEL_3B_SLSTR_EUM...</td>\n",
       "      <td>NOAA 20_VIIRS_NASA2.0NRT</td>\n",
       "      <td>SENTINEL_3B_SLSTR_EUMETSAT</td>\n",
       "      <td>2020-01-02</td>\n",
       "    </tr>\n",
       "    <tr>\n",
       "      <th>0</th>\n",
       "      <td>NOAA 20_VIIRS_NASA2.0NRT|SENTINEL_3A_SLSTR_EUM...</td>\n",
       "      <td>NOAA 20_VIIRS_NASA2.0NRT</td>\n",
       "      <td>SENTINEL_3A_SLSTR_EUMETSAT</td>\n",
       "      <td>2019-12-27</td>\n",
       "    </tr>\n",
       "  </tbody>\n",
       "</table>\n",
       "<p>481 rows × 4 columns</p>\n",
       "</div>"
      ],
      "text/plain": [
       "                                                 pair  \\\n",
       "0          SENTINEL_3B_SLSTR_ESA|TERRA_MODIS_NASA6.03   \n",
       "0          SENTINEL_3B_SLSTR_ESA|TERRA_MODIS_LANDGATE   \n",
       "0           SENTINEL_3B_SLSTR_ESA|AQUA_MODIS_LANDGATE   \n",
       "0           SENTINEL_3B_SLSTR_ESA|AQUA_MODIS_NASA6.03   \n",
       "0      SENTINEL_3B_SLSTR_ESA|SUOMI NPP_VIIRS_LANDGATE   \n",
       "..                                                ...   \n",
       "0      NOAA 20_VIIRS_NASA2.0NRT|SUOMI NPP_VIIRS_NASA1   \n",
       "0     NOAA 20_VIIRS_NASA2.0NRT|NOAA 20_VIIRS_LANDGATE   \n",
       "0   NOAA 20_VIIRS_NASA2.0NRT|SENTINEL_3B_SLSTR_EUM...   \n",
       "1   NOAA 20_VIIRS_NASA2.0NRT|SENTINEL_3B_SLSTR_EUM...   \n",
       "0   NOAA 20_VIIRS_NASA2.0NRT|SENTINEL_3A_SLSTR_EUM...   \n",
       "\n",
       "    satellite_sensor_product  2_satellite_sensor_product     gt3std  \n",
       "0      SENTINEL_3B_SLSTR_ESA        TERRA_MODIS_NASA6.03 2019-12-24  \n",
       "0      SENTINEL_3B_SLSTR_ESA        TERRA_MODIS_LANDGATE 2019-12-24  \n",
       "0      SENTINEL_3B_SLSTR_ESA         AQUA_MODIS_LANDGATE 2019-12-24  \n",
       "0      SENTINEL_3B_SLSTR_ESA         AQUA_MODIS_NASA6.03 2019-11-04  \n",
       "0      SENTINEL_3B_SLSTR_ESA    SUOMI NPP_VIIRS_LANDGATE 2020-01-08  \n",
       "..                       ...                         ...        ...  \n",
       "0   NOAA 20_VIIRS_NASA2.0NRT       SUOMI NPP_VIIRS_NASA1 2020-03-02  \n",
       "0   NOAA 20_VIIRS_NASA2.0NRT      NOAA 20_VIIRS_LANDGATE 2020-01-04  \n",
       "0   NOAA 20_VIIRS_NASA2.0NRT  SENTINEL_3B_SLSTR_EUMETSAT 2019-12-10  \n",
       "1   NOAA 20_VIIRS_NASA2.0NRT  SENTINEL_3B_SLSTR_EUMETSAT 2020-01-02  \n",
       "0   NOAA 20_VIIRS_NASA2.0NRT  SENTINEL_3A_SLSTR_EUMETSAT 2019-12-27  \n",
       "\n",
       "[481 rows x 4 columns]"
      ]
     },
     "execution_count": 24,
     "metadata": {},
     "output_type": "execute_result"
    }
   ],
   "source": [
    "filter_candidates_pd"
   ]
  },
  {
   "cell_type": "code",
   "execution_count": 290,
   "metadata": {},
   "outputs": [
    {
     "data": {
      "application/vnd.plotly.v1+json": {
       "config": {
        "plotlyServerURL": "https://plot.ly"
       },
       "data": [
        {
         "hovertemplate": "variable=master_count<br>datetime=%{x}<br>value=%{y}<extra></extra>",
         "legendgroup": "master_count",
         "line": {
          "color": "#636efa",
          "dash": "solid"
         },
         "marker": {
          "symbol": "circle"
         },
         "mode": "lines",
         "name": "master_count",
         "orientation": "v",
         "showlegend": true,
         "type": "scatter",
         "x": [
          "2019-12-06T00:00:00",
          "2019-12-07T00:00:00",
          "2019-12-08T00:00:00",
          "2019-12-09T00:00:00",
          "2019-12-10T00:00:00",
          "2019-12-11T00:00:00",
          "2019-12-12T00:00:00",
          "2019-12-13T00:00:00",
          "2019-12-14T00:00:00",
          "2019-12-15T00:00:00",
          "2019-12-16T00:00:00",
          "2019-12-17T00:00:00",
          "2019-12-18T00:00:00",
          "2019-12-19T00:00:00",
          "2019-12-20T00:00:00",
          "2019-12-21T00:00:00",
          "2019-12-22T00:00:00",
          "2019-12-23T00:00:00",
          "2019-12-24T00:00:00",
          "2019-12-25T00:00:00",
          "2019-12-26T00:00:00",
          "2019-12-27T00:00:00",
          "2019-12-28T00:00:00",
          "2019-12-29T00:00:00",
          "2019-12-30T00:00:00",
          "2019-12-31T00:00:00",
          "2020-01-01T00:00:00",
          "2020-01-02T00:00:00",
          "2020-01-03T00:00:00",
          "2020-01-04T00:00:00",
          "2020-01-05T00:00:00",
          "2020-01-06T00:00:00",
          "2020-01-07T00:00:00",
          "2020-01-08T00:00:00",
          "2020-01-09T00:00:00",
          "2020-01-10T00:00:00",
          "2020-01-11T00:00:00",
          "2020-01-12T00:00:00",
          "2020-01-13T00:00:00",
          "2020-01-14T00:00:00",
          "2020-01-15T00:00:00",
          "2020-01-16T00:00:00",
          "2020-01-17T00:00:00",
          "2020-01-18T00:00:00",
          "2020-01-19T00:00:00",
          "2020-01-20T00:00:00",
          "2020-01-21T00:00:00",
          "2020-01-22T00:00:00",
          "2020-01-23T00:00:00",
          "2020-01-24T00:00:00",
          "2020-01-25T00:00:00",
          "2020-01-26T00:00:00",
          "2020-01-27T00:00:00",
          "2020-01-28T00:00:00",
          "2020-01-29T00:00:00",
          "2020-01-30T00:00:00",
          "2020-01-31T00:00:00",
          "2020-02-01T00:00:00",
          "2020-02-02T00:00:00",
          "2020-02-03T00:00:00",
          "2020-02-04T00:00:00",
          "2020-02-05T00:00:00",
          "2020-02-06T00:00:00",
          "2020-02-07T00:00:00",
          "2020-02-08T00:00:00",
          "2020-02-09T00:00:00",
          "2020-02-10T00:00:00",
          "2020-02-11T00:00:00",
          "2020-02-12T00:00:00",
          "2020-02-13T00:00:00",
          "2020-02-14T00:00:00",
          "2020-02-15T00:00:00",
          "2020-02-16T00:00:00",
          "2020-02-17T00:00:00",
          "2020-02-18T00:00:00",
          "2020-02-19T00:00:00",
          "2020-02-20T00:00:00",
          "2020-02-21T00:00:00",
          "2020-02-22T00:00:00",
          "2020-02-23T00:00:00",
          "2020-02-24T00:00:00",
          "2020-02-25T00:00:00",
          "2020-02-26T00:00:00",
          "2020-02-27T00:00:00",
          "2020-02-28T00:00:00",
          "2020-02-29T00:00:00",
          "2020-03-01T00:00:00",
          "2020-03-02T00:00:00",
          "2020-03-03T00:00:00",
          "2020-03-04T00:00:00",
          "2020-03-05T00:00:00",
          "2020-03-06T00:00:00",
          "2020-03-07T00:00:00",
          "2020-03-08T00:00:00",
          "2020-03-09T00:00:00",
          "2020-03-10T00:00:00",
          "2020-03-11T00:00:00",
          "2020-03-12T00:00:00",
          "2020-03-13T00:00:00",
          "2020-03-14T00:00:00",
          "2020-03-15T00:00:00",
          "2020-03-16T00:00:00",
          "2020-03-17T00:00:00",
          "2020-03-18T00:00:00",
          "2020-03-19T00:00:00",
          "2020-03-20T00:00:00",
          "2020-03-21T00:00:00",
          "2020-03-22T00:00:00",
          "2020-03-23T00:00:00",
          "2020-03-24T00:00:00",
          "2020-03-25T00:00:00",
          "2020-03-26T00:00:00",
          "2020-03-27T00:00:00",
          "2020-03-28T00:00:00",
          "2020-03-29T00:00:00",
          "2020-03-30T00:00:00",
          "2020-03-31T00:00:00",
          "2020-04-01T00:00:00",
          "2020-04-02T00:00:00",
          "2020-04-03T00:00:00",
          "2020-04-04T00:00:00",
          "2020-04-05T00:00:00",
          "2020-04-06T00:00:00",
          "2020-04-07T00:00:00",
          "2020-04-08T00:00:00",
          "2020-04-09T00:00:00",
          "2020-04-10T00:00:00",
          "2020-04-11T00:00:00",
          "2020-04-12T00:00:00",
          "2020-04-13T00:00:00",
          "2020-04-14T00:00:00",
          "2020-04-15T00:00:00",
          "2020-04-16T00:00:00",
          "2020-04-17T00:00:00",
          "2020-04-18T00:00:00",
          "2020-04-19T00:00:00",
          "2020-04-20T00:00:00",
          "2020-04-21T00:00:00",
          "2020-04-22T00:00:00",
          "2020-04-23T00:00:00",
          "2020-04-24T00:00:00",
          "2020-04-25T00:00:00",
          "2020-04-26T00:00:00",
          "2020-04-27T00:00:00",
          "2020-04-28T00:00:00",
          "2020-04-29T00:00:00",
          "2020-04-30T00:00:00",
          "2020-05-01T00:00:00",
          "2020-05-02T00:00:00",
          "2020-05-03T00:00:00",
          "2020-05-04T00:00:00",
          "2020-05-05T00:00:00",
          "2020-05-06T00:00:00",
          "2020-05-07T00:00:00",
          "2020-05-08T00:00:00",
          "2020-05-09T00:00:00",
          "2020-05-10T00:00:00",
          "2020-05-11T00:00:00",
          "2020-05-12T00:00:00",
          "2020-05-13T00:00:00",
          "2020-05-14T00:00:00",
          "2020-05-15T00:00:00",
          "2020-05-16T00:00:00",
          "2020-05-17T00:00:00",
          "2020-05-18T00:00:00",
          "2020-05-19T00:00:00",
          "2020-05-20T00:00:00",
          "2020-05-21T00:00:00",
          "2020-05-22T00:00:00",
          "2020-05-23T00:00:00",
          "2020-05-24T00:00:00",
          "2020-05-25T00:00:00",
          "2020-05-26T00:00:00",
          "2020-05-27T00:00:00",
          "2020-05-28T00:00:00",
          "2020-05-29T00:00:00",
          "2020-05-30T00:00:00",
          "2020-05-31T00:00:00",
          "2020-06-01T00:00:00",
          "2020-06-02T00:00:00",
          "2020-06-03T00:00:00",
          "2020-06-04T00:00:00",
          "2020-06-05T00:00:00",
          "2020-06-06T00:00:00",
          "2020-06-07T00:00:00",
          "2020-06-08T00:00:00",
          "2020-06-09T00:00:00",
          "2020-06-10T00:00:00",
          "2020-06-11T00:00:00",
          "2020-06-12T00:00:00",
          "2020-06-13T00:00:00",
          "2020-06-14T00:00:00",
          "2020-06-15T00:00:00",
          "2020-06-16T00:00:00",
          "2020-06-17T00:00:00",
          "2020-06-18T00:00:00",
          "2020-06-19T00:00:00",
          "2020-06-20T00:00:00",
          "2020-06-21T00:00:00",
          "2020-06-22T00:00:00",
          "2020-06-23T00:00:00",
          "2020-06-24T00:00:00",
          "2020-06-25T00:00:00",
          "2020-06-26T00:00:00",
          "2020-06-27T00:00:00",
          "2020-06-28T00:00:00",
          "2020-06-29T00:00:00",
          "2020-06-30T00:00:00",
          "2020-07-01T00:00:00",
          "2020-07-02T00:00:00",
          "2020-07-03T00:00:00",
          "2020-07-04T00:00:00",
          "2020-07-05T00:00:00",
          "2020-07-06T00:00:00",
          "2020-07-07T00:00:00",
          "2020-07-08T00:00:00",
          "2020-07-09T00:00:00",
          "2020-07-10T00:00:00",
          "2020-07-11T00:00:00",
          "2020-07-12T00:00:00",
          "2020-07-13T00:00:00",
          "2020-07-14T00:00:00",
          "2020-07-15T00:00:00",
          "2020-07-16T00:00:00",
          "2020-07-17T00:00:00",
          "2020-07-18T00:00:00",
          "2020-07-19T00:00:00",
          "2020-07-20T00:00:00",
          "2020-07-21T00:00:00",
          "2020-07-22T00:00:00",
          "2020-07-23T00:00:00",
          "2020-07-24T00:00:00",
          "2020-07-25T00:00:00",
          "2020-07-26T00:00:00",
          "2020-07-27T00:00:00",
          "2020-07-28T00:00:00",
          "2020-07-29T00:00:00",
          "2020-07-30T00:00:00",
          "2020-07-31T00:00:00",
          "2020-08-01T00:00:00",
          "2020-08-02T00:00:00",
          "2020-08-03T00:00:00",
          "2020-08-04T00:00:00",
          "2020-08-05T00:00:00",
          "2020-08-06T00:00:00",
          "2020-08-07T00:00:00",
          "2020-08-08T00:00:00",
          "2020-08-09T00:00:00",
          "2020-08-10T00:00:00",
          "2020-08-11T00:00:00",
          "2020-08-12T00:00:00",
          "2020-08-13T00:00:00",
          "2020-08-14T00:00:00",
          "2020-08-15T00:00:00",
          "2020-08-16T00:00:00",
          "2020-08-17T00:00:00",
          "2020-08-18T00:00:00",
          "2020-08-19T00:00:00",
          "2020-08-20T00:00:00",
          "2020-08-21T00:00:00",
          "2020-08-22T00:00:00",
          "2020-08-23T00:00:00",
          "2020-08-24T00:00:00",
          "2020-08-25T00:00:00",
          "2020-08-26T00:00:00",
          "2020-08-27T00:00:00",
          "2020-08-28T00:00:00",
          "2020-08-29T00:00:00",
          "2020-08-30T00:00:00",
          "2020-08-31T00:00:00",
          "2020-09-01T00:00:00",
          "2020-09-02T00:00:00",
          "2020-09-03T00:00:00",
          "2020-09-04T00:00:00",
          "2020-09-05T00:00:00",
          "2020-09-06T00:00:00",
          "2020-09-07T00:00:00",
          "2020-09-08T00:00:00",
          "2020-09-09T00:00:00",
          "2020-09-10T00:00:00",
          "2020-09-11T00:00:00",
          "2020-09-12T00:00:00",
          "2020-09-13T00:00:00",
          "2020-09-14T00:00:00",
          "2020-09-15T00:00:00",
          "2020-09-16T00:00:00",
          "2020-09-17T00:00:00",
          "2020-09-18T00:00:00",
          "2020-09-19T00:00:00",
          "2020-09-20T00:00:00",
          "2020-09-21T00:00:00",
          "2020-09-22T00:00:00",
          "2020-09-23T00:00:00",
          "2020-09-24T00:00:00",
          "2020-09-25T00:00:00",
          "2020-09-26T00:00:00",
          "2020-09-27T00:00:00",
          "2020-09-28T00:00:00",
          "2020-09-29T00:00:00",
          "2020-09-30T00:00:00",
          "2020-10-01T00:00:00",
          "2020-10-02T00:00:00",
          "2020-10-03T00:00:00",
          "2020-10-04T00:00:00",
          "2020-10-05T00:00:00",
          "2020-10-06T00:00:00"
         ],
         "xaxis": "x",
         "y": [
          112,
          5213,
          0,
          0,
          11,
          0,
          0,
          0,
          1548,
          0,
          0,
          0,
          5587,
          36,
          0,
          0,
          3,
          0,
          0,
          2491,
          2222,
          719,
          0,
          5008,
          899,
          0,
          0,
          0,
          0,
          0,
          0,
          0,
          0,
          0,
          0,
          358,
          0,
          0,
          0,
          1959,
          0,
          0,
          0,
          0,
          0,
          0,
          0,
          0,
          0,
          0,
          0,
          0,
          0,
          0,
          0,
          0,
          0,
          0,
          469,
          0,
          0,
          0,
          0,
          0,
          0,
          0,
          0,
          0,
          0,
          0,
          0,
          0,
          0,
          0,
          0,
          0,
          0,
          0,
          0,
          0,
          0,
          0,
          0,
          0,
          0,
          0,
          0,
          0,
          0,
          0,
          0,
          0,
          0,
          0,
          0,
          0,
          0,
          0,
          0,
          0,
          0,
          0,
          0,
          0,
          0,
          0,
          0,
          0,
          0,
          0,
          0,
          0,
          0,
          0,
          0,
          0,
          0,
          0,
          0,
          0,
          0,
          0,
          0,
          0,
          0,
          0,
          0,
          0,
          0,
          0,
          0,
          0,
          0,
          0,
          0,
          0,
          0,
          0,
          0,
          0,
          0,
          0,
          0,
          0,
          0,
          0,
          0,
          0,
          0,
          0,
          0,
          0,
          0,
          0,
          0,
          0,
          0,
          0,
          0,
          0,
          0,
          0,
          0,
          0,
          0,
          0,
          0,
          0,
          0,
          0,
          0,
          0,
          0,
          0,
          0,
          0,
          0,
          0,
          0,
          0,
          0,
          0,
          0,
          0,
          0,
          0,
          0,
          0,
          0,
          0,
          0,
          0,
          0,
          0,
          0,
          0,
          0,
          0,
          0,
          0,
          0,
          0,
          0,
          0,
          0,
          0,
          0,
          0,
          0,
          0,
          0,
          0,
          0,
          0,
          0,
          0,
          0,
          0,
          0,
          0,
          0,
          0,
          0,
          0,
          0,
          0,
          0,
          0,
          0,
          0,
          0,
          0,
          0,
          0,
          0,
          0,
          0,
          0,
          0,
          0,
          0,
          0,
          0,
          0,
          0,
          0,
          0,
          0,
          0,
          0,
          0,
          0,
          0,
          0,
          0,
          0,
          0,
          0,
          0,
          0,
          0,
          0,
          0,
          0,
          0,
          0,
          0,
          0,
          0,
          0,
          0,
          0,
          0,
          0,
          0,
          0,
          0,
          0,
          46,
          0,
          0,
          0,
          83,
          0,
          0,
          0,
          0,
          0,
          0,
          0,
          0,
          0,
          0,
          0,
          0,
          0,
          0,
          0,
          0,
          0,
          0,
          0,
          0,
          0,
          0,
          89
         ],
         "yaxis": "y"
        },
        {
         "hovertemplate": "variable=slave_count<br>datetime=%{x}<br>value=%{y}<extra></extra>",
         "legendgroup": "slave_count",
         "line": {
          "color": "#EF553B",
          "dash": "solid"
         },
         "marker": {
          "symbol": "circle"
         },
         "mode": "lines",
         "name": "slave_count",
         "orientation": "v",
         "showlegend": true,
         "type": "scatter",
         "x": [
          "2019-12-06T00:00:00",
          "2019-12-07T00:00:00",
          "2019-12-08T00:00:00",
          "2019-12-09T00:00:00",
          "2019-12-10T00:00:00",
          "2019-12-11T00:00:00",
          "2019-12-12T00:00:00",
          "2019-12-13T00:00:00",
          "2019-12-14T00:00:00",
          "2019-12-15T00:00:00",
          "2019-12-16T00:00:00",
          "2019-12-17T00:00:00",
          "2019-12-18T00:00:00",
          "2019-12-19T00:00:00",
          "2019-12-20T00:00:00",
          "2019-12-21T00:00:00",
          "2019-12-22T00:00:00",
          "2019-12-23T00:00:00",
          "2019-12-24T00:00:00",
          "2019-12-25T00:00:00",
          "2019-12-26T00:00:00",
          "2019-12-27T00:00:00",
          "2019-12-28T00:00:00",
          "2019-12-29T00:00:00",
          "2019-12-30T00:00:00",
          "2019-12-31T00:00:00",
          "2020-01-01T00:00:00",
          "2020-01-02T00:00:00",
          "2020-01-03T00:00:00",
          "2020-01-04T00:00:00",
          "2020-01-05T00:00:00",
          "2020-01-06T00:00:00",
          "2020-01-07T00:00:00",
          "2020-01-08T00:00:00",
          "2020-01-09T00:00:00",
          "2020-01-10T00:00:00",
          "2020-01-11T00:00:00",
          "2020-01-12T00:00:00",
          "2020-01-13T00:00:00",
          "2020-01-14T00:00:00",
          "2020-01-15T00:00:00",
          "2020-01-16T00:00:00",
          "2020-01-17T00:00:00",
          "2020-01-18T00:00:00",
          "2020-01-19T00:00:00",
          "2020-01-20T00:00:00",
          "2020-01-21T00:00:00",
          "2020-01-22T00:00:00",
          "2020-01-23T00:00:00",
          "2020-01-24T00:00:00",
          "2020-01-25T00:00:00",
          "2020-01-26T00:00:00",
          "2020-01-27T00:00:00",
          "2020-01-28T00:00:00",
          "2020-01-29T00:00:00",
          "2020-01-30T00:00:00",
          "2020-01-31T00:00:00",
          "2020-02-01T00:00:00",
          "2020-02-02T00:00:00",
          "2020-02-03T00:00:00",
          "2020-02-04T00:00:00",
          "2020-02-05T00:00:00",
          "2020-02-06T00:00:00",
          "2020-02-07T00:00:00",
          "2020-02-08T00:00:00",
          "2020-02-09T00:00:00",
          "2020-02-10T00:00:00",
          "2020-02-11T00:00:00",
          "2020-02-12T00:00:00",
          "2020-02-13T00:00:00",
          "2020-02-14T00:00:00",
          "2020-02-15T00:00:00",
          "2020-02-16T00:00:00",
          "2020-02-17T00:00:00",
          "2020-02-18T00:00:00",
          "2020-02-19T00:00:00",
          "2020-02-20T00:00:00",
          "2020-02-21T00:00:00",
          "2020-02-22T00:00:00",
          "2020-02-23T00:00:00",
          "2020-02-24T00:00:00",
          "2020-02-25T00:00:00",
          "2020-02-26T00:00:00",
          "2020-02-27T00:00:00",
          "2020-02-28T00:00:00",
          "2020-02-29T00:00:00",
          "2020-03-01T00:00:00",
          "2020-03-02T00:00:00",
          "2020-03-03T00:00:00",
          "2020-03-04T00:00:00",
          "2020-03-05T00:00:00",
          "2020-03-06T00:00:00",
          "2020-03-07T00:00:00",
          "2020-03-08T00:00:00",
          "2020-03-09T00:00:00",
          "2020-03-10T00:00:00",
          "2020-03-11T00:00:00",
          "2020-03-12T00:00:00",
          "2020-03-13T00:00:00",
          "2020-03-14T00:00:00",
          "2020-03-15T00:00:00",
          "2020-03-16T00:00:00",
          "2020-03-17T00:00:00",
          "2020-03-18T00:00:00",
          "2020-03-19T00:00:00",
          "2020-03-20T00:00:00",
          "2020-03-21T00:00:00",
          "2020-03-22T00:00:00",
          "2020-03-23T00:00:00",
          "2020-03-24T00:00:00",
          "2020-03-25T00:00:00",
          "2020-03-26T00:00:00",
          "2020-03-27T00:00:00",
          "2020-03-28T00:00:00",
          "2020-03-29T00:00:00",
          "2020-03-30T00:00:00",
          "2020-03-31T00:00:00",
          "2020-04-01T00:00:00",
          "2020-04-02T00:00:00",
          "2020-04-03T00:00:00",
          "2020-04-04T00:00:00",
          "2020-04-05T00:00:00",
          "2020-04-06T00:00:00",
          "2020-04-07T00:00:00",
          "2020-04-08T00:00:00",
          "2020-04-09T00:00:00",
          "2020-04-10T00:00:00",
          "2020-04-11T00:00:00",
          "2020-04-12T00:00:00",
          "2020-04-13T00:00:00",
          "2020-04-14T00:00:00",
          "2020-04-15T00:00:00",
          "2020-04-16T00:00:00",
          "2020-04-17T00:00:00",
          "2020-04-18T00:00:00",
          "2020-04-19T00:00:00",
          "2020-04-20T00:00:00",
          "2020-04-21T00:00:00",
          "2020-04-22T00:00:00",
          "2020-04-23T00:00:00",
          "2020-04-24T00:00:00",
          "2020-04-25T00:00:00",
          "2020-04-26T00:00:00",
          "2020-04-27T00:00:00",
          "2020-04-28T00:00:00",
          "2020-04-29T00:00:00",
          "2020-04-30T00:00:00",
          "2020-05-01T00:00:00",
          "2020-05-02T00:00:00",
          "2020-05-03T00:00:00",
          "2020-05-04T00:00:00",
          "2020-05-05T00:00:00",
          "2020-05-06T00:00:00",
          "2020-05-07T00:00:00",
          "2020-05-08T00:00:00",
          "2020-05-09T00:00:00",
          "2020-05-10T00:00:00",
          "2020-05-11T00:00:00",
          "2020-05-12T00:00:00",
          "2020-05-13T00:00:00",
          "2020-05-14T00:00:00",
          "2020-05-15T00:00:00",
          "2020-05-16T00:00:00",
          "2020-05-17T00:00:00",
          "2020-05-18T00:00:00",
          "2020-05-19T00:00:00",
          "2020-05-20T00:00:00",
          "2020-05-21T00:00:00",
          "2020-05-22T00:00:00",
          "2020-05-23T00:00:00",
          "2020-05-24T00:00:00",
          "2020-05-25T00:00:00",
          "2020-05-26T00:00:00",
          "2020-05-27T00:00:00",
          "2020-05-28T00:00:00",
          "2020-05-29T00:00:00",
          "2020-05-30T00:00:00",
          "2020-05-31T00:00:00",
          "2020-06-01T00:00:00",
          "2020-06-02T00:00:00",
          "2020-06-03T00:00:00",
          "2020-06-04T00:00:00",
          "2020-06-05T00:00:00",
          "2020-06-06T00:00:00",
          "2020-06-07T00:00:00",
          "2020-06-08T00:00:00",
          "2020-06-09T00:00:00",
          "2020-06-10T00:00:00",
          "2020-06-11T00:00:00",
          "2020-06-12T00:00:00",
          "2020-06-13T00:00:00",
          "2020-06-14T00:00:00",
          "2020-06-15T00:00:00",
          "2020-06-16T00:00:00",
          "2020-06-17T00:00:00",
          "2020-06-18T00:00:00",
          "2020-06-19T00:00:00",
          "2020-06-20T00:00:00",
          "2020-06-21T00:00:00",
          "2020-06-22T00:00:00",
          "2020-06-23T00:00:00",
          "2020-06-24T00:00:00",
          "2020-06-25T00:00:00",
          "2020-06-26T00:00:00",
          "2020-06-27T00:00:00",
          "2020-06-28T00:00:00",
          "2020-06-29T00:00:00",
          "2020-06-30T00:00:00",
          "2020-07-01T00:00:00",
          "2020-07-02T00:00:00",
          "2020-07-03T00:00:00",
          "2020-07-04T00:00:00",
          "2020-07-05T00:00:00",
          "2020-07-06T00:00:00",
          "2020-07-07T00:00:00",
          "2020-07-08T00:00:00",
          "2020-07-09T00:00:00",
          "2020-07-10T00:00:00",
          "2020-07-11T00:00:00",
          "2020-07-12T00:00:00",
          "2020-07-13T00:00:00",
          "2020-07-14T00:00:00",
          "2020-07-15T00:00:00",
          "2020-07-16T00:00:00",
          "2020-07-17T00:00:00",
          "2020-07-18T00:00:00",
          "2020-07-19T00:00:00",
          "2020-07-20T00:00:00",
          "2020-07-21T00:00:00",
          "2020-07-22T00:00:00",
          "2020-07-23T00:00:00",
          "2020-07-24T00:00:00",
          "2020-07-25T00:00:00",
          "2020-07-26T00:00:00",
          "2020-07-27T00:00:00",
          "2020-07-28T00:00:00",
          "2020-07-29T00:00:00",
          "2020-07-30T00:00:00",
          "2020-07-31T00:00:00",
          "2020-08-01T00:00:00",
          "2020-08-02T00:00:00",
          "2020-08-03T00:00:00",
          "2020-08-04T00:00:00",
          "2020-08-05T00:00:00",
          "2020-08-06T00:00:00",
          "2020-08-07T00:00:00",
          "2020-08-08T00:00:00",
          "2020-08-09T00:00:00",
          "2020-08-10T00:00:00",
          "2020-08-11T00:00:00",
          "2020-08-12T00:00:00",
          "2020-08-13T00:00:00",
          "2020-08-14T00:00:00",
          "2020-08-15T00:00:00",
          "2020-08-16T00:00:00",
          "2020-08-17T00:00:00",
          "2020-08-18T00:00:00",
          "2020-08-19T00:00:00",
          "2020-08-20T00:00:00",
          "2020-08-21T00:00:00",
          "2020-08-22T00:00:00",
          "2020-08-23T00:00:00",
          "2020-08-24T00:00:00",
          "2020-08-25T00:00:00",
          "2020-08-26T00:00:00",
          "2020-08-27T00:00:00",
          "2020-08-28T00:00:00",
          "2020-08-29T00:00:00",
          "2020-08-30T00:00:00",
          "2020-08-31T00:00:00",
          "2020-09-01T00:00:00",
          "2020-09-02T00:00:00",
          "2020-09-03T00:00:00",
          "2020-09-04T00:00:00",
          "2020-09-05T00:00:00",
          "2020-09-06T00:00:00",
          "2020-09-07T00:00:00",
          "2020-09-08T00:00:00",
          "2020-09-09T00:00:00",
          "2020-09-10T00:00:00",
          "2020-09-11T00:00:00",
          "2020-09-12T00:00:00",
          "2020-09-13T00:00:00",
          "2020-09-14T00:00:00",
          "2020-09-15T00:00:00",
          "2020-09-16T00:00:00",
          "2020-09-17T00:00:00",
          "2020-09-18T00:00:00",
          "2020-09-19T00:00:00",
          "2020-09-20T00:00:00",
          "2020-09-21T00:00:00",
          "2020-09-22T00:00:00",
          "2020-09-23T00:00:00",
          "2020-09-24T00:00:00",
          "2020-09-25T00:00:00",
          "2020-09-26T00:00:00",
          "2020-09-27T00:00:00",
          "2020-09-28T00:00:00",
          "2020-09-29T00:00:00",
          "2020-09-30T00:00:00",
          "2020-10-01T00:00:00",
          "2020-10-02T00:00:00",
          "2020-10-03T00:00:00",
          "2020-10-04T00:00:00",
          "2020-10-05T00:00:00",
          "2020-10-06T00:00:00"
         ],
         "xaxis": "x",
         "y": [
          55,
          844,
          0,
          0,
          13,
          0,
          0,
          0,
          677,
          0,
          0,
          0,
          2001,
          7,
          0,
          0,
          26,
          0,
          0,
          995,
          527,
          91,
          0,
          1823,
          348,
          0,
          0,
          0,
          0,
          0,
          0,
          0,
          0,
          0,
          0,
          440,
          0,
          0,
          0,
          353,
          0,
          0,
          0,
          0,
          0,
          0,
          0,
          0,
          0,
          0,
          0,
          0,
          0,
          0,
          0,
          0,
          0,
          0,
          302,
          0,
          0,
          0,
          0,
          0,
          0,
          0,
          0,
          0,
          0,
          0,
          0,
          0,
          0,
          0,
          0,
          0,
          0,
          0,
          0,
          0,
          0,
          0,
          0,
          0,
          0,
          0,
          0,
          0,
          0,
          0,
          0,
          0,
          0,
          0,
          0,
          0,
          0,
          0,
          0,
          0,
          0,
          0,
          0,
          0,
          0,
          0,
          0,
          0,
          0,
          0,
          0,
          0,
          0,
          0,
          0,
          0,
          0,
          0,
          0,
          0,
          0,
          0,
          0,
          0,
          0,
          0,
          0,
          0,
          0,
          0,
          0,
          0,
          0,
          0,
          0,
          0,
          0,
          0,
          0,
          0,
          0,
          0,
          0,
          0,
          0,
          0,
          0,
          0,
          0,
          0,
          0,
          0,
          0,
          0,
          0,
          0,
          0,
          0,
          0,
          0,
          0,
          0,
          0,
          0,
          0,
          0,
          0,
          0,
          0,
          0,
          0,
          0,
          0,
          0,
          0,
          0,
          0,
          0,
          0,
          0,
          0,
          0,
          0,
          0,
          0,
          0,
          0,
          0,
          0,
          0,
          0,
          0,
          0,
          0,
          0,
          0,
          0,
          0,
          0,
          0,
          0,
          0,
          0,
          0,
          0,
          0,
          0,
          0,
          0,
          0,
          0,
          0,
          0,
          0,
          0,
          0,
          0,
          0,
          0,
          0,
          0,
          0,
          0,
          0,
          0,
          0,
          0,
          0,
          0,
          0,
          0,
          0,
          0,
          0,
          0,
          0,
          0,
          0,
          0,
          0,
          0,
          0,
          0,
          0,
          0,
          0,
          0,
          0,
          0,
          0,
          0,
          0,
          0,
          0,
          0,
          0,
          0,
          0,
          0,
          0,
          0,
          0,
          0,
          0,
          0,
          0,
          0,
          0,
          0,
          0,
          0,
          0,
          0,
          0,
          0,
          0,
          0,
          0,
          31,
          0,
          0,
          0,
          58,
          0,
          0,
          0,
          0,
          0,
          0,
          0,
          0,
          0,
          0,
          0,
          0,
          0,
          0,
          0,
          0,
          0,
          0,
          0,
          0,
          0,
          0,
          50
         ],
         "yaxis": "y"
        }
       ],
       "layout": {
        "autosize": true,
        "legend": {
         "title": {
          "text": "variable"
         },
         "tracegroupgap": 0
        },
        "margin": {
         "t": 60
        },
        "template": {
         "data": {
          "bar": [
           {
            "error_x": {
             "color": "#2a3f5f"
            },
            "error_y": {
             "color": "#2a3f5f"
            },
            "marker": {
             "line": {
              "color": "#E5ECF6",
              "width": 0.5
             },
             "pattern": {
              "fillmode": "overlay",
              "size": 10,
              "solidity": 0.2
             }
            },
            "type": "bar"
           }
          ],
          "barpolar": [
           {
            "marker": {
             "line": {
              "color": "#E5ECF6",
              "width": 0.5
             },
             "pattern": {
              "fillmode": "overlay",
              "size": 10,
              "solidity": 0.2
             }
            },
            "type": "barpolar"
           }
          ],
          "carpet": [
           {
            "aaxis": {
             "endlinecolor": "#2a3f5f",
             "gridcolor": "white",
             "linecolor": "white",
             "minorgridcolor": "white",
             "startlinecolor": "#2a3f5f"
            },
            "baxis": {
             "endlinecolor": "#2a3f5f",
             "gridcolor": "white",
             "linecolor": "white",
             "minorgridcolor": "white",
             "startlinecolor": "#2a3f5f"
            },
            "type": "carpet"
           }
          ],
          "choropleth": [
           {
            "colorbar": {
             "outlinewidth": 0,
             "ticks": ""
            },
            "type": "choropleth"
           }
          ],
          "contour": [
           {
            "colorbar": {
             "outlinewidth": 0,
             "ticks": ""
            },
            "colorscale": [
             [
              0,
              "#0d0887"
             ],
             [
              0.1111111111111111,
              "#46039f"
             ],
             [
              0.2222222222222222,
              "#7201a8"
             ],
             [
              0.3333333333333333,
              "#9c179e"
             ],
             [
              0.4444444444444444,
              "#bd3786"
             ],
             [
              0.5555555555555556,
              "#d8576b"
             ],
             [
              0.6666666666666666,
              "#ed7953"
             ],
             [
              0.7777777777777778,
              "#fb9f3a"
             ],
             [
              0.8888888888888888,
              "#fdca26"
             ],
             [
              1,
              "#f0f921"
             ]
            ],
            "type": "contour"
           }
          ],
          "contourcarpet": [
           {
            "colorbar": {
             "outlinewidth": 0,
             "ticks": ""
            },
            "type": "contourcarpet"
           }
          ],
          "heatmap": [
           {
            "colorbar": {
             "outlinewidth": 0,
             "ticks": ""
            },
            "colorscale": [
             [
              0,
              "#0d0887"
             ],
             [
              0.1111111111111111,
              "#46039f"
             ],
             [
              0.2222222222222222,
              "#7201a8"
             ],
             [
              0.3333333333333333,
              "#9c179e"
             ],
             [
              0.4444444444444444,
              "#bd3786"
             ],
             [
              0.5555555555555556,
              "#d8576b"
             ],
             [
              0.6666666666666666,
              "#ed7953"
             ],
             [
              0.7777777777777778,
              "#fb9f3a"
             ],
             [
              0.8888888888888888,
              "#fdca26"
             ],
             [
              1,
              "#f0f921"
             ]
            ],
            "type": "heatmap"
           }
          ],
          "heatmapgl": [
           {
            "colorbar": {
             "outlinewidth": 0,
             "ticks": ""
            },
            "colorscale": [
             [
              0,
              "#0d0887"
             ],
             [
              0.1111111111111111,
              "#46039f"
             ],
             [
              0.2222222222222222,
              "#7201a8"
             ],
             [
              0.3333333333333333,
              "#9c179e"
             ],
             [
              0.4444444444444444,
              "#bd3786"
             ],
             [
              0.5555555555555556,
              "#d8576b"
             ],
             [
              0.6666666666666666,
              "#ed7953"
             ],
             [
              0.7777777777777778,
              "#fb9f3a"
             ],
             [
              0.8888888888888888,
              "#fdca26"
             ],
             [
              1,
              "#f0f921"
             ]
            ],
            "type": "heatmapgl"
           }
          ],
          "histogram": [
           {
            "marker": {
             "pattern": {
              "fillmode": "overlay",
              "size": 10,
              "solidity": 0.2
             }
            },
            "type": "histogram"
           }
          ],
          "histogram2d": [
           {
            "colorbar": {
             "outlinewidth": 0,
             "ticks": ""
            },
            "colorscale": [
             [
              0,
              "#0d0887"
             ],
             [
              0.1111111111111111,
              "#46039f"
             ],
             [
              0.2222222222222222,
              "#7201a8"
             ],
             [
              0.3333333333333333,
              "#9c179e"
             ],
             [
              0.4444444444444444,
              "#bd3786"
             ],
             [
              0.5555555555555556,
              "#d8576b"
             ],
             [
              0.6666666666666666,
              "#ed7953"
             ],
             [
              0.7777777777777778,
              "#fb9f3a"
             ],
             [
              0.8888888888888888,
              "#fdca26"
             ],
             [
              1,
              "#f0f921"
             ]
            ],
            "type": "histogram2d"
           }
          ],
          "histogram2dcontour": [
           {
            "colorbar": {
             "outlinewidth": 0,
             "ticks": ""
            },
            "colorscale": [
             [
              0,
              "#0d0887"
             ],
             [
              0.1111111111111111,
              "#46039f"
             ],
             [
              0.2222222222222222,
              "#7201a8"
             ],
             [
              0.3333333333333333,
              "#9c179e"
             ],
             [
              0.4444444444444444,
              "#bd3786"
             ],
             [
              0.5555555555555556,
              "#d8576b"
             ],
             [
              0.6666666666666666,
              "#ed7953"
             ],
             [
              0.7777777777777778,
              "#fb9f3a"
             ],
             [
              0.8888888888888888,
              "#fdca26"
             ],
             [
              1,
              "#f0f921"
             ]
            ],
            "type": "histogram2dcontour"
           }
          ],
          "mesh3d": [
           {
            "colorbar": {
             "outlinewidth": 0,
             "ticks": ""
            },
            "type": "mesh3d"
           }
          ],
          "parcoords": [
           {
            "line": {
             "colorbar": {
              "outlinewidth": 0,
              "ticks": ""
             }
            },
            "type": "parcoords"
           }
          ],
          "pie": [
           {
            "automargin": true,
            "type": "pie"
           }
          ],
          "scatter": [
           {
            "marker": {
             "colorbar": {
              "outlinewidth": 0,
              "ticks": ""
             }
            },
            "type": "scatter"
           }
          ],
          "scatter3d": [
           {
            "line": {
             "colorbar": {
              "outlinewidth": 0,
              "ticks": ""
             }
            },
            "marker": {
             "colorbar": {
              "outlinewidth": 0,
              "ticks": ""
             }
            },
            "type": "scatter3d"
           }
          ],
          "scattercarpet": [
           {
            "marker": {
             "colorbar": {
              "outlinewidth": 0,
              "ticks": ""
             }
            },
            "type": "scattercarpet"
           }
          ],
          "scattergeo": [
           {
            "marker": {
             "colorbar": {
              "outlinewidth": 0,
              "ticks": ""
             }
            },
            "type": "scattergeo"
           }
          ],
          "scattergl": [
           {
            "marker": {
             "colorbar": {
              "outlinewidth": 0,
              "ticks": ""
             }
            },
            "type": "scattergl"
           }
          ],
          "scattermapbox": [
           {
            "marker": {
             "colorbar": {
              "outlinewidth": 0,
              "ticks": ""
             }
            },
            "type": "scattermapbox"
           }
          ],
          "scatterpolar": [
           {
            "marker": {
             "colorbar": {
              "outlinewidth": 0,
              "ticks": ""
             }
            },
            "type": "scatterpolar"
           }
          ],
          "scatterpolargl": [
           {
            "marker": {
             "colorbar": {
              "outlinewidth": 0,
              "ticks": ""
             }
            },
            "type": "scatterpolargl"
           }
          ],
          "scatterternary": [
           {
            "marker": {
             "colorbar": {
              "outlinewidth": 0,
              "ticks": ""
             }
            },
            "type": "scatterternary"
           }
          ],
          "surface": [
           {
            "colorbar": {
             "outlinewidth": 0,
             "ticks": ""
            },
            "colorscale": [
             [
              0,
              "#0d0887"
             ],
             [
              0.1111111111111111,
              "#46039f"
             ],
             [
              0.2222222222222222,
              "#7201a8"
             ],
             [
              0.3333333333333333,
              "#9c179e"
             ],
             [
              0.4444444444444444,
              "#bd3786"
             ],
             [
              0.5555555555555556,
              "#d8576b"
             ],
             [
              0.6666666666666666,
              "#ed7953"
             ],
             [
              0.7777777777777778,
              "#fb9f3a"
             ],
             [
              0.8888888888888888,
              "#fdca26"
             ],
             [
              1,
              "#f0f921"
             ]
            ],
            "type": "surface"
           }
          ],
          "table": [
           {
            "cells": {
             "fill": {
              "color": "#EBF0F8"
             },
             "line": {
              "color": "white"
             }
            },
            "header": {
             "fill": {
              "color": "#C8D4E3"
             },
             "line": {
              "color": "white"
             }
            },
            "type": "table"
           }
          ]
         },
         "layout": {
          "annotationdefaults": {
           "arrowcolor": "#2a3f5f",
           "arrowhead": 0,
           "arrowwidth": 1
          },
          "autotypenumbers": "strict",
          "coloraxis": {
           "colorbar": {
            "outlinewidth": 0,
            "ticks": ""
           }
          },
          "colorscale": {
           "diverging": [
            [
             0,
             "#8e0152"
            ],
            [
             0.1,
             "#c51b7d"
            ],
            [
             0.2,
             "#de77ae"
            ],
            [
             0.3,
             "#f1b6da"
            ],
            [
             0.4,
             "#fde0ef"
            ],
            [
             0.5,
             "#f7f7f7"
            ],
            [
             0.6,
             "#e6f5d0"
            ],
            [
             0.7,
             "#b8e186"
            ],
            [
             0.8,
             "#7fbc41"
            ],
            [
             0.9,
             "#4d9221"
            ],
            [
             1,
             "#276419"
            ]
           ],
           "sequential": [
            [
             0,
             "#0d0887"
            ],
            [
             0.1111111111111111,
             "#46039f"
            ],
            [
             0.2222222222222222,
             "#7201a8"
            ],
            [
             0.3333333333333333,
             "#9c179e"
            ],
            [
             0.4444444444444444,
             "#bd3786"
            ],
            [
             0.5555555555555556,
             "#d8576b"
            ],
            [
             0.6666666666666666,
             "#ed7953"
            ],
            [
             0.7777777777777778,
             "#fb9f3a"
            ],
            [
             0.8888888888888888,
             "#fdca26"
            ],
            [
             1,
             "#f0f921"
            ]
           ],
           "sequentialminus": [
            [
             0,
             "#0d0887"
            ],
            [
             0.1111111111111111,
             "#46039f"
            ],
            [
             0.2222222222222222,
             "#7201a8"
            ],
            [
             0.3333333333333333,
             "#9c179e"
            ],
            [
             0.4444444444444444,
             "#bd3786"
            ],
            [
             0.5555555555555556,
             "#d8576b"
            ],
            [
             0.6666666666666666,
             "#ed7953"
            ],
            [
             0.7777777777777778,
             "#fb9f3a"
            ],
            [
             0.8888888888888888,
             "#fdca26"
            ],
            [
             1,
             "#f0f921"
            ]
           ]
          },
          "colorway": [
           "#636efa",
           "#EF553B",
           "#00cc96",
           "#ab63fa",
           "#FFA15A",
           "#19d3f3",
           "#FF6692",
           "#B6E880",
           "#FF97FF",
           "#FECB52"
          ],
          "font": {
           "color": "#2a3f5f"
          },
          "geo": {
           "bgcolor": "white",
           "lakecolor": "white",
           "landcolor": "#E5ECF6",
           "showlakes": true,
           "showland": true,
           "subunitcolor": "white"
          },
          "hoverlabel": {
           "align": "left"
          },
          "hovermode": "closest",
          "mapbox": {
           "style": "light"
          },
          "paper_bgcolor": "white",
          "plot_bgcolor": "#E5ECF6",
          "polar": {
           "angularaxis": {
            "gridcolor": "white",
            "linecolor": "white",
            "ticks": ""
           },
           "bgcolor": "#E5ECF6",
           "radialaxis": {
            "gridcolor": "white",
            "linecolor": "white",
            "ticks": ""
           }
          },
          "scene": {
           "xaxis": {
            "backgroundcolor": "#E5ECF6",
            "gridcolor": "white",
            "gridwidth": 2,
            "linecolor": "white",
            "showbackground": true,
            "ticks": "",
            "zerolinecolor": "white"
           },
           "yaxis": {
            "backgroundcolor": "#E5ECF6",
            "gridcolor": "white",
            "gridwidth": 2,
            "linecolor": "white",
            "showbackground": true,
            "ticks": "",
            "zerolinecolor": "white"
           },
           "zaxis": {
            "backgroundcolor": "#E5ECF6",
            "gridcolor": "white",
            "gridwidth": 2,
            "linecolor": "white",
            "showbackground": true,
            "ticks": "",
            "zerolinecolor": "white"
           }
          },
          "shapedefaults": {
           "line": {
            "color": "#2a3f5f"
           }
          },
          "ternary": {
           "aaxis": {
            "gridcolor": "white",
            "linecolor": "white",
            "ticks": ""
           },
           "baxis": {
            "gridcolor": "white",
            "linecolor": "white",
            "ticks": ""
           },
           "bgcolor": "#E5ECF6",
           "caxis": {
            "gridcolor": "white",
            "linecolor": "white",
            "ticks": ""
           }
          },
          "title": {
           "x": 0.05
          },
          "xaxis": {
           "automargin": true,
           "gridcolor": "white",
           "linecolor": "white",
           "ticks": "",
           "title": {
            "standoff": 15
           },
           "zerolinecolor": "white",
           "zerolinewidth": 2
          },
          "yaxis": {
           "automargin": true,
           "gridcolor": "white",
           "linecolor": "white",
           "ticks": "",
           "title": {
            "standoff": 15
           },
           "zerolinecolor": "white",
           "zerolinewidth": 2
          }
         }
        },
        "xaxis": {
         "anchor": "y",
         "autorange": false,
         "domain": [
          0,
          1
         ],
         "range": [
          "2019-12-06",
          "2020-02-09 06:57:00.4547"
         ],
         "title": {
          "text": "datetime"
         },
         "type": "date"
        },
        "yaxis": {
         "anchor": "x",
         "autorange": false,
         "domain": [
          0,
          1
         ],
         "range": [
          -77.89086405436197,
          5706.629337965839
         ],
         "title": {
          "text": "value"
         },
         "type": "linear"
        }
       }
      },
      "image/png": "[encoded data removed]",
      "text/html": [
       "<div>                            <div id=\"ae82b776-d432-414a-8dc8-e904125ebe20\" class=\"plotly-graph-div\" style=\"height:525px; width:100%;\"></div>            <script type=\"text/javascript\">                require([\"plotly\"], function(Plotly) {                    window.PLOTLYENV=window.PLOTLYENV || {};                                    if (document.getElementById(\"ae82b776-d432-414a-8dc8-e904125ebe20\")) {                    Plotly.newPlot(                        \"ae82b776-d432-414a-8dc8-e904125ebe20\",                        [{\"hovertemplate\":\"variable=master_count<br>datetime=%{x}<br>value=%{y}<extra></extra>\",\"legendgroup\":\"master_count\",\"line\":{\"color\":\"#636efa\",\"dash\":\"solid\"},\"marker\":{\"symbol\":\"circle\"},\"mode\":\"lines\",\"name\":\"master_count\",\"orientation\":\"v\",\"showlegend\":true,\"type\":\"scatter\",\"x\":[\"2019-12-06T00:00:00\",\"2019-12-07T00:00:00\",\"2019-12-08T00:00:00\",\"2019-12-09T00:00:00\",\"2019-12-10T00:00:00\",\"2019-12-11T00:00:00\",\"2019-12-12T00:00:00\",\"2019-12-13T00:00:00\",\"2019-12-14T00:00:00\",\"2019-12-15T00:00:00\",\"2019-12-16T00:00:00\",\"2019-12-17T00:00:00\",\"2019-12-18T00:00:00\",\"2019-12-19T00:00:00\",\"2019-12-20T00:00:00\",\"2019-12-21T00:00:00\",\"2019-12-22T00:00:00\",\"2019-12-23T00:00:00\",\"2019-12-24T00:00:00\",\"2019-12-25T00:00:00\",\"2019-12-26T00:00:00\",\"2019-12-27T00:00:00\",\"2019-12-28T00:00:00\",\"2019-12-29T00:00:00\",\"2019-12-30T00:00:00\",\"2019-12-31T00:00:00\",\"2020-01-01T00:00:00\",\"2020-01-02T00:00:00\",\"2020-01-03T00:00:00\",\"2020-01-04T00:00:00\",\"2020-01-05T00:00:00\",\"2020-01-06T00:00:00\",\"2020-01-07T00:00:00\",\"2020-01-08T00:00:00\",\"2020-01-09T00:00:00\",\"2020-01-10T00:00:00\",\"2020-01-11T00:00:00\",\"2020-01-12T00:00:00\",\"2020-01-13T00:00:00\",\"2020-01-14T00:00:00\",\"2020-01-15T00:00:00\",\"2020-01-16T00:00:00\",\"2020-01-17T00:00:00\",\"2020-01-18T00:00:00\",\"2020-01-19T00:00:00\",\"2020-01-20T00:00:00\",\"2020-01-21T00:00:00\",\"2020-01-22T00:00:00\",\"2020-01-23T00:00:00\",\"2020-01-24T00:00:00\",\"2020-01-25T00:00:00\",\"2020-01-26T00:00:00\",\"2020-01-27T00:00:00\",\"2020-01-28T00:00:00\",\"2020-01-29T00:00:00\",\"2020-01-30T00:00:00\",\"2020-01-31T00:00:00\",\"2020-02-01T00:00:00\",\"2020-02-02T00:00:00\",\"2020-02-03T00:00:00\",\"2020-02-04T00:00:00\",\"2020-02-05T00:00:00\",\"2020-02-06T00:00:00\",\"2020-02-07T00:00:00\",\"2020-02-08T00:00:00\",\"2020-02-09T00:00:00\",\"2020-02-10T00:00:00\",\"2020-02-11T00:00:00\",\"2020-02-12T00:00:00\",\"2020-02-13T00:00:00\",\"2020-02-14T00:00:00\",\"2020-02-15T00:00:00\",\"2020-02-16T00:00:00\",\"2020-02-17T00:00:00\",\"2020-02-18T00:00:00\",\"2020-02-19T00:00:00\",\"2020-02-20T00:00:00\",\"2020-02-21T00:00:00\",\"2020-02-22T00:00:00\",\"2020-02-23T00:00:00\",\"2020-02-24T00:00:00\",\"2020-02-25T00:00:00\",\"2020-02-26T00:00:00\",\"2020-02-27T00:00:00\",\"2020-02-28T00:00:00\",\"2020-02-29T00:00:00\",\"2020-03-01T00:00:00\",\"2020-03-02T00:00:00\",\"2020-03-03T00:00:00\",\"2020-03-04T00:00:00\",\"2020-03-05T00:00:00\",\"2020-03-06T00:00:00\",\"2020-03-07T00:00:00\",\"2020-03-08T00:00:00\",\"2020-03-09T00:00:00\",\"2020-03-10T00:00:00\",\"2020-03-11T00:00:00\",\"2020-03-12T00:00:00\",\"2020-03-13T00:00:00\",\"2020-03-14T00:00:00\",\"2020-03-15T00:00:00\",\"2020-03-16T00:00:00\",\"2020-03-17T00:00:00\",\"2020-03-18T00:00:00\",\"2020-03-19T00:00:00\",\"2020-03-20T00:00:00\",\"2020-03-21T00:00:00\",\"2020-03-22T00:00:00\",\"2020-03-23T00:00:00\",\"2020-03-24T00:00:00\",\"2020-03-25T00:00:00\",\"2020-03-26T00:00:00\",\"2020-03-27T00:00:00\",\"2020-03-28T00:00:00\",\"2020-03-29T00:00:00\",\"2020-03-30T00:00:00\",\"2020-03-31T00:00:00\",\"2020-04-01T00:00:00\",\"2020-04-02T00:00:00\",\"2020-04-03T00:00:00\",\"2020-04-04T00:00:00\",\"2020-04-05T00:00:00\",\"2020-04-06T00:00:00\",\"2020-04-07T00:00:00\",\"2020-04-08T00:00:00\",\"2020-04-09T00:00:00\",\"2020-04-10T00:00:00\",\"2020-04-11T00:00:00\",\"2020-04-12T00:00:00\",\"2020-04-13T00:00:00\",\"2020-04-14T00:00:00\",\"2020-04-15T00:00:00\",\"2020-04-16T00:00:00\",\"2020-04-17T00:00:00\",\"2020-04-18T00:00:00\",\"2020-04-19T00:00:00\",\"2020-04-20T00:00:00\",\"2020-04-21T00:00:00\",\"2020-04-22T00:00:00\",\"2020-04-23T00:00:00\",\"2020-04-24T00:00:00\",\"2020-04-25T00:00:00\",\"2020-04-26T00:00:00\",\"2020-04-27T00:00:00\",\"2020-04-28T00:00:00\",\"2020-04-29T00:00:00\",\"2020-04-30T00:00:00\",\"2020-05-01T00:00:00\",\"2020-05-02T00:00:00\",\"2020-05-03T00:00:00\",\"2020-05-04T00:00:00\",\"2020-05-05T00:00:00\",\"2020-05-06T00:00:00\",\"2020-05-07T00:00:00\",\"2020-05-08T00:00:00\",\"2020-05-09T00:00:00\",\"2020-05-10T00:00:00\",\"2020-05-11T00:00:00\",\"2020-05-12T00:00:00\",\"2020-05-13T00:00:00\",\"2020-05-14T00:00:00\",\"2020-05-15T00:00:00\",\"2020-05-16T00:00:00\",\"2020-05-17T00:00:00\",\"2020-05-18T00:00:00\",\"2020-05-19T00:00:00\",\"2020-05-20T00:00:00\",\"2020-05-21T00:00:00\",\"2020-05-22T00:00:00\",\"2020-05-23T00:00:00\",\"2020-05-24T00:00:00\",\"2020-05-25T00:00:00\",\"2020-05-26T00:00:00\",\"2020-05-27T00:00:00\",\"2020-05-28T00:00:00\",\"2020-05-29T00:00:00\",\"2020-05-30T00:00:00\",\"2020-05-31T00:00:00\",\"2020-06-01T00:00:00\",\"2020-06-02T00:00:00\",\"2020-06-03T00:00:00\",\"2020-06-04T00:00:00\",\"2020-06-05T00:00:00\",\"2020-06-06T00:00:00\",\"2020-06-07T00:00:00\",\"2020-06-08T00:00:00\",\"2020-06-09T00:00:00\",\"2020-06-10T00:00:00\",\"2020-06-11T00:00:00\",\"2020-06-12T00:00:00\",\"2020-06-13T00:00:00\",\"2020-06-14T00:00:00\",\"2020-06-15T00:00:00\",\"2020-06-16T00:00:00\",\"2020-06-17T00:00:00\",\"2020-06-18T00:00:00\",\"2020-06-19T00:00:00\",\"2020-06-20T00:00:00\",\"2020-06-21T00:00:00\",\"2020-06-22T00:00:00\",\"2020-06-23T00:00:00\",\"2020-06-24T00:00:00\",\"2020-06-25T00:00:00\",\"2020-06-26T00:00:00\",\"2020-06-27T00:00:00\",\"2020-06-28T00:00:00\",\"2020-06-29T00:00:00\",\"2020-06-30T00:00:00\",\"2020-07-01T00:00:00\",\"2020-07-02T00:00:00\",\"2020-07-03T00:00:00\",\"2020-07-04T00:00:00\",\"2020-07-05T00:00:00\",\"2020-07-06T00:00:00\",\"2020-07-07T00:00:00\",\"2020-07-08T00:00:00\",\"2020-07-09T00:00:00\",\"2020-07-10T00:00:00\",\"2020-07-11T00:00:00\",\"2020-07-12T00:00:00\",\"2020-07-13T00:00:00\",\"2020-07-14T00:00:00\",\"2020-07-15T00:00:00\",\"2020-07-16T00:00:00\",\"2020-07-17T00:00:00\",\"2020-07-18T00:00:00\",\"2020-07-19T00:00:00\",\"2020-07-20T00:00:00\",\"2020-07-21T00:00:00\",\"2020-07-22T00:00:00\",\"2020-07-23T00:00:00\",\"2020-07-24T00:00:00\",\"2020-07-25T00:00:00\",\"2020-07-26T00:00:00\",\"2020-07-27T00:00:00\",\"2020-07-28T00:00:00\",\"2020-07-29T00:00:00\",\"2020-07-30T00:00:00\",\"2020-07-31T00:00:00\",\"2020-08-01T00:00:00\",\"2020-08-02T00:00:00\",\"2020-08-03T00:00:00\",\"2020-08-04T00:00:00\",\"2020-08-05T00:00:00\",\"2020-08-06T00:00:00\",\"2020-08-07T00:00:00\",\"2020-08-08T00:00:00\",\"2020-08-09T00:00:00\",\"2020-08-10T00:00:00\",\"2020-08-11T00:00:00\",\"2020-08-12T00:00:00\",\"2020-08-13T00:00:00\",\"2020-08-14T00:00:00\",\"2020-08-15T00:00:00\",\"2020-08-16T00:00:00\",\"2020-08-17T00:00:00\",\"2020-08-18T00:00:00\",\"2020-08-19T00:00:00\",\"2020-08-20T00:00:00\",\"2020-08-21T00:00:00\",\"2020-08-22T00:00:00\",\"2020-08-23T00:00:00\",\"2020-08-24T00:00:00\",\"2020-08-25T00:00:00\",\"2020-08-26T00:00:00\",\"2020-08-27T00:00:00\",\"2020-08-28T00:00:00\",\"2020-08-29T00:00:00\",\"2020-08-30T00:00:00\",\"2020-08-31T00:00:00\",\"2020-09-01T00:00:00\",\"2020-09-02T00:00:00\",\"2020-09-03T00:00:00\",\"2020-09-04T00:00:00\",\"2020-09-05T00:00:00\",\"2020-09-06T00:00:00\",\"2020-09-07T00:00:00\",\"2020-09-08T00:00:00\",\"2020-09-09T00:00:00\",\"2020-09-10T00:00:00\",\"2020-09-11T00:00:00\",\"2020-09-12T00:00:00\",\"2020-09-13T00:00:00\",\"2020-09-14T00:00:00\",\"2020-09-15T00:00:00\",\"2020-09-16T00:00:00\",\"2020-09-17T00:00:00\",\"2020-09-18T00:00:00\",\"2020-09-19T00:00:00\",\"2020-09-20T00:00:00\",\"2020-09-21T00:00:00\",\"2020-09-22T00:00:00\",\"2020-09-23T00:00:00\",\"2020-09-24T00:00:00\",\"2020-09-25T00:00:00\",\"2020-09-26T00:00:00\",\"2020-09-27T00:00:00\",\"2020-09-28T00:00:00\",\"2020-09-29T00:00:00\",\"2020-09-30T00:00:00\",\"2020-10-01T00:00:00\",\"2020-10-02T00:00:00\",\"2020-10-03T00:00:00\",\"2020-10-04T00:00:00\",\"2020-10-05T00:00:00\",\"2020-10-06T00:00:00\"],\"xaxis\":\"x\",\"y\":[112,5213,0,0,11,0,0,0,1548,0,0,0,5587,36,0,0,3,0,0,2491,2222,719,0,5008,899,0,0,0,0,0,0,0,0,0,0,358,0,0,0,1959,0,0,0,0,0,0,0,0,0,0,0,0,0,0,0,0,0,0,469,0,0,0,0,0,0,0,0,0,0,0,0,0,0,0,0,0,0,0,0,0,0,0,0,0,0,0,0,0,0,0,0,0,0,0,0,0,0,0,0,0,0,0,0,0,0,0,0,0,0,0,0,0,0,0,0,0,0,0,0,0,0,0,0,0,0,0,0,0,0,0,0,0,0,0,0,0,0,0,0,0,0,0,0,0,0,0,0,0,0,0,0,0,0,0,0,0,0,0,0,0,0,0,0,0,0,0,0,0,0,0,0,0,0,0,0,0,0,0,0,0,0,0,0,0,0,0,0,0,0,0,0,0,0,0,0,0,0,0,0,0,0,0,0,0,0,0,0,0,0,0,0,0,0,0,0,0,0,0,0,0,0,0,0,0,0,0,0,0,0,0,0,0,0,0,0,0,0,0,0,0,0,0,0,0,0,0,0,0,0,0,0,0,0,0,0,0,0,0,0,0,0,0,0,0,0,0,0,0,0,0,0,0,0,0,0,0,0,0,46,0,0,0,83,0,0,0,0,0,0,0,0,0,0,0,0,0,0,0,0,0,0,0,0,0,0,89],\"yaxis\":\"y\"},{\"hovertemplate\":\"variable=slave_count<br>datetime=%{x}<br>value=%{y}<extra></extra>\",\"legendgroup\":\"slave_count\",\"line\":{\"color\":\"#EF553B\",\"dash\":\"solid\"},\"marker\":{\"symbol\":\"circle\"},\"mode\":\"lines\",\"name\":\"slave_count\",\"orientation\":\"v\",\"showlegend\":true,\"type\":\"scatter\",\"x\":[\"2019-12-06T00:00:00\",\"2019-12-07T00:00:00\",\"2019-12-08T00:00:00\",\"2019-12-09T00:00:00\",\"2019-12-10T00:00:00\",\"2019-12-11T00:00:00\",\"2019-12-12T00:00:00\",\"2019-12-13T00:00:00\",\"2019-12-14T00:00:00\",\"2019-12-15T00:00:00\",\"2019-12-16T00:00:00\",\"2019-12-17T00:00:00\",\"2019-12-18T00:00:00\",\"2019-12-19T00:00:00\",\"2019-12-20T00:00:00\",\"2019-12-21T00:00:00\",\"2019-12-22T00:00:00\",\"2019-12-23T00:00:00\",\"2019-12-24T00:00:00\",\"2019-12-25T00:00:00\",\"2019-12-26T00:00:00\",\"2019-12-27T00:00:00\",\"2019-12-28T00:00:00\",\"2019-12-29T00:00:00\",\"2019-12-30T00:00:00\",\"2019-12-31T00:00:00\",\"2020-01-01T00:00:00\",\"2020-01-02T00:00:00\",\"2020-01-03T00:00:00\",\"2020-01-04T00:00:00\",\"2020-01-05T00:00:00\",\"2020-01-06T00:00:00\",\"2020-01-07T00:00:00\",\"2020-01-08T00:00:00\",\"2020-01-09T00:00:00\",\"2020-01-10T00:00:00\",\"2020-01-11T00:00:00\",\"2020-01-12T00:00:00\",\"2020-01-13T00:00:00\",\"2020-01-14T00:00:00\",\"2020-01-15T00:00:00\",\"2020-01-16T00:00:00\",\"2020-01-17T00:00:00\",\"2020-01-18T00:00:00\",\"2020-01-19T00:00:00\",\"2020-01-20T00:00:00\",\"2020-01-21T00:00:00\",\"2020-01-22T00:00:00\",\"2020-01-23T00:00:00\",\"2020-01-24T00:00:00\",\"2020-01-25T00:00:00\",\"2020-01-26T00:00:00\",\"2020-01-27T00:00:00\",\"2020-01-28T00:00:00\",\"2020-01-29T00:00:00\",\"2020-01-30T00:00:00\",\"2020-01-31T00:00:00\",\"2020-02-01T00:00:00\",\"2020-02-02T00:00:00\",\"2020-02-03T00:00:00\",\"2020-02-04T00:00:00\",\"2020-02-05T00:00:00\",\"2020-02-06T00:00:00\",\"2020-02-07T00:00:00\",\"2020-02-08T00:00:00\",\"2020-02-09T00:00:00\",\"2020-02-10T00:00:00\",\"2020-02-11T00:00:00\",\"2020-02-12T00:00:00\",\"2020-02-13T00:00:00\",\"2020-02-14T00:00:00\",\"2020-02-15T00:00:00\",\"2020-02-16T00:00:00\",\"2020-02-17T00:00:00\",\"2020-02-18T00:00:00\",\"2020-02-19T00:00:00\",\"2020-02-20T00:00:00\",\"2020-02-21T00:00:00\",\"2020-02-22T00:00:00\",\"2020-02-23T00:00:00\",\"2020-02-24T00:00:00\",\"2020-02-25T00:00:00\",\"2020-02-26T00:00:00\",\"2020-02-27T00:00:00\",\"2020-02-28T00:00:00\",\"2020-02-29T00:00:00\",\"2020-03-01T00:00:00\",\"2020-03-02T00:00:00\",\"2020-03-03T00:00:00\",\"2020-03-04T00:00:00\",\"2020-03-05T00:00:00\",\"2020-03-06T00:00:00\",\"2020-03-07T00:00:00\",\"2020-03-08T00:00:00\",\"2020-03-09T00:00:00\",\"2020-03-10T00:00:00\",\"2020-03-11T00:00:00\",\"2020-03-12T00:00:00\",\"2020-03-13T00:00:00\",\"2020-03-14T00:00:00\",\"2020-03-15T00:00:00\",\"2020-03-16T00:00:00\",\"2020-03-17T00:00:00\",\"2020-03-18T00:00:00\",\"2020-03-19T00:00:00\",\"2020-03-20T00:00:00\",\"2020-03-21T00:00:00\",\"2020-03-22T00:00:00\",\"2020-03-23T00:00:00\",\"2020-03-24T00:00:00\",\"2020-03-25T00:00:00\",\"2020-03-26T00:00:00\",\"2020-03-27T00:00:00\",\"2020-03-28T00:00:00\",\"2020-03-29T00:00:00\",\"2020-03-30T00:00:00\",\"2020-03-31T00:00:00\",\"2020-04-01T00:00:00\",\"2020-04-02T00:00:00\",\"2020-04-03T00:00:00\",\"2020-04-04T00:00:00\",\"2020-04-05T00:00:00\",\"2020-04-06T00:00:00\",\"2020-04-07T00:00:00\",\"2020-04-08T00:00:00\",\"2020-04-09T00:00:00\",\"2020-04-10T00:00:00\",\"2020-04-11T00:00:00\",\"2020-04-12T00:00:00\",\"2020-04-13T00:00:00\",\"2020-04-14T00:00:00\",\"2020-04-15T00:00:00\",\"2020-04-16T00:00:00\",\"2020-04-17T00:00:00\",\"2020-04-18T00:00:00\",\"2020-04-19T00:00:00\",\"2020-04-20T00:00:00\",\"2020-04-21T00:00:00\",\"2020-04-22T00:00:00\",\"2020-04-23T00:00:00\",\"2020-04-24T00:00:00\",\"2020-04-25T00:00:00\",\"2020-04-26T00:00:00\",\"2020-04-27T00:00:00\",\"2020-04-28T00:00:00\",\"2020-04-29T00:00:00\",\"2020-04-30T00:00:00\",\"2020-05-01T00:00:00\",\"2020-05-02T00:00:00\",\"2020-05-03T00:00:00\",\"2020-05-04T00:00:00\",\"2020-05-05T00:00:00\",\"2020-05-06T00:00:00\",\"2020-05-07T00:00:00\",\"2020-05-08T00:00:00\",\"2020-05-09T00:00:00\",\"2020-05-10T00:00:00\",\"2020-05-11T00:00:00\",\"2020-05-12T00:00:00\",\"2020-05-13T00:00:00\",\"2020-05-14T00:00:00\",\"2020-05-15T00:00:00\",\"2020-05-16T00:00:00\",\"2020-05-17T00:00:00\",\"2020-05-18T00:00:00\",\"2020-05-19T00:00:00\",\"2020-05-20T00:00:00\",\"2020-05-21T00:00:00\",\"2020-05-22T00:00:00\",\"2020-05-23T00:00:00\",\"2020-05-24T00:00:00\",\"2020-05-25T00:00:00\",\"2020-05-26T00:00:00\",\"2020-05-27T00:00:00\",\"2020-05-28T00:00:00\",\"2020-05-29T00:00:00\",\"2020-05-30T00:00:00\",\"2020-05-31T00:00:00\",\"2020-06-01T00:00:00\",\"2020-06-02T00:00:00\",\"2020-06-03T00:00:00\",\"2020-06-04T00:00:00\",\"2020-06-05T00:00:00\",\"2020-06-06T00:00:00\",\"2020-06-07T00:00:00\",\"2020-06-08T00:00:00\",\"2020-06-09T00:00:00\",\"2020-06-10T00:00:00\",\"2020-06-11T00:00:00\",\"2020-06-12T00:00:00\",\"2020-06-13T00:00:00\",\"2020-06-14T00:00:00\",\"2020-06-15T00:00:00\",\"2020-06-16T00:00:00\",\"2020-06-17T00:00:00\",\"2020-06-18T00:00:00\",\"2020-06-19T00:00:00\",\"2020-06-20T00:00:00\",\"2020-06-21T00:00:00\",\"2020-06-22T00:00:00\",\"2020-06-23T00:00:00\",\"2020-06-24T00:00:00\",\"2020-06-25T00:00:00\",\"2020-06-26T00:00:00\",\"2020-06-27T00:00:00\",\"2020-06-28T00:00:00\",\"2020-06-29T00:00:00\",\"2020-06-30T00:00:00\",\"2020-07-01T00:00:00\",\"2020-07-02T00:00:00\",\"2020-07-03T00:00:00\",\"2020-07-04T00:00:00\",\"2020-07-05T00:00:00\",\"2020-07-06T00:00:00\",\"2020-07-07T00:00:00\",\"2020-07-08T00:00:00\",\"2020-07-09T00:00:00\",\"2020-07-10T00:00:00\",\"2020-07-11T00:00:00\",\"2020-07-12T00:00:00\",\"2020-07-13T00:00:00\",\"2020-07-14T00:00:00\",\"2020-07-15T00:00:00\",\"2020-07-16T00:00:00\",\"2020-07-17T00:00:00\",\"2020-07-18T00:00:00\",\"2020-07-19T00:00:00\",\"2020-07-20T00:00:00\",\"2020-07-21T00:00:00\",\"2020-07-22T00:00:00\",\"2020-07-23T00:00:00\",\"2020-07-24T00:00:00\",\"2020-07-25T00:00:00\",\"2020-07-26T00:00:00\",\"2020-07-27T00:00:00\",\"2020-07-28T00:00:00\",\"2020-07-29T00:00:00\",\"2020-07-30T00:00:00\",\"2020-07-31T00:00:00\",\"2020-08-01T00:00:00\",\"2020-08-02T00:00:00\",\"2020-08-03T00:00:00\",\"2020-08-04T00:00:00\",\"2020-08-05T00:00:00\",\"2020-08-06T00:00:00\",\"2020-08-07T00:00:00\",\"2020-08-08T00:00:00\",\"2020-08-09T00:00:00\",\"2020-08-10T00:00:00\",\"2020-08-11T00:00:00\",\"2020-08-12T00:00:00\",\"2020-08-13T00:00:00\",\"2020-08-14T00:00:00\",\"2020-08-15T00:00:00\",\"2020-08-16T00:00:00\",\"2020-08-17T00:00:00\",\"2020-08-18T00:00:00\",\"2020-08-19T00:00:00\",\"2020-08-20T00:00:00\",\"2020-08-21T00:00:00\",\"2020-08-22T00:00:00\",\"2020-08-23T00:00:00\",\"2020-08-24T00:00:00\",\"2020-08-25T00:00:00\",\"2020-08-26T00:00:00\",\"2020-08-27T00:00:00\",\"2020-08-28T00:00:00\",\"2020-08-29T00:00:00\",\"2020-08-30T00:00:00\",\"2020-08-31T00:00:00\",\"2020-09-01T00:00:00\",\"2020-09-02T00:00:00\",\"2020-09-03T00:00:00\",\"2020-09-04T00:00:00\",\"2020-09-05T00:00:00\",\"2020-09-06T00:00:00\",\"2020-09-07T00:00:00\",\"2020-09-08T00:00:00\",\"2020-09-09T00:00:00\",\"2020-09-10T00:00:00\",\"2020-09-11T00:00:00\",\"2020-09-12T00:00:00\",\"2020-09-13T00:00:00\",\"2020-09-14T00:00:00\",\"2020-09-15T00:00:00\",\"2020-09-16T00:00:00\",\"2020-09-17T00:00:00\",\"2020-09-18T00:00:00\",\"2020-09-19T00:00:00\",\"2020-09-20T00:00:00\",\"2020-09-21T00:00:00\",\"2020-09-22T00:00:00\",\"2020-09-23T00:00:00\",\"2020-09-24T00:00:00\",\"2020-09-25T00:00:00\",\"2020-09-26T00:00:00\",\"2020-09-27T00:00:00\",\"2020-09-28T00:00:00\",\"2020-09-29T00:00:00\",\"2020-09-30T00:00:00\",\"2020-10-01T00:00:00\",\"2020-10-02T00:00:00\",\"2020-10-03T00:00:00\",\"2020-10-04T00:00:00\",\"2020-10-05T00:00:00\",\"2020-10-06T00:00:00\"],\"xaxis\":\"x\",\"y\":[55,844,0,0,13,0,0,0,677,0,0,0,2001,7,0,0,26,0,0,995,527,91,0,1823,348,0,0,0,0,0,0,0,0,0,0,440,0,0,0,353,0,0,0,0,0,0,0,0,0,0,0,0,0,0,0,0,0,0,302,0,0,0,0,0,0,0,0,0,0,0,0,0,0,0,0,0,0,0,0,0,0,0,0,0,0,0,0,0,0,0,0,0,0,0,0,0,0,0,0,0,0,0,0,0,0,0,0,0,0,0,0,0,0,0,0,0,0,0,0,0,0,0,0,0,0,0,0,0,0,0,0,0,0,0,0,0,0,0,0,0,0,0,0,0,0,0,0,0,0,0,0,0,0,0,0,0,0,0,0,0,0,0,0,0,0,0,0,0,0,0,0,0,0,0,0,0,0,0,0,0,0,0,0,0,0,0,0,0,0,0,0,0,0,0,0,0,0,0,0,0,0,0,0,0,0,0,0,0,0,0,0,0,0,0,0,0,0,0,0,0,0,0,0,0,0,0,0,0,0,0,0,0,0,0,0,0,0,0,0,0,0,0,0,0,0,0,0,0,0,0,0,0,0,0,0,0,0,0,0,0,0,0,0,0,0,0,0,0,0,0,0,0,0,0,0,0,0,0,31,0,0,0,58,0,0,0,0,0,0,0,0,0,0,0,0,0,0,0,0,0,0,0,0,0,0,50],\"yaxis\":\"y\"}],                        {\"legend\":{\"title\":{\"text\":\"variable\"},\"tracegroupgap\":0},\"margin\":{\"t\":60},\"template\":{\"data\":{\"bar\":[{\"error_x\":{\"color\":\"#2a3f5f\"},\"error_y\":{\"color\":\"#2a3f5f\"},\"marker\":{\"line\":{\"color\":\"#E5ECF6\",\"width\":0.5},\"pattern\":{\"fillmode\":\"overlay\",\"size\":10,\"solidity\":0.2}},\"type\":\"bar\"}],\"barpolar\":[{\"marker\":{\"line\":{\"color\":\"#E5ECF6\",\"width\":0.5},\"pattern\":{\"fillmode\":\"overlay\",\"size\":10,\"solidity\":0.2}},\"type\":\"barpolar\"}],\"carpet\":[{\"aaxis\":{\"endlinecolor\":\"#2a3f5f\",\"gridcolor\":\"white\",\"linecolor\":\"white\",\"minorgridcolor\":\"white\",\"startlinecolor\":\"#2a3f5f\"},\"baxis\":{\"endlinecolor\":\"#2a3f5f\",\"gridcolor\":\"white\",\"linecolor\":\"white\",\"minorgridcolor\":\"white\",\"startlinecolor\":\"#2a3f5f\"},\"type\":\"carpet\"}],\"choropleth\":[{\"colorbar\":{\"outlinewidth\":0,\"ticks\":\"\"},\"type\":\"choropleth\"}],\"contour\":[{\"colorbar\":{\"outlinewidth\":0,\"ticks\":\"\"},\"colorscale\":[[0.0,\"#0d0887\"],[0.1111111111111111,\"#46039f\"],[0.2222222222222222,\"#7201a8\"],[0.3333333333333333,\"#9c179e\"],[0.4444444444444444,\"#bd3786\"],[0.5555555555555556,\"#d8576b\"],[0.6666666666666666,\"#ed7953\"],[0.7777777777777778,\"#fb9f3a\"],[0.8888888888888888,\"#fdca26\"],[1.0,\"#f0f921\"]],\"type\":\"contour\"}],\"contourcarpet\":[{\"colorbar\":{\"outlinewidth\":0,\"ticks\":\"\"},\"type\":\"contourcarpet\"}],\"heatmap\":[{\"colorbar\":{\"outlinewidth\":0,\"ticks\":\"\"},\"colorscale\":[[0.0,\"#0d0887\"],[0.1111111111111111,\"#46039f\"],[0.2222222222222222,\"#7201a8\"],[0.3333333333333333,\"#9c179e\"],[0.4444444444444444,\"#bd3786\"],[0.5555555555555556,\"#d8576b\"],[0.6666666666666666,\"#ed7953\"],[0.7777777777777778,\"#fb9f3a\"],[0.8888888888888888,\"#fdca26\"],[1.0,\"#f0f921\"]],\"type\":\"heatmap\"}],\"heatmapgl\":[{\"colorbar\":{\"outlinewidth\":0,\"ticks\":\"\"},\"colorscale\":[[0.0,\"#0d0887\"],[0.1111111111111111,\"#46039f\"],[0.2222222222222222,\"#7201a8\"],[0.3333333333333333,\"#9c179e\"],[0.4444444444444444,\"#bd3786\"],[0.5555555555555556,\"#d8576b\"],[0.6666666666666666,\"#ed7953\"],[0.7777777777777778,\"#fb9f3a\"],[0.8888888888888888,\"#fdca26\"],[1.0,\"#f0f921\"]],\"type\":\"heatmapgl\"}],\"histogram\":[{\"marker\":{\"pattern\":{\"fillmode\":\"overlay\",\"size\":10,\"solidity\":0.2}},\"type\":\"histogram\"}],\"histogram2d\":[{\"colorbar\":{\"outlinewidth\":0,\"ticks\":\"\"},\"colorscale\":[[0.0,\"#0d0887\"],[0.1111111111111111,\"#46039f\"],[0.2222222222222222,\"#7201a8\"],[0.3333333333333333,\"#9c179e\"],[0.4444444444444444,\"#bd3786\"],[0.5555555555555556,\"#d8576b\"],[0.6666666666666666,\"#ed7953\"],[0.7777777777777778,\"#fb9f3a\"],[0.8888888888888888,\"#fdca26\"],[1.0,\"#f0f921\"]],\"type\":\"histogram2d\"}],\"histogram2dcontour\":[{\"colorbar\":{\"outlinewidth\":0,\"ticks\":\"\"},\"colorscale\":[[0.0,\"#0d0887\"],[0.1111111111111111,\"#46039f\"],[0.2222222222222222,\"#7201a8\"],[0.3333333333333333,\"#9c179e\"],[0.4444444444444444,\"#bd3786\"],[0.5555555555555556,\"#d8576b\"],[0.6666666666666666,\"#ed7953\"],[0.7777777777777778,\"#fb9f3a\"],[0.8888888888888888,\"#fdca26\"],[1.0,\"#f0f921\"]],\"type\":\"histogram2dcontour\"}],\"mesh3d\":[{\"colorbar\":{\"outlinewidth\":0,\"ticks\":\"\"},\"type\":\"mesh3d\"}],\"parcoords\":[{\"line\":{\"colorbar\":{\"outlinewidth\":0,\"ticks\":\"\"}},\"type\":\"parcoords\"}],\"pie\":[{\"automargin\":true,\"type\":\"pie\"}],\"scatter\":[{\"marker\":{\"colorbar\":{\"outlinewidth\":0,\"ticks\":\"\"}},\"type\":\"scatter\"}],\"scatter3d\":[{\"line\":{\"colorbar\":{\"outlinewidth\":0,\"ticks\":\"\"}},\"marker\":{\"colorbar\":{\"outlinewidth\":0,\"ticks\":\"\"}},\"type\":\"scatter3d\"}],\"scattercarpet\":[{\"marker\":{\"colorbar\":{\"outlinewidth\":0,\"ticks\":\"\"}},\"type\":\"scattercarpet\"}],\"scattergeo\":[{\"marker\":{\"colorbar\":{\"outlinewidth\":0,\"ticks\":\"\"}},\"type\":\"scattergeo\"}],\"scattergl\":[{\"marker\":{\"colorbar\":{\"outlinewidth\":0,\"ticks\":\"\"}},\"type\":\"scattergl\"}],\"scattermapbox\":[{\"marker\":{\"colorbar\":{\"outlinewidth\":0,\"ticks\":\"\"}},\"type\":\"scattermapbox\"}],\"scatterpolar\":[{\"marker\":{\"colorbar\":{\"outlinewidth\":0,\"ticks\":\"\"}},\"type\":\"scatterpolar\"}],\"scatterpolargl\":[{\"marker\":{\"colorbar\":{\"outlinewidth\":0,\"ticks\":\"\"}},\"type\":\"scatterpolargl\"}],\"scatterternary\":[{\"marker\":{\"colorbar\":{\"outlinewidth\":0,\"ticks\":\"\"}},\"type\":\"scatterternary\"}],\"surface\":[{\"colorbar\":{\"outlinewidth\":0,\"ticks\":\"\"},\"colorscale\":[[0.0,\"#0d0887\"],[0.1111111111111111,\"#46039f\"],[0.2222222222222222,\"#7201a8\"],[0.3333333333333333,\"#9c179e\"],[0.4444444444444444,\"#bd3786\"],[0.5555555555555556,\"#d8576b\"],[0.6666666666666666,\"#ed7953\"],[0.7777777777777778,\"#fb9f3a\"],[0.8888888888888888,\"#fdca26\"],[1.0,\"#f0f921\"]],\"type\":\"surface\"}],\"table\":[{\"cells\":{\"fill\":{\"color\":\"#EBF0F8\"},\"line\":{\"color\":\"white\"}},\"header\":{\"fill\":{\"color\":\"#C8D4E3\"},\"line\":{\"color\":\"white\"}},\"type\":\"table\"}]},\"layout\":{\"annotationdefaults\":{\"arrowcolor\":\"#2a3f5f\",\"arrowhead\":0,\"arrowwidth\":1},\"autotypenumbers\":\"strict\",\"coloraxis\":{\"colorbar\":{\"outlinewidth\":0,\"ticks\":\"\"}},\"colorscale\":{\"diverging\":[[0,\"#8e0152\"],[0.1,\"#c51b7d\"],[0.2,\"#de77ae\"],[0.3,\"#f1b6da\"],[0.4,\"#fde0ef\"],[0.5,\"#f7f7f7\"],[0.6,\"#e6f5d0\"],[0.7,\"#b8e186\"],[0.8,\"#7fbc41\"],[0.9,\"#4d9221\"],[1,\"#276419\"]],\"sequential\":[[0.0,\"#0d0887\"],[0.1111111111111111,\"#46039f\"],[0.2222222222222222,\"#7201a8\"],[0.3333333333333333,\"#9c179e\"],[0.4444444444444444,\"#bd3786\"],[0.5555555555555556,\"#d8576b\"],[0.6666666666666666,\"#ed7953\"],[0.7777777777777778,\"#fb9f3a\"],[0.8888888888888888,\"#fdca26\"],[1.0,\"#f0f921\"]],\"sequentialminus\":[[0.0,\"#0d0887\"],[0.1111111111111111,\"#46039f\"],[0.2222222222222222,\"#7201a8\"],[0.3333333333333333,\"#9c179e\"],[0.4444444444444444,\"#bd3786\"],[0.5555555555555556,\"#d8576b\"],[0.6666666666666666,\"#ed7953\"],[0.7777777777777778,\"#fb9f3a\"],[0.8888888888888888,\"#fdca26\"],[1.0,\"#f0f921\"]]},\"colorway\":[\"#636efa\",\"#EF553B\",\"#00cc96\",\"#ab63fa\",\"#FFA15A\",\"#19d3f3\",\"#FF6692\",\"#B6E880\",\"#FF97FF\",\"#FECB52\"],\"font\":{\"color\":\"#2a3f5f\"},\"geo\":{\"bgcolor\":\"white\",\"lakecolor\":\"white\",\"landcolor\":\"#E5ECF6\",\"showlakes\":true,\"showland\":true,\"subunitcolor\":\"white\"},\"hoverlabel\":{\"align\":\"left\"},\"hovermode\":\"closest\",\"mapbox\":{\"style\":\"light\"},\"paper_bgcolor\":\"white\",\"plot_bgcolor\":\"#E5ECF6\",\"polar\":{\"angularaxis\":{\"gridcolor\":\"white\",\"linecolor\":\"white\",\"ticks\":\"\"},\"bgcolor\":\"#E5ECF6\",\"radialaxis\":{\"gridcolor\":\"white\",\"linecolor\":\"white\",\"ticks\":\"\"}},\"scene\":{\"xaxis\":{\"backgroundcolor\":\"#E5ECF6\",\"gridcolor\":\"white\",\"gridwidth\":2,\"linecolor\":\"white\",\"showbackground\":true,\"ticks\":\"\",\"zerolinecolor\":\"white\"},\"yaxis\":{\"backgroundcolor\":\"#E5ECF6\",\"gridcolor\":\"white\",\"gridwidth\":2,\"linecolor\":\"white\",\"showbackground\":true,\"ticks\":\"\",\"zerolinecolor\":\"white\"},\"zaxis\":{\"backgroundcolor\":\"#E5ECF6\",\"gridcolor\":\"white\",\"gridwidth\":2,\"linecolor\":\"white\",\"showbackground\":true,\"ticks\":\"\",\"zerolinecolor\":\"white\"}},\"shapedefaults\":{\"line\":{\"color\":\"#2a3f5f\"}},\"ternary\":{\"aaxis\":{\"gridcolor\":\"white\",\"linecolor\":\"white\",\"ticks\":\"\"},\"baxis\":{\"gridcolor\":\"white\",\"linecolor\":\"white\",\"ticks\":\"\"},\"bgcolor\":\"#E5ECF6\",\"caxis\":{\"gridcolor\":\"white\",\"linecolor\":\"white\",\"ticks\":\"\"}},\"title\":{\"x\":0.05},\"xaxis\":{\"automargin\":true,\"gridcolor\":\"white\",\"linecolor\":\"white\",\"ticks\":\"\",\"title\":{\"standoff\":15},\"zerolinecolor\":\"white\",\"zerolinewidth\":2},\"yaxis\":{\"automargin\":true,\"gridcolor\":\"white\",\"linecolor\":\"white\",\"ticks\":\"\",\"title\":{\"standoff\":15},\"zerolinecolor\":\"white\",\"zerolinewidth\":2}}},\"xaxis\":{\"anchor\":\"y\",\"domain\":[0.0,1.0],\"title\":{\"text\":\"datetime\"}},\"yaxis\":{\"anchor\":\"x\",\"domain\":[0.0,1.0],\"title\":{\"text\":\"value\"}}},                        {\"responsive\": true}                    ).then(function(){\n",
       "                            \n",
       "var gd = document.getElementById('ae82b776-d432-414a-8dc8-e904125ebe20');\n",
       "var x = new MutationObserver(function (mutations, observer) {{\n",
       "        var display = window.getComputedStyle(gd).display;\n",
       "        if (!display || display === 'none') {{\n",
       "            console.log([gd, 'removed!']);\n",
       "            Plotly.purge(gd);\n",
       "            observer.disconnect();\n",
       "        }}\n",
       "}});\n",
       "\n",
       "// Listen for the removal of the full notebook cells\n",
       "var notebookContainer = gd.closest('#notebook-container');\n",
       "if (notebookContainer) {{\n",
       "    x.observe(notebookContainer, {childList: true});\n",
       "}}\n",
       "\n",
       "// Listen for the clearing of the current output cell\n",
       "var outputEl = gd.closest('.output');\n",
       "if (outputEl) {{\n",
       "    x.observe(outputEl, {childList: true});\n",
       "}}\n",
       "\n",
       "                        })                };                });            </script>        </div>"
      ]
     },
     "metadata": {},
     "output_type": "display_data"
    }
   ],
   "source": [
    "#sample = satellite_sensor_product_daily_pd[satellite_sensor_product_daily_pd['pair'] == 'SUOMI NPP_VIIRS_LANDGATE|SENTINEL_3B_SLSTR_EUMETSAT']\n",
    "candidate_pair[['master_count', 'slave_count']].plot()"
   ]
  },
  {
   "cell_type": "code",
   "execution_count": 26,
   "metadata": {},
   "outputs": [
    {
     "data": {
      "application/vnd.plotly.v1+json": {
       "config": {
        "plotlyServerURL": "https://plot.ly"
       },
       "data": [
        {
         "hovertemplate": "variable=master_count<br>datetime=%{x}<br>value=%{y}<extra></extra>",
         "legendgroup": "master_count",
         "line": {
          "color": "#636efa",
          "dash": "solid"
         },
         "marker": {
          "symbol": "circle"
         },
         "mode": "lines",
         "name": "master_count",
         "showlegend": true,
         "type": "scattergl",
         "x": [
          "2019-12-06T00:00:00",
          "2019-12-07T00:00:00",
          "2019-12-08T00:00:00",
          "2019-12-09T00:00:00",
          "2019-12-10T00:00:00",
          "2019-12-11T00:00:00",
          "2019-12-12T00:00:00",
          "2019-12-13T00:00:00",
          "2019-12-14T00:00:00",
          "2019-12-15T00:00:00",
          "2019-12-16T00:00:00",
          "2019-12-17T00:00:00",
          "2019-12-18T00:00:00",
          "2019-12-19T00:00:00",
          "2019-12-20T00:00:00",
          "2019-12-21T00:00:00",
          "2019-12-22T00:00:00",
          "2019-12-23T00:00:00",
          "2019-12-24T00:00:00",
          "2019-12-25T00:00:00",
          "2019-12-26T00:00:00",
          "2019-12-27T00:00:00",
          "2019-12-28T00:00:00",
          "2019-12-29T00:00:00",
          "2019-12-30T00:00:00",
          "2019-12-31T00:00:00",
          "2020-01-01T00:00:00",
          "2020-01-02T00:00:00",
          "2020-01-03T00:00:00",
          "2020-01-04T00:00:00",
          "2020-01-05T00:00:00",
          "2020-01-06T00:00:00",
          "2020-01-07T00:00:00",
          "2020-01-08T00:00:00",
          "2020-01-09T00:00:00",
          "2020-01-10T00:00:00",
          "2020-01-11T00:00:00",
          "2020-01-12T00:00:00",
          "2020-01-13T00:00:00",
          "2020-01-14T00:00:00",
          "2020-01-15T00:00:00",
          "2020-01-16T00:00:00",
          "2020-01-17T00:00:00",
          "2020-01-18T00:00:00",
          "2020-01-19T00:00:00",
          "2020-01-20T00:00:00",
          "2020-01-21T00:00:00",
          "2020-01-22T00:00:00",
          "2020-01-23T00:00:00",
          "2020-01-24T00:00:00",
          "2020-01-25T00:00:00",
          "2020-01-26T00:00:00",
          "2020-01-27T00:00:00",
          "2020-01-28T00:00:00",
          "2020-01-29T00:00:00",
          "2020-01-30T00:00:00",
          "2020-01-31T00:00:00",
          "2020-02-01T00:00:00",
          "2020-02-02T00:00:00",
          "2020-02-03T00:00:00",
          "2020-02-04T00:00:00",
          "2020-02-05T00:00:00",
          "2020-02-06T00:00:00",
          "2020-02-07T00:00:00",
          "2020-02-08T00:00:00",
          "2020-02-09T00:00:00",
          "2020-02-10T00:00:00",
          "2020-02-11T00:00:00",
          "2020-02-12T00:00:00",
          "2020-02-13T00:00:00",
          "2020-02-14T00:00:00",
          "2020-02-15T00:00:00",
          "2020-02-16T00:00:00",
          "2020-02-17T00:00:00",
          "2020-02-18T00:00:00",
          "2020-02-19T00:00:00",
          "2020-02-20T00:00:00",
          "2020-02-21T00:00:00",
          "2020-02-22T00:00:00",
          "2020-02-23T00:00:00",
          "2020-02-24T00:00:00",
          "2020-02-25T00:00:00",
          "2020-02-26T00:00:00",
          "2020-02-27T00:00:00",
          "2020-02-28T00:00:00",
          "2020-02-29T00:00:00",
          "2020-03-01T00:00:00",
          "2020-03-02T00:00:00",
          "2020-03-03T00:00:00",
          "2020-03-04T00:00:00",
          "2020-03-05T00:00:00",
          "2020-03-06T00:00:00",
          "2020-03-07T00:00:00",
          "2020-03-08T00:00:00",
          "2020-03-09T00:00:00",
          "2020-03-10T00:00:00",
          "2020-03-11T00:00:00",
          "2020-03-12T00:00:00",
          "2020-03-13T00:00:00",
          "2020-03-14T00:00:00",
          "2020-03-15T00:00:00",
          "2020-03-16T00:00:00",
          "2020-03-17T00:00:00",
          "2020-03-18T00:00:00",
          "2020-03-19T00:00:00",
          "2020-03-20T00:00:00",
          "2020-03-21T00:00:00",
          "2020-03-22T00:00:00",
          "2020-03-23T00:00:00",
          "2020-03-24T00:00:00",
          "2020-03-25T00:00:00",
          "2020-03-26T00:00:00",
          "2020-03-27T00:00:00",
          "2020-03-28T00:00:00",
          "2020-03-29T00:00:00",
          "2020-03-30T00:00:00",
          "2020-03-31T00:00:00",
          "2020-04-01T00:00:00",
          "2020-04-02T00:00:00",
          "2020-04-03T00:00:00",
          "2020-04-04T00:00:00",
          "2020-04-05T00:00:00",
          "2020-04-06T00:00:00",
          "2020-04-07T00:00:00",
          "2020-04-08T00:00:00",
          "2020-04-09T00:00:00",
          "2020-04-10T00:00:00",
          "2020-04-11T00:00:00",
          "2020-04-12T00:00:00",
          "2020-04-13T00:00:00",
          "2020-04-14T00:00:00",
          "2020-04-15T00:00:00",
          "2020-04-16T00:00:00",
          "2020-04-17T00:00:00",
          "2020-04-18T00:00:00",
          "2020-04-19T00:00:00",
          "2020-04-20T00:00:00",
          "2020-04-21T00:00:00",
          "2020-04-22T00:00:00",
          "2020-04-23T00:00:00",
          "2020-04-24T00:00:00",
          "2020-04-25T00:00:00",
          "2020-04-26T00:00:00",
          "2020-04-27T00:00:00",
          "2020-04-28T00:00:00",
          "2020-04-29T00:00:00",
          "2020-04-30T00:00:00",
          "2020-05-01T00:00:00",
          "2020-05-02T00:00:00",
          "2020-05-03T00:00:00",
          "2020-05-04T00:00:00",
          "2020-05-05T00:00:00",
          "2020-05-06T00:00:00",
          "2020-05-07T00:00:00",
          "2020-05-08T00:00:00",
          "2020-05-09T00:00:00",
          "2020-05-10T00:00:00",
          "2020-05-11T00:00:00",
          "2020-05-12T00:00:00",
          "2020-05-13T00:00:00",
          "2020-05-14T00:00:00",
          "2020-05-15T00:00:00",
          "2020-05-16T00:00:00",
          "2020-05-17T00:00:00",
          "2020-05-18T00:00:00",
          "2020-05-19T00:00:00",
          "2020-05-20T00:00:00",
          "2020-05-21T00:00:00",
          "2020-05-22T00:00:00",
          "2020-05-23T00:00:00",
          "2020-05-24T00:00:00",
          "2020-05-25T00:00:00",
          "2020-05-26T00:00:00",
          "2020-05-27T00:00:00",
          "2020-05-28T00:00:00",
          "2020-05-29T00:00:00",
          "2020-05-30T00:00:00",
          "2020-05-31T00:00:00",
          "2020-06-01T00:00:00",
          "2020-06-02T00:00:00",
          "2020-06-03T00:00:00",
          "2020-06-04T00:00:00",
          "2020-06-05T00:00:00",
          "2020-06-06T00:00:00",
          "2020-06-07T00:00:00",
          "2020-06-08T00:00:00",
          "2020-06-09T00:00:00",
          "2020-06-10T00:00:00",
          "2020-06-11T00:00:00",
          "2020-06-12T00:00:00",
          "2020-06-13T00:00:00",
          "2020-06-14T00:00:00",
          "2020-06-15T00:00:00",
          "2020-06-16T00:00:00",
          "2020-06-17T00:00:00",
          "2020-06-18T00:00:00",
          "2020-06-19T00:00:00",
          "2020-06-20T00:00:00",
          "2020-06-21T00:00:00",
          "2020-06-22T00:00:00",
          "2020-06-23T00:00:00",
          "2020-06-24T00:00:00",
          "2020-06-25T00:00:00",
          "2020-06-26T00:00:00",
          "2020-06-27T00:00:00",
          "2020-06-28T00:00:00",
          "2020-06-29T00:00:00",
          "2020-06-30T00:00:00",
          "2020-07-01T00:00:00",
          "2020-07-02T00:00:00",
          "2020-07-03T00:00:00",
          "2020-07-04T00:00:00",
          "2020-07-05T00:00:00",
          "2020-07-06T00:00:00",
          "2020-07-07T00:00:00",
          "2020-07-08T00:00:00",
          "2020-07-09T00:00:00",
          "2020-07-10T00:00:00",
          "2020-07-11T00:00:00",
          "2020-07-12T00:00:00",
          "2020-07-13T00:00:00",
          "2020-07-14T00:00:00",
          "2020-07-15T00:00:00",
          "2020-07-16T00:00:00",
          "2020-07-17T00:00:00",
          "2020-07-18T00:00:00",
          "2020-07-19T00:00:00",
          "2020-07-20T00:00:00",
          "2020-07-21T00:00:00",
          "2020-07-22T00:00:00",
          "2020-07-23T00:00:00",
          "2020-07-24T00:00:00",
          "2020-07-25T00:00:00",
          "2020-07-26T00:00:00",
          "2020-07-27T00:00:00",
          "2020-07-28T00:00:00",
          "2020-07-29T00:00:00",
          "2020-07-30T00:00:00",
          "2020-07-31T00:00:00",
          "2020-08-01T00:00:00",
          "2020-08-02T00:00:00",
          "2020-08-03T00:00:00",
          "2020-08-04T00:00:00",
          "2020-08-05T00:00:00",
          "2020-08-06T00:00:00",
          "2020-08-07T00:00:00",
          "2020-08-08T00:00:00",
          "2020-08-09T00:00:00",
          "2020-08-10T00:00:00",
          "2020-08-11T00:00:00",
          "2020-08-12T00:00:00",
          "2020-08-13T00:00:00",
          "2020-08-14T00:00:00",
          "2020-08-15T00:00:00",
          "2020-08-16T00:00:00",
          "2020-08-17T00:00:00",
          "2020-08-18T00:00:00",
          "2020-08-19T00:00:00",
          "2020-08-20T00:00:00",
          "2020-08-21T00:00:00",
          "2020-08-22T00:00:00",
          "2020-08-23T00:00:00",
          "2020-08-24T00:00:00",
          "2020-08-25T00:00:00",
          "2020-08-26T00:00:00",
          "2020-08-27T00:00:00",
          "2020-08-28T00:00:00",
          "2020-08-29T00:00:00",
          "2020-08-30T00:00:00",
          "2020-08-31T00:00:00",
          "2020-09-01T00:00:00",
          "2020-09-02T00:00:00",
          "2020-09-03T00:00:00",
          "2020-09-04T00:00:00",
          "2020-09-05T00:00:00",
          "2020-09-06T00:00:00",
          "2020-09-07T00:00:00",
          "2020-09-08T00:00:00",
          "2020-09-09T00:00:00",
          "2020-09-10T00:00:00",
          "2020-09-11T00:00:00",
          "2020-09-12T00:00:00",
          "2020-09-13T00:00:00",
          "2020-09-14T00:00:00",
          "2020-09-15T00:00:00",
          "2020-09-16T00:00:00",
          "2020-09-17T00:00:00",
          "2020-09-18T00:00:00",
          "2020-09-19T00:00:00",
          "2020-09-20T00:00:00",
          "2020-09-21T00:00:00",
          "2020-09-22T00:00:00",
          "2020-09-23T00:00:00",
          "2020-09-24T00:00:00",
          "2020-09-25T00:00:00",
          "2020-09-26T00:00:00",
          "2020-09-27T00:00:00",
          "2020-09-28T00:00:00",
          "2020-09-29T00:00:00",
          "2020-09-30T00:00:00",
          "2020-10-01T00:00:00",
          "2020-10-02T00:00:00",
          "2020-10-03T00:00:00",
          "2020-10-04T00:00:00",
          "2020-10-05T00:00:00",
          "2020-10-06T00:00:00"
         ],
         "xaxis": "x",
         "y": [
          112,
          5213,
          0,
          0,
          11,
          0,
          0,
          0,
          1548,
          0,
          0,
          0,
          5587,
          36,
          0,
          0,
          3,
          0,
          0,
          2491,
          2222,
          719,
          0,
          5008,
          899,
          0,
          0,
          0,
          0,
          0,
          0,
          0,
          0,
          0,
          0,
          358,
          0,
          0,
          0,
          1959,
          0,
          0,
          0,
          0,
          0,
          0,
          0,
          0,
          0,
          0,
          0,
          0,
          0,
          0,
          0,
          0,
          0,
          0,
          469,
          0,
          0,
          0,
          0,
          0,
          0,
          0,
          0,
          0,
          0,
          0,
          0,
          0,
          0,
          0,
          0,
          0,
          0,
          0,
          0,
          0,
          0,
          0,
          0,
          0,
          0,
          0,
          0,
          0,
          0,
          0,
          0,
          0,
          0,
          0,
          0,
          0,
          0,
          0,
          0,
          0,
          0,
          0,
          0,
          0,
          0,
          0,
          0,
          0,
          0,
          0,
          0,
          0,
          0,
          0,
          0,
          0,
          0,
          0,
          0,
          0,
          0,
          0,
          0,
          0,
          0,
          0,
          0,
          0,
          0,
          0,
          0,
          0,
          0,
          0,
          0,
          0,
          0,
          0,
          0,
          0,
          0,
          0,
          0,
          0,
          0,
          0,
          0,
          0,
          0,
          0,
          0,
          0,
          0,
          0,
          0,
          0,
          0,
          0,
          0,
          0,
          0,
          0,
          0,
          0,
          0,
          0,
          0,
          0,
          0,
          0,
          0,
          0,
          0,
          0,
          0,
          0,
          0,
          0,
          0,
          0,
          0,
          0,
          0,
          0,
          0,
          0,
          0,
          0,
          0,
          0,
          0,
          0,
          0,
          0,
          0,
          0,
          0,
          0,
          0,
          0,
          0,
          0,
          0,
          0,
          0,
          0,
          0,
          0,
          0,
          0,
          0,
          0,
          0,
          0,
          0,
          0,
          0,
          0,
          0,
          0,
          0,
          0,
          0,
          0,
          0,
          0,
          0,
          0,
          0,
          0,
          0,
          0,
          0,
          0,
          0,
          0,
          0,
          0,
          0,
          0,
          0,
          0,
          0,
          0,
          0,
          0,
          0,
          0,
          0,
          0,
          0,
          0,
          0,
          0,
          0,
          0,
          0,
          0,
          0,
          0,
          0,
          0,
          0,
          0,
          0,
          0,
          0,
          0,
          0,
          0,
          0,
          0,
          0,
          0,
          0,
          0,
          0,
          0,
          46,
          0,
          0,
          0,
          83,
          0,
          0,
          0,
          0,
          0,
          0,
          0,
          0,
          0,
          0,
          0,
          0,
          0,
          0,
          0,
          0,
          0,
          0,
          0,
          0,
          0,
          0,
          89
         ],
         "yaxis": "y"
        },
        {
         "hovertemplate": "variable=slave_count<br>datetime=%{x}<br>value=%{y}<extra></extra>",
         "legendgroup": "slave_count",
         "line": {
          "color": "#EF553B",
          "dash": "solid"
         },
         "marker": {
          "symbol": "circle"
         },
         "mode": "lines",
         "name": "slave_count",
         "showlegend": true,
         "type": "scattergl",
         "x": [
          "2019-12-06T00:00:00",
          "2019-12-07T00:00:00",
          "2019-12-08T00:00:00",
          "2019-12-09T00:00:00",
          "2019-12-10T00:00:00",
          "2019-12-11T00:00:00",
          "2019-12-12T00:00:00",
          "2019-12-13T00:00:00",
          "2019-12-14T00:00:00",
          "2019-12-15T00:00:00",
          "2019-12-16T00:00:00",
          "2019-12-17T00:00:00",
          "2019-12-18T00:00:00",
          "2019-12-19T00:00:00",
          "2019-12-20T00:00:00",
          "2019-12-21T00:00:00",
          "2019-12-22T00:00:00",
          "2019-12-23T00:00:00",
          "2019-12-24T00:00:00",
          "2019-12-25T00:00:00",
          "2019-12-26T00:00:00",
          "2019-12-27T00:00:00",
          "2019-12-28T00:00:00",
          "2019-12-29T00:00:00",
          "2019-12-30T00:00:00",
          "2019-12-31T00:00:00",
          "2020-01-01T00:00:00",
          "2020-01-02T00:00:00",
          "2020-01-03T00:00:00",
          "2020-01-04T00:00:00",
          "2020-01-05T00:00:00",
          "2020-01-06T00:00:00",
          "2020-01-07T00:00:00",
          "2020-01-08T00:00:00",
          "2020-01-09T00:00:00",
          "2020-01-10T00:00:00",
          "2020-01-11T00:00:00",
          "2020-01-12T00:00:00",
          "2020-01-13T00:00:00",
          "2020-01-14T00:00:00",
          "2020-01-15T00:00:00",
          "2020-01-16T00:00:00",
          "2020-01-17T00:00:00",
          "2020-01-18T00:00:00",
          "2020-01-19T00:00:00",
          "2020-01-20T00:00:00",
          "2020-01-21T00:00:00",
          "2020-01-22T00:00:00",
          "2020-01-23T00:00:00",
          "2020-01-24T00:00:00",
          "2020-01-25T00:00:00",
          "2020-01-26T00:00:00",
          "2020-01-27T00:00:00",
          "2020-01-28T00:00:00",
          "2020-01-29T00:00:00",
          "2020-01-30T00:00:00",
          "2020-01-31T00:00:00",
          "2020-02-01T00:00:00",
          "2020-02-02T00:00:00",
          "2020-02-03T00:00:00",
          "2020-02-04T00:00:00",
          "2020-02-05T00:00:00",
          "2020-02-06T00:00:00",
          "2020-02-07T00:00:00",
          "2020-02-08T00:00:00",
          "2020-02-09T00:00:00",
          "2020-02-10T00:00:00",
          "2020-02-11T00:00:00",
          "2020-02-12T00:00:00",
          "2020-02-13T00:00:00",
          "2020-02-14T00:00:00",
          "2020-02-15T00:00:00",
          "2020-02-16T00:00:00",
          "2020-02-17T00:00:00",
          "2020-02-18T00:00:00",
          "2020-02-19T00:00:00",
          "2020-02-20T00:00:00",
          "2020-02-21T00:00:00",
          "2020-02-22T00:00:00",
          "2020-02-23T00:00:00",
          "2020-02-24T00:00:00",
          "2020-02-25T00:00:00",
          "2020-02-26T00:00:00",
          "2020-02-27T00:00:00",
          "2020-02-28T00:00:00",
          "2020-02-29T00:00:00",
          "2020-03-01T00:00:00",
          "2020-03-02T00:00:00",
          "2020-03-03T00:00:00",
          "2020-03-04T00:00:00",
          "2020-03-05T00:00:00",
          "2020-03-06T00:00:00",
          "2020-03-07T00:00:00",
          "2020-03-08T00:00:00",
          "2020-03-09T00:00:00",
          "2020-03-10T00:00:00",
          "2020-03-11T00:00:00",
          "2020-03-12T00:00:00",
          "2020-03-13T00:00:00",
          "2020-03-14T00:00:00",
          "2020-03-15T00:00:00",
          "2020-03-16T00:00:00",
          "2020-03-17T00:00:00",
          "2020-03-18T00:00:00",
          "2020-03-19T00:00:00",
          "2020-03-20T00:00:00",
          "2020-03-21T00:00:00",
          "2020-03-22T00:00:00",
          "2020-03-23T00:00:00",
          "2020-03-24T00:00:00",
          "2020-03-25T00:00:00",
          "2020-03-26T00:00:00",
          "2020-03-27T00:00:00",
          "2020-03-28T00:00:00",
          "2020-03-29T00:00:00",
          "2020-03-30T00:00:00",
          "2020-03-31T00:00:00",
          "2020-04-01T00:00:00",
          "2020-04-02T00:00:00",
          "2020-04-03T00:00:00",
          "2020-04-04T00:00:00",
          "2020-04-05T00:00:00",
          "2020-04-06T00:00:00",
          "2020-04-07T00:00:00",
          "2020-04-08T00:00:00",
          "2020-04-09T00:00:00",
          "2020-04-10T00:00:00",
          "2020-04-11T00:00:00",
          "2020-04-12T00:00:00",
          "2020-04-13T00:00:00",
          "2020-04-14T00:00:00",
          "2020-04-15T00:00:00",
          "2020-04-16T00:00:00",
          "2020-04-17T00:00:00",
          "2020-04-18T00:00:00",
          "2020-04-19T00:00:00",
          "2020-04-20T00:00:00",
          "2020-04-21T00:00:00",
          "2020-04-22T00:00:00",
          "2020-04-23T00:00:00",
          "2020-04-24T00:00:00",
          "2020-04-25T00:00:00",
          "2020-04-26T00:00:00",
          "2020-04-27T00:00:00",
          "2020-04-28T00:00:00",
          "2020-04-29T00:00:00",
          "2020-04-30T00:00:00",
          "2020-05-01T00:00:00",
          "2020-05-02T00:00:00",
          "2020-05-03T00:00:00",
          "2020-05-04T00:00:00",
          "2020-05-05T00:00:00",
          "2020-05-06T00:00:00",
          "2020-05-07T00:00:00",
          "2020-05-08T00:00:00",
          "2020-05-09T00:00:00",
          "2020-05-10T00:00:00",
          "2020-05-11T00:00:00",
          "2020-05-12T00:00:00",
          "2020-05-13T00:00:00",
          "2020-05-14T00:00:00",
          "2020-05-15T00:00:00",
          "2020-05-16T00:00:00",
          "2020-05-17T00:00:00",
          "2020-05-18T00:00:00",
          "2020-05-19T00:00:00",
          "2020-05-20T00:00:00",
          "2020-05-21T00:00:00",
          "2020-05-22T00:00:00",
          "2020-05-23T00:00:00",
          "2020-05-24T00:00:00",
          "2020-05-25T00:00:00",
          "2020-05-26T00:00:00",
          "2020-05-27T00:00:00",
          "2020-05-28T00:00:00",
          "2020-05-29T00:00:00",
          "2020-05-30T00:00:00",
          "2020-05-31T00:00:00",
          "2020-06-01T00:00:00",
          "2020-06-02T00:00:00",
          "2020-06-03T00:00:00",
          "2020-06-04T00:00:00",
          "2020-06-05T00:00:00",
          "2020-06-06T00:00:00",
          "2020-06-07T00:00:00",
          "2020-06-08T00:00:00",
          "2020-06-09T00:00:00",
          "2020-06-10T00:00:00",
          "2020-06-11T00:00:00",
          "2020-06-12T00:00:00",
          "2020-06-13T00:00:00",
          "2020-06-14T00:00:00",
          "2020-06-15T00:00:00",
          "2020-06-16T00:00:00",
          "2020-06-17T00:00:00",
          "2020-06-18T00:00:00",
          "2020-06-19T00:00:00",
          "2020-06-20T00:00:00",
          "2020-06-21T00:00:00",
          "2020-06-22T00:00:00",
          "2020-06-23T00:00:00",
          "2020-06-24T00:00:00",
          "2020-06-25T00:00:00",
          "2020-06-26T00:00:00",
          "2020-06-27T00:00:00",
          "2020-06-28T00:00:00",
          "2020-06-29T00:00:00",
          "2020-06-30T00:00:00",
          "2020-07-01T00:00:00",
          "2020-07-02T00:00:00",
          "2020-07-03T00:00:00",
          "2020-07-04T00:00:00",
          "2020-07-05T00:00:00",
          "2020-07-06T00:00:00",
          "2020-07-07T00:00:00",
          "2020-07-08T00:00:00",
          "2020-07-09T00:00:00",
          "2020-07-10T00:00:00",
          "2020-07-11T00:00:00",
          "2020-07-12T00:00:00",
          "2020-07-13T00:00:00",
          "2020-07-14T00:00:00",
          "2020-07-15T00:00:00",
          "2020-07-16T00:00:00",
          "2020-07-17T00:00:00",
          "2020-07-18T00:00:00",
          "2020-07-19T00:00:00",
          "2020-07-20T00:00:00",
          "2020-07-21T00:00:00",
          "2020-07-22T00:00:00",
          "2020-07-23T00:00:00",
          "2020-07-24T00:00:00",
          "2020-07-25T00:00:00",
          "2020-07-26T00:00:00",
          "2020-07-27T00:00:00",
          "2020-07-28T00:00:00",
          "2020-07-29T00:00:00",
          "2020-07-30T00:00:00",
          "2020-07-31T00:00:00",
          "2020-08-01T00:00:00",
          "2020-08-02T00:00:00",
          "2020-08-03T00:00:00",
          "2020-08-04T00:00:00",
          "2020-08-05T00:00:00",
          "2020-08-06T00:00:00",
          "2020-08-07T00:00:00",
          "2020-08-08T00:00:00",
          "2020-08-09T00:00:00",
          "2020-08-10T00:00:00",
          "2020-08-11T00:00:00",
          "2020-08-12T00:00:00",
          "2020-08-13T00:00:00",
          "2020-08-14T00:00:00",
          "2020-08-15T00:00:00",
          "2020-08-16T00:00:00",
          "2020-08-17T00:00:00",
          "2020-08-18T00:00:00",
          "2020-08-19T00:00:00",
          "2020-08-20T00:00:00",
          "2020-08-21T00:00:00",
          "2020-08-22T00:00:00",
          "2020-08-23T00:00:00",
          "2020-08-24T00:00:00",
          "2020-08-25T00:00:00",
          "2020-08-26T00:00:00",
          "2020-08-27T00:00:00",
          "2020-08-28T00:00:00",
          "2020-08-29T00:00:00",
          "2020-08-30T00:00:00",
          "2020-08-31T00:00:00",
          "2020-09-01T00:00:00",
          "2020-09-02T00:00:00",
          "2020-09-03T00:00:00",
          "2020-09-04T00:00:00",
          "2020-09-05T00:00:00",
          "2020-09-06T00:00:00",
          "2020-09-07T00:00:00",
          "2020-09-08T00:00:00",
          "2020-09-09T00:00:00",
          "2020-09-10T00:00:00",
          "2020-09-11T00:00:00",
          "2020-09-12T00:00:00",
          "2020-09-13T00:00:00",
          "2020-09-14T00:00:00",
          "2020-09-15T00:00:00",
          "2020-09-16T00:00:00",
          "2020-09-17T00:00:00",
          "2020-09-18T00:00:00",
          "2020-09-19T00:00:00",
          "2020-09-20T00:00:00",
          "2020-09-21T00:00:00",
          "2020-09-22T00:00:00",
          "2020-09-23T00:00:00",
          "2020-09-24T00:00:00",
          "2020-09-25T00:00:00",
          "2020-09-26T00:00:00",
          "2020-09-27T00:00:00",
          "2020-09-28T00:00:00",
          "2020-09-29T00:00:00",
          "2020-09-30T00:00:00",
          "2020-10-01T00:00:00",
          "2020-10-02T00:00:00",
          "2020-10-03T00:00:00",
          "2020-10-04T00:00:00",
          "2020-10-05T00:00:00",
          "2020-10-06T00:00:00"
         ],
         "xaxis": "x",
         "y": [
          55,
          844,
          0,
          0,
          13,
          0,
          0,
          0,
          677,
          0,
          0,
          0,
          2001,
          7,
          0,
          0,
          26,
          0,
          0,
          995,
          527,
          91,
          0,
          1823,
          348,
          0,
          0,
          0,
          0,
          0,
          0,
          0,
          0,
          0,
          0,
          440,
          0,
          0,
          0,
          353,
          0,
          0,
          0,
          0,
          0,
          0,
          0,
          0,
          0,
          0,
          0,
          0,
          0,
          0,
          0,
          0,
          0,
          0,
          302,
          0,
          0,
          0,
          0,
          0,
          0,
          0,
          0,
          0,
          0,
          0,
          0,
          0,
          0,
          0,
          0,
          0,
          0,
          0,
          0,
          0,
          0,
          0,
          0,
          0,
          0,
          0,
          0,
          0,
          0,
          0,
          0,
          0,
          0,
          0,
          0,
          0,
          0,
          0,
          0,
          0,
          0,
          0,
          0,
          0,
          0,
          0,
          0,
          0,
          0,
          0,
          0,
          0,
          0,
          0,
          0,
          0,
          0,
          0,
          0,
          0,
          0,
          0,
          0,
          0,
          0,
          0,
          0,
          0,
          0,
          0,
          0,
          0,
          0,
          0,
          0,
          0,
          0,
          0,
          0,
          0,
          0,
          0,
          0,
          0,
          0,
          0,
          0,
          0,
          0,
          0,
          0,
          0,
          0,
          0,
          0,
          0,
          0,
          0,
          0,
          0,
          0,
          0,
          0,
          0,
          0,
          0,
          0,
          0,
          0,
          0,
          0,
          0,
          0,
          0,
          0,
          0,
          0,
          0,
          0,
          0,
          0,
          0,
          0,
          0,
          0,
          0,
          0,
          0,
          0,
          0,
          0,
          0,
          0,
          0,
          0,
          0,
          0,
          0,
          0,
          0,
          0,
          0,
          0,
          0,
          0,
          0,
          0,
          0,
          0,
          0,
          0,
          0,
          0,
          0,
          0,
          0,
          0,
          0,
          0,
          0,
          0,
          0,
          0,
          0,
          0,
          0,
          0,
          0,
          0,
          0,
          0,
          0,
          0,
          0,
          0,
          0,
          0,
          0,
          0,
          0,
          0,
          0,
          0,
          0,
          0,
          0,
          0,
          0,
          0,
          0,
          0,
          0,
          0,
          0,
          0,
          0,
          0,
          0,
          0,
          0,
          0,
          0,
          0,
          0,
          0,
          0,
          0,
          0,
          0,
          0,
          0,
          0,
          0,
          0,
          0,
          0,
          0,
          0,
          31,
          0,
          0,
          0,
          58,
          0,
          0,
          0,
          0,
          0,
          0,
          0,
          0,
          0,
          0,
          0,
          0,
          0,
          0,
          0,
          0,
          0,
          0,
          0,
          0,
          0,
          0,
          50
         ],
         "yaxis": "y"
        },
        {
         "hovertemplate": "variable=ratio<br>datetime=%{x}<br>value=%{y}<extra></extra>",
         "legendgroup": "ratio",
         "line": {
          "color": "#00cc96",
          "dash": "solid"
         },
         "marker": {
          "symbol": "circle"
         },
         "mode": "lines",
         "name": "ratio",
         "showlegend": true,
         "type": "scattergl",
         "x": [
          "2019-12-06T00:00:00",
          "2019-12-07T00:00:00",
          "2019-12-08T00:00:00",
          "2019-12-09T00:00:00",
          "2019-12-10T00:00:00",
          "2019-12-11T00:00:00",
          "2019-12-12T00:00:00",
          "2019-12-13T00:00:00",
          "2019-12-14T00:00:00",
          "2019-12-15T00:00:00",
          "2019-12-16T00:00:00",
          "2019-12-17T00:00:00",
          "2019-12-18T00:00:00",
          "2019-12-19T00:00:00",
          "2019-12-20T00:00:00",
          "2019-12-21T00:00:00",
          "2019-12-22T00:00:00",
          "2019-12-23T00:00:00",
          "2019-12-24T00:00:00",
          "2019-12-25T00:00:00",
          "2019-12-26T00:00:00",
          "2019-12-27T00:00:00",
          "2019-12-28T00:00:00",
          "2019-12-29T00:00:00",
          "2019-12-30T00:00:00",
          "2019-12-31T00:00:00",
          "2020-01-01T00:00:00",
          "2020-01-02T00:00:00",
          "2020-01-03T00:00:00",
          "2020-01-04T00:00:00",
          "2020-01-05T00:00:00",
          "2020-01-06T00:00:00",
          "2020-01-07T00:00:00",
          "2020-01-08T00:00:00",
          "2020-01-09T00:00:00",
          "2020-01-10T00:00:00",
          "2020-01-11T00:00:00",
          "2020-01-12T00:00:00",
          "2020-01-13T00:00:00",
          "2020-01-14T00:00:00",
          "2020-01-15T00:00:00",
          "2020-01-16T00:00:00",
          "2020-01-17T00:00:00",
          "2020-01-18T00:00:00",
          "2020-01-19T00:00:00",
          "2020-01-20T00:00:00",
          "2020-01-21T00:00:00",
          "2020-01-22T00:00:00",
          "2020-01-23T00:00:00",
          "2020-01-24T00:00:00",
          "2020-01-25T00:00:00",
          "2020-01-26T00:00:00",
          "2020-01-27T00:00:00",
          "2020-01-28T00:00:00",
          "2020-01-29T00:00:00",
          "2020-01-30T00:00:00",
          "2020-01-31T00:00:00",
          "2020-02-01T00:00:00",
          "2020-02-02T00:00:00",
          "2020-02-03T00:00:00",
          "2020-02-04T00:00:00",
          "2020-02-05T00:00:00",
          "2020-02-06T00:00:00",
          "2020-02-07T00:00:00",
          "2020-02-08T00:00:00",
          "2020-02-09T00:00:00",
          "2020-02-10T00:00:00",
          "2020-02-11T00:00:00",
          "2020-02-12T00:00:00",
          "2020-02-13T00:00:00",
          "2020-02-14T00:00:00",
          "2020-02-15T00:00:00",
          "2020-02-16T00:00:00",
          "2020-02-17T00:00:00",
          "2020-02-18T00:00:00",
          "2020-02-19T00:00:00",
          "2020-02-20T00:00:00",
          "2020-02-21T00:00:00",
          "2020-02-22T00:00:00",
          "2020-02-23T00:00:00",
          "2020-02-24T00:00:00",
          "2020-02-25T00:00:00",
          "2020-02-26T00:00:00",
          "2020-02-27T00:00:00",
          "2020-02-28T00:00:00",
          "2020-02-29T00:00:00",
          "2020-03-01T00:00:00",
          "2020-03-02T00:00:00",
          "2020-03-03T00:00:00",
          "2020-03-04T00:00:00",
          "2020-03-05T00:00:00",
          "2020-03-06T00:00:00",
          "2020-03-07T00:00:00",
          "2020-03-08T00:00:00",
          "2020-03-09T00:00:00",
          "2020-03-10T00:00:00",
          "2020-03-11T00:00:00",
          "2020-03-12T00:00:00",
          "2020-03-13T00:00:00",
          "2020-03-14T00:00:00",
          "2020-03-15T00:00:00",
          "2020-03-16T00:00:00",
          "2020-03-17T00:00:00",
          "2020-03-18T00:00:00",
          "2020-03-19T00:00:00",
          "2020-03-20T00:00:00",
          "2020-03-21T00:00:00",
          "2020-03-22T00:00:00",
          "2020-03-23T00:00:00",
          "2020-03-24T00:00:00",
          "2020-03-25T00:00:00",
          "2020-03-26T00:00:00",
          "2020-03-27T00:00:00",
          "2020-03-28T00:00:00",
          "2020-03-29T00:00:00",
          "2020-03-30T00:00:00",
          "2020-03-31T00:00:00",
          "2020-04-01T00:00:00",
          "2020-04-02T00:00:00",
          "2020-04-03T00:00:00",
          "2020-04-04T00:00:00",
          "2020-04-05T00:00:00",
          "2020-04-06T00:00:00",
          "2020-04-07T00:00:00",
          "2020-04-08T00:00:00",
          "2020-04-09T00:00:00",
          "2020-04-10T00:00:00",
          "2020-04-11T00:00:00",
          "2020-04-12T00:00:00",
          "2020-04-13T00:00:00",
          "2020-04-14T00:00:00",
          "2020-04-15T00:00:00",
          "2020-04-16T00:00:00",
          "2020-04-17T00:00:00",
          "2020-04-18T00:00:00",
          "2020-04-19T00:00:00",
          "2020-04-20T00:00:00",
          "2020-04-21T00:00:00",
          "2020-04-22T00:00:00",
          "2020-04-23T00:00:00",
          "2020-04-24T00:00:00",
          "2020-04-25T00:00:00",
          "2020-04-26T00:00:00",
          "2020-04-27T00:00:00",
          "2020-04-28T00:00:00",
          "2020-04-29T00:00:00",
          "2020-04-30T00:00:00",
          "2020-05-01T00:00:00",
          "2020-05-02T00:00:00",
          "2020-05-03T00:00:00",
          "2020-05-04T00:00:00",
          "2020-05-05T00:00:00",
          "2020-05-06T00:00:00",
          "2020-05-07T00:00:00",
          "2020-05-08T00:00:00",
          "2020-05-09T00:00:00",
          "2020-05-10T00:00:00",
          "2020-05-11T00:00:00",
          "2020-05-12T00:00:00",
          "2020-05-13T00:00:00",
          "2020-05-14T00:00:00",
          "2020-05-15T00:00:00",
          "2020-05-16T00:00:00",
          "2020-05-17T00:00:00",
          "2020-05-18T00:00:00",
          "2020-05-19T00:00:00",
          "2020-05-20T00:00:00",
          "2020-05-21T00:00:00",
          "2020-05-22T00:00:00",
          "2020-05-23T00:00:00",
          "2020-05-24T00:00:00",
          "2020-05-25T00:00:00",
          "2020-05-26T00:00:00",
          "2020-05-27T00:00:00",
          "2020-05-28T00:00:00",
          "2020-05-29T00:00:00",
          "2020-05-30T00:00:00",
          "2020-05-31T00:00:00",
          "2020-06-01T00:00:00",
          "2020-06-02T00:00:00",
          "2020-06-03T00:00:00",
          "2020-06-04T00:00:00",
          "2020-06-05T00:00:00",
          "2020-06-06T00:00:00",
          "2020-06-07T00:00:00",
          "2020-06-08T00:00:00",
          "2020-06-09T00:00:00",
          "2020-06-10T00:00:00",
          "2020-06-11T00:00:00",
          "2020-06-12T00:00:00",
          "2020-06-13T00:00:00",
          "2020-06-14T00:00:00",
          "2020-06-15T00:00:00",
          "2020-06-16T00:00:00",
          "2020-06-17T00:00:00",
          "2020-06-18T00:00:00",
          "2020-06-19T00:00:00",
          "2020-06-20T00:00:00",
          "2020-06-21T00:00:00",
          "2020-06-22T00:00:00",
          "2020-06-23T00:00:00",
          "2020-06-24T00:00:00",
          "2020-06-25T00:00:00",
          "2020-06-26T00:00:00",
          "2020-06-27T00:00:00",
          "2020-06-28T00:00:00",
          "2020-06-29T00:00:00",
          "2020-06-30T00:00:00",
          "2020-07-01T00:00:00",
          "2020-07-02T00:00:00",
          "2020-07-03T00:00:00",
          "2020-07-04T00:00:00",
          "2020-07-05T00:00:00",
          "2020-07-06T00:00:00",
          "2020-07-07T00:00:00",
          "2020-07-08T00:00:00",
          "2020-07-09T00:00:00",
          "2020-07-10T00:00:00",
          "2020-07-11T00:00:00",
          "2020-07-12T00:00:00",
          "2020-07-13T00:00:00",
          "2020-07-14T00:00:00",
          "2020-07-15T00:00:00",
          "2020-07-16T00:00:00",
          "2020-07-17T00:00:00",
          "2020-07-18T00:00:00",
          "2020-07-19T00:00:00",
          "2020-07-20T00:00:00",
          "2020-07-21T00:00:00",
          "2020-07-22T00:00:00",
          "2020-07-23T00:00:00",
          "2020-07-24T00:00:00",
          "2020-07-25T00:00:00",
          "2020-07-26T00:00:00",
          "2020-07-27T00:00:00",
          "2020-07-28T00:00:00",
          "2020-07-29T00:00:00",
          "2020-07-30T00:00:00",
          "2020-07-31T00:00:00",
          "2020-08-01T00:00:00",
          "2020-08-02T00:00:00",
          "2020-08-03T00:00:00",
          "2020-08-04T00:00:00",
          "2020-08-05T00:00:00",
          "2020-08-06T00:00:00",
          "2020-08-07T00:00:00",
          "2020-08-08T00:00:00",
          "2020-08-09T00:00:00",
          "2020-08-10T00:00:00",
          "2020-08-11T00:00:00",
          "2020-08-12T00:00:00",
          "2020-08-13T00:00:00",
          "2020-08-14T00:00:00",
          "2020-08-15T00:00:00",
          "2020-08-16T00:00:00",
          "2020-08-17T00:00:00",
          "2020-08-18T00:00:00",
          "2020-08-19T00:00:00",
          "2020-08-20T00:00:00",
          "2020-08-21T00:00:00",
          "2020-08-22T00:00:00",
          "2020-08-23T00:00:00",
          "2020-08-24T00:00:00",
          "2020-08-25T00:00:00",
          "2020-08-26T00:00:00",
          "2020-08-27T00:00:00",
          "2020-08-28T00:00:00",
          "2020-08-29T00:00:00",
          "2020-08-30T00:00:00",
          "2020-08-31T00:00:00",
          "2020-09-01T00:00:00",
          "2020-09-02T00:00:00",
          "2020-09-03T00:00:00",
          "2020-09-04T00:00:00",
          "2020-09-05T00:00:00",
          "2020-09-06T00:00:00",
          "2020-09-07T00:00:00",
          "2020-09-08T00:00:00",
          "2020-09-09T00:00:00",
          "2020-09-10T00:00:00",
          "2020-09-11T00:00:00",
          "2020-09-12T00:00:00",
          "2020-09-13T00:00:00",
          "2020-09-14T00:00:00",
          "2020-09-15T00:00:00",
          "2020-09-16T00:00:00",
          "2020-09-17T00:00:00",
          "2020-09-18T00:00:00",
          "2020-09-19T00:00:00",
          "2020-09-20T00:00:00",
          "2020-09-21T00:00:00",
          "2020-09-22T00:00:00",
          "2020-09-23T00:00:00",
          "2020-09-24T00:00:00",
          "2020-09-25T00:00:00",
          "2020-09-26T00:00:00",
          "2020-09-27T00:00:00",
          "2020-09-28T00:00:00",
          "2020-09-29T00:00:00",
          "2020-09-30T00:00:00",
          "2020-10-01T00:00:00",
          "2020-10-02T00:00:00",
          "2020-10-03T00:00:00",
          "2020-10-04T00:00:00",
          "2020-10-05T00:00:00",
          "2020-10-06T00:00:00"
         ],
         "xaxis": "x",
         "y": [
          2.036363636363636,
          6.17654028436019,
          null,
          null,
          0.8461538461538461,
          null,
          null,
          null,
          2.2865583456425407,
          null,
          null,
          null,
          2.792103948025987,
          5.142857142857143,
          null,
          null,
          0.11538461538461539,
          null,
          null,
          2.5035175879396987,
          4.216318785578748,
          7.9010989010989015,
          null,
          2.7471201316511245,
          2.5833333333333335,
          null,
          null,
          null,
          null,
          null,
          null,
          null,
          null,
          null,
          null,
          0.8136363636363636,
          null,
          null,
          null,
          5.54957507082153,
          null,
          null,
          null,
          null,
          null,
          null,
          null,
          null,
          null,
          null,
          null,
          null,
          null,
          null,
          null,
          null,
          null,
          null,
          1.5529801324503312,
          null,
          null,
          null,
          null,
          null,
          null,
          null,
          null,
          null,
          null,
          null,
          null,
          null,
          null,
          null,
          null,
          null,
          null,
          null,
          null,
          null,
          null,
          null,
          null,
          null,
          null,
          null,
          null,
          null,
          null,
          null,
          null,
          null,
          null,
          null,
          null,
          null,
          null,
          null,
          null,
          null,
          null,
          null,
          null,
          null,
          null,
          null,
          null,
          null,
          null,
          null,
          null,
          null,
          null,
          null,
          null,
          null,
          null,
          null,
          null,
          null,
          null,
          null,
          null,
          null,
          null,
          null,
          null,
          null,
          null,
          null,
          null,
          null,
          null,
          null,
          null,
          null,
          null,
          null,
          null,
          null,
          null,
          null,
          null,
          null,
          null,
          null,
          null,
          null,
          null,
          null,
          null,
          null,
          null,
          null,
          null,
          null,
          null,
          null,
          null,
          null,
          null,
          null,
          null,
          null,
          null,
          null,
          null,
          null,
          null,
          null,
          null,
          null,
          null,
          null,
          null,
          null,
          null,
          null,
          null,
          null,
          null,
          null,
          null,
          null,
          null,
          null,
          null,
          null,
          null,
          null,
          null,
          null,
          null,
          null,
          null,
          null,
          null,
          null,
          null,
          null,
          null,
          null,
          null,
          null,
          null,
          null,
          null,
          null,
          null,
          null,
          null,
          null,
          null,
          null,
          null,
          null,
          null,
          null,
          null,
          null,
          null,
          null,
          null,
          null,
          null,
          null,
          null,
          null,
          null,
          null,
          null,
          null,
          null,
          null,
          null,
          null,
          null,
          null,
          null,
          null,
          null,
          null,
          null,
          null,
          null,
          null,
          null,
          null,
          null,
          null,
          null,
          null,
          null,
          null,
          null,
          null,
          null,
          null,
          null,
          null,
          null,
          null,
          null,
          null,
          null,
          null,
          null,
          null,
          null,
          null,
          null,
          null,
          null,
          null,
          null,
          null,
          null,
          null,
          1.4838709677419355,
          null,
          null,
          null,
          1.4310344827586208,
          null,
          null,
          null,
          null,
          null,
          null,
          null,
          null,
          null,
          null,
          null,
          null,
          null,
          null,
          null,
          null,
          null,
          null,
          null,
          null,
          null,
          null,
          1.78
         ],
         "yaxis": "y"
        },
        {
         "hovertemplate": "variable=zscore<br>datetime=%{x}<br>value=%{y}<extra></extra>",
         "legendgroup": "zscore",
         "line": {
          "color": "#ab63fa",
          "dash": "solid"
         },
         "marker": {
          "symbol": "circle"
         },
         "mode": "lines",
         "name": "zscore",
         "showlegend": true,
         "type": "scattergl",
         "x": [
          "2019-12-06T00:00:00",
          "2019-12-07T00:00:00",
          "2019-12-08T00:00:00",
          "2019-12-09T00:00:00",
          "2019-12-10T00:00:00",
          "2019-12-11T00:00:00",
          "2019-12-12T00:00:00",
          "2019-12-13T00:00:00",
          "2019-12-14T00:00:00",
          "2019-12-15T00:00:00",
          "2019-12-16T00:00:00",
          "2019-12-17T00:00:00",
          "2019-12-18T00:00:00",
          "2019-12-19T00:00:00",
          "2019-12-20T00:00:00",
          "2019-12-21T00:00:00",
          "2019-12-22T00:00:00",
          "2019-12-23T00:00:00",
          "2019-12-24T00:00:00",
          "2019-12-25T00:00:00",
          "2019-12-26T00:00:00",
          "2019-12-27T00:00:00",
          "2019-12-28T00:00:00",
          "2019-12-29T00:00:00",
          "2019-12-30T00:00:00",
          "2019-12-31T00:00:00",
          "2020-01-01T00:00:00",
          "2020-01-02T00:00:00",
          "2020-01-03T00:00:00",
          "2020-01-04T00:00:00",
          "2020-01-05T00:00:00",
          "2020-01-06T00:00:00",
          "2020-01-07T00:00:00",
          "2020-01-08T00:00:00",
          "2020-01-09T00:00:00",
          "2020-01-10T00:00:00",
          "2020-01-11T00:00:00",
          "2020-01-12T00:00:00",
          "2020-01-13T00:00:00",
          "2020-01-14T00:00:00",
          "2020-01-15T00:00:00",
          "2020-01-16T00:00:00",
          "2020-01-17T00:00:00",
          "2020-01-18T00:00:00",
          "2020-01-19T00:00:00",
          "2020-01-20T00:00:00",
          "2020-01-21T00:00:00",
          "2020-01-22T00:00:00",
          "2020-01-23T00:00:00",
          "2020-01-24T00:00:00",
          "2020-01-25T00:00:00",
          "2020-01-26T00:00:00",
          "2020-01-27T00:00:00",
          "2020-01-28T00:00:00",
          "2020-01-29T00:00:00",
          "2020-01-30T00:00:00",
          "2020-01-31T00:00:00",
          "2020-02-01T00:00:00",
          "2020-02-02T00:00:00",
          "2020-02-03T00:00:00",
          "2020-02-04T00:00:00",
          "2020-02-05T00:00:00",
          "2020-02-06T00:00:00",
          "2020-02-07T00:00:00",
          "2020-02-08T00:00:00",
          "2020-02-09T00:00:00",
          "2020-02-10T00:00:00",
          "2020-02-11T00:00:00",
          "2020-02-12T00:00:00",
          "2020-02-13T00:00:00",
          "2020-02-14T00:00:00",
          "2020-02-15T00:00:00",
          "2020-02-16T00:00:00",
          "2020-02-17T00:00:00",
          "2020-02-18T00:00:00",
          "2020-02-19T00:00:00",
          "2020-02-20T00:00:00",
          "2020-02-21T00:00:00",
          "2020-02-22T00:00:00",
          "2020-02-23T00:00:00",
          "2020-02-24T00:00:00",
          "2020-02-25T00:00:00",
          "2020-02-26T00:00:00",
          "2020-02-27T00:00:00",
          "2020-02-28T00:00:00",
          "2020-02-29T00:00:00",
          "2020-03-01T00:00:00",
          "2020-03-02T00:00:00",
          "2020-03-03T00:00:00",
          "2020-03-04T00:00:00",
          "2020-03-05T00:00:00",
          "2020-03-06T00:00:00",
          "2020-03-07T00:00:00",
          "2020-03-08T00:00:00",
          "2020-03-09T00:00:00",
          "2020-03-10T00:00:00",
          "2020-03-11T00:00:00",
          "2020-03-12T00:00:00",
          "2020-03-13T00:00:00",
          "2020-03-14T00:00:00",
          "2020-03-15T00:00:00",
          "2020-03-16T00:00:00",
          "2020-03-17T00:00:00",
          "2020-03-18T00:00:00",
          "2020-03-19T00:00:00",
          "2020-03-20T00:00:00",
          "2020-03-21T00:00:00",
          "2020-03-22T00:00:00",
          "2020-03-23T00:00:00",
          "2020-03-24T00:00:00",
          "2020-03-25T00:00:00",
          "2020-03-26T00:00:00",
          "2020-03-27T00:00:00",
          "2020-03-28T00:00:00",
          "2020-03-29T00:00:00",
          "2020-03-30T00:00:00",
          "2020-03-31T00:00:00",
          "2020-04-01T00:00:00",
          "2020-04-02T00:00:00",
          "2020-04-03T00:00:00",
          "2020-04-04T00:00:00",
          "2020-04-05T00:00:00",
          "2020-04-06T00:00:00",
          "2020-04-07T00:00:00",
          "2020-04-08T00:00:00",
          "2020-04-09T00:00:00",
          "2020-04-10T00:00:00",
          "2020-04-11T00:00:00",
          "2020-04-12T00:00:00",
          "2020-04-13T00:00:00",
          "2020-04-14T00:00:00",
          "2020-04-15T00:00:00",
          "2020-04-16T00:00:00",
          "2020-04-17T00:00:00",
          "2020-04-18T00:00:00",
          "2020-04-19T00:00:00",
          "2020-04-20T00:00:00",
          "2020-04-21T00:00:00",
          "2020-04-22T00:00:00",
          "2020-04-23T00:00:00",
          "2020-04-24T00:00:00",
          "2020-04-25T00:00:00",
          "2020-04-26T00:00:00",
          "2020-04-27T00:00:00",
          "2020-04-28T00:00:00",
          "2020-04-29T00:00:00",
          "2020-04-30T00:00:00",
          "2020-05-01T00:00:00",
          "2020-05-02T00:00:00",
          "2020-05-03T00:00:00",
          "2020-05-04T00:00:00",
          "2020-05-05T00:00:00",
          "2020-05-06T00:00:00",
          "2020-05-07T00:00:00",
          "2020-05-08T00:00:00",
          "2020-05-09T00:00:00",
          "2020-05-10T00:00:00",
          "2020-05-11T00:00:00",
          "2020-05-12T00:00:00",
          "2020-05-13T00:00:00",
          "2020-05-14T00:00:00",
          "2020-05-15T00:00:00",
          "2020-05-16T00:00:00",
          "2020-05-17T00:00:00",
          "2020-05-18T00:00:00",
          "2020-05-19T00:00:00",
          "2020-05-20T00:00:00",
          "2020-05-21T00:00:00",
          "2020-05-22T00:00:00",
          "2020-05-23T00:00:00",
          "2020-05-24T00:00:00",
          "2020-05-25T00:00:00",
          "2020-05-26T00:00:00",
          "2020-05-27T00:00:00",
          "2020-05-28T00:00:00",
          "2020-05-29T00:00:00",
          "2020-05-30T00:00:00",
          "2020-05-31T00:00:00",
          "2020-06-01T00:00:00",
          "2020-06-02T00:00:00",
          "2020-06-03T00:00:00",
          "2020-06-04T00:00:00",
          "2020-06-05T00:00:00",
          "2020-06-06T00:00:00",
          "2020-06-07T00:00:00",
          "2020-06-08T00:00:00",
          "2020-06-09T00:00:00",
          "2020-06-10T00:00:00",
          "2020-06-11T00:00:00",
          "2020-06-12T00:00:00",
          "2020-06-13T00:00:00",
          "2020-06-14T00:00:00",
          "2020-06-15T00:00:00",
          "2020-06-16T00:00:00",
          "2020-06-17T00:00:00",
          "2020-06-18T00:00:00",
          "2020-06-19T00:00:00",
          "2020-06-20T00:00:00",
          "2020-06-21T00:00:00",
          "2020-06-22T00:00:00",
          "2020-06-23T00:00:00",
          "2020-06-24T00:00:00",
          "2020-06-25T00:00:00",
          "2020-06-26T00:00:00",
          "2020-06-27T00:00:00",
          "2020-06-28T00:00:00",
          "2020-06-29T00:00:00",
          "2020-06-30T00:00:00",
          "2020-07-01T00:00:00",
          "2020-07-02T00:00:00",
          "2020-07-03T00:00:00",
          "2020-07-04T00:00:00",
          "2020-07-05T00:00:00",
          "2020-07-06T00:00:00",
          "2020-07-07T00:00:00",
          "2020-07-08T00:00:00",
          "2020-07-09T00:00:00",
          "2020-07-10T00:00:00",
          "2020-07-11T00:00:00",
          "2020-07-12T00:00:00",
          "2020-07-13T00:00:00",
          "2020-07-14T00:00:00",
          "2020-07-15T00:00:00",
          "2020-07-16T00:00:00",
          "2020-07-17T00:00:00",
          "2020-07-18T00:00:00",
          "2020-07-19T00:00:00",
          "2020-07-20T00:00:00",
          "2020-07-21T00:00:00",
          "2020-07-22T00:00:00",
          "2020-07-23T00:00:00",
          "2020-07-24T00:00:00",
          "2020-07-25T00:00:00",
          "2020-07-26T00:00:00",
          "2020-07-27T00:00:00",
          "2020-07-28T00:00:00",
          "2020-07-29T00:00:00",
          "2020-07-30T00:00:00",
          "2020-07-31T00:00:00",
          "2020-08-01T00:00:00",
          "2020-08-02T00:00:00",
          "2020-08-03T00:00:00",
          "2020-08-04T00:00:00",
          "2020-08-05T00:00:00",
          "2020-08-06T00:00:00",
          "2020-08-07T00:00:00",
          "2020-08-08T00:00:00",
          "2020-08-09T00:00:00",
          "2020-08-10T00:00:00",
          "2020-08-11T00:00:00",
          "2020-08-12T00:00:00",
          "2020-08-13T00:00:00",
          "2020-08-14T00:00:00",
          "2020-08-15T00:00:00",
          "2020-08-16T00:00:00",
          "2020-08-17T00:00:00",
          "2020-08-18T00:00:00",
          "2020-08-19T00:00:00",
          "2020-08-20T00:00:00",
          "2020-08-21T00:00:00",
          "2020-08-22T00:00:00",
          "2020-08-23T00:00:00",
          "2020-08-24T00:00:00",
          "2020-08-25T00:00:00",
          "2020-08-26T00:00:00",
          "2020-08-27T00:00:00",
          "2020-08-28T00:00:00",
          "2020-08-29T00:00:00",
          "2020-08-30T00:00:00",
          "2020-08-31T00:00:00",
          "2020-09-01T00:00:00",
          "2020-09-02T00:00:00",
          "2020-09-03T00:00:00",
          "2020-09-04T00:00:00",
          "2020-09-05T00:00:00",
          "2020-09-06T00:00:00",
          "2020-09-07T00:00:00",
          "2020-09-08T00:00:00",
          "2020-09-09T00:00:00",
          "2020-09-10T00:00:00",
          "2020-09-11T00:00:00",
          "2020-09-12T00:00:00",
          "2020-09-13T00:00:00",
          "2020-09-14T00:00:00",
          "2020-09-15T00:00:00",
          "2020-09-16T00:00:00",
          "2020-09-17T00:00:00",
          "2020-09-18T00:00:00",
          "2020-09-19T00:00:00",
          "2020-09-20T00:00:00",
          "2020-09-21T00:00:00",
          "2020-09-22T00:00:00",
          "2020-09-23T00:00:00",
          "2020-09-24T00:00:00",
          "2020-09-25T00:00:00",
          "2020-09-26T00:00:00",
          "2020-09-27T00:00:00",
          "2020-09-28T00:00:00",
          "2020-09-29T00:00:00",
          "2020-09-30T00:00:00",
          "2020-10-01T00:00:00",
          "2020-10-02T00:00:00",
          "2020-10-03T00:00:00",
          "2020-10-04T00:00:00",
          "2020-10-05T00:00:00",
          "2020-10-06T00:00:00"
         ],
         "xaxis": "x",
         "y": [
          0.657462378518286,
          4.797639026514839,
          null,
          null,
          -0.532747411691504,
          null,
          null,
          null,
          0.9076570877971906,
          null,
          null,
          null,
          1.413202690180637,
          3.763955885011793,
          null,
          null,
          -1.2635166424607347,
          null,
          null,
          1.1246163300943486,
          2.8374175277333977,
          6.522197643253551,
          null,
          1.3682188738057743,
          1.2044320754879834,
          null,
          null,
          null,
          null,
          null,
          null,
          null,
          null,
          null,
          null,
          -0.5652648942089865,
          null,
          null,
          null,
          4.17067381297618,
          null,
          null,
          null,
          null,
          null,
          null,
          null,
          null,
          null,
          null,
          null,
          null,
          null,
          null,
          null,
          null,
          null,
          null,
          0.17407887460498106,
          null,
          null,
          null,
          null,
          null,
          null,
          null,
          null,
          null,
          null,
          null,
          null,
          null,
          null,
          null,
          null,
          null,
          null,
          null,
          null,
          null,
          null,
          null,
          null,
          null,
          null,
          null,
          null,
          null,
          null,
          null,
          null,
          null,
          null,
          null,
          null,
          null,
          null,
          null,
          null,
          null,
          null,
          null,
          null,
          null,
          null,
          null,
          null,
          null,
          null,
          null,
          null,
          null,
          null,
          null,
          null,
          null,
          null,
          null,
          null,
          null,
          null,
          null,
          null,
          null,
          null,
          null,
          null,
          null,
          null,
          null,
          null,
          null,
          null,
          null,
          null,
          null,
          null,
          null,
          null,
          null,
          null,
          null,
          null,
          null,
          null,
          null,
          null,
          null,
          null,
          null,
          null,
          null,
          null,
          null,
          null,
          null,
          null,
          null,
          null,
          null,
          null,
          null,
          null,
          null,
          null,
          null,
          null,
          null,
          null,
          null,
          null,
          null,
          null,
          null,
          null,
          null,
          null,
          null,
          null,
          null,
          null,
          null,
          null,
          null,
          null,
          null,
          null,
          null,
          null,
          null,
          null,
          null,
          null,
          null,
          null,
          null,
          null,
          null,
          null,
          null,
          null,
          null,
          null,
          null,
          null,
          null,
          null,
          null,
          null,
          null,
          null,
          null,
          null,
          null,
          null,
          null,
          null,
          null,
          null,
          null,
          null,
          null,
          null,
          null,
          null,
          null,
          null,
          null,
          null,
          null,
          null,
          null,
          null,
          null,
          null,
          null,
          null,
          null,
          null,
          null,
          null,
          null,
          null,
          null,
          null,
          null,
          null,
          null,
          null,
          null,
          null,
          null,
          null,
          null,
          null,
          null,
          null,
          null,
          null,
          null,
          null,
          null,
          null,
          null,
          null,
          null,
          null,
          null,
          null,
          null,
          null,
          null,
          null,
          null,
          null,
          null,
          null,
          null,
          0.10496970989658538,
          null,
          null,
          null,
          0.05213322491327066,
          null,
          null,
          null,
          null,
          null,
          null,
          null,
          null,
          null,
          null,
          null,
          null,
          null,
          null,
          null,
          null,
          null,
          null,
          null,
          null,
          null,
          null,
          0.4010987421546499
         ],
         "yaxis": "y"
        }
       ],
       "layout": {
        "autosize": true,
        "legend": {
         "title": {
          "text": "variable"
         },
         "tracegroupgap": 0
        },
        "margin": {
         "t": 60
        },
        "template": {
         "data": {
          "bar": [
           {
            "error_x": {
             "color": "#2a3f5f"
            },
            "error_y": {
             "color": "#2a3f5f"
            },
            "marker": {
             "line": {
              "color": "#E5ECF6",
              "width": 0.5
             },
             "pattern": {
              "fillmode": "overlay",
              "size": 10,
              "solidity": 0.2
             }
            },
            "type": "bar"
           }
          ],
          "barpolar": [
           {
            "marker": {
             "line": {
              "color": "#E5ECF6",
              "width": 0.5
             },
             "pattern": {
              "fillmode": "overlay",
              "size": 10,
              "solidity": 0.2
             }
            },
            "type": "barpolar"
           }
          ],
          "carpet": [
           {
            "aaxis": {
             "endlinecolor": "#2a3f5f",
             "gridcolor": "white",
             "linecolor": "white",
             "minorgridcolor": "white",
             "startlinecolor": "#2a3f5f"
            },
            "baxis": {
             "endlinecolor": "#2a3f5f",
             "gridcolor": "white",
             "linecolor": "white",
             "minorgridcolor": "white",
             "startlinecolor": "#2a3f5f"
            },
            "type": "carpet"
           }
          ],
          "choropleth": [
           {
            "colorbar": {
             "outlinewidth": 0,
             "ticks": ""
            },
            "type": "choropleth"
           }
          ],
          "contour": [
           {
            "colorbar": {
             "outlinewidth": 0,
             "ticks": ""
            },
            "colorscale": [
             [
              0,
              "#0d0887"
             ],
             [
              0.1111111111111111,
              "#46039f"
             ],
             [
              0.2222222222222222,
              "#7201a8"
             ],
             [
              0.3333333333333333,
              "#9c179e"
             ],
             [
              0.4444444444444444,
              "#bd3786"
             ],
             [
              0.5555555555555556,
              "#d8576b"
             ],
             [
              0.6666666666666666,
              "#ed7953"
             ],
             [
              0.7777777777777778,
              "#fb9f3a"
             ],
             [
              0.8888888888888888,
              "#fdca26"
             ],
             [
              1,
              "#f0f921"
             ]
            ],
            "type": "contour"
           }
          ],
          "contourcarpet": [
           {
            "colorbar": {
             "outlinewidth": 0,
             "ticks": ""
            },
            "type": "contourcarpet"
           }
          ],
          "heatmap": [
           {
            "colorbar": {
             "outlinewidth": 0,
             "ticks": ""
            },
            "colorscale": [
             [
              0,
              "#0d0887"
             ],
             [
              0.1111111111111111,
              "#46039f"
             ],
             [
              0.2222222222222222,
              "#7201a8"
             ],
             [
              0.3333333333333333,
              "#9c179e"
             ],
             [
              0.4444444444444444,
              "#bd3786"
             ],
             [
              0.5555555555555556,
              "#d8576b"
             ],
             [
              0.6666666666666666,
              "#ed7953"
             ],
             [
              0.7777777777777778,
              "#fb9f3a"
             ],
             [
              0.8888888888888888,
              "#fdca26"
             ],
             [
              1,
              "#f0f921"
             ]
            ],
            "type": "heatmap"
           }
          ],
          "heatmapgl": [
           {
            "colorbar": {
             "outlinewidth": 0,
             "ticks": ""
            },
            "colorscale": [
             [
              0,
              "#0d0887"
             ],
             [
              0.1111111111111111,
              "#46039f"
             ],
             [
              0.2222222222222222,
              "#7201a8"
             ],
             [
              0.3333333333333333,
              "#9c179e"
             ],
             [
              0.4444444444444444,
              "#bd3786"
             ],
             [
              0.5555555555555556,
              "#d8576b"
             ],
             [
              0.6666666666666666,
              "#ed7953"
             ],
             [
              0.7777777777777778,
              "#fb9f3a"
             ],
             [
              0.8888888888888888,
              "#fdca26"
             ],
             [
              1,
              "#f0f921"
             ]
            ],
            "type": "heatmapgl"
           }
          ],
          "histogram": [
           {
            "marker": {
             "pattern": {
              "fillmode": "overlay",
              "size": 10,
              "solidity": 0.2
             }
            },
            "type": "histogram"
           }
          ],
          "histogram2d": [
           {
            "colorbar": {
             "outlinewidth": 0,
             "ticks": ""
            },
            "colorscale": [
             [
              0,
              "#0d0887"
             ],
             [
              0.1111111111111111,
              "#46039f"
             ],
             [
              0.2222222222222222,
              "#7201a8"
             ],
             [
              0.3333333333333333,
              "#9c179e"
             ],
             [
              0.4444444444444444,
              "#bd3786"
             ],
             [
              0.5555555555555556,
              "#d8576b"
             ],
             [
              0.6666666666666666,
              "#ed7953"
             ],
             [
              0.7777777777777778,
              "#fb9f3a"
             ],
             [
              0.8888888888888888,
              "#fdca26"
             ],
             [
              1,
              "#f0f921"
             ]
            ],
            "type": "histogram2d"
           }
          ],
          "histogram2dcontour": [
           {
            "colorbar": {
             "outlinewidth": 0,
             "ticks": ""
            },
            "colorscale": [
             [
              0,
              "#0d0887"
             ],
             [
              0.1111111111111111,
              "#46039f"
             ],
             [
              0.2222222222222222,
              "#7201a8"
             ],
             [
              0.3333333333333333,
              "#9c179e"
             ],
             [
              0.4444444444444444,
              "#bd3786"
             ],
             [
              0.5555555555555556,
              "#d8576b"
             ],
             [
              0.6666666666666666,
              "#ed7953"
             ],
             [
              0.7777777777777778,
              "#fb9f3a"
             ],
             [
              0.8888888888888888,
              "#fdca26"
             ],
             [
              1,
              "#f0f921"
             ]
            ],
            "type": "histogram2dcontour"
           }
          ],
          "mesh3d": [
           {
            "colorbar": {
             "outlinewidth": 0,
             "ticks": ""
            },
            "type": "mesh3d"
           }
          ],
          "parcoords": [
           {
            "line": {
             "colorbar": {
              "outlinewidth": 0,
              "ticks": ""
             }
            },
            "type": "parcoords"
           }
          ],
          "pie": [
           {
            "automargin": true,
            "type": "pie"
           }
          ],
          "scatter": [
           {
            "marker": {
             "colorbar": {
              "outlinewidth": 0,
              "ticks": ""
             }
            },
            "type": "scatter"
           }
          ],
          "scatter3d": [
           {
            "line": {
             "colorbar": {
              "outlinewidth": 0,
              "ticks": ""
             }
            },
            "marker": {
             "colorbar": {
              "outlinewidth": 0,
              "ticks": ""
             }
            },
            "type": "scatter3d"
           }
          ],
          "scattercarpet": [
           {
            "marker": {
             "colorbar": {
              "outlinewidth": 0,
              "ticks": ""
             }
            },
            "type": "scattercarpet"
           }
          ],
          "scattergeo": [
           {
            "marker": {
             "colorbar": {
              "outlinewidth": 0,
              "ticks": ""
             }
            },
            "type": "scattergeo"
           }
          ],
          "scattergl": [
           {
            "marker": {
             "colorbar": {
              "outlinewidth": 0,
              "ticks": ""
             }
            },
            "type": "scattergl"
           }
          ],
          "scattermapbox": [
           {
            "marker": {
             "colorbar": {
              "outlinewidth": 0,
              "ticks": ""
             }
            },
            "type": "scattermapbox"
           }
          ],
          "scatterpolar": [
           {
            "marker": {
             "colorbar": {
              "outlinewidth": 0,
              "ticks": ""
             }
            },
            "type": "scatterpolar"
           }
          ],
          "scatterpolargl": [
           {
            "marker": {
             "colorbar": {
              "outlinewidth": 0,
              "ticks": ""
             }
            },
            "type": "scatterpolargl"
           }
          ],
          "scatterternary": [
           {
            "marker": {
             "colorbar": {
              "outlinewidth": 0,
              "ticks": ""
             }
            },
            "type": "scatterternary"
           }
          ],
          "surface": [
           {
            "colorbar": {
             "outlinewidth": 0,
             "ticks": ""
            },
            "colorscale": [
             [
              0,
              "#0d0887"
             ],
             [
              0.1111111111111111,
              "#46039f"
             ],
             [
              0.2222222222222222,
              "#7201a8"
             ],
             [
              0.3333333333333333,
              "#9c179e"
             ],
             [
              0.4444444444444444,
              "#bd3786"
             ],
             [
              0.5555555555555556,
              "#d8576b"
             ],
             [
              0.6666666666666666,
              "#ed7953"
             ],
             [
              0.7777777777777778,
              "#fb9f3a"
             ],
             [
              0.8888888888888888,
              "#fdca26"
             ],
             [
              1,
              "#f0f921"
             ]
            ],
            "type": "surface"
           }
          ],
          "table": [
           {
            "cells": {
             "fill": {
              "color": "#EBF0F8"
             },
             "line": {
              "color": "white"
             }
            },
            "header": {
             "fill": {
              "color": "#C8D4E3"
             },
             "line": {
              "color": "white"
             }
            },
            "type": "table"
           }
          ]
         },
         "layout": {
          "annotationdefaults": {
           "arrowcolor": "#2a3f5f",
           "arrowhead": 0,
           "arrowwidth": 1
          },
          "autotypenumbers": "strict",
          "coloraxis": {
           "colorbar": {
            "outlinewidth": 0,
            "ticks": ""
           }
          },
          "colorscale": {
           "diverging": [
            [
             0,
             "#8e0152"
            ],
            [
             0.1,
             "#c51b7d"
            ],
            [
             0.2,
             "#de77ae"
            ],
            [
             0.3,
             "#f1b6da"
            ],
            [
             0.4,
             "#fde0ef"
            ],
            [
             0.5,
             "#f7f7f7"
            ],
            [
             0.6,
             "#e6f5d0"
            ],
            [
             0.7,
             "#b8e186"
            ],
            [
             0.8,
             "#7fbc41"
            ],
            [
             0.9,
             "#4d9221"
            ],
            [
             1,
             "#276419"
            ]
           ],
           "sequential": [
            [
             0,
             "#0d0887"
            ],
            [
             0.1111111111111111,
             "#46039f"
            ],
            [
             0.2222222222222222,
             "#7201a8"
            ],
            [
             0.3333333333333333,
             "#9c179e"
            ],
            [
             0.4444444444444444,
             "#bd3786"
            ],
            [
             0.5555555555555556,
             "#d8576b"
            ],
            [
             0.6666666666666666,
             "#ed7953"
            ],
            [
             0.7777777777777778,
             "#fb9f3a"
            ],
            [
             0.8888888888888888,
             "#fdca26"
            ],
            [
             1,
             "#f0f921"
            ]
           ],
           "sequentialminus": [
            [
             0,
             "#0d0887"
            ],
            [
             0.1111111111111111,
             "#46039f"
            ],
            [
             0.2222222222222222,
             "#7201a8"
            ],
            [
             0.3333333333333333,
             "#9c179e"
            ],
            [
             0.4444444444444444,
             "#bd3786"
            ],
            [
             0.5555555555555556,
             "#d8576b"
            ],
            [
             0.6666666666666666,
             "#ed7953"
            ],
            [
             0.7777777777777778,
             "#fb9f3a"
            ],
            [
             0.8888888888888888,
             "#fdca26"
            ],
            [
             1,
             "#f0f921"
            ]
           ]
          },
          "colorway": [
           "#636efa",
           "#EF553B",
           "#00cc96",
           "#ab63fa",
           "#FFA15A",
           "#19d3f3",
           "#FF6692",
           "#B6E880",
           "#FF97FF",
           "#FECB52"
          ],
          "font": {
           "color": "#2a3f5f"
          },
          "geo": {
           "bgcolor": "white",
           "lakecolor": "white",
           "landcolor": "#E5ECF6",
           "showlakes": true,
           "showland": true,
           "subunitcolor": "white"
          },
          "hoverlabel": {
           "align": "left"
          },
          "hovermode": "closest",
          "mapbox": {
           "style": "light"
          },
          "paper_bgcolor": "white",
          "plot_bgcolor": "#E5ECF6",
          "polar": {
           "angularaxis": {
            "gridcolor": "white",
            "linecolor": "white",
            "ticks": ""
           },
           "bgcolor": "#E5ECF6",
           "radialaxis": {
            "gridcolor": "white",
            "linecolor": "white",
            "ticks": ""
           }
          },
          "scene": {
           "xaxis": {
            "backgroundcolor": "#E5ECF6",
            "gridcolor": "white",
            "gridwidth": 2,
            "linecolor": "white",
            "showbackground": true,
            "ticks": "",
            "zerolinecolor": "white"
           },
           "yaxis": {
            "backgroundcolor": "#E5ECF6",
            "gridcolor": "white",
            "gridwidth": 2,
            "linecolor": "white",
            "showbackground": true,
            "ticks": "",
            "zerolinecolor": "white"
           },
           "zaxis": {
            "backgroundcolor": "#E5ECF6",
            "gridcolor": "white",
            "gridwidth": 2,
            "linecolor": "white",
            "showbackground": true,
            "ticks": "",
            "zerolinecolor": "white"
           }
          },
          "shapedefaults": {
           "line": {
            "color": "#2a3f5f"
           }
          },
          "ternary": {
           "aaxis": {
            "gridcolor": "white",
            "linecolor": "white",
            "ticks": ""
           },
           "baxis": {
            "gridcolor": "white",
            "linecolor": "white",
            "ticks": ""
           },
           "bgcolor": "#E5ECF6",
           "caxis": {
            "gridcolor": "white",
            "linecolor": "white",
            "ticks": ""
           }
          },
          "title": {
           "x": 0.05
          },
          "xaxis": {
           "automargin": true,
           "gridcolor": "white",
           "linecolor": "white",
           "ticks": "",
           "title": {
            "standoff": 15
           },
           "zerolinecolor": "white",
           "zerolinewidth": 2
          },
          "yaxis": {
           "automargin": true,
           "gridcolor": "white",
           "linecolor": "white",
           "ticks": "",
           "title": {
            "standoff": 15
           },
           "zerolinecolor": "white",
           "zerolinewidth": 2
          }
         }
        },
        "xaxis": {
         "anchor": "y",
         "autorange": true,
         "domain": [
          0,
          1
         ],
         "range": [
          "2019-12-06",
          "2020-10-06"
         ],
         "title": {
          "text": "datetime"
         },
         "type": "date"
        },
        "yaxis": {
         "anchor": "x",
         "autorange": true,
         "domain": [
          0,
          1
         ],
         "range": [
          -311.7226009003752,
          5897.459084257915
         ],
         "title": {
          "text": "value"
         },
         "type": "linear"
        }
       }
      },
      "text/html": [
       "<div>                            <div id=\"12f0efcc-0e1e-4147-b496-95a0ae0c06f2\" class=\"plotly-graph-div\" style=\"height:525px; width:100%;\"></div>            <script type=\"text/javascript\">                require([\"plotly\"], function(Plotly) {                    window.PLOTLYENV=window.PLOTLYENV || {};                                    if (document.getElementById(\"12f0efcc-0e1e-4147-b496-95a0ae0c06f2\")) {                    Plotly.newPlot(                        \"12f0efcc-0e1e-4147-b496-95a0ae0c06f2\",                        [{\"hovertemplate\":\"variable=master_count<br>datetime=%{x}<br>value=%{y}<extra></extra>\",\"legendgroup\":\"master_count\",\"line\":{\"color\":\"#636efa\",\"dash\":\"solid\"},\"marker\":{\"symbol\":\"circle\"},\"mode\":\"lines\",\"name\":\"master_count\",\"showlegend\":true,\"type\":\"scattergl\",\"x\":[\"2019-12-06T00:00:00\",\"2019-12-07T00:00:00\",\"2019-12-08T00:00:00\",\"2019-12-09T00:00:00\",\"2019-12-10T00:00:00\",\"2019-12-11T00:00:00\",\"2019-12-12T00:00:00\",\"2019-12-13T00:00:00\",\"2019-12-14T00:00:00\",\"2019-12-15T00:00:00\",\"2019-12-16T00:00:00\",\"2019-12-17T00:00:00\",\"2019-12-18T00:00:00\",\"2019-12-19T00:00:00\",\"2019-12-20T00:00:00\",\"2019-12-21T00:00:00\",\"2019-12-22T00:00:00\",\"2019-12-23T00:00:00\",\"2019-12-24T00:00:00\",\"2019-12-25T00:00:00\",\"2019-12-26T00:00:00\",\"2019-12-27T00:00:00\",\"2019-12-28T00:00:00\",\"2019-12-29T00:00:00\",\"2019-12-30T00:00:00\",\"2019-12-31T00:00:00\",\"2020-01-01T00:00:00\",\"2020-01-02T00:00:00\",\"2020-01-03T00:00:00\",\"2020-01-04T00:00:00\",\"2020-01-05T00:00:00\",\"2020-01-06T00:00:00\",\"2020-01-07T00:00:00\",\"2020-01-08T00:00:00\",\"2020-01-09T00:00:00\",\"2020-01-10T00:00:00\",\"2020-01-11T00:00:00\",\"2020-01-12T00:00:00\",\"2020-01-13T00:00:00\",\"2020-01-14T00:00:00\",\"2020-01-15T00:00:00\",\"2020-01-16T00:00:00\",\"2020-01-17T00:00:00\",\"2020-01-18T00:00:00\",\"2020-01-19T00:00:00\",\"2020-01-20T00:00:00\",\"2020-01-21T00:00:00\",\"2020-01-22T00:00:00\",\"2020-01-23T00:00:00\",\"2020-01-24T00:00:00\",\"2020-01-25T00:00:00\",\"2020-01-26T00:00:00\",\"2020-01-27T00:00:00\",\"2020-01-28T00:00:00\",\"2020-01-29T00:00:00\",\"2020-01-30T00:00:00\",\"2020-01-31T00:00:00\",\"2020-02-01T00:00:00\",\"2020-02-02T00:00:00\",\"2020-02-03T00:00:00\",\"2020-02-04T00:00:00\",\"2020-02-05T00:00:00\",\"2020-02-06T00:00:00\",\"2020-02-07T00:00:00\",\"2020-02-08T00:00:00\",\"2020-02-09T00:00:00\",\"2020-02-10T00:00:00\",\"2020-02-11T00:00:00\",\"2020-02-12T00:00:00\",\"2020-02-13T00:00:00\",\"2020-02-14T00:00:00\",\"2020-02-15T00:00:00\",\"2020-02-16T00:00:00\",\"2020-02-17T00:00:00\",\"2020-02-18T00:00:00\",\"2020-02-19T00:00:00\",\"2020-02-20T00:00:00\",\"2020-02-21T00:00:00\",\"2020-02-22T00:00:00\",\"2020-02-23T00:00:00\",\"2020-02-24T00:00:00\",\"2020-02-25T00:00:00\",\"2020-02-26T00:00:00\",\"2020-02-27T00:00:00\",\"2020-02-28T00:00:00\",\"2020-02-29T00:00:00\",\"2020-03-01T00:00:00\",\"2020-03-02T00:00:00\",\"2020-03-03T00:00:00\",\"2020-03-04T00:00:00\",\"2020-03-05T00:00:00\",\"2020-03-06T00:00:00\",\"2020-03-07T00:00:00\",\"2020-03-08T00:00:00\",\"2020-03-09T00:00:00\",\"2020-03-10T00:00:00\",\"2020-03-11T00:00:00\",\"2020-03-12T00:00:00\",\"2020-03-13T00:00:00\",\"2020-03-14T00:00:00\",\"2020-03-15T00:00:00\",\"2020-03-16T00:00:00\",\"2020-03-17T00:00:00\",\"2020-03-18T00:00:00\",\"2020-03-19T00:00:00\",\"2020-03-20T00:00:00\",\"2020-03-21T00:00:00\",\"2020-03-22T00:00:00\",\"2020-03-23T00:00:00\",\"2020-03-24T00:00:00\",\"2020-03-25T00:00:00\",\"2020-03-26T00:00:00\",\"2020-03-27T00:00:00\",\"2020-03-28T00:00:00\",\"2020-03-29T00:00:00\",\"2020-03-30T00:00:00\",\"2020-03-31T00:00:00\",\"2020-04-01T00:00:00\",\"2020-04-02T00:00:00\",\"2020-04-03T00:00:00\",\"2020-04-04T00:00:00\",\"2020-04-05T00:00:00\",\"2020-04-06T00:00:00\",\"2020-04-07T00:00:00\",\"2020-04-08T00:00:00\",\"2020-04-09T00:00:00\",\"2020-04-10T00:00:00\",\"2020-04-11T00:00:00\",\"2020-04-12T00:00:00\",\"2020-04-13T00:00:00\",\"2020-04-14T00:00:00\",\"2020-04-15T00:00:00\",\"2020-04-16T00:00:00\",\"2020-04-17T00:00:00\",\"2020-04-18T00:00:00\",\"2020-04-19T00:00:00\",\"2020-04-20T00:00:00\",\"2020-04-21T00:00:00\",\"2020-04-22T00:00:00\",\"2020-04-23T00:00:00\",\"2020-04-24T00:00:00\",\"2020-04-25T00:00:00\",\"2020-04-26T00:00:00\",\"2020-04-27T00:00:00\",\"2020-04-28T00:00:00\",\"2020-04-29T00:00:00\",\"2020-04-30T00:00:00\",\"2020-05-01T00:00:00\",\"2020-05-02T00:00:00\",\"2020-05-03T00:00:00\",\"2020-05-04T00:00:00\",\"2020-05-05T00:00:00\",\"2020-05-06T00:00:00\",\"2020-05-07T00:00:00\",\"2020-05-08T00:00:00\",\"2020-05-09T00:00:00\",\"2020-05-10T00:00:00\",\"2020-05-11T00:00:00\",\"2020-05-12T00:00:00\",\"2020-05-13T00:00:00\",\"2020-05-14T00:00:00\",\"2020-05-15T00:00:00\",\"2020-05-16T00:00:00\",\"2020-05-17T00:00:00\",\"2020-05-18T00:00:00\",\"2020-05-19T00:00:00\",\"2020-05-20T00:00:00\",\"2020-05-21T00:00:00\",\"2020-05-22T00:00:00\",\"2020-05-23T00:00:00\",\"2020-05-24T00:00:00\",\"2020-05-25T00:00:00\",\"2020-05-26T00:00:00\",\"2020-05-27T00:00:00\",\"2020-05-28T00:00:00\",\"2020-05-29T00:00:00\",\"2020-05-30T00:00:00\",\"2020-05-31T00:00:00\",\"2020-06-01T00:00:00\",\"2020-06-02T00:00:00\",\"2020-06-03T00:00:00\",\"2020-06-04T00:00:00\",\"2020-06-05T00:00:00\",\"2020-06-06T00:00:00\",\"2020-06-07T00:00:00\",\"2020-06-08T00:00:00\",\"2020-06-09T00:00:00\",\"2020-06-10T00:00:00\",\"2020-06-11T00:00:00\",\"2020-06-12T00:00:00\",\"2020-06-13T00:00:00\",\"2020-06-14T00:00:00\",\"2020-06-15T00:00:00\",\"2020-06-16T00:00:00\",\"2020-06-17T00:00:00\",\"2020-06-18T00:00:00\",\"2020-06-19T00:00:00\",\"2020-06-20T00:00:00\",\"2020-06-21T00:00:00\",\"2020-06-22T00:00:00\",\"2020-06-23T00:00:00\",\"2020-06-24T00:00:00\",\"2020-06-25T00:00:00\",\"2020-06-26T00:00:00\",\"2020-06-27T00:00:00\",\"2020-06-28T00:00:00\",\"2020-06-29T00:00:00\",\"2020-06-30T00:00:00\",\"2020-07-01T00:00:00\",\"2020-07-02T00:00:00\",\"2020-07-03T00:00:00\",\"2020-07-04T00:00:00\",\"2020-07-05T00:00:00\",\"2020-07-06T00:00:00\",\"2020-07-07T00:00:00\",\"2020-07-08T00:00:00\",\"2020-07-09T00:00:00\",\"2020-07-10T00:00:00\",\"2020-07-11T00:00:00\",\"2020-07-12T00:00:00\",\"2020-07-13T00:00:00\",\"2020-07-14T00:00:00\",\"2020-07-15T00:00:00\",\"2020-07-16T00:00:00\",\"2020-07-17T00:00:00\",\"2020-07-18T00:00:00\",\"2020-07-19T00:00:00\",\"2020-07-20T00:00:00\",\"2020-07-21T00:00:00\",\"2020-07-22T00:00:00\",\"2020-07-23T00:00:00\",\"2020-07-24T00:00:00\",\"2020-07-25T00:00:00\",\"2020-07-26T00:00:00\",\"2020-07-27T00:00:00\",\"2020-07-28T00:00:00\",\"2020-07-29T00:00:00\",\"2020-07-30T00:00:00\",\"2020-07-31T00:00:00\",\"2020-08-01T00:00:00\",\"2020-08-02T00:00:00\",\"2020-08-03T00:00:00\",\"2020-08-04T00:00:00\",\"2020-08-05T00:00:00\",\"2020-08-06T00:00:00\",\"2020-08-07T00:00:00\",\"2020-08-08T00:00:00\",\"2020-08-09T00:00:00\",\"2020-08-10T00:00:00\",\"2020-08-11T00:00:00\",\"2020-08-12T00:00:00\",\"2020-08-13T00:00:00\",\"2020-08-14T00:00:00\",\"2020-08-15T00:00:00\",\"2020-08-16T00:00:00\",\"2020-08-17T00:00:00\",\"2020-08-18T00:00:00\",\"2020-08-19T00:00:00\",\"2020-08-20T00:00:00\",\"2020-08-21T00:00:00\",\"2020-08-22T00:00:00\",\"2020-08-23T00:00:00\",\"2020-08-24T00:00:00\",\"2020-08-25T00:00:00\",\"2020-08-26T00:00:00\",\"2020-08-27T00:00:00\",\"2020-08-28T00:00:00\",\"2020-08-29T00:00:00\",\"2020-08-30T00:00:00\",\"2020-08-31T00:00:00\",\"2020-09-01T00:00:00\",\"2020-09-02T00:00:00\",\"2020-09-03T00:00:00\",\"2020-09-04T00:00:00\",\"2020-09-05T00:00:00\",\"2020-09-06T00:00:00\",\"2020-09-07T00:00:00\",\"2020-09-08T00:00:00\",\"2020-09-09T00:00:00\",\"2020-09-10T00:00:00\",\"2020-09-11T00:00:00\",\"2020-09-12T00:00:00\",\"2020-09-13T00:00:00\",\"2020-09-14T00:00:00\",\"2020-09-15T00:00:00\",\"2020-09-16T00:00:00\",\"2020-09-17T00:00:00\",\"2020-09-18T00:00:00\",\"2020-09-19T00:00:00\",\"2020-09-20T00:00:00\",\"2020-09-21T00:00:00\",\"2020-09-22T00:00:00\",\"2020-09-23T00:00:00\",\"2020-09-24T00:00:00\",\"2020-09-25T00:00:00\",\"2020-09-26T00:00:00\",\"2020-09-27T00:00:00\",\"2020-09-28T00:00:00\",\"2020-09-29T00:00:00\",\"2020-09-30T00:00:00\",\"2020-10-01T00:00:00\",\"2020-10-02T00:00:00\",\"2020-10-03T00:00:00\",\"2020-10-04T00:00:00\",\"2020-10-05T00:00:00\",\"2020-10-06T00:00:00\"],\"xaxis\":\"x\",\"y\":[112.0,5213.0,0.0,0.0,11.0,0.0,0.0,0.0,1548.0,0.0,0.0,0.0,5587.0,36.0,0.0,0.0,3.0,0.0,0.0,2491.0,2222.0,719.0,0.0,5008.0,899.0,0.0,0.0,0.0,0.0,0.0,0.0,0.0,0.0,0.0,0.0,358.0,0.0,0.0,0.0,1959.0,0.0,0.0,0.0,0.0,0.0,0.0,0.0,0.0,0.0,0.0,0.0,0.0,0.0,0.0,0.0,0.0,0.0,0.0,469.0,0.0,0.0,0.0,0.0,0.0,0.0,0.0,0.0,0.0,0.0,0.0,0.0,0.0,0.0,0.0,0.0,0.0,0.0,0.0,0.0,0.0,0.0,0.0,0.0,0.0,0.0,0.0,0.0,0.0,0.0,0.0,0.0,0.0,0.0,0.0,0.0,0.0,0.0,0.0,0.0,0.0,0.0,0.0,0.0,0.0,0.0,0.0,0.0,0.0,0.0,0.0,0.0,0.0,0.0,0.0,0.0,0.0,0.0,0.0,0.0,0.0,0.0,0.0,0.0,0.0,0.0,0.0,0.0,0.0,0.0,0.0,0.0,0.0,0.0,0.0,0.0,0.0,0.0,0.0,0.0,0.0,0.0,0.0,0.0,0.0,0.0,0.0,0.0,0.0,0.0,0.0,0.0,0.0,0.0,0.0,0.0,0.0,0.0,0.0,0.0,0.0,0.0,0.0,0.0,0.0,0.0,0.0,0.0,0.0,0.0,0.0,0.0,0.0,0.0,0.0,0.0,0.0,0.0,0.0,0.0,0.0,0.0,0.0,0.0,0.0,0.0,0.0,0.0,0.0,0.0,0.0,0.0,0.0,0.0,0.0,0.0,0.0,0.0,0.0,0.0,0.0,0.0,0.0,0.0,0.0,0.0,0.0,0.0,0.0,0.0,0.0,0.0,0.0,0.0,0.0,0.0,0.0,0.0,0.0,0.0,0.0,0.0,0.0,0.0,0.0,0.0,0.0,0.0,0.0,0.0,0.0,0.0,0.0,0.0,0.0,0.0,0.0,0.0,0.0,0.0,0.0,0.0,0.0,0.0,0.0,0.0,0.0,0.0,0.0,0.0,0.0,0.0,0.0,0.0,0.0,0.0,0.0,0.0,0.0,0.0,0.0,0.0,0.0,0.0,0.0,0.0,0.0,0.0,0.0,0.0,0.0,0.0,0.0,0.0,0.0,0.0,0.0,0.0,0.0,46.0,0.0,0.0,0.0,83.0,0.0,0.0,0.0,0.0,0.0,0.0,0.0,0.0,0.0,0.0,0.0,0.0,0.0,0.0,0.0,0.0,0.0,0.0,0.0,0.0,0.0,0.0,89.0],\"yaxis\":\"y\"},{\"hovertemplate\":\"variable=slave_count<br>datetime=%{x}<br>value=%{y}<extra></extra>\",\"legendgroup\":\"slave_count\",\"line\":{\"color\":\"#EF553B\",\"dash\":\"solid\"},\"marker\":{\"symbol\":\"circle\"},\"mode\":\"lines\",\"name\":\"slave_count\",\"showlegend\":true,\"type\":\"scattergl\",\"x\":[\"2019-12-06T00:00:00\",\"2019-12-07T00:00:00\",\"2019-12-08T00:00:00\",\"2019-12-09T00:00:00\",\"2019-12-10T00:00:00\",\"2019-12-11T00:00:00\",\"2019-12-12T00:00:00\",\"2019-12-13T00:00:00\",\"2019-12-14T00:00:00\",\"2019-12-15T00:00:00\",\"2019-12-16T00:00:00\",\"2019-12-17T00:00:00\",\"2019-12-18T00:00:00\",\"2019-12-19T00:00:00\",\"2019-12-20T00:00:00\",\"2019-12-21T00:00:00\",\"2019-12-22T00:00:00\",\"2019-12-23T00:00:00\",\"2019-12-24T00:00:00\",\"2019-12-25T00:00:00\",\"2019-12-26T00:00:00\",\"2019-12-27T00:00:00\",\"2019-12-28T00:00:00\",\"2019-12-29T00:00:00\",\"2019-12-30T00:00:00\",\"2019-12-31T00:00:00\",\"2020-01-01T00:00:00\",\"2020-01-02T00:00:00\",\"2020-01-03T00:00:00\",\"2020-01-04T00:00:00\",\"2020-01-05T00:00:00\",\"2020-01-06T00:00:00\",\"2020-01-07T00:00:00\",\"2020-01-08T00:00:00\",\"2020-01-09T00:00:00\",\"2020-01-10T00:00:00\",\"2020-01-11T00:00:00\",\"2020-01-12T00:00:00\",\"2020-01-13T00:00:00\",\"2020-01-14T00:00:00\",\"2020-01-15T00:00:00\",\"2020-01-16T00:00:00\",\"2020-01-17T00:00:00\",\"2020-01-18T00:00:00\",\"2020-01-19T00:00:00\",\"2020-01-20T00:00:00\",\"2020-01-21T00:00:00\",\"2020-01-22T00:00:00\",\"2020-01-23T00:00:00\",\"2020-01-24T00:00:00\",\"2020-01-25T00:00:00\",\"2020-01-26T00:00:00\",\"2020-01-27T00:00:00\",\"2020-01-28T00:00:00\",\"2020-01-29T00:00:00\",\"2020-01-30T00:00:00\",\"2020-01-31T00:00:00\",\"2020-02-01T00:00:00\",\"2020-02-02T00:00:00\",\"2020-02-03T00:00:00\",\"2020-02-04T00:00:00\",\"2020-02-05T00:00:00\",\"2020-02-06T00:00:00\",\"2020-02-07T00:00:00\",\"2020-02-08T00:00:00\",\"2020-02-09T00:00:00\",\"2020-02-10T00:00:00\",\"2020-02-11T00:00:00\",\"2020-02-12T00:00:00\",\"2020-02-13T00:00:00\",\"2020-02-14T00:00:00\",\"2020-02-15T00:00:00\",\"2020-02-16T00:00:00\",\"2020-02-17T00:00:00\",\"2020-02-18T00:00:00\",\"2020-02-19T00:00:00\",\"2020-02-20T00:00:00\",\"2020-02-21T00:00:00\",\"2020-02-22T00:00:00\",\"2020-02-23T00:00:00\",\"2020-02-24T00:00:00\",\"2020-02-25T00:00:00\",\"2020-02-26T00:00:00\",\"2020-02-27T00:00:00\",\"2020-02-28T00:00:00\",\"2020-02-29T00:00:00\",\"2020-03-01T00:00:00\",\"2020-03-02T00:00:00\",\"2020-03-03T00:00:00\",\"2020-03-04T00:00:00\",\"2020-03-05T00:00:00\",\"2020-03-06T00:00:00\",\"2020-03-07T00:00:00\",\"2020-03-08T00:00:00\",\"2020-03-09T00:00:00\",\"2020-03-10T00:00:00\",\"2020-03-11T00:00:00\",\"2020-03-12T00:00:00\",\"2020-03-13T00:00:00\",\"2020-03-14T00:00:00\",\"2020-03-15T00:00:00\",\"2020-03-16T00:00:00\",\"2020-03-17T00:00:00\",\"2020-03-18T00:00:00\",\"2020-03-19T00:00:00\",\"2020-03-20T00:00:00\",\"2020-03-21T00:00:00\",\"2020-03-22T00:00:00\",\"2020-03-23T00:00:00\",\"2020-03-24T00:00:00\",\"2020-03-25T00:00:00\",\"2020-03-26T00:00:00\",\"2020-03-27T00:00:00\",\"2020-03-28T00:00:00\",\"2020-03-29T00:00:00\",\"2020-03-30T00:00:00\",\"2020-03-31T00:00:00\",\"2020-04-01T00:00:00\",\"2020-04-02T00:00:00\",\"2020-04-03T00:00:00\",\"2020-04-04T00:00:00\",\"2020-04-05T00:00:00\",\"2020-04-06T00:00:00\",\"2020-04-07T00:00:00\",\"2020-04-08T00:00:00\",\"2020-04-09T00:00:00\",\"2020-04-10T00:00:00\",\"2020-04-11T00:00:00\",\"2020-04-12T00:00:00\",\"2020-04-13T00:00:00\",\"2020-04-14T00:00:00\",\"2020-04-15T00:00:00\",\"2020-04-16T00:00:00\",\"2020-04-17T00:00:00\",\"2020-04-18T00:00:00\",\"2020-04-19T00:00:00\",\"2020-04-20T00:00:00\",\"2020-04-21T00:00:00\",\"2020-04-22T00:00:00\",\"2020-04-23T00:00:00\",\"2020-04-24T00:00:00\",\"2020-04-25T00:00:00\",\"2020-04-26T00:00:00\",\"2020-04-27T00:00:00\",\"2020-04-28T00:00:00\",\"2020-04-29T00:00:00\",\"2020-04-30T00:00:00\",\"2020-05-01T00:00:00\",\"2020-05-02T00:00:00\",\"2020-05-03T00:00:00\",\"2020-05-04T00:00:00\",\"2020-05-05T00:00:00\",\"2020-05-06T00:00:00\",\"2020-05-07T00:00:00\",\"2020-05-08T00:00:00\",\"2020-05-09T00:00:00\",\"2020-05-10T00:00:00\",\"2020-05-11T00:00:00\",\"2020-05-12T00:00:00\",\"2020-05-13T00:00:00\",\"2020-05-14T00:00:00\",\"2020-05-15T00:00:00\",\"2020-05-16T00:00:00\",\"2020-05-17T00:00:00\",\"2020-05-18T00:00:00\",\"2020-05-19T00:00:00\",\"2020-05-20T00:00:00\",\"2020-05-21T00:00:00\",\"2020-05-22T00:00:00\",\"2020-05-23T00:00:00\",\"2020-05-24T00:00:00\",\"2020-05-25T00:00:00\",\"2020-05-26T00:00:00\",\"2020-05-27T00:00:00\",\"2020-05-28T00:00:00\",\"2020-05-29T00:00:00\",\"2020-05-30T00:00:00\",\"2020-05-31T00:00:00\",\"2020-06-01T00:00:00\",\"2020-06-02T00:00:00\",\"2020-06-03T00:00:00\",\"2020-06-04T00:00:00\",\"2020-06-05T00:00:00\",\"2020-06-06T00:00:00\",\"2020-06-07T00:00:00\",\"2020-06-08T00:00:00\",\"2020-06-09T00:00:00\",\"2020-06-10T00:00:00\",\"2020-06-11T00:00:00\",\"2020-06-12T00:00:00\",\"2020-06-13T00:00:00\",\"2020-06-14T00:00:00\",\"2020-06-15T00:00:00\",\"2020-06-16T00:00:00\",\"2020-06-17T00:00:00\",\"2020-06-18T00:00:00\",\"2020-06-19T00:00:00\",\"2020-06-20T00:00:00\",\"2020-06-21T00:00:00\",\"2020-06-22T00:00:00\",\"2020-06-23T00:00:00\",\"2020-06-24T00:00:00\",\"2020-06-25T00:00:00\",\"2020-06-26T00:00:00\",\"2020-06-27T00:00:00\",\"2020-06-28T00:00:00\",\"2020-06-29T00:00:00\",\"2020-06-30T00:00:00\",\"2020-07-01T00:00:00\",\"2020-07-02T00:00:00\",\"2020-07-03T00:00:00\",\"2020-07-04T00:00:00\",\"2020-07-05T00:00:00\",\"2020-07-06T00:00:00\",\"2020-07-07T00:00:00\",\"2020-07-08T00:00:00\",\"2020-07-09T00:00:00\",\"2020-07-10T00:00:00\",\"2020-07-11T00:00:00\",\"2020-07-12T00:00:00\",\"2020-07-13T00:00:00\",\"2020-07-14T00:00:00\",\"2020-07-15T00:00:00\",\"2020-07-16T00:00:00\",\"2020-07-17T00:00:00\",\"2020-07-18T00:00:00\",\"2020-07-19T00:00:00\",\"2020-07-20T00:00:00\",\"2020-07-21T00:00:00\",\"2020-07-22T00:00:00\",\"2020-07-23T00:00:00\",\"2020-07-24T00:00:00\",\"2020-07-25T00:00:00\",\"2020-07-26T00:00:00\",\"2020-07-27T00:00:00\",\"2020-07-28T00:00:00\",\"2020-07-29T00:00:00\",\"2020-07-30T00:00:00\",\"2020-07-31T00:00:00\",\"2020-08-01T00:00:00\",\"2020-08-02T00:00:00\",\"2020-08-03T00:00:00\",\"2020-08-04T00:00:00\",\"2020-08-05T00:00:00\",\"2020-08-06T00:00:00\",\"2020-08-07T00:00:00\",\"2020-08-08T00:00:00\",\"2020-08-09T00:00:00\",\"2020-08-10T00:00:00\",\"2020-08-11T00:00:00\",\"2020-08-12T00:00:00\",\"2020-08-13T00:00:00\",\"2020-08-14T00:00:00\",\"2020-08-15T00:00:00\",\"2020-08-16T00:00:00\",\"2020-08-17T00:00:00\",\"2020-08-18T00:00:00\",\"2020-08-19T00:00:00\",\"2020-08-20T00:00:00\",\"2020-08-21T00:00:00\",\"2020-08-22T00:00:00\",\"2020-08-23T00:00:00\",\"2020-08-24T00:00:00\",\"2020-08-25T00:00:00\",\"2020-08-26T00:00:00\",\"2020-08-27T00:00:00\",\"2020-08-28T00:00:00\",\"2020-08-29T00:00:00\",\"2020-08-30T00:00:00\",\"2020-08-31T00:00:00\",\"2020-09-01T00:00:00\",\"2020-09-02T00:00:00\",\"2020-09-03T00:00:00\",\"2020-09-04T00:00:00\",\"2020-09-05T00:00:00\",\"2020-09-06T00:00:00\",\"2020-09-07T00:00:00\",\"2020-09-08T00:00:00\",\"2020-09-09T00:00:00\",\"2020-09-10T00:00:00\",\"2020-09-11T00:00:00\",\"2020-09-12T00:00:00\",\"2020-09-13T00:00:00\",\"2020-09-14T00:00:00\",\"2020-09-15T00:00:00\",\"2020-09-16T00:00:00\",\"2020-09-17T00:00:00\",\"2020-09-18T00:00:00\",\"2020-09-19T00:00:00\",\"2020-09-20T00:00:00\",\"2020-09-21T00:00:00\",\"2020-09-22T00:00:00\",\"2020-09-23T00:00:00\",\"2020-09-24T00:00:00\",\"2020-09-25T00:00:00\",\"2020-09-26T00:00:00\",\"2020-09-27T00:00:00\",\"2020-09-28T00:00:00\",\"2020-09-29T00:00:00\",\"2020-09-30T00:00:00\",\"2020-10-01T00:00:00\",\"2020-10-02T00:00:00\",\"2020-10-03T00:00:00\",\"2020-10-04T00:00:00\",\"2020-10-05T00:00:00\",\"2020-10-06T00:00:00\"],\"xaxis\":\"x\",\"y\":[55.0,844.0,0.0,0.0,13.0,0.0,0.0,0.0,677.0,0.0,0.0,0.0,2001.0,7.0,0.0,0.0,26.0,0.0,0.0,995.0,527.0,91.0,0.0,1823.0,348.0,0.0,0.0,0.0,0.0,0.0,0.0,0.0,0.0,0.0,0.0,440.0,0.0,0.0,0.0,353.0,0.0,0.0,0.0,0.0,0.0,0.0,0.0,0.0,0.0,0.0,0.0,0.0,0.0,0.0,0.0,0.0,0.0,0.0,302.0,0.0,0.0,0.0,0.0,0.0,0.0,0.0,0.0,0.0,0.0,0.0,0.0,0.0,0.0,0.0,0.0,0.0,0.0,0.0,0.0,0.0,0.0,0.0,0.0,0.0,0.0,0.0,0.0,0.0,0.0,0.0,0.0,0.0,0.0,0.0,0.0,0.0,0.0,0.0,0.0,0.0,0.0,0.0,0.0,0.0,0.0,0.0,0.0,0.0,0.0,0.0,0.0,0.0,0.0,0.0,0.0,0.0,0.0,0.0,0.0,0.0,0.0,0.0,0.0,0.0,0.0,0.0,0.0,0.0,0.0,0.0,0.0,0.0,0.0,0.0,0.0,0.0,0.0,0.0,0.0,0.0,0.0,0.0,0.0,0.0,0.0,0.0,0.0,0.0,0.0,0.0,0.0,0.0,0.0,0.0,0.0,0.0,0.0,0.0,0.0,0.0,0.0,0.0,0.0,0.0,0.0,0.0,0.0,0.0,0.0,0.0,0.0,0.0,0.0,0.0,0.0,0.0,0.0,0.0,0.0,0.0,0.0,0.0,0.0,0.0,0.0,0.0,0.0,0.0,0.0,0.0,0.0,0.0,0.0,0.0,0.0,0.0,0.0,0.0,0.0,0.0,0.0,0.0,0.0,0.0,0.0,0.0,0.0,0.0,0.0,0.0,0.0,0.0,0.0,0.0,0.0,0.0,0.0,0.0,0.0,0.0,0.0,0.0,0.0,0.0,0.0,0.0,0.0,0.0,0.0,0.0,0.0,0.0,0.0,0.0,0.0,0.0,0.0,0.0,0.0,0.0,0.0,0.0,0.0,0.0,0.0,0.0,0.0,0.0,0.0,0.0,0.0,0.0,0.0,0.0,0.0,0.0,0.0,0.0,0.0,0.0,0.0,0.0,0.0,0.0,0.0,0.0,0.0,0.0,0.0,0.0,0.0,0.0,0.0,0.0,0.0,0.0,0.0,0.0,31.0,0.0,0.0,0.0,58.0,0.0,0.0,0.0,0.0,0.0,0.0,0.0,0.0,0.0,0.0,0.0,0.0,0.0,0.0,0.0,0.0,0.0,0.0,0.0,0.0,0.0,0.0,50.0],\"yaxis\":\"y\"},{\"hovertemplate\":\"variable=ratio<br>datetime=%{x}<br>value=%{y}<extra></extra>\",\"legendgroup\":\"ratio\",\"line\":{\"color\":\"#00cc96\",\"dash\":\"solid\"},\"marker\":{\"symbol\":\"circle\"},\"mode\":\"lines\",\"name\":\"ratio\",\"showlegend\":true,\"type\":\"scattergl\",\"x\":[\"2019-12-06T00:00:00\",\"2019-12-07T00:00:00\",\"2019-12-08T00:00:00\",\"2019-12-09T00:00:00\",\"2019-12-10T00:00:00\",\"2019-12-11T00:00:00\",\"2019-12-12T00:00:00\",\"2019-12-13T00:00:00\",\"2019-12-14T00:00:00\",\"2019-12-15T00:00:00\",\"2019-12-16T00:00:00\",\"2019-12-17T00:00:00\",\"2019-12-18T00:00:00\",\"2019-12-19T00:00:00\",\"2019-12-20T00:00:00\",\"2019-12-21T00:00:00\",\"2019-12-22T00:00:00\",\"2019-12-23T00:00:00\",\"2019-12-24T00:00:00\",\"2019-12-25T00:00:00\",\"2019-12-26T00:00:00\",\"2019-12-27T00:00:00\",\"2019-12-28T00:00:00\",\"2019-12-29T00:00:00\",\"2019-12-30T00:00:00\",\"2019-12-31T00:00:00\",\"2020-01-01T00:00:00\",\"2020-01-02T00:00:00\",\"2020-01-03T00:00:00\",\"2020-01-04T00:00:00\",\"2020-01-05T00:00:00\",\"2020-01-06T00:00:00\",\"2020-01-07T00:00:00\",\"2020-01-08T00:00:00\",\"2020-01-09T00:00:00\",\"2020-01-10T00:00:00\",\"2020-01-11T00:00:00\",\"2020-01-12T00:00:00\",\"2020-01-13T00:00:00\",\"2020-01-14T00:00:00\",\"2020-01-15T00:00:00\",\"2020-01-16T00:00:00\",\"2020-01-17T00:00:00\",\"2020-01-18T00:00:00\",\"2020-01-19T00:00:00\",\"2020-01-20T00:00:00\",\"2020-01-21T00:00:00\",\"2020-01-22T00:00:00\",\"2020-01-23T00:00:00\",\"2020-01-24T00:00:00\",\"2020-01-25T00:00:00\",\"2020-01-26T00:00:00\",\"2020-01-27T00:00:00\",\"2020-01-28T00:00:00\",\"2020-01-29T00:00:00\",\"2020-01-30T00:00:00\",\"2020-01-31T00:00:00\",\"2020-02-01T00:00:00\",\"2020-02-02T00:00:00\",\"2020-02-03T00:00:00\",\"2020-02-04T00:00:00\",\"2020-02-05T00:00:00\",\"2020-02-06T00:00:00\",\"2020-02-07T00:00:00\",\"2020-02-08T00:00:00\",\"2020-02-09T00:00:00\",\"2020-02-10T00:00:00\",\"2020-02-11T00:00:00\",\"2020-02-12T00:00:00\",\"2020-02-13T00:00:00\",\"2020-02-14T00:00:00\",\"2020-02-15T00:00:00\",\"2020-02-16T00:00:00\",\"2020-02-17T00:00:00\",\"2020-02-18T00:00:00\",\"2020-02-19T00:00:00\",\"2020-02-20T00:00:00\",\"2020-02-21T00:00:00\",\"2020-02-22T00:00:00\",\"2020-02-23T00:00:00\",\"2020-02-24T00:00:00\",\"2020-02-25T00:00:00\",\"2020-02-26T00:00:00\",\"2020-02-27T00:00:00\",\"2020-02-28T00:00:00\",\"2020-02-29T00:00:00\",\"2020-03-01T00:00:00\",\"2020-03-02T00:00:00\",\"2020-03-03T00:00:00\",\"2020-03-04T00:00:00\",\"2020-03-05T00:00:00\",\"2020-03-06T00:00:00\",\"2020-03-07T00:00:00\",\"2020-03-08T00:00:00\",\"2020-03-09T00:00:00\",\"2020-03-10T00:00:00\",\"2020-03-11T00:00:00\",\"2020-03-12T00:00:00\",\"2020-03-13T00:00:00\",\"2020-03-14T00:00:00\",\"2020-03-15T00:00:00\",\"2020-03-16T00:00:00\",\"2020-03-17T00:00:00\",\"2020-03-18T00:00:00\",\"2020-03-19T00:00:00\",\"2020-03-20T00:00:00\",\"2020-03-21T00:00:00\",\"2020-03-22T00:00:00\",\"2020-03-23T00:00:00\",\"2020-03-24T00:00:00\",\"2020-03-25T00:00:00\",\"2020-03-26T00:00:00\",\"2020-03-27T00:00:00\",\"2020-03-28T00:00:00\",\"2020-03-29T00:00:00\",\"2020-03-30T00:00:00\",\"2020-03-31T00:00:00\",\"2020-04-01T00:00:00\",\"2020-04-02T00:00:00\",\"2020-04-03T00:00:00\",\"2020-04-04T00:00:00\",\"2020-04-05T00:00:00\",\"2020-04-06T00:00:00\",\"2020-04-07T00:00:00\",\"2020-04-08T00:00:00\",\"2020-04-09T00:00:00\",\"2020-04-10T00:00:00\",\"2020-04-11T00:00:00\",\"2020-04-12T00:00:00\",\"2020-04-13T00:00:00\",\"2020-04-14T00:00:00\",\"2020-04-15T00:00:00\",\"2020-04-16T00:00:00\",\"2020-04-17T00:00:00\",\"2020-04-18T00:00:00\",\"2020-04-19T00:00:00\",\"2020-04-20T00:00:00\",\"2020-04-21T00:00:00\",\"2020-04-22T00:00:00\",\"2020-04-23T00:00:00\",\"2020-04-24T00:00:00\",\"2020-04-25T00:00:00\",\"2020-04-26T00:00:00\",\"2020-04-27T00:00:00\",\"2020-04-28T00:00:00\",\"2020-04-29T00:00:00\",\"2020-04-30T00:00:00\",\"2020-05-01T00:00:00\",\"2020-05-02T00:00:00\",\"2020-05-03T00:00:00\",\"2020-05-04T00:00:00\",\"2020-05-05T00:00:00\",\"2020-05-06T00:00:00\",\"2020-05-07T00:00:00\",\"2020-05-08T00:00:00\",\"2020-05-09T00:00:00\",\"2020-05-10T00:00:00\",\"2020-05-11T00:00:00\",\"2020-05-12T00:00:00\",\"2020-05-13T00:00:00\",\"2020-05-14T00:00:00\",\"2020-05-15T00:00:00\",\"2020-05-16T00:00:00\",\"2020-05-17T00:00:00\",\"2020-05-18T00:00:00\",\"2020-05-19T00:00:00\",\"2020-05-20T00:00:00\",\"2020-05-21T00:00:00\",\"2020-05-22T00:00:00\",\"2020-05-23T00:00:00\",\"2020-05-24T00:00:00\",\"2020-05-25T00:00:00\",\"2020-05-26T00:00:00\",\"2020-05-27T00:00:00\",\"2020-05-28T00:00:00\",\"2020-05-29T00:00:00\",\"2020-05-30T00:00:00\",\"2020-05-31T00:00:00\",\"2020-06-01T00:00:00\",\"2020-06-02T00:00:00\",\"2020-06-03T00:00:00\",\"2020-06-04T00:00:00\",\"2020-06-05T00:00:00\",\"2020-06-06T00:00:00\",\"2020-06-07T00:00:00\",\"2020-06-08T00:00:00\",\"2020-06-09T00:00:00\",\"2020-06-10T00:00:00\",\"2020-06-11T00:00:00\",\"2020-06-12T00:00:00\",\"2020-06-13T00:00:00\",\"2020-06-14T00:00:00\",\"2020-06-15T00:00:00\",\"2020-06-16T00:00:00\",\"2020-06-17T00:00:00\",\"2020-06-18T00:00:00\",\"2020-06-19T00:00:00\",\"2020-06-20T00:00:00\",\"2020-06-21T00:00:00\",\"2020-06-22T00:00:00\",\"2020-06-23T00:00:00\",\"2020-06-24T00:00:00\",\"2020-06-25T00:00:00\",\"2020-06-26T00:00:00\",\"2020-06-27T00:00:00\",\"2020-06-28T00:00:00\",\"2020-06-29T00:00:00\",\"2020-06-30T00:00:00\",\"2020-07-01T00:00:00\",\"2020-07-02T00:00:00\",\"2020-07-03T00:00:00\",\"2020-07-04T00:00:00\",\"2020-07-05T00:00:00\",\"2020-07-06T00:00:00\",\"2020-07-07T00:00:00\",\"2020-07-08T00:00:00\",\"2020-07-09T00:00:00\",\"2020-07-10T00:00:00\",\"2020-07-11T00:00:00\",\"2020-07-12T00:00:00\",\"2020-07-13T00:00:00\",\"2020-07-14T00:00:00\",\"2020-07-15T00:00:00\",\"2020-07-16T00:00:00\",\"2020-07-17T00:00:00\",\"2020-07-18T00:00:00\",\"2020-07-19T00:00:00\",\"2020-07-20T00:00:00\",\"2020-07-21T00:00:00\",\"2020-07-22T00:00:00\",\"2020-07-23T00:00:00\",\"2020-07-24T00:00:00\",\"2020-07-25T00:00:00\",\"2020-07-26T00:00:00\",\"2020-07-27T00:00:00\",\"2020-07-28T00:00:00\",\"2020-07-29T00:00:00\",\"2020-07-30T00:00:00\",\"2020-07-31T00:00:00\",\"2020-08-01T00:00:00\",\"2020-08-02T00:00:00\",\"2020-08-03T00:00:00\",\"2020-08-04T00:00:00\",\"2020-08-05T00:00:00\",\"2020-08-06T00:00:00\",\"2020-08-07T00:00:00\",\"2020-08-08T00:00:00\",\"2020-08-09T00:00:00\",\"2020-08-10T00:00:00\",\"2020-08-11T00:00:00\",\"2020-08-12T00:00:00\",\"2020-08-13T00:00:00\",\"2020-08-14T00:00:00\",\"2020-08-15T00:00:00\",\"2020-08-16T00:00:00\",\"2020-08-17T00:00:00\",\"2020-08-18T00:00:00\",\"2020-08-19T00:00:00\",\"2020-08-20T00:00:00\",\"2020-08-21T00:00:00\",\"2020-08-22T00:00:00\",\"2020-08-23T00:00:00\",\"2020-08-24T00:00:00\",\"2020-08-25T00:00:00\",\"2020-08-26T00:00:00\",\"2020-08-27T00:00:00\",\"2020-08-28T00:00:00\",\"2020-08-29T00:00:00\",\"2020-08-30T00:00:00\",\"2020-08-31T00:00:00\",\"2020-09-01T00:00:00\",\"2020-09-02T00:00:00\",\"2020-09-03T00:00:00\",\"2020-09-04T00:00:00\",\"2020-09-05T00:00:00\",\"2020-09-06T00:00:00\",\"2020-09-07T00:00:00\",\"2020-09-08T00:00:00\",\"2020-09-09T00:00:00\",\"2020-09-10T00:00:00\",\"2020-09-11T00:00:00\",\"2020-09-12T00:00:00\",\"2020-09-13T00:00:00\",\"2020-09-14T00:00:00\",\"2020-09-15T00:00:00\",\"2020-09-16T00:00:00\",\"2020-09-17T00:00:00\",\"2020-09-18T00:00:00\",\"2020-09-19T00:00:00\",\"2020-09-20T00:00:00\",\"2020-09-21T00:00:00\",\"2020-09-22T00:00:00\",\"2020-09-23T00:00:00\",\"2020-09-24T00:00:00\",\"2020-09-25T00:00:00\",\"2020-09-26T00:00:00\",\"2020-09-27T00:00:00\",\"2020-09-28T00:00:00\",\"2020-09-29T00:00:00\",\"2020-09-30T00:00:00\",\"2020-10-01T00:00:00\",\"2020-10-02T00:00:00\",\"2020-10-03T00:00:00\",\"2020-10-04T00:00:00\",\"2020-10-05T00:00:00\",\"2020-10-06T00:00:00\"],\"xaxis\":\"x\",\"y\":[2.036363636363636,6.17654028436019,null,null,0.8461538461538461,null,null,null,2.2865583456425407,null,null,null,2.792103948025987,5.142857142857143,null,null,0.11538461538461539,null,null,2.5035175879396987,4.216318785578748,7.9010989010989015,null,2.7471201316511245,2.5833333333333335,null,null,null,null,null,null,null,null,null,null,0.8136363636363636,null,null,null,5.54957507082153,null,null,null,null,null,null,null,null,null,null,null,null,null,null,null,null,null,null,1.5529801324503312,null,null,null,null,null,null,null,null,null,null,null,null,null,null,null,null,null,null,null,null,null,null,null,null,null,null,null,null,null,null,null,null,null,null,null,null,null,null,null,null,null,null,null,null,null,null,null,null,null,null,null,null,null,null,null,null,null,null,null,null,null,null,null,null,null,null,null,null,null,null,null,null,null,null,null,null,null,null,null,null,null,null,null,null,null,null,null,null,null,null,null,null,null,null,null,null,null,null,null,null,null,null,null,null,null,null,null,null,null,null,null,null,null,null,null,null,null,null,null,null,null,null,null,null,null,null,null,null,null,null,null,null,null,null,null,null,null,null,null,null,null,null,null,null,null,null,null,null,null,null,null,null,null,null,null,null,null,null,null,null,null,null,null,null,null,null,null,null,null,null,null,null,null,null,null,null,null,null,null,null,null,null,null,null,null,null,null,null,null,null,null,null,null,null,null,null,null,null,null,null,null,null,null,null,null,null,null,null,null,null,null,null,null,null,null,null,null,null,null,1.4838709677419355,null,null,null,1.4310344827586208,null,null,null,null,null,null,null,null,null,null,null,null,null,null,null,null,null,null,null,null,null,null,1.78],\"yaxis\":\"y\"},{\"hovertemplate\":\"variable=zscore<br>datetime=%{x}<br>value=%{y}<extra></extra>\",\"legendgroup\":\"zscore\",\"line\":{\"color\":\"#ab63fa\",\"dash\":\"solid\"},\"marker\":{\"symbol\":\"circle\"},\"mode\":\"lines\",\"name\":\"zscore\",\"showlegend\":true,\"type\":\"scattergl\",\"x\":[\"2019-12-06T00:00:00\",\"2019-12-07T00:00:00\",\"2019-12-08T00:00:00\",\"2019-12-09T00:00:00\",\"2019-12-10T00:00:00\",\"2019-12-11T00:00:00\",\"2019-12-12T00:00:00\",\"2019-12-13T00:00:00\",\"2019-12-14T00:00:00\",\"2019-12-15T00:00:00\",\"2019-12-16T00:00:00\",\"2019-12-17T00:00:00\",\"2019-12-18T00:00:00\",\"2019-12-19T00:00:00\",\"2019-12-20T00:00:00\",\"2019-12-21T00:00:00\",\"2019-12-22T00:00:00\",\"2019-12-23T00:00:00\",\"2019-12-24T00:00:00\",\"2019-12-25T00:00:00\",\"2019-12-26T00:00:00\",\"2019-12-27T00:00:00\",\"2019-12-28T00:00:00\",\"2019-12-29T00:00:00\",\"2019-12-30T00:00:00\",\"2019-12-31T00:00:00\",\"2020-01-01T00:00:00\",\"2020-01-02T00:00:00\",\"2020-01-03T00:00:00\",\"2020-01-04T00:00:00\",\"2020-01-05T00:00:00\",\"2020-01-06T00:00:00\",\"2020-01-07T00:00:00\",\"2020-01-08T00:00:00\",\"2020-01-09T00:00:00\",\"2020-01-10T00:00:00\",\"2020-01-11T00:00:00\",\"2020-01-12T00:00:00\",\"2020-01-13T00:00:00\",\"2020-01-14T00:00:00\",\"2020-01-15T00:00:00\",\"2020-01-16T00:00:00\",\"2020-01-17T00:00:00\",\"2020-01-18T00:00:00\",\"2020-01-19T00:00:00\",\"2020-01-20T00:00:00\",\"2020-01-21T00:00:00\",\"2020-01-22T00:00:00\",\"2020-01-23T00:00:00\",\"2020-01-24T00:00:00\",\"2020-01-25T00:00:00\",\"2020-01-26T00:00:00\",\"2020-01-27T00:00:00\",\"2020-01-28T00:00:00\",\"2020-01-29T00:00:00\",\"2020-01-30T00:00:00\",\"2020-01-31T00:00:00\",\"2020-02-01T00:00:00\",\"2020-02-02T00:00:00\",\"2020-02-03T00:00:00\",\"2020-02-04T00:00:00\",\"2020-02-05T00:00:00\",\"2020-02-06T00:00:00\",\"2020-02-07T00:00:00\",\"2020-02-08T00:00:00\",\"2020-02-09T00:00:00\",\"2020-02-10T00:00:00\",\"2020-02-11T00:00:00\",\"2020-02-12T00:00:00\",\"2020-02-13T00:00:00\",\"2020-02-14T00:00:00\",\"2020-02-15T00:00:00\",\"2020-02-16T00:00:00\",\"2020-02-17T00:00:00\",\"2020-02-18T00:00:00\",\"2020-02-19T00:00:00\",\"2020-02-20T00:00:00\",\"2020-02-21T00:00:00\",\"2020-02-22T00:00:00\",\"2020-02-23T00:00:00\",\"2020-02-24T00:00:00\",\"2020-02-25T00:00:00\",\"2020-02-26T00:00:00\",\"2020-02-27T00:00:00\",\"2020-02-28T00:00:00\",\"2020-02-29T00:00:00\",\"2020-03-01T00:00:00\",\"2020-03-02T00:00:00\",\"2020-03-03T00:00:00\",\"2020-03-04T00:00:00\",\"2020-03-05T00:00:00\",\"2020-03-06T00:00:00\",\"2020-03-07T00:00:00\",\"2020-03-08T00:00:00\",\"2020-03-09T00:00:00\",\"2020-03-10T00:00:00\",\"2020-03-11T00:00:00\",\"2020-03-12T00:00:00\",\"2020-03-13T00:00:00\",\"2020-03-14T00:00:00\",\"2020-03-15T00:00:00\",\"2020-03-16T00:00:00\",\"2020-03-17T00:00:00\",\"2020-03-18T00:00:00\",\"2020-03-19T00:00:00\",\"2020-03-20T00:00:00\",\"2020-03-21T00:00:00\",\"2020-03-22T00:00:00\",\"2020-03-23T00:00:00\",\"2020-03-24T00:00:00\",\"2020-03-25T00:00:00\",\"2020-03-26T00:00:00\",\"2020-03-27T00:00:00\",\"2020-03-28T00:00:00\",\"2020-03-29T00:00:00\",\"2020-03-30T00:00:00\",\"2020-03-31T00:00:00\",\"2020-04-01T00:00:00\",\"2020-04-02T00:00:00\",\"2020-04-03T00:00:00\",\"2020-04-04T00:00:00\",\"2020-04-05T00:00:00\",\"2020-04-06T00:00:00\",\"2020-04-07T00:00:00\",\"2020-04-08T00:00:00\",\"2020-04-09T00:00:00\",\"2020-04-10T00:00:00\",\"2020-04-11T00:00:00\",\"2020-04-12T00:00:00\",\"2020-04-13T00:00:00\",\"2020-04-14T00:00:00\",\"2020-04-15T00:00:00\",\"2020-04-16T00:00:00\",\"2020-04-17T00:00:00\",\"2020-04-18T00:00:00\",\"2020-04-19T00:00:00\",\"2020-04-20T00:00:00\",\"2020-04-21T00:00:00\",\"2020-04-22T00:00:00\",\"2020-04-23T00:00:00\",\"2020-04-24T00:00:00\",\"2020-04-25T00:00:00\",\"2020-04-26T00:00:00\",\"2020-04-27T00:00:00\",\"2020-04-28T00:00:00\",\"2020-04-29T00:00:00\",\"2020-04-30T00:00:00\",\"2020-05-01T00:00:00\",\"2020-05-02T00:00:00\",\"2020-05-03T00:00:00\",\"2020-05-04T00:00:00\",\"2020-05-05T00:00:00\",\"2020-05-06T00:00:00\",\"2020-05-07T00:00:00\",\"2020-05-08T00:00:00\",\"2020-05-09T00:00:00\",\"2020-05-10T00:00:00\",\"2020-05-11T00:00:00\",\"2020-05-12T00:00:00\",\"2020-05-13T00:00:00\",\"2020-05-14T00:00:00\",\"2020-05-15T00:00:00\",\"2020-05-16T00:00:00\",\"2020-05-17T00:00:00\",\"2020-05-18T00:00:00\",\"2020-05-19T00:00:00\",\"2020-05-20T00:00:00\",\"2020-05-21T00:00:00\",\"2020-05-22T00:00:00\",\"2020-05-23T00:00:00\",\"2020-05-24T00:00:00\",\"2020-05-25T00:00:00\",\"2020-05-26T00:00:00\",\"2020-05-27T00:00:00\",\"2020-05-28T00:00:00\",\"2020-05-29T00:00:00\",\"2020-05-30T00:00:00\",\"2020-05-31T00:00:00\",\"2020-06-01T00:00:00\",\"2020-06-02T00:00:00\",\"2020-06-03T00:00:00\",\"2020-06-04T00:00:00\",\"2020-06-05T00:00:00\",\"2020-06-06T00:00:00\",\"2020-06-07T00:00:00\",\"2020-06-08T00:00:00\",\"2020-06-09T00:00:00\",\"2020-06-10T00:00:00\",\"2020-06-11T00:00:00\",\"2020-06-12T00:00:00\",\"2020-06-13T00:00:00\",\"2020-06-14T00:00:00\",\"2020-06-15T00:00:00\",\"2020-06-16T00:00:00\",\"2020-06-17T00:00:00\",\"2020-06-18T00:00:00\",\"2020-06-19T00:00:00\",\"2020-06-20T00:00:00\",\"2020-06-21T00:00:00\",\"2020-06-22T00:00:00\",\"2020-06-23T00:00:00\",\"2020-06-24T00:00:00\",\"2020-06-25T00:00:00\",\"2020-06-26T00:00:00\",\"2020-06-27T00:00:00\",\"2020-06-28T00:00:00\",\"2020-06-29T00:00:00\",\"2020-06-30T00:00:00\",\"2020-07-01T00:00:00\",\"2020-07-02T00:00:00\",\"2020-07-03T00:00:00\",\"2020-07-04T00:00:00\",\"2020-07-05T00:00:00\",\"2020-07-06T00:00:00\",\"2020-07-07T00:00:00\",\"2020-07-08T00:00:00\",\"2020-07-09T00:00:00\",\"2020-07-10T00:00:00\",\"2020-07-11T00:00:00\",\"2020-07-12T00:00:00\",\"2020-07-13T00:00:00\",\"2020-07-14T00:00:00\",\"2020-07-15T00:00:00\",\"2020-07-16T00:00:00\",\"2020-07-17T00:00:00\",\"2020-07-18T00:00:00\",\"2020-07-19T00:00:00\",\"2020-07-20T00:00:00\",\"2020-07-21T00:00:00\",\"2020-07-22T00:00:00\",\"2020-07-23T00:00:00\",\"2020-07-24T00:00:00\",\"2020-07-25T00:00:00\",\"2020-07-26T00:00:00\",\"2020-07-27T00:00:00\",\"2020-07-28T00:00:00\",\"2020-07-29T00:00:00\",\"2020-07-30T00:00:00\",\"2020-07-31T00:00:00\",\"2020-08-01T00:00:00\",\"2020-08-02T00:00:00\",\"2020-08-03T00:00:00\",\"2020-08-04T00:00:00\",\"2020-08-05T00:00:00\",\"2020-08-06T00:00:00\",\"2020-08-07T00:00:00\",\"2020-08-08T00:00:00\",\"2020-08-09T00:00:00\",\"2020-08-10T00:00:00\",\"2020-08-11T00:00:00\",\"2020-08-12T00:00:00\",\"2020-08-13T00:00:00\",\"2020-08-14T00:00:00\",\"2020-08-15T00:00:00\",\"2020-08-16T00:00:00\",\"2020-08-17T00:00:00\",\"2020-08-18T00:00:00\",\"2020-08-19T00:00:00\",\"2020-08-20T00:00:00\",\"2020-08-21T00:00:00\",\"2020-08-22T00:00:00\",\"2020-08-23T00:00:00\",\"2020-08-24T00:00:00\",\"2020-08-25T00:00:00\",\"2020-08-26T00:00:00\",\"2020-08-27T00:00:00\",\"2020-08-28T00:00:00\",\"2020-08-29T00:00:00\",\"2020-08-30T00:00:00\",\"2020-08-31T00:00:00\",\"2020-09-01T00:00:00\",\"2020-09-02T00:00:00\",\"2020-09-03T00:00:00\",\"2020-09-04T00:00:00\",\"2020-09-05T00:00:00\",\"2020-09-06T00:00:00\",\"2020-09-07T00:00:00\",\"2020-09-08T00:00:00\",\"2020-09-09T00:00:00\",\"2020-09-10T00:00:00\",\"2020-09-11T00:00:00\",\"2020-09-12T00:00:00\",\"2020-09-13T00:00:00\",\"2020-09-14T00:00:00\",\"2020-09-15T00:00:00\",\"2020-09-16T00:00:00\",\"2020-09-17T00:00:00\",\"2020-09-18T00:00:00\",\"2020-09-19T00:00:00\",\"2020-09-20T00:00:00\",\"2020-09-21T00:00:00\",\"2020-09-22T00:00:00\",\"2020-09-23T00:00:00\",\"2020-09-24T00:00:00\",\"2020-09-25T00:00:00\",\"2020-09-26T00:00:00\",\"2020-09-27T00:00:00\",\"2020-09-28T00:00:00\",\"2020-09-29T00:00:00\",\"2020-09-30T00:00:00\",\"2020-10-01T00:00:00\",\"2020-10-02T00:00:00\",\"2020-10-03T00:00:00\",\"2020-10-04T00:00:00\",\"2020-10-05T00:00:00\",\"2020-10-06T00:00:00\"],\"xaxis\":\"x\",\"y\":[0.657462378518286,4.797639026514839,null,null,-0.532747411691504,null,null,null,0.9076570877971906,null,null,null,1.413202690180637,3.763955885011793,null,null,-1.2635166424607347,null,null,1.1246163300943486,2.8374175277333977,6.522197643253551,null,1.3682188738057743,1.2044320754879834,null,null,null,null,null,null,null,null,null,null,-0.5652648942089865,null,null,null,4.17067381297618,null,null,null,null,null,null,null,null,null,null,null,null,null,null,null,null,null,null,0.17407887460498106,null,null,null,null,null,null,null,null,null,null,null,null,null,null,null,null,null,null,null,null,null,null,null,null,null,null,null,null,null,null,null,null,null,null,null,null,null,null,null,null,null,null,null,null,null,null,null,null,null,null,null,null,null,null,null,null,null,null,null,null,null,null,null,null,null,null,null,null,null,null,null,null,null,null,null,null,null,null,null,null,null,null,null,null,null,null,null,null,null,null,null,null,null,null,null,null,null,null,null,null,null,null,null,null,null,null,null,null,null,null,null,null,null,null,null,null,null,null,null,null,null,null,null,null,null,null,null,null,null,null,null,null,null,null,null,null,null,null,null,null,null,null,null,null,null,null,null,null,null,null,null,null,null,null,null,null,null,null,null,null,null,null,null,null,null,null,null,null,null,null,null,null,null,null,null,null,null,null,null,null,null,null,null,null,null,null,null,null,null,null,null,null,null,null,null,null,null,null,null,null,null,null,null,null,null,null,null,null,null,null,null,null,null,null,null,null,null,null,null,0.10496970989658538,null,null,null,0.05213322491327066,null,null,null,null,null,null,null,null,null,null,null,null,null,null,null,null,null,null,null,null,null,null,0.4010987421546499],\"yaxis\":\"y\"}],                        {\"legend\":{\"title\":{\"text\":\"variable\"},\"tracegroupgap\":0},\"margin\":{\"t\":60},\"template\":{\"data\":{\"bar\":[{\"error_x\":{\"color\":\"#2a3f5f\"},\"error_y\":{\"color\":\"#2a3f5f\"},\"marker\":{\"line\":{\"color\":\"#E5ECF6\",\"width\":0.5},\"pattern\":{\"fillmode\":\"overlay\",\"size\":10,\"solidity\":0.2}},\"type\":\"bar\"}],\"barpolar\":[{\"marker\":{\"line\":{\"color\":\"#E5ECF6\",\"width\":0.5},\"pattern\":{\"fillmode\":\"overlay\",\"size\":10,\"solidity\":0.2}},\"type\":\"barpolar\"}],\"carpet\":[{\"aaxis\":{\"endlinecolor\":\"#2a3f5f\",\"gridcolor\":\"white\",\"linecolor\":\"white\",\"minorgridcolor\":\"white\",\"startlinecolor\":\"#2a3f5f\"},\"baxis\":{\"endlinecolor\":\"#2a3f5f\",\"gridcolor\":\"white\",\"linecolor\":\"white\",\"minorgridcolor\":\"white\",\"startlinecolor\":\"#2a3f5f\"},\"type\":\"carpet\"}],\"choropleth\":[{\"colorbar\":{\"outlinewidth\":0,\"ticks\":\"\"},\"type\":\"choropleth\"}],\"contour\":[{\"colorbar\":{\"outlinewidth\":0,\"ticks\":\"\"},\"colorscale\":[[0.0,\"#0d0887\"],[0.1111111111111111,\"#46039f\"],[0.2222222222222222,\"#7201a8\"],[0.3333333333333333,\"#9c179e\"],[0.4444444444444444,\"#bd3786\"],[0.5555555555555556,\"#d8576b\"],[0.6666666666666666,\"#ed7953\"],[0.7777777777777778,\"#fb9f3a\"],[0.8888888888888888,\"#fdca26\"],[1.0,\"#f0f921\"]],\"type\":\"contour\"}],\"contourcarpet\":[{\"colorbar\":{\"outlinewidth\":0,\"ticks\":\"\"},\"type\":\"contourcarpet\"}],\"heatmap\":[{\"colorbar\":{\"outlinewidth\":0,\"ticks\":\"\"},\"colorscale\":[[0.0,\"#0d0887\"],[0.1111111111111111,\"#46039f\"],[0.2222222222222222,\"#7201a8\"],[0.3333333333333333,\"#9c179e\"],[0.4444444444444444,\"#bd3786\"],[0.5555555555555556,\"#d8576b\"],[0.6666666666666666,\"#ed7953\"],[0.7777777777777778,\"#fb9f3a\"],[0.8888888888888888,\"#fdca26\"],[1.0,\"#f0f921\"]],\"type\":\"heatmap\"}],\"heatmapgl\":[{\"colorbar\":{\"outlinewidth\":0,\"ticks\":\"\"},\"colorscale\":[[0.0,\"#0d0887\"],[0.1111111111111111,\"#46039f\"],[0.2222222222222222,\"#7201a8\"],[0.3333333333333333,\"#9c179e\"],[0.4444444444444444,\"#bd3786\"],[0.5555555555555556,\"#d8576b\"],[0.6666666666666666,\"#ed7953\"],[0.7777777777777778,\"#fb9f3a\"],[0.8888888888888888,\"#fdca26\"],[1.0,\"#f0f921\"]],\"type\":\"heatmapgl\"}],\"histogram\":[{\"marker\":{\"pattern\":{\"fillmode\":\"overlay\",\"size\":10,\"solidity\":0.2}},\"type\":\"histogram\"}],\"histogram2d\":[{\"colorbar\":{\"outlinewidth\":0,\"ticks\":\"\"},\"colorscale\":[[0.0,\"#0d0887\"],[0.1111111111111111,\"#46039f\"],[0.2222222222222222,\"#7201a8\"],[0.3333333333333333,\"#9c179e\"],[0.4444444444444444,\"#bd3786\"],[0.5555555555555556,\"#d8576b\"],[0.6666666666666666,\"#ed7953\"],[0.7777777777777778,\"#fb9f3a\"],[0.8888888888888888,\"#fdca26\"],[1.0,\"#f0f921\"]],\"type\":\"histogram2d\"}],\"histogram2dcontour\":[{\"colorbar\":{\"outlinewidth\":0,\"ticks\":\"\"},\"colorscale\":[[0.0,\"#0d0887\"],[0.1111111111111111,\"#46039f\"],[0.2222222222222222,\"#7201a8\"],[0.3333333333333333,\"#9c179e\"],[0.4444444444444444,\"#bd3786\"],[0.5555555555555556,\"#d8576b\"],[0.6666666666666666,\"#ed7953\"],[0.7777777777777778,\"#fb9f3a\"],[0.8888888888888888,\"#fdca26\"],[1.0,\"#f0f921\"]],\"type\":\"histogram2dcontour\"}],\"mesh3d\":[{\"colorbar\":{\"outlinewidth\":0,\"ticks\":\"\"},\"type\":\"mesh3d\"}],\"parcoords\":[{\"line\":{\"colorbar\":{\"outlinewidth\":0,\"ticks\":\"\"}},\"type\":\"parcoords\"}],\"pie\":[{\"automargin\":true,\"type\":\"pie\"}],\"scatter\":[{\"marker\":{\"colorbar\":{\"outlinewidth\":0,\"ticks\":\"\"}},\"type\":\"scatter\"}],\"scatter3d\":[{\"line\":{\"colorbar\":{\"outlinewidth\":0,\"ticks\":\"\"}},\"marker\":{\"colorbar\":{\"outlinewidth\":0,\"ticks\":\"\"}},\"type\":\"scatter3d\"}],\"scattercarpet\":[{\"marker\":{\"colorbar\":{\"outlinewidth\":0,\"ticks\":\"\"}},\"type\":\"scattercarpet\"}],\"scattergeo\":[{\"marker\":{\"colorbar\":{\"outlinewidth\":0,\"ticks\":\"\"}},\"type\":\"scattergeo\"}],\"scattergl\":[{\"marker\":{\"colorbar\":{\"outlinewidth\":0,\"ticks\":\"\"}},\"type\":\"scattergl\"}],\"scattermapbox\":[{\"marker\":{\"colorbar\":{\"outlinewidth\":0,\"ticks\":\"\"}},\"type\":\"scattermapbox\"}],\"scatterpolar\":[{\"marker\":{\"colorbar\":{\"outlinewidth\":0,\"ticks\":\"\"}},\"type\":\"scatterpolar\"}],\"scatterpolargl\":[{\"marker\":{\"colorbar\":{\"outlinewidth\":0,\"ticks\":\"\"}},\"type\":\"scatterpolargl\"}],\"scatterternary\":[{\"marker\":{\"colorbar\":{\"outlinewidth\":0,\"ticks\":\"\"}},\"type\":\"scatterternary\"}],\"surface\":[{\"colorbar\":{\"outlinewidth\":0,\"ticks\":\"\"},\"colorscale\":[[0.0,\"#0d0887\"],[0.1111111111111111,\"#46039f\"],[0.2222222222222222,\"#7201a8\"],[0.3333333333333333,\"#9c179e\"],[0.4444444444444444,\"#bd3786\"],[0.5555555555555556,\"#d8576b\"],[0.6666666666666666,\"#ed7953\"],[0.7777777777777778,\"#fb9f3a\"],[0.8888888888888888,\"#fdca26\"],[1.0,\"#f0f921\"]],\"type\":\"surface\"}],\"table\":[{\"cells\":{\"fill\":{\"color\":\"#EBF0F8\"},\"line\":{\"color\":\"white\"}},\"header\":{\"fill\":{\"color\":\"#C8D4E3\"},\"line\":{\"color\":\"white\"}},\"type\":\"table\"}]},\"layout\":{\"annotationdefaults\":{\"arrowcolor\":\"#2a3f5f\",\"arrowhead\":0,\"arrowwidth\":1},\"autotypenumbers\":\"strict\",\"coloraxis\":{\"colorbar\":{\"outlinewidth\":0,\"ticks\":\"\"}},\"colorscale\":{\"diverging\":[[0,\"#8e0152\"],[0.1,\"#c51b7d\"],[0.2,\"#de77ae\"],[0.3,\"#f1b6da\"],[0.4,\"#fde0ef\"],[0.5,\"#f7f7f7\"],[0.6,\"#e6f5d0\"],[0.7,\"#b8e186\"],[0.8,\"#7fbc41\"],[0.9,\"#4d9221\"],[1,\"#276419\"]],\"sequential\":[[0.0,\"#0d0887\"],[0.1111111111111111,\"#46039f\"],[0.2222222222222222,\"#7201a8\"],[0.3333333333333333,\"#9c179e\"],[0.4444444444444444,\"#bd3786\"],[0.5555555555555556,\"#d8576b\"],[0.6666666666666666,\"#ed7953\"],[0.7777777777777778,\"#fb9f3a\"],[0.8888888888888888,\"#fdca26\"],[1.0,\"#f0f921\"]],\"sequentialminus\":[[0.0,\"#0d0887\"],[0.1111111111111111,\"#46039f\"],[0.2222222222222222,\"#7201a8\"],[0.3333333333333333,\"#9c179e\"],[0.4444444444444444,\"#bd3786\"],[0.5555555555555556,\"#d8576b\"],[0.6666666666666666,\"#ed7953\"],[0.7777777777777778,\"#fb9f3a\"],[0.8888888888888888,\"#fdca26\"],[1.0,\"#f0f921\"]]},\"colorway\":[\"#636efa\",\"#EF553B\",\"#00cc96\",\"#ab63fa\",\"#FFA15A\",\"#19d3f3\",\"#FF6692\",\"#B6E880\",\"#FF97FF\",\"#FECB52\"],\"font\":{\"color\":\"#2a3f5f\"},\"geo\":{\"bgcolor\":\"white\",\"lakecolor\":\"white\",\"landcolor\":\"#E5ECF6\",\"showlakes\":true,\"showland\":true,\"subunitcolor\":\"white\"},\"hoverlabel\":{\"align\":\"left\"},\"hovermode\":\"closest\",\"mapbox\":{\"style\":\"light\"},\"paper_bgcolor\":\"white\",\"plot_bgcolor\":\"#E5ECF6\",\"polar\":{\"angularaxis\":{\"gridcolor\":\"white\",\"linecolor\":\"white\",\"ticks\":\"\"},\"bgcolor\":\"#E5ECF6\",\"radialaxis\":{\"gridcolor\":\"white\",\"linecolor\":\"white\",\"ticks\":\"\"}},\"scene\":{\"xaxis\":{\"backgroundcolor\":\"#E5ECF6\",\"gridcolor\":\"white\",\"gridwidth\":2,\"linecolor\":\"white\",\"showbackground\":true,\"ticks\":\"\",\"zerolinecolor\":\"white\"},\"yaxis\":{\"backgroundcolor\":\"#E5ECF6\",\"gridcolor\":\"white\",\"gridwidth\":2,\"linecolor\":\"white\",\"showbackground\":true,\"ticks\":\"\",\"zerolinecolor\":\"white\"},\"zaxis\":{\"backgroundcolor\":\"#E5ECF6\",\"gridcolor\":\"white\",\"gridwidth\":2,\"linecolor\":\"white\",\"showbackground\":true,\"ticks\":\"\",\"zerolinecolor\":\"white\"}},\"shapedefaults\":{\"line\":{\"color\":\"#2a3f5f\"}},\"ternary\":{\"aaxis\":{\"gridcolor\":\"white\",\"linecolor\":\"white\",\"ticks\":\"\"},\"baxis\":{\"gridcolor\":\"white\",\"linecolor\":\"white\",\"ticks\":\"\"},\"bgcolor\":\"#E5ECF6\",\"caxis\":{\"gridcolor\":\"white\",\"linecolor\":\"white\",\"ticks\":\"\"}},\"title\":{\"x\":0.05},\"xaxis\":{\"automargin\":true,\"gridcolor\":\"white\",\"linecolor\":\"white\",\"ticks\":\"\",\"title\":{\"standoff\":15},\"zerolinecolor\":\"white\",\"zerolinewidth\":2},\"yaxis\":{\"automargin\":true,\"gridcolor\":\"white\",\"linecolor\":\"white\",\"ticks\":\"\",\"title\":{\"standoff\":15},\"zerolinecolor\":\"white\",\"zerolinewidth\":2}}},\"xaxis\":{\"anchor\":\"y\",\"domain\":[0.0,1.0],\"title\":{\"text\":\"datetime\"}},\"yaxis\":{\"anchor\":\"x\",\"domain\":[0.0,1.0],\"title\":{\"text\":\"value\"}}},                        {\"responsive\": true}                    ).then(function(){\n",
       "                            \n",
       "var gd = document.getElementById('12f0efcc-0e1e-4147-b496-95a0ae0c06f2');\n",
       "var x = new MutationObserver(function (mutations, observer) {{\n",
       "        var display = window.getComputedStyle(gd).display;\n",
       "        if (!display || display === 'none') {{\n",
       "            console.log([gd, 'removed!']);\n",
       "            Plotly.purge(gd);\n",
       "            observer.disconnect();\n",
       "        }}\n",
       "}});\n",
       "\n",
       "// Listen for the removal of the full notebook cells\n",
       "var notebookContainer = gd.closest('#notebook-container');\n",
       "if (notebookContainer) {{\n",
       "    x.observe(notebookContainer, {childList: true});\n",
       "}}\n",
       "\n",
       "// Listen for the clearing of the current output cell\n",
       "var outputEl = gd.closest('.output');\n",
       "if (outputEl) {{\n",
       "    x.observe(outputEl, {childList: true});\n",
       "}}\n",
       "\n",
       "                        })                };                });            </script>        </div>"
      ]
     },
     "metadata": {},
     "output_type": "display_data"
    }
   ],
   "source": [
    "pd.options.plotting.backend = \"plotly\"\n",
    "candidate_pair.plot(x=candidate_pair.index, y=['master_count', 'slave_count', 'ratio', 'zscore'])"
   ]
  },
  {
   "cell_type": "code",
   "execution_count": 27,
   "metadata": {},
   "outputs": [
    {
     "data": {
      "application/vnd.plotly.v1+json": {
       "config": {
        "plotlyServerURL": "https://plot.ly"
       },
       "data": [
        {
         "hovertemplate": "pair=SENTINEL_3B_SLSTR_ESA|SENTINEL_3B_SLSTR_EUMETSAT<br>datetime=%{x}<br>ratio=%{y}<extra></extra>",
         "legendgroup": "SENTINEL_3B_SLSTR_ESA|SENTINEL_3B_SLSTR_EUMETSAT",
         "line": {
          "color": "#636efa",
          "dash": "solid"
         },
         "marker": {
          "symbol": "circle"
         },
         "mode": "lines",
         "name": "SENTINEL_3B_SLSTR_ESA|SENTINEL_3B_SLSTR_EUMETSAT",
         "orientation": "v",
         "showlegend": true,
         "type": "scatter",
         "x": [
          "2019-12-01T00:00:00",
          "2019-12-02T00:00:00",
          "2019-12-03T00:00:00",
          "2019-12-04T00:00:00",
          "2019-12-05T00:00:00",
          "2019-12-06T00:00:00",
          "2019-12-07T00:00:00",
          "2019-12-08T00:00:00",
          "2019-12-09T00:00:00",
          "2019-12-10T00:00:00",
          "2019-12-11T00:00:00",
          "2019-12-12T00:00:00",
          "2019-12-13T00:00:00",
          "2019-12-14T00:00:00",
          "2019-12-15T00:00:00",
          "2019-12-16T00:00:00",
          "2019-12-17T00:00:00",
          "2019-12-18T00:00:00",
          "2019-12-19T00:00:00",
          "2019-12-20T00:00:00",
          "2019-12-21T00:00:00",
          "2019-12-22T00:00:00",
          "2019-12-23T00:00:00",
          "2019-12-24T00:00:00",
          "2019-12-25T00:00:00",
          "2019-12-26T00:00:00",
          "2019-12-27T00:00:00",
          "2019-12-28T00:00:00",
          "2019-12-29T00:00:00",
          "2019-12-30T00:00:00",
          "2019-12-31T00:00:00",
          "2020-01-01T00:00:00",
          "2020-01-02T00:00:00",
          "2020-01-03T00:00:00",
          "2020-01-04T00:00:00",
          "2020-01-05T00:00:00",
          "2020-01-06T00:00:00",
          "2020-01-07T00:00:00",
          "2020-01-08T00:00:00",
          "2020-01-09T00:00:00",
          "2020-01-10T00:00:00",
          "2020-01-11T00:00:00",
          "2020-01-12T00:00:00",
          "2020-01-13T00:00:00"
         ],
         "xaxis": "x",
         "y": [
          1.001002004008016,
          null,
          null,
          1,
          1,
          null,
          null,
          null,
          0.9923488905891354,
          1,
          null,
          1.0085470085470085,
          1,
          null,
          null,
          1.0007168458781361,
          1,
          null,
          null,
          1.0024732069249793,
          0.9947916666666666,
          null,
          null,
          1.0584192439862543,
          null,
          null,
          null,
          1,
          null,
          null,
          null,
          0.9947712418300654,
          1,
          null,
          null,
          1.0444444444444445,
          null,
          null,
          1.0046948356807512,
          1,
          null,
          null,
          1.000439367311072,
          1
         ],
         "yaxis": "y"
        }
       ],
       "layout": {
        "autosize": true,
        "legend": {
         "title": {
          "text": "pair"
         },
         "tracegroupgap": 0
        },
        "margin": {
         "t": 60
        },
        "template": {
         "data": {
          "bar": [
           {
            "error_x": {
             "color": "#2a3f5f"
            },
            "error_y": {
             "color": "#2a3f5f"
            },
            "marker": {
             "line": {
              "color": "#E5ECF6",
              "width": 0.5
             },
             "pattern": {
              "fillmode": "overlay",
              "size": 10,
              "solidity": 0.2
             }
            },
            "type": "bar"
           }
          ],
          "barpolar": [
           {
            "marker": {
             "line": {
              "color": "#E5ECF6",
              "width": 0.5
             },
             "pattern": {
              "fillmode": "overlay",
              "size": 10,
              "solidity": 0.2
             }
            },
            "type": "barpolar"
           }
          ],
          "carpet": [
           {
            "aaxis": {
             "endlinecolor": "#2a3f5f",
             "gridcolor": "white",
             "linecolor": "white",
             "minorgridcolor": "white",
             "startlinecolor": "#2a3f5f"
            },
            "baxis": {
             "endlinecolor": "#2a3f5f",
             "gridcolor": "white",
             "linecolor": "white",
             "minorgridcolor": "white",
             "startlinecolor": "#2a3f5f"
            },
            "type": "carpet"
           }
          ],
          "choropleth": [
           {
            "colorbar": {
             "outlinewidth": 0,
             "ticks": ""
            },
            "type": "choropleth"
           }
          ],
          "contour": [
           {
            "colorbar": {
             "outlinewidth": 0,
             "ticks": ""
            },
            "colorscale": [
             [
              0,
              "#0d0887"
             ],
             [
              0.1111111111111111,
              "#46039f"
             ],
             [
              0.2222222222222222,
              "#7201a8"
             ],
             [
              0.3333333333333333,
              "#9c179e"
             ],
             [
              0.4444444444444444,
              "#bd3786"
             ],
             [
              0.5555555555555556,
              "#d8576b"
             ],
             [
              0.6666666666666666,
              "#ed7953"
             ],
             [
              0.7777777777777778,
              "#fb9f3a"
             ],
             [
              0.8888888888888888,
              "#fdca26"
             ],
             [
              1,
              "#f0f921"
             ]
            ],
            "type": "contour"
           }
          ],
          "contourcarpet": [
           {
            "colorbar": {
             "outlinewidth": 0,
             "ticks": ""
            },
            "type": "contourcarpet"
           }
          ],
          "heatmap": [
           {
            "colorbar": {
             "outlinewidth": 0,
             "ticks": ""
            },
            "colorscale": [
             [
              0,
              "#0d0887"
             ],
             [
              0.1111111111111111,
              "#46039f"
             ],
             [
              0.2222222222222222,
              "#7201a8"
             ],
             [
              0.3333333333333333,
              "#9c179e"
             ],
             [
              0.4444444444444444,
              "#bd3786"
             ],
             [
              0.5555555555555556,
              "#d8576b"
             ],
             [
              0.6666666666666666,
              "#ed7953"
             ],
             [
              0.7777777777777778,
              "#fb9f3a"
             ],
             [
              0.8888888888888888,
              "#fdca26"
             ],
             [
              1,
              "#f0f921"
             ]
            ],
            "type": "heatmap"
           }
          ],
          "heatmapgl": [
           {
            "colorbar": {
             "outlinewidth": 0,
             "ticks": ""
            },
            "colorscale": [
             [
              0,
              "#0d0887"
             ],
             [
              0.1111111111111111,
              "#46039f"
             ],
             [
              0.2222222222222222,
              "#7201a8"
             ],
             [
              0.3333333333333333,
              "#9c179e"
             ],
             [
              0.4444444444444444,
              "#bd3786"
             ],
             [
              0.5555555555555556,
              "#d8576b"
             ],
             [
              0.6666666666666666,
              "#ed7953"
             ],
             [
              0.7777777777777778,
              "#fb9f3a"
             ],
             [
              0.8888888888888888,
              "#fdca26"
             ],
             [
              1,
              "#f0f921"
             ]
            ],
            "type": "heatmapgl"
           }
          ],
          "histogram": [
           {
            "marker": {
             "pattern": {
              "fillmode": "overlay",
              "size": 10,
              "solidity": 0.2
             }
            },
            "type": "histogram"
           }
          ],
          "histogram2d": [
           {
            "colorbar": {
             "outlinewidth": 0,
             "ticks": ""
            },
            "colorscale": [
             [
              0,
              "#0d0887"
             ],
             [
              0.1111111111111111,
              "#46039f"
             ],
             [
              0.2222222222222222,
              "#7201a8"
             ],
             [
              0.3333333333333333,
              "#9c179e"
             ],
             [
              0.4444444444444444,
              "#bd3786"
             ],
             [
              0.5555555555555556,
              "#d8576b"
             ],
             [
              0.6666666666666666,
              "#ed7953"
             ],
             [
              0.7777777777777778,
              "#fb9f3a"
             ],
             [
              0.8888888888888888,
              "#fdca26"
             ],
             [
              1,
              "#f0f921"
             ]
            ],
            "type": "histogram2d"
           }
          ],
          "histogram2dcontour": [
           {
            "colorbar": {
             "outlinewidth": 0,
             "ticks": ""
            },
            "colorscale": [
             [
              0,
              "#0d0887"
             ],
             [
              0.1111111111111111,
              "#46039f"
             ],
             [
              0.2222222222222222,
              "#7201a8"
             ],
             [
              0.3333333333333333,
              "#9c179e"
             ],
             [
              0.4444444444444444,
              "#bd3786"
             ],
             [
              0.5555555555555556,
              "#d8576b"
             ],
             [
              0.6666666666666666,
              "#ed7953"
             ],
             [
              0.7777777777777778,
              "#fb9f3a"
             ],
             [
              0.8888888888888888,
              "#fdca26"
             ],
             [
              1,
              "#f0f921"
             ]
            ],
            "type": "histogram2dcontour"
           }
          ],
          "mesh3d": [
           {
            "colorbar": {
             "outlinewidth": 0,
             "ticks": ""
            },
            "type": "mesh3d"
           }
          ],
          "parcoords": [
           {
            "line": {
             "colorbar": {
              "outlinewidth": 0,
              "ticks": ""
             }
            },
            "type": "parcoords"
           }
          ],
          "pie": [
           {
            "automargin": true,
            "type": "pie"
           }
          ],
          "scatter": [
           {
            "marker": {
             "colorbar": {
              "outlinewidth": 0,
              "ticks": ""
             }
            },
            "type": "scatter"
           }
          ],
          "scatter3d": [
           {
            "line": {
             "colorbar": {
              "outlinewidth": 0,
              "ticks": ""
             }
            },
            "marker": {
             "colorbar": {
              "outlinewidth": 0,
              "ticks": ""
             }
            },
            "type": "scatter3d"
           }
          ],
          "scattercarpet": [
           {
            "marker": {
             "colorbar": {
              "outlinewidth": 0,
              "ticks": ""
             }
            },
            "type": "scattercarpet"
           }
          ],
          "scattergeo": [
           {
            "marker": {
             "colorbar": {
              "outlinewidth": 0,
              "ticks": ""
             }
            },
            "type": "scattergeo"
           }
          ],
          "scattergl": [
           {
            "marker": {
             "colorbar": {
              "outlinewidth": 0,
              "ticks": ""
             }
            },
            "type": "scattergl"
           }
          ],
          "scattermapbox": [
           {
            "marker": {
             "colorbar": {
              "outlinewidth": 0,
              "ticks": ""
             }
            },
            "type": "scattermapbox"
           }
          ],
          "scatterpolar": [
           {
            "marker": {
             "colorbar": {
              "outlinewidth": 0,
              "ticks": ""
             }
            },
            "type": "scatterpolar"
           }
          ],
          "scatterpolargl": [
           {
            "marker": {
             "colorbar": {
              "outlinewidth": 0,
              "ticks": ""
             }
            },
            "type": "scatterpolargl"
           }
          ],
          "scatterternary": [
           {
            "marker": {
             "colorbar": {
              "outlinewidth": 0,
              "ticks": ""
             }
            },
            "type": "scatterternary"
           }
          ],
          "surface": [
           {
            "colorbar": {
             "outlinewidth": 0,
             "ticks": ""
            },
            "colorscale": [
             [
              0,
              "#0d0887"
             ],
             [
              0.1111111111111111,
              "#46039f"
             ],
             [
              0.2222222222222222,
              "#7201a8"
             ],
             [
              0.3333333333333333,
              "#9c179e"
             ],
             [
              0.4444444444444444,
              "#bd3786"
             ],
             [
              0.5555555555555556,
              "#d8576b"
             ],
             [
              0.6666666666666666,
              "#ed7953"
             ],
             [
              0.7777777777777778,
              "#fb9f3a"
             ],
             [
              0.8888888888888888,
              "#fdca26"
             ],
             [
              1,
              "#f0f921"
             ]
            ],
            "type": "surface"
           }
          ],
          "table": [
           {
            "cells": {
             "fill": {
              "color": "#EBF0F8"
             },
             "line": {
              "color": "white"
             }
            },
            "header": {
             "fill": {
              "color": "#C8D4E3"
             },
             "line": {
              "color": "white"
             }
            },
            "type": "table"
           }
          ]
         },
         "layout": {
          "annotationdefaults": {
           "arrowcolor": "#2a3f5f",
           "arrowhead": 0,
           "arrowwidth": 1
          },
          "autotypenumbers": "strict",
          "coloraxis": {
           "colorbar": {
            "outlinewidth": 0,
            "ticks": ""
           }
          },
          "colorscale": {
           "diverging": [
            [
             0,
             "#8e0152"
            ],
            [
             0.1,
             "#c51b7d"
            ],
            [
             0.2,
             "#de77ae"
            ],
            [
             0.3,
             "#f1b6da"
            ],
            [
             0.4,
             "#fde0ef"
            ],
            [
             0.5,
             "#f7f7f7"
            ],
            [
             0.6,
             "#e6f5d0"
            ],
            [
             0.7,
             "#b8e186"
            ],
            [
             0.8,
             "#7fbc41"
            ],
            [
             0.9,
             "#4d9221"
            ],
            [
             1,
             "#276419"
            ]
           ],
           "sequential": [
            [
             0,
             "#0d0887"
            ],
            [
             0.1111111111111111,
             "#46039f"
            ],
            [
             0.2222222222222222,
             "#7201a8"
            ],
            [
             0.3333333333333333,
             "#9c179e"
            ],
            [
             0.4444444444444444,
             "#bd3786"
            ],
            [
             0.5555555555555556,
             "#d8576b"
            ],
            [
             0.6666666666666666,
             "#ed7953"
            ],
            [
             0.7777777777777778,
             "#fb9f3a"
            ],
            [
             0.8888888888888888,
             "#fdca26"
            ],
            [
             1,
             "#f0f921"
            ]
           ],
           "sequentialminus": [
            [
             0,
             "#0d0887"
            ],
            [
             0.1111111111111111,
             "#46039f"
            ],
            [
             0.2222222222222222,
             "#7201a8"
            ],
            [
             0.3333333333333333,
             "#9c179e"
            ],
            [
             0.4444444444444444,
             "#bd3786"
            ],
            [
             0.5555555555555556,
             "#d8576b"
            ],
            [
             0.6666666666666666,
             "#ed7953"
            ],
            [
             0.7777777777777778,
             "#fb9f3a"
            ],
            [
             0.8888888888888888,
             "#fdca26"
            ],
            [
             1,
             "#f0f921"
            ]
           ]
          },
          "colorway": [
           "#636efa",
           "#EF553B",
           "#00cc96",
           "#ab63fa",
           "#FFA15A",
           "#19d3f3",
           "#FF6692",
           "#B6E880",
           "#FF97FF",
           "#FECB52"
          ],
          "font": {
           "color": "#2a3f5f"
          },
          "geo": {
           "bgcolor": "white",
           "lakecolor": "white",
           "landcolor": "#E5ECF6",
           "showlakes": true,
           "showland": true,
           "subunitcolor": "white"
          },
          "hoverlabel": {
           "align": "left"
          },
          "hovermode": "closest",
          "mapbox": {
           "style": "light"
          },
          "paper_bgcolor": "white",
          "plot_bgcolor": "#E5ECF6",
          "polar": {
           "angularaxis": {
            "gridcolor": "white",
            "linecolor": "white",
            "ticks": ""
           },
           "bgcolor": "#E5ECF6",
           "radialaxis": {
            "gridcolor": "white",
            "linecolor": "white",
            "ticks": ""
           }
          },
          "scene": {
           "xaxis": {
            "backgroundcolor": "#E5ECF6",
            "gridcolor": "white",
            "gridwidth": 2,
            "linecolor": "white",
            "showbackground": true,
            "ticks": "",
            "zerolinecolor": "white"
           },
           "yaxis": {
            "backgroundcolor": "#E5ECF6",
            "gridcolor": "white",
            "gridwidth": 2,
            "linecolor": "white",
            "showbackground": true,
            "ticks": "",
            "zerolinecolor": "white"
           },
           "zaxis": {
            "backgroundcolor": "#E5ECF6",
            "gridcolor": "white",
            "gridwidth": 2,
            "linecolor": "white",
            "showbackground": true,
            "ticks": "",
            "zerolinecolor": "white"
           }
          },
          "shapedefaults": {
           "line": {
            "color": "#2a3f5f"
           }
          },
          "ternary": {
           "aaxis": {
            "gridcolor": "white",
            "linecolor": "white",
            "ticks": ""
           },
           "baxis": {
            "gridcolor": "white",
            "linecolor": "white",
            "ticks": ""
           },
           "bgcolor": "#E5ECF6",
           "caxis": {
            "gridcolor": "white",
            "linecolor": "white",
            "ticks": ""
           }
          },
          "title": {
           "x": 0.05
          },
          "xaxis": {
           "automargin": true,
           "gridcolor": "white",
           "linecolor": "white",
           "ticks": "",
           "title": {
            "standoff": 15
           },
           "zerolinecolor": "white",
           "zerolinewidth": 2
          },
          "yaxis": {
           "automargin": true,
           "gridcolor": "white",
           "linecolor": "white",
           "ticks": "",
           "title": {
            "standoff": 15
           },
           "zerolinecolor": "white",
           "zerolinewidth": 2
          }
         }
        },
        "xaxis": {
         "anchor": "y",
         "autorange": true,
         "domain": [
          0,
          1
         ],
         "range": [
          "2019-12-01",
          "2020-01-13"
         ],
         "title": {
          "text": "datetime"
         },
         "type": "date"
        },
        "yaxis": {
         "anchor": "x",
         "autorange": true,
         "domain": [
          0,
          1
         ],
         "range": [
          0.9886783154004066,
          1.0620898191749832
         ],
         "title": {
          "text": "ratio"
         },
         "type": "linear"
        }
       }
      },
      "text/html": [
       "<div>                            <div id=\"91c64cdf-1f8f-456c-9391-9f96554361ab\" class=\"plotly-graph-div\" style=\"height:525px; width:100%;\"></div>            <script type=\"text/javascript\">                require([\"plotly\"], function(Plotly) {                    window.PLOTLYENV=window.PLOTLYENV || {};                                    if (document.getElementById(\"91c64cdf-1f8f-456c-9391-9f96554361ab\")) {                    Plotly.newPlot(                        \"91c64cdf-1f8f-456c-9391-9f96554361ab\",                        [{\"hovertemplate\":\"pair=SENTINEL_3B_SLSTR_ESA|SENTINEL_3B_SLSTR_EUMETSAT<br>datetime=%{x}<br>ratio=%{y}<extra></extra>\",\"legendgroup\":\"SENTINEL_3B_SLSTR_ESA|SENTINEL_3B_SLSTR_EUMETSAT\",\"line\":{\"color\":\"#636efa\",\"dash\":\"solid\"},\"marker\":{\"symbol\":\"circle\"},\"mode\":\"lines\",\"name\":\"SENTINEL_3B_SLSTR_ESA|SENTINEL_3B_SLSTR_EUMETSAT\",\"orientation\":\"v\",\"showlegend\":true,\"type\":\"scatter\",\"x\":[\"2019-12-01T00:00:00\",\"2019-12-02T00:00:00\",\"2019-12-03T00:00:00\",\"2019-12-04T00:00:00\",\"2019-12-05T00:00:00\",\"2019-12-06T00:00:00\",\"2019-12-07T00:00:00\",\"2019-12-08T00:00:00\",\"2019-12-09T00:00:00\",\"2019-12-10T00:00:00\",\"2019-12-11T00:00:00\",\"2019-12-12T00:00:00\",\"2019-12-13T00:00:00\",\"2019-12-14T00:00:00\",\"2019-12-15T00:00:00\",\"2019-12-16T00:00:00\",\"2019-12-17T00:00:00\",\"2019-12-18T00:00:00\",\"2019-12-19T00:00:00\",\"2019-12-20T00:00:00\",\"2019-12-21T00:00:00\",\"2019-12-22T00:00:00\",\"2019-12-23T00:00:00\",\"2019-12-24T00:00:00\",\"2019-12-25T00:00:00\",\"2019-12-26T00:00:00\",\"2019-12-27T00:00:00\",\"2019-12-28T00:00:00\",\"2019-12-29T00:00:00\",\"2019-12-30T00:00:00\",\"2019-12-31T00:00:00\",\"2020-01-01T00:00:00\",\"2020-01-02T00:00:00\",\"2020-01-03T00:00:00\",\"2020-01-04T00:00:00\",\"2020-01-05T00:00:00\",\"2020-01-06T00:00:00\",\"2020-01-07T00:00:00\",\"2020-01-08T00:00:00\",\"2020-01-09T00:00:00\",\"2020-01-10T00:00:00\",\"2020-01-11T00:00:00\",\"2020-01-12T00:00:00\",\"2020-01-13T00:00:00\"],\"xaxis\":\"x\",\"y\":[1.001002004008016,null,null,1.0,1.0,null,null,null,0.9923488905891354,1.0,null,1.0085470085470085,1.0,null,null,1.0007168458781361,1.0,null,null,1.0024732069249793,0.9947916666666666,null,null,1.0584192439862543,null,null,null,1.0,null,null,null,0.9947712418300654,1.0,null,null,1.0444444444444445,null,null,1.0046948356807512,1.0,null,null,1.000439367311072,1.0],\"yaxis\":\"y\"}],                        {\"legend\":{\"title\":{\"text\":\"pair\"},\"tracegroupgap\":0},\"margin\":{\"t\":60},\"template\":{\"data\":{\"bar\":[{\"error_x\":{\"color\":\"#2a3f5f\"},\"error_y\":{\"color\":\"#2a3f5f\"},\"marker\":{\"line\":{\"color\":\"#E5ECF6\",\"width\":0.5},\"pattern\":{\"fillmode\":\"overlay\",\"size\":10,\"solidity\":0.2}},\"type\":\"bar\"}],\"barpolar\":[{\"marker\":{\"line\":{\"color\":\"#E5ECF6\",\"width\":0.5},\"pattern\":{\"fillmode\":\"overlay\",\"size\":10,\"solidity\":0.2}},\"type\":\"barpolar\"}],\"carpet\":[{\"aaxis\":{\"endlinecolor\":\"#2a3f5f\",\"gridcolor\":\"white\",\"linecolor\":\"white\",\"minorgridcolor\":\"white\",\"startlinecolor\":\"#2a3f5f\"},\"baxis\":{\"endlinecolor\":\"#2a3f5f\",\"gridcolor\":\"white\",\"linecolor\":\"white\",\"minorgridcolor\":\"white\",\"startlinecolor\":\"#2a3f5f\"},\"type\":\"carpet\"}],\"choropleth\":[{\"colorbar\":{\"outlinewidth\":0,\"ticks\":\"\"},\"type\":\"choropleth\"}],\"contour\":[{\"colorbar\":{\"outlinewidth\":0,\"ticks\":\"\"},\"colorscale\":[[0.0,\"#0d0887\"],[0.1111111111111111,\"#46039f\"],[0.2222222222222222,\"#7201a8\"],[0.3333333333333333,\"#9c179e\"],[0.4444444444444444,\"#bd3786\"],[0.5555555555555556,\"#d8576b\"],[0.6666666666666666,\"#ed7953\"],[0.7777777777777778,\"#fb9f3a\"],[0.8888888888888888,\"#fdca26\"],[1.0,\"#f0f921\"]],\"type\":\"contour\"}],\"contourcarpet\":[{\"colorbar\":{\"outlinewidth\":0,\"ticks\":\"\"},\"type\":\"contourcarpet\"}],\"heatmap\":[{\"colorbar\":{\"outlinewidth\":0,\"ticks\":\"\"},\"colorscale\":[[0.0,\"#0d0887\"],[0.1111111111111111,\"#46039f\"],[0.2222222222222222,\"#7201a8\"],[0.3333333333333333,\"#9c179e\"],[0.4444444444444444,\"#bd3786\"],[0.5555555555555556,\"#d8576b\"],[0.6666666666666666,\"#ed7953\"],[0.7777777777777778,\"#fb9f3a\"],[0.8888888888888888,\"#fdca26\"],[1.0,\"#f0f921\"]],\"type\":\"heatmap\"}],\"heatmapgl\":[{\"colorbar\":{\"outlinewidth\":0,\"ticks\":\"\"},\"colorscale\":[[0.0,\"#0d0887\"],[0.1111111111111111,\"#46039f\"],[0.2222222222222222,\"#7201a8\"],[0.3333333333333333,\"#9c179e\"],[0.4444444444444444,\"#bd3786\"],[0.5555555555555556,\"#d8576b\"],[0.6666666666666666,\"#ed7953\"],[0.7777777777777778,\"#fb9f3a\"],[0.8888888888888888,\"#fdca26\"],[1.0,\"#f0f921\"]],\"type\":\"heatmapgl\"}],\"histogram\":[{\"marker\":{\"pattern\":{\"fillmode\":\"overlay\",\"size\":10,\"solidity\":0.2}},\"type\":\"histogram\"}],\"histogram2d\":[{\"colorbar\":{\"outlinewidth\":0,\"ticks\":\"\"},\"colorscale\":[[0.0,\"#0d0887\"],[0.1111111111111111,\"#46039f\"],[0.2222222222222222,\"#7201a8\"],[0.3333333333333333,\"#9c179e\"],[0.4444444444444444,\"#bd3786\"],[0.5555555555555556,\"#d8576b\"],[0.6666666666666666,\"#ed7953\"],[0.7777777777777778,\"#fb9f3a\"],[0.8888888888888888,\"#fdca26\"],[1.0,\"#f0f921\"]],\"type\":\"histogram2d\"}],\"histogram2dcontour\":[{\"colorbar\":{\"outlinewidth\":0,\"ticks\":\"\"},\"colorscale\":[[0.0,\"#0d0887\"],[0.1111111111111111,\"#46039f\"],[0.2222222222222222,\"#7201a8\"],[0.3333333333333333,\"#9c179e\"],[0.4444444444444444,\"#bd3786\"],[0.5555555555555556,\"#d8576b\"],[0.6666666666666666,\"#ed7953\"],[0.7777777777777778,\"#fb9f3a\"],[0.8888888888888888,\"#fdca26\"],[1.0,\"#f0f921\"]],\"type\":\"histogram2dcontour\"}],\"mesh3d\":[{\"colorbar\":{\"outlinewidth\":0,\"ticks\":\"\"},\"type\":\"mesh3d\"}],\"parcoords\":[{\"line\":{\"colorbar\":{\"outlinewidth\":0,\"ticks\":\"\"}},\"type\":\"parcoords\"}],\"pie\":[{\"automargin\":true,\"type\":\"pie\"}],\"scatter\":[{\"marker\":{\"colorbar\":{\"outlinewidth\":0,\"ticks\":\"\"}},\"type\":\"scatter\"}],\"scatter3d\":[{\"line\":{\"colorbar\":{\"outlinewidth\":0,\"ticks\":\"\"}},\"marker\":{\"colorbar\":{\"outlinewidth\":0,\"ticks\":\"\"}},\"type\":\"scatter3d\"}],\"scattercarpet\":[{\"marker\":{\"colorbar\":{\"outlinewidth\":0,\"ticks\":\"\"}},\"type\":\"scattercarpet\"}],\"scattergeo\":[{\"marker\":{\"colorbar\":{\"outlinewidth\":0,\"ticks\":\"\"}},\"type\":\"scattergeo\"}],\"scattergl\":[{\"marker\":{\"colorbar\":{\"outlinewidth\":0,\"ticks\":\"\"}},\"type\":\"scattergl\"}],\"scattermapbox\":[{\"marker\":{\"colorbar\":{\"outlinewidth\":0,\"ticks\":\"\"}},\"type\":\"scattermapbox\"}],\"scatterpolar\":[{\"marker\":{\"colorbar\":{\"outlinewidth\":0,\"ticks\":\"\"}},\"type\":\"scatterpolar\"}],\"scatterpolargl\":[{\"marker\":{\"colorbar\":{\"outlinewidth\":0,\"ticks\":\"\"}},\"type\":\"scatterpolargl\"}],\"scatterternary\":[{\"marker\":{\"colorbar\":{\"outlinewidth\":0,\"ticks\":\"\"}},\"type\":\"scatterternary\"}],\"surface\":[{\"colorbar\":{\"outlinewidth\":0,\"ticks\":\"\"},\"colorscale\":[[0.0,\"#0d0887\"],[0.1111111111111111,\"#46039f\"],[0.2222222222222222,\"#7201a8\"],[0.3333333333333333,\"#9c179e\"],[0.4444444444444444,\"#bd3786\"],[0.5555555555555556,\"#d8576b\"],[0.6666666666666666,\"#ed7953\"],[0.7777777777777778,\"#fb9f3a\"],[0.8888888888888888,\"#fdca26\"],[1.0,\"#f0f921\"]],\"type\":\"surface\"}],\"table\":[{\"cells\":{\"fill\":{\"color\":\"#EBF0F8\"},\"line\":{\"color\":\"white\"}},\"header\":{\"fill\":{\"color\":\"#C8D4E3\"},\"line\":{\"color\":\"white\"}},\"type\":\"table\"}]},\"layout\":{\"annotationdefaults\":{\"arrowcolor\":\"#2a3f5f\",\"arrowhead\":0,\"arrowwidth\":1},\"autotypenumbers\":\"strict\",\"coloraxis\":{\"colorbar\":{\"outlinewidth\":0,\"ticks\":\"\"}},\"colorscale\":{\"diverging\":[[0,\"#8e0152\"],[0.1,\"#c51b7d\"],[0.2,\"#de77ae\"],[0.3,\"#f1b6da\"],[0.4,\"#fde0ef\"],[0.5,\"#f7f7f7\"],[0.6,\"#e6f5d0\"],[0.7,\"#b8e186\"],[0.8,\"#7fbc41\"],[0.9,\"#4d9221\"],[1,\"#276419\"]],\"sequential\":[[0.0,\"#0d0887\"],[0.1111111111111111,\"#46039f\"],[0.2222222222222222,\"#7201a8\"],[0.3333333333333333,\"#9c179e\"],[0.4444444444444444,\"#bd3786\"],[0.5555555555555556,\"#d8576b\"],[0.6666666666666666,\"#ed7953\"],[0.7777777777777778,\"#fb9f3a\"],[0.8888888888888888,\"#fdca26\"],[1.0,\"#f0f921\"]],\"sequentialminus\":[[0.0,\"#0d0887\"],[0.1111111111111111,\"#46039f\"],[0.2222222222222222,\"#7201a8\"],[0.3333333333333333,\"#9c179e\"],[0.4444444444444444,\"#bd3786\"],[0.5555555555555556,\"#d8576b\"],[0.6666666666666666,\"#ed7953\"],[0.7777777777777778,\"#fb9f3a\"],[0.8888888888888888,\"#fdca26\"],[1.0,\"#f0f921\"]]},\"colorway\":[\"#636efa\",\"#EF553B\",\"#00cc96\",\"#ab63fa\",\"#FFA15A\",\"#19d3f3\",\"#FF6692\",\"#B6E880\",\"#FF97FF\",\"#FECB52\"],\"font\":{\"color\":\"#2a3f5f\"},\"geo\":{\"bgcolor\":\"white\",\"lakecolor\":\"white\",\"landcolor\":\"#E5ECF6\",\"showlakes\":true,\"showland\":true,\"subunitcolor\":\"white\"},\"hoverlabel\":{\"align\":\"left\"},\"hovermode\":\"closest\",\"mapbox\":{\"style\":\"light\"},\"paper_bgcolor\":\"white\",\"plot_bgcolor\":\"#E5ECF6\",\"polar\":{\"angularaxis\":{\"gridcolor\":\"white\",\"linecolor\":\"white\",\"ticks\":\"\"},\"bgcolor\":\"#E5ECF6\",\"radialaxis\":{\"gridcolor\":\"white\",\"linecolor\":\"white\",\"ticks\":\"\"}},\"scene\":{\"xaxis\":{\"backgroundcolor\":\"#E5ECF6\",\"gridcolor\":\"white\",\"gridwidth\":2,\"linecolor\":\"white\",\"showbackground\":true,\"ticks\":\"\",\"zerolinecolor\":\"white\"},\"yaxis\":{\"backgroundcolor\":\"#E5ECF6\",\"gridcolor\":\"white\",\"gridwidth\":2,\"linecolor\":\"white\",\"showbackground\":true,\"ticks\":\"\",\"zerolinecolor\":\"white\"},\"zaxis\":{\"backgroundcolor\":\"#E5ECF6\",\"gridcolor\":\"white\",\"gridwidth\":2,\"linecolor\":\"white\",\"showbackground\":true,\"ticks\":\"\",\"zerolinecolor\":\"white\"}},\"shapedefaults\":{\"line\":{\"color\":\"#2a3f5f\"}},\"ternary\":{\"aaxis\":{\"gridcolor\":\"white\",\"linecolor\":\"white\",\"ticks\":\"\"},\"baxis\":{\"gridcolor\":\"white\",\"linecolor\":\"white\",\"ticks\":\"\"},\"bgcolor\":\"#E5ECF6\",\"caxis\":{\"gridcolor\":\"white\",\"linecolor\":\"white\",\"ticks\":\"\"}},\"title\":{\"x\":0.05},\"xaxis\":{\"automargin\":true,\"gridcolor\":\"white\",\"linecolor\":\"white\",\"ticks\":\"\",\"title\":{\"standoff\":15},\"zerolinecolor\":\"white\",\"zerolinewidth\":2},\"yaxis\":{\"automargin\":true,\"gridcolor\":\"white\",\"linecolor\":\"white\",\"ticks\":\"\",\"title\":{\"standoff\":15},\"zerolinecolor\":\"white\",\"zerolinewidth\":2}}},\"xaxis\":{\"anchor\":\"y\",\"domain\":[0.0,1.0],\"title\":{\"text\":\"datetime\"}},\"yaxis\":{\"anchor\":\"x\",\"domain\":[0.0,1.0],\"title\":{\"text\":\"ratio\"}}},                        {\"responsive\": true}                    ).then(function(){\n",
       "                            \n",
       "var gd = document.getElementById('91c64cdf-1f8f-456c-9391-9f96554361ab');\n",
       "var x = new MutationObserver(function (mutations, observer) {{\n",
       "        var display = window.getComputedStyle(gd).display;\n",
       "        if (!display || display === 'none') {{\n",
       "            console.log([gd, 'removed!']);\n",
       "            Plotly.purge(gd);\n",
       "            observer.disconnect();\n",
       "        }}\n",
       "}});\n",
       "\n",
       "// Listen for the removal of the full notebook cells\n",
       "var notebookContainer = gd.closest('#notebook-container');\n",
       "if (notebookContainer) {{\n",
       "    x.observe(notebookContainer, {childList: true});\n",
       "}}\n",
       "\n",
       "// Listen for the clearing of the current output cell\n",
       "var outputEl = gd.closest('.output');\n",
       "if (outputEl) {{\n",
       "    x.observe(outputEl, {childList: true});\n",
       "}}\n",
       "\n",
       "                        })                };                });            </script>        </div>"
      ]
     },
     "metadata": {},
     "output_type": "display_data"
    }
   ],
   "source": [
    "import plotly.express as px\n",
    "sample = satellite_sensor_product_daily_pd[satellite_sensor_product_daily_pd['pair'] == 'SENTINEL_3B_SLSTR_ESA|SENTINEL_3B_SLSTR_EUMETSAT']\n",
    "#df = px.data.gapminder().query(\"continent=='Oceania'\")\n",
    "fig = px.line(sample, x=sample.index, y=sample['ratio'], color=sample['pair'])\n",
    "fig.show()"
   ]
  },
  {
   "cell_type": "code",
   "execution_count": 28,
   "metadata": {},
   "outputs": [
    {
     "data": {
      "text/html": [
       "<div>\n",
       "<style scoped>\n",
       "    .dataframe tbody tr th:only-of-type {\n",
       "        vertical-align: middle;\n",
       "    }\n",
       "\n",
       "    .dataframe tbody tr th {\n",
       "        vertical-align: top;\n",
       "    }\n",
       "\n",
       "    .dataframe thead th {\n",
       "        text-align: right;\n",
       "    }\n",
       "</style>\n",
       "<table border=\"1\" class=\"dataframe\">\n",
       "  <thead>\n",
       "    <tr style=\"text-align: right;\">\n",
       "      <th></th>\n",
       "      <th>master_count</th>\n",
       "      <th>slave_count</th>\n",
       "      <th>ratio</th>\n",
       "      <th>zscore</th>\n",
       "      <th>satellite_sensor_product</th>\n",
       "      <th>2_satellite_sensor_product</th>\n",
       "      <th>pair</th>\n",
       "    </tr>\n",
       "    <tr>\n",
       "      <th>datetime</th>\n",
       "      <th></th>\n",
       "      <th></th>\n",
       "      <th></th>\n",
       "      <th></th>\n",
       "      <th></th>\n",
       "      <th></th>\n",
       "      <th></th>\n",
       "    </tr>\n",
       "  </thead>\n",
       "  <tbody>\n",
       "    <tr>\n",
       "      <th>2019-11-01</th>\n",
       "      <td>68</td>\n",
       "      <td>162</td>\n",
       "      <td>0.419753</td>\n",
       "      <td>0.134020</td>\n",
       "      <td>SENTINEL_3B_SLSTR_ESA</td>\n",
       "      <td>SUOMI NPP_VIIRS_LANDGATE</td>\n",
       "      <td>SENTINEL_3B_SLSTR_ESA|SUOMI NPP_VIIRS_LANDGATE</td>\n",
       "    </tr>\n",
       "    <tr>\n",
       "      <th>2019-11-02</th>\n",
       "      <td>0</td>\n",
       "      <td>0</td>\n",
       "      <td>NaN</td>\n",
       "      <td>NaN</td>\n",
       "      <td>SENTINEL_3B_SLSTR_ESA</td>\n",
       "      <td>SUOMI NPP_VIIRS_LANDGATE</td>\n",
       "      <td>SENTINEL_3B_SLSTR_ESA|SUOMI NPP_VIIRS_LANDGATE</td>\n",
       "    </tr>\n",
       "    <tr>\n",
       "      <th>2019-11-03</th>\n",
       "      <td>0</td>\n",
       "      <td>0</td>\n",
       "      <td>NaN</td>\n",
       "      <td>NaN</td>\n",
       "      <td>SENTINEL_3B_SLSTR_ESA</td>\n",
       "      <td>SUOMI NPP_VIIRS_LANDGATE</td>\n",
       "      <td>SENTINEL_3B_SLSTR_ESA|SUOMI NPP_VIIRS_LANDGATE</td>\n",
       "    </tr>\n",
       "    <tr>\n",
       "      <th>2019-11-04</th>\n",
       "      <td>312</td>\n",
       "      <td>89</td>\n",
       "      <td>3.505618</td>\n",
       "      <td>3.219885</td>\n",
       "      <td>SENTINEL_3B_SLSTR_ESA</td>\n",
       "      <td>SUOMI NPP_VIIRS_LANDGATE</td>\n",
       "      <td>SENTINEL_3B_SLSTR_ESA|SUOMI NPP_VIIRS_LANDGATE</td>\n",
       "    </tr>\n",
       "    <tr>\n",
       "      <th>2019-11-05</th>\n",
       "      <td>0</td>\n",
       "      <td>0</td>\n",
       "      <td>NaN</td>\n",
       "      <td>NaN</td>\n",
       "      <td>SENTINEL_3B_SLSTR_ESA</td>\n",
       "      <td>SUOMI NPP_VIIRS_LANDGATE</td>\n",
       "      <td>SENTINEL_3B_SLSTR_ESA|SUOMI NPP_VIIRS_LANDGATE</td>\n",
       "    </tr>\n",
       "    <tr>\n",
       "      <th>...</th>\n",
       "      <td>...</td>\n",
       "      <td>...</td>\n",
       "      <td>...</td>\n",
       "      <td>...</td>\n",
       "      <td>...</td>\n",
       "      <td>...</td>\n",
       "      <td>...</td>\n",
       "    </tr>\n",
       "    <tr>\n",
       "      <th>2020-01-09</th>\n",
       "      <td>13</td>\n",
       "      <td>124</td>\n",
       "      <td>0.104839</td>\n",
       "      <td>-0.180894</td>\n",
       "      <td>SENTINEL_3B_SLSTR_ESA</td>\n",
       "      <td>SUOMI NPP_VIIRS_LANDGATE</td>\n",
       "      <td>SENTINEL_3B_SLSTR_ESA|SUOMI NPP_VIIRS_LANDGATE</td>\n",
       "    </tr>\n",
       "    <tr>\n",
       "      <th>2020-01-10</th>\n",
       "      <td>0</td>\n",
       "      <td>0</td>\n",
       "      <td>NaN</td>\n",
       "      <td>NaN</td>\n",
       "      <td>SENTINEL_3B_SLSTR_ESA</td>\n",
       "      <td>SUOMI NPP_VIIRS_LANDGATE</td>\n",
       "      <td>SENTINEL_3B_SLSTR_ESA|SUOMI NPP_VIIRS_LANDGATE</td>\n",
       "    </tr>\n",
       "    <tr>\n",
       "      <th>2020-01-11</th>\n",
       "      <td>0</td>\n",
       "      <td>0</td>\n",
       "      <td>NaN</td>\n",
       "      <td>NaN</td>\n",
       "      <td>SENTINEL_3B_SLSTR_ESA</td>\n",
       "      <td>SUOMI NPP_VIIRS_LANDGATE</td>\n",
       "      <td>SENTINEL_3B_SLSTR_ESA|SUOMI NPP_VIIRS_LANDGATE</td>\n",
       "    </tr>\n",
       "    <tr>\n",
       "      <th>2020-01-12</th>\n",
       "      <td>2277</td>\n",
       "      <td>1866</td>\n",
       "      <td>1.220257</td>\n",
       "      <td>0.934524</td>\n",
       "      <td>SENTINEL_3B_SLSTR_ESA</td>\n",
       "      <td>SUOMI NPP_VIIRS_LANDGATE</td>\n",
       "      <td>SENTINEL_3B_SLSTR_ESA|SUOMI NPP_VIIRS_LANDGATE</td>\n",
       "    </tr>\n",
       "    <tr>\n",
       "      <th>2020-01-13</th>\n",
       "      <td>12</td>\n",
       "      <td>11</td>\n",
       "      <td>1.090909</td>\n",
       "      <td>0.805176</td>\n",
       "      <td>SENTINEL_3B_SLSTR_ESA</td>\n",
       "      <td>SUOMI NPP_VIIRS_LANDGATE</td>\n",
       "      <td>SENTINEL_3B_SLSTR_ESA|SUOMI NPP_VIIRS_LANDGATE</td>\n",
       "    </tr>\n",
       "  </tbody>\n",
       "</table>\n",
       "<p>74 rows × 7 columns</p>\n",
       "</div>"
      ],
      "text/plain": [
       "            master_count  slave_count     ratio    zscore  \\\n",
       "datetime                                                    \n",
       "2019-11-01            68          162  0.419753  0.134020   \n",
       "2019-11-02             0            0       NaN       NaN   \n",
       "2019-11-03             0            0       NaN       NaN   \n",
       "2019-11-04           312           89  3.505618  3.219885   \n",
       "2019-11-05             0            0       NaN       NaN   \n",
       "...                  ...          ...       ...       ...   \n",
       "2020-01-09            13          124  0.104839 -0.180894   \n",
       "2020-01-10             0            0       NaN       NaN   \n",
       "2020-01-11             0            0       NaN       NaN   \n",
       "2020-01-12          2277         1866  1.220257  0.934524   \n",
       "2020-01-13            12           11  1.090909  0.805176   \n",
       "\n",
       "           satellite_sensor_product 2_satellite_sensor_product  \\\n",
       "datetime                                                         \n",
       "2019-11-01    SENTINEL_3B_SLSTR_ESA   SUOMI NPP_VIIRS_LANDGATE   \n",
       "2019-11-02    SENTINEL_3B_SLSTR_ESA   SUOMI NPP_VIIRS_LANDGATE   \n",
       "2019-11-03    SENTINEL_3B_SLSTR_ESA   SUOMI NPP_VIIRS_LANDGATE   \n",
       "2019-11-04    SENTINEL_3B_SLSTR_ESA   SUOMI NPP_VIIRS_LANDGATE   \n",
       "2019-11-05    SENTINEL_3B_SLSTR_ESA   SUOMI NPP_VIIRS_LANDGATE   \n",
       "...                             ...                        ...   \n",
       "2020-01-09    SENTINEL_3B_SLSTR_ESA   SUOMI NPP_VIIRS_LANDGATE   \n",
       "2020-01-10    SENTINEL_3B_SLSTR_ESA   SUOMI NPP_VIIRS_LANDGATE   \n",
       "2020-01-11    SENTINEL_3B_SLSTR_ESA   SUOMI NPP_VIIRS_LANDGATE   \n",
       "2020-01-12    SENTINEL_3B_SLSTR_ESA   SUOMI NPP_VIIRS_LANDGATE   \n",
       "2020-01-13    SENTINEL_3B_SLSTR_ESA   SUOMI NPP_VIIRS_LANDGATE   \n",
       "\n",
       "                                                      pair  \n",
       "datetime                                                    \n",
       "2019-11-01  SENTINEL_3B_SLSTR_ESA|SUOMI NPP_VIIRS_LANDGATE  \n",
       "2019-11-02  SENTINEL_3B_SLSTR_ESA|SUOMI NPP_VIIRS_LANDGATE  \n",
       "2019-11-03  SENTINEL_3B_SLSTR_ESA|SUOMI NPP_VIIRS_LANDGATE  \n",
       "2019-11-04  SENTINEL_3B_SLSTR_ESA|SUOMI NPP_VIIRS_LANDGATE  \n",
       "2019-11-05  SENTINEL_3B_SLSTR_ESA|SUOMI NPP_VIIRS_LANDGATE  \n",
       "...                                                    ...  \n",
       "2020-01-09  SENTINEL_3B_SLSTR_ESA|SUOMI NPP_VIIRS_LANDGATE  \n",
       "2020-01-10  SENTINEL_3B_SLSTR_ESA|SUOMI NPP_VIIRS_LANDGATE  \n",
       "2020-01-11  SENTINEL_3B_SLSTR_ESA|SUOMI NPP_VIIRS_LANDGATE  \n",
       "2020-01-12  SENTINEL_3B_SLSTR_ESA|SUOMI NPP_VIIRS_LANDGATE  \n",
       "2020-01-13  SENTINEL_3B_SLSTR_ESA|SUOMI NPP_VIIRS_LANDGATE  \n",
       "\n",
       "[74 rows x 7 columns]"
      ]
     },
     "execution_count": 28,
     "metadata": {},
     "output_type": "execute_result"
    }
   ],
   "source": [
    "satellite_sensor_product_daily_list[5]"
   ]
  },
  {
   "cell_type": "code",
   "execution_count": 298,
   "metadata": {},
   "outputs": [],
   "source": [
    "subset = nearest_points_ddf[(pd.to_datetime(nearest_points_ddf['datetime']).dt.date == np.datetime64('2019-12-24')) & (nearest_points_ddf['satellite_sensor_product'] == 'TERRA_MODIS_NASA6.03') & (nearest_points_ddf['2_satellite_sensor_product'] == 'SENTINEL_3B_SLSTR_ESA')]\n",
    "#hotspots_gdf.plot(column='satellite_sensor_product', legend=True, legend_kwds={'loc': 'upper right'}, figsize=(20, 20))"
   ]
  },
  {
   "cell_type": "code",
   "execution_count": 299,
   "metadata": {},
   "outputs": [
    {
     "data": {
      "text/html": [
       "<div>\n",
       "<style scoped>\n",
       "    .dataframe tbody tr th:only-of-type {\n",
       "        vertical-align: middle;\n",
       "    }\n",
       "\n",
       "    .dataframe tbody tr th {\n",
       "        vertical-align: top;\n",
       "    }\n",
       "\n",
       "    .dataframe thead th {\n",
       "        text-align: right;\n",
       "    }\n",
       "</style>\n",
       "<table border=\"1\" class=\"dataframe\">\n",
       "  <thead>\n",
       "    <tr style=\"text-align: right;\">\n",
       "      <th></th>\n",
       "      <th>Unnamed: 0</th>\n",
       "      <th>latitude</th>\n",
       "      <th>longitude</th>\n",
       "      <th>satellite</th>\n",
       "      <th>sensor</th>\n",
       "      <th>confidence</th>\n",
       "      <th>power</th>\n",
       "      <th>datetime</th>\n",
       "      <th>solar_day</th>\n",
       "      <th>satellite_sensor_product</th>\n",
       "      <th>...</th>\n",
       "      <th>2_power</th>\n",
       "      <th>2_datetime</th>\n",
       "      <th>2_solar_day</th>\n",
       "      <th>2_satellite_sensor_product</th>\n",
       "      <th>2_geometry</th>\n",
       "      <th>2_solar_night</th>\n",
       "      <th>dist</th>\n",
       "      <th>dist_m</th>\n",
       "      <th>timedelta</th>\n",
       "      <th>count</th>\n",
       "    </tr>\n",
       "    <tr>\n",
       "      <th>solar_night</th>\n",
       "      <th></th>\n",
       "      <th></th>\n",
       "      <th></th>\n",
       "      <th></th>\n",
       "      <th></th>\n",
       "      <th></th>\n",
       "      <th></th>\n",
       "      <th></th>\n",
       "      <th></th>\n",
       "      <th></th>\n",
       "      <th></th>\n",
       "      <th></th>\n",
       "      <th></th>\n",
       "      <th></th>\n",
       "      <th></th>\n",
       "      <th></th>\n",
       "      <th></th>\n",
       "      <th></th>\n",
       "      <th></th>\n",
       "      <th></th>\n",
       "      <th></th>\n",
       "    </tr>\n",
       "  </thead>\n",
       "  <tbody>\n",
       "    <tr>\n",
       "      <th>2019-12-24 10:09:46</th>\n",
       "      <td>107076</td>\n",
       "      <td>-32.9687</td>\n",
       "      <td>149.9421</td>\n",
       "      <td>TERRA</td>\n",
       "      <td>MODIS</td>\n",
       "      <td>-1.0</td>\n",
       "      <td>62.3</td>\n",
       "      <td>2019-12-24 12:10:00</td>\n",
       "      <td>2019-12-24 22:09:46</td>\n",
       "      <td>TERRA_MODIS_NASA6.03</td>\n",
       "      <td>...</td>\n",
       "      <td>1.00</td>\n",
       "      <td>2019-12-24 12:14:10</td>\n",
       "      <td>2019-12-24 22:13:55</td>\n",
       "      <td>SENTINEL_3B_SLSTR_ESA</td>\n",
       "      <td>POINT (149.9379056214432 -32.97200391675369)</td>\n",
       "      <td>2019-12-24 10:13:55</td>\n",
       "      <td>0.005339</td>\n",
       "      <td>536.666847</td>\n",
       "      <td>0 days 00:04:10</td>\n",
       "      <td>1</td>\n",
       "    </tr>\n",
       "    <tr>\n",
       "      <th>2019-12-24 10:09:48</th>\n",
       "      <td>107077</td>\n",
       "      <td>-33.0626</td>\n",
       "      <td>149.9516</td>\n",
       "      <td>TERRA</td>\n",
       "      <td>MODIS</td>\n",
       "      <td>-1.0</td>\n",
       "      <td>35.4</td>\n",
       "      <td>2019-12-24 12:10:00</td>\n",
       "      <td>2019-12-24 22:09:48</td>\n",
       "      <td>TERRA_MODIS_NASA6.03</td>\n",
       "      <td>...</td>\n",
       "      <td>0.64</td>\n",
       "      <td>2019-12-24 12:14:08</td>\n",
       "      <td>2019-12-24 22:13:56</td>\n",
       "      <td>SENTINEL_3B_SLSTR_ESA</td>\n",
       "      <td>POINT (149.9506026214111 -33.06411091652114)</td>\n",
       "      <td>2019-12-24 10:13:56</td>\n",
       "      <td>0.001810</td>\n",
       "      <td>191.715277</td>\n",
       "      <td>0 days 00:04:08</td>\n",
       "      <td>1</td>\n",
       "    </tr>\n",
       "    <tr>\n",
       "      <th>2019-12-24 10:09:49</th>\n",
       "      <td>107078</td>\n",
       "      <td>-33.0571</td>\n",
       "      <td>149.9556</td>\n",
       "      <td>TERRA</td>\n",
       "      <td>MODIS</td>\n",
       "      <td>-1.0</td>\n",
       "      <td>53.0</td>\n",
       "      <td>2019-12-24 12:10:00</td>\n",
       "      <td>2019-12-24 22:09:49</td>\n",
       "      <td>TERRA_MODIS_NASA6.03</td>\n",
       "      <td>...</td>\n",
       "      <td>0.86</td>\n",
       "      <td>2019-12-24 12:14:08</td>\n",
       "      <td>2019-12-24 22:13:58</td>\n",
       "      <td>SENTINEL_3B_SLSTR_ESA</td>\n",
       "      <td>POINT (149.9610296213848 -33.05995991653162)</td>\n",
       "      <td>2019-12-24 10:13:58</td>\n",
       "      <td>0.006137</td>\n",
       "      <td>598.108568</td>\n",
       "      <td>0 days 00:04:08</td>\n",
       "      <td>1</td>\n",
       "    </tr>\n",
       "    <tr>\n",
       "      <th>2019-12-24 10:09:56</th>\n",
       "      <td>107079</td>\n",
       "      <td>-33.0447</td>\n",
       "      <td>149.9850</td>\n",
       "      <td>TERRA</td>\n",
       "      <td>MODIS</td>\n",
       "      <td>-1.0</td>\n",
       "      <td>30.9</td>\n",
       "      <td>2019-12-24 12:10:00</td>\n",
       "      <td>2019-12-24 22:09:56</td>\n",
       "      <td>TERRA_MODIS_NASA6.03</td>\n",
       "      <td>...</td>\n",
       "      <td>1.35</td>\n",
       "      <td>2019-12-24 12:14:08</td>\n",
       "      <td>2019-12-24 22:14:03</td>\n",
       "      <td>SENTINEL_3B_SLSTR_ESA</td>\n",
       "      <td>POINT (149.9803816213359 -33.04236691657604)</td>\n",
       "      <td>2019-12-24 10:14:03</td>\n",
       "      <td>0.005174</td>\n",
       "      <td>503.040466</td>\n",
       "      <td>0 days 00:04:08</td>\n",
       "      <td>1</td>\n",
       "    </tr>\n",
       "  </tbody>\n",
       "</table>\n",
       "<p>4 rows × 26 columns</p>\n",
       "</div>"
      ],
      "text/plain": [
       "                     Unnamed: 0  latitude  longitude satellite sensor  \\\n",
       "solar_night                                                             \n",
       "2019-12-24 10:09:46      107076  -32.9687   149.9421     TERRA  MODIS   \n",
       "2019-12-24 10:09:48      107077  -33.0626   149.9516     TERRA  MODIS   \n",
       "2019-12-24 10:09:49      107078  -33.0571   149.9556     TERRA  MODIS   \n",
       "2019-12-24 10:09:56      107079  -33.0447   149.9850     TERRA  MODIS   \n",
       "\n",
       "                     confidence  power            datetime  \\\n",
       "solar_night                                                  \n",
       "2019-12-24 10:09:46        -1.0   62.3 2019-12-24 12:10:00   \n",
       "2019-12-24 10:09:48        -1.0   35.4 2019-12-24 12:10:00   \n",
       "2019-12-24 10:09:49        -1.0   53.0 2019-12-24 12:10:00   \n",
       "2019-12-24 10:09:56        -1.0   30.9 2019-12-24 12:10:00   \n",
       "\n",
       "                              solar_day satellite_sensor_product  ... 2_power  \\\n",
       "solar_night                                                       ...           \n",
       "2019-12-24 10:09:46 2019-12-24 22:09:46     TERRA_MODIS_NASA6.03  ...    1.00   \n",
       "2019-12-24 10:09:48 2019-12-24 22:09:48     TERRA_MODIS_NASA6.03  ...    0.64   \n",
       "2019-12-24 10:09:49 2019-12-24 22:09:49     TERRA_MODIS_NASA6.03  ...    0.86   \n",
       "2019-12-24 10:09:56 2019-12-24 22:09:56     TERRA_MODIS_NASA6.03  ...    1.35   \n",
       "\n",
       "                             2_datetime          2_solar_day  \\\n",
       "solar_night                                                    \n",
       "2019-12-24 10:09:46 2019-12-24 12:14:10  2019-12-24 22:13:55   \n",
       "2019-12-24 10:09:48 2019-12-24 12:14:08  2019-12-24 22:13:56   \n",
       "2019-12-24 10:09:49 2019-12-24 12:14:08  2019-12-24 22:13:58   \n",
       "2019-12-24 10:09:56 2019-12-24 12:14:08  2019-12-24 22:14:03   \n",
       "\n",
       "                    2_satellite_sensor_product  \\\n",
       "solar_night                                      \n",
       "2019-12-24 10:09:46      SENTINEL_3B_SLSTR_ESA   \n",
       "2019-12-24 10:09:48      SENTINEL_3B_SLSTR_ESA   \n",
       "2019-12-24 10:09:49      SENTINEL_3B_SLSTR_ESA   \n",
       "2019-12-24 10:09:56      SENTINEL_3B_SLSTR_ESA   \n",
       "\n",
       "                                                       2_geometry  \\\n",
       "solar_night                                                         \n",
       "2019-12-24 10:09:46  POINT (149.9379056214432 -32.97200391675369)   \n",
       "2019-12-24 10:09:48  POINT (149.9506026214111 -33.06411091652114)   \n",
       "2019-12-24 10:09:49  POINT (149.9610296213848 -33.05995991653162)   \n",
       "2019-12-24 10:09:56  POINT (149.9803816213359 -33.04236691657604)   \n",
       "\n",
       "                           2_solar_night      dist      dist_m  \\\n",
       "solar_night                                                      \n",
       "2019-12-24 10:09:46  2019-12-24 10:13:55  0.005339  536.666847   \n",
       "2019-12-24 10:09:48  2019-12-24 10:13:56  0.001810  191.715277   \n",
       "2019-12-24 10:09:49  2019-12-24 10:13:58  0.006137  598.108568   \n",
       "2019-12-24 10:09:56  2019-12-24 10:14:03  0.005174  503.040466   \n",
       "\n",
       "                          timedelta count  \n",
       "solar_night                                \n",
       "2019-12-24 10:09:46 0 days 00:04:10     1  \n",
       "2019-12-24 10:09:48 0 days 00:04:08     1  \n",
       "2019-12-24 10:09:49 0 days 00:04:08     1  \n",
       "2019-12-24 10:09:56 0 days 00:04:08     1  \n",
       "\n",
       "[4 rows x 26 columns]"
      ]
     },
     "execution_count": 299,
     "metadata": {},
     "output_type": "execute_result"
    }
   ],
   "source": [
    "subset"
   ]
  },
  {
   "cell_type": "code",
   "execution_count": 295,
   "metadata": {},
   "outputs": [
    {
     "data": {
      "text/html": [
       "<div style=\"width:100%;\"><div style=\"position:relative;width:100%;height:0;padding-bottom:60%;\"><span style=\"color:#565656\">Make this Notebook Trusted to load map: File -> Trust Notebook</span><iframe src=\"about:blank\" style=\"position:absolute;width:100%;height:100%;left:0;top:0;border:none !important;\" data-html=%3C%21DOCTYPE%20html%3E%0A%3Chead%3E%20%20%20%20%0A%20%20%20%20%3Cmeta%20http-equiv%3D%22content-type%22%20content%3D%22text/html%3B%20charset%3DUTF-8%22%20/%3E%0A%20%20%20%20%0A%20%20%20%20%20%20%20%20%3Cscript%3E%0A%20%20%20%20%20%20%20%20%20%20%20%20L_NO_TOUCH%20%3D%20false%3B%0A%20%20%20%20%20%20%20%20%20%20%20%20L_DISABLE_3D%20%3D%20false%3B%0A%20%20%20%20%20%20%20%20%3C/script%3E%0A%20%20%20%20%0A%20%20%20%20%3Cstyle%3Ehtml%2C%20body%20%7Bwidth%3A%20100%25%3Bheight%3A%20100%25%3Bmargin%3A%200%3Bpadding%3A%200%3B%7D%3C/style%3E%0A%20%20%20%20%3Cstyle%3E%23map%20%7Bposition%3Aabsolute%3Btop%3A0%3Bbottom%3A0%3Bright%3A0%3Bleft%3A0%3B%7D%3C/style%3E%0A%20%20%20%20%3Cscript%20src%3D%22https%3A//cdn.jsdelivr.net/npm/leaflet%401.6.0/dist/leaflet.js%22%3E%3C/script%3E%0A%20%20%20%20%3Cscript%20src%3D%22https%3A//code.jquery.com/jquery-1.12.4.min.js%22%3E%3C/script%3E%0A%20%20%20%20%3Cscript%20src%3D%22https%3A//maxcdn.bootstrapcdn.com/bootstrap/3.2.0/js/bootstrap.min.js%22%3E%3C/script%3E%0A%20%20%20%20%3Cscript%20src%3D%22https%3A//cdnjs.cloudflare.com/ajax/libs/Leaflet.awesome-markers/2.0.2/leaflet.awesome-markers.js%22%3E%3C/script%3E%0A%20%20%20%20%3Clink%20rel%3D%22stylesheet%22%20href%3D%22https%3A//cdn.jsdelivr.net/npm/leaflet%401.6.0/dist/leaflet.css%22/%3E%0A%20%20%20%20%3Clink%20rel%3D%22stylesheet%22%20href%3D%22https%3A//maxcdn.bootstrapcdn.com/bootstrap/3.2.0/css/bootstrap.min.css%22/%3E%0A%20%20%20%20%3Clink%20rel%3D%22stylesheet%22%20href%3D%22https%3A//maxcdn.bootstrapcdn.com/bootstrap/3.2.0/css/bootstrap-theme.min.css%22/%3E%0A%20%20%20%20%3Clink%20rel%3D%22stylesheet%22%20href%3D%22https%3A//maxcdn.bootstrapcdn.com/font-awesome/4.6.3/css/font-awesome.min.css%22/%3E%0A%20%20%20%20%3Clink%20rel%3D%22stylesheet%22%20href%3D%22https%3A//cdnjs.cloudflare.com/ajax/libs/Leaflet.awesome-markers/2.0.2/leaflet.awesome-markers.css%22/%3E%0A%20%20%20%20%3Clink%20rel%3D%22stylesheet%22%20href%3D%22https%3A//cdn.jsdelivr.net/gh/python-visualization/folium/folium/templates/leaflet.awesome.rotate.min.css%22/%3E%0A%20%20%20%20%0A%20%20%20%20%20%20%20%20%20%20%20%20%3Cmeta%20name%3D%22viewport%22%20content%3D%22width%3Ddevice-width%2C%0A%20%20%20%20%20%20%20%20%20%20%20%20%20%20%20%20initial-scale%3D1.0%2C%20maximum-scale%3D1.0%2C%20user-scalable%3Dno%22%20/%3E%0A%20%20%20%20%20%20%20%20%20%20%20%20%3Cstyle%3E%0A%20%20%20%20%20%20%20%20%20%20%20%20%20%20%20%20%23map_30d54ac0123b40109c97bcfc3975c876%20%7B%0A%20%20%20%20%20%20%20%20%20%20%20%20%20%20%20%20%20%20%20%20position%3A%20relative%3B%0A%20%20%20%20%20%20%20%20%20%20%20%20%20%20%20%20%20%20%20%20width%3A%20100.0%25%3B%0A%20%20%20%20%20%20%20%20%20%20%20%20%20%20%20%20%20%20%20%20height%3A%20100.0%25%3B%0A%20%20%20%20%20%20%20%20%20%20%20%20%20%20%20%20%20%20%20%20left%3A%200.0%25%3B%0A%20%20%20%20%20%20%20%20%20%20%20%20%20%20%20%20%20%20%20%20top%3A%200.0%25%3B%0A%20%20%20%20%20%20%20%20%20%20%20%20%20%20%20%20%7D%0A%20%20%20%20%20%20%20%20%20%20%20%20%3C/style%3E%0A%20%20%20%20%20%20%20%20%0A%3C/head%3E%0A%3Cbody%3E%20%20%20%20%0A%20%20%20%20%0A%20%20%20%20%20%20%20%20%20%20%20%20%3Cdiv%20class%3D%22folium-map%22%20id%3D%22map_30d54ac0123b40109c97bcfc3975c876%22%20%3E%3C/div%3E%0A%20%20%20%20%20%20%20%20%0A%3C/body%3E%0A%3Cscript%3E%20%20%20%20%0A%20%20%20%20%0A%20%20%20%20%20%20%20%20%20%20%20%20var%20map_30d54ac0123b40109c97bcfc3975c876%20%3D%20L.map%28%0A%20%20%20%20%20%20%20%20%20%20%20%20%20%20%20%20%22map_30d54ac0123b40109c97bcfc3975c876%22%2C%0A%20%20%20%20%20%20%20%20%20%20%20%20%20%20%20%20%7B%0A%20%20%20%20%20%20%20%20%20%20%20%20%20%20%20%20%20%20%20%20center%3A%20%5B-26.0%2C%20132.0%5D%2C%0A%20%20%20%20%20%20%20%20%20%20%20%20%20%20%20%20%20%20%20%20crs%3A%20L.CRS.EPSG3857%2C%0A%20%20%20%20%20%20%20%20%20%20%20%20%20%20%20%20%20%20%20%20zoom%3A%204%2C%0A%20%20%20%20%20%20%20%20%20%20%20%20%20%20%20%20%20%20%20%20zoomControl%3A%20true%2C%0A%20%20%20%20%20%20%20%20%20%20%20%20%20%20%20%20%20%20%20%20preferCanvas%3A%20false%2C%0A%20%20%20%20%20%20%20%20%20%20%20%20%20%20%20%20%7D%0A%20%20%20%20%20%20%20%20%20%20%20%20%29%3B%0A%0A%20%20%20%20%20%20%20%20%20%20%20%20%0A%0A%20%20%20%20%20%20%20%20%0A%20%20%20%20%0A%20%20%20%20%20%20%20%20%20%20%20%20var%20tile_layer_3352475966de4bc899291ddf9aa638f1%20%3D%20L.tileLayer%28%0A%20%20%20%20%20%20%20%20%20%20%20%20%20%20%20%20%22https%3A//stamen-tiles-%7Bs%7D.a.ssl.fastly.net/terrain/%7Bz%7D/%7Bx%7D/%7By%7D.jpg%22%2C%0A%20%20%20%20%20%20%20%20%20%20%20%20%20%20%20%20%7B%22attribution%22%3A%20%22Map%20tiles%20by%20%5Cu003ca%20href%3D%5C%22http%3A//stamen.com%5C%22%5Cu003eStamen%20Design%5Cu003c/a%5Cu003e%2C%20under%20%5Cu003ca%20href%3D%5C%22http%3A//creativecommons.org/licenses/by/3.0%5C%22%5Cu003eCC%20BY%203.0%5Cu003c/a%5Cu003e.%20Data%20by%20%5Cu0026copy%3B%20%5Cu003ca%20href%3D%5C%22http%3A//openstreetmap.org%5C%22%5Cu003eOpenStreetMap%5Cu003c/a%5Cu003e%2C%20under%20%5Cu003ca%20href%3D%5C%22http%3A//creativecommons.org/licenses/by-sa/3.0%5C%22%5Cu003eCC%20BY%20SA%5Cu003c/a%5Cu003e.%22%2C%20%22detectRetina%22%3A%20false%2C%20%22maxNativeZoom%22%3A%2018%2C%20%22maxZoom%22%3A%2018%2C%20%22minZoom%22%3A%200%2C%20%22noWrap%22%3A%20false%2C%20%22opacity%22%3A%201%2C%20%22subdomains%22%3A%20%22abc%22%2C%20%22tms%22%3A%20false%7D%0A%20%20%20%20%20%20%20%20%20%20%20%20%29.addTo%28map_30d54ac0123b40109c97bcfc3975c876%29%3B%0A%20%20%20%20%20%20%20%20%0A%20%20%20%20%0A%0A%20%20%20%20%20%20%20%20function%20geo_json_6d328c3f399f41cca957d2bb3c5e6c43_onEachFeature%28feature%2C%20layer%29%20%7B%0A%20%20%20%20%20%20%20%20%20%20%20%20layer.on%28%7B%0A%20%20%20%20%20%20%20%20%20%20%20%20%7D%29%3B%0A%20%20%20%20%20%20%20%20%7D%3B%0A%20%20%20%20%20%20%20%20var%20geo_json_6d328c3f399f41cca957d2bb3c5e6c43%20%3D%20L.geoJson%28null%2C%20%7B%0A%20%20%20%20%20%20%20%20%20%20%20%20%20%20%20%20onEachFeature%3A%20geo_json_6d328c3f399f41cca957d2bb3c5e6c43_onEachFeature%2C%0A%20%20%20%20%20%20%20%20%20%20%20%20%0A%20%20%20%20%20%20%20%20%7D%29%3B%0A%0A%20%20%20%20%20%20%20%20function%20geo_json_6d328c3f399f41cca957d2bb3c5e6c43_add%20%28data%29%20%7B%0A%20%20%20%20%20%20%20%20%20%20%20%20geo_json_6d328c3f399f41cca957d2bb3c5e6c43%0A%20%20%20%20%20%20%20%20%20%20%20%20%20%20%20%20.addData%28data%29%0A%20%20%20%20%20%20%20%20%20%20%20%20%20%20%20%20.addTo%28map_30d54ac0123b40109c97bcfc3975c876%29%3B%0A%20%20%20%20%20%20%20%20%7D%0A%20%20%20%20%20%20%20%20%20%20%20%20geo_json_6d328c3f399f41cca957d2bb3c5e6c43_add%28%7B%22bbox%22%3A%20%5B148.37861562538%2C%20-37.23639690598714%2C%20152.1499326158583%2C%20-30.17706192381024%5D%2C%20%22features%22%3A%20%5B%7B%22bbox%22%3A%20%5B148.37861562538%2C%20-37.22587190601371%2C%20148.37861562538%2C%20-37.22587190601371%5D%2C%20%22geometry%22%3A%20%7B%22coordinates%22%3A%20%5B148.37861562538%2C%20-37.22587190601371%5D%2C%20%22type%22%3A%20%22Point%22%7D%2C%20%22id%22%3A%20%222019-12-24T10%3A06%3A47.000000000%22%2C%20%22properties%22%3A%20%7B%7D%2C%20%22type%22%3A%20%22Feature%22%7D%2C%20%7B%22bbox%22%3A%20%5B148.3792666253784%2C%20-37.23639690598714%2C%20148.3792666253784%2C%20-37.23639690598714%5D%2C%20%22geometry%22%3A%20%7B%22coordinates%22%3A%20%5B148.3792666253784%2C%20-37.23639690598714%5D%2C%20%22type%22%3A%20%22Point%22%7D%2C%20%22id%22%3A%20%222019-12-24T10%3A06%3A48.000000000%22%2C%20%22properties%22%3A%20%7B%7D%2C%20%22type%22%3A%20%22Feature%22%7D%2C%20%7B%22bbox%22%3A%20%5B148.3918496253466%2C%20-37.22911090600553%2C%20148.3918496253466%2C%20-37.22911090600553%5D%2C%20%22geometry%22%3A%20%7B%22coordinates%22%3A%20%5B148.3918496253466%2C%20-37.22911090600553%5D%2C%20%22type%22%3A%20%22Point%22%7D%2C%20%22id%22%3A%20%222019-12-24T10%3A06%3A51.000000000%22%2C%20%22properties%22%3A%20%7B%7D%2C%20%22type%22%3A%20%22Feature%22%7D%2C%20%7B%22bbox%22%3A%20%5B148.4043156253151%2C%20-37.22186790602382%2C%20148.4043156253151%2C%20-37.22186790602382%5D%2C%20%22geometry%22%3A%20%7B%22coordinates%22%3A%20%5B148.4043156253151%2C%20-37.22186790602382%5D%2C%20%22type%22%3A%20%22Point%22%7D%2C%20%22id%22%3A%20%222019-12-24T10%3A06%3A54.000000000%22%2C%20%22properties%22%3A%20%7B%7D%2C%20%22type%22%3A%20%22Feature%22%7D%2C%20%7B%22bbox%22%3A%20%5B148.4084516253047%2C%20-37.22884990600619%2C%20148.4084516253047%2C%20-37.22884990600619%5D%2C%20%22geometry%22%3A%20%7B%22coordinates%22%3A%20%5B148.4084516253047%2C%20-37.22884990600619%5D%2C%20%22type%22%3A%20%22Point%22%7D%2C%20%22id%22%3A%20%222019-12-24T10%3A06%3A55.000000000%22%2C%20%22properties%22%3A%20%7B%7D%2C%20%22type%22%3A%20%22Feature%22%7D%2C%20%7B%22bbox%22%3A%20%5B149.8886646215675%2C%20-35.50949191034715%2C%20149.8886646215675%2C%20-35.50949191034715%5D%2C%20%22geometry%22%3A%20%7B%22coordinates%22%3A%20%5B149.8886646215675%2C%20-35.50949191034715%5D%2C%20%22type%22%3A%20%22Point%22%7D%2C%20%22id%22%3A%20%222019-12-24T10%3A13%3A04.000000000%22%2C%20%22properties%22%3A%20%7B%7D%2C%20%22type%22%3A%20%22Feature%22%7D%2C%20%7B%22bbox%22%3A%20%5B149.8875406215703%2C%20-35.49975791037173%2C%20149.8875406215703%2C%20-35.49975791037173%5D%2C%20%22geometry%22%3A%20%7B%22coordinates%22%3A%20%5B149.8875406215703%2C%20-35.49975791037173%5D%2C%20%22type%22%3A%20%22Point%22%7D%2C%20%22id%22%3A%20%222019-12-24T10%3A13%3A04.000000000%22%2C%20%22properties%22%3A%20%7B%7D%2C%20%22type%22%3A%20%22Feature%22%7D%2C%20%7B%22bbox%22%3A%20%5B149.9031636215309%2C%20-35.51244891033969%2C%20149.9031636215309%2C%20-35.51244891033969%5D%2C%20%22geometry%22%3A%20%7B%22coordinates%22%3A%20%5B149.9031636215309%2C%20-35.51244891033969%5D%2C%20%22type%22%3A%20%22Point%22%7D%2C%20%22id%22%3A%20%222019-12-24T10%3A13%3A07.000000000%22%2C%20%22properties%22%3A%20%7B%7D%2C%20%22type%22%3A%20%22Feature%22%7D%2C%20%7B%22bbox%22%3A%20%5B149.9140966215033%2C%20-35.50758991035195%2C%20149.9140966215033%2C%20-35.50758991035195%5D%2C%20%22geometry%22%3A%20%7B%22coordinates%22%3A%20%5B149.9140966215033%2C%20-35.50758991035195%5D%2C%20%22type%22%3A%20%22Point%22%7D%2C%20%22id%22%3A%20%222019-12-24T10%3A13%3A10.000000000%22%2C%20%22properties%22%3A%20%7B%7D%2C%20%22type%22%3A%20%22Feature%22%7D%2C%20%7B%22bbox%22%3A%20%5B149.9259536214734%2C%20-35.51247191033963%2C%20149.9259536214734%2C%20-35.51247191033963%5D%2C%20%22geometry%22%3A%20%7B%22coordinates%22%3A%20%5B149.9259536214734%2C%20-35.51247191033963%5D%2C%20%22type%22%3A%20%22Point%22%7D%2C%20%22id%22%3A%20%222019-12-24T10%3A13%3A13.000000000%22%2C%20%22properties%22%3A%20%7B%7D%2C%20%22type%22%3A%20%22Feature%22%7D%2C%20%7B%22bbox%22%3A%20%5B149.820736621739%2C%20-33.05623691654102%2C%20149.820736621739%2C%20-33.05623691654102%5D%2C%20%22geometry%22%3A%20%7B%22coordinates%22%3A%20%5B149.820736621739%2C%20-33.05623691654102%5D%2C%20%22type%22%3A%20%22Point%22%7D%2C%20%22id%22%3A%20%222019-12-24T10%3A13%3A25.000000000%22%2C%20%22properties%22%3A%20%7B%7D%2C%20%22type%22%3A%20%22Feature%22%7D%2C%20%7B%22bbox%22%3A%20%5B149.8196876217417%2C%20-33.04672391656504%2C%20149.8196876217417%2C%20-33.04672391656504%5D%2C%20%22geometry%22%3A%20%7B%22coordinates%22%3A%20%5B149.8196876217417%2C%20-33.04672391656504%5D%2C%20%22type%22%3A%20%22Point%22%7D%2C%20%22id%22%3A%20%222019-12-24T10%3A13%3A25.000000000%22%2C%20%22properties%22%3A%20%7B%7D%2C%20%22type%22%3A%20%22Feature%22%7D%2C%20%7B%22bbox%22%3A%20%5B149.8270146217232%2C%20-33.03438991659618%2C%20149.8270146217232%2C%20-33.03438991659618%5D%2C%20%22geometry%22%3A%20%7B%22coordinates%22%3A%20%5B149.8270146217232%2C%20-33.03438991659618%5D%2C%20%22type%22%3A%20%22Point%22%7D%2C%20%22id%22%3A%20%222019-12-24T10%3A13%3A27.000000000%22%2C%20%22properties%22%3A%20%7B%7D%2C%20%22type%22%3A%20%22Feature%22%7D%2C%20%7B%22bbox%22%3A%20%5B149.830245621715%2C%20-33.0424619165758%2C%20149.830245621715%2C%20-33.0424619165758%5D%2C%20%22geometry%22%3A%20%7B%22coordinates%22%3A%20%5B149.830245621715%2C%20-33.0424619165758%5D%2C%20%22type%22%3A%20%22Point%22%7D%2C%20%22id%22%3A%20%222019-12-24T10%3A13%3A28.000000000%22%2C%20%22properties%22%3A%20%7B%7D%2C%20%22type%22%3A%20%22Feature%22%7D%2C%20%7B%22bbox%22%3A%20%5B149.8582486216443%2C%20-33.01373891664832%2C%20149.8582486216443%2C%20-33.01373891664832%5D%2C%20%22geometry%22%3A%20%7B%22coordinates%22%3A%20%5B149.8582486216443%2C%20-33.01373891664832%5D%2C%20%22type%22%3A%20%22Point%22%7D%2C%20%22id%22%3A%20%222019-12-24T10%3A13%3A34.000000000%22%2C%20%22properties%22%3A%20%7B%7D%2C%20%22type%22%3A%20%22Feature%22%7D%2C%20%7B%22bbox%22%3A%20%5B149.8536346216559%2C%20-33.00406991667273%2C%20149.8536346216559%2C%20-33.00406991667273%5D%2C%20%22geometry%22%3A%20%7B%22coordinates%22%3A%20%5B149.8536346216559%2C%20-33.00406991667273%5D%2C%20%22type%22%3A%20%22Point%22%7D%2C%20%22id%22%3A%20%222019-12-24T10%3A13%3A34.000000000%22%2C%20%22properties%22%3A%20%7B%7D%2C%20%22type%22%3A%20%22Feature%22%7D%2C%20%7B%22bbox%22%3A%20%5B150.0279166212159%2C%20-35.5844499101579%2C%20150.0279166212159%2C%20-35.5844499101579%5D%2C%20%22geometry%22%3A%20%7B%22coordinates%22%3A%20%5B150.0279166212159%2C%20-35.5844499101579%5D%2C%20%22type%22%3A%20%22Point%22%7D%2C%20%22id%22%3A%20%222019-12-24T10%3A13%3A35.000000000%22%2C%20%22properties%22%3A%20%7B%7D%2C%20%22type%22%3A%20%22Feature%22%7D%2C%20%7B%22bbox%22%3A%20%5B149.8643416216289%2C%20-33.04069191658027%2C%20149.8643416216289%2C%20-33.04069191658027%5D%2C%20%22geometry%22%3A%20%7B%22coordinates%22%3A%20%5B149.8643416216289%2C%20-33.04069191658027%5D%2C%20%22type%22%3A%20%22Point%22%7D%2C%20%22id%22%3A%20%222019-12-24T10%3A13%3A36.000000000%22%2C%20%22properties%22%3A%20%7B%7D%2C%20%22type%22%3A%20%22Feature%22%7D%2C%20%7B%22bbox%22%3A%20%5B150.0317276212063%2C%20-35.59232291013802%2C%20150.0317276212063%2C%20-35.59232291013802%5D%2C%20%22geometry%22%3A%20%7B%22coordinates%22%3A%20%5B150.0317276212063%2C%20-35.59232291013802%5D%2C%20%22type%22%3A%20%22Point%22%7D%2C%20%22id%22%3A%20%222019-12-24T10%3A13%3A36.000000000%22%2C%20%22properties%22%3A%20%7B%7D%2C%20%22type%22%3A%20%22Feature%22%7D%2C%20%7B%22bbox%22%3A%20%5B149.8641036216295%2C%20-32.99984891668339%2C%20149.8641036216295%2C%20-32.99984891668339%5D%2C%20%22geometry%22%3A%20%7B%22coordinates%22%3A%20%5B149.8641036216295%2C%20-32.99984891668339%5D%2C%20%22type%22%3A%20%22Point%22%7D%2C%20%22id%22%3A%20%222019-12-24T10%3A13%3A37.000000000%22%2C%20%22properties%22%3A%20%7B%7D%2C%20%22type%22%3A%20%22Feature%22%7D%2C%20%7B%22bbox%22%3A%20%5B149.8686846216179%2C%20-33.00951191665899%2C%20149.8686846216179%2C%20-33.00951191665899%5D%2C%20%22geometry%22%3A%20%7B%22coordinates%22%3A%20%5B149.8686846216179%2C%20-33.00951191665899%5D%2C%20%22type%22%3A%20%22Point%22%7D%2C%20%22id%22%3A%20%222019-12-24T10%3A13%3A37.000000000%22%2C%20%22properties%22%3A%20%7B%7D%2C%20%22type%22%3A%20%22Feature%22%7D%2C%20%7B%22bbox%22%3A%20%5B149.8747056216027%2C%20-33.03647391659092%2C%20149.8747056216027%2C%20-33.03647391659092%5D%2C%20%22geometry%22%3A%20%7B%22coordinates%22%3A%20%5B149.8747056216027%2C%20-33.03647391659092%5D%2C%20%22type%22%3A%20%22Point%22%7D%2C%20%22id%22%3A%20%222019-12-24T10%3A13%3A38.000000000%22%2C%20%22properties%22%3A%20%7B%7D%2C%20%22type%22%3A%20%22Feature%22%7D%2C%20%7B%22bbox%22%3A%20%5B150.0425656211789%2C%20-35.58757691015001%2C%20150.0425656211789%2C%20-35.58757691015001%5D%2C%20%22geometry%22%3A%20%7B%22coordinates%22%3A%20%5B150.0425656211789%2C%20-35.58757691015001%5D%2C%20%22type%22%3A%20%22Point%22%7D%2C%20%22id%22%3A%20%222019-12-24T10%3A13%3A39.000000000%22%2C%20%22properties%22%3A%20%7B%7D%2C%20%22type%22%3A%20%22Feature%22%7D%2C%20%7B%22bbox%22%3A%20%5B149.9210216214858%2C%20-32.98857991671184%2C%20149.9210216214858%2C%20-32.98857991671184%5D%2C%20%22geometry%22%3A%20%7B%22coordinates%22%3A%20%5B149.9210216214858%2C%20-32.98857991671184%5D%2C%20%22type%22%3A%20%22Point%22%7D%2C%20%22id%22%3A%20%222019-12-24T10%3A13%3A50.000000000%22%2C%20%22properties%22%3A%20%7B%7D%2C%20%22type%22%3A%20%22Feature%22%7D%2C%20%7B%22bbox%22%3A%20%5B149.925695621474%2C%20-33.00619091666738%2C%20149.925695621474%2C%20-33.00619091666738%5D%2C%20%22geometry%22%3A%20%7B%22coordinates%22%3A%20%5B149.925695621474%2C%20-33.00619091666738%5D%2C%20%22type%22%3A%20%22Point%22%7D%2C%20%22id%22%3A%20%222019-12-24T10%3A13%3A51.000000000%22%2C%20%22properties%22%3A%20%7B%7D%2C%20%22type%22%3A%20%22Feature%22%7D%2C%20%7B%22bbox%22%3A%20%5B149.927688621469%2C%20-32.97614891674323%2C%20149.927688621469%2C%20-32.97614891674323%5D%2C%20%22geometry%22%3A%20%7B%22coordinates%22%3A%20%5B149.927688621469%2C%20-32.97614891674323%5D%2C%20%22type%22%3A%20%22Point%22%7D%2C%20%22id%22%3A%20%222019-12-24T10%3A13%3A51.000000000%22%2C%20%22properties%22%3A%20%7B%7D%2C%20%22type%22%3A%20%22Feature%22%7D%2C%20%7B%22bbox%22%3A%20%5B149.9260596214731%2C%20-32.96680391676682%2C%20149.9260596214731%2C%20-32.96680391676682%5D%2C%20%22geometry%22%3A%20%7B%22coordinates%22%3A%20%5B149.9260596214731%2C%20-32.96680391676682%5D%2C%20%22type%22%3A%20%22Point%22%7D%2C%20%22id%22%3A%20%222019-12-24T10%3A13%3A52.000000000%22%2C%20%22properties%22%3A%20%7B%7D%2C%20%22type%22%3A%20%22Feature%22%7D%2C%20%7B%22bbox%22%3A%20%5B149.9309706214607%2C%20-32.98441291672236%2C%20149.9309706214607%2C%20-32.98441291672236%5D%2C%20%22geometry%22%3A%20%7B%22coordinates%22%3A%20%5B149.9309706214607%2C%20-32.98441291672236%5D%2C%20%22type%22%3A%20%22Point%22%7D%2C%20%22id%22%3A%20%222019-12-24T10%3A13%3A52.000000000%22%2C%20%22properties%22%3A%20%7B%7D%2C%20%22type%22%3A%20%22Feature%22%7D%2C%20%7B%22bbox%22%3A%20%5B149.9359246214482%2C%20-33.0020229166779%2C%20149.9359246214482%2C%20-33.0020229166779%5D%2C%20%22geometry%22%3A%20%7B%22coordinates%22%3A%20%5B149.9359246214482%2C%20-33.0020229166779%5D%2C%20%22type%22%3A%20%22Point%22%7D%2C%20%22id%22%3A%20%222019-12-24T10%3A13%3A53.000000000%22%2C%20%22properties%22%3A%20%7B%7D%2C%20%22type%22%3A%20%22Feature%22%7D%2C%20%7B%22bbox%22%3A%20%5B149.9385966214414%2C%20-33.05892791653423%2C%20149.9385966214414%2C%20-33.05892791653423%5D%2C%20%22geometry%22%3A%20%7B%22coordinates%22%3A%20%5B149.9385966214414%2C%20-33.05892791653423%5D%2C%20%22type%22%3A%20%22Point%22%7D%2C%20%22id%22%3A%20%222019-12-24T10%3A13%3A53.000000000%22%2C%20%22properties%22%3A%20%7B%7D%2C%20%22type%22%3A%20%22Feature%22%7D%2C%20%7B%22bbox%22%3A%20%5B149.9408686214357%2C%20-32.98023491673291%2C%20149.9408686214357%2C%20-32.98023491673291%5D%2C%20%22geometry%22%3A%20%7B%22coordinates%22%3A%20%5B149.9408686214357%2C%20-32.98023491673291%5D%2C%20%22type%22%3A%20%22Point%22%7D%2C%20%22id%22%3A%20%222019-12-24T10%3A13%3A54.000000000%22%2C%20%22properties%22%3A%20%7B%7D%2C%20%22type%22%3A%20%22Feature%22%7D%2C%20%7B%22bbox%22%3A%20%5B149.9364186214469%2C%20-32.96266991677726%2C%20149.9364186214469%2C%20-32.96266991677726%5D%2C%20%22geometry%22%3A%20%7B%22coordinates%22%3A%20%5B149.9364186214469%2C%20-32.96266991677726%5D%2C%20%22type%22%3A%20%22Point%22%7D%2C%20%22id%22%3A%20%222019-12-24T10%3A13%3A54.000000000%22%2C%20%22properties%22%3A%20%7B%7D%2C%20%22type%22%3A%20%22Feature%22%7D%2C%20%7B%22bbox%22%3A%20%5B149.9379056214432%2C%20-32.97200391675369%2C%20149.9379056214432%2C%20-32.97200391675369%5D%2C%20%22geometry%22%3A%20%7B%22coordinates%22%3A%20%5B149.9379056214432%2C%20-32.97200391675369%5D%2C%20%22type%22%3A%20%22Point%22%7D%2C%20%22id%22%3A%20%222019-12-24T10%3A13%3A55.000000000%22%2C%20%22properties%22%3A%20%7B%7D%2C%20%22type%22%3A%20%22Feature%22%7D%2C%20%7B%22bbox%22%3A%20%5B149.9455856214238%2C%20-32.99783191668848%2C%20149.9455856214238%2C%20-32.99783191668848%5D%2C%20%22geometry%22%3A%20%7B%22coordinates%22%3A%20%5B149.9455856214238%2C%20-32.99783191668848%5D%2C%20%22type%22%3A%20%22Point%22%7D%2C%20%22id%22%3A%20%222019-12-24T10%3A13%3A55.000000000%22%2C%20%22properties%22%3A%20%7B%7D%2C%20%22type%22%3A%20%22Feature%22%7D%2C%20%7B%22bbox%22%3A%20%5B149.9491256214149%2C%20-33.05477491654472%2C%20149.9491256214149%2C%20-33.05477491654472%5D%2C%20%22geometry%22%3A%20%7B%22coordinates%22%3A%20%5B149.9491256214149%2C%20-33.05477491654472%5D%2C%20%22type%22%3A%20%22Point%22%7D%2C%20%22id%22%3A%20%222019-12-24T10%3A13%3A55.000000000%22%2C%20%22properties%22%3A%20%7B%7D%2C%20%22type%22%3A%20%22Feature%22%7D%2C%20%7B%22bbox%22%3A%20%5B149.9506026214111%2C%20-33.06411091652114%2C%20149.9506026214111%2C%20-33.06411091652114%5D%2C%20%22geometry%22%3A%20%7B%22coordinates%22%3A%20%5B149.9506026214111%2C%20-33.06411091652114%5D%2C%20%22type%22%3A%20%22Point%22%7D%2C%20%22id%22%3A%20%222019-12-24T10%3A13%3A56.000000000%22%2C%20%22properties%22%3A%20%7B%7D%2C%20%22type%22%3A%20%22Feature%22%7D%2C%20%7B%22bbox%22%3A%20%5B149.9474386214191%2C%20-33.00718591666487%2C%20149.9474386214191%2C%20-33.00718591666487%5D%2C%20%22geometry%22%3A%20%7B%22coordinates%22%3A%20%5B149.9474386214191%2C%20-33.00718591666487%5D%2C%20%22type%22%3A%20%22Point%22%7D%2C%20%22id%22%3A%20%222019-12-24T10%3A13%3A56.000000000%22%2C%20%22properties%22%3A%20%7B%7D%2C%20%22type%22%3A%20%22Feature%22%7D%2C%20%7B%22bbox%22%3A%20%5B149.9506026214111%2C%20-33.06411091652114%2C%20149.9506026214111%2C%20-33.06411091652114%5D%2C%20%22geometry%22%3A%20%7B%22coordinates%22%3A%20%5B149.9506026214111%2C%20-33.06411091652114%5D%2C%20%22type%22%3A%20%22Point%22%7D%2C%20%22id%22%3A%20%222019-12-24T10%3A13%3A56.000000000%22%2C%20%22properties%22%3A%20%7B%7D%2C%20%22type%22%3A%20%22Feature%22%7D%2C%20%7B%22bbox%22%3A%20%5B149.9461516214224%2C%20-33.04651291656558%2C%20149.9461516214224%2C%20-33.04651291656558%5D%2C%20%22geometry%22%3A%20%7B%22coordinates%22%3A%20%5B149.9461516214224%2C%20-33.04651291656558%5D%2C%20%22type%22%3A%20%22Point%22%7D%2C%20%22id%22%3A%20%222019-12-24T10%3A13%3A56.000000000%22%2C%20%22properties%22%3A%20%7B%7D%2C%20%22type%22%3A%20%22Feature%22%7D%2C%20%7B%22bbox%22%3A%20%5B149.948271621417%2C%20-32.96786191676415%2C%20149.948271621417%2C%20-32.96786191676415%5D%2C%20%22geometry%22%3A%20%7B%22coordinates%22%3A%20%5B149.948271621417%2C%20-32.96786191676415%5D%2C%20%22type%22%3A%20%22Point%22%7D%2C%20%22id%22%3A%20%222019-12-24T10%3A13%3A57.000000000%22%2C%20%22properties%22%3A%20%7B%7D%2C%20%22type%22%3A%20%22Feature%22%7D%2C%20%7B%22bbox%22%3A%20%5B149.952231621407%2C%20-33.02480291662039%2C%20149.952231621407%2C%20-33.02480291662039%5D%2C%20%22geometry%22%3A%20%7B%22coordinates%22%3A%20%5B149.952231621407%2C%20-33.02480291662039%5D%2C%20%22type%22%3A%20%22Point%22%7D%2C%20%22id%22%3A%20%222019-12-24T10%3A13%3A57.000000000%22%2C%20%22properties%22%3A%20%7B%7D%2C%20%22type%22%3A%20%22Feature%22%7D%2C%20%7B%22bbox%22%3A%20%5B149.9512856214094%2C%20-32.97609891674335%2C%20149.9512856214094%2C%20-32.97609891674335%5D%2C%20%22geometry%22%3A%20%7B%22coordinates%22%3A%20%5B149.9512856214094%2C%20-32.97609891674335%5D%2C%20%22type%22%3A%20%22Point%22%7D%2C%20%22id%22%3A%20%222019-12-24T10%3A13%3A57.000000000%22%2C%20%22properties%22%3A%20%7B%7D%2C%20%22type%22%3A%20%22Feature%22%7D%2C%20%7B%22bbox%22%3A%20%5B149.9507376214108%2C%20-33.01547091664395%2C%20149.9507376214108%2C%20-33.01547091664395%5D%2C%20%22geometry%22%3A%20%7B%22coordinates%22%3A%20%5B149.9507376214108%2C%20-33.01547091664395%5D%2C%20%22type%22%3A%20%22Point%22%7D%2C%20%22id%22%3A%20%222019-12-24T10%3A13%3A57.000000000%22%2C%20%22properties%22%3A%20%7B%7D%2C%20%22type%22%3A%20%22Feature%22%7D%2C%20%7B%22bbox%22%3A%20%5B149.9468276214207%2C%20-32.9585349167877%2C%20149.9468276214207%2C%20-32.9585349167877%5D%2C%20%22geometry%22%3A%20%7B%22coordinates%22%3A%20%5B149.9468276214207%2C%20-32.9585349167877%5D%2C%20%22type%22%3A%20%22Point%22%7D%2C%20%22id%22%3A%20%222019-12-24T10%3A13%3A57.000000000%22%2C%20%22properties%22%3A%20%7B%7D%2C%20%22type%22%3A%20%22Feature%22%7D%2C%20%7B%22bbox%22%3A%20%5B149.9610296213848%2C%20-33.05995991653162%2C%20149.9610296213848%2C%20-33.05995991653162%5D%2C%20%22geometry%22%3A%20%7B%22coordinates%22%3A%20%5B149.9610296213848%2C%20-33.05995991653162%5D%2C%20%22type%22%3A%20%22Point%22%7D%2C%20%22id%22%3A%20%222019-12-24T10%3A13%3A58.000000000%22%2C%20%22properties%22%3A%20%7B%7D%2C%20%22type%22%3A%20%22Feature%22%7D%2C%20%7B%22bbox%22%3A%20%5B149.9551166213997%2C%20-33.03303191659961%2C%20149.9551166213997%2C%20-33.03303191659961%5D%2C%20%22geometry%22%3A%20%7B%22coordinates%22%3A%20%5B149.9551166213997%2C%20-33.03303191659961%5D%2C%20%22type%22%3A%20%22Point%22%7D%2C%20%22id%22%3A%20%222019-12-24T10%3A13%3A58.000000000%22%2C%20%22properties%22%3A%20%7B%7D%2C%20%22type%22%3A%20%22Feature%22%7D%2C%20%7B%22bbox%22%3A%20%5B149.9571736213945%2C%20-33.00300791667541%2C%20149.9571736213945%2C%20-33.00300791667541%5D%2C%20%22geometry%22%3A%20%7B%22coordinates%22%3A%20%5B149.9571736213945%2C%20-33.00300791667541%5D%2C%20%22type%22%3A%20%22Point%22%7D%2C%20%22id%22%3A%20%222019-12-24T10%3A13%3A58.000000000%22%2C%20%22properties%22%3A%20%7B%7D%2C%20%22type%22%3A%20%22Feature%22%7D%2C%20%7B%22bbox%22%3A%20%5B149.9562536213969%2C%20-33.0423439165761%2C%20149.9562536213969%2C%20-33.0423439165761%5D%2C%20%22geometry%22%3A%20%7B%22coordinates%22%3A%20%5B149.9562536213969%2C%20-33.0423439165761%5D%2C%20%22type%22%3A%20%22Point%22%7D%2C%20%22id%22%3A%20%222019-12-24T10%3A13%3A58.000000000%22%2C%20%22properties%22%3A%20%7B%7D%2C%20%22type%22%3A%20%22Feature%22%7D%2C%20%7B%22bbox%22%3A%20%5B149.959364621389%2C%20-33.05061691655521%2C%20149.959364621389%2C%20-33.05061691655521%5D%2C%20%22geometry%22%3A%20%7B%22coordinates%22%3A%20%5B149.959364621389%2C%20-33.05061691655521%5D%2C%20%22type%22%3A%20%22Point%22%7D%2C%20%22id%22%3A%20%222019-12-24T10%3A13%3A58.000000000%22%2C%20%22properties%22%3A%20%7B%7D%2C%20%22type%22%3A%20%22Feature%22%7D%2C%20%7B%22bbox%22%3A%20%5B149.9604436213863%2C%20-33.0112929166545%2C%20149.9604436213863%2C%20-33.0112929166545%5D%2C%20%22geometry%22%3A%20%7B%22coordinates%22%3A%20%5B149.9604436213863%2C%20-33.0112929166545%5D%2C%20%22type%22%3A%20%22Point%22%7D%2C%20%22id%22%3A%20%222019-12-24T10%3A13%3A59.000000000%22%2C%20%22properties%22%3A%20%7B%7D%2C%20%22type%22%3A%20%22Feature%22%7D%2C%20%7B%22bbox%22%3A%20%5B149.9616876213831%2C%20-32.97198991675373%2C%20149.9616876213831%2C%20-32.97198991675373%5D%2C%20%22geometry%22%3A%20%7B%22coordinates%22%3A%20%5B149.9616876213831%2C%20-32.97198991675373%5D%2C%20%22type%22%3A%20%22Point%22%7D%2C%20%22id%22%3A%20%222019-12-24T10%3A13%3A59.000000000%22%2C%20%22properties%22%3A%20%7B%7D%2C%20%22type%22%3A%20%22Feature%22%7D%2C%20%7B%22bbox%22%3A%20%5B149.9572866213942%2C%20-32.9544139167981%2C%20149.9572866213942%2C%20-32.9544139167981%5D%2C%20%22geometry%22%3A%20%7B%22coordinates%22%3A%20%5B149.9572866213942%2C%20-32.9544139167981%5D%2C%20%22type%22%3A%20%22Point%22%7D%2C%20%22id%22%3A%20%222019-12-24T10%3A13%3A59.000000000%22%2C%20%22properties%22%3A%20%7B%7D%2C%20%22type%22%3A%20%22Feature%22%7D%2C%20%7B%22bbox%22%3A%20%5B149.9622236213818%2C%20-33.0206399166309%2C%20149.9622236213818%2C%20-33.0206399166309%5D%2C%20%22geometry%22%3A%20%7B%22coordinates%22%3A%20%5B149.9622236213818%2C%20-33.0206399166309%5D%2C%20%22type%22%3A%20%22Point%22%7D%2C%20%22id%22%3A%20%222019-12-24T10%3A13%3A59.000000000%22%2C%20%22properties%22%3A%20%7B%7D%2C%20%22type%22%3A%20%22Feature%22%7D%2C%20%7B%22bbox%22%3A%20%5B150.0962846210433%2C%20-35.05629691149136%2C%20150.0962846210433%2C%20-35.05629691149136%5D%2C%20%22geometry%22%3A%20%7B%22coordinates%22%3A%20%5B150.0962846210433%2C%20-35.05629691149136%5D%2C%20%22type%22%3A%20%22Point%22%7D%2C%20%22id%22%3A%20%222019-12-24T10%3A13%3A59.000000000%22%2C%20%22properties%22%3A%20%7B%7D%2C%20%22type%22%3A%20%22Feature%22%7D%2C%20%7B%22bbox%22%3A%20%5B149.9697876213627%2C%20-33.04648091656566%2C%20149.9697876213627%2C%20-33.04648091656566%5D%2C%20%22geometry%22%3A%20%7B%22coordinates%22%3A%20%5B149.9697876213627%2C%20-33.04648091656566%5D%2C%20%22type%22%3A%20%22Point%22%7D%2C%20%22id%22%3A%20%222019-12-24T10%3A14%3A00.000000000%22%2C%20%22properties%22%3A%20%7B%7D%2C%20%22type%22%3A%20%22Feature%22%7D%2C%20%7B%22bbox%22%3A%20%5B149.9586806213907%2C%20-32.96373291677457%2C%20149.9586806213907%2C%20-32.96373291677457%5D%2C%20%22geometry%22%3A%20%7B%22coordinates%22%3A%20%5B149.9586806213907%2C%20-32.96373291677457%5D%2C%20%22type%22%3A%20%22Point%22%7D%2C%20%22id%22%3A%20%222019-12-24T10%3A14%3A00.000000000%22%2C%20%22properties%22%3A%20%7B%7D%2C%20%22type%22%3A%20%22Feature%22%7D%2C%20%7B%22bbox%22%3A%20%5B149.9658326213727%2C%20-33.02891491661001%2C%20149.9658326213727%2C%20-33.02891491661001%5D%2C%20%22geometry%22%3A%20%7B%22coordinates%22%3A%20%5B149.9658326213727%2C%20-33.02891491661001%5D%2C%20%22type%22%3A%20%22Point%22%7D%2C%20%22id%22%3A%20%222019-12-24T10%3A14%3A00.000000000%22%2C%20%22properties%22%3A%20%7B%7D%2C%20%22type%22%3A%20%22Feature%22%7D%2C%20%7B%22bbox%22%3A%20%5B149.9674886213685%2C%20-32.99887191668586%2C%20149.9674886213685%2C%20-32.99887191668586%5D%2C%20%22geometry%22%3A%20%7B%22coordinates%22%3A%20%5B149.9674886213685%2C%20-32.99887191668586%5D%2C%20%22type%22%3A%20%22Point%22%7D%2C%20%22id%22%3A%20%222019-12-24T10%3A14%3A01.000000000%22%2C%20%22properties%22%3A%20%7B%7D%2C%20%22type%22%3A%20%22Feature%22%7D%2C%20%7B%22bbox%22%3A%20%5B150.107108621016%2C%20-35.0517659115028%2C%20150.107108621016%2C%20-35.0517659115028%5D%2C%20%22geometry%22%3A%20%7B%22coordinates%22%3A%20%5B150.107108621016%2C%20-35.0517659115028%5D%2C%20%22type%22%3A%20%22Point%22%7D%2C%20%22id%22%3A%20%222019-12-24T10%3A14%3A01.000000000%22%2C%20%22properties%22%3A%20%7B%7D%2C%20%22type%22%3A%20%22Feature%22%7D%2C%20%7B%22bbox%22%3A%20%5B149.9711136213593%2C%20-33.05580091654213%2C%20149.9711136213593%2C%20-33.05580091654213%5D%2C%20%22geometry%22%3A%20%7B%22coordinates%22%3A%20%5B149.9711136213593%2C%20-33.05580091654213%5D%2C%20%22type%22%3A%20%22Point%22%7D%2C%20%22id%22%3A%20%222019-12-24T10%3A14%3A01.000000000%22%2C%20%22properties%22%3A%20%7B%7D%2C%20%22type%22%3A%20%22Feature%22%7D%2C%20%7B%22bbox%22%3A%20%5B149.9706166213606%2C%20-33.00715191666495%2C%20149.9706166213606%2C%20-33.00715191666495%5D%2C%20%22geometry%22%3A%20%7B%22coordinates%22%3A%20%5B149.9706166213606%2C%20-33.00715191666495%5D%2C%20%22type%22%3A%20%22Point%22%7D%2C%20%22id%22%3A%20%222019-12-24T10%3A14%3A01.000000000%22%2C%20%22properties%22%3A%20%7B%7D%2C%20%22type%22%3A%20%22Feature%22%7D%2C%20%7B%22bbox%22%3A%20%5B149.9669416213699%2C%20-33.03821991658651%2C%20149.9669416213699%2C%20-33.03821991658651%5D%2C%20%22geometry%22%3A%20%7B%22coordinates%22%3A%20%5B149.9669416213699%2C%20-33.03821991658651%5D%2C%20%22type%22%3A%20%22Point%22%7D%2C%20%22id%22%3A%20%222019-12-24T10%3A14%3A01.000000000%22%2C%20%22properties%22%3A%20%7B%7D%2C%20%22type%22%3A%20%22Feature%22%7D%2C%20%7B%22bbox%22%3A%20%5B149.9722446213565%2C%20-33.01648791664138%2C%20149.9722446213565%2C%20-33.01648791664138%5D%2C%20%22geometry%22%3A%20%7B%22coordinates%22%3A%20%5B149.9722446213565%2C%20-33.01648791664138%5D%2C%20%22type%22%3A%20%22Point%22%7D%2C%20%22id%22%3A%20%222019-12-24T10%3A14%3A02.000000000%22%2C%20%22properties%22%3A%20%7B%7D%2C%20%22type%22%3A%20%22Feature%22%7D%2C%20%7B%22bbox%22%3A%20%5B149.977982621342%2C%20-32.99475991669624%2C%20149.977982621342%2C%20-32.99475991669624%5D%2C%20%22geometry%22%3A%20%7B%22coordinates%22%3A%20%5B149.977982621342%2C%20-32.99475991669624%5D%2C%20%22type%22%3A%20%22Point%22%7D%2C%20%22id%22%3A%20%222019-12-24T10%3A14%3A03.000000000%22%2C%20%22properties%22%3A%20%7B%7D%2C%20%22type%22%3A%20%22Feature%22%7D%2C%20%7B%22bbox%22%3A%20%5B149.9757356213477%2C%20-33.02477491662046%2C%20149.9757356213477%2C%20-33.02477491662046%5D%2C%20%22geometry%22%3A%20%7B%22coordinates%22%3A%20%5B149.9757356213477%2C%20-33.02477491662046%5D%2C%20%22type%22%3A%20%22Point%22%7D%2C%20%22id%22%3A%20%222019-12-24T10%3A14%3A03.000000000%22%2C%20%22properties%22%3A%20%7B%7D%2C%20%22type%22%3A%20%22Feature%22%7D%2C%20%7B%22bbox%22%3A%20%5B150.0289216212134%2C%20-33.75947491476552%2C%20150.0289216212134%2C%20-33.75947491476552%5D%2C%20%22geometry%22%3A%20%7B%22coordinates%22%3A%20%5B150.0289216212134%2C%20-33.75947491476552%5D%2C%20%22type%22%3A%20%22Point%22%7D%2C%20%22id%22%3A%20%222019-12-24T10%3A14%3A03.000000000%22%2C%20%22properties%22%3A%20%7B%7D%2C%20%22type%22%3A%20%22Feature%22%7D%2C%20%7B%22bbox%22%3A%20%5B149.9803816213359%2C%20-33.04236691657604%2C%20149.9803816213359%2C%20-33.04236691657604%5D%2C%20%22geometry%22%3A%20%7B%22coordinates%22%3A%20%5B149.9803816213359%2C%20-33.04236691657604%5D%2C%20%22type%22%3A%20%22Point%22%7D%2C%20%22id%22%3A%20%222019-12-24T10%3A14%3A03.000000000%22%2C%20%22properties%22%3A%20%7B%7D%2C%20%22type%22%3A%20%22Feature%22%7D%2C%20%7B%22bbox%22%3A%20%5B149.9774176213434%2C%20-33.03411191659688%2C%20149.9774176213434%2C%20-33.03411191659688%5D%2C%20%22geometry%22%3A%20%7B%22coordinates%22%3A%20%5B149.9774176213434%2C%20-33.03411191659688%5D%2C%20%22type%22%3A%20%22Point%22%7D%2C%20%22id%22%3A%20%222019-12-24T10%3A14%3A03.000000000%22%2C%20%22properties%22%3A%20%7B%7D%2C%20%22type%22%3A%20%22Feature%22%7D%2C%20%7B%22bbox%22%3A%20%5B149.9823826213309%2C%20-33.01235391665182%2C%20149.9823826213309%2C%20-33.01235391665182%5D%2C%20%22geometry%22%3A%20%7B%22coordinates%22%3A%20%5B149.9823826213309%2C%20-33.01235391665182%5D%2C%20%22type%22%3A%20%22Point%22%7D%2C%20%22id%22%3A%20%222019-12-24T10%3A14%3A04.000000000%22%2C%20%22properties%22%3A%20%7B%7D%2C%20%22type%22%3A%20%22Feature%22%7D%2C%20%7B%22bbox%22%3A%20%5B149.9810106213343%2C%20-33.00303691667534%2C%20149.9810106213343%2C%20-33.00303691667534%5D%2C%20%22geometry%22%3A%20%7B%22coordinates%22%3A%20%5B149.9810106213343%2C%20-33.00303691667534%5D%2C%20%22type%22%3A%20%22Point%22%7D%2C%20%22id%22%3A%20%222019-12-24T10%3A14%3A04.000000000%22%2C%20%22properties%22%3A%20%7B%7D%2C%20%22type%22%3A%20%22Feature%22%7D%2C%20%7B%22bbox%22%3A%20%5B149.9904976213104%2C%20-33.03825191658643%2C%20149.9904976213104%2C%20-33.03825191658643%5D%2C%20%22geometry%22%3A%20%7B%22coordinates%22%3A%20%5B149.9904976213104%2C%20-33.03825191658643%5D%2C%20%22type%22%3A%20%22Point%22%7D%2C%20%22id%22%3A%20%222019-12-24T10%3A14%3A05.000000000%22%2C%20%22properties%22%3A%20%7B%7D%2C%20%22type%22%3A%20%22Feature%22%7D%2C%20%7B%22bbox%22%3A%20%5B149.991435621308%2C%20-32.9989359166857%2C%20149.991435621308%2C%20-32.9989359166857%5D%2C%20%22geometry%22%3A%20%7B%22coordinates%22%3A%20%5B149.991435621308%2C%20-32.9989359166857%5D%2C%20%22type%22%3A%20%22Point%22%7D%2C%20%22id%22%3A%20%222019-12-24T10%3A14%3A06.000000000%22%2C%20%22properties%22%3A%20%7B%7D%2C%20%22type%22%3A%20%22Feature%22%7D%2C%20%7B%22bbox%22%3A%20%5B149.9884966213154%2C%20-32.99066191670659%2C%20149.9884966213154%2C%20-32.99066191670659%5D%2C%20%22geometry%22%3A%20%7B%22coordinates%22%3A%20%5B149.9884966213154%2C%20-32.99066191670659%5D%2C%20%22type%22%3A%20%22Point%22%7D%2C%20%22id%22%3A%20%222019-12-24T10%3A14%3A06.000000000%22%2C%20%22properties%22%3A%20%7B%7D%2C%20%22type%22%3A%20%22Feature%22%7D%2C%20%7B%22bbox%22%3A%20%5B149.9928106213046%2C%20-33.00824891666218%2C%20149.9928106213046%2C%20-33.00824891666218%5D%2C%20%22geometry%22%3A%20%7B%22coordinates%22%3A%20%5B149.9928106213046%2C%20-33.00824891666218%5D%2C%20%22type%22%3A%20%22Point%22%7D%2C%20%22id%22%3A%20%222019-12-24T10%3A14%3A07.000000000%22%2C%20%22properties%22%3A%20%7B%7D%2C%20%22type%22%3A%20%22Feature%22%7D%2C%20%7B%22bbox%22%3A%20%5B150.0360266211954%2C%20-33.21268391614603%2C%20150.0360266211954%2C%20-33.21268391614603%5D%2C%20%22geometry%22%3A%20%7B%22coordinates%22%3A%20%5B150.0360266211954%2C%20-33.21268391614603%5D%2C%20%22type%22%3A%20%22Point%22%7D%2C%20%22id%22%3A%20%222019-12-24T10%3A14%3A13.000000000%22%2C%20%22properties%22%3A%20%7B%7D%2C%20%22type%22%3A%20%22Feature%22%7D%2C%20%7B%22bbox%22%3A%20%5B150.0320896212054%2C%20-33.19655091618677%2C%20150.0320896212054%2C%20-33.19655091618677%5D%2C%20%22geometry%22%3A%20%7B%22coordinates%22%3A%20%5B150.0320896212054%2C%20-33.19655091618677%5D%2C%20%22type%22%3A%20%22Point%22%7D%2C%20%22id%22%3A%20%222019-12-24T10%3A14%3A13.000000000%22%2C%20%22properties%22%3A%20%7B%7D%2C%20%22type%22%3A%20%22Feature%22%7D%2C%20%7B%22bbox%22%3A%20%5B150.0472356211671%2C%20-33.21004591615269%2C%20150.0472356211671%2C%20-33.21004591615269%5D%2C%20%22geometry%22%3A%20%7B%22coordinates%22%3A%20%5B150.0472356211671%2C%20-33.21004591615269%5D%2C%20%22type%22%3A%20%22Point%22%7D%2C%20%22id%22%3A%20%222019-12-24T10%3A14%3A16.000000000%22%2C%20%22properties%22%3A%20%7B%7D%2C%20%22type%22%3A%20%22Feature%22%7D%2C%20%7B%22bbox%22%3A%20%5B150.0562846211443%2C%20-33.20447991616675%2C%20150.0562846211443%2C%20-33.20447991616675%5D%2C%20%22geometry%22%3A%20%7B%22coordinates%22%3A%20%5B150.0562846211443%2C%20-33.20447991616675%5D%2C%20%22type%22%3A%20%22Point%22%7D%2C%20%22id%22%3A%20%222019-12-24T10%3A14%3A18.000000000%22%2C%20%22properties%22%3A%20%7B%7D%2C%20%22type%22%3A%20%22Feature%22%7D%2C%20%7B%22bbox%22%3A%20%5B150.0578606211403%2C%20-33.21395091614284%2C%20150.0578606211403%2C%20-33.21395091614284%5D%2C%20%22geometry%22%3A%20%7B%22coordinates%22%3A%20%5B150.0578606211403%2C%20-33.21395091614284%5D%2C%20%22type%22%3A%20%22Point%22%7D%2C%20%22id%22%3A%20%222019-12-24T10%3A14%3A18.000000000%22%2C%20%22properties%22%3A%20%7B%7D%2C%20%22type%22%3A%20%22Feature%22%7D%2C%20%7B%22bbox%22%3A%20%5B150.1847666208199%2C%20-34.99039091165776%2C%20150.1847666208199%2C%20-34.99039091165776%5D%2C%20%22geometry%22%3A%20%7B%22coordinates%22%3A%20%5B150.1847666208199%2C%20-34.99039091165776%5D%2C%20%22type%22%3A%20%22Point%22%7D%2C%20%22id%22%3A%20%222019-12-24T10%3A14%3A21.000000000%22%2C%20%22properties%22%3A%20%7B%7D%2C%20%22type%22%3A%20%22Feature%22%7D%2C%20%7B%22bbox%22%3A%20%5B150.0683906211137%2C%20-33.20989791615307%2C%20150.0683906211137%2C%20-33.20989791615307%5D%2C%20%22geometry%22%3A%20%7B%22coordinates%22%3A%20%5B150.0683906211137%2C%20-33.20989791615307%5D%2C%20%22type%22%3A%20%22Point%22%7D%2C%20%22id%22%3A%20%222019-12-24T10%3A14%3A21.000000000%22%2C%20%22properties%22%3A%20%7B%7D%2C%20%22type%22%3A%20%22Feature%22%7D%2C%20%7B%22bbox%22%3A%20%5B150.0667456211179%2C%20-33.20042691617698%2C%20150.0667456211179%2C%20-33.20042691617698%5D%2C%20%22geometry%22%3A%20%7B%22coordinates%22%3A%20%5B150.0667456211179%2C%20-33.20042691617698%5D%2C%20%22type%22%3A%20%22Point%22%7D%2C%20%22id%22%3A%20%222019-12-24T10%3A14%3A21.000000000%22%2C%20%22properties%22%3A%20%7B%7D%2C%20%22type%22%3A%20%22Feature%22%7D%2C%20%7B%22bbox%22%3A%20%5B150.1138916209989%2C%20-33.82209391460742%2C%20150.1138916209989%2C%20-33.82209391460742%5D%2C%20%22geometry%22%3A%20%7B%22coordinates%22%3A%20%5B150.1138916209989%2C%20-33.82209391460742%5D%2C%20%22type%22%3A%20%22Point%22%7D%2C%20%22id%22%3A%20%222019-12-24T10%3A14%3A22.000000000%22%2C%20%22properties%22%3A%20%7B%7D%2C%20%22type%22%3A%20%22Feature%22%7D%2C%20%7B%22bbox%22%3A%20%5B150.1881566208114%2C%20-34.99837691163759%2C%20150.1881566208114%2C%20-34.99837691163759%5D%2C%20%22geometry%22%3A%20%7B%22coordinates%22%3A%20%5B150.1881566208114%2C%20-34.99837691163759%5D%2C%20%22type%22%3A%20%22Point%22%7D%2C%20%22id%22%3A%20%222019-12-24T10%3A14%3A22.000000000%22%2C%20%22properties%22%3A%20%7B%7D%2C%20%22type%22%3A%20%22Feature%22%7D%2C%20%7B%22bbox%22%3A%20%5B150.0771656210916%2C%20-33.19636491618724%2C%20150.0771656210916%2C%20-33.19636491618724%5D%2C%20%22geometry%22%3A%20%7B%22coordinates%22%3A%20%5B150.0771656210916%2C%20-33.19636491618724%5D%2C%20%22type%22%3A%20%22Point%22%7D%2C%20%22id%22%3A%20%222019-12-24T10%3A14%3A23.000000000%22%2C%20%22properties%22%3A%20%7B%7D%2C%20%22type%22%3A%20%22Feature%22%7D%2C%20%7B%22bbox%22%3A%20%5B150.1953146207933%2C%20-34.98594591166898%2C%20150.1953146207933%2C%20-34.98594591166898%5D%2C%20%22geometry%22%3A%20%7B%22coordinates%22%3A%20%5B150.1953146207933%2C%20-34.98594591166898%5D%2C%20%22type%22%3A%20%22Point%22%7D%2C%20%22id%22%3A%20%222019-12-24T10%3A14%3A23.000000000%22%2C%20%22properties%22%3A%20%7B%7D%2C%20%22type%22%3A%20%22Feature%22%7D%2C%20%7B%22bbox%22%3A%20%5B150.1234096209748%2C%20-33.81787691461807%2C%20150.1234096209748%2C%20-33.81787691461807%5D%2C%20%22geometry%22%3A%20%7B%22coordinates%22%3A%20%5B150.1234096209748%2C%20-33.81787691461807%5D%2C%20%22type%22%3A%20%22Point%22%7D%2C%20%22id%22%3A%20%222019-12-24T10%3A14%3A24.000000000%22%2C%20%22properties%22%3A%20%7B%7D%2C%20%22type%22%3A%20%22Feature%22%7D%2C%20%7B%22bbox%22%3A%20%5B150.198978620784%2C%20-34.99395491164876%2C%20150.198978620784%2C%20-34.99395491164876%5D%2C%20%22geometry%22%3A%20%7B%22coordinates%22%3A%20%5B150.198978620784%2C%20-34.99395491164876%5D%2C%20%22type%22%3A%20%22Point%22%7D%2C%20%22id%22%3A%20%222019-12-24T10%3A14%3A24.000000000%22%2C%20%22properties%22%3A%20%7B%7D%2C%20%22type%22%3A%20%22Feature%22%7D%2C%20%7B%22bbox%22%3A%20%5B150.2061906207658%2C%20-34.98153191168012%2C%20150.2061906207658%2C%20-34.98153191168012%5D%2C%20%22geometry%22%3A%20%7B%22coordinates%22%3A%20%5B150.2061906207658%2C%20-34.98153191168012%5D%2C%20%22type%22%3A%20%22Point%22%7D%2C%20%22id%22%3A%20%222019-12-24T10%3A14%3A26.000000000%22%2C%20%22properties%22%3A%20%7B%7D%2C%20%22type%22%3A%20%22Feature%22%7D%2C%20%7B%22bbox%22%3A%20%5B150.0981226210387%2C%20-33.18830291620759%2C%20150.0981226210387%2C%20-33.18830291620759%5D%2C%20%22geometry%22%3A%20%7B%22coordinates%22%3A%20%5B150.0981226210387%2C%20-33.18830291620759%5D%2C%20%22type%22%3A%20%22Point%22%7D%2C%20%22id%22%3A%20%222019-12-24T10%3A14%3A28.000000000%22%2C%20%22properties%22%3A%20%7B%7D%2C%20%22type%22%3A%20%22Feature%22%7D%2C%20%7B%22bbox%22%3A%20%5B150.0993006210357%2C%20-33.19772791618379%2C%20150.0993006210357%2C%20-33.19772791618379%5D%2C%20%22geometry%22%3A%20%7B%22coordinates%22%3A%20%5B150.0993006210357%2C%20-33.19772791618379%5D%2C%20%22type%22%3A%20%22Point%22%7D%2C%20%22id%22%3A%20%222019-12-24T10%3A14%3A28.000000000%22%2C%20%22properties%22%3A%20%7B%7D%2C%20%22type%22%3A%20%22Feature%22%7D%2C%20%7B%22bbox%22%3A%20%5B150.0780776210893%2C%20-32.76260191728238%2C%20150.0780776210893%2C%20-32.76260191728238%5D%2C%20%22geometry%22%3A%20%7B%22coordinates%22%3A%20%5B150.0780776210893%2C%20-32.76260191728238%5D%2C%20%22type%22%3A%20%22Point%22%7D%2C%20%22id%22%3A%20%222019-12-24T10%3A14%3A30.000000000%22%2C%20%22properties%22%3A%20%7B%7D%2C%20%22type%22%3A%20%22Feature%22%7D%2C%20%7B%22bbox%22%3A%20%5B150.0764516210934%2C%20-32.75332391730581%2C%20150.0764516210934%2C%20-32.75332391730581%5D%2C%20%22geometry%22%3A%20%7B%22coordinates%22%3A%20%5B150.0764516210934%2C%20-32.75332391730581%5D%2C%20%22type%22%3A%20%22Point%22%7D%2C%20%22id%22%3A%20%222019-12-24T10%3A14%3A30.000000000%22%2C%20%22properties%22%3A%20%7B%7D%2C%20%22type%22%3A%20%22Feature%22%7D%2C%20%7B%22bbox%22%3A%20%5B150.1096146210097%2C%20-33.19368891619399%2C%20150.1096146210097%2C%20-33.19368891619399%5D%2C%20%22geometry%22%3A%20%7B%22coordinates%22%3A%20%5B150.1096146210097%2C%20-33.19368891619399%5D%2C%20%22type%22%3A%20%22Point%22%7D%2C%20%22id%22%3A%20%222019-12-24T10%3A14%3A31.000000000%22%2C%20%22properties%22%3A%20%7B%7D%2C%20%22type%22%3A%20%22Feature%22%7D%2C%20%7B%22bbox%22%3A%20%5B150.0827596210775%2C%20-32.78019491723796%2C%20150.0827596210775%2C%20-32.78019491723796%5D%2C%20%22geometry%22%3A%20%7B%22coordinates%22%3A%20%5B150.0827596210775%2C%20-32.78019491723796%5D%2C%20%22type%22%3A%20%22Point%22%7D%2C%20%22id%22%3A%20%222019-12-24T10%3A14%3A31.000000000%22%2C%20%22properties%22%3A%20%7B%7D%2C%20%22type%22%3A%20%22Feature%22%7D%2C%20%7B%22bbox%22%3A%20%5B150.0811566210815%2C%20-32.77091891726138%2C%20150.0811566210815%2C%20-32.77091891726138%5D%2C%20%22geometry%22%3A%20%7B%22coordinates%22%3A%20%5B150.0811566210815%2C%20-32.77091891726138%5D%2C%20%22type%22%3A%20%22Point%22%7D%2C%20%22id%22%3A%20%222019-12-24T10%3A14%3A31.000000000%22%2C%20%22properties%22%3A%20%7B%7D%2C%20%22type%22%3A%20%22Feature%22%7D%2C%20%7B%22bbox%22%3A%20%5B150.0870476210666%2C%20-32.7494059173157%2C%20150.0870476210666%2C%20-32.7494059173157%5D%2C%20%22geometry%22%3A%20%7B%22coordinates%22%3A%20%5B150.0870476210666%2C%20-32.7494059173157%5D%2C%20%22type%22%3A%20%22Point%22%7D%2C%20%22id%22%3A%20%222019-12-24T10%3A14%3A32.000000000%22%2C%20%22properties%22%3A%20%7B%7D%2C%20%22type%22%3A%20%22Feature%22%7D%2C%20%7B%22bbox%22%3A%20%5B150.1527126209008%2C%20-33.79733591466993%2C%20150.1527126209008%2C%20-33.79733591466993%5D%2C%20%22geometry%22%3A%20%7B%22coordinates%22%3A%20%5B150.1527126209008%2C%20-33.79733591466993%5D%2C%20%22type%22%3A%20%22Point%22%7D%2C%20%22id%22%3A%20%222019-12-24T10%3A14%3A32.000000000%22%2C%20%22properties%22%3A%20%7B%7D%2C%20%22type%22%3A%20%22Feature%22%7D%2C%20%7B%22bbox%22%3A%20%5B150.0884546210631%2C%20-32.75865891729234%2C%20150.0884546210631%2C%20-32.75865891729234%5D%2C%20%22geometry%22%3A%20%7B%22coordinates%22%3A%20%5B150.0884546210631%2C%20-32.75865891729234%5D%2C%20%22type%22%3A%20%22Point%22%7D%2C%20%22id%22%3A%20%222019-12-24T10%3A14%3A33.000000000%22%2C%20%22properties%22%3A%20%7B%7D%2C%20%22type%22%3A%20%22Feature%22%7D%2C%20%7B%22bbox%22%3A%20%5B150.0916336210551%2C%20-32.76698891727131%2C%20150.0916336210551%2C%20-32.76698891727131%5D%2C%20%22geometry%22%3A%20%7B%22coordinates%22%3A%20%5B150.0916336210551%2C%20-32.76698891727131%5D%2C%20%22type%22%3A%20%22Point%22%7D%2C%20%22id%22%3A%20%222019-12-24T10%3A14%3A33.000000000%22%2C%20%22properties%22%3A%20%7B%7D%2C%20%22type%22%3A%20%22Feature%22%7D%2C%20%7B%22bbox%22%3A%20%5B150.0931906210511%2C%20-32.77625591724791%2C%20150.0931906210511%2C%20-32.77625591724791%5D%2C%20%22geometry%22%3A%20%7B%22coordinates%22%3A%20%5B150.0931906210511%2C%20-32.77625591724791%5D%2C%20%22type%22%3A%20%22Point%22%7D%2C%20%22id%22%3A%20%222019-12-24T10%3A14%3A34.000000000%22%2C%20%22properties%22%3A%20%7B%7D%2C%20%22type%22%3A%20%22Feature%22%7D%2C%20%7B%22bbox%22%3A%20%5B150.0973066210407%2C%20-32.74546491732565%2C%20150.0973066210407%2C%20-32.74546491732565%5D%2C%20%22geometry%22%3A%20%7B%22coordinates%22%3A%20%5B150.0973066210407%2C%20-32.74546491732565%5D%2C%20%22type%22%3A%20%22Point%22%7D%2C%20%22id%22%3A%20%222019-12-24T10%3A14%3A35.000000000%22%2C%20%22properties%22%3A%20%7B%7D%2C%20%22type%22%3A%20%22Feature%22%7D%2C%20%7B%22bbox%22%3A%20%5B150.0988756210368%2C%20-32.75472991730226%2C%20150.0988756210368%2C%20-32.75472991730226%5D%2C%20%22geometry%22%3A%20%7B%22coordinates%22%3A%20%5B150.0988756210368%2C%20-32.75472991730226%5D%2C%20%22type%22%3A%20%22Point%22%7D%2C%20%22id%22%3A%20%222019-12-24T10%3A14%3A35.000000000%22%2C%20%22properties%22%3A%20%7B%7D%2C%20%22type%22%3A%20%22Feature%22%7D%2C%20%7B%22bbox%22%3A%20%5B150.2424216206743%2C%20-34.93685191179293%2C%20150.2424216206743%2C%20-34.93685191179293%5D%2C%20%22geometry%22%3A%20%7B%22coordinates%22%3A%20%5B150.2424216206743%2C%20-34.93685191179293%5D%2C%20%22type%22%3A%20%22Point%22%7D%2C%20%22id%22%3A%20%222019-12-24T10%3A14%3A35.000000000%22%2C%20%22properties%22%3A%20%7B%7D%2C%20%22type%22%3A%20%22Feature%22%7D%2C%20%7B%22bbox%22%3A%20%5B150.1020516210287%2C%20-32.76306391728122%2C%20150.1020516210287%2C%20-32.76306391728122%5D%2C%20%22geometry%22%3A%20%7B%22coordinates%22%3A%20%5B150.1020516210287%2C%20-32.76306391728122%5D%2C%20%22type%22%3A%20%22Point%22%7D%2C%20%22id%22%3A%20%222019-12-24T10%3A14%3A36.000000000%22%2C%20%22properties%22%3A%20%7B%7D%2C%20%22type%22%3A%20%22Feature%22%7D%2C%20%7B%22bbox%22%3A%20%5B150.1035666210249%2C%20-32.77232291725784%2C%20150.1035666210249%2C%20-32.77232291725784%5D%2C%20%22geometry%22%3A%20%7B%22coordinates%22%3A%20%5B150.1035666210249%2C%20-32.77232291725784%5D%2C%20%22type%22%3A%20%22Point%22%7D%2C%20%22id%22%3A%20%222019-12-24T10%3A14%3A36.000000000%22%2C%20%22properties%22%3A%20%7B%7D%2C%20%22type%22%3A%20%22Feature%22%7D%2C%20%7B%22bbox%22%3A%20%5B150.1076956210145%2C%20-32.74156691733549%2C%20150.1076956210145%2C%20-32.74156691733549%5D%2C%20%22geometry%22%3A%20%7B%22coordinates%22%3A%20%5B150.1076956210145%2C%20-32.74156691733549%5D%2C%20%22type%22%3A%20%22Point%22%7D%2C%20%22id%22%3A%20%222019-12-24T10%3A14%3A37.000000000%22%2C%20%22properties%22%3A%20%7B%7D%2C%20%22type%22%3A%20%22Feature%22%7D%2C%20%7B%22bbox%22%3A%20%5B150.1093076210104%2C%20-32.7508319173121%2C%20150.1093076210104%2C%20-32.7508319173121%5D%2C%20%22geometry%22%3A%20%7B%22coordinates%22%3A%20%5B150.1093076210104%2C%20-32.7508319173121%5D%2C%20%22type%22%3A%20%22Point%22%7D%2C%20%22id%22%3A%20%222019-12-24T10%3A14%3A38.000000000%22%2C%20%22properties%22%3A%20%7B%7D%2C%20%22type%22%3A%20%22Feature%22%7D%2C%20%7B%22bbox%22%3A%20%5B150.1125236210023%2C%20-32.75915691729108%2C%20150.1125236210023%2C%20-32.75915691729108%5D%2C%20%22geometry%22%3A%20%7B%22coordinates%22%3A%20%5B150.1125236210023%2C%20-32.75915691729108%5D%2C%20%22type%22%3A%20%22Point%22%7D%2C%20%22id%22%3A%20%222019-12-24T10%3A14%3A39.000000000%22%2C%20%22properties%22%3A%20%7B%7D%2C%20%22type%22%3A%20%22Feature%22%7D%2C%20%7B%22bbox%22%3A%20%5B150.1140446209985%2C%20-32.72013791738959%2C%20150.1140446209985%2C%20-32.72013791738959%5D%2C%20%22geometry%22%3A%20%7B%22coordinates%22%3A%20%5B150.1140446209985%2C%20-32.72013791738959%5D%2C%20%22type%22%3A%20%22Point%22%7D%2C%20%22id%22%3A%20%222019-12-24T10%3A14%3A39.000000000%22%2C%20%22properties%22%3A%20%7B%7D%2C%20%22type%22%3A%20%22Feature%22%7D%2C%20%7B%22bbox%22%3A%20%5B150.119795620984%2C%20-32.74693291732194%2C%20150.119795620984%2C%20-32.74693291732194%5D%2C%20%22geometry%22%3A%20%7B%22coordinates%22%3A%20%5B150.119795620984%2C%20-32.74693291732194%5D%2C%20%22type%22%3A%20%22Point%22%7D%2C%20%22id%22%3A%20%222019-12-24T10%3A14%3A40.000000000%22%2C%20%22properties%22%3A%20%7B%7D%2C%20%22type%22%3A%20%22Feature%22%7D%2C%20%7B%22bbox%22%3A%20%5B150.1241036209731%2C%20-32.71621091739951%2C%20150.1241036209731%2C%20-32.71621091739951%5D%2C%20%22geometry%22%3A%20%7B%22coordinates%22%3A%20%5B150.1241036209731%2C%20-32.71621091739951%5D%2C%20%22type%22%3A%20%22Point%22%7D%2C%20%22id%22%3A%20%222019-12-24T10%3A14%3A41.000000000%22%2C%20%22properties%22%3A%20%7B%7D%2C%20%22type%22%3A%20%22Feature%22%7D%2C%20%7B%22bbox%22%3A%20%5B150.132464620952%2C%20-32.79848391719179%2C%20150.132464620952%2C%20-32.79848391719179%5D%2C%20%22geometry%22%3A%20%7B%22coordinates%22%3A%20%5B150.132464620952%2C%20-32.79848391719179%5D%2C%20%22type%22%3A%20%22Point%22%7D%2C%20%22id%22%3A%20%222019-12-24T10%3A14%3A42.000000000%22%2C%20%22properties%22%3A%20%7B%7D%2C%20%22type%22%3A%20%22Feature%22%7D%2C%20%7B%22bbox%22%3A%20%5B150.1255646209694%2C%20-32.72545091737618%2C%20150.1255646209694%2C%20-32.72545091737618%5D%2C%20%22geometry%22%3A%20%7B%22coordinates%22%3A%20%5B150.1255646209694%2C%20-32.72545091737618%5D%2C%20%22type%22%3A%20%22Point%22%7D%2C%20%22id%22%3A%20%222019-12-24T10%3A14%3A42.000000000%22%2C%20%22properties%22%3A%20%7B%7D%2C%20%22type%22%3A%20%22Feature%22%7D%2C%20%7B%22bbox%22%3A%20%5B150.120969620981%2C%20-32.70784991742062%2C%20150.120969620981%2C%20-32.70784991742062%5D%2C%20%22geometry%22%3A%20%7B%22coordinates%22%3A%20%5B150.120969620981%2C%20-32.70784991742062%5D%2C%20%22type%22%3A%20%22Point%22%7D%2C%20%22id%22%3A%20%222019-12-24T10%3A14%3A42.000000000%22%2C%20%22properties%22%3A%20%7B%7D%2C%20%22type%22%3A%20%22Feature%22%7D%2C%20%7B%22bbox%22%3A%20%5B150.13719262094%2C%20-32.8160639171474%2C%20150.13719262094%2C%20-32.8160639171474%5D%2C%20%22geometry%22%3A%20%7B%22coordinates%22%3A%20%5B150.13719262094%2C%20-32.8160639171474%5D%2C%20%22type%22%3A%20%22Point%22%7D%2C%20%22id%22%3A%20%222019-12-24T10%3A14%3A43.000000000%22%2C%20%22properties%22%3A%20%7B%7D%2C%20%22type%22%3A%20%22Feature%22%7D%2C%20%7B%22bbox%22%3A%20%5B150.1313716209547%2C%20-32.70398391743038%2C%20150.1313716209547%2C%20-32.70398391743038%5D%2C%20%22geometry%22%3A%20%7B%22coordinates%22%3A%20%5B150.1313716209547%2C%20-32.70398391743038%5D%2C%20%22type%22%3A%20%22Point%22%7D%2C%20%22id%22%3A%20%222019-12-24T10%3A14%3A44.000000000%22%2C%20%22properties%22%3A%20%7B%7D%2C%20%22type%22%3A%20%22Feature%22%7D%2C%20%7B%22bbox%22%3A%20%5B150.1343846209471%2C%20-32.71233491740929%2C%20150.1343846209471%2C%20-32.71233491740929%5D%2C%20%22geometry%22%3A%20%7B%22coordinates%22%3A%20%5B150.1343846209471%2C%20-32.71233491740929%5D%2C%20%22type%22%3A%20%22Point%22%7D%2C%20%22id%22%3A%20%222019-12-24T10%3A14%3A44.000000000%22%2C%20%22properties%22%3A%20%7B%7D%2C%20%22type%22%3A%20%22Feature%22%7D%2C%20%7B%22bbox%22%3A%20%5B150.1359106209433%2C%20-32.72157791738596%2C%20150.1359106209433%2C%20-32.72157791738596%5D%2C%20%22geometry%22%3A%20%7B%22coordinates%22%3A%20%5B150.1359106209433%2C%20-32.72157791738596%5D%2C%20%22type%22%3A%20%22Point%22%7D%2C%20%22id%22%3A%20%222019-12-24T10%3A14%3A44.000000000%22%2C%20%22properties%22%3A%20%7B%7D%2C%20%22type%22%3A%20%22Feature%22%7D%2C%20%7B%22bbox%22%3A%20%5B150.1428696209257%2C%20-32.79461191720156%2C%20150.1428696209257%2C%20-32.79461191720156%5D%2C%20%22geometry%22%3A%20%7B%22coordinates%22%3A%20%5B150.1428696209257%2C%20-32.79461191720156%5D%2C%20%22type%22%3A%20%22Point%22%7D%2C%20%22id%22%3A%20%222019-12-24T10%3A14%3A45.000000000%22%2C%20%22properties%22%3A%20%7B%7D%2C%20%22type%22%3A%20%22Feature%22%7D%2C%20%7B%22bbox%22%3A%20%5B150.1530616209%2C%20-32.96458091677243%2C%20150.1530616209%2C%20-32.96458091677243%5D%2C%20%22geometry%22%3A%20%7B%22coordinates%22%3A%20%5B150.1530616209%2C%20-32.96458091677243%5D%2C%20%22type%22%3A%20%22Point%22%7D%2C%20%22id%22%3A%20%222019-12-24T10%3A14%3A45.000000000%22%2C%20%22properties%22%3A%20%7B%7D%2C%20%22type%22%3A%20%22Feature%22%7D%2C%20%7B%22bbox%22%3A%20%5B150.1476246209137%2C%20-32.81219391715717%2C%20150.1476246209137%2C%20-32.81219391715717%5D%2C%20%22geometry%22%3A%20%7B%22coordinates%22%3A%20%5B150.1476246209137%2C%20-32.81219391715717%5D%2C%20%22type%22%3A%20%22Point%22%7D%2C%20%22id%22%3A%20%222019-12-24T10%3A14%3A46.000000000%22%2C%20%22properties%22%3A%20%7B%7D%2C%20%22type%22%3A%20%22Feature%22%7D%2C%20%7B%22bbox%22%3A%20%5B150.1447746209209%2C%20-32.70848391741902%2C%20150.1447746209209%2C%20-32.70848391741902%5D%2C%20%22geometry%22%3A%20%7B%22coordinates%22%3A%20%5B150.1447746209209%2C%20-32.70848391741902%5D%2C%20%22type%22%3A%20%22Point%22%7D%2C%20%22id%22%3A%20%222019-12-24T10%3A14%3A46.000000000%22%2C%20%22properties%22%3A%20%7B%7D%2C%20%22type%22%3A%20%22Feature%22%7D%2C%20%7B%22bbox%22%3A%20%5B150.1417616209285%2C%20-32.70014591744007%2C%20150.1417616209285%2C%20-32.70014591744007%5D%2C%20%22geometry%22%3A%20%7B%22coordinates%22%3A%20%5B150.1417616209285%2C%20-32.70014591744007%5D%2C%20%22type%22%3A%20%22Point%22%7D%2C%20%22id%22%3A%20%222019-12-24T10%3A14%3A47.000000000%22%2C%20%22properties%22%3A%20%7B%7D%2C%20%22type%22%3A%20%22Feature%22%7D%2C%20%7B%22bbox%22%3A%20%5B150.1464306209167%2C%20-32.71773691739565%2C%20150.1464306209167%2C%20-32.71773691739565%5D%2C%20%22geometry%22%3A%20%7B%22coordinates%22%3A%20%5B150.1464306209167%2C%20-32.71773691739565%5D%2C%20%22type%22%3A%20%22Point%22%7D%2C%20%22id%22%3A%20%222019-12-24T10%3A14%3A47.000000000%22%2C%20%22properties%22%3A%20%7B%7D%2C%20%22type%22%3A%20%22Feature%22%7D%2C%20%7B%22bbox%22%3A%20%5B150.1551606208947%2C%20-32.70462591742876%2C%20150.1551606208947%2C%20-32.70462591742876%5D%2C%20%22geometry%22%3A%20%7B%22coordinates%22%3A%20%5B150.1551606208947%2C%20-32.70462591742876%5D%2C%20%22type%22%3A%20%22Point%22%7D%2C%20%22id%22%3A%20%222019-12-24T10%3A14%3A49.000000000%22%2C%20%22properties%22%3A%20%7B%7D%2C%20%22type%22%3A%20%22Feature%22%7D%2C%20%7B%22bbox%22%3A%20%5B150.1569326208902%2C%20-32.71388791740537%2C%20150.1569326208902%2C%20-32.71388791740537%5D%2C%20%22geometry%22%3A%20%7B%22coordinates%22%3A%20%5B150.1569326208902%2C%20-32.71388791740537%5D%2C%20%22type%22%3A%20%22Point%22%7D%2C%20%22id%22%3A%20%222019-12-24T10%3A14%3A49.000000000%22%2C%20%22properties%22%3A%20%7B%7D%2C%20%22type%22%3A%20%22Feature%22%7D%2C%20%7B%22bbox%22%3A%20%5B150.1600246208824%2C%20-32.72223891738429%2C%20150.1600246208824%2C%20-32.72223891738429%5D%2C%20%22geometry%22%3A%20%7B%22coordinates%22%3A%20%5B150.1600246208824%2C%20-32.72223891738429%5D%2C%20%22type%22%3A%20%22Point%22%7D%2C%20%22id%22%3A%20%222019-12-24T10%3A14%3A50.000000000%22%2C%20%22properties%22%3A%20%7B%7D%2C%20%22type%22%3A%20%22Feature%22%7D%2C%20%7B%22bbox%22%3A%20%5B150.1913996208032%2C%20-33.15248791629801%2C%20150.1913996208032%2C%20-33.15248791629801%5D%2C%20%22geometry%22%3A%20%7B%22coordinates%22%3A%20%5B150.1913996208032%2C%20-33.15248791629801%5D%2C%20%22type%22%3A%20%22Point%22%7D%2C%20%22id%22%3A%20%222019-12-24T10%3A14%3A50.000000000%22%2C%20%22properties%22%3A%20%7B%7D%2C%20%22type%22%3A%20%22Feature%22%7D%2C%20%7B%22bbox%22%3A%20%5B150.2150066207436%2C%20-33.50235991541467%2C%20150.2150066207436%2C%20-33.50235991541467%5D%2C%20%22geometry%22%3A%20%7B%22coordinates%22%3A%20%5B150.2150066207436%2C%20-33.50235991541467%5D%2C%20%22type%22%3A%20%22Point%22%7D%2C%20%22id%22%3A%20%222019-12-24T10%3A14%3A51.000000000%22%2C%20%22properties%22%3A%20%7B%7D%2C%20%22type%22%3A%20%22Feature%22%7D%2C%20%7B%22bbox%22%3A%20%5B150.2178456207364%2C%20-33.5105069153941%2C%20150.2178456207364%2C%20-33.5105069153941%5D%2C%20%22geometry%22%3A%20%7B%22coordinates%22%3A%20%5B150.2178456207364%2C%20-33.5105069153941%5D%2C%20%22type%22%3A%20%22Point%22%7D%2C%20%22id%22%3A%20%222019-12-24T10%3A14%3A52.000000000%22%2C%20%22properties%22%3A%20%7B%7D%2C%20%22type%22%3A%20%22Feature%22%7D%2C%20%7B%22bbox%22%3A%20%5B150.1670896208645%2C%20-32.71002791741512%2C%20150.1670896208645%2C%20-32.71002791741512%5D%2C%20%22geometry%22%3A%20%7B%22coordinates%22%3A%20%5B150.1670896208645%2C%20-32.71002791741512%5D%2C%20%22type%22%3A%20%22Point%22%7D%2C%20%22id%22%3A%20%222019-12-24T10%3A14%3A52.000000000%22%2C%20%22properties%22%3A%20%7B%7D%2C%20%22type%22%3A%20%22Feature%22%7D%2C%20%7B%22bbox%22%3A%20%5B150.1705106208559%2C%20-32.71840291739397%2C%20150.1705106208559%2C%20-32.71840291739397%5D%2C%20%22geometry%22%3A%20%7B%22coordinates%22%3A%20%5B150.1705106208559%2C%20-32.71840291739397%5D%2C%20%22type%22%3A%20%22Point%22%7D%2C%20%22id%22%3A%20%222019-12-24T10%3A14%3A52.000000000%22%2C%20%22properties%22%3A%20%7B%7D%2C%20%22type%22%3A%20%22Feature%22%7D%2C%20%7B%22bbox%22%3A%20%5B150.2020486207763%2C%20-33.14858591630787%2C%20150.2020486207763%2C%20-33.14858591630787%5D%2C%20%22geometry%22%3A%20%7B%22coordinates%22%3A%20%5B150.2020486207763%2C%20-33.14858591630787%5D%2C%20%22type%22%3A%20%22Point%22%7D%2C%20%22id%22%3A%20%222019-12-24T10%3A14%3A53.000000000%22%2C%20%22properties%22%3A%20%7B%7D%2C%20%22type%22%3A%20%22Feature%22%7D%2C%20%7B%22bbox%22%3A%20%5B150.1926466208%2C%20-32.97991591673372%2C%20150.1926466208%2C%20-32.97991591673372%5D%2C%20%22geometry%22%3A%20%7B%22coordinates%22%3A%20%5B150.1926466208%2C%20-32.97991591673372%5D%2C%20%22type%22%3A%20%22Point%22%7D%2C%20%22id%22%3A%20%222019-12-24T10%3A14%3A54.000000000%22%2C%20%22properties%22%3A%20%7B%7D%2C%20%22type%22%3A%20%22Feature%22%7D%2C%20%7B%22bbox%22%3A%20%5B150.1775286208382%2C%20-32.7061939174248%2C%20150.1775286208382%2C%20-32.7061939174248%5D%2C%20%22geometry%22%3A%20%7B%22coordinates%22%3A%20%5B150.1775286208382%2C%20-32.7061939174248%5D%2C%20%22type%22%3A%20%22Point%22%7D%2C%20%22id%22%3A%20%222019-12-24T10%3A14%3A54.000000000%22%2C%20%22properties%22%3A%20%7B%7D%2C%20%22type%22%3A%20%22Feature%22%7D%2C%20%7B%22bbox%22%3A%20%5B150.1826656208252%2C%20-32.72382191738029%2C%20150.1826656208252%2C%20-32.72382191738029%5D%2C%20%22geometry%22%3A%20%7B%22coordinates%22%3A%20%5B150.1826656208252%2C%20-32.72382191738029%5D%2C%20%22type%22%3A%20%22Point%22%7D%2C%20%22id%22%3A%20%222019-12-24T10%3A14%3A55.000000000%22%2C%20%22properties%22%3A%20%7B%7D%2C%20%22type%22%3A%20%22Feature%22%7D%2C%20%7B%22bbox%22%3A%20%5B150.1809636208295%2C%20-32.71457691740363%2C%20150.1809636208295%2C%20-32.71457691740363%5D%2C%20%22geometry%22%3A%20%7B%22coordinates%22%3A%20%5B150.1809636208295%2C%20-32.71457691740363%5D%2C%20%22type%22%3A%20%22Point%22%7D%2C%20%22id%22%3A%20%222019-12-24T10%3A14%3A55.000000000%22%2C%20%22properties%22%3A%20%7B%7D%2C%20%22type%22%3A%20%22Feature%22%7D%2C%20%7B%22bbox%22%3A%20%5B150.2126566207495%2C%20-33.14467391631774%2C%20150.2126566207495%2C%20-33.14467391631774%5D%2C%20%22geometry%22%3A%20%7B%22coordinates%22%3A%20%5B150.2126566207495%2C%20-33.14467391631774%5D%2C%20%22type%22%3A%20%22Point%22%7D%2C%20%22id%22%3A%20%222019-12-24T10%3A14%3A56.000000000%22%2C%20%22properties%22%3A%20%7B%7D%2C%20%22type%22%3A%20%22Feature%22%7D%2C%20%7B%22bbox%22%3A%20%5B150.2093436207579%2C%20-33.13644091633853%2C%20150.2093436207579%2C%20-33.13644091633853%5D%2C%20%22geometry%22%3A%20%7B%22coordinates%22%3A%20%5B150.2093436207579%2C%20-33.13644091633853%5D%2C%20%22type%22%3A%20%22Point%22%7D%2C%20%22id%22%3A%20%222019-12-24T10%3A14%3A56.000000000%22%2C%20%22properties%22%3A%20%7B%7D%2C%20%22type%22%3A%20%22Feature%22%7D%2C%20%7B%22bbox%22%3A%20%5B150.2030996207736%2C%20-32.97606991674343%2C%20150.2030996207736%2C%20-32.97606991674343%5D%2C%20%22geometry%22%3A%20%7B%22coordinates%22%3A%20%5B150.2030996207736%2C%20-32.97606991674343%5D%2C%20%22type%22%3A%20%22Point%22%7D%2C%20%22id%22%3A%20%222019-12-24T10%3A14%3A56.000000000%22%2C%20%22properties%22%3A%20%7B%7D%2C%20%22type%22%3A%20%22Feature%22%7D%2C%20%7B%22bbox%22%3A%20%5B150.2043316207705%2C%20-32.98528391672016%2C%20150.2043316207705%2C%20-32.98528391672016%5D%2C%20%22geometry%22%3A%20%7B%22coordinates%22%3A%20%5B150.2043316207705%2C%20-32.98528391672016%5D%2C%20%22type%22%3A%20%22Point%22%7D%2C%20%22id%22%3A%20%222019-12-24T10%3A14%3A57.000000000%22%2C%20%22properties%22%3A%20%7B%7D%2C%20%22type%22%3A%20%22Feature%22%7D%2C%20%7B%22bbox%22%3A%20%5B150.1882736208111%2C%20-32.70240891743435%2C%20150.1882736208111%2C%20-32.70240891743435%5D%2C%20%22geometry%22%3A%20%7B%22coordinates%22%3A%20%5B150.1882736208111%2C%20-32.70240891743435%5D%2C%20%22type%22%3A%20%22Point%22%7D%2C%20%22id%22%3A%20%222019-12-24T10%3A14%3A57.000000000%22%2C%20%22properties%22%3A%20%7B%7D%2C%20%22type%22%3A%20%22Feature%22%7D%2C%20%7B%22bbox%22%3A%20%5B150.1915026208029%2C%20-32.71077191741324%2C%20150.1915026208029%2C%20-32.71077191741324%5D%2C%20%22geometry%22%3A%20%7B%22coordinates%22%3A%20%5B150.1915026208029%2C%20-32.71077191741324%5D%2C%20%22type%22%3A%20%22Point%22%7D%2C%20%22id%22%3A%20%222019-12-24T10%3A14%3A57.000000000%22%2C%20%22properties%22%3A%20%7B%7D%2C%20%22type%22%3A%20%22Feature%22%7D%2C%20%7B%22bbox%22%3A%20%5B150.2390676206828%2C%20-33.50259291541408%2C%20150.2390676206828%2C%20-33.50259291541408%5D%2C%20%22geometry%22%3A%20%7B%22coordinates%22%3A%20%5B150.2390676206828%2C%20-33.50259291541408%5D%2C%20%22type%22%3A%20%22Point%22%7D%2C%20%22id%22%3A%20%222019-12-24T10%3A14%3A57.000000000%22%2C%20%22properties%22%3A%20%7B%7D%2C%20%22type%22%3A%20%22Feature%22%7D%2C%20%7B%22bbox%22%3A%20%5B150.3543196203918%2C%20-35.22268491107127%2C%20150.3543196203918%2C%20-35.22268491107127%5D%2C%20%22geometry%22%3A%20%7B%22coordinates%22%3A%20%5B150.3543196203918%2C%20-35.22268491107127%5D%2C%20%22type%22%3A%20%22Point%22%7D%2C%20%22id%22%3A%20%222019-12-24T10%3A14%3A57.000000000%22%2C%20%22properties%22%3A%20%7B%7D%2C%20%22type%22%3A%20%22Feature%22%7D%2C%20%7B%22bbox%22%3A%20%5B150.2198046207315%2C%20-33.13255691634834%2C%20150.2198046207315%2C%20-33.13255691634834%5D%2C%20%22geometry%22%3A%20%7B%22coordinates%22%3A%20%5B150.2198046207315%2C%20-33.13255691634834%5D%2C%20%22type%22%3A%20%22Point%22%7D%2C%20%22id%22%3A%20%222019-12-24T10%3A14%3A58.000000000%22%2C%20%22properties%22%3A%20%7B%7D%2C%20%22type%22%3A%20%22Feature%22%7D%2C%20%7B%22bbox%22%3A%20%5B150.1932216207986%2C%20-32.72001391738991%2C%20150.1932216207986%2C%20-32.72001391738991%5D%2C%20%22geometry%22%3A%20%7B%22coordinates%22%3A%20%5B150.1932216207986%2C%20-32.72001391738991%5D%2C%20%22type%22%3A%20%22Point%22%7D%2C%20%22id%22%3A%20%222019-12-24T10%3A14%3A58.000000000%22%2C%20%22properties%22%3A%20%7B%7D%2C%20%22type%22%3A%20%22Feature%22%7D%2C%20%7B%22bbox%22%3A%20%5B150.2228436207238%2C%20-33.14074691632766%2C%20150.2228436207238%2C%20-33.14074691632766%5D%2C%20%22geometry%22%3A%20%7B%22coordinates%22%3A%20%5B150.2228436207238%2C%20-33.14074691632766%5D%2C%20%22type%22%3A%20%22Point%22%7D%2C%20%22id%22%3A%20%222019-12-24T10%3A14%3A58.000000000%22%2C%20%22properties%22%3A%20%7B%7D%2C%20%22type%22%3A%20%22Feature%22%7D%2C%20%7B%22bbox%22%3A%20%5B150.1921806208012%2C%20-32.67175091751176%2C%20150.1921806208012%2C%20-32.67175091751176%5D%2C%20%22geometry%22%3A%20%7B%22coordinates%22%3A%20%5B150.1921806208012%2C%20-32.67175091751176%5D%2C%20%22type%22%3A%20%22Point%22%7D%2C%20%22id%22%3A%20%222019-12-24T10%3A14%3A59.000000000%22%2C%20%22properties%22%3A%20%7B%7D%2C%20%22type%22%3A%20%22Feature%22%7D%2C%20%7B%22bbox%22%3A%20%5B150.1921806208012%2C%20-32.67175091751176%2C%20150.1921806208012%2C%20-32.67175091751176%5D%2C%20%22geometry%22%3A%20%7B%22coordinates%22%3A%20%5B150.1921806208012%2C%20-32.67175091751176%5D%2C%20%22type%22%3A%20%22Point%22%7D%2C%20%22id%22%3A%20%222019-12-24T10%3A14%3A59.000000000%22%2C%20%22properties%22%3A%20%7B%7D%2C%20%22type%22%3A%20%22Feature%22%7D%2C%20%7B%22bbox%22%3A%20%5B150.1986286207849%2C%20-32.698588917444%2C%20150.1986286207849%2C%20-32.698588917444%5D%2C%20%22geometry%22%3A%20%7B%22coordinates%22%3A%20%5B150.1986286207849%2C%20-32.698588917444%5D%2C%20%22type%22%3A%20%22Point%22%7D%2C%20%22id%22%3A%20%222019-12-24T10%3A14%3A59.000000000%22%2C%20%22properties%22%3A%20%7B%7D%2C%20%22type%22%3A%20%22Feature%22%7D%2C%20%7B%22bbox%22%3A%20%5B150.2151636207432%2C%20-32.98146991672979%2C%20150.2151636207432%2C%20-32.98146991672979%5D%2C%20%22geometry%22%3A%20%7B%22coordinates%22%3A%20%5B150.2151636207432%2C%20-32.98146991672979%5D%2C%20%22type%22%3A%20%22Point%22%7D%2C%20%22id%22%3A%20%222019-12-24T10%3A14%3A59.000000000%22%2C%20%22properties%22%3A%20%7B%7D%2C%20%22type%22%3A%20%22Feature%22%7D%2C%20%7B%22bbox%22%3A%20%5B150.2495396206564%2C%20-33.49862291542411%2C%20150.2495396206564%2C%20-33.49862291542411%5D%2C%20%22geometry%22%3A%20%7B%22coordinates%22%3A%20%5B150.2495396206564%2C%20-33.49862291542411%5D%2C%20%22type%22%3A%20%22Point%22%7D%2C%20%22id%22%3A%20%222019-12-24T10%3A14%3A59.000000000%22%2C%20%22properties%22%3A%20%7B%7D%2C%20%22type%22%3A%20%22Feature%22%7D%2C%20%7B%22bbox%22%3A%20%5B150.1998176207819%2C%20-32.65960291754243%2C%20150.1998176207819%2C%20-32.65960291754243%5D%2C%20%22geometry%22%3A%20%7B%22coordinates%22%3A%20%5B150.1998176207819%2C%20-32.65960291754243%5D%2C%20%22type%22%3A%20%22Point%22%7D%2C%20%22id%22%3A%20%222019-12-24T10%3A15%3A00.000000000%22%2C%20%22properties%22%3A%20%7B%7D%2C%20%22type%22%3A%20%22Feature%22%7D%2C%20%7B%22bbox%22%3A%20%5B150.198216620786%2C%20-32.65038191756571%2C%20150.198216620786%2C%20-32.65038191756571%5D%2C%20%22geometry%22%3A%20%7B%22coordinates%22%3A%20%5B150.198216620786%2C%20-32.65038191756571%5D%2C%20%22type%22%3A%20%22Point%22%7D%2C%20%22id%22%3A%20%222019-12-24T10%3A15%3A00.000000000%22%2C%20%22properties%22%3A%20%7B%7D%2C%20%22type%22%3A%20%22Feature%22%7D%2C%20%7B%22bbox%22%3A%20%5B150.2017006207772%2C%20-32.70693591742292%2C%20150.2017006207772%2C%20-32.70693591742292%5D%2C%20%22geometry%22%3A%20%7B%22coordinates%22%3A%20%5B150.2017006207772%2C%20-32.70693591742292%5D%2C%20%22type%22%3A%20%22Point%22%7D%2C%20%22id%22%3A%20%222019-12-24T10%3A15%3A00.000000000%22%2C%20%22properties%22%3A%20%7B%7D%2C%20%22type%22%3A%20%22Feature%22%7D%2C%20%7B%22bbox%22%3A%20%5B150.2033836207729%2C%20-32.71617091739961%2C%20150.2033836207729%2C%20-32.71617091739961%5D%2C%20%22geometry%22%3A%20%7B%22coordinates%22%3A%20%5B150.2033836207729%2C%20-32.71617091739961%5D%2C%20%22type%22%3A%20%22Point%22%7D%2C%20%22id%22%3A%20%222019-12-24T10%3A15%3A00.000000000%22%2C%20%22properties%22%3A%20%7B%7D%2C%20%22type%22%3A%20%22Feature%22%7D%2C%20%7B%22bbox%22%3A%20%5B150.2028076207744%2C%20-32.66796291752132%2C%20150.2028076207744%2C%20-32.66796291752132%5D%2C%20%22geometry%22%3A%20%7B%22coordinates%22%3A%20%5B150.2028076207744%2C%20-32.66796291752132%5D%2C%20%22type%22%3A%20%22Point%22%7D%2C%20%22id%22%3A%20%222019-12-24T10%3A15%3A01.000000000%22%2C%20%22properties%22%3A%20%7B%7D%2C%20%22type%22%3A%20%22Feature%22%7D%2C%20%7B%22bbox%22%3A%20%5B150.2299876207057%2C%20-33.12865391635819%2C%20150.2299876207057%2C%20-33.12865391635819%5D%2C%20%22geometry%22%3A%20%7B%22coordinates%22%3A%20%5B150.2299876207057%2C%20-33.12865391635819%5D%2C%20%22type%22%3A%20%22Point%22%7D%2C%20%22id%22%3A%20%222019-12-24T10%3A15%3A01.000000000%22%2C%20%22properties%22%3A%20%7B%7D%2C%20%22type%22%3A%20%22Feature%22%7D%2C%20%7B%22bbox%22%3A%20%5B150.2075326207624%2C%20-32.6855959174768%2C%20150.2075326207624%2C%20-32.6855959174768%5D%2C%20%22geometry%22%3A%20%7B%22coordinates%22%3A%20%5B150.2075326207624%2C%20-32.6855959174768%5D%2C%20%22type%22%3A%20%22Point%22%7D%2C%20%22id%22%3A%20%222019-12-24T10%3A15%3A01.000000000%22%2C%20%22properties%22%3A%20%7B%7D%2C%20%22type%22%3A%20%22Feature%22%7D%2C%20%7B%22bbox%22%3A%20%5B150.2335766206967%2C%20-33.13690691633735%2C%20150.2335766206967%2C%20-33.13690691633735%5D%2C%20%22geometry%22%3A%20%7B%22coordinates%22%3A%20%5B150.2335766206967%2C%20-33.13690691633735%5D%2C%20%22type%22%3A%20%22Point%22%7D%2C%20%22id%22%3A%20%222019-12-24T10%3A15%3A01.000000000%22%2C%20%22properties%22%3A%20%7B%7D%2C%20%22type%22%3A%20%22Feature%22%7D%2C%20%7B%22bbox%22%3A%20%5B150.2043146207706%2C%20-32.67717191749807%2C%20150.2043146207706%2C%20-32.67717191749807%5D%2C%20%22geometry%22%3A%20%7B%22coordinates%22%3A%20%5B150.2043146207706%2C%20-32.67717191749807%5D%2C%20%22type%22%3A%20%22Point%22%7D%2C%20%22id%22%3A%20%222019-12-24T10%3A15%3A02.000000000%22%2C%20%22properties%22%3A%20%7B%7D%2C%20%22type%22%3A%20%22Feature%22%7D%2C%20%7B%22bbox%22%3A%20%5B150.2258126207163%2C%20-32.97761291673953%2C%20150.2258126207163%2C%20-32.97761291673953%5D%2C%20%22geometry%22%3A%20%7B%22coordinates%22%3A%20%5B150.2258126207163%2C%20-32.97761291673953%5D%2C%20%22type%22%3A%20%22Point%22%7D%2C%20%22id%22%3A%20%222019-12-24T10%3A15%3A02.000000000%22%2C%20%22properties%22%3A%20%7B%7D%2C%20%22type%22%3A%20%22Feature%22%7D%2C%20%7B%22bbox%22%3A%20%5B150.2092436207581%2C%20-32.69483091745349%2C%20150.2092436207581%2C%20-32.69483091745349%5D%2C%20%22geometry%22%3A%20%7B%22coordinates%22%3A%20%5B150.2092436207581%2C%20-32.69483091745349%5D%2C%20%22type%22%3A%20%22Point%22%7D%2C%20%22id%22%3A%20%222019-12-24T10%3A15%3A02.000000000%22%2C%20%22properties%22%3A%20%7B%7D%2C%20%22type%22%3A%20%22Feature%22%7D%2C%20%7B%22bbox%22%3A%20%5B150.2437246206711%2C%20-33.13303291634713%2C%20150.2437246206711%2C%20-33.13303291634713%5D%2C%20%22geometry%22%3A%20%7B%22coordinates%22%3A%20%5B150.2437246206711%2C%20-33.13303291634713%5D%2C%20%22type%22%3A%20%22Point%22%7D%2C%20%22id%22%3A%20%222019-12-24T10%3A15%3A03.000000000%22%2C%20%22properties%22%3A%20%7B%7D%2C%20%22type%22%3A%20%22Feature%22%7D%2C%20%7B%22bbox%22%3A%20%5B150.2137666207467%2C%20-32.71236491740922%2C%20150.2137666207467%2C%20-32.71236491740922%5D%2C%20%22geometry%22%3A%20%7B%22coordinates%22%3A%20%5B150.2137666207467%2C%20-32.71236491740922%5D%2C%20%22type%22%3A%20%22Point%22%7D%2C%20%22id%22%3A%20%222019-12-24T10%3A15%3A03.000000000%22%2C%20%22properties%22%3A%20%7B%7D%2C%20%22type%22%3A%20%22Feature%22%7D%2C%20%7B%22bbox%22%3A%20%5B150.2101586207558%2C%20-32.65582291755197%2C%20150.2101586207558%2C%20-32.65582291755197%5D%2C%20%22geometry%22%3A%20%7B%22coordinates%22%3A%20%5B150.2101586207558%2C%20-32.65582291755197%5D%2C%20%22type%22%3A%20%22Point%22%7D%2C%20%22id%22%3A%20%222019-12-24T10%3A15%3A03.000000000%22%2C%20%22properties%22%3A%20%7B%7D%2C%20%22type%22%3A%20%22Feature%22%7D%2C%20%7B%22bbox%22%3A%20%5B150.2149106207438%2C%20-32.67340591750758%2C%20150.2149106207438%2C%20-32.67340591750758%5D%2C%20%22geometry%22%3A%20%7B%22coordinates%22%3A%20%5B150.2149106207438%2C%20-32.67340591750758%5D%2C%20%22type%22%3A%20%22Point%22%7D%2C%20%22id%22%3A%20%222019-12-24T10%3A15%3A03.000000000%22%2C%20%22properties%22%3A%20%7B%7D%2C%20%22type%22%3A%20%22Feature%22%7D%2C%20%7B%22bbox%22%3A%20%5B150.2084456207601%2C%20-32.64659091757528%2C%20150.2084456207601%2C%20-32.64659091757528%5D%2C%20%22geometry%22%3A%20%7B%22coordinates%22%3A%20%5B150.2084456207601%2C%20-32.64659091757528%5D%2C%20%22type%22%3A%20%22Point%22%7D%2C%20%22id%22%3A%20%222019-12-24T10%3A15%3A03.000000000%22%2C%20%22properties%22%3A%20%7B%7D%2C%20%22type%22%3A%20%22Feature%22%7D%2C%20%7B%22bbox%22%3A%20%5B150.213264620748%2C%20-32.66418391753086%2C%20150.213264620748%2C%20-32.66418391753086%5D%2C%20%22geometry%22%3A%20%7B%22coordinates%22%3A%20%5B150.213264620748%2C%20-32.66418391753086%5D%2C%20%22type%22%3A%20%22Point%22%7D%2C%20%22id%22%3A%20%222019-12-24T10%3A15%3A04.000000000%22%2C%20%22properties%22%3A%20%7B%7D%2C%20%22type%22%3A%20%22Feature%22%7D%2C%20%7B%22bbox%22%3A%20%5B150.2196756207318%2C%20-32.69104391746305%2C%20150.2196756207318%2C%20-32.69104391746305%5D%2C%20%22geometry%22%3A%20%7B%22coordinates%22%3A%20%5B150.2196756207318%2C%20-32.69104391746305%5D%2C%20%22type%22%3A%20%22Point%22%7D%2C%20%22id%22%3A%20%222019-12-24T10%3A15%3A04.000000000%22%2C%20%22properties%22%3A%20%7B%7D%2C%20%22type%22%3A%20%22Feature%22%7D%2C%20%7B%22bbox%22%3A%20%5B150.23621962069%2C%20-32.97375691674927%2C%20150.23621962069%2C%20-32.97375691674927%5D%2C%20%22geometry%22%3A%20%7B%22coordinates%22%3A%20%5B150.23621962069%2C%20-32.97375691674927%5D%2C%20%22type%22%3A%20%22Point%22%7D%2C%20%22id%22%3A%20%222019-12-24T10%3A15%3A04.000000000%22%2C%20%22properties%22%3A%20%7B%7D%2C%20%22type%22%3A%20%22Feature%22%7D%2C%20%7B%22bbox%22%3A%20%5B150.23621962069%2C%20-32.97375691674927%2C%20150.23621962069%2C%20-32.97375691674927%5D%2C%20%22geometry%22%3A%20%7B%22coordinates%22%3A%20%5B150.23621962069%2C%20-32.97375691674927%5D%2C%20%22type%22%3A%20%22Point%22%7D%2C%20%22id%22%3A%20%222019-12-24T10%3A15%3A04.000000000%22%2C%20%22properties%22%3A%20%7B%7D%2C%20%22type%22%3A%20%22Feature%22%7D%2C%20%7B%22bbox%22%3A%20%5B150.0501276211598%2C%20-30.17706192381024%2C%20150.0501276211598%2C%20-30.17706192381024%5D%2C%20%22geometry%22%3A%20%7B%22coordinates%22%3A%20%5B150.0501276211598%2C%20-30.17706192381024%5D%2C%20%22type%22%3A%20%22Point%22%7D%2C%20%22id%22%3A%20%222019-12-24T10%3A15%3A05.000000000%22%2C%20%22properties%22%3A%20%7B%7D%2C%20%22type%22%3A%20%22Feature%22%7D%2C%20%7B%22bbox%22%3A%20%5B150.2187566207341%2C%20-32.6428209175848%2C%20150.2187566207341%2C%20-32.6428209175848%5D%2C%20%22geometry%22%3A%20%7B%22coordinates%22%3A%20%5B150.2187566207341%2C%20-32.6428209175848%5D%2C%20%22type%22%3A%20%22Point%22%7D%2C%20%22id%22%3A%20%222019-12-24T10%3A15%3A05.000000000%22%2C%20%22properties%22%3A%20%7B%7D%2C%20%22type%22%3A%20%22Feature%22%7D%2C%20%7B%22bbox%22%3A%20%5B150.22831662071%2C%20-32.67804891749586%2C%20150.22831662071%2C%20-32.67804891749586%5D%2C%20%22geometry%22%3A%20%7B%22coordinates%22%3A%20%5B150.22831662071%2C%20-32.67804891749586%5D%2C%20%22type%22%3A%20%22Point%22%7D%2C%20%22id%22%3A%20%222019-12-24T10%3A15%3A06.000000000%22%2C%20%22properties%22%3A%20%7B%7D%2C%20%22type%22%3A%20%22Feature%22%7D%2C%20%7B%22bbox%22%3A%20%5B150.223531620722%2C%20-32.6604069175404%2C%20150.223531620722%2C%20-32.6604069175404%5D%2C%20%22geometry%22%3A%20%7B%22coordinates%22%3A%20%5B150.223531620722%2C%20-32.6604069175404%5D%2C%20%22type%22%3A%20%22Point%22%7D%2C%20%22id%22%3A%20%222019-12-24T10%3A15%3A06.000000000%22%2C%20%22properties%22%3A%20%7B%7D%2C%20%22type%22%3A%20%22Feature%22%7D%2C%20%7B%22bbox%22%3A%20%5B150.2300296207056%2C%20-32.68727491747256%2C%20150.2300296207056%2C%20-32.68727491747256%5D%2C%20%22geometry%22%3A%20%7B%22coordinates%22%3A%20%5B150.2300296207056%2C%20-32.68727491747256%5D%2C%20%22type%22%3A%20%22Point%22%7D%2C%20%22id%22%3A%20%222019-12-24T10%3A15%3A07.000000000%22%2C%20%22properties%22%3A%20%7B%7D%2C%20%22type%22%3A%20%22Feature%22%7D%2C%20%7B%22bbox%22%3A%20%5B150.2290636207081%2C%20-32.63904391759434%2C%20150.2290636207081%2C%20-32.63904391759434%5D%2C%20%22geometry%22%3A%20%7B%22coordinates%22%3A%20%5B150.2290636207081%2C%20-32.63904391759434%5D%2C%20%22type%22%3A%20%22Point%22%7D%2C%20%22id%22%3A%20%222019-12-24T10%3A15%3A07.000000000%22%2C%20%22properties%22%3A%20%7B%7D%2C%20%22type%22%3A%20%22Feature%22%7D%2C%20%7B%22bbox%22%3A%20%5B150.2308396207036%2C%20-32.64827691757102%2C%20150.2308396207036%2C%20-32.64827691757102%5D%2C%20%22geometry%22%3A%20%7B%22coordinates%22%3A%20%5B150.2308396207036%2C%20-32.64827691757102%5D%2C%20%22type%22%3A%20%22Point%22%7D%2C%20%22id%22%3A%20%222019-12-24T10%3A15%3A08.000000000%22%2C%20%22properties%22%3A%20%7B%7D%2C%20%22type%22%3A%20%22Feature%22%7D%2C%20%7B%22bbox%22%3A%20%5B150.238592620684%2C%20-32.6742679175054%2C%20150.238592620684%2C%20-32.6742679175054%5D%2C%20%22geometry%22%3A%20%7B%22coordinates%22%3A%20%5B150.238592620684%2C%20-32.6742679175054%5D%2C%20%22type%22%3A%20%22Point%22%7D%2C%20%22id%22%3A%20%222019-12-24T10%3A15%3A09.000000000%22%2C%20%22properties%22%3A%20%7B%7D%2C%20%22type%22%3A%20%22Feature%22%7D%2C%20%7B%22bbox%22%3A%20%5B150.2403256206796%2C%20-32.68349391748211%2C%20150.2403256206796%2C%20-32.68349391748211%5D%2C%20%22geometry%22%3A%20%7B%22coordinates%22%3A%20%5B150.2403256206796%2C%20-32.68349391748211%5D%2C%20%22type%22%3A%20%22Point%22%7D%2C%20%22id%22%3A%20%222019-12-24T10%3A15%3A09.000000000%22%2C%20%22properties%22%3A%20%7B%7D%2C%20%22type%22%3A%20%22Feature%22%7D%2C%20%7B%22bbox%22%3A%20%5B150.2339706206957%2C%20-32.65666691754984%2C%20150.2339706206957%2C%20-32.65666691754984%5D%2C%20%22geometry%22%3A%20%7B%22coordinates%22%3A%20%5B150.2339706206957%2C%20-32.65666691754984%5D%2C%20%22type%22%3A%20%22Point%22%7D%2C%20%22id%22%3A%20%222019-12-24T10%3A15%3A09.000000000%22%2C%20%22properties%22%3A%20%7B%7D%2C%20%22type%22%3A%20%22Feature%22%7D%2C%20%7B%22bbox%22%3A%20%5B150.2355926206916%2C%20-32.66587791752659%2C%20150.2355926206916%2C%20-32.66587791752659%5D%2C%20%22geometry%22%3A%20%7B%22coordinates%22%3A%20%5B150.2355926206916%2C%20-32.66587791752659%5D%2C%20%22type%22%3A%20%22Point%22%7D%2C%20%22id%22%3A%20%222019-12-24T10%3A15%3A09.000000000%22%2C%20%22properties%22%3A%20%7B%7D%2C%20%22type%22%3A%20%22Feature%22%7D%2C%20%7B%22bbox%22%3A%20%5B150.2457706206659%2C%20-32.66209091753615%2C%20150.2457706206659%2C%20-32.66209091753615%5D%2C%20%22geometry%22%3A%20%7B%22coordinates%22%3A%20%5B150.2457706206659%2C%20-32.66209091753615%5D%2C%20%22type%22%3A%20%22Point%22%7D%2C%20%22id%22%3A%20%222019-12-24T10%3A15%3A11.000000000%22%2C%20%22properties%22%3A%20%7B%7D%2C%20%22type%22%3A%20%22Feature%22%7D%2C%20%7B%22bbox%22%3A%20%5B150.2488516206581%2C%20-32.67049391751493%2C%20150.2488516206581%2C%20-32.67049391751493%5D%2C%20%22geometry%22%3A%20%7B%22coordinates%22%3A%20%5B150.2488516206581%2C%20-32.67049391751493%5D%2C%20%22type%22%3A%20%22Point%22%7D%2C%20%22id%22%3A%20%222019-12-24T10%3A15%3A11.000000000%22%2C%20%22properties%22%3A%20%7B%7D%2C%20%22type%22%3A%20%22Feature%22%7D%2C%20%7B%22bbox%22%3A%20%5B150.2650366206173%2C%20-32.56631091777797%2C%20150.2650366206173%2C%20-32.56631091777797%5D%2C%20%22geometry%22%3A%20%7B%22coordinates%22%3A%20%5B150.2650366206173%2C%20-32.56631091777797%5D%2C%20%22type%22%3A%20%22Point%22%7D%2C%20%22id%22%3A%20%222019-12-24T10%3A15%3A17.000000000%22%2C%20%22properties%22%3A%20%7B%7D%2C%20%22type%22%3A%20%22Feature%22%7D%2C%20%7B%22bbox%22%3A%20%5B150.3129376204963%2C%20-32.70331991743205%2C%20150.3129376204963%2C%20-32.70331991743205%5D%2C%20%22geometry%22%3A%20%7B%22coordinates%22%3A%20%5B150.3129376204963%2C%20-32.70331991743205%5D%2C%20%22type%22%3A%20%22Point%22%7D%2C%20%22id%22%3A%20%222019-12-24T10%3A15%3A27.000000000%22%2C%20%22properties%22%3A%20%7B%7D%2C%20%22type%22%3A%20%22Feature%22%7D%2C%20%7B%22bbox%22%3A%20%5B150.3766256203355%2C%20-32.64367191758265%2C%20150.3766256203355%2C%20-32.64367191758265%5D%2C%20%22geometry%22%3A%20%7B%22coordinates%22%3A%20%5B150.3766256203355%2C%20-32.64367191758265%5D%2C%20%22type%22%3A%20%22Point%22%7D%2C%20%22id%22%3A%20%222019-12-24T10%3A15%3A42.000000000%22%2C%20%22properties%22%3A%20%7B%7D%2C%20%22type%22%3A%20%22Feature%22%7D%2C%20%7B%22bbox%22%3A%20%5B150.3867716203099%2C%20-32.64001491759188%2C%20150.3867716203099%2C%20-32.64001491759188%5D%2C%20%22geometry%22%3A%20%7B%22coordinates%22%3A%20%5B150.3867716203099%2C%20-32.64001491759188%5D%2C%20%22type%22%3A%20%22Point%22%7D%2C%20%22id%22%3A%20%222019-12-24T10%3A15%3A44.000000000%22%2C%20%22properties%22%3A%20%7B%7D%2C%20%22type%22%3A%20%22Feature%22%7D%2C%20%7B%22bbox%22%3A%20%5B150.3889436203044%2C%20-32.64927091756851%2C%20150.3889436203044%2C%20-32.64927091756851%5D%2C%20%22geometry%22%3A%20%7B%22coordinates%22%3A%20%5B150.3889436203044%2C%20-32.64927091756851%5D%2C%20%22type%22%3A%20%22Point%22%7D%2C%20%22id%22%3A%20%222019-12-24T10%3A15%3A45.000000000%22%2C%20%22properties%22%3A%20%7B%7D%2C%20%22type%22%3A%20%22Feature%22%7D%2C%20%7B%22bbox%22%3A%20%5B150.3889436203044%2C%20-32.64927091756851%2C%20150.3889436203044%2C%20-32.64927091756851%5D%2C%20%22geometry%22%3A%20%7B%22coordinates%22%3A%20%5B150.3889436203044%2C%20-32.64927091756851%5D%2C%20%22type%22%3A%20%22Point%22%7D%2C%20%22id%22%3A%20%222019-12-24T10%3A15%3A45.000000000%22%2C%20%22properties%22%3A%20%7B%7D%2C%20%22type%22%3A%20%22Feature%22%7D%2C%20%7B%22bbox%22%3A%20%5B150.3946036202901%2C%20-32.62809091762199%2C%20150.3946036202901%2C%20-32.62809091762199%5D%2C%20%22geometry%22%3A%20%7B%22coordinates%22%3A%20%5B150.3946036202901%2C%20-32.62809091762199%5D%2C%20%22type%22%3A%20%22Point%22%7D%2C%20%22id%22%3A%20%222019-12-24T10%3A15%3A46.000000000%22%2C%20%22properties%22%3A%20%7B%7D%2C%20%22type%22%3A%20%22Feature%22%7D%2C%20%7B%22bbox%22%3A%20%5B150.3971816202836%2C%20-32.63641491760097%2C%20150.3971816202836%2C%20-32.63641491760097%5D%2C%20%22geometry%22%3A%20%7B%22coordinates%22%3A%20%5B150.3971816202836%2C%20-32.63641491760097%5D%2C%20%22type%22%3A%20%22Point%22%7D%2C%20%22id%22%3A%20%222019-12-24T10%3A15%3A47.000000000%22%2C%20%22properties%22%3A%20%7B%7D%2C%20%22type%22%3A%20%22Feature%22%7D%2C%20%7B%22bbox%22%3A%20%5B150.399028620279%2C%20-32.64560991757776%2C%20150.399028620279%2C%20-32.64560991757776%5D%2C%20%22geometry%22%3A%20%7B%22coordinates%22%3A%20%5B150.399028620279%2C%20-32.64560991757776%5D%2C%20%22type%22%3A%20%22Point%22%7D%2C%20%22id%22%3A%20%222019-12-24T10%3A15%3A47.000000000%22%2C%20%22properties%22%3A%20%7B%7D%2C%20%22type%22%3A%20%22Feature%22%7D%2C%20%7B%22bbox%22%3A%20%5B150.4024756202703%2C%20-32.65413091755624%2C%20150.4024756202703%2C%20-32.65413091755624%5D%2C%20%22geometry%22%3A%20%7B%22coordinates%22%3A%20%5B150.4024756202703%2C%20-32.65413091755624%5D%2C%20%22type%22%3A%20%22Point%22%7D%2C%20%22id%22%3A%20%222019-12-24T10%3A15%3A48.000000000%22%2C%20%22properties%22%3A%20%7B%7D%2C%20%22type%22%3A%20%22Feature%22%7D%2C%20%7B%22bbox%22%3A%20%5B150.4035526202675%2C%20-32.61540091765403%2C%20150.4035526202675%2C%20-32.61540091765403%5D%2C%20%22geometry%22%3A%20%7B%22coordinates%22%3A%20%5B150.4035526202675%2C%20-32.61540091765403%5D%2C%20%22type%22%3A%20%22Point%22%7D%2C%20%22id%22%3A%20%222019-12-24T10%3A15%3A48.000000000%22%2C%20%22properties%22%3A%20%7B%7D%2C%20%22type%22%3A%20%22Feature%22%7D%2C%20%7B%22bbox%22%3A%20%5B150.4079866202563%2C%20-32.6329189176098%2C%20150.4079866202563%2C%20-32.6329189176098%5D%2C%20%22geometry%22%3A%20%7B%22coordinates%22%3A%20%5B150.4079866202563%2C%20-32.6329189176098%5D%2C%20%22type%22%3A%20%22Point%22%7D%2C%20%22id%22%3A%20%222019-12-24T10%3A15%3A49.000000000%22%2C%20%22properties%22%3A%20%7B%7D%2C%20%22type%22%3A%20%22Feature%22%7D%2C%20%7B%22bbox%22%3A%20%5B150.4051376202635%2C%20-32.62454091763095%2C%20150.4051376202635%2C%20-32.62454091763095%5D%2C%20%22geometry%22%3A%20%7B%22coordinates%22%3A%20%5B150.4051376202635%2C%20-32.62454091763095%5D%2C%20%22type%22%3A%20%22Point%22%7D%2C%20%22id%22%3A%20%222019-12-24T10%3A15%3A49.000000000%22%2C%20%22properties%22%3A%20%7B%7D%2C%20%22type%22%3A%20%22Feature%22%7D%2C%20%7B%22bbox%22%3A%20%5B150.4122656202455%2C%20-32.65044691756555%2C%20150.4122656202455%2C%20-32.65044691756555%5D%2C%20%22geometry%22%3A%20%7B%22coordinates%22%3A%20%5B150.4122656202455%2C%20-32.65044691756555%5D%2C%20%22type%22%3A%20%22Point%22%7D%2C%20%22id%22%3A%20%222019-12-24T10%3A15%3A50.000000000%22%2C%20%22properties%22%3A%20%7B%7D%2C%20%22type%22%3A%20%22Feature%22%7D%2C%20%7B%22bbox%22%3A%20%5B150.4093806202528%2C%20-32.64202591758681%2C%20150.4093806202528%2C%20-32.64202591758681%5D%2C%20%22geometry%22%3A%20%7B%22coordinates%22%3A%20%5B150.4093806202528%2C%20-32.64202591758681%5D%2C%20%22type%22%3A%20%22Point%22%7D%2C%20%22id%22%3A%20%222019-12-24T10%3A15%3A50.000000000%22%2C%20%22properties%22%3A%20%7B%7D%2C%20%22type%22%3A%20%22Feature%22%7D%2C%20%7B%22bbox%22%3A%20%5B150.4154826202374%2C%20-32.62096891763997%2C%20150.4154826202374%2C%20-32.62096891763997%5D%2C%20%22geometry%22%3A%20%7B%22coordinates%22%3A%20%5B150.4154826202374%2C%20-32.62096891763997%5D%2C%20%22type%22%3A%20%22Point%22%7D%2C%20%22id%22%3A%20%222019-12-24T10%3A15%3A51.000000000%22%2C%20%22properties%22%3A%20%7B%7D%2C%20%22type%22%3A%20%22Feature%22%7D%2C%20%7B%22bbox%22%3A%20%5B150.4136996202419%2C%20-32.61179691766313%2C%20150.4136996202419%2C%20-32.61179691766313%5D%2C%20%22geometry%22%3A%20%7B%22coordinates%22%3A%20%5B150.4136996202419%2C%20-32.61179691766313%5D%2C%20%22type%22%3A%20%22Point%22%7D%2C%20%22id%22%3A%20%222019-12-24T10%3A15%3A51.000000000%22%2C%20%22properties%22%3A%20%7B%7D%2C%20%22type%22%3A%20%22Feature%22%7D%2C%20%7B%22bbox%22%3A%20%5B150.4185746202296%2C%20-32.62939691761869%2C%20150.4185746202296%2C%20-32.62939691761869%5D%2C%20%22geometry%22%3A%20%7B%22coordinates%22%3A%20%5B150.4185746202296%2C%20-32.62939691761869%5D%2C%20%22type%22%3A%20%22Point%22%7D%2C%20%22id%22%3A%20%222019-12-24T10%3A15%3A52.000000000%22%2C%20%22properties%22%3A%20%7B%7D%2C%20%22type%22%3A%20%22Feature%22%7D%2C%20%7B%22bbox%22%3A%20%5B150.4202656202253%2C%20-32.63855091759558%2C%20150.4202656202253%2C%20-32.63855091759558%5D%2C%20%22geometry%22%3A%20%7B%22coordinates%22%3A%20%5B150.4202656202253%2C%20-32.63855091759558%5D%2C%20%22type%22%3A%20%22Point%22%7D%2C%20%22id%22%3A%20%222019-12-24T10%3A15%3A52.000000000%22%2C%20%22properties%22%3A%20%7B%7D%2C%20%22type%22%3A%20%22Feature%22%7D%2C%20%7B%22bbox%22%3A%20%5B150.4239346202161%2C%20-32.60819791767221%2C%20150.4239346202161%2C%20-32.60819791767221%5D%2C%20%22geometry%22%3A%20%7B%22coordinates%22%3A%20%5B150.4239346202161%2C%20-32.60819791767221%5D%2C%20%22type%22%3A%20%22Point%22%7D%2C%20%22id%22%3A%20%222019-12-24T10%3A15%3A53.000000000%22%2C%20%22properties%22%3A%20%7B%7D%2C%20%22type%22%3A%20%22Feature%22%7D%2C%20%7B%22bbox%22%3A%20%5B150.4258026202114%2C%20-32.61738291764902%2C%20150.4258026202114%2C%20-32.61738291764902%5D%2C%20%22geometry%22%3A%20%7B%22coordinates%22%3A%20%5B150.4258026202114%2C%20-32.61738291764902%5D%2C%20%22type%22%3A%20%22Point%22%7D%2C%20%22id%22%3A%20%222019-12-24T10%3A15%3A54.000000000%22%2C%20%22properties%22%3A%20%7B%7D%2C%20%22type%22%3A%20%22Feature%22%7D%2C%20%7B%22bbox%22%3A%20%5B150.4360716201854%2C%20-32.61381791765803%2C%20150.4360716201854%2C%20-32.61381791765803%5D%2C%20%22geometry%22%3A%20%7B%22coordinates%22%3A%20%5B150.4360716201854%2C%20-32.61381791765803%5D%2C%20%22type%22%3A%20%22Point%22%7D%2C%20%22id%22%3A%20%222019-12-24T10%3A15%3A56.000000000%22%2C%20%22properties%22%3A%20%7B%7D%2C%20%22type%22%3A%20%22Feature%22%7D%2C%20%7B%22bbox%22%3A%20%5B150.4343546201898%2C%20-32.60466591768113%2C%20150.4343546201898%2C%20-32.60466591768113%5D%2C%20%22geometry%22%3A%20%7B%22coordinates%22%3A%20%5B150.4343546201898%2C%20-32.60466591768113%5D%2C%20%22type%22%3A%20%22Point%22%7D%2C%20%22id%22%3A%20%222019-12-24T10%3A15%3A56.000000000%22%2C%20%22properties%22%3A%20%7B%7D%2C%20%22type%22%3A%20%22Feature%22%7D%2C%20%7B%22bbox%22%3A%20%5B150.4445146201641%2C%20-32.60105391769025%2C%20150.4445146201641%2C%20-32.60105391769025%5D%2C%20%22geometry%22%3A%20%7B%22coordinates%22%3A%20%5B150.4445146201641%2C%20-32.60105391769025%5D%2C%20%22type%22%3A%20%22Point%22%7D%2C%20%22id%22%3A%20%222019-12-24T10%3A15%3A58.000000000%22%2C%20%22properties%22%3A%20%7B%7D%2C%20%22type%22%3A%20%22Feature%22%7D%2C%20%7B%22bbox%22%3A%20%5B150.520214619973%2C%20-33.57226091523819%2C%20150.520214619973%2C%20-33.57226091523819%5D%2C%20%22geometry%22%3A%20%7B%22coordinates%22%3A%20%5B150.520214619973%2C%20-33.57226091523819%5D%2C%20%22type%22%3A%20%22Point%22%7D%2C%20%22id%22%3A%20%222019-12-24T10%3A16%3A01.000000000%22%2C%20%22properties%22%3A%20%7B%7D%2C%20%22type%22%3A%20%22Feature%22%7D%2C%20%7B%22bbox%22%3A%20%5B150.5133176199904%2C%20-32.56721691777568%2C%20150.5133176199904%2C%20-32.56721691777568%5D%2C%20%22geometry%22%3A%20%7B%22coordinates%22%3A%20%5B150.5133176199904%2C%20-32.56721691777568%5D%2C%20%22type%22%3A%20%22Point%22%7D%2C%20%22id%22%3A%20%222019-12-24T10%3A16%3A16.000000000%22%2C%20%22properties%22%3A%20%7B%7D%2C%20%22type%22%3A%20%22Feature%22%7D%2C%20%7B%22bbox%22%3A%20%5B150.5284756199521%2C%20-32.58135891773998%2C%20150.5284756199521%2C%20-32.58135891773998%5D%2C%20%22geometry%22%3A%20%7B%22coordinates%22%3A%20%5B150.5284756199521%2C%20-32.58135891773998%5D%2C%20%22type%22%3A%20%22Point%22%7D%2C%20%22id%22%3A%20%222019-12-24T10%3A16%3A18.000000000%22%2C%20%22properties%22%3A%20%7B%7D%2C%20%22type%22%3A%20%22Feature%22%7D%2C%20%7B%22bbox%22%3A%20%5B150.6012746197683%2C%20-33.53467991533307%2C%20150.6012746197683%2C%20-33.53467991533307%5D%2C%20%22geometry%22%3A%20%7B%22coordinates%22%3A%20%5B150.6012746197683%2C%20-33.53467991533307%5D%2C%20%22type%22%3A%20%22Point%22%7D%2C%20%22id%22%3A%20%222019-12-24T10%3A16%3A21.000000000%22%2C%20%22properties%22%3A%20%7B%7D%2C%20%22type%22%3A%20%22Feature%22%7D%2C%20%7B%22bbox%22%3A%20%5B150.5775416198283%2C%20-32.59348991770935%2C%20150.5775416198283%2C%20-32.59348991770935%5D%2C%20%22geometry%22%3A%20%7B%22coordinates%22%3A%20%5B150.5775416198283%2C%20-32.59348991770935%5D%2C%20%22type%22%3A%20%22Point%22%7D%2C%20%22id%22%3A%20%222019-12-24T10%3A16%3A30.000000000%22%2C%20%22properties%22%3A%20%7B%7D%2C%20%22type%22%3A%20%22Feature%22%7D%2C%20%7B%22bbox%22%3A%20%5B150.5898156197973%2C%20-32.59939691769443%2C%20150.5898156197973%2C%20-32.59939691769443%5D%2C%20%22geometry%22%3A%20%7B%22coordinates%22%3A%20%5B150.5898156197973%2C%20-32.59939691769443%5D%2C%20%22type%22%3A%20%22Point%22%7D%2C%20%22id%22%3A%20%222019-12-24T10%3A16%3A33.000000000%22%2C%20%22properties%22%3A%20%7B%7D%2C%20%22type%22%3A%20%22Feature%22%7D%2C%20%7B%22bbox%22%3A%20%5B150.6000956197713%2C%20-32.59597991770306%2C%20150.6000956197713%2C%20-32.59597991770306%5D%2C%20%22geometry%22%3A%20%7B%22coordinates%22%3A%20%5B150.6000956197713%2C%20-32.59597991770306%5D%2C%20%22type%22%3A%20%22Point%22%7D%2C%20%22id%22%3A%20%222019-12-24T10%3A16%3A36.000000000%22%2C%20%22properties%22%3A%20%7B%7D%2C%20%22type%22%3A%20%22Feature%22%7D%2C%20%7B%22bbox%22%3A%20%5B150.610514619745%2C%20-32.59260591771158%2C%20150.610514619745%2C%20-32.59260591771158%5D%2C%20%22geometry%22%3A%20%7B%22coordinates%22%3A%20%5B150.610514619745%2C%20-32.59260591771158%5D%2C%20%22type%22%3A%20%22Point%22%7D%2C%20%22id%22%3A%20%222019-12-24T10%3A16%3A38.000000000%22%2C%20%22properties%22%3A%20%7B%7D%2C%20%22type%22%3A%20%22Feature%22%7D%2C%20%7B%22bbox%22%3A%20%5B150.6132636197381%2C%20-32.60092991769056%2C%20150.6132636197381%2C%20-32.60092991769056%5D%2C%20%22geometry%22%3A%20%7B%22coordinates%22%3A%20%5B150.6132636197381%2C%20-32.60092991769056%5D%2C%20%22type%22%3A%20%22Point%22%7D%2C%20%22id%22%3A%20%222019-12-24T10%3A16%3A39.000000000%22%2C%20%22properties%22%3A%20%7B%7D%2C%20%22type%22%3A%20%22Feature%22%7D%2C%20%7B%22bbox%22%3A%20%5B150.6150286197336%2C%20-32.61017791766722%2C%20150.6150286197336%2C%20-32.61017791766722%5D%2C%20%22geometry%22%3A%20%7B%22coordinates%22%3A%20%5B150.6150286197336%2C%20-32.61017791766722%5D%2C%20%22type%22%3A%20%22Point%22%7D%2C%20%22id%22%3A%20%222019-12-24T10%3A16%3A39.000000000%22%2C%20%22properties%22%3A%20%7B%7D%2C%20%22type%22%3A%20%22Feature%22%7D%2C%20%7B%22bbox%22%3A%20%5B150.6253236197076%2C%20-32.60676091767584%2C%20150.6253236197076%2C%20-32.60676091767584%5D%2C%20%22geometry%22%3A%20%7B%22coordinates%22%3A%20%5B150.6253236197076%2C%20-32.60676091767584%5D%2C%20%22type%22%3A%20%22Point%22%7D%2C%20%22id%22%3A%20%222019-12-24T10%3A16%3A42.000000000%22%2C%20%22properties%22%3A%20%7B%7D%2C%20%22type%22%3A%20%22Feature%22%7D%2C%20%7B%22bbox%22%3A%20%5B150.6407466196687%2C%20-32.62104091763979%2C%20150.6407466196687%2C%20-32.62104091763979%5D%2C%20%22geometry%22%3A%20%7B%22coordinates%22%3A%20%5B150.6407466196687%2C%20-32.62104091763979%5D%2C%20%22type%22%3A%20%22Point%22%7D%2C%20%22id%22%3A%20%222019-12-24T10%3A16%3A44.000000000%22%2C%20%22properties%22%3A%20%7B%7D%2C%20%22type%22%3A%20%22Feature%22%7D%2C%20%7B%22bbox%22%3A%20%5B150.6437136196612%2C%20-32.62936591761877%2C%20150.6437136196612%2C%20-32.62936591761877%5D%2C%20%22geometry%22%3A%20%7B%22coordinates%22%3A%20%5B150.6437136196612%2C%20-32.62936591761877%5D%2C%20%22type%22%3A%20%22Point%22%7D%2C%20%22id%22%3A%20%222019-12-24T10%3A16%3A45.000000000%22%2C%20%22properties%22%3A%20%7B%7D%2C%20%22type%22%3A%20%22Feature%22%7D%2C%20%7B%22bbox%22%3A%20%5B150.6911496195414%2C%20-32.64269991758511%2C%20150.6911496195414%2C%20-32.64269991758511%5D%2C%20%22geometry%22%3A%20%7B%22coordinates%22%3A%20%5B150.6911496195414%2C%20-32.64269991758511%5D%2C%20%22type%22%3A%20%22Point%22%7D%2C%20%22id%22%3A%20%222019-12-24T10%3A16%3A56.000000000%22%2C%20%22properties%22%3A%20%7B%7D%2C%20%22type%22%3A%20%22Feature%22%7D%2C%20%7B%22bbox%22%3A%20%5B150.7205376194672%2C%20-32.62363191763325%2C%20150.7205376194672%2C%20-32.62363191763325%5D%2C%20%22geometry%22%3A%20%7B%22coordinates%22%3A%20%5B150.7205376194672%2C%20-32.62363191763325%5D%2C%20%22type%22%3A%20%22Point%22%7D%2C%20%22id%22%3A%20%222019-12-24T10%3A17%3A03.000000000%22%2C%20%22properties%22%3A%20%7B%7D%2C%20%22type%22%3A%20%22Feature%22%7D%2C%20%7B%22bbox%22%3A%20%5B150.7383376194223%2C%20-32.77173491725932%2C%20150.7383376194223%2C%20-32.77173491725932%5D%2C%20%22geometry%22%3A%20%7B%22coordinates%22%3A%20%5B150.7383376194223%2C%20-32.77173491725932%5D%2C%20%22type%22%3A%20%22Point%22%7D%2C%20%22id%22%3A%20%222019-12-24T10%3A17%3A05.000000000%22%2C%20%22properties%22%3A%20%7B%7D%2C%20%22type%22%3A%20%22Feature%22%7D%2C%20%7B%22bbox%22%3A%20%5B150.7478356193983%2C%20-32.76751891726997%2C%20150.7478356193983%2C%20-32.76751891726997%5D%2C%20%22geometry%22%3A%20%7B%22coordinates%22%3A%20%5B150.7478356193983%2C%20-32.76751891726997%5D%2C%20%22type%22%3A%20%22Point%22%7D%2C%20%22id%22%3A%20%222019-12-24T10%3A17%3A07.000000000%22%2C%20%22properties%22%3A%20%7B%7D%2C%20%22type%22%3A%20%22Feature%22%7D%2C%20%7B%22bbox%22%3A%20%5B150.7495836193939%2C%20-32.77672591724672%2C%20150.7495836193939%2C%20-32.77672591724672%5D%2C%20%22geometry%22%3A%20%7B%22coordinates%22%3A%20%5B150.7495836193939%2C%20-32.77672591724672%5D%2C%20%22type%22%3A%20%22Point%22%7D%2C%20%22id%22%3A%20%222019-12-24T10%3A17%3A07.000000000%22%2C%20%22properties%22%3A%20%7B%7D%2C%20%22type%22%3A%20%22Feature%22%7D%2C%20%7B%22bbox%22%3A%20%5B150.7480036193979%2C%20-32.64390291758207%2C%20150.7480036193979%2C%20-32.64390291758207%5D%2C%20%22geometry%22%3A%20%7B%22coordinates%22%3A%20%5B150.7480036193979%2C%20-32.64390291758207%5D%2C%20%22type%22%3A%20%22Point%22%7D%2C%20%22id%22%3A%20%222019-12-24T10%3A17%3A09.000000000%22%2C%20%22properties%22%3A%20%7B%7D%2C%20%22type%22%3A%20%22Feature%22%7D%2C%20%7B%22bbox%22%3A%20%5B150.7462096194024%2C%20-32.63469891760531%2C%20150.7462096194024%2C%20-32.63469891760531%5D%2C%20%22geometry%22%3A%20%7B%22coordinates%22%3A%20%5B150.7462096194024%2C%20-32.63469891760531%5D%2C%20%22type%22%3A%20%22Point%22%7D%2C%20%22id%22%3A%20%222019-12-24T10%3A17%3A09.000000000%22%2C%20%22properties%22%3A%20%7B%7D%2C%20%22type%22%3A%20%22Feature%22%7D%2C%20%7B%22bbox%22%3A%20%5B150.74319261941%2C%20-32.62632491762645%2C%20150.74319261941%2C%20-32.62632491762645%5D%2C%20%22geometry%22%3A%20%7B%22coordinates%22%3A%20%5B150.74319261941%2C%20-32.62632491762645%5D%2C%20%22type%22%3A%20%22Point%22%7D%2C%20%22id%22%3A%20%222019-12-24T10%3A17%3A09.000000000%22%2C%20%22properties%22%3A%20%7B%7D%2C%20%22type%22%3A%20%22Feature%22%7D%2C%20%7B%22bbox%22%3A%20%5B150.7509126193905%2C%20-32.65228991756089%2C%20150.7509126193905%2C%20-32.65228991756089%5D%2C%20%22geometry%22%3A%20%7B%22coordinates%22%3A%20%5B150.7509126193905%2C%20-32.65228991756089%5D%2C%20%22type%22%3A%20%22Point%22%7D%2C%20%22id%22%3A%20%222019-12-24T10%3A17%3A10.000000000%22%2C%20%22properties%22%3A%20%7B%7D%2C%20%22type%22%3A%20%22Feature%22%7D%2C%20%7B%22bbox%22%3A%20%5B150.7613326193642%2C%20-32.64904591756908%2C%20150.7613326193642%2C%20-32.64904591756908%5D%2C%20%22geometry%22%3A%20%7B%22coordinates%22%3A%20%5B150.7613326193642%2C%20-32.64904591756908%5D%2C%20%22type%22%3A%20%22Point%22%7D%2C%20%22id%22%3A%20%222019-12-24T10%3A17%3A12.000000000%22%2C%20%22properties%22%3A%20%7B%7D%2C%20%22type%22%3A%20%22Feature%22%7D%2C%20%7B%22bbox%22%3A%20%5B150.7630646193599%2C%20-32.65822591754591%2C%20150.7630646193599%2C%20-32.65822591754591%5D%2C%20%22geometry%22%3A%20%7B%22coordinates%22%3A%20%5B150.7630646193599%2C%20-32.65822591754591%5D%2C%20%22type%22%3A%20%22Point%22%7D%2C%20%22id%22%3A%20%222019-12-24T10%3A17%3A13.000000000%22%2C%20%22properties%22%3A%20%7B%7D%2C%20%22type%22%3A%20%22Feature%22%7D%2C%20%7B%22bbox%22%3A%20%5B150.7660226193524%2C%20-32.6665869175248%2C%20150.7660226193524%2C%20-32.6665869175248%5D%2C%20%22geometry%22%3A%20%7B%22coordinates%22%3A%20%5B150.7660226193524%2C%20-32.6665869175248%5D%2C%20%22type%22%3A%20%22Point%22%7D%2C%20%22id%22%3A%20%222019-12-24T10%3A17%3A13.000000000%22%2C%20%22properties%22%3A%20%7B%7D%2C%20%22type%22%3A%20%22Feature%22%7D%2C%20%7B%22bbox%22%3A%20%5B150.7706216193408%2C%20-32.68412191748052%2C%20150.7706216193408%2C%20-32.68412191748052%5D%2C%20%22geometry%22%3A%20%7B%22coordinates%22%3A%20%5B150.7706216193408%2C%20-32.68412191748052%5D%2C%20%22type%22%3A%20%22Point%22%7D%2C%20%22id%22%3A%20%222019-12-24T10%3A17%3A13.000000000%22%2C%20%22properties%22%3A%20%7B%7D%2C%20%22type%22%3A%20%22Feature%22%7D%2C%20%7B%22bbox%22%3A%20%5B150.7723816193363%2C%20-32.69331291745732%2C%20150.7723816193363%2C%20-32.69331291745732%5D%2C%20%22geometry%22%3A%20%7B%22coordinates%22%3A%20%5B150.7723816193363%2C%20-32.69331291745732%5D%2C%20%22type%22%3A%20%22Point%22%7D%2C%20%22id%22%3A%20%222019-12-24T10%3A17%3A14.000000000%22%2C%20%22properties%22%3A%20%7B%7D%2C%20%22type%22%3A%20%22Feature%22%7D%2C%20%7B%22bbox%22%3A%20%5B150.7855616193031%2C%20-32.78444391722724%2C%20150.7855616193031%2C%20-32.78444391722724%5D%2C%20%22geometry%22%3A%20%7B%22coordinates%22%3A%20%5B150.7855616193031%2C%20-32.78444391722724%5D%2C%20%22type%22%3A%20%22Point%22%7D%2C%20%22id%22%3A%20%222019-12-24T10%3A17%3A16.000000000%22%2C%20%22properties%22%3A%20%7B%7D%2C%20%22type%22%3A%20%22Feature%22%7D%2C%20%7B%22bbox%22%3A%20%5B150.7838126193075%2C%20-32.77525191725044%2C%20150.7838126193075%2C%20-32.77525191725044%5D%2C%20%22geometry%22%3A%20%7B%22coordinates%22%3A%20%5B150.7838126193075%2C%20-32.77525191725044%5D%2C%20%22type%22%3A%20%22Point%22%7D%2C%20%22id%22%3A%20%222019-12-24T10%3A17%3A16.000000000%22%2C%20%22properties%22%3A%20%7B%7D%2C%20%22type%22%3A%20%22Feature%22%7D%2C%20%7B%22bbox%22%3A%20%5B150.778049619322%2C%20-32.67251391750983%2C%20150.778049619322%2C%20-32.67251391750983%5D%2C%20%22geometry%22%3A%20%7B%22coordinates%22%3A%20%5B150.778049619322%2C%20-32.67251391750983%5D%2C%20%22type%22%3A%20%22Point%22%7D%2C%20%22id%22%3A%20%222019-12-24T10%3A17%3A16.000000000%22%2C%20%22properties%22%3A%20%7B%7D%2C%20%22type%22%3A%20%22Feature%22%7D%2C%20%7B%22bbox%22%3A%20%5B150.7763966193262%2C%20-32.66336191753294%2C%20150.7763966193262%2C%20-32.66336191753294%5D%2C%20%22geometry%22%3A%20%7B%22coordinates%22%3A%20%5B150.7763966193262%2C%20-32.66336191753294%5D%2C%20%22type%22%3A%20%22Point%22%7D%2C%20%22id%22%3A%20%222019-12-24T10%3A17%3A16.000000000%22%2C%20%22properties%22%3A%20%7B%7D%2C%20%22type%22%3A%20%22Feature%22%7D%2C%20%7B%22bbox%22%3A%20%5B150.783605619308%2C%20-32.69078191746371%2C%20150.783605619308%2C%20-32.69078191746371%5D%2C%20%22geometry%22%3A%20%7B%22coordinates%22%3A%20%5B150.783605619308%2C%20-32.69078191746371%5D%2C%20%22type%22%3A%20%22Point%22%7D%2C%20%22id%22%3A%20%222019-12-24T10%3A17%3A17.000000000%22%2C%20%22properties%22%3A%20%7B%7D%2C%20%22type%22%3A%20%22Feature%22%7D%2C%20%7B%22bbox%22%3A%20%5B150.7942746192811%2C%20-32.77199091725868%2C%20150.7942746192811%2C%20-32.77199091725868%5D%2C%20%22geometry%22%3A%20%7B%22coordinates%22%3A%20%5B150.7942746192811%2C%20-32.77199091725868%5D%2C%20%22type%22%3A%20%22Point%22%7D%2C%20%22id%22%3A%20%222019-12-24T10%3A17%3A18.000000000%22%2C%20%22properties%22%3A%20%7B%7D%2C%20%22type%22%3A%20%22Feature%22%7D%2C%20%7B%22bbox%22%3A%20%5B150.7931576192839%2C%20-32.68682291747371%2C%20150.7931576192839%2C%20-32.68682291747371%5D%2C%20%22geometry%22%3A%20%7B%22coordinates%22%3A%20%5B150.7931576192839%2C%20-32.68682291747371%5D%2C%20%22type%22%3A%20%22Point%22%7D%2C%20%22id%22%3A%20%222019-12-24T10%3A17%3A19.000000000%22%2C%20%22properties%22%3A%20%7B%7D%2C%20%22type%22%3A%20%22Feature%22%7D%2C%20%7B%22bbox%22%3A%20%5B150.8034836192578%2C%20-32.68359591748185%2C%20150.8034836192578%2C%20-32.68359591748185%5D%2C%20%22geometry%22%3A%20%7B%22coordinates%22%3A%20%5B150.8034836192578%2C%20-32.68359591748185%5D%2C%20%22type%22%3A%20%22Point%22%7D%2C%20%22id%22%3A%20%222019-12-24T10%3A17%3A21.000000000%22%2C%20%22properties%22%3A%20%7B%7D%2C%20%22type%22%3A%20%22Feature%22%7D%2C%20%7B%22bbox%22%3A%20%5B150.8064446192503%2C%20-32.77795591724362%2C%20150.8064446192503%2C%20-32.77795591724362%5D%2C%20%22geometry%22%3A%20%7B%22coordinates%22%3A%20%5B150.8064446192503%2C%20-32.77795591724362%5D%2C%20%22type%22%3A%20%22Point%22%7D%2C%20%22id%22%3A%20%222019-12-24T10%3A17%3A21.000000000%22%2C%20%22properties%22%3A%20%7B%7D%2C%20%22type%22%3A%20%22Feature%22%7D%2C%20%7B%22bbox%22%3A%20%5B150.8064466192503%2C%20-32.6920129174606%2C%20150.8064466192503%2C%20-32.6920129174606%5D%2C%20%22geometry%22%3A%20%7B%22coordinates%22%3A%20%5B150.8064466192503%2C%20-32.6920129174606%5D%2C%20%22type%22%3A%20%22Point%22%7D%2C%20%22id%22%3A%20%222019-12-24T10%3A17%3A22.000000000%22%2C%20%22properties%22%3A%20%7B%7D%2C%20%22type%22%3A%20%22Feature%22%7D%2C%20%7B%22bbox%22%3A%20%5B150.8186786192194%2C%20-32.6979949174455%2C%20150.8186786192194%2C%20-32.6979949174455%5D%2C%20%22geometry%22%3A%20%7B%22coordinates%22%3A%20%5B150.8186786192194%2C%20-32.6979949174455%5D%2C%20%22type%22%3A%20%22Point%22%7D%2C%20%22id%22%3A%20%222019-12-24T10%3A17%3A25.000000000%22%2C%20%22properties%22%3A%20%7B%7D%2C%20%22type%22%3A%20%22Feature%22%7D%2C%20%7B%22bbox%22%3A%20%5B150.8233306192077%2C%20-32.71556291740114%2C%20150.8233306192077%2C%20-32.71556291740114%5D%2C%20%22geometry%22%3A%20%7B%22coordinates%22%3A%20%5B150.8233306192077%2C%20-32.71556291740114%5D%2C%20%22type%22%3A%20%22Point%22%7D%2C%20%22id%22%3A%20%222019-12-24T10%3A17%3A26.000000000%22%2C%20%22properties%22%3A%20%7B%7D%2C%20%22type%22%3A%20%22Feature%22%7D%2C%20%7B%22bbox%22%3A%20%5B150.8215776192121%2C%20-32.70639591742429%2C%20150.8215776192121%2C%20-32.70639591742429%5D%2C%20%22geometry%22%3A%20%7B%22coordinates%22%3A%20%5B150.8215776192121%2C%20-32.70639591742429%5D%2C%20%22type%22%3A%20%22Point%22%7D%2C%20%22id%22%3A%20%222019-12-24T10%3A17%3A26.000000000%22%2C%20%22properties%22%3A%20%7B%7D%2C%20%22type%22%3A%20%22Feature%22%7D%2C%20%7B%22bbox%22%3A%20%5B150.831907619186%2C%20-32.70317091743243%2C%20150.831907619186%2C%20-32.70317091743243%5D%2C%20%22geometry%22%3A%20%7B%22coordinates%22%3A%20%5B150.831907619186%2C%20-32.70317091743243%5D%2C%20%22type%22%3A%20%22Point%22%7D%2C%20%22id%22%3A%20%222019-12-24T10%3A17%3A28.000000000%22%2C%20%22properties%22%3A%20%7B%7D%2C%20%22type%22%3A%20%22Feature%22%7D%2C%20%7B%22bbox%22%3A%20%5B150.8412916191623%2C%20-32.73828391734378%2C%20150.8412916191623%2C%20-32.73828391734378%5D%2C%20%22geometry%22%3A%20%7B%22coordinates%22%3A%20%5B150.8412916191623%2C%20-32.73828391734378%5D%2C%20%22type%22%3A%20%22Point%22%7D%2C%20%22id%22%3A%20%222019-12-24T10%3A17%3A29.000000000%22%2C%20%22properties%22%3A%20%7B%7D%2C%20%22type%22%3A%20%22Feature%22%7D%2C%20%7B%22bbox%22%3A%20%5B150.8479726191455%2C%20-32.76507791727613%2C%20150.8479726191455%2C%20-32.76507791727613%5D%2C%20%22geometry%22%3A%20%7B%22coordinates%22%3A%20%5B150.8479726191455%2C%20-32.76507791727613%5D%2C%20%22type%22%3A%20%22Point%22%7D%2C%20%22id%22%3A%20%222019-12-24T10%3A17%3A31.000000000%22%2C%20%22properties%22%3A%20%7B%7D%2C%20%22type%22%3A%20%22Feature%22%7D%2C%20%7B%22bbox%22%3A%20%5B150.8423546191597%2C%20-32.69999591744045%2C%20150.8423546191597%2C%20-32.69999591744045%5D%2C%20%22geometry%22%3A%20%7B%22coordinates%22%3A%20%5B150.8423546191597%2C%20-32.69999591744045%5D%2C%20%22type%22%3A%20%22Point%22%7D%2C%20%22id%22%3A%20%222019-12-24T10%3A17%3A31.000000000%22%2C%20%22properties%22%3A%20%7B%7D%2C%20%22type%22%3A%20%22Feature%22%7D%2C%20%7B%22bbox%22%3A%20%5B150.9546526188761%2C%20-32.74199191733442%2C%20150.9546526188761%2C%20-32.74199191733442%5D%2C%20%22geometry%22%3A%20%7B%22coordinates%22%3A%20%5B150.9546526188761%2C%20-32.74199191733442%5D%2C%20%22type%22%3A%20%22Point%22%7D%2C%20%22id%22%3A%20%222019-12-24T10%3A17%3A57.000000000%22%2C%20%22properties%22%3A%20%7B%7D%2C%20%22type%22%3A%20%22Feature%22%7D%2C%20%7B%22bbox%22%3A%20%5B150.96499761885%2C%20-32.73887891734228%2C%20150.96499761885%2C%20-32.73887891734228%5D%2C%20%22geometry%22%3A%20%7B%22coordinates%22%3A%20%5B150.96499761885%2C%20-32.73887891734228%5D%2C%20%22type%22%3A%20%22Point%22%7D%2C%20%22id%22%3A%20%222019-12-24T10%3A17%3A59.000000000%22%2C%20%22properties%22%3A%20%7B%7D%2C%20%22type%22%3A%20%22Feature%22%7D%2C%20%7B%22bbox%22%3A%20%5B150.9754246188237%2C%20-32.73580591735004%2C%20150.9754246188237%2C%20-32.73580591735004%5D%2C%20%22geometry%22%3A%20%7B%22coordinates%22%3A%20%5B150.9754246188237%2C%20-32.73580591735004%5D%2C%20%22type%22%3A%20%22Point%22%7D%2C%20%22id%22%3A%20%222019-12-24T10%3A18%3A02.000000000%22%2C%20%22properties%22%3A%20%7B%7D%2C%20%22type%22%3A%20%22Feature%22%7D%2C%20%7B%22bbox%22%3A%20%5B150.9858546187974%2C%20-32.73274691735776%2C%20150.9858546187974%2C%20-32.73274691735776%5D%2C%20%22geometry%22%3A%20%7B%22coordinates%22%3A%20%5B150.9858546187974%2C%20-32.73274691735776%5D%2C%20%22type%22%3A%20%22Point%22%7D%2C%20%22id%22%3A%20%222019-12-24T10%3A18%3A04.000000000%22%2C%20%22properties%22%3A%20%7B%7D%2C%20%22type%22%3A%20%22Feature%22%7D%2C%20%7B%22bbox%22%3A%20%5B151.0115416187325%2C%20-32.74424791732872%2C%20151.0115416187325%2C%20-32.74424791732872%5D%2C%20%22geometry%22%3A%20%7B%22coordinates%22%3A%20%5B151.0115416187325%2C%20-32.74424791732872%5D%2C%20%22type%22%3A%20%22Point%22%7D%2C%20%22id%22%3A%20%222019-12-24T10%3A18%3A09.000000000%22%2C%20%22properties%22%3A%20%7B%7D%2C%20%22type%22%3A%20%22Feature%22%7D%2C%20%7B%22bbox%22%3A%20%5B150.8670786190972%2C%20-30.49951192299613%2C%20150.8670786190972%2C%20-30.49951192299613%5D%2C%20%22geometry%22%3A%20%7B%22coordinates%22%3A%20%5B150.8670786190972%2C%20-30.49951192299613%5D%2C%20%22type%22%3A%20%22Point%22%7D%2C%20%22id%22%3A%20%222019-12-24T10%3A18%3A12.000000000%22%2C%20%22properties%22%3A%20%7B%7D%2C%20%22type%22%3A%20%22Feature%22%7D%2C%20%7B%22bbox%22%3A%20%5B150.8670786190972%2C%20-30.49951192299613%2C%20150.8670786190972%2C%20-30.49951192299613%5D%2C%20%22geometry%22%3A%20%7B%22coordinates%22%3A%20%5B150.8670786190972%2C%20-30.49951192299613%5D%2C%20%22type%22%3A%20%22Point%22%7D%2C%20%22id%22%3A%20%222019-12-24T10%3A18%3A12.000000000%22%2C%20%22properties%22%3A%20%7B%7D%2C%20%22type%22%3A%20%22Feature%22%7D%2C%20%7B%22bbox%22%3A%20%5B150.8718286190852%2C%20-30.51706792295181%2C%20150.8718286190852%2C%20-30.51706792295181%5D%2C%20%22geometry%22%3A%20%7B%22coordinates%22%3A%20%5B150.8718286190852%2C%20-30.51706792295181%5D%2C%20%22type%22%3A%20%22Point%22%7D%2C%20%22id%22%3A%20%222019-12-24T10%3A18%3A12.000000000%22%2C%20%22properties%22%3A%20%7B%7D%2C%20%22type%22%3A%20%22Feature%22%7D%2C%20%7B%22bbox%22%3A%20%5B151.0219136187063%2C%20-32.74119391733643%2C%20151.0219136187063%2C%20-32.74119391733643%5D%2C%20%22geometry%22%3A%20%7B%22coordinates%22%3A%20%5B151.0219136187063%2C%20-32.74119391733643%5D%2C%20%22type%22%3A%20%22Point%22%7D%2C%20%22id%22%3A%20%222019-12-24T10%3A18%3A12.000000000%22%2C%20%22properties%22%3A%20%7B%7D%2C%20%22type%22%3A%20%22Feature%22%7D%2C%20%7B%22bbox%22%3A%20%5B150.8773266190714%2C%20-30.49695792300258%2C%20150.8773266190714%2C%20-30.49695792300258%5D%2C%20%22geometry%22%3A%20%7B%22coordinates%22%3A%20%5B150.8773266190714%2C%20-30.49695792300258%5D%2C%20%22type%22%3A%20%22Point%22%7D%2C%20%22id%22%3A%20%222019-12-24T10%3A18%3A14.000000000%22%2C%20%22properties%22%3A%20%7B%7D%2C%20%22type%22%3A%20%22Feature%22%7D%2C%20%7B%22bbox%22%3A%20%5B150.8820686190594%2C%20-30.51450392295828%2C%20150.8820686190594%2C%20-30.51450392295828%5D%2C%20%22geometry%22%3A%20%7B%22coordinates%22%3A%20%5B150.8820686190594%2C%20-30.51450392295828%5D%2C%20%22type%22%3A%20%22Point%22%7D%2C%20%22id%22%3A%20%222019-12-24T10%3A18%3A14.000000000%22%2C%20%22properties%22%3A%20%7B%7D%2C%20%22type%22%3A%20%22Feature%22%7D%2C%20%7B%22bbox%22%3A%20%5B150.8793736190662%2C%20-30.50572792298044%2C%20150.8793736190662%2C%20-30.50572792298044%5D%2C%20%22geometry%22%3A%20%7B%22coordinates%22%3A%20%5B150.8793736190662%2C%20-30.50572792298044%5D%2C%20%22type%22%3A%20%22Point%22%7D%2C%20%22id%22%3A%20%222019-12-24T10%3A18%3A15.000000000%22%2C%20%22properties%22%3A%20%7B%7D%2C%20%22type%22%3A%20%22Feature%22%7D%2C%20%7B%22bbox%22%3A%20%5B150.8943326190284%2C%20-30.52072892294257%2C%20150.8943326190284%2C%20-30.52072892294257%5D%2C%20%22geometry%22%3A%20%7B%22coordinates%22%3A%20%5B150.8943326190284%2C%20-30.52072892294257%5D%2C%20%22type%22%3A%20%22Point%22%7D%2C%20%22id%22%3A%20%222019-12-24T10%3A18%3A17.000000000%22%2C%20%22properties%22%3A%20%7B%7D%2C%20%22type%22%3A%20%22Feature%22%7D%2C%20%7B%22bbox%22%3A%20%5B150.8922576190337%2C%20-30.51194592296474%2C%20150.8922576190337%2C%20-30.51194592296474%5D%2C%20%22geometry%22%3A%20%7B%22coordinates%22%3A%20%5B150.8922576190337%2C%20-30.51194592296474%5D%2C%20%22type%22%3A%20%22Point%22%7D%2C%20%22id%22%3A%20%222019-12-24T10%3A18%3A17.000000000%22%2C%20%22properties%22%3A%20%7B%7D%2C%20%22type%22%3A%20%22Feature%22%7D%2C%20%7B%22bbox%22%3A%20%5B150.8896176190403%2C%20-30.5031689229869%2C%20150.8896176190403%2C%20-30.5031689229869%5D%2C%20%22geometry%22%3A%20%7B%22coordinates%22%3A%20%5B150.8896176190403%2C%20-30.5031689229869%5D%2C%20%22type%22%3A%20%22Point%22%7D%2C%20%22id%22%3A%20%222019-12-24T10%3A18%3A17.000000000%22%2C%20%22properties%22%3A%20%7B%7D%2C%20%22type%22%3A%20%22Feature%22%7D%2C%20%7B%22bbox%22%3A%20%5B150.8875806190455%2C%20-30.49441892300899%2C%20150.8875806190455%2C%20-30.49441892300899%5D%2C%20%22geometry%22%3A%20%7B%22coordinates%22%3A%20%5B150.8875806190455%2C%20-30.49441892300899%5D%2C%20%22type%22%3A%20%22Point%22%7D%2C%20%22id%22%3A%20%222019-12-24T10%3A18%3A17.000000000%22%2C%20%22properties%22%3A%20%7B%7D%2C%20%22type%22%3A%20%22Feature%22%7D%2C%20%7B%22bbox%22%3A%20%5B150.9024006190081%2C%20-30.50935892297127%2C%20150.9024006190081%2C%20-30.50935892297127%5D%2C%20%22geometry%22%3A%20%7B%22coordinates%22%3A%20%5B150.9024006190081%2C%20-30.50935892297127%5D%2C%20%22type%22%3A%20%22Point%22%7D%2C%20%22id%22%3A%20%222019-12-24T10%3A18%3A19.000000000%22%2C%20%22properties%22%3A%20%7B%7D%2C%20%22type%22%3A%20%22Feature%22%7D%2C%20%7B%22bbox%22%3A%20%5B150.8997746190147%2C%20-30.50058692299342%2C%20150.8997746190147%2C%20-30.50058692299342%5D%2C%20%22geometry%22%3A%20%7B%22coordinates%22%3A%20%5B150.8997746190147%2C%20-30.50058692299342%5D%2C%20%22type%22%3A%20%22Point%22%7D%2C%20%22id%22%3A%20%222019-12-24T10%3A18%3A19.000000000%22%2C%20%22properties%22%3A%20%7B%7D%2C%20%22type%22%3A%20%22Feature%22%7D%2C%20%7B%22bbox%22%3A%20%5B150.8977206190199%2C%20-30.49183192301552%2C%20150.8977206190199%2C%20-30.49183192301552%5D%2C%20%22geometry%22%3A%20%7B%22coordinates%22%3A%20%5B150.8977206190199%2C%20-30.49183192301552%5D%2C%20%22type%22%3A%20%22Point%22%7D%2C%20%22id%22%3A%20%222019-12-24T10%3A18%3A19.000000000%22%2C%20%22properties%22%3A%20%7B%7D%2C%20%22type%22%3A%20%22Feature%22%7D%2C%20%7B%22bbox%22%3A%20%5B150.904416619003%2C%20-30.51807992294925%2C%20150.904416619003%2C%20-30.51807992294925%5D%2C%20%22geometry%22%3A%20%7B%22coordinates%22%3A%20%5B150.904416619003%2C%20-30.51807992294925%5D%2C%20%22type%22%3A%20%22Point%22%7D%2C%20%22id%22%3A%20%222019-12-24T10%3A18%3A20.000000000%22%2C%20%22properties%22%3A%20%7B%7D%2C%20%22type%22%3A%20%22Feature%22%7D%2C%20%7B%22bbox%22%3A%20%5B150.9803816188112%2C%20-31.60890392019519%2C%20150.9803816188112%2C%20-31.60890392019519%5D%2C%20%22geometry%22%3A%20%7B%22coordinates%22%3A%20%5B150.9803816188112%2C%20-31.60890392019519%5D%2C%20%22type%22%3A%20%22Point%22%7D%2C%20%22id%22%3A%20%222019-12-24T10%3A18%3A21.000000000%22%2C%20%22properties%22%3A%20%7B%7D%2C%20%22type%22%3A%20%22Feature%22%7D%2C%20%7B%22bbox%22%3A%20%5B150.9145726189773%2C%20-30.51545892295587%2C%20150.9145726189773%2C%20-30.51545892295587%5D%2C%20%22geometry%22%3A%20%7B%22coordinates%22%3A%20%5B150.9145726189773%2C%20-30.51545892295587%5D%2C%20%22type%22%3A%20%22Point%22%7D%2C%20%22id%22%3A%20%222019-12-24T10%3A18%3A22.000000000%22%2C%20%22properties%22%3A%20%7B%7D%2C%20%22type%22%3A%20%22Feature%22%7D%2C%20%7B%22bbox%22%3A%20%5B151.1628716183504%2C%20-32.76733691727043%2C%20151.1628716183504%2C%20-32.76733691727043%5D%2C%20%22geometry%22%3A%20%7B%22coordinates%22%3A%20%5B151.1628716183504%2C%20-32.76733691727043%5D%2C%20%22type%22%3A%20%22Point%22%7D%2C%20%22id%22%3A%20%222019-12-24T10%3A18%3A45.000000000%22%2C%20%22properties%22%3A%20%7B%7D%2C%20%22type%22%3A%20%22Feature%22%7D%2C%20%7B%22bbox%22%3A%20%5B151.1659226183427%2C%20-32.77586791724889%2C%20151.1659226183427%2C%20-32.77586791724889%5D%2C%20%22geometry%22%3A%20%7B%22coordinates%22%3A%20%5B151.1659226183427%2C%20-32.77586791724889%5D%2C%20%22type%22%3A%20%22Point%22%7D%2C%20%22id%22%3A%20%222019-12-24T10%3A18%3A45.000000000%22%2C%20%22properties%22%3A%20%7B%7D%2C%20%22type%22%3A%20%22Feature%22%7D%2C%20%7B%22bbox%22%3A%20%5B151.1679136183377%2C%20-32.78496191722593%2C%20151.1679136183377%2C%20-32.78496191722593%5D%2C%20%22geometry%22%3A%20%7B%22coordinates%22%3A%20%5B151.1679136183377%2C%20-32.78496191722593%5D%2C%20%22type%22%3A%20%22Point%22%7D%2C%20%22id%22%3A%20%222019-12-24T10%3A18%3A46.000000000%22%2C%20%22properties%22%3A%20%7B%7D%2C%20%22type%22%3A%20%22Feature%22%7D%2C%20%7B%22bbox%22%3A%20%5B151.1730746183247%2C%20-32.76431491727806%2C%20151.1730746183247%2C%20-32.76431491727806%5D%2C%20%22geometry%22%3A%20%7B%22coordinates%22%3A%20%5B151.1730746183247%2C%20-32.76431491727806%5D%2C%20%22type%22%3A%20%22Point%22%7D%2C%20%22id%22%3A%20%222019-12-24T10%3A18%3A47.000000000%22%2C%20%22properties%22%3A%20%7B%7D%2C%20%22type%22%3A%20%22Feature%22%7D%2C%20%7B%22bbox%22%3A%20%5B151.1996326182576%2C%20-31.40176492071816%2C%20151.1996326182576%2C%20-31.40176492071816%5D%2C%20%22geometry%22%3A%20%7B%22coordinates%22%3A%20%5B151.1996326182576%2C%20-31.40176492071816%5D%2C%20%22type%22%3A%20%22Point%22%7D%2C%20%22id%22%3A%20%222019-12-24T10%3A19%3A15.000000000%22%2C%20%22properties%22%3A%20%7B%7D%2C%20%22type%22%3A%20%22Feature%22%7D%2C%20%7B%22bbox%22%3A%20%5B151.202258618251%2C%20-31.41061792069581%2C%20151.202258618251%2C%20-31.41061792069581%5D%2C%20%22geometry%22%3A%20%7B%22coordinates%22%3A%20%5B151.202258618251%2C%20-31.41061792069581%5D%2C%20%22type%22%3A%20%22Point%22%7D%2C%20%22id%22%3A%20%222019-12-24T10%3A19%3A16.000000000%22%2C%20%22properties%22%3A%20%7B%7D%2C%20%22type%22%3A%20%22Feature%22%7D%2C%20%7B%22bbox%22%3A%20%5B151.2100156182314%2C%20-31.3992969207244%2C%20151.2100156182314%2C%20-31.3992969207244%5D%2C%20%22geometry%22%3A%20%7B%22coordinates%22%3A%20%5B151.2100156182314%2C%20-31.3992969207244%5D%2C%20%22type%22%3A%20%22Point%22%7D%2C%20%22id%22%3A%20%222019-12-24T10%3A19%3A18.000000000%22%2C%20%22properties%22%3A%20%7B%7D%2C%20%22type%22%3A%20%22Feature%22%7D%2C%20%7B%22bbox%22%3A%20%5B151.2125816182249%2C%20-31.40810092070217%2C%20151.2125816182249%2C%20-31.40810092070217%5D%2C%20%22geometry%22%3A%20%7B%22coordinates%22%3A%20%5B151.2125816182249%2C%20-31.40810092070217%5D%2C%20%22type%22%3A%20%22Point%22%7D%2C%20%22id%22%3A%20%222019-12-24T10%3A19%3A19.000000000%22%2C%20%22properties%22%3A%20%7B%7D%2C%20%22type%22%3A%20%22Feature%22%7D%2C%20%7B%22bbox%22%3A%20%5B151.2100836182312%2C%20-31.36159592081958%2C%20151.2100836182312%2C%20-31.36159592081958%5D%2C%20%22geometry%22%3A%20%7B%22coordinates%22%3A%20%5B151.2100836182312%2C%20-31.36159592081958%5D%2C%20%22type%22%3A%20%22Point%22%7D%2C%20%22id%22%3A%20%222019-12-24T10%3A19%3A19.000000000%22%2C%20%22properties%22%3A%20%7B%7D%2C%20%22type%22%3A%20%22Feature%22%7D%2C%20%7B%22bbox%22%3A%20%5B151.220493618205%2C%20-31.39693692073035%2C%20151.220493618205%2C%20-31.39693692073035%5D%2C%20%22geometry%22%3A%20%7B%22coordinates%22%3A%20%5B151.220493618205%2C%20-31.39693692073035%5D%2C%20%22type%22%3A%20%22Point%22%7D%2C%20%22id%22%3A%20%222019-12-24T10%3A19%3A20.000000000%22%2C%20%22properties%22%3A%20%7B%7D%2C%20%22type%22%3A%20%22Feature%22%7D%2C%20%7B%22bbox%22%3A%20%5B151.2230976181984%2C%20-31.40578892070801%2C%20151.2230976181984%2C%20-31.40578892070801%5D%2C%20%22geometry%22%3A%20%7B%22coordinates%22%3A%20%5B151.2230976181984%2C%20-31.40578892070801%5D%2C%20%22type%22%3A%20%22Point%22%7D%2C%20%22id%22%3A%20%222019-12-24T10%3A19%3A21.000000000%22%2C%20%22properties%22%3A%20%7B%7D%2C%20%22type%22%3A%20%22Feature%22%7D%2C%20%7B%22bbox%22%3A%20%5B151.2307206181791%2C%20-31.39442592073669%2C%20151.2307206181791%2C%20-31.39442592073669%5D%2C%20%22geometry%22%3A%20%7B%22coordinates%22%3A%20%5B151.2307206181791%2C%20-31.39442592073669%5D%2C%20%22type%22%3A%20%22Point%22%7D%2C%20%22id%22%3A%20%222019-12-24T10%3A19%3A23.000000000%22%2C%20%22properties%22%3A%20%7B%7D%2C%20%22type%22%3A%20%22Feature%22%7D%2C%20%7B%22bbox%22%3A%20%5B151.2334886181721%2C%20-31.40336392071413%2C%20151.2334886181721%2C%20-31.40336392071413%5D%2C%20%22geometry%22%3A%20%7B%22coordinates%22%3A%20%5B151.2334886181721%2C%20-31.40336392071413%5D%2C%20%22type%22%3A%20%22Point%22%7D%2C%20%22id%22%3A%20%222019-12-24T10%3A19%3A24.000000000%22%2C%20%22properties%22%3A%20%7B%7D%2C%20%22type%22%3A%20%22Feature%22%7D%2C%20%7B%22bbox%22%3A%20%5B151.243859618146%2C%20-31.40093192072027%2C%20151.243859618146%2C%20-31.40093192072027%5D%2C%20%22geometry%22%3A%20%7B%22coordinates%22%3A%20%5B151.243859618146%2C%20-31.40093192072027%5D%2C%20%22type%22%3A%20%22Point%22%7D%2C%20%22id%22%3A%20%222019-12-24T10%3A19%3A26.000000000%22%2C%20%22properties%22%3A%20%7B%7D%2C%20%22type%22%3A%20%22Feature%22%7D%2C%20%7B%22bbox%22%3A%20%5B151.3585866178563%2C%20-32.14070091885253%2C%20151.3585866178563%2C%20-32.14070091885253%5D%2C%20%22geometry%22%3A%20%7B%22coordinates%22%3A%20%5B151.3585866178563%2C%20-32.14070091885253%5D%2C%20%22type%22%3A%20%22Point%22%7D%2C%20%22id%22%3A%20%222019-12-24T10%3A19%3A41.000000000%22%2C%20%22properties%22%3A%20%7B%7D%2C%20%22type%22%3A%20%22Feature%22%7D%2C%20%7B%22bbox%22%3A%20%5B151.3110656179763%2C%20-31.32816992090397%2C%20151.3110656179763%2C%20-31.32816992090397%5D%2C%20%22geometry%22%3A%20%7B%22coordinates%22%3A%20%5B151.3110656179763%2C%20-31.32816992090397%5D%2C%20%22type%22%3A%20%22Point%22%7D%2C%20%22id%22%3A%20%222019-12-24T10%3A19%3A43.000000000%22%2C%20%22properties%22%3A%20%7B%7D%2C%20%22type%22%3A%20%22Feature%22%7D%2C%20%7B%22bbox%22%3A%20%5B151.3214156179502%2C%20-31.32580692090994%2C%20151.3214156179502%2C%20-31.32580692090994%5D%2C%20%22geometry%22%3A%20%7B%22coordinates%22%3A%20%5B151.3214156179502%2C%20-31.32580692090994%5D%2C%20%22type%22%3A%20%22Point%22%7D%2C%20%22id%22%3A%20%222019-12-24T10%3A19%3A46.000000000%22%2C%20%22properties%22%3A%20%7B%7D%2C%20%22type%22%3A%20%22Feature%22%7D%2C%20%7B%22bbox%22%3A%20%5B151.3346566179167%2C%20-31.45353192058747%2C%20151.3346566179167%2C%20-31.45353192058747%5D%2C%20%22geometry%22%3A%20%7B%22coordinates%22%3A%20%5B151.3346566179167%2C%20-31.45353192058747%5D%2C%20%22type%22%3A%20%22Point%22%7D%2C%20%22id%22%3A%20%222019-12-24T10%3A19%3A47.000000000%22%2C%20%22properties%22%3A%20%7B%7D%2C%20%22type%22%3A%20%22Feature%22%7D%2C%20%7B%22bbox%22%3A%20%5B151.3851476177892%2C%20-32.11568991891568%2C%20151.3851476177892%2C%20-32.11568991891568%5D%2C%20%22geometry%22%3A%20%7B%22coordinates%22%3A%20%5B151.3851476177892%2C%20-32.11568991891568%5D%2C%20%22type%22%3A%20%22Point%22%7D%2C%20%22id%22%3A%20%222019-12-24T10%3A19%3A48.000000000%22%2C%20%22properties%22%3A%20%7B%7D%2C%20%22type%22%3A%20%22Feature%22%7D%2C%20%7B%22bbox%22%3A%20%5B151.3450806178904%2C%20-31.45123492059327%2C%20151.3450806178904%2C%20-31.45123492059327%5D%2C%20%22geometry%22%3A%20%7B%22coordinates%22%3A%20%5B151.3450806178904%2C%20-31.45123492059327%5D%2C%20%22type%22%3A%20%22Point%22%7D%2C%20%22id%22%3A%20%222019-12-24T10%3A19%3A49.000000000%22%2C%20%22properties%22%3A%20%7B%7D%2C%20%22type%22%3A%20%22Feature%22%7D%2C%20%7B%22bbox%22%3A%20%5B151.6580876171001%2C%20-31.54959992034492%2C%20151.6580876171001%2C%20-31.54959992034492%5D%2C%20%22geometry%22%3A%20%7B%22coordinates%22%3A%20%5B151.6580876171001%2C%20-31.54959992034492%5D%2C%20%22type%22%3A%20%22Point%22%7D%2C%20%22id%22%3A%20%222019-12-24T10%3A21%3A01.000000000%22%2C%20%22properties%22%3A%20%7B%7D%2C%20%22type%22%3A%20%22Feature%22%7D%2C%20%7B%22bbox%22%3A%20%5B152.0973526159911%2C%20-31.62282192016005%2C%20152.0973526159911%2C%20-31.62282192016005%5D%2C%20%22geometry%22%3A%20%7B%22coordinates%22%3A%20%5B152.0973526159911%2C%20-31.62282192016005%5D%2C%20%22type%22%3A%20%22Point%22%7D%2C%20%22id%22%3A%20%222019-12-24T10%3A22%3A44.000000000%22%2C%20%22properties%22%3A%20%7B%7D%2C%20%22type%22%3A%20%22Feature%22%7D%2C%20%7B%22bbox%22%3A%20%5B152.1020916159791%2C%20-31.44734192060309%2C%20152.1020916159791%2C%20-31.44734192060309%5D%2C%20%22geometry%22%3A%20%7B%22coordinates%22%3A%20%5B152.1020916159791%2C%20-31.44734192060309%5D%2C%20%22type%22%3A%20%22Point%22%7D%2C%20%22id%22%3A%20%222019-12-24T10%3A22%3A48.000000000%22%2C%20%22properties%22%3A%20%7B%7D%2C%20%22type%22%3A%20%22Feature%22%7D%2C%20%7B%22bbox%22%3A%20%5B152.1049376159719%2C%20-31.45607292058105%2C%20152.1049376159719%2C%20-31.45607292058105%5D%2C%20%22geometry%22%3A%20%7B%22coordinates%22%3A%20%5B152.1049376159719%2C%20-31.45607292058105%5D%2C%20%22type%22%3A%20%22Point%22%7D%2C%20%22id%22%3A%20%222019-12-24T10%3A22%3A49.000000000%22%2C%20%22properties%22%3A%20%7B%7D%2C%20%22type%22%3A%20%22Feature%22%7D%2C%20%7B%22bbox%22%3A%20%5B152.1233296159255%2C%20-31.63688792012454%2C%20152.1233296159255%2C%20-31.63688792012454%5D%2C%20%22geometry%22%3A%20%7B%22coordinates%22%3A%20%5B152.1233296159255%2C%20-31.63688792012454%5D%2C%20%22type%22%3A%20%22Point%22%7D%2C%20%22id%22%3A%20%222019-12-24T10%3A22%3A50.000000000%22%2C%20%22properties%22%3A%20%7B%7D%2C%20%22type%22%3A%20%22Feature%22%7D%2C%20%7B%22bbox%22%3A%20%5B152.1288796159115%2C%20-31.61763492017315%2C%20152.1288796159115%2C%20-31.61763492017315%5D%2C%20%22geometry%22%3A%20%7B%22coordinates%22%3A%20%5B152.1288796159115%2C%20-31.61763492017315%5D%2C%20%22type%22%3A%20%22Point%22%7D%2C%20%22id%22%3A%20%222019-12-24T10%3A22%3A51.000000000%22%2C%20%22properties%22%3A%20%7B%7D%2C%20%22type%22%3A%20%22Feature%22%7D%2C%20%7B%22bbox%22%3A%20%5B152.1154076159455%2C%20-31.45440692058526%2C%20152.1154076159455%2C%20-31.45440692058526%5D%2C%20%22geometry%22%3A%20%7B%22coordinates%22%3A%20%5B152.1154076159455%2C%20-31.45440692058526%5D%2C%20%22type%22%3A%20%22Point%22%7D%2C%20%22id%22%3A%20%222019-12-24T10%3A22%3A51.000000000%22%2C%20%22properties%22%3A%20%7B%7D%2C%20%22type%22%3A%20%22Feature%22%7D%2C%20%7B%22bbox%22%3A%20%5B152.1393966158849%2C%20-31.61581192017775%2C%20152.1393966158849%2C%20-31.61581192017775%5D%2C%20%22geometry%22%3A%20%7B%22coordinates%22%3A%20%5B152.1393966158849%2C%20-31.61581192017775%5D%2C%20%22type%22%3A%20%22Point%22%7D%2C%20%22id%22%3A%20%222019-12-24T10%3A22%3A54.000000000%22%2C%20%22properties%22%3A%20%7B%7D%2C%20%22type%22%3A%20%22Feature%22%7D%2C%20%7B%22bbox%22%3A%20%5B152.1415386158795%2C%20-31.62471192015528%2C%20152.1415386158795%2C%20-31.62471192015528%5D%2C%20%22geometry%22%3A%20%7B%22coordinates%22%3A%20%5B152.1415386158795%2C%20-31.62471192015528%5D%2C%20%22type%22%3A%20%22Point%22%7D%2C%20%22id%22%3A%20%222019-12-24T10%3A22%3A54.000000000%22%2C%20%22properties%22%3A%20%7B%7D%2C%20%22type%22%3A%20%22Feature%22%7D%2C%20%7B%22bbox%22%3A%20%5B152.1499326158583%2C%20-31.61408292018211%2C%20152.1499326158583%2C%20-31.61408292018211%5D%2C%20%22geometry%22%3A%20%7B%22coordinates%22%3A%20%5B152.1499326158583%2C%20-31.61408292018211%5D%2C%20%22type%22%3A%20%22Point%22%7D%2C%20%22id%22%3A%20%222019-12-24T10%3A22%3A56.000000000%22%2C%20%22properties%22%3A%20%7B%7D%2C%20%22type%22%3A%20%22Feature%22%7D%2C%20%7B%22bbox%22%3A%20%5B152.1359056158938%2C%20-31.48788692050073%2C%20152.1359056158938%2C%20-31.48788692050073%5D%2C%20%22geometry%22%3A%20%7B%22coordinates%22%3A%20%5B152.1359056158938%2C%20-31.48788692050073%5D%2C%20%22type%22%3A%20%22Point%22%7D%2C%20%22id%22%3A%20%222019-12-24T10%3A22%3A56.000000000%22%2C%20%22properties%22%3A%20%7B%7D%2C%20%22type%22%3A%20%22Feature%22%7D%5D%2C%20%22type%22%3A%20%22FeatureCollection%22%7D%29%3B%0A%0A%20%20%20%20%20%20%20%20%0A%3C/script%3E onload=\"this.contentDocument.open();this.contentDocument.write(    decodeURIComponent(this.getAttribute('data-html')));this.contentDocument.close();\" allowfullscreen webkitallowfullscreen mozallowfullscreen></iframe></div></div>"
      ],
      "text/plain": [
       "<folium.folium.Map at 0x7f0a0390e3a0>"
      ]
     },
     "execution_count": 295,
     "metadata": {},
     "output_type": "execute_result"
    }
   ],
   "source": [
    "import folium\n",
    "mapa = folium.Map([-26, 132],\n",
    "                  zoom_start=4,\n",
    "                  tiles='Stamen Terrain')\n",
    "\n",
    "#points = folium.features.GeoJson(isochrons)\n",
    "#mapa.add_child(points)\n",
    "points = folium.features.GeoJson(gpd.GeoSeries.from_wkt(subset.geometry).to_json())\n",
    "mapa.add_child(points)\n",
    "mapa"
   ]
  },
  {
   "cell_type": "code",
   "execution_count": 31,
   "metadata": {},
   "outputs": [
    {
     "data": {
      "text/plain": [
       "Index(['master_count', 'slave_count', 'ratio', 'zscore',\n",
       "       'satellite_sensor_product', '2_satellite_sensor_product', 'pair'],\n",
       "      dtype='object')"
      ]
     },
     "execution_count": 31,
     "metadata": {},
     "output_type": "execute_result"
    }
   ],
   "source": [
    "satellite_sensor_product_daily.keys()"
   ]
  },
  {
   "cell_type": "markdown",
   "metadata": {},
   "source": [
    "# Results\n",
    "## Co-occurrence metrics"
   ]
  },
  {
   "cell_type": "code",
   "execution_count": 32,
   "metadata": {},
   "outputs": [],
   "source": [
    "region_alias = \"nsw\"\n",
    "output_directory = processing_parameters[\"outdir\"]\n",
    "comparison_prefix = (\n",
    "    f\"{processing_parameters['start_date'].replace('-', '')}\"\n",
    "    f\"_{processing_parameters['end_date'].replace('-', '')}\"\n",
    "    f\"_{processing_parameters['start_time'].replace(':','')}\"\n",
    "    f\"_{processing_parameters['end_time'].replace(':','')}\"\n",
    "    f\"_{region_alias}\"\n",
    ")"
   ]
  },
  {
   "cell_type": "code",
   "execution_count": 33,
   "metadata": {},
   "outputs": [],
   "source": [
    "# set the nearest distance threshold between two hotspots to confine the analysis within the distance threshold.  \n",
    "dist_threshold = 5000  # units in meters"
   ]
  },
  {
   "cell_type": "code",
   "execution_count": 34,
   "metadata": {},
   "outputs": [],
   "source": [
    "nearest_ddf_dist_subset = nearest_points_ddf[nearest_points_ddf[\"dist_m\"] < dist_threshold]"
   ]
  },
  {
   "cell_type": "code",
   "execution_count": 35,
   "metadata": {},
   "outputs": [
    {
     "data": {
      "text/html": [
       "<div>\n",
       "<style scoped>\n",
       "    .dataframe tbody tr th:only-of-type {\n",
       "        vertical-align: middle;\n",
       "    }\n",
       "\n",
       "    .dataframe tbody tr th {\n",
       "        vertical-align: top;\n",
       "    }\n",
       "\n",
       "    .dataframe thead th {\n",
       "        text-align: right;\n",
       "    }\n",
       "</style>\n",
       "<table border=\"1\" class=\"dataframe\">\n",
       "  <thead>\n",
       "    <tr style=\"text-align: right;\">\n",
       "      <th></th>\n",
       "      <th>Unnamed: 0</th>\n",
       "      <th>latitude</th>\n",
       "      <th>longitude</th>\n",
       "      <th>satellite</th>\n",
       "      <th>sensor</th>\n",
       "      <th>confidence</th>\n",
       "      <th>power</th>\n",
       "      <th>datetime</th>\n",
       "      <th>solar_day</th>\n",
       "      <th>satellite_sensor_product</th>\n",
       "      <th>...</th>\n",
       "      <th>2_power</th>\n",
       "      <th>2_datetime</th>\n",
       "      <th>2_solar_day</th>\n",
       "      <th>2_satellite_sensor_product</th>\n",
       "      <th>2_geometry</th>\n",
       "      <th>2_solar_night</th>\n",
       "      <th>dist</th>\n",
       "      <th>dist_m</th>\n",
       "      <th>timedelta</th>\n",
       "      <th>count</th>\n",
       "    </tr>\n",
       "    <tr>\n",
       "      <th>solar_night</th>\n",
       "      <th></th>\n",
       "      <th></th>\n",
       "      <th></th>\n",
       "      <th></th>\n",
       "      <th></th>\n",
       "      <th></th>\n",
       "      <th></th>\n",
       "      <th></th>\n",
       "      <th></th>\n",
       "      <th></th>\n",
       "      <th></th>\n",
       "      <th></th>\n",
       "      <th></th>\n",
       "      <th></th>\n",
       "      <th></th>\n",
       "      <th></th>\n",
       "      <th></th>\n",
       "      <th></th>\n",
       "      <th></th>\n",
       "      <th></th>\n",
       "      <th></th>\n",
       "    </tr>\n",
       "  </thead>\n",
       "  <tbody>\n",
       "    <tr>\n",
       "      <th>2019-11-01 10:01:39</th>\n",
       "      <td>219938</td>\n",
       "      <td>-29.873943</td>\n",
       "      <td>153.123579</td>\n",
       "      <td>SENTINEL_3B</td>\n",
       "      <td>SLSTR</td>\n",
       "      <td>-1.0</td>\n",
       "      <td>0.55</td>\n",
       "      <td>2019-11-01 11:49:10</td>\n",
       "      <td>2019-11-01 22:01:39</td>\n",
       "      <td>SENTINEL_3B_SLSTR_ESA</td>\n",
       "      <td>...</td>\n",
       "      <td>-1.0</td>\n",
       "      <td>2019-11-01 15:02:00</td>\n",
       "      <td>2019-11-02 01:14:34</td>\n",
       "      <td>AQUA_MODIS_LANDGATE</td>\n",
       "      <td>POINT (153.145 -29.865)</td>\n",
       "      <td>2019-11-01 13:14:34</td>\n",
       "      <td>0.023213</td>\n",
       "      <td>2294.742586</td>\n",
       "      <td>0 days 03:12:50</td>\n",
       "      <td>1</td>\n",
       "    </tr>\n",
       "    <tr>\n",
       "      <th>2019-11-01 10:01:39</th>\n",
       "      <td>96675</td>\n",
       "      <td>-29.863303</td>\n",
       "      <td>153.123948</td>\n",
       "      <td>SENTINEL_3B</td>\n",
       "      <td>SLSTR</td>\n",
       "      <td>-1.0</td>\n",
       "      <td>0.46</td>\n",
       "      <td>2019-11-01 11:49:10</td>\n",
       "      <td>2019-11-01 22:01:39</td>\n",
       "      <td>SENTINEL_3B_SLSTR_ESA</td>\n",
       "      <td>...</td>\n",
       "      <td>0.7</td>\n",
       "      <td>2019-11-01 12:28:16</td>\n",
       "      <td>2019-11-01 22:40:49</td>\n",
       "      <td>SENTINEL_3A_SLSTR_ESA</td>\n",
       "      <td>POINT (153.1385216133624 -29.86785492459092)</td>\n",
       "      <td>2019-11-01 10:40:49</td>\n",
       "      <td>0.015268</td>\n",
       "      <td>1495.762967</td>\n",
       "      <td>0 days 00:39:06</td>\n",
       "      <td>1</td>\n",
       "    </tr>\n",
       "    <tr>\n",
       "      <th>2019-11-01 10:01:39</th>\n",
       "      <td>96674</td>\n",
       "      <td>-29.873943</td>\n",
       "      <td>153.123579</td>\n",
       "      <td>SENTINEL_3B</td>\n",
       "      <td>SLSTR</td>\n",
       "      <td>-1.0</td>\n",
       "      <td>0.55</td>\n",
       "      <td>2019-11-01 11:49:10</td>\n",
       "      <td>2019-11-01 22:01:39</td>\n",
       "      <td>SENTINEL_3B_SLSTR_ESA</td>\n",
       "      <td>...</td>\n",
       "      <td>0.7</td>\n",
       "      <td>2019-11-01 12:28:16</td>\n",
       "      <td>2019-11-01 22:40:49</td>\n",
       "      <td>SENTINEL_3A_SLSTR_ESA</td>\n",
       "      <td>POINT (153.1385216133624 -29.86785492459092)</td>\n",
       "      <td>2019-11-01 10:40:49</td>\n",
       "      <td>0.016136</td>\n",
       "      <td>1593.604978</td>\n",
       "      <td>0 days 00:39:06</td>\n",
       "      <td>1</td>\n",
       "    </tr>\n",
       "    <tr>\n",
       "      <th>2019-11-01 10:01:39</th>\n",
       "      <td>96673</td>\n",
       "      <td>-29.845804</td>\n",
       "      <td>153.119394</td>\n",
       "      <td>SENTINEL_3B</td>\n",
       "      <td>SLSTR</td>\n",
       "      <td>-1.0</td>\n",
       "      <td>0.32</td>\n",
       "      <td>2019-11-01 11:49:11</td>\n",
       "      <td>2019-11-01 22:01:39</td>\n",
       "      <td>SENTINEL_3B_SLSTR_ESA</td>\n",
       "      <td>...</td>\n",
       "      <td>0.7</td>\n",
       "      <td>2019-11-01 12:28:16</td>\n",
       "      <td>2019-11-01 22:40:49</td>\n",
       "      <td>SENTINEL_3A_SLSTR_ESA</td>\n",
       "      <td>POINT (153.1385216133624 -29.86785492459092)</td>\n",
       "      <td>2019-11-01 10:40:49</td>\n",
       "      <td>0.029191</td>\n",
       "      <td>3064.446443</td>\n",
       "      <td>0 days 00:39:05</td>\n",
       "      <td>1</td>\n",
       "    </tr>\n",
       "    <tr>\n",
       "      <th>2019-11-01 10:01:39</th>\n",
       "      <td>96672</td>\n",
       "      <td>-29.863303</td>\n",
       "      <td>153.123948</td>\n",
       "      <td>SENTINEL_3B</td>\n",
       "      <td>SLSTR</td>\n",
       "      <td>-1.0</td>\n",
       "      <td>0.46</td>\n",
       "      <td>2019-11-01 11:49:10</td>\n",
       "      <td>2019-11-01 22:01:39</td>\n",
       "      <td>SENTINEL_3B_SLSTR_ESA</td>\n",
       "      <td>...</td>\n",
       "      <td>0.7</td>\n",
       "      <td>2019-11-01 12:28:16</td>\n",
       "      <td>2019-11-01 22:40:49</td>\n",
       "      <td>SENTINEL_3A_SLSTR_ESA</td>\n",
       "      <td>POINT (153.1385216133624 -29.86785492459092)</td>\n",
       "      <td>2019-11-01 10:40:49</td>\n",
       "      <td>0.015268</td>\n",
       "      <td>1495.762967</td>\n",
       "      <td>0 days 00:39:06</td>\n",
       "      <td>1</td>\n",
       "    </tr>\n",
       "    <tr>\n",
       "      <th>...</th>\n",
       "      <td>...</td>\n",
       "      <td>...</td>\n",
       "      <td>...</td>\n",
       "      <td>...</td>\n",
       "      <td>...</td>\n",
       "      <td>...</td>\n",
       "      <td>...</td>\n",
       "      <td>...</td>\n",
       "      <td>...</td>\n",
       "      <td>...</td>\n",
       "      <td>...</td>\n",
       "      <td>...</td>\n",
       "      <td>...</td>\n",
       "      <td>...</td>\n",
       "      <td>...</td>\n",
       "      <td>...</td>\n",
       "      <td>...</td>\n",
       "      <td>...</td>\n",
       "      <td>...</td>\n",
       "      <td>...</td>\n",
       "      <td>...</td>\n",
       "    </tr>\n",
       "    <tr>\n",
       "      <th>2020-10-07 12:38:27</th>\n",
       "      <td>248422</td>\n",
       "      <td>-32.316890</td>\n",
       "      <td>152.114790</td>\n",
       "      <td>NOAA 20</td>\n",
       "      <td>VIIRS</td>\n",
       "      <td>50.0</td>\n",
       "      <td>1.30</td>\n",
       "      <td>2020-10-07 14:30:00</td>\n",
       "      <td>2020-10-08 00:38:27</td>\n",
       "      <td>NOAA 20_VIIRS_NASA2.0NRT</td>\n",
       "      <td>...</td>\n",
       "      <td>1.3</td>\n",
       "      <td>2020-10-07 14:30:00</td>\n",
       "      <td>2020-10-08 00:38:27</td>\n",
       "      <td>NOAA 20_VIIRS_NASA2.0NRT</td>\n",
       "      <td>POINT (152.11479 -32.31689)</td>\n",
       "      <td>2020-10-07 12:38:27</td>\n",
       "      <td>0.000000</td>\n",
       "      <td>0.000000</td>\n",
       "      <td>0 days 00:00:00</td>\n",
       "      <td>1</td>\n",
       "    </tr>\n",
       "    <tr>\n",
       "      <th>2020-10-07 12:39:45</th>\n",
       "      <td>248424</td>\n",
       "      <td>-28.848160</td>\n",
       "      <td>152.439010</td>\n",
       "      <td>NOAA 20</td>\n",
       "      <td>VIIRS</td>\n",
       "      <td>50.0</td>\n",
       "      <td>1.00</td>\n",
       "      <td>2020-10-07 14:30:00</td>\n",
       "      <td>2020-10-08 00:39:45</td>\n",
       "      <td>NOAA 20_VIIRS_NASA2.0NRT</td>\n",
       "      <td>...</td>\n",
       "      <td>1.0</td>\n",
       "      <td>2020-10-07 14:30:00</td>\n",
       "      <td>2020-10-08 00:39:45</td>\n",
       "      <td>NOAA 20_VIIRS_NASA2.0NRT</td>\n",
       "      <td>POINT (152.43901 -28.84816)</td>\n",
       "      <td>2020-10-07 12:39:45</td>\n",
       "      <td>0.000000</td>\n",
       "      <td>0.000000</td>\n",
       "      <td>0 days 00:00:00</td>\n",
       "      <td>1</td>\n",
       "    </tr>\n",
       "    <tr>\n",
       "      <th>2020-10-07 12:39:46</th>\n",
       "      <td>248425</td>\n",
       "      <td>-28.849200</td>\n",
       "      <td>152.444310</td>\n",
       "      <td>NOAA 20</td>\n",
       "      <td>VIIRS</td>\n",
       "      <td>50.0</td>\n",
       "      <td>1.40</td>\n",
       "      <td>2020-10-07 14:30:00</td>\n",
       "      <td>2020-10-08 00:39:46</td>\n",
       "      <td>NOAA 20_VIIRS_NASA2.0NRT</td>\n",
       "      <td>...</td>\n",
       "      <td>1.4</td>\n",
       "      <td>2020-10-07 14:30:00</td>\n",
       "      <td>2020-10-08 00:39:46</td>\n",
       "      <td>NOAA 20_VIIRS_NASA2.0NRT</td>\n",
       "      <td>POINT (152.44431 -28.8492)</td>\n",
       "      <td>2020-10-07 12:39:46</td>\n",
       "      <td>0.000000</td>\n",
       "      <td>0.000000</td>\n",
       "      <td>0 days 00:00:00</td>\n",
       "      <td>1</td>\n",
       "    </tr>\n",
       "    <tr>\n",
       "      <th>2020-10-07 12:40:43</th>\n",
       "      <td>248426</td>\n",
       "      <td>-27.515420</td>\n",
       "      <td>152.682300</td>\n",
       "      <td>NOAA 20</td>\n",
       "      <td>VIIRS</td>\n",
       "      <td>50.0</td>\n",
       "      <td>0.80</td>\n",
       "      <td>2020-10-07 14:30:00</td>\n",
       "      <td>2020-10-08 00:40:43</td>\n",
       "      <td>NOAA 20_VIIRS_NASA2.0NRT</td>\n",
       "      <td>...</td>\n",
       "      <td>0.8</td>\n",
       "      <td>2020-10-07 14:30:00</td>\n",
       "      <td>2020-10-08 00:40:43</td>\n",
       "      <td>NOAA 20_VIIRS_NASA2.0NRT</td>\n",
       "      <td>POINT (152.6823 -27.51542)</td>\n",
       "      <td>2020-10-07 12:40:43</td>\n",
       "      <td>0.000000</td>\n",
       "      <td>0.000000</td>\n",
       "      <td>0 days 00:00:00</td>\n",
       "      <td>1</td>\n",
       "    </tr>\n",
       "    <tr>\n",
       "      <th>2020-10-07 14:00:22</th>\n",
       "      <td>248427</td>\n",
       "      <td>-33.131500</td>\n",
       "      <td>147.092070</td>\n",
       "      <td>NOAA 20</td>\n",
       "      <td>VIIRS</td>\n",
       "      <td>50.0</td>\n",
       "      <td>1.20</td>\n",
       "      <td>2020-10-07 16:12:00</td>\n",
       "      <td>2020-10-08 02:00:22</td>\n",
       "      <td>NOAA 20_VIIRS_NASA2.0NRT</td>\n",
       "      <td>...</td>\n",
       "      <td>1.2</td>\n",
       "      <td>2020-10-07 16:12:00</td>\n",
       "      <td>2020-10-08 02:00:22</td>\n",
       "      <td>NOAA 20_VIIRS_NASA2.0NRT</td>\n",
       "      <td>POINT (147.09207 -33.1315)</td>\n",
       "      <td>2020-10-07 14:00:22</td>\n",
       "      <td>0.000000</td>\n",
       "      <td>0.000000</td>\n",
       "      <td>0 days 00:00:00</td>\n",
       "      <td>1</td>\n",
       "    </tr>\n",
       "  </tbody>\n",
       "</table>\n",
       "<p>12545958 rows × 26 columns</p>\n",
       "</div>"
      ],
      "text/plain": [
       "                     Unnamed: 0   latitude   longitude    satellite sensor  \\\n",
       "solar_night                                                                  \n",
       "2019-11-01 10:01:39      219938 -29.873943  153.123579  SENTINEL_3B  SLSTR   \n",
       "2019-11-01 10:01:39       96675 -29.863303  153.123948  SENTINEL_3B  SLSTR   \n",
       "2019-11-01 10:01:39       96674 -29.873943  153.123579  SENTINEL_3B  SLSTR   \n",
       "2019-11-01 10:01:39       96673 -29.845804  153.119394  SENTINEL_3B  SLSTR   \n",
       "2019-11-01 10:01:39       96672 -29.863303  153.123948  SENTINEL_3B  SLSTR   \n",
       "...                         ...        ...         ...          ...    ...   \n",
       "2020-10-07 12:38:27      248422 -32.316890  152.114790      NOAA 20  VIIRS   \n",
       "2020-10-07 12:39:45      248424 -28.848160  152.439010      NOAA 20  VIIRS   \n",
       "2020-10-07 12:39:46      248425 -28.849200  152.444310      NOAA 20  VIIRS   \n",
       "2020-10-07 12:40:43      248426 -27.515420  152.682300      NOAA 20  VIIRS   \n",
       "2020-10-07 14:00:22      248427 -33.131500  147.092070      NOAA 20  VIIRS   \n",
       "\n",
       "                     confidence  power            datetime  \\\n",
       "solar_night                                                  \n",
       "2019-11-01 10:01:39        -1.0   0.55 2019-11-01 11:49:10   \n",
       "2019-11-01 10:01:39        -1.0   0.46 2019-11-01 11:49:10   \n",
       "2019-11-01 10:01:39        -1.0   0.55 2019-11-01 11:49:10   \n",
       "2019-11-01 10:01:39        -1.0   0.32 2019-11-01 11:49:11   \n",
       "2019-11-01 10:01:39        -1.0   0.46 2019-11-01 11:49:10   \n",
       "...                         ...    ...                 ...   \n",
       "2020-10-07 12:38:27        50.0   1.30 2020-10-07 14:30:00   \n",
       "2020-10-07 12:39:45        50.0   1.00 2020-10-07 14:30:00   \n",
       "2020-10-07 12:39:46        50.0   1.40 2020-10-07 14:30:00   \n",
       "2020-10-07 12:40:43        50.0   0.80 2020-10-07 14:30:00   \n",
       "2020-10-07 14:00:22        50.0   1.20 2020-10-07 16:12:00   \n",
       "\n",
       "                              solar_day  satellite_sensor_product  ...  \\\n",
       "solar_night                                                        ...   \n",
       "2019-11-01 10:01:39 2019-11-01 22:01:39     SENTINEL_3B_SLSTR_ESA  ...   \n",
       "2019-11-01 10:01:39 2019-11-01 22:01:39     SENTINEL_3B_SLSTR_ESA  ...   \n",
       "2019-11-01 10:01:39 2019-11-01 22:01:39     SENTINEL_3B_SLSTR_ESA  ...   \n",
       "2019-11-01 10:01:39 2019-11-01 22:01:39     SENTINEL_3B_SLSTR_ESA  ...   \n",
       "2019-11-01 10:01:39 2019-11-01 22:01:39     SENTINEL_3B_SLSTR_ESA  ...   \n",
       "...                                 ...                       ...  ...   \n",
       "2020-10-07 12:38:27 2020-10-08 00:38:27  NOAA 20_VIIRS_NASA2.0NRT  ...   \n",
       "2020-10-07 12:39:45 2020-10-08 00:39:45  NOAA 20_VIIRS_NASA2.0NRT  ...   \n",
       "2020-10-07 12:39:46 2020-10-08 00:39:46  NOAA 20_VIIRS_NASA2.0NRT  ...   \n",
       "2020-10-07 12:40:43 2020-10-08 00:40:43  NOAA 20_VIIRS_NASA2.0NRT  ...   \n",
       "2020-10-07 14:00:22 2020-10-08 02:00:22  NOAA 20_VIIRS_NASA2.0NRT  ...   \n",
       "\n",
       "                    2_power          2_datetime          2_solar_day  \\\n",
       "solar_night                                                            \n",
       "2019-11-01 10:01:39    -1.0 2019-11-01 15:02:00  2019-11-02 01:14:34   \n",
       "2019-11-01 10:01:39     0.7 2019-11-01 12:28:16  2019-11-01 22:40:49   \n",
       "2019-11-01 10:01:39     0.7 2019-11-01 12:28:16  2019-11-01 22:40:49   \n",
       "2019-11-01 10:01:39     0.7 2019-11-01 12:28:16  2019-11-01 22:40:49   \n",
       "2019-11-01 10:01:39     0.7 2019-11-01 12:28:16  2019-11-01 22:40:49   \n",
       "...                     ...                 ...                  ...   \n",
       "2020-10-07 12:38:27     1.3 2020-10-07 14:30:00  2020-10-08 00:38:27   \n",
       "2020-10-07 12:39:45     1.0 2020-10-07 14:30:00  2020-10-08 00:39:45   \n",
       "2020-10-07 12:39:46     1.4 2020-10-07 14:30:00  2020-10-08 00:39:46   \n",
       "2020-10-07 12:40:43     0.8 2020-10-07 14:30:00  2020-10-08 00:40:43   \n",
       "2020-10-07 14:00:22     1.2 2020-10-07 16:12:00  2020-10-08 02:00:22   \n",
       "\n",
       "                    2_satellite_sensor_product  \\\n",
       "solar_night                                      \n",
       "2019-11-01 10:01:39        AQUA_MODIS_LANDGATE   \n",
       "2019-11-01 10:01:39      SENTINEL_3A_SLSTR_ESA   \n",
       "2019-11-01 10:01:39      SENTINEL_3A_SLSTR_ESA   \n",
       "2019-11-01 10:01:39      SENTINEL_3A_SLSTR_ESA   \n",
       "2019-11-01 10:01:39      SENTINEL_3A_SLSTR_ESA   \n",
       "...                                        ...   \n",
       "2020-10-07 12:38:27   NOAA 20_VIIRS_NASA2.0NRT   \n",
       "2020-10-07 12:39:45   NOAA 20_VIIRS_NASA2.0NRT   \n",
       "2020-10-07 12:39:46   NOAA 20_VIIRS_NASA2.0NRT   \n",
       "2020-10-07 12:40:43   NOAA 20_VIIRS_NASA2.0NRT   \n",
       "2020-10-07 14:00:22   NOAA 20_VIIRS_NASA2.0NRT   \n",
       "\n",
       "                                                       2_geometry  \\\n",
       "solar_night                                                         \n",
       "2019-11-01 10:01:39                       POINT (153.145 -29.865)   \n",
       "2019-11-01 10:01:39  POINT (153.1385216133624 -29.86785492459092)   \n",
       "2019-11-01 10:01:39  POINT (153.1385216133624 -29.86785492459092)   \n",
       "2019-11-01 10:01:39  POINT (153.1385216133624 -29.86785492459092)   \n",
       "2019-11-01 10:01:39  POINT (153.1385216133624 -29.86785492459092)   \n",
       "...                                                           ...   \n",
       "2020-10-07 12:38:27                   POINT (152.11479 -32.31689)   \n",
       "2020-10-07 12:39:45                   POINT (152.43901 -28.84816)   \n",
       "2020-10-07 12:39:46                    POINT (152.44431 -28.8492)   \n",
       "2020-10-07 12:40:43                    POINT (152.6823 -27.51542)   \n",
       "2020-10-07 14:00:22                    POINT (147.09207 -33.1315)   \n",
       "\n",
       "                           2_solar_night      dist       dist_m  \\\n",
       "solar_night                                                       \n",
       "2019-11-01 10:01:39  2019-11-01 13:14:34  0.023213  2294.742586   \n",
       "2019-11-01 10:01:39  2019-11-01 10:40:49  0.015268  1495.762967   \n",
       "2019-11-01 10:01:39  2019-11-01 10:40:49  0.016136  1593.604978   \n",
       "2019-11-01 10:01:39  2019-11-01 10:40:49  0.029191  3064.446443   \n",
       "2019-11-01 10:01:39  2019-11-01 10:40:49  0.015268  1495.762967   \n",
       "...                                  ...       ...          ...   \n",
       "2020-10-07 12:38:27  2020-10-07 12:38:27  0.000000     0.000000   \n",
       "2020-10-07 12:39:45  2020-10-07 12:39:45  0.000000     0.000000   \n",
       "2020-10-07 12:39:46  2020-10-07 12:39:46  0.000000     0.000000   \n",
       "2020-10-07 12:40:43  2020-10-07 12:40:43  0.000000     0.000000   \n",
       "2020-10-07 14:00:22  2020-10-07 14:00:22  0.000000     0.000000   \n",
       "\n",
       "                          timedelta count  \n",
       "solar_night                                \n",
       "2019-11-01 10:01:39 0 days 03:12:50     1  \n",
       "2019-11-01 10:01:39 0 days 00:39:06     1  \n",
       "2019-11-01 10:01:39 0 days 00:39:06     1  \n",
       "2019-11-01 10:01:39 0 days 00:39:05     1  \n",
       "2019-11-01 10:01:39 0 days 00:39:06     1  \n",
       "...                             ...   ...  \n",
       "2020-10-07 12:38:27 0 days 00:00:00     1  \n",
       "2020-10-07 12:39:45 0 days 00:00:00     1  \n",
       "2020-10-07 12:39:46 0 days 00:00:00     1  \n",
       "2020-10-07 12:40:43 0 days 00:00:00     1  \n",
       "2020-10-07 14:00:22 0 days 00:00:00     1  \n",
       "\n",
       "[12545958 rows x 26 columns]"
      ]
     },
     "execution_count": 35,
     "metadata": {},
     "output_type": "execute_result"
    }
   ],
   "source": [
    "nearest_ddf_dist_subset"
   ]
  },
  {
   "cell_type": "code",
   "execution_count": 36,
   "metadata": {},
   "outputs": [],
   "source": [
    "numerator = util.pandas_pivot_table(\n",
    "    nearest_ddf_dist_subset,\n",
    "    index=[\"satellite_sensor_product\"],\n",
    "    columns=[\"2_satellite_sensor_product\"],\n",
    "    values=[\"count\"],\n",
    "    aggfunc={\"count\": np.sum}\n",
    "    \n",
    ")"
   ]
  },
  {
   "cell_type": "code",
   "execution_count": 37,
   "metadata": {},
   "outputs": [
    {
     "data": {
      "text/html": [
       "<div>\n",
       "<style scoped>\n",
       "    .dataframe tbody tr th:only-of-type {\n",
       "        vertical-align: middle;\n",
       "    }\n",
       "\n",
       "    .dataframe tbody tr th {\n",
       "        vertical-align: top;\n",
       "    }\n",
       "\n",
       "    .dataframe thead tr th {\n",
       "        text-align: left;\n",
       "    }\n",
       "\n",
       "    .dataframe thead tr:last-of-type th {\n",
       "        text-align: right;\n",
       "    }\n",
       "</style>\n",
       "<table border=\"1\" class=\"dataframe\">\n",
       "  <thead>\n",
       "    <tr>\n",
       "      <th></th>\n",
       "      <th colspan=\"12\" halign=\"left\">count</th>\n",
       "    </tr>\n",
       "    <tr>\n",
       "      <th>2_satellite_sensor_product</th>\n",
       "      <th>AQUA_MODIS_LANDGATE</th>\n",
       "      <th>AQUA_MODIS_NASA6.03</th>\n",
       "      <th>NOAA 20_VIIRS_LANDGATE</th>\n",
       "      <th>NOAA 20_VIIRS_NASA2.0NRT</th>\n",
       "      <th>SENTINEL_3A_SLSTR_ESA</th>\n",
       "      <th>SENTINEL_3A_SLSTR_EUMETSAT</th>\n",
       "      <th>SENTINEL_3B_SLSTR_ESA</th>\n",
       "      <th>SENTINEL_3B_SLSTR_EUMETSAT</th>\n",
       "      <th>SUOMI NPP_VIIRS_LANDGATE</th>\n",
       "      <th>SUOMI NPP_VIIRS_NASA1</th>\n",
       "      <th>TERRA_MODIS_LANDGATE</th>\n",
       "      <th>TERRA_MODIS_NASA6.03</th>\n",
       "    </tr>\n",
       "    <tr>\n",
       "      <th>satellite_sensor_product</th>\n",
       "      <th></th>\n",
       "      <th></th>\n",
       "      <th></th>\n",
       "      <th></th>\n",
       "      <th></th>\n",
       "      <th></th>\n",
       "      <th></th>\n",
       "      <th></th>\n",
       "      <th></th>\n",
       "      <th></th>\n",
       "      <th></th>\n",
       "      <th></th>\n",
       "    </tr>\n",
       "  </thead>\n",
       "  <tbody>\n",
       "    <tr>\n",
       "      <th>AQUA_MODIS_LANDGATE</th>\n",
       "      <td>104576.0</td>\n",
       "      <td>94563.0</td>\n",
       "      <td>80809.0</td>\n",
       "      <td>70349.0</td>\n",
       "      <td>14320.0</td>\n",
       "      <td>6733.0</td>\n",
       "      <td>16398.0</td>\n",
       "      <td>3087.0</td>\n",
       "      <td>90862.0</td>\n",
       "      <td>103344.0</td>\n",
       "      <td>88936.0</td>\n",
       "      <td>80168.0</td>\n",
       "    </tr>\n",
       "    <tr>\n",
       "      <th>AQUA_MODIS_NASA6.03</th>\n",
       "      <td>18483.0</td>\n",
       "      <td>21512.0</td>\n",
       "      <td>14468.0</td>\n",
       "      <td>14879.0</td>\n",
       "      <td>2430.0</td>\n",
       "      <td>1250.0</td>\n",
       "      <td>4721.0</td>\n",
       "      <td>1781.0</td>\n",
       "      <td>20105.0</td>\n",
       "      <td>21360.0</td>\n",
       "      <td>17897.0</td>\n",
       "      <td>16149.0</td>\n",
       "    </tr>\n",
       "    <tr>\n",
       "      <th>NOAA 20_VIIRS_LANDGATE</th>\n",
       "      <td>300398.0</td>\n",
       "      <td>276722.0</td>\n",
       "      <td>416082.0</td>\n",
       "      <td>310605.0</td>\n",
       "      <td>58000.0</td>\n",
       "      <td>26352.0</td>\n",
       "      <td>69551.0</td>\n",
       "      <td>35207.0</td>\n",
       "      <td>339646.0</td>\n",
       "      <td>388019.0</td>\n",
       "      <td>345165.0</td>\n",
       "      <td>310715.0</td>\n",
       "    </tr>\n",
       "    <tr>\n",
       "      <th>NOAA 20_VIIRS_NASA2.0NRT</th>\n",
       "      <td>165927.0</td>\n",
       "      <td>163821.0</td>\n",
       "      <td>199234.0</td>\n",
       "      <td>248428.0</td>\n",
       "      <td>23453.0</td>\n",
       "      <td>23610.0</td>\n",
       "      <td>30998.0</td>\n",
       "      <td>31364.0</td>\n",
       "      <td>213186.0</td>\n",
       "      <td>230393.0</td>\n",
       "      <td>199289.0</td>\n",
       "      <td>177348.0</td>\n",
       "    </tr>\n",
       "    <tr>\n",
       "      <th>SENTINEL_3A_SLSTR_ESA</th>\n",
       "      <td>11333.0</td>\n",
       "      <td>9507.0</td>\n",
       "      <td>14530.0</td>\n",
       "      <td>8136.0</td>\n",
       "      <td>19121.0</td>\n",
       "      <td>9287.0</td>\n",
       "      <td>34.0</td>\n",
       "      <td>NaN</td>\n",
       "      <td>13367.0</td>\n",
       "      <td>18320.0</td>\n",
       "      <td>15328.0</td>\n",
       "      <td>13267.0</td>\n",
       "    </tr>\n",
       "    <tr>\n",
       "      <th>SENTINEL_3A_SLSTR_EUMETSAT</th>\n",
       "      <td>5032.0</td>\n",
       "      <td>4592.0</td>\n",
       "      <td>7035.0</td>\n",
       "      <td>8231.0</td>\n",
       "      <td>9267.0</td>\n",
       "      <td>9406.0</td>\n",
       "      <td>NaN</td>\n",
       "      <td>NaN</td>\n",
       "      <td>8176.0</td>\n",
       "      <td>8830.0</td>\n",
       "      <td>7872.0</td>\n",
       "      <td>6852.0</td>\n",
       "    </tr>\n",
       "    <tr>\n",
       "      <th>SENTINEL_3B_SLSTR_ESA</th>\n",
       "      <td>14561.0</td>\n",
       "      <td>16081.0</td>\n",
       "      <td>20948.0</td>\n",
       "      <td>13489.0</td>\n",
       "      <td>66.0</td>\n",
       "      <td>NaN</td>\n",
       "      <td>27853.0</td>\n",
       "      <td>15550.0</td>\n",
       "      <td>21869.0</td>\n",
       "      <td>26212.0</td>\n",
       "      <td>22719.0</td>\n",
       "      <td>20394.0</td>\n",
       "    </tr>\n",
       "    <tr>\n",
       "      <th>SENTINEL_3B_SLSTR_EUMETSAT</th>\n",
       "      <td>5235.0</td>\n",
       "      <td>7600.0</td>\n",
       "      <td>10497.0</td>\n",
       "      <td>13758.0</td>\n",
       "      <td>NaN</td>\n",
       "      <td>NaN</td>\n",
       "      <td>15532.0</td>\n",
       "      <td>15907.0</td>\n",
       "      <td>12010.0</td>\n",
       "      <td>14237.0</td>\n",
       "      <td>13296.0</td>\n",
       "      <td>11914.0</td>\n",
       "    </tr>\n",
       "    <tr>\n",
       "      <th>SUOMI NPP_VIIRS_LANDGATE</th>\n",
       "      <td>356982.0</td>\n",
       "      <td>343408.0</td>\n",
       "      <td>353341.0</td>\n",
       "      <td>331389.0</td>\n",
       "      <td>50880.0</td>\n",
       "      <td>34523.0</td>\n",
       "      <td>94166.0</td>\n",
       "      <td>42210.0</td>\n",
       "      <td>466759.0</td>\n",
       "      <td>446228.0</td>\n",
       "      <td>381335.0</td>\n",
       "      <td>341708.0</td>\n",
       "    </tr>\n",
       "    <tr>\n",
       "      <th>SUOMI NPP_VIIRS_NASA1</th>\n",
       "      <td>250393.0</td>\n",
       "      <td>238800.0</td>\n",
       "      <td>271257.0</td>\n",
       "      <td>233410.0</td>\n",
       "      <td>49846.0</td>\n",
       "      <td>25463.0</td>\n",
       "      <td>68875.0</td>\n",
       "      <td>33306.0</td>\n",
       "      <td>313044.0</td>\n",
       "      <td>350945.0</td>\n",
       "      <td>288733.0</td>\n",
       "      <td>257930.0</td>\n",
       "    </tr>\n",
       "    <tr>\n",
       "      <th>TERRA_MODIS_LANDGATE</th>\n",
       "      <td>66963.0</td>\n",
       "      <td>58536.0</td>\n",
       "      <td>81333.0</td>\n",
       "      <td>71929.0</td>\n",
       "      <td>17185.0</td>\n",
       "      <td>9347.0</td>\n",
       "      <td>16613.0</td>\n",
       "      <td>11724.0</td>\n",
       "      <td>80448.0</td>\n",
       "      <td>97206.0</td>\n",
       "      <td>100950.0</td>\n",
       "      <td>95346.0</td>\n",
       "    </tr>\n",
       "    <tr>\n",
       "      <th>TERRA_MODIS_NASA6.03</th>\n",
       "      <td>18265.0</td>\n",
       "      <td>16342.0</td>\n",
       "      <td>22077.0</td>\n",
       "      <td>19416.0</td>\n",
       "      <td>4313.0</td>\n",
       "      <td>2408.0</td>\n",
       "      <td>4625.0</td>\n",
       "      <td>2874.0</td>\n",
       "      <td>22239.0</td>\n",
       "      <td>26511.0</td>\n",
       "      <td>27155.0</td>\n",
       "      <td>27278.0</td>\n",
       "    </tr>\n",
       "  </tbody>\n",
       "</table>\n",
       "</div>"
      ],
      "text/plain": [
       "                                         count                      \\\n",
       "2_satellite_sensor_product AQUA_MODIS_LANDGATE AQUA_MODIS_NASA6.03   \n",
       "satellite_sensor_product                                             \n",
       "AQUA_MODIS_LANDGATE                   104576.0             94563.0   \n",
       "AQUA_MODIS_NASA6.03                    18483.0             21512.0   \n",
       "NOAA 20_VIIRS_LANDGATE                300398.0            276722.0   \n",
       "NOAA 20_VIIRS_NASA2.0NRT              165927.0            163821.0   \n",
       "SENTINEL_3A_SLSTR_ESA                  11333.0              9507.0   \n",
       "SENTINEL_3A_SLSTR_EUMETSAT              5032.0              4592.0   \n",
       "SENTINEL_3B_SLSTR_ESA                  14561.0             16081.0   \n",
       "SENTINEL_3B_SLSTR_EUMETSAT              5235.0              7600.0   \n",
       "SUOMI NPP_VIIRS_LANDGATE              356982.0            343408.0   \n",
       "SUOMI NPP_VIIRS_NASA1                 250393.0            238800.0   \n",
       "TERRA_MODIS_LANDGATE                   66963.0             58536.0   \n",
       "TERRA_MODIS_NASA6.03                   18265.0             16342.0   \n",
       "\n",
       "                                                                            \\\n",
       "2_satellite_sensor_product NOAA 20_VIIRS_LANDGATE NOAA 20_VIIRS_NASA2.0NRT   \n",
       "satellite_sensor_product                                                     \n",
       "AQUA_MODIS_LANDGATE                       80809.0                  70349.0   \n",
       "AQUA_MODIS_NASA6.03                       14468.0                  14879.0   \n",
       "NOAA 20_VIIRS_LANDGATE                   416082.0                 310605.0   \n",
       "NOAA 20_VIIRS_NASA2.0NRT                 199234.0                 248428.0   \n",
       "SENTINEL_3A_SLSTR_ESA                     14530.0                   8136.0   \n",
       "SENTINEL_3A_SLSTR_EUMETSAT                 7035.0                   8231.0   \n",
       "SENTINEL_3B_SLSTR_ESA                     20948.0                  13489.0   \n",
       "SENTINEL_3B_SLSTR_EUMETSAT                10497.0                  13758.0   \n",
       "SUOMI NPP_VIIRS_LANDGATE                 353341.0                 331389.0   \n",
       "SUOMI NPP_VIIRS_NASA1                    271257.0                 233410.0   \n",
       "TERRA_MODIS_LANDGATE                      81333.0                  71929.0   \n",
       "TERRA_MODIS_NASA6.03                      22077.0                  19416.0   \n",
       "\n",
       "                                                                             \\\n",
       "2_satellite_sensor_product SENTINEL_3A_SLSTR_ESA SENTINEL_3A_SLSTR_EUMETSAT   \n",
       "satellite_sensor_product                                                      \n",
       "AQUA_MODIS_LANDGATE                      14320.0                     6733.0   \n",
       "AQUA_MODIS_NASA6.03                       2430.0                     1250.0   \n",
       "NOAA 20_VIIRS_LANDGATE                   58000.0                    26352.0   \n",
       "NOAA 20_VIIRS_NASA2.0NRT                 23453.0                    23610.0   \n",
       "SENTINEL_3A_SLSTR_ESA                    19121.0                     9287.0   \n",
       "SENTINEL_3A_SLSTR_EUMETSAT                9267.0                     9406.0   \n",
       "SENTINEL_3B_SLSTR_ESA                       66.0                        NaN   \n",
       "SENTINEL_3B_SLSTR_EUMETSAT                   NaN                        NaN   \n",
       "SUOMI NPP_VIIRS_LANDGATE                 50880.0                    34523.0   \n",
       "SUOMI NPP_VIIRS_NASA1                    49846.0                    25463.0   \n",
       "TERRA_MODIS_LANDGATE                     17185.0                     9347.0   \n",
       "TERRA_MODIS_NASA6.03                      4313.0                     2408.0   \n",
       "\n",
       "                                                                             \\\n",
       "2_satellite_sensor_product SENTINEL_3B_SLSTR_ESA SENTINEL_3B_SLSTR_EUMETSAT   \n",
       "satellite_sensor_product                                                      \n",
       "AQUA_MODIS_LANDGATE                      16398.0                     3087.0   \n",
       "AQUA_MODIS_NASA6.03                       4721.0                     1781.0   \n",
       "NOAA 20_VIIRS_LANDGATE                   69551.0                    35207.0   \n",
       "NOAA 20_VIIRS_NASA2.0NRT                 30998.0                    31364.0   \n",
       "SENTINEL_3A_SLSTR_ESA                       34.0                        NaN   \n",
       "SENTINEL_3A_SLSTR_EUMETSAT                   NaN                        NaN   \n",
       "SENTINEL_3B_SLSTR_ESA                    27853.0                    15550.0   \n",
       "SENTINEL_3B_SLSTR_EUMETSAT               15532.0                    15907.0   \n",
       "SUOMI NPP_VIIRS_LANDGATE                 94166.0                    42210.0   \n",
       "SUOMI NPP_VIIRS_NASA1                    68875.0                    33306.0   \n",
       "TERRA_MODIS_LANDGATE                     16613.0                    11724.0   \n",
       "TERRA_MODIS_NASA6.03                      4625.0                     2874.0   \n",
       "\n",
       "                                                                           \\\n",
       "2_satellite_sensor_product SUOMI NPP_VIIRS_LANDGATE SUOMI NPP_VIIRS_NASA1   \n",
       "satellite_sensor_product                                                    \n",
       "AQUA_MODIS_LANDGATE                         90862.0              103344.0   \n",
       "AQUA_MODIS_NASA6.03                         20105.0               21360.0   \n",
       "NOAA 20_VIIRS_LANDGATE                     339646.0              388019.0   \n",
       "NOAA 20_VIIRS_NASA2.0NRT                   213186.0              230393.0   \n",
       "SENTINEL_3A_SLSTR_ESA                       13367.0               18320.0   \n",
       "SENTINEL_3A_SLSTR_EUMETSAT                   8176.0                8830.0   \n",
       "SENTINEL_3B_SLSTR_ESA                       21869.0               26212.0   \n",
       "SENTINEL_3B_SLSTR_EUMETSAT                  12010.0               14237.0   \n",
       "SUOMI NPP_VIIRS_LANDGATE                   466759.0              446228.0   \n",
       "SUOMI NPP_VIIRS_NASA1                      313044.0              350945.0   \n",
       "TERRA_MODIS_LANDGATE                        80448.0               97206.0   \n",
       "TERRA_MODIS_NASA6.03                        22239.0               26511.0   \n",
       "\n",
       "                                                                      \n",
       "2_satellite_sensor_product TERRA_MODIS_LANDGATE TERRA_MODIS_NASA6.03  \n",
       "satellite_sensor_product                                              \n",
       "AQUA_MODIS_LANDGATE                     88936.0              80168.0  \n",
       "AQUA_MODIS_NASA6.03                     17897.0              16149.0  \n",
       "NOAA 20_VIIRS_LANDGATE                 345165.0             310715.0  \n",
       "NOAA 20_VIIRS_NASA2.0NRT               199289.0             177348.0  \n",
       "SENTINEL_3A_SLSTR_ESA                   15328.0              13267.0  \n",
       "SENTINEL_3A_SLSTR_EUMETSAT               7872.0               6852.0  \n",
       "SENTINEL_3B_SLSTR_ESA                   22719.0              20394.0  \n",
       "SENTINEL_3B_SLSTR_EUMETSAT              13296.0              11914.0  \n",
       "SUOMI NPP_VIIRS_LANDGATE               381335.0             341708.0  \n",
       "SUOMI NPP_VIIRS_NASA1                  288733.0             257930.0  \n",
       "TERRA_MODIS_LANDGATE                   100950.0              95346.0  \n",
       "TERRA_MODIS_NASA6.03                    27155.0              27278.0  "
      ]
     },
     "execution_count": 37,
     "metadata": {},
     "output_type": "execute_result"
    }
   ],
   "source": [
    "numerator.to_csv(output_directory.joinpath(f\"{comparison_prefix}_matches_{dist_threshold}.csv\"))\n",
    "numerator"
   ]
  },
  {
   "cell_type": "code",
   "execution_count": 38,
   "metadata": {},
   "outputs": [],
   "source": [
    "denominator = util.pandas_pivot_table(\n",
    "    nearest_points_ddf,\n",
    "    index=[\"satellite_sensor_product\"],\n",
    "    columns=[\"2_satellite_sensor_product\"],\n",
    "    values=[\"count\"],\n",
    "    aggfunc={\"count\": np.sum}\n",
    "    \n",
    ")"
   ]
  },
  {
   "cell_type": "code",
   "execution_count": 39,
   "metadata": {},
   "outputs": [
    {
     "data": {
      "text/html": [
       "<div>\n",
       "<style scoped>\n",
       "    .dataframe tbody tr th:only-of-type {\n",
       "        vertical-align: middle;\n",
       "    }\n",
       "\n",
       "    .dataframe tbody tr th {\n",
       "        vertical-align: top;\n",
       "    }\n",
       "\n",
       "    .dataframe thead tr th {\n",
       "        text-align: left;\n",
       "    }\n",
       "\n",
       "    .dataframe thead tr:last-of-type th {\n",
       "        text-align: right;\n",
       "    }\n",
       "</style>\n",
       "<table border=\"1\" class=\"dataframe\">\n",
       "  <thead>\n",
       "    <tr>\n",
       "      <th></th>\n",
       "      <th colspan=\"12\" halign=\"left\">count</th>\n",
       "    </tr>\n",
       "    <tr>\n",
       "      <th>2_satellite_sensor_product</th>\n",
       "      <th>AQUA_MODIS_LANDGATE</th>\n",
       "      <th>AQUA_MODIS_NASA6.03</th>\n",
       "      <th>NOAA 20_VIIRS_LANDGATE</th>\n",
       "      <th>NOAA 20_VIIRS_NASA2.0NRT</th>\n",
       "      <th>SENTINEL_3A_SLSTR_ESA</th>\n",
       "      <th>SENTINEL_3A_SLSTR_EUMETSAT</th>\n",
       "      <th>SENTINEL_3B_SLSTR_ESA</th>\n",
       "      <th>SENTINEL_3B_SLSTR_EUMETSAT</th>\n",
       "      <th>SUOMI NPP_VIIRS_LANDGATE</th>\n",
       "      <th>SUOMI NPP_VIIRS_NASA1</th>\n",
       "      <th>TERRA_MODIS_LANDGATE</th>\n",
       "      <th>TERRA_MODIS_NASA6.03</th>\n",
       "    </tr>\n",
       "    <tr>\n",
       "      <th>satellite_sensor_product</th>\n",
       "      <th></th>\n",
       "      <th></th>\n",
       "      <th></th>\n",
       "      <th></th>\n",
       "      <th></th>\n",
       "      <th></th>\n",
       "      <th></th>\n",
       "      <th></th>\n",
       "      <th></th>\n",
       "      <th></th>\n",
       "      <th></th>\n",
       "      <th></th>\n",
       "    </tr>\n",
       "  </thead>\n",
       "  <tbody>\n",
       "    <tr>\n",
       "      <th>AQUA_MODIS_LANDGATE</th>\n",
       "      <td>104576.0</td>\n",
       "      <td>103922.0</td>\n",
       "      <td>104100.0</td>\n",
       "      <td>70815.0</td>\n",
       "      <td>16034.0</td>\n",
       "      <td>7910.0</td>\n",
       "      <td>17430.0</td>\n",
       "      <td>3873.0</td>\n",
       "      <td>101413.0</td>\n",
       "      <td>104080.0</td>\n",
       "      <td>102225.0</td>\n",
       "      <td>101758.0</td>\n",
       "    </tr>\n",
       "    <tr>\n",
       "      <th>AQUA_MODIS_NASA6.03</th>\n",
       "      <td>19932.0</td>\n",
       "      <td>21512.0</td>\n",
       "      <td>20617.0</td>\n",
       "      <td>14956.0</td>\n",
       "      <td>2786.0</td>\n",
       "      <td>1506.0</td>\n",
       "      <td>5155.0</td>\n",
       "      <td>2170.0</td>\n",
       "      <td>21321.0</td>\n",
       "      <td>21498.0</td>\n",
       "      <td>20764.0</td>\n",
       "      <td>20755.0</td>\n",
       "    </tr>\n",
       "    <tr>\n",
       "      <th>NOAA 20_VIIRS_LANDGATE</th>\n",
       "      <td>374549.0</td>\n",
       "      <td>365744.0</td>\n",
       "      <td>416082.0</td>\n",
       "      <td>311977.0</td>\n",
       "      <td>62654.0</td>\n",
       "      <td>29562.0</td>\n",
       "      <td>78336.0</td>\n",
       "      <td>43669.0</td>\n",
       "      <td>397998.0</td>\n",
       "      <td>398067.0</td>\n",
       "      <td>411240.0</td>\n",
       "      <td>397569.0</td>\n",
       "    </tr>\n",
       "    <tr>\n",
       "      <th>NOAA 20_VIIRS_NASA2.0NRT</th>\n",
       "      <td>223206.0</td>\n",
       "      <td>226415.0</td>\n",
       "      <td>238970.0</td>\n",
       "      <td>248428.0</td>\n",
       "      <td>26635.0</td>\n",
       "      <td>26853.0</td>\n",
       "      <td>37880.0</td>\n",
       "      <td>38392.0</td>\n",
       "      <td>247119.0</td>\n",
       "      <td>239827.0</td>\n",
       "      <td>243981.0</td>\n",
       "      <td>237708.0</td>\n",
       "    </tr>\n",
       "    <tr>\n",
       "      <th>SENTINEL_3A_SLSTR_ESA</th>\n",
       "      <td>15697.0</td>\n",
       "      <td>16323.0</td>\n",
       "      <td>17744.0</td>\n",
       "      <td>8531.0</td>\n",
       "      <td>19121.0</td>\n",
       "      <td>9297.0</td>\n",
       "      <td>88.0</td>\n",
       "      <td>NaN</td>\n",
       "      <td>14919.0</td>\n",
       "      <td>19121.0</td>\n",
       "      <td>18108.0</td>\n",
       "      <td>18108.0</td>\n",
       "    </tr>\n",
       "    <tr>\n",
       "      <th>SENTINEL_3A_SLSTR_EUMETSAT</th>\n",
       "      <td>7264.0</td>\n",
       "      <td>8016.0</td>\n",
       "      <td>8591.0</td>\n",
       "      <td>8641.0</td>\n",
       "      <td>9267.0</td>\n",
       "      <td>9406.0</td>\n",
       "      <td>NaN</td>\n",
       "      <td>NaN</td>\n",
       "      <td>9028.0</td>\n",
       "      <td>9267.0</td>\n",
       "      <td>8986.0</td>\n",
       "      <td>8897.0</td>\n",
       "    </tr>\n",
       "    <tr>\n",
       "      <th>SENTINEL_3B_SLSTR_ESA</th>\n",
       "      <td>23301.0</td>\n",
       "      <td>26502.0</td>\n",
       "      <td>24165.0</td>\n",
       "      <td>14557.0</td>\n",
       "      <td>68.0</td>\n",
       "      <td>NaN</td>\n",
       "      <td>27853.0</td>\n",
       "      <td>15556.0</td>\n",
       "      <td>27853.0</td>\n",
       "      <td>27853.0</td>\n",
       "      <td>27772.0</td>\n",
       "      <td>27759.0</td>\n",
       "    </tr>\n",
       "    <tr>\n",
       "      <th>SENTINEL_3B_SLSTR_EUMETSAT</th>\n",
       "      <td>12413.0</td>\n",
       "      <td>15324.0</td>\n",
       "      <td>12402.0</td>\n",
       "      <td>14909.0</td>\n",
       "      <td>NaN</td>\n",
       "      <td>NaN</td>\n",
       "      <td>15532.0</td>\n",
       "      <td>15907.0</td>\n",
       "      <td>15859.0</td>\n",
       "      <td>15532.0</td>\n",
       "      <td>15807.0</td>\n",
       "      <td>15506.0</td>\n",
       "    </tr>\n",
       "    <tr>\n",
       "      <th>SUOMI NPP_VIIRS_LANDGATE</th>\n",
       "      <td>425530.0</td>\n",
       "      <td>427020.0</td>\n",
       "      <td>454945.0</td>\n",
       "      <td>340453.0</td>\n",
       "      <td>58290.0</td>\n",
       "      <td>39981.0</td>\n",
       "      <td>102192.0</td>\n",
       "      <td>49584.0</td>\n",
       "      <td>466759.0</td>\n",
       "      <td>446928.0</td>\n",
       "      <td>456338.0</td>\n",
       "      <td>441797.0</td>\n",
       "    </tr>\n",
       "    <tr>\n",
       "      <th>SUOMI NPP_VIIRS_NASA1</th>\n",
       "      <td>315970.0</td>\n",
       "      <td>327532.0</td>\n",
       "      <td>341159.0</td>\n",
       "      <td>240569.0</td>\n",
       "      <td>55922.0</td>\n",
       "      <td>28938.0</td>\n",
       "      <td>75775.0</td>\n",
       "      <td>39384.0</td>\n",
       "      <td>338697.0</td>\n",
       "      <td>350945.0</td>\n",
       "      <td>345405.0</td>\n",
       "      <td>344537.0</td>\n",
       "    </tr>\n",
       "    <tr>\n",
       "      <th>TERRA_MODIS_LANDGATE</th>\n",
       "      <td>88004.0</td>\n",
       "      <td>89697.0</td>\n",
       "      <td>99240.0</td>\n",
       "      <td>73997.0</td>\n",
       "      <td>18074.0</td>\n",
       "      <td>9782.0</td>\n",
       "      <td>17452.0</td>\n",
       "      <td>12542.0</td>\n",
       "      <td>93863.0</td>\n",
       "      <td>100004.0</td>\n",
       "      <td>100950.0</td>\n",
       "      <td>100093.0</td>\n",
       "    </tr>\n",
       "    <tr>\n",
       "      <th>TERRA_MODIS_NASA6.03</th>\n",
       "      <td>23804.0</td>\n",
       "      <td>24311.0</td>\n",
       "      <td>26815.0</td>\n",
       "      <td>20032.0</td>\n",
       "      <td>4517.0</td>\n",
       "      <td>2512.0</td>\n",
       "      <td>4819.0</td>\n",
       "      <td>3061.0</td>\n",
       "      <td>25581.0</td>\n",
       "      <td>27210.0</td>\n",
       "      <td>27275.0</td>\n",
       "      <td>27278.0</td>\n",
       "    </tr>\n",
       "  </tbody>\n",
       "</table>\n",
       "</div>"
      ],
      "text/plain": [
       "                                         count                      \\\n",
       "2_satellite_sensor_product AQUA_MODIS_LANDGATE AQUA_MODIS_NASA6.03   \n",
       "satellite_sensor_product                                             \n",
       "AQUA_MODIS_LANDGATE                   104576.0            103922.0   \n",
       "AQUA_MODIS_NASA6.03                    19932.0             21512.0   \n",
       "NOAA 20_VIIRS_LANDGATE                374549.0            365744.0   \n",
       "NOAA 20_VIIRS_NASA2.0NRT              223206.0            226415.0   \n",
       "SENTINEL_3A_SLSTR_ESA                  15697.0             16323.0   \n",
       "SENTINEL_3A_SLSTR_EUMETSAT              7264.0              8016.0   \n",
       "SENTINEL_3B_SLSTR_ESA                  23301.0             26502.0   \n",
       "SENTINEL_3B_SLSTR_EUMETSAT             12413.0             15324.0   \n",
       "SUOMI NPP_VIIRS_LANDGATE              425530.0            427020.0   \n",
       "SUOMI NPP_VIIRS_NASA1                 315970.0            327532.0   \n",
       "TERRA_MODIS_LANDGATE                   88004.0             89697.0   \n",
       "TERRA_MODIS_NASA6.03                   23804.0             24311.0   \n",
       "\n",
       "                                                                            \\\n",
       "2_satellite_sensor_product NOAA 20_VIIRS_LANDGATE NOAA 20_VIIRS_NASA2.0NRT   \n",
       "satellite_sensor_product                                                     \n",
       "AQUA_MODIS_LANDGATE                      104100.0                  70815.0   \n",
       "AQUA_MODIS_NASA6.03                       20617.0                  14956.0   \n",
       "NOAA 20_VIIRS_LANDGATE                   416082.0                 311977.0   \n",
       "NOAA 20_VIIRS_NASA2.0NRT                 238970.0                 248428.0   \n",
       "SENTINEL_3A_SLSTR_ESA                     17744.0                   8531.0   \n",
       "SENTINEL_3A_SLSTR_EUMETSAT                 8591.0                   8641.0   \n",
       "SENTINEL_3B_SLSTR_ESA                     24165.0                  14557.0   \n",
       "SENTINEL_3B_SLSTR_EUMETSAT                12402.0                  14909.0   \n",
       "SUOMI NPP_VIIRS_LANDGATE                 454945.0                 340453.0   \n",
       "SUOMI NPP_VIIRS_NASA1                    341159.0                 240569.0   \n",
       "TERRA_MODIS_LANDGATE                      99240.0                  73997.0   \n",
       "TERRA_MODIS_NASA6.03                      26815.0                  20032.0   \n",
       "\n",
       "                                                                             \\\n",
       "2_satellite_sensor_product SENTINEL_3A_SLSTR_ESA SENTINEL_3A_SLSTR_EUMETSAT   \n",
       "satellite_sensor_product                                                      \n",
       "AQUA_MODIS_LANDGATE                      16034.0                     7910.0   \n",
       "AQUA_MODIS_NASA6.03                       2786.0                     1506.0   \n",
       "NOAA 20_VIIRS_LANDGATE                   62654.0                    29562.0   \n",
       "NOAA 20_VIIRS_NASA2.0NRT                 26635.0                    26853.0   \n",
       "SENTINEL_3A_SLSTR_ESA                    19121.0                     9297.0   \n",
       "SENTINEL_3A_SLSTR_EUMETSAT                9267.0                     9406.0   \n",
       "SENTINEL_3B_SLSTR_ESA                       68.0                        NaN   \n",
       "SENTINEL_3B_SLSTR_EUMETSAT                   NaN                        NaN   \n",
       "SUOMI NPP_VIIRS_LANDGATE                 58290.0                    39981.0   \n",
       "SUOMI NPP_VIIRS_NASA1                    55922.0                    28938.0   \n",
       "TERRA_MODIS_LANDGATE                     18074.0                     9782.0   \n",
       "TERRA_MODIS_NASA6.03                      4517.0                     2512.0   \n",
       "\n",
       "                                                                             \\\n",
       "2_satellite_sensor_product SENTINEL_3B_SLSTR_ESA SENTINEL_3B_SLSTR_EUMETSAT   \n",
       "satellite_sensor_product                                                      \n",
       "AQUA_MODIS_LANDGATE                      17430.0                     3873.0   \n",
       "AQUA_MODIS_NASA6.03                       5155.0                     2170.0   \n",
       "NOAA 20_VIIRS_LANDGATE                   78336.0                    43669.0   \n",
       "NOAA 20_VIIRS_NASA2.0NRT                 37880.0                    38392.0   \n",
       "SENTINEL_3A_SLSTR_ESA                       88.0                        NaN   \n",
       "SENTINEL_3A_SLSTR_EUMETSAT                   NaN                        NaN   \n",
       "SENTINEL_3B_SLSTR_ESA                    27853.0                    15556.0   \n",
       "SENTINEL_3B_SLSTR_EUMETSAT               15532.0                    15907.0   \n",
       "SUOMI NPP_VIIRS_LANDGATE                102192.0                    49584.0   \n",
       "SUOMI NPP_VIIRS_NASA1                    75775.0                    39384.0   \n",
       "TERRA_MODIS_LANDGATE                     17452.0                    12542.0   \n",
       "TERRA_MODIS_NASA6.03                      4819.0                     3061.0   \n",
       "\n",
       "                                                                           \\\n",
       "2_satellite_sensor_product SUOMI NPP_VIIRS_LANDGATE SUOMI NPP_VIIRS_NASA1   \n",
       "satellite_sensor_product                                                    \n",
       "AQUA_MODIS_LANDGATE                        101413.0              104080.0   \n",
       "AQUA_MODIS_NASA6.03                         21321.0               21498.0   \n",
       "NOAA 20_VIIRS_LANDGATE                     397998.0              398067.0   \n",
       "NOAA 20_VIIRS_NASA2.0NRT                   247119.0              239827.0   \n",
       "SENTINEL_3A_SLSTR_ESA                       14919.0               19121.0   \n",
       "SENTINEL_3A_SLSTR_EUMETSAT                   9028.0                9267.0   \n",
       "SENTINEL_3B_SLSTR_ESA                       27853.0               27853.0   \n",
       "SENTINEL_3B_SLSTR_EUMETSAT                  15859.0               15532.0   \n",
       "SUOMI NPP_VIIRS_LANDGATE                   466759.0              446928.0   \n",
       "SUOMI NPP_VIIRS_NASA1                      338697.0              350945.0   \n",
       "TERRA_MODIS_LANDGATE                        93863.0              100004.0   \n",
       "TERRA_MODIS_NASA6.03                        25581.0               27210.0   \n",
       "\n",
       "                                                                      \n",
       "2_satellite_sensor_product TERRA_MODIS_LANDGATE TERRA_MODIS_NASA6.03  \n",
       "satellite_sensor_product                                              \n",
       "AQUA_MODIS_LANDGATE                    102225.0             101758.0  \n",
       "AQUA_MODIS_NASA6.03                     20764.0              20755.0  \n",
       "NOAA 20_VIIRS_LANDGATE                 411240.0             397569.0  \n",
       "NOAA 20_VIIRS_NASA2.0NRT               243981.0             237708.0  \n",
       "SENTINEL_3A_SLSTR_ESA                   18108.0              18108.0  \n",
       "SENTINEL_3A_SLSTR_EUMETSAT               8986.0               8897.0  \n",
       "SENTINEL_3B_SLSTR_ESA                   27772.0              27759.0  \n",
       "SENTINEL_3B_SLSTR_EUMETSAT              15807.0              15506.0  \n",
       "SUOMI NPP_VIIRS_LANDGATE               456338.0             441797.0  \n",
       "SUOMI NPP_VIIRS_NASA1                  345405.0             344537.0  \n",
       "TERRA_MODIS_LANDGATE                   100950.0             100093.0  \n",
       "TERRA_MODIS_NASA6.03                    27275.0              27278.0  "
      ]
     },
     "execution_count": 39,
     "metadata": {},
     "output_type": "execute_result"
    }
   ],
   "source": [
    "denominator.to_csv(output_directory.joinpath(f\"{comparison_prefix}_matches_count.csv\"))\n",
    "denominator"
   ]
  },
  {
   "cell_type": "code",
   "execution_count": 40,
   "metadata": {},
   "outputs": [],
   "source": [
    "# Difference of matched points closer than 5000m\n",
    "difference = denominator - numerator"
   ]
  },
  {
   "cell_type": "code",
   "execution_count": 41,
   "metadata": {},
   "outputs": [
    {
     "data": {
      "text/html": [
       "<div>\n",
       "<style scoped>\n",
       "    .dataframe tbody tr th:only-of-type {\n",
       "        vertical-align: middle;\n",
       "    }\n",
       "\n",
       "    .dataframe tbody tr th {\n",
       "        vertical-align: top;\n",
       "    }\n",
       "\n",
       "    .dataframe thead tr th {\n",
       "        text-align: left;\n",
       "    }\n",
       "\n",
       "    .dataframe thead tr:last-of-type th {\n",
       "        text-align: right;\n",
       "    }\n",
       "</style>\n",
       "<table border=\"1\" class=\"dataframe\">\n",
       "  <thead>\n",
       "    <tr>\n",
       "      <th></th>\n",
       "      <th colspan=\"12\" halign=\"left\">count</th>\n",
       "    </tr>\n",
       "    <tr>\n",
       "      <th>2_satellite_sensor_product</th>\n",
       "      <th>AQUA_MODIS_LANDGATE</th>\n",
       "      <th>AQUA_MODIS_NASA6.03</th>\n",
       "      <th>NOAA 20_VIIRS_LANDGATE</th>\n",
       "      <th>NOAA 20_VIIRS_NASA2.0NRT</th>\n",
       "      <th>SENTINEL_3A_SLSTR_ESA</th>\n",
       "      <th>SENTINEL_3A_SLSTR_EUMETSAT</th>\n",
       "      <th>SENTINEL_3B_SLSTR_ESA</th>\n",
       "      <th>SENTINEL_3B_SLSTR_EUMETSAT</th>\n",
       "      <th>SUOMI NPP_VIIRS_LANDGATE</th>\n",
       "      <th>SUOMI NPP_VIIRS_NASA1</th>\n",
       "      <th>TERRA_MODIS_LANDGATE</th>\n",
       "      <th>TERRA_MODIS_NASA6.03</th>\n",
       "    </tr>\n",
       "    <tr>\n",
       "      <th>satellite_sensor_product</th>\n",
       "      <th></th>\n",
       "      <th></th>\n",
       "      <th></th>\n",
       "      <th></th>\n",
       "      <th></th>\n",
       "      <th></th>\n",
       "      <th></th>\n",
       "      <th></th>\n",
       "      <th></th>\n",
       "      <th></th>\n",
       "      <th></th>\n",
       "      <th></th>\n",
       "    </tr>\n",
       "  </thead>\n",
       "  <tbody>\n",
       "    <tr>\n",
       "      <th>AQUA_MODIS_LANDGATE</th>\n",
       "      <td>0.0</td>\n",
       "      <td>9359.0</td>\n",
       "      <td>23291.0</td>\n",
       "      <td>466.0</td>\n",
       "      <td>1714.0</td>\n",
       "      <td>1177.0</td>\n",
       "      <td>1032.0</td>\n",
       "      <td>786.0</td>\n",
       "      <td>10551.0</td>\n",
       "      <td>736.0</td>\n",
       "      <td>13289.0</td>\n",
       "      <td>21590.0</td>\n",
       "    </tr>\n",
       "    <tr>\n",
       "      <th>AQUA_MODIS_NASA6.03</th>\n",
       "      <td>1449.0</td>\n",
       "      <td>0.0</td>\n",
       "      <td>6149.0</td>\n",
       "      <td>77.0</td>\n",
       "      <td>356.0</td>\n",
       "      <td>256.0</td>\n",
       "      <td>434.0</td>\n",
       "      <td>389.0</td>\n",
       "      <td>1216.0</td>\n",
       "      <td>138.0</td>\n",
       "      <td>2867.0</td>\n",
       "      <td>4606.0</td>\n",
       "    </tr>\n",
       "    <tr>\n",
       "      <th>NOAA 20_VIIRS_LANDGATE</th>\n",
       "      <td>74151.0</td>\n",
       "      <td>89022.0</td>\n",
       "      <td>0.0</td>\n",
       "      <td>1372.0</td>\n",
       "      <td>4654.0</td>\n",
       "      <td>3210.0</td>\n",
       "      <td>8785.0</td>\n",
       "      <td>8462.0</td>\n",
       "      <td>58352.0</td>\n",
       "      <td>10048.0</td>\n",
       "      <td>66075.0</td>\n",
       "      <td>86854.0</td>\n",
       "    </tr>\n",
       "    <tr>\n",
       "      <th>NOAA 20_VIIRS_NASA2.0NRT</th>\n",
       "      <td>57279.0</td>\n",
       "      <td>62594.0</td>\n",
       "      <td>39736.0</td>\n",
       "      <td>0.0</td>\n",
       "      <td>3182.0</td>\n",
       "      <td>3243.0</td>\n",
       "      <td>6882.0</td>\n",
       "      <td>7028.0</td>\n",
       "      <td>33933.0</td>\n",
       "      <td>9434.0</td>\n",
       "      <td>44692.0</td>\n",
       "      <td>60360.0</td>\n",
       "    </tr>\n",
       "    <tr>\n",
       "      <th>SENTINEL_3A_SLSTR_ESA</th>\n",
       "      <td>4364.0</td>\n",
       "      <td>6816.0</td>\n",
       "      <td>3214.0</td>\n",
       "      <td>395.0</td>\n",
       "      <td>0.0</td>\n",
       "      <td>10.0</td>\n",
       "      <td>54.0</td>\n",
       "      <td>NaN</td>\n",
       "      <td>1552.0</td>\n",
       "      <td>801.0</td>\n",
       "      <td>2780.0</td>\n",
       "      <td>4841.0</td>\n",
       "    </tr>\n",
       "    <tr>\n",
       "      <th>SENTINEL_3A_SLSTR_EUMETSAT</th>\n",
       "      <td>2232.0</td>\n",
       "      <td>3424.0</td>\n",
       "      <td>1556.0</td>\n",
       "      <td>410.0</td>\n",
       "      <td>0.0</td>\n",
       "      <td>0.0</td>\n",
       "      <td>NaN</td>\n",
       "      <td>NaN</td>\n",
       "      <td>852.0</td>\n",
       "      <td>437.0</td>\n",
       "      <td>1114.0</td>\n",
       "      <td>2045.0</td>\n",
       "    </tr>\n",
       "    <tr>\n",
       "      <th>SENTINEL_3B_SLSTR_ESA</th>\n",
       "      <td>8740.0</td>\n",
       "      <td>10421.0</td>\n",
       "      <td>3217.0</td>\n",
       "      <td>1068.0</td>\n",
       "      <td>2.0</td>\n",
       "      <td>NaN</td>\n",
       "      <td>0.0</td>\n",
       "      <td>6.0</td>\n",
       "      <td>5984.0</td>\n",
       "      <td>1641.0</td>\n",
       "      <td>5053.0</td>\n",
       "      <td>7365.0</td>\n",
       "    </tr>\n",
       "    <tr>\n",
       "      <th>SENTINEL_3B_SLSTR_EUMETSAT</th>\n",
       "      <td>7178.0</td>\n",
       "      <td>7724.0</td>\n",
       "      <td>1905.0</td>\n",
       "      <td>1151.0</td>\n",
       "      <td>NaN</td>\n",
       "      <td>NaN</td>\n",
       "      <td>0.0</td>\n",
       "      <td>0.0</td>\n",
       "      <td>3849.0</td>\n",
       "      <td>1295.0</td>\n",
       "      <td>2511.0</td>\n",
       "      <td>3592.0</td>\n",
       "    </tr>\n",
       "    <tr>\n",
       "      <th>SUOMI NPP_VIIRS_LANDGATE</th>\n",
       "      <td>68548.0</td>\n",
       "      <td>83612.0</td>\n",
       "      <td>101604.0</td>\n",
       "      <td>9064.0</td>\n",
       "      <td>7410.0</td>\n",
       "      <td>5458.0</td>\n",
       "      <td>8026.0</td>\n",
       "      <td>7374.0</td>\n",
       "      <td>0.0</td>\n",
       "      <td>700.0</td>\n",
       "      <td>75003.0</td>\n",
       "      <td>100089.0</td>\n",
       "    </tr>\n",
       "    <tr>\n",
       "      <th>SUOMI NPP_VIIRS_NASA1</th>\n",
       "      <td>65577.0</td>\n",
       "      <td>88732.0</td>\n",
       "      <td>69902.0</td>\n",
       "      <td>7159.0</td>\n",
       "      <td>6076.0</td>\n",
       "      <td>3475.0</td>\n",
       "      <td>6900.0</td>\n",
       "      <td>6078.0</td>\n",
       "      <td>25653.0</td>\n",
       "      <td>0.0</td>\n",
       "      <td>56672.0</td>\n",
       "      <td>86607.0</td>\n",
       "    </tr>\n",
       "    <tr>\n",
       "      <th>TERRA_MODIS_LANDGATE</th>\n",
       "      <td>21041.0</td>\n",
       "      <td>31161.0</td>\n",
       "      <td>17907.0</td>\n",
       "      <td>2068.0</td>\n",
       "      <td>889.0</td>\n",
       "      <td>435.0</td>\n",
       "      <td>839.0</td>\n",
       "      <td>818.0</td>\n",
       "      <td>13415.0</td>\n",
       "      <td>2798.0</td>\n",
       "      <td>0.0</td>\n",
       "      <td>4747.0</td>\n",
       "    </tr>\n",
       "    <tr>\n",
       "      <th>TERRA_MODIS_NASA6.03</th>\n",
       "      <td>5539.0</td>\n",
       "      <td>7969.0</td>\n",
       "      <td>4738.0</td>\n",
       "      <td>616.0</td>\n",
       "      <td>204.0</td>\n",
       "      <td>104.0</td>\n",
       "      <td>194.0</td>\n",
       "      <td>187.0</td>\n",
       "      <td>3342.0</td>\n",
       "      <td>699.0</td>\n",
       "      <td>120.0</td>\n",
       "      <td>0.0</td>\n",
       "    </tr>\n",
       "  </tbody>\n",
       "</table>\n",
       "</div>"
      ],
      "text/plain": [
       "                                         count                      \\\n",
       "2_satellite_sensor_product AQUA_MODIS_LANDGATE AQUA_MODIS_NASA6.03   \n",
       "satellite_sensor_product                                             \n",
       "AQUA_MODIS_LANDGATE                        0.0              9359.0   \n",
       "AQUA_MODIS_NASA6.03                     1449.0                 0.0   \n",
       "NOAA 20_VIIRS_LANDGATE                 74151.0             89022.0   \n",
       "NOAA 20_VIIRS_NASA2.0NRT               57279.0             62594.0   \n",
       "SENTINEL_3A_SLSTR_ESA                   4364.0              6816.0   \n",
       "SENTINEL_3A_SLSTR_EUMETSAT              2232.0              3424.0   \n",
       "SENTINEL_3B_SLSTR_ESA                   8740.0             10421.0   \n",
       "SENTINEL_3B_SLSTR_EUMETSAT              7178.0              7724.0   \n",
       "SUOMI NPP_VIIRS_LANDGATE               68548.0             83612.0   \n",
       "SUOMI NPP_VIIRS_NASA1                  65577.0             88732.0   \n",
       "TERRA_MODIS_LANDGATE                   21041.0             31161.0   \n",
       "TERRA_MODIS_NASA6.03                    5539.0              7969.0   \n",
       "\n",
       "                                                                            \\\n",
       "2_satellite_sensor_product NOAA 20_VIIRS_LANDGATE NOAA 20_VIIRS_NASA2.0NRT   \n",
       "satellite_sensor_product                                                     \n",
       "AQUA_MODIS_LANDGATE                       23291.0                    466.0   \n",
       "AQUA_MODIS_NASA6.03                        6149.0                     77.0   \n",
       "NOAA 20_VIIRS_LANDGATE                        0.0                   1372.0   \n",
       "NOAA 20_VIIRS_NASA2.0NRT                  39736.0                      0.0   \n",
       "SENTINEL_3A_SLSTR_ESA                      3214.0                    395.0   \n",
       "SENTINEL_3A_SLSTR_EUMETSAT                 1556.0                    410.0   \n",
       "SENTINEL_3B_SLSTR_ESA                      3217.0                   1068.0   \n",
       "SENTINEL_3B_SLSTR_EUMETSAT                 1905.0                   1151.0   \n",
       "SUOMI NPP_VIIRS_LANDGATE                 101604.0                   9064.0   \n",
       "SUOMI NPP_VIIRS_NASA1                     69902.0                   7159.0   \n",
       "TERRA_MODIS_LANDGATE                      17907.0                   2068.0   \n",
       "TERRA_MODIS_NASA6.03                       4738.0                    616.0   \n",
       "\n",
       "                                                                             \\\n",
       "2_satellite_sensor_product SENTINEL_3A_SLSTR_ESA SENTINEL_3A_SLSTR_EUMETSAT   \n",
       "satellite_sensor_product                                                      \n",
       "AQUA_MODIS_LANDGATE                       1714.0                     1177.0   \n",
       "AQUA_MODIS_NASA6.03                        356.0                      256.0   \n",
       "NOAA 20_VIIRS_LANDGATE                    4654.0                     3210.0   \n",
       "NOAA 20_VIIRS_NASA2.0NRT                  3182.0                     3243.0   \n",
       "SENTINEL_3A_SLSTR_ESA                        0.0                       10.0   \n",
       "SENTINEL_3A_SLSTR_EUMETSAT                   0.0                        0.0   \n",
       "SENTINEL_3B_SLSTR_ESA                        2.0                        NaN   \n",
       "SENTINEL_3B_SLSTR_EUMETSAT                   NaN                        NaN   \n",
       "SUOMI NPP_VIIRS_LANDGATE                  7410.0                     5458.0   \n",
       "SUOMI NPP_VIIRS_NASA1                     6076.0                     3475.0   \n",
       "TERRA_MODIS_LANDGATE                       889.0                      435.0   \n",
       "TERRA_MODIS_NASA6.03                       204.0                      104.0   \n",
       "\n",
       "                                                                             \\\n",
       "2_satellite_sensor_product SENTINEL_3B_SLSTR_ESA SENTINEL_3B_SLSTR_EUMETSAT   \n",
       "satellite_sensor_product                                                      \n",
       "AQUA_MODIS_LANDGATE                       1032.0                      786.0   \n",
       "AQUA_MODIS_NASA6.03                        434.0                      389.0   \n",
       "NOAA 20_VIIRS_LANDGATE                    8785.0                     8462.0   \n",
       "NOAA 20_VIIRS_NASA2.0NRT                  6882.0                     7028.0   \n",
       "SENTINEL_3A_SLSTR_ESA                       54.0                        NaN   \n",
       "SENTINEL_3A_SLSTR_EUMETSAT                   NaN                        NaN   \n",
       "SENTINEL_3B_SLSTR_ESA                        0.0                        6.0   \n",
       "SENTINEL_3B_SLSTR_EUMETSAT                   0.0                        0.0   \n",
       "SUOMI NPP_VIIRS_LANDGATE                  8026.0                     7374.0   \n",
       "SUOMI NPP_VIIRS_NASA1                     6900.0                     6078.0   \n",
       "TERRA_MODIS_LANDGATE                       839.0                      818.0   \n",
       "TERRA_MODIS_NASA6.03                       194.0                      187.0   \n",
       "\n",
       "                                                                           \\\n",
       "2_satellite_sensor_product SUOMI NPP_VIIRS_LANDGATE SUOMI NPP_VIIRS_NASA1   \n",
       "satellite_sensor_product                                                    \n",
       "AQUA_MODIS_LANDGATE                         10551.0                 736.0   \n",
       "AQUA_MODIS_NASA6.03                          1216.0                 138.0   \n",
       "NOAA 20_VIIRS_LANDGATE                      58352.0               10048.0   \n",
       "NOAA 20_VIIRS_NASA2.0NRT                    33933.0                9434.0   \n",
       "SENTINEL_3A_SLSTR_ESA                        1552.0                 801.0   \n",
       "SENTINEL_3A_SLSTR_EUMETSAT                    852.0                 437.0   \n",
       "SENTINEL_3B_SLSTR_ESA                        5984.0                1641.0   \n",
       "SENTINEL_3B_SLSTR_EUMETSAT                   3849.0                1295.0   \n",
       "SUOMI NPP_VIIRS_LANDGATE                        0.0                 700.0   \n",
       "SUOMI NPP_VIIRS_NASA1                       25653.0                   0.0   \n",
       "TERRA_MODIS_LANDGATE                        13415.0                2798.0   \n",
       "TERRA_MODIS_NASA6.03                         3342.0                 699.0   \n",
       "\n",
       "                                                                      \n",
       "2_satellite_sensor_product TERRA_MODIS_LANDGATE TERRA_MODIS_NASA6.03  \n",
       "satellite_sensor_product                                              \n",
       "AQUA_MODIS_LANDGATE                     13289.0              21590.0  \n",
       "AQUA_MODIS_NASA6.03                      2867.0               4606.0  \n",
       "NOAA 20_VIIRS_LANDGATE                  66075.0              86854.0  \n",
       "NOAA 20_VIIRS_NASA2.0NRT                44692.0              60360.0  \n",
       "SENTINEL_3A_SLSTR_ESA                    2780.0               4841.0  \n",
       "SENTINEL_3A_SLSTR_EUMETSAT               1114.0               2045.0  \n",
       "SENTINEL_3B_SLSTR_ESA                    5053.0               7365.0  \n",
       "SENTINEL_3B_SLSTR_EUMETSAT               2511.0               3592.0  \n",
       "SUOMI NPP_VIIRS_LANDGATE                75003.0             100089.0  \n",
       "SUOMI NPP_VIIRS_NASA1                   56672.0              86607.0  \n",
       "TERRA_MODIS_LANDGATE                        0.0               4747.0  \n",
       "TERRA_MODIS_NASA6.03                      120.0                  0.0  "
      ]
     },
     "execution_count": 41,
     "metadata": {},
     "output_type": "execute_result"
    }
   ],
   "source": [
    "difference.to_csv(output_directory.joinpath(f\"{comparison_prefix}_count_difference.csv\"))\n",
    "difference"
   ]
  },
  {
   "cell_type": "code",
   "execution_count": 42,
   "metadata": {},
   "outputs": [],
   "source": [
    "# Percentage of matched points closer than dist_threshold\n",
    "percentage = (numerator / denominator) * 100\n",
    "percentage = np.round(percentage, 2)"
   ]
  },
  {
   "cell_type": "code",
   "execution_count": 43,
   "metadata": {},
   "outputs": [],
   "source": [
    "# Add a colum which provides the average percentage"
   ]
  },
  {
   "cell_type": "code",
   "execution_count": 44,
   "metadata": {},
   "outputs": [
    {
     "data": {
      "text/html": [
       "<div>\n",
       "<style scoped>\n",
       "    .dataframe tbody tr th:only-of-type {\n",
       "        vertical-align: middle;\n",
       "    }\n",
       "\n",
       "    .dataframe tbody tr th {\n",
       "        vertical-align: top;\n",
       "    }\n",
       "\n",
       "    .dataframe thead tr th {\n",
       "        text-align: left;\n",
       "    }\n",
       "\n",
       "    .dataframe thead tr:last-of-type th {\n",
       "        text-align: right;\n",
       "    }\n",
       "</style>\n",
       "<table border=\"1\" class=\"dataframe\">\n",
       "  <thead>\n",
       "    <tr>\n",
       "      <th></th>\n",
       "      <th colspan=\"12\" halign=\"left\">count</th>\n",
       "    </tr>\n",
       "    <tr>\n",
       "      <th>2_satellite_sensor_product</th>\n",
       "      <th>AQUA_MODIS_LANDGATE</th>\n",
       "      <th>AQUA_MODIS_NASA6.03</th>\n",
       "      <th>NOAA 20_VIIRS_LANDGATE</th>\n",
       "      <th>NOAA 20_VIIRS_NASA2.0NRT</th>\n",
       "      <th>SENTINEL_3A_SLSTR_ESA</th>\n",
       "      <th>SENTINEL_3A_SLSTR_EUMETSAT</th>\n",
       "      <th>SENTINEL_3B_SLSTR_ESA</th>\n",
       "      <th>SENTINEL_3B_SLSTR_EUMETSAT</th>\n",
       "      <th>SUOMI NPP_VIIRS_LANDGATE</th>\n",
       "      <th>SUOMI NPP_VIIRS_NASA1</th>\n",
       "      <th>TERRA_MODIS_LANDGATE</th>\n",
       "      <th>TERRA_MODIS_NASA6.03</th>\n",
       "    </tr>\n",
       "    <tr>\n",
       "      <th>satellite_sensor_product</th>\n",
       "      <th></th>\n",
       "      <th></th>\n",
       "      <th></th>\n",
       "      <th></th>\n",
       "      <th></th>\n",
       "      <th></th>\n",
       "      <th></th>\n",
       "      <th></th>\n",
       "      <th></th>\n",
       "      <th></th>\n",
       "      <th></th>\n",
       "      <th></th>\n",
       "    </tr>\n",
       "  </thead>\n",
       "  <tbody>\n",
       "    <tr>\n",
       "      <th>AQUA_MODIS_LANDGATE</th>\n",
       "      <td>100.00</td>\n",
       "      <td>90.99</td>\n",
       "      <td>77.63</td>\n",
       "      <td>99.34</td>\n",
       "      <td>89.31</td>\n",
       "      <td>85.12</td>\n",
       "      <td>94.08</td>\n",
       "      <td>79.71</td>\n",
       "      <td>89.60</td>\n",
       "      <td>99.29</td>\n",
       "      <td>87.00</td>\n",
       "      <td>78.78</td>\n",
       "    </tr>\n",
       "    <tr>\n",
       "      <th>AQUA_MODIS_NASA6.03</th>\n",
       "      <td>92.73</td>\n",
       "      <td>100.00</td>\n",
       "      <td>70.18</td>\n",
       "      <td>99.49</td>\n",
       "      <td>87.22</td>\n",
       "      <td>83.00</td>\n",
       "      <td>91.58</td>\n",
       "      <td>82.07</td>\n",
       "      <td>94.30</td>\n",
       "      <td>99.36</td>\n",
       "      <td>86.19</td>\n",
       "      <td>77.81</td>\n",
       "    </tr>\n",
       "    <tr>\n",
       "      <th>NOAA 20_VIIRS_LANDGATE</th>\n",
       "      <td>80.20</td>\n",
       "      <td>75.66</td>\n",
       "      <td>100.00</td>\n",
       "      <td>99.56</td>\n",
       "      <td>92.57</td>\n",
       "      <td>89.14</td>\n",
       "      <td>88.79</td>\n",
       "      <td>80.62</td>\n",
       "      <td>85.34</td>\n",
       "      <td>97.48</td>\n",
       "      <td>83.93</td>\n",
       "      <td>78.15</td>\n",
       "    </tr>\n",
       "    <tr>\n",
       "      <th>NOAA 20_VIIRS_NASA2.0NRT</th>\n",
       "      <td>74.34</td>\n",
       "      <td>72.35</td>\n",
       "      <td>83.37</td>\n",
       "      <td>100.00</td>\n",
       "      <td>88.05</td>\n",
       "      <td>87.92</td>\n",
       "      <td>81.83</td>\n",
       "      <td>81.69</td>\n",
       "      <td>86.27</td>\n",
       "      <td>96.07</td>\n",
       "      <td>81.68</td>\n",
       "      <td>74.61</td>\n",
       "    </tr>\n",
       "    <tr>\n",
       "      <th>SENTINEL_3A_SLSTR_ESA</th>\n",
       "      <td>72.20</td>\n",
       "      <td>58.24</td>\n",
       "      <td>81.89</td>\n",
       "      <td>95.37</td>\n",
       "      <td>100.00</td>\n",
       "      <td>99.89</td>\n",
       "      <td>38.64</td>\n",
       "      <td>NaN</td>\n",
       "      <td>89.60</td>\n",
       "      <td>95.81</td>\n",
       "      <td>84.65</td>\n",
       "      <td>73.27</td>\n",
       "    </tr>\n",
       "    <tr>\n",
       "      <th>SENTINEL_3A_SLSTR_EUMETSAT</th>\n",
       "      <td>69.27</td>\n",
       "      <td>57.29</td>\n",
       "      <td>81.89</td>\n",
       "      <td>95.26</td>\n",
       "      <td>100.00</td>\n",
       "      <td>100.00</td>\n",
       "      <td>NaN</td>\n",
       "      <td>NaN</td>\n",
       "      <td>90.56</td>\n",
       "      <td>95.28</td>\n",
       "      <td>87.60</td>\n",
       "      <td>77.01</td>\n",
       "    </tr>\n",
       "    <tr>\n",
       "      <th>SENTINEL_3B_SLSTR_ESA</th>\n",
       "      <td>62.49</td>\n",
       "      <td>60.68</td>\n",
       "      <td>86.69</td>\n",
       "      <td>92.66</td>\n",
       "      <td>97.06</td>\n",
       "      <td>NaN</td>\n",
       "      <td>100.00</td>\n",
       "      <td>99.96</td>\n",
       "      <td>78.52</td>\n",
       "      <td>94.11</td>\n",
       "      <td>81.81</td>\n",
       "      <td>73.47</td>\n",
       "    </tr>\n",
       "    <tr>\n",
       "      <th>SENTINEL_3B_SLSTR_EUMETSAT</th>\n",
       "      <td>42.17</td>\n",
       "      <td>49.60</td>\n",
       "      <td>84.64</td>\n",
       "      <td>92.28</td>\n",
       "      <td>NaN</td>\n",
       "      <td>NaN</td>\n",
       "      <td>100.00</td>\n",
       "      <td>100.00</td>\n",
       "      <td>75.73</td>\n",
       "      <td>91.66</td>\n",
       "      <td>84.11</td>\n",
       "      <td>76.83</td>\n",
       "    </tr>\n",
       "    <tr>\n",
       "      <th>SUOMI NPP_VIIRS_LANDGATE</th>\n",
       "      <td>83.89</td>\n",
       "      <td>80.42</td>\n",
       "      <td>77.67</td>\n",
       "      <td>97.34</td>\n",
       "      <td>87.29</td>\n",
       "      <td>86.35</td>\n",
       "      <td>92.15</td>\n",
       "      <td>85.13</td>\n",
       "      <td>100.00</td>\n",
       "      <td>99.84</td>\n",
       "      <td>83.56</td>\n",
       "      <td>77.35</td>\n",
       "    </tr>\n",
       "    <tr>\n",
       "      <th>SUOMI NPP_VIIRS_NASA1</th>\n",
       "      <td>79.25</td>\n",
       "      <td>72.91</td>\n",
       "      <td>79.51</td>\n",
       "      <td>97.02</td>\n",
       "      <td>89.13</td>\n",
       "      <td>87.99</td>\n",
       "      <td>90.89</td>\n",
       "      <td>84.57</td>\n",
       "      <td>92.43</td>\n",
       "      <td>100.00</td>\n",
       "      <td>83.59</td>\n",
       "      <td>74.86</td>\n",
       "    </tr>\n",
       "    <tr>\n",
       "      <th>TERRA_MODIS_LANDGATE</th>\n",
       "      <td>76.09</td>\n",
       "      <td>65.26</td>\n",
       "      <td>81.96</td>\n",
       "      <td>97.21</td>\n",
       "      <td>95.08</td>\n",
       "      <td>95.55</td>\n",
       "      <td>95.19</td>\n",
       "      <td>93.48</td>\n",
       "      <td>85.71</td>\n",
       "      <td>97.20</td>\n",
       "      <td>100.00</td>\n",
       "      <td>95.26</td>\n",
       "    </tr>\n",
       "    <tr>\n",
       "      <th>TERRA_MODIS_NASA6.03</th>\n",
       "      <td>76.73</td>\n",
       "      <td>67.22</td>\n",
       "      <td>82.33</td>\n",
       "      <td>96.92</td>\n",
       "      <td>95.48</td>\n",
       "      <td>95.86</td>\n",
       "      <td>95.97</td>\n",
       "      <td>93.89</td>\n",
       "      <td>86.94</td>\n",
       "      <td>97.43</td>\n",
       "      <td>99.56</td>\n",
       "      <td>100.00</td>\n",
       "    </tr>\n",
       "  </tbody>\n",
       "</table>\n",
       "</div>"
      ],
      "text/plain": [
       "                                         count                      \\\n",
       "2_satellite_sensor_product AQUA_MODIS_LANDGATE AQUA_MODIS_NASA6.03   \n",
       "satellite_sensor_product                                             \n",
       "AQUA_MODIS_LANDGATE                     100.00               90.99   \n",
       "AQUA_MODIS_NASA6.03                      92.73              100.00   \n",
       "NOAA 20_VIIRS_LANDGATE                   80.20               75.66   \n",
       "NOAA 20_VIIRS_NASA2.0NRT                 74.34               72.35   \n",
       "SENTINEL_3A_SLSTR_ESA                    72.20               58.24   \n",
       "SENTINEL_3A_SLSTR_EUMETSAT               69.27               57.29   \n",
       "SENTINEL_3B_SLSTR_ESA                    62.49               60.68   \n",
       "SENTINEL_3B_SLSTR_EUMETSAT               42.17               49.60   \n",
       "SUOMI NPP_VIIRS_LANDGATE                 83.89               80.42   \n",
       "SUOMI NPP_VIIRS_NASA1                    79.25               72.91   \n",
       "TERRA_MODIS_LANDGATE                     76.09               65.26   \n",
       "TERRA_MODIS_NASA6.03                     76.73               67.22   \n",
       "\n",
       "                                                                            \\\n",
       "2_satellite_sensor_product NOAA 20_VIIRS_LANDGATE NOAA 20_VIIRS_NASA2.0NRT   \n",
       "satellite_sensor_product                                                     \n",
       "AQUA_MODIS_LANDGATE                         77.63                    99.34   \n",
       "AQUA_MODIS_NASA6.03                         70.18                    99.49   \n",
       "NOAA 20_VIIRS_LANDGATE                     100.00                    99.56   \n",
       "NOAA 20_VIIRS_NASA2.0NRT                    83.37                   100.00   \n",
       "SENTINEL_3A_SLSTR_ESA                       81.89                    95.37   \n",
       "SENTINEL_3A_SLSTR_EUMETSAT                  81.89                    95.26   \n",
       "SENTINEL_3B_SLSTR_ESA                       86.69                    92.66   \n",
       "SENTINEL_3B_SLSTR_EUMETSAT                  84.64                    92.28   \n",
       "SUOMI NPP_VIIRS_LANDGATE                    77.67                    97.34   \n",
       "SUOMI NPP_VIIRS_NASA1                       79.51                    97.02   \n",
       "TERRA_MODIS_LANDGATE                        81.96                    97.21   \n",
       "TERRA_MODIS_NASA6.03                        82.33                    96.92   \n",
       "\n",
       "                                                                             \\\n",
       "2_satellite_sensor_product SENTINEL_3A_SLSTR_ESA SENTINEL_3A_SLSTR_EUMETSAT   \n",
       "satellite_sensor_product                                                      \n",
       "AQUA_MODIS_LANDGATE                        89.31                      85.12   \n",
       "AQUA_MODIS_NASA6.03                        87.22                      83.00   \n",
       "NOAA 20_VIIRS_LANDGATE                     92.57                      89.14   \n",
       "NOAA 20_VIIRS_NASA2.0NRT                   88.05                      87.92   \n",
       "SENTINEL_3A_SLSTR_ESA                     100.00                      99.89   \n",
       "SENTINEL_3A_SLSTR_EUMETSAT                100.00                     100.00   \n",
       "SENTINEL_3B_SLSTR_ESA                      97.06                        NaN   \n",
       "SENTINEL_3B_SLSTR_EUMETSAT                   NaN                        NaN   \n",
       "SUOMI NPP_VIIRS_LANDGATE                   87.29                      86.35   \n",
       "SUOMI NPP_VIIRS_NASA1                      89.13                      87.99   \n",
       "TERRA_MODIS_LANDGATE                       95.08                      95.55   \n",
       "TERRA_MODIS_NASA6.03                       95.48                      95.86   \n",
       "\n",
       "                                                                             \\\n",
       "2_satellite_sensor_product SENTINEL_3B_SLSTR_ESA SENTINEL_3B_SLSTR_EUMETSAT   \n",
       "satellite_sensor_product                                                      \n",
       "AQUA_MODIS_LANDGATE                        94.08                      79.71   \n",
       "AQUA_MODIS_NASA6.03                        91.58                      82.07   \n",
       "NOAA 20_VIIRS_LANDGATE                     88.79                      80.62   \n",
       "NOAA 20_VIIRS_NASA2.0NRT                   81.83                      81.69   \n",
       "SENTINEL_3A_SLSTR_ESA                      38.64                        NaN   \n",
       "SENTINEL_3A_SLSTR_EUMETSAT                   NaN                        NaN   \n",
       "SENTINEL_3B_SLSTR_ESA                     100.00                      99.96   \n",
       "SENTINEL_3B_SLSTR_EUMETSAT                100.00                     100.00   \n",
       "SUOMI NPP_VIIRS_LANDGATE                   92.15                      85.13   \n",
       "SUOMI NPP_VIIRS_NASA1                      90.89                      84.57   \n",
       "TERRA_MODIS_LANDGATE                       95.19                      93.48   \n",
       "TERRA_MODIS_NASA6.03                       95.97                      93.89   \n",
       "\n",
       "                                                                           \\\n",
       "2_satellite_sensor_product SUOMI NPP_VIIRS_LANDGATE SUOMI NPP_VIIRS_NASA1   \n",
       "satellite_sensor_product                                                    \n",
       "AQUA_MODIS_LANDGATE                           89.60                 99.29   \n",
       "AQUA_MODIS_NASA6.03                           94.30                 99.36   \n",
       "NOAA 20_VIIRS_LANDGATE                        85.34                 97.48   \n",
       "NOAA 20_VIIRS_NASA2.0NRT                      86.27                 96.07   \n",
       "SENTINEL_3A_SLSTR_ESA                         89.60                 95.81   \n",
       "SENTINEL_3A_SLSTR_EUMETSAT                    90.56                 95.28   \n",
       "SENTINEL_3B_SLSTR_ESA                         78.52                 94.11   \n",
       "SENTINEL_3B_SLSTR_EUMETSAT                    75.73                 91.66   \n",
       "SUOMI NPP_VIIRS_LANDGATE                     100.00                 99.84   \n",
       "SUOMI NPP_VIIRS_NASA1                         92.43                100.00   \n",
       "TERRA_MODIS_LANDGATE                          85.71                 97.20   \n",
       "TERRA_MODIS_NASA6.03                          86.94                 97.43   \n",
       "\n",
       "                                                                      \n",
       "2_satellite_sensor_product TERRA_MODIS_LANDGATE TERRA_MODIS_NASA6.03  \n",
       "satellite_sensor_product                                              \n",
       "AQUA_MODIS_LANDGATE                       87.00                78.78  \n",
       "AQUA_MODIS_NASA6.03                       86.19                77.81  \n",
       "NOAA 20_VIIRS_LANDGATE                    83.93                78.15  \n",
       "NOAA 20_VIIRS_NASA2.0NRT                  81.68                74.61  \n",
       "SENTINEL_3A_SLSTR_ESA                     84.65                73.27  \n",
       "SENTINEL_3A_SLSTR_EUMETSAT                87.60                77.01  \n",
       "SENTINEL_3B_SLSTR_ESA                     81.81                73.47  \n",
       "SENTINEL_3B_SLSTR_EUMETSAT                84.11                76.83  \n",
       "SUOMI NPP_VIIRS_LANDGATE                  83.56                77.35  \n",
       "SUOMI NPP_VIIRS_NASA1                     83.59                74.86  \n",
       "TERRA_MODIS_LANDGATE                     100.00                95.26  \n",
       "TERRA_MODIS_NASA6.03                      99.56               100.00  "
      ]
     },
     "execution_count": 44,
     "metadata": {},
     "output_type": "execute_result"
    }
   ],
   "source": [
    "percentage.to_csv(output_directory.joinpath(f\"{comparison_prefix}_percentage.csv\"))\n",
    "percentage"
   ]
  },
  {
   "cell_type": "code",
   "execution_count": 45,
   "metadata": {},
   "outputs": [],
   "source": [
    "# Maximum time between match points < dist_threshold\n",
    "timemax = util.pandas_pivot_table(\n",
    "    nearest_ddf_dist_subset,\n",
    "    index=[\"satellite_sensor_product\"],\n",
    "    columns=[\"2_satellite_sensor_product\"],\n",
    "    values=[\"timedelta\"],\n",
    "    aggfunc={\"timedelta\": np.max}\n",
    "    \n",
    ")"
   ]
  },
  {
   "cell_type": "code",
   "execution_count": 46,
   "metadata": {},
   "outputs": [
    {
     "data": {
      "text/html": [
       "<div>\n",
       "<style scoped>\n",
       "    .dataframe tbody tr th:only-of-type {\n",
       "        vertical-align: middle;\n",
       "    }\n",
       "\n",
       "    .dataframe tbody tr th {\n",
       "        vertical-align: top;\n",
       "    }\n",
       "\n",
       "    .dataframe thead tr th {\n",
       "        text-align: left;\n",
       "    }\n",
       "\n",
       "    .dataframe thead tr:last-of-type th {\n",
       "        text-align: right;\n",
       "    }\n",
       "</style>\n",
       "<table border=\"1\" class=\"dataframe\">\n",
       "  <thead>\n",
       "    <tr>\n",
       "      <th></th>\n",
       "      <th colspan=\"12\" halign=\"left\">timedelta</th>\n",
       "    </tr>\n",
       "    <tr>\n",
       "      <th>2_satellite_sensor_product</th>\n",
       "      <th>AQUA_MODIS_LANDGATE</th>\n",
       "      <th>AQUA_MODIS_NASA6.03</th>\n",
       "      <th>NOAA 20_VIIRS_LANDGATE</th>\n",
       "      <th>NOAA 20_VIIRS_NASA2.0NRT</th>\n",
       "      <th>SENTINEL_3A_SLSTR_ESA</th>\n",
       "      <th>SENTINEL_3A_SLSTR_EUMETSAT</th>\n",
       "      <th>SENTINEL_3B_SLSTR_ESA</th>\n",
       "      <th>SENTINEL_3B_SLSTR_EUMETSAT</th>\n",
       "      <th>SUOMI NPP_VIIRS_LANDGATE</th>\n",
       "      <th>SUOMI NPP_VIIRS_NASA1</th>\n",
       "      <th>TERRA_MODIS_LANDGATE</th>\n",
       "      <th>TERRA_MODIS_NASA6.03</th>\n",
       "    </tr>\n",
       "    <tr>\n",
       "      <th>satellite_sensor_product</th>\n",
       "      <th></th>\n",
       "      <th></th>\n",
       "      <th></th>\n",
       "      <th></th>\n",
       "      <th></th>\n",
       "      <th></th>\n",
       "      <th></th>\n",
       "      <th></th>\n",
       "      <th></th>\n",
       "      <th></th>\n",
       "      <th></th>\n",
       "      <th></th>\n",
       "    </tr>\n",
       "  </thead>\n",
       "  <tbody>\n",
       "    <tr>\n",
       "      <th>AQUA_MODIS_LANDGATE</th>\n",
       "      <td>0 days 01:47:00</td>\n",
       "      <td>0 days 01:44:00</td>\n",
       "      <td>0 days 01:30:00</td>\n",
       "      <td>0 days 01:55:00</td>\n",
       "      <td>0 days 03:58:43</td>\n",
       "      <td>0 days 03:58:43</td>\n",
       "      <td>0 days 03:55:46</td>\n",
       "      <td>0 days 03:51:39</td>\n",
       "      <td>0 days 01:52:00</td>\n",
       "      <td>0 days 02:09:00</td>\n",
       "      <td>0 days 03:28:00</td>\n",
       "      <td>0 days 03:22:00</td>\n",
       "    </tr>\n",
       "    <tr>\n",
       "      <th>AQUA_MODIS_NASA6.03</th>\n",
       "      <td>0 days 01:44:00</td>\n",
       "      <td>0 days 00:00:00</td>\n",
       "      <td>0 days 01:28:00</td>\n",
       "      <td>0 days 01:51:00</td>\n",
       "      <td>0 days 04:00:12</td>\n",
       "      <td>0 days 03:53:42</td>\n",
       "      <td>0 days 03:45:39</td>\n",
       "      <td>0 days 03:45:39</td>\n",
       "      <td>0 days 01:48:00</td>\n",
       "      <td>0 days 02:04:00</td>\n",
       "      <td>0 days 03:24:00</td>\n",
       "      <td>0 days 03:17:00</td>\n",
       "    </tr>\n",
       "    <tr>\n",
       "      <th>NOAA 20_VIIRS_LANDGATE</th>\n",
       "      <td>0 days 01:30:00</td>\n",
       "      <td>0 days 01:28:00</td>\n",
       "      <td>0 days 01:44:00</td>\n",
       "      <td>0 days 01:45:00</td>\n",
       "      <td>0 days 04:03:30</td>\n",
       "      <td>0 days 04:03:30</td>\n",
       "      <td>0 days 03:53:03</td>\n",
       "      <td>0 days 03:58:44</td>\n",
       "      <td>0 days 00:59:00</td>\n",
       "      <td>0 days 01:00:00</td>\n",
       "      <td>0 days 03:57:00</td>\n",
       "      <td>0 days 04:02:00</td>\n",
       "    </tr>\n",
       "    <tr>\n",
       "      <th>NOAA 20_VIIRS_NASA2.0NRT</th>\n",
       "      <td>0 days 01:55:00</td>\n",
       "      <td>0 days 01:51:00</td>\n",
       "      <td>0 days 01:45:00</td>\n",
       "      <td>0 days 00:00:00</td>\n",
       "      <td>0 days 04:01:30</td>\n",
       "      <td>0 days 04:01:29</td>\n",
       "      <td>0 days 03:51:03</td>\n",
       "      <td>0 days 03:57:44</td>\n",
       "      <td>0 days 01:00:00</td>\n",
       "      <td>0 days 00:56:00</td>\n",
       "      <td>0 days 03:55:00</td>\n",
       "      <td>0 days 04:00:00</td>\n",
       "    </tr>\n",
       "    <tr>\n",
       "      <th>SENTINEL_3A_SLSTR_ESA</th>\n",
       "      <td>0 days 03:58:44</td>\n",
       "      <td>0 days 04:00:12</td>\n",
       "      <td>0 days 04:03:23</td>\n",
       "      <td>0 days 04:01:25</td>\n",
       "      <td>0 days 00:00:01</td>\n",
       "      <td>0 days 00:00:01</td>\n",
       "      <td>0 days 00:39:07</td>\n",
       "      <td>NaT</td>\n",
       "      <td>0 days 03:56:32</td>\n",
       "      <td>0 days 04:04:17</td>\n",
       "      <td>0 days 01:44:42</td>\n",
       "      <td>0 days 01:34:39</td>\n",
       "    </tr>\n",
       "    <tr>\n",
       "      <th>SENTINEL_3A_SLSTR_EUMETSAT</th>\n",
       "      <td>0 days 03:58:44</td>\n",
       "      <td>0 days 03:53:42</td>\n",
       "      <td>0 days 04:03:23</td>\n",
       "      <td>0 days 04:01:25</td>\n",
       "      <td>0 days 00:00:01</td>\n",
       "      <td>0 days 00:00:01</td>\n",
       "      <td>NaT</td>\n",
       "      <td>NaT</td>\n",
       "      <td>0 days 03:45:28</td>\n",
       "      <td>0 days 03:50:42</td>\n",
       "      <td>0 days 01:44:42</td>\n",
       "      <td>0 days 01:34:39</td>\n",
       "    </tr>\n",
       "    <tr>\n",
       "      <th>SENTINEL_3B_SLSTR_ESA</th>\n",
       "      <td>0 days 03:55:46</td>\n",
       "      <td>0 days 03:45:39</td>\n",
       "      <td>0 days 03:53:03</td>\n",
       "      <td>0 days 03:51:03</td>\n",
       "      <td>0 days 00:39:07</td>\n",
       "      <td>NaT</td>\n",
       "      <td>0 days 00:00:01</td>\n",
       "      <td>0 days 00:00:01</td>\n",
       "      <td>0 days 04:05:34</td>\n",
       "      <td>0 days 04:07:34</td>\n",
       "      <td>0 days 01:41:48</td>\n",
       "      <td>0 days 01:31:47</td>\n",
       "    </tr>\n",
       "    <tr>\n",
       "      <th>SENTINEL_3B_SLSTR_EUMETSAT</th>\n",
       "      <td>0 days 03:51:40</td>\n",
       "      <td>0 days 03:45:39</td>\n",
       "      <td>0 days 03:58:08</td>\n",
       "      <td>0 days 03:57:44</td>\n",
       "      <td>NaT</td>\n",
       "      <td>NaT</td>\n",
       "      <td>0 days 00:00:01</td>\n",
       "      <td>0 days 00:00:01</td>\n",
       "      <td>0 days 03:58:53</td>\n",
       "      <td>0 days 04:00:03</td>\n",
       "      <td>0 days 01:41:48</td>\n",
       "      <td>0 days 01:31:47</td>\n",
       "    </tr>\n",
       "    <tr>\n",
       "      <th>SUOMI NPP_VIIRS_LANDGATE</th>\n",
       "      <td>0 days 01:52:00</td>\n",
       "      <td>0 days 01:48:00</td>\n",
       "      <td>0 days 00:58:00</td>\n",
       "      <td>0 days 01:00:00</td>\n",
       "      <td>0 days 03:56:33</td>\n",
       "      <td>0 days 04:03:31</td>\n",
       "      <td>0 days 04:05:34</td>\n",
       "      <td>0 days 03:59:03</td>\n",
       "      <td>0 days 01:44:00</td>\n",
       "      <td>0 days 01:47:00</td>\n",
       "      <td>0 days 03:58:00</td>\n",
       "      <td>0 days 03:53:00</td>\n",
       "    </tr>\n",
       "    <tr>\n",
       "      <th>SUOMI NPP_VIIRS_NASA1</th>\n",
       "      <td>0 days 02:09:00</td>\n",
       "      <td>0 days 02:04:00</td>\n",
       "      <td>0 days 01:00:00</td>\n",
       "      <td>0 days 00:56:00</td>\n",
       "      <td>0 days 04:04:17</td>\n",
       "      <td>0 days 03:50:42</td>\n",
       "      <td>0 days 04:07:34</td>\n",
       "      <td>0 days 04:00:03</td>\n",
       "      <td>0 days 01:47:00</td>\n",
       "      <td>0 days 00:00:00</td>\n",
       "      <td>0 days 04:01:00</td>\n",
       "      <td>0 days 03:56:00</td>\n",
       "    </tr>\n",
       "    <tr>\n",
       "      <th>TERRA_MODIS_LANDGATE</th>\n",
       "      <td>0 days 03:28:00</td>\n",
       "      <td>0 days 03:24:00</td>\n",
       "      <td>0 days 04:06:00</td>\n",
       "      <td>0 days 03:55:00</td>\n",
       "      <td>0 days 01:44:42</td>\n",
       "      <td>0 days 01:44:42</td>\n",
       "      <td>0 days 01:41:48</td>\n",
       "      <td>0 days 01:41:48</td>\n",
       "      <td>0 days 03:58:00</td>\n",
       "      <td>0 days 04:01:00</td>\n",
       "      <td>0 days 01:42:00</td>\n",
       "      <td>0 days 01:50:00</td>\n",
       "    </tr>\n",
       "    <tr>\n",
       "      <th>TERRA_MODIS_NASA6.03</th>\n",
       "      <td>0 days 03:22:00</td>\n",
       "      <td>0 days 03:17:00</td>\n",
       "      <td>0 days 04:02:00</td>\n",
       "      <td>0 days 03:38:00</td>\n",
       "      <td>0 days 01:34:39</td>\n",
       "      <td>0 days 01:34:39</td>\n",
       "      <td>0 days 01:31:47</td>\n",
       "      <td>0 days 01:31:47</td>\n",
       "      <td>0 days 03:53:00</td>\n",
       "      <td>0 days 03:56:00</td>\n",
       "      <td>0 days 01:50:00</td>\n",
       "      <td>0 days 00:00:00</td>\n",
       "    </tr>\n",
       "  </tbody>\n",
       "</table>\n",
       "</div>"
      ],
      "text/plain": [
       "                                     timedelta                      \\\n",
       "2_satellite_sensor_product AQUA_MODIS_LANDGATE AQUA_MODIS_NASA6.03   \n",
       "satellite_sensor_product                                             \n",
       "AQUA_MODIS_LANDGATE            0 days 01:47:00     0 days 01:44:00   \n",
       "AQUA_MODIS_NASA6.03            0 days 01:44:00     0 days 00:00:00   \n",
       "NOAA 20_VIIRS_LANDGATE         0 days 01:30:00     0 days 01:28:00   \n",
       "NOAA 20_VIIRS_NASA2.0NRT       0 days 01:55:00     0 days 01:51:00   \n",
       "SENTINEL_3A_SLSTR_ESA          0 days 03:58:44     0 days 04:00:12   \n",
       "SENTINEL_3A_SLSTR_EUMETSAT     0 days 03:58:44     0 days 03:53:42   \n",
       "SENTINEL_3B_SLSTR_ESA          0 days 03:55:46     0 days 03:45:39   \n",
       "SENTINEL_3B_SLSTR_EUMETSAT     0 days 03:51:40     0 days 03:45:39   \n",
       "SUOMI NPP_VIIRS_LANDGATE       0 days 01:52:00     0 days 01:48:00   \n",
       "SUOMI NPP_VIIRS_NASA1          0 days 02:09:00     0 days 02:04:00   \n",
       "TERRA_MODIS_LANDGATE           0 days 03:28:00     0 days 03:24:00   \n",
       "TERRA_MODIS_NASA6.03           0 days 03:22:00     0 days 03:17:00   \n",
       "\n",
       "                                                                            \\\n",
       "2_satellite_sensor_product NOAA 20_VIIRS_LANDGATE NOAA 20_VIIRS_NASA2.0NRT   \n",
       "satellite_sensor_product                                                     \n",
       "AQUA_MODIS_LANDGATE               0 days 01:30:00          0 days 01:55:00   \n",
       "AQUA_MODIS_NASA6.03               0 days 01:28:00          0 days 01:51:00   \n",
       "NOAA 20_VIIRS_LANDGATE            0 days 01:44:00          0 days 01:45:00   \n",
       "NOAA 20_VIIRS_NASA2.0NRT          0 days 01:45:00          0 days 00:00:00   \n",
       "SENTINEL_3A_SLSTR_ESA             0 days 04:03:23          0 days 04:01:25   \n",
       "SENTINEL_3A_SLSTR_EUMETSAT        0 days 04:03:23          0 days 04:01:25   \n",
       "SENTINEL_3B_SLSTR_ESA             0 days 03:53:03          0 days 03:51:03   \n",
       "SENTINEL_3B_SLSTR_EUMETSAT        0 days 03:58:08          0 days 03:57:44   \n",
       "SUOMI NPP_VIIRS_LANDGATE          0 days 00:58:00          0 days 01:00:00   \n",
       "SUOMI NPP_VIIRS_NASA1             0 days 01:00:00          0 days 00:56:00   \n",
       "TERRA_MODIS_LANDGATE              0 days 04:06:00          0 days 03:55:00   \n",
       "TERRA_MODIS_NASA6.03              0 days 04:02:00          0 days 03:38:00   \n",
       "\n",
       "                                                                             \\\n",
       "2_satellite_sensor_product SENTINEL_3A_SLSTR_ESA SENTINEL_3A_SLSTR_EUMETSAT   \n",
       "satellite_sensor_product                                                      \n",
       "AQUA_MODIS_LANDGATE              0 days 03:58:43            0 days 03:58:43   \n",
       "AQUA_MODIS_NASA6.03              0 days 04:00:12            0 days 03:53:42   \n",
       "NOAA 20_VIIRS_LANDGATE           0 days 04:03:30            0 days 04:03:30   \n",
       "NOAA 20_VIIRS_NASA2.0NRT         0 days 04:01:30            0 days 04:01:29   \n",
       "SENTINEL_3A_SLSTR_ESA            0 days 00:00:01            0 days 00:00:01   \n",
       "SENTINEL_3A_SLSTR_EUMETSAT       0 days 00:00:01            0 days 00:00:01   \n",
       "SENTINEL_3B_SLSTR_ESA            0 days 00:39:07                        NaT   \n",
       "SENTINEL_3B_SLSTR_EUMETSAT                   NaT                        NaT   \n",
       "SUOMI NPP_VIIRS_LANDGATE         0 days 03:56:33            0 days 04:03:31   \n",
       "SUOMI NPP_VIIRS_NASA1            0 days 04:04:17            0 days 03:50:42   \n",
       "TERRA_MODIS_LANDGATE             0 days 01:44:42            0 days 01:44:42   \n",
       "TERRA_MODIS_NASA6.03             0 days 01:34:39            0 days 01:34:39   \n",
       "\n",
       "                                                                             \\\n",
       "2_satellite_sensor_product SENTINEL_3B_SLSTR_ESA SENTINEL_3B_SLSTR_EUMETSAT   \n",
       "satellite_sensor_product                                                      \n",
       "AQUA_MODIS_LANDGATE              0 days 03:55:46            0 days 03:51:39   \n",
       "AQUA_MODIS_NASA6.03              0 days 03:45:39            0 days 03:45:39   \n",
       "NOAA 20_VIIRS_LANDGATE           0 days 03:53:03            0 days 03:58:44   \n",
       "NOAA 20_VIIRS_NASA2.0NRT         0 days 03:51:03            0 days 03:57:44   \n",
       "SENTINEL_3A_SLSTR_ESA            0 days 00:39:07                        NaT   \n",
       "SENTINEL_3A_SLSTR_EUMETSAT                   NaT                        NaT   \n",
       "SENTINEL_3B_SLSTR_ESA            0 days 00:00:01            0 days 00:00:01   \n",
       "SENTINEL_3B_SLSTR_EUMETSAT       0 days 00:00:01            0 days 00:00:01   \n",
       "SUOMI NPP_VIIRS_LANDGATE         0 days 04:05:34            0 days 03:59:03   \n",
       "SUOMI NPP_VIIRS_NASA1            0 days 04:07:34            0 days 04:00:03   \n",
       "TERRA_MODIS_LANDGATE             0 days 01:41:48            0 days 01:41:48   \n",
       "TERRA_MODIS_NASA6.03             0 days 01:31:47            0 days 01:31:47   \n",
       "\n",
       "                                                                           \\\n",
       "2_satellite_sensor_product SUOMI NPP_VIIRS_LANDGATE SUOMI NPP_VIIRS_NASA1   \n",
       "satellite_sensor_product                                                    \n",
       "AQUA_MODIS_LANDGATE                 0 days 01:52:00       0 days 02:09:00   \n",
       "AQUA_MODIS_NASA6.03                 0 days 01:48:00       0 days 02:04:00   \n",
       "NOAA 20_VIIRS_LANDGATE              0 days 00:59:00       0 days 01:00:00   \n",
       "NOAA 20_VIIRS_NASA2.0NRT            0 days 01:00:00       0 days 00:56:00   \n",
       "SENTINEL_3A_SLSTR_ESA               0 days 03:56:32       0 days 04:04:17   \n",
       "SENTINEL_3A_SLSTR_EUMETSAT          0 days 03:45:28       0 days 03:50:42   \n",
       "SENTINEL_3B_SLSTR_ESA               0 days 04:05:34       0 days 04:07:34   \n",
       "SENTINEL_3B_SLSTR_EUMETSAT          0 days 03:58:53       0 days 04:00:03   \n",
       "SUOMI NPP_VIIRS_LANDGATE            0 days 01:44:00       0 days 01:47:00   \n",
       "SUOMI NPP_VIIRS_NASA1               0 days 01:47:00       0 days 00:00:00   \n",
       "TERRA_MODIS_LANDGATE                0 days 03:58:00       0 days 04:01:00   \n",
       "TERRA_MODIS_NASA6.03                0 days 03:53:00       0 days 03:56:00   \n",
       "\n",
       "                                                                      \n",
       "2_satellite_sensor_product TERRA_MODIS_LANDGATE TERRA_MODIS_NASA6.03  \n",
       "satellite_sensor_product                                              \n",
       "AQUA_MODIS_LANDGATE             0 days 03:28:00      0 days 03:22:00  \n",
       "AQUA_MODIS_NASA6.03             0 days 03:24:00      0 days 03:17:00  \n",
       "NOAA 20_VIIRS_LANDGATE          0 days 03:57:00      0 days 04:02:00  \n",
       "NOAA 20_VIIRS_NASA2.0NRT        0 days 03:55:00      0 days 04:00:00  \n",
       "SENTINEL_3A_SLSTR_ESA           0 days 01:44:42      0 days 01:34:39  \n",
       "SENTINEL_3A_SLSTR_EUMETSAT      0 days 01:44:42      0 days 01:34:39  \n",
       "SENTINEL_3B_SLSTR_ESA           0 days 01:41:48      0 days 01:31:47  \n",
       "SENTINEL_3B_SLSTR_EUMETSAT      0 days 01:41:48      0 days 01:31:47  \n",
       "SUOMI NPP_VIIRS_LANDGATE        0 days 03:58:00      0 days 03:53:00  \n",
       "SUOMI NPP_VIIRS_NASA1           0 days 04:01:00      0 days 03:56:00  \n",
       "TERRA_MODIS_LANDGATE            0 days 01:42:00      0 days 01:50:00  \n",
       "TERRA_MODIS_NASA6.03            0 days 01:50:00      0 days 00:00:00  "
      ]
     },
     "execution_count": 46,
     "metadata": {},
     "output_type": "execute_result"
    }
   ],
   "source": [
    "timemax.to_csv(output_directory.joinpath(f\"{comparison_prefix}_max_time_matched_points.csv\"))\n",
    "timemax"
   ]
  },
  {
   "cell_type": "code",
   "execution_count": 47,
   "metadata": {},
   "outputs": [],
   "source": [
    "# Minimum time between match points < dist_threshold\n",
    "timemin = util.pandas_pivot_table(\n",
    "    nearest_ddf_dist_subset,\n",
    "    index=[\"satellite_sensor_product\"],\n",
    "    columns=[\"2_satellite_sensor_product\"],\n",
    "    values=[\"timedelta\"],\n",
    "    aggfunc={\"timedelta\": np.min}\n",
    ")"
   ]
  },
  {
   "cell_type": "code",
   "execution_count": 48,
   "metadata": {},
   "outputs": [
    {
     "data": {
      "text/html": [
       "<div>\n",
       "<style scoped>\n",
       "    .dataframe tbody tr th:only-of-type {\n",
       "        vertical-align: middle;\n",
       "    }\n",
       "\n",
       "    .dataframe tbody tr th {\n",
       "        vertical-align: top;\n",
       "    }\n",
       "\n",
       "    .dataframe thead tr th {\n",
       "        text-align: left;\n",
       "    }\n",
       "\n",
       "    .dataframe thead tr:last-of-type th {\n",
       "        text-align: right;\n",
       "    }\n",
       "</style>\n",
       "<table border=\"1\" class=\"dataframe\">\n",
       "  <thead>\n",
       "    <tr>\n",
       "      <th></th>\n",
       "      <th colspan=\"12\" halign=\"left\">timedelta</th>\n",
       "    </tr>\n",
       "    <tr>\n",
       "      <th>2_satellite_sensor_product</th>\n",
       "      <th>AQUA_MODIS_LANDGATE</th>\n",
       "      <th>AQUA_MODIS_NASA6.03</th>\n",
       "      <th>NOAA 20_VIIRS_LANDGATE</th>\n",
       "      <th>NOAA 20_VIIRS_NASA2.0NRT</th>\n",
       "      <th>SENTINEL_3A_SLSTR_ESA</th>\n",
       "      <th>SENTINEL_3A_SLSTR_EUMETSAT</th>\n",
       "      <th>SENTINEL_3B_SLSTR_ESA</th>\n",
       "      <th>SENTINEL_3B_SLSTR_EUMETSAT</th>\n",
       "      <th>SUOMI NPP_VIIRS_LANDGATE</th>\n",
       "      <th>SUOMI NPP_VIIRS_NASA1</th>\n",
       "      <th>TERRA_MODIS_LANDGATE</th>\n",
       "      <th>TERRA_MODIS_NASA6.03</th>\n",
       "    </tr>\n",
       "    <tr>\n",
       "      <th>satellite_sensor_product</th>\n",
       "      <th></th>\n",
       "      <th></th>\n",
       "      <th></th>\n",
       "      <th></th>\n",
       "      <th></th>\n",
       "      <th></th>\n",
       "      <th></th>\n",
       "      <th></th>\n",
       "      <th></th>\n",
       "      <th></th>\n",
       "      <th></th>\n",
       "      <th></th>\n",
       "    </tr>\n",
       "  </thead>\n",
       "  <tbody>\n",
       "    <tr>\n",
       "      <th>AQUA_MODIS_LANDGATE</th>\n",
       "      <td>0 days 00:00:00</td>\n",
       "      <td>0 days 00:00:00</td>\n",
       "      <td>0 days 00:00:00</td>\n",
       "      <td>0 days 00:04:00</td>\n",
       "      <td>0 days 01:37:24</td>\n",
       "      <td>0 days 01:37:24</td>\n",
       "      <td>0 days 01:54:38</td>\n",
       "      <td>0 days 01:54:38</td>\n",
       "      <td>0 days 00:00:00</td>\n",
       "      <td>0 days 00:00:00</td>\n",
       "      <td>0 days 01:15:00</td>\n",
       "      <td>0 days 01:24:00</td>\n",
       "    </tr>\n",
       "    <tr>\n",
       "      <th>AQUA_MODIS_NASA6.03</th>\n",
       "      <td>0 days 00:00:00</td>\n",
       "      <td>0 days 00:00:00</td>\n",
       "      <td>0 days 00:00:00</td>\n",
       "      <td>0 days 00:00:00</td>\n",
       "      <td>0 days 01:56:33</td>\n",
       "      <td>0 days 02:01:42</td>\n",
       "      <td>0 days 01:57:38</td>\n",
       "      <td>0 days 01:57:38</td>\n",
       "      <td>0 days 00:02:00</td>\n",
       "      <td>0 days 00:00:00</td>\n",
       "      <td>0 days 01:24:00</td>\n",
       "      <td>0 days 01:33:00</td>\n",
       "    </tr>\n",
       "    <tr>\n",
       "      <th>NOAA 20_VIIRS_LANDGATE</th>\n",
       "      <td>0 days 00:00:00</td>\n",
       "      <td>0 days 00:00:00</td>\n",
       "      <td>0 days 00:00:00</td>\n",
       "      <td>0 days 00:00:00</td>\n",
       "      <td>0 days 01:08:08</td>\n",
       "      <td>0 days 01:57:54</td>\n",
       "      <td>0 days 01:39:25</td>\n",
       "      <td>0 days 01:39:25</td>\n",
       "      <td>0 days 00:44:00</td>\n",
       "      <td>0 days 00:39:00</td>\n",
       "      <td>0 days 00:32:00</td>\n",
       "      <td>0 days 00:44:00</td>\n",
       "    </tr>\n",
       "    <tr>\n",
       "      <th>NOAA 20_VIIRS_NASA2.0NRT</th>\n",
       "      <td>0 days 00:04:00</td>\n",
       "      <td>0 days 00:00:00</td>\n",
       "      <td>0 days 00:00:00</td>\n",
       "      <td>0 days 00:00:00</td>\n",
       "      <td>0 days 01:43:59</td>\n",
       "      <td>0 days 01:43:59</td>\n",
       "      <td>0 days 01:31:41</td>\n",
       "      <td>0 days 01:31:41</td>\n",
       "      <td>0 days 00:40:00</td>\n",
       "      <td>0 days 00:44:00</td>\n",
       "      <td>0 days 00:01:00</td>\n",
       "      <td>0 days 00:06:00</td>\n",
       "    </tr>\n",
       "    <tr>\n",
       "      <th>SENTINEL_3A_SLSTR_ESA</th>\n",
       "      <td>0 days 01:37:24</td>\n",
       "      <td>0 days 01:56:32</td>\n",
       "      <td>0 days 01:08:08</td>\n",
       "      <td>0 days 01:43:59</td>\n",
       "      <td>0 days 00:00:00</td>\n",
       "      <td>0 days 00:00:00</td>\n",
       "      <td>0 days 00:39:06</td>\n",
       "      <td>NaT</td>\n",
       "      <td>0 days 01:56:08</td>\n",
       "      <td>0 days 01:15:54</td>\n",
       "      <td>0 days 00:00:24</td>\n",
       "      <td>0 days 00:00:20</td>\n",
       "    </tr>\n",
       "    <tr>\n",
       "      <th>SENTINEL_3A_SLSTR_EUMETSAT</th>\n",
       "      <td>0 days 01:37:24</td>\n",
       "      <td>0 days 02:01:42</td>\n",
       "      <td>0 days 01:57:54</td>\n",
       "      <td>0 days 01:43:59</td>\n",
       "      <td>0 days 00:00:00</td>\n",
       "      <td>0 days 00:00:00</td>\n",
       "      <td>NaT</td>\n",
       "      <td>NaT</td>\n",
       "      <td>0 days 01:52:11</td>\n",
       "      <td>0 days 01:15:54</td>\n",
       "      <td>0 days 00:00:24</td>\n",
       "      <td>0 days 00:02:32</td>\n",
       "    </tr>\n",
       "    <tr>\n",
       "      <th>SENTINEL_3B_SLSTR_ESA</th>\n",
       "      <td>0 days 01:54:38</td>\n",
       "      <td>0 days 01:57:38</td>\n",
       "      <td>0 days 01:39:25</td>\n",
       "      <td>0 days 01:31:41</td>\n",
       "      <td>0 days 00:39:05</td>\n",
       "      <td>NaT</td>\n",
       "      <td>0 days 00:00:00</td>\n",
       "      <td>0 days 00:00:00</td>\n",
       "      <td>0 days 01:25:14</td>\n",
       "      <td>0 days 00:57:25</td>\n",
       "      <td>0 days 00:00:24</td>\n",
       "      <td>0 days 00:01:41</td>\n",
       "    </tr>\n",
       "    <tr>\n",
       "      <th>SENTINEL_3B_SLSTR_EUMETSAT</th>\n",
       "      <td>0 days 01:54:38</td>\n",
       "      <td>0 days 01:57:38</td>\n",
       "      <td>0 days 01:39:25</td>\n",
       "      <td>0 days 01:31:41</td>\n",
       "      <td>NaT</td>\n",
       "      <td>NaT</td>\n",
       "      <td>0 days 00:00:00</td>\n",
       "      <td>0 days 00:00:00</td>\n",
       "      <td>0 days 01:25:14</td>\n",
       "      <td>0 days 00:57:25</td>\n",
       "      <td>0 days 00:00:24</td>\n",
       "      <td>0 days 00:01:41</td>\n",
       "    </tr>\n",
       "    <tr>\n",
       "      <th>SUOMI NPP_VIIRS_LANDGATE</th>\n",
       "      <td>0 days 00:00:00</td>\n",
       "      <td>0 days 00:02:00</td>\n",
       "      <td>0 days 00:44:00</td>\n",
       "      <td>0 days 00:40:00</td>\n",
       "      <td>0 days 01:56:08</td>\n",
       "      <td>0 days 01:52:11</td>\n",
       "      <td>0 days 01:25:14</td>\n",
       "      <td>0 days 01:25:14</td>\n",
       "      <td>0 days 00:00:00</td>\n",
       "      <td>0 days 00:00:00</td>\n",
       "      <td>0 days 00:33:00</td>\n",
       "      <td>0 days 00:53:00</td>\n",
       "    </tr>\n",
       "    <tr>\n",
       "      <th>SUOMI NPP_VIIRS_NASA1</th>\n",
       "      <td>0 days 00:00:00</td>\n",
       "      <td>0 days 00:00:00</td>\n",
       "      <td>0 days 00:39:00</td>\n",
       "      <td>0 days 00:44:00</td>\n",
       "      <td>0 days 01:15:54</td>\n",
       "      <td>0 days 01:15:54</td>\n",
       "      <td>0 days 00:57:25</td>\n",
       "      <td>0 days 00:57:25</td>\n",
       "      <td>0 days 00:00:00</td>\n",
       "      <td>0 days 00:00:00</td>\n",
       "      <td>0 days 00:12:00</td>\n",
       "      <td>0 days 00:00:00</td>\n",
       "    </tr>\n",
       "    <tr>\n",
       "      <th>TERRA_MODIS_LANDGATE</th>\n",
       "      <td>0 days 01:15:00</td>\n",
       "      <td>0 days 01:24:00</td>\n",
       "      <td>0 days 00:32:00</td>\n",
       "      <td>0 days 00:01:00</td>\n",
       "      <td>0 days 00:00:10</td>\n",
       "      <td>0 days 00:00:10</td>\n",
       "      <td>0 days 00:00:24</td>\n",
       "      <td>0 days 00:00:24</td>\n",
       "      <td>0 days 00:33:00</td>\n",
       "      <td>0 days 00:14:00</td>\n",
       "      <td>0 days 00:00:00</td>\n",
       "      <td>0 days 00:00:00</td>\n",
       "    </tr>\n",
       "    <tr>\n",
       "      <th>TERRA_MODIS_NASA6.03</th>\n",
       "      <td>0 days 01:24:00</td>\n",
       "      <td>0 days 01:33:00</td>\n",
       "      <td>0 days 01:07:00</td>\n",
       "      <td>0 days 00:06:00</td>\n",
       "      <td>0 days 00:00:20</td>\n",
       "      <td>0 days 00:02:32</td>\n",
       "      <td>0 days 00:01:41</td>\n",
       "      <td>0 days 00:01:41</td>\n",
       "      <td>0 days 00:53:00</td>\n",
       "      <td>0 days 00:35:00</td>\n",
       "      <td>0 days 00:00:00</td>\n",
       "      <td>0 days 00:00:00</td>\n",
       "    </tr>\n",
       "  </tbody>\n",
       "</table>\n",
       "</div>"
      ],
      "text/plain": [
       "                                     timedelta                      \\\n",
       "2_satellite_sensor_product AQUA_MODIS_LANDGATE AQUA_MODIS_NASA6.03   \n",
       "satellite_sensor_product                                             \n",
       "AQUA_MODIS_LANDGATE            0 days 00:00:00     0 days 00:00:00   \n",
       "AQUA_MODIS_NASA6.03            0 days 00:00:00     0 days 00:00:00   \n",
       "NOAA 20_VIIRS_LANDGATE         0 days 00:00:00     0 days 00:00:00   \n",
       "NOAA 20_VIIRS_NASA2.0NRT       0 days 00:04:00     0 days 00:00:00   \n",
       "SENTINEL_3A_SLSTR_ESA          0 days 01:37:24     0 days 01:56:32   \n",
       "SENTINEL_3A_SLSTR_EUMETSAT     0 days 01:37:24     0 days 02:01:42   \n",
       "SENTINEL_3B_SLSTR_ESA          0 days 01:54:38     0 days 01:57:38   \n",
       "SENTINEL_3B_SLSTR_EUMETSAT     0 days 01:54:38     0 days 01:57:38   \n",
       "SUOMI NPP_VIIRS_LANDGATE       0 days 00:00:00     0 days 00:02:00   \n",
       "SUOMI NPP_VIIRS_NASA1          0 days 00:00:00     0 days 00:00:00   \n",
       "TERRA_MODIS_LANDGATE           0 days 01:15:00     0 days 01:24:00   \n",
       "TERRA_MODIS_NASA6.03           0 days 01:24:00     0 days 01:33:00   \n",
       "\n",
       "                                                                            \\\n",
       "2_satellite_sensor_product NOAA 20_VIIRS_LANDGATE NOAA 20_VIIRS_NASA2.0NRT   \n",
       "satellite_sensor_product                                                     \n",
       "AQUA_MODIS_LANDGATE               0 days 00:00:00          0 days 00:04:00   \n",
       "AQUA_MODIS_NASA6.03               0 days 00:00:00          0 days 00:00:00   \n",
       "NOAA 20_VIIRS_LANDGATE            0 days 00:00:00          0 days 00:00:00   \n",
       "NOAA 20_VIIRS_NASA2.0NRT          0 days 00:00:00          0 days 00:00:00   \n",
       "SENTINEL_3A_SLSTR_ESA             0 days 01:08:08          0 days 01:43:59   \n",
       "SENTINEL_3A_SLSTR_EUMETSAT        0 days 01:57:54          0 days 01:43:59   \n",
       "SENTINEL_3B_SLSTR_ESA             0 days 01:39:25          0 days 01:31:41   \n",
       "SENTINEL_3B_SLSTR_EUMETSAT        0 days 01:39:25          0 days 01:31:41   \n",
       "SUOMI NPP_VIIRS_LANDGATE          0 days 00:44:00          0 days 00:40:00   \n",
       "SUOMI NPP_VIIRS_NASA1             0 days 00:39:00          0 days 00:44:00   \n",
       "TERRA_MODIS_LANDGATE              0 days 00:32:00          0 days 00:01:00   \n",
       "TERRA_MODIS_NASA6.03              0 days 01:07:00          0 days 00:06:00   \n",
       "\n",
       "                                                                             \\\n",
       "2_satellite_sensor_product SENTINEL_3A_SLSTR_ESA SENTINEL_3A_SLSTR_EUMETSAT   \n",
       "satellite_sensor_product                                                      \n",
       "AQUA_MODIS_LANDGATE              0 days 01:37:24            0 days 01:37:24   \n",
       "AQUA_MODIS_NASA6.03              0 days 01:56:33            0 days 02:01:42   \n",
       "NOAA 20_VIIRS_LANDGATE           0 days 01:08:08            0 days 01:57:54   \n",
       "NOAA 20_VIIRS_NASA2.0NRT         0 days 01:43:59            0 days 01:43:59   \n",
       "SENTINEL_3A_SLSTR_ESA            0 days 00:00:00            0 days 00:00:00   \n",
       "SENTINEL_3A_SLSTR_EUMETSAT       0 days 00:00:00            0 days 00:00:00   \n",
       "SENTINEL_3B_SLSTR_ESA            0 days 00:39:05                        NaT   \n",
       "SENTINEL_3B_SLSTR_EUMETSAT                   NaT                        NaT   \n",
       "SUOMI NPP_VIIRS_LANDGATE         0 days 01:56:08            0 days 01:52:11   \n",
       "SUOMI NPP_VIIRS_NASA1            0 days 01:15:54            0 days 01:15:54   \n",
       "TERRA_MODIS_LANDGATE             0 days 00:00:10            0 days 00:00:10   \n",
       "TERRA_MODIS_NASA6.03             0 days 00:00:20            0 days 00:02:32   \n",
       "\n",
       "                                                                             \\\n",
       "2_satellite_sensor_product SENTINEL_3B_SLSTR_ESA SENTINEL_3B_SLSTR_EUMETSAT   \n",
       "satellite_sensor_product                                                      \n",
       "AQUA_MODIS_LANDGATE              0 days 01:54:38            0 days 01:54:38   \n",
       "AQUA_MODIS_NASA6.03              0 days 01:57:38            0 days 01:57:38   \n",
       "NOAA 20_VIIRS_LANDGATE           0 days 01:39:25            0 days 01:39:25   \n",
       "NOAA 20_VIIRS_NASA2.0NRT         0 days 01:31:41            0 days 01:31:41   \n",
       "SENTINEL_3A_SLSTR_ESA            0 days 00:39:06                        NaT   \n",
       "SENTINEL_3A_SLSTR_EUMETSAT                   NaT                        NaT   \n",
       "SENTINEL_3B_SLSTR_ESA            0 days 00:00:00            0 days 00:00:00   \n",
       "SENTINEL_3B_SLSTR_EUMETSAT       0 days 00:00:00            0 days 00:00:00   \n",
       "SUOMI NPP_VIIRS_LANDGATE         0 days 01:25:14            0 days 01:25:14   \n",
       "SUOMI NPP_VIIRS_NASA1            0 days 00:57:25            0 days 00:57:25   \n",
       "TERRA_MODIS_LANDGATE             0 days 00:00:24            0 days 00:00:24   \n",
       "TERRA_MODIS_NASA6.03             0 days 00:01:41            0 days 00:01:41   \n",
       "\n",
       "                                                                           \\\n",
       "2_satellite_sensor_product SUOMI NPP_VIIRS_LANDGATE SUOMI NPP_VIIRS_NASA1   \n",
       "satellite_sensor_product                                                    \n",
       "AQUA_MODIS_LANDGATE                 0 days 00:00:00       0 days 00:00:00   \n",
       "AQUA_MODIS_NASA6.03                 0 days 00:02:00       0 days 00:00:00   \n",
       "NOAA 20_VIIRS_LANDGATE              0 days 00:44:00       0 days 00:39:00   \n",
       "NOAA 20_VIIRS_NASA2.0NRT            0 days 00:40:00       0 days 00:44:00   \n",
       "SENTINEL_3A_SLSTR_ESA               0 days 01:56:08       0 days 01:15:54   \n",
       "SENTINEL_3A_SLSTR_EUMETSAT          0 days 01:52:11       0 days 01:15:54   \n",
       "SENTINEL_3B_SLSTR_ESA               0 days 01:25:14       0 days 00:57:25   \n",
       "SENTINEL_3B_SLSTR_EUMETSAT          0 days 01:25:14       0 days 00:57:25   \n",
       "SUOMI NPP_VIIRS_LANDGATE            0 days 00:00:00       0 days 00:00:00   \n",
       "SUOMI NPP_VIIRS_NASA1               0 days 00:00:00       0 days 00:00:00   \n",
       "TERRA_MODIS_LANDGATE                0 days 00:33:00       0 days 00:14:00   \n",
       "TERRA_MODIS_NASA6.03                0 days 00:53:00       0 days 00:35:00   \n",
       "\n",
       "                                                                      \n",
       "2_satellite_sensor_product TERRA_MODIS_LANDGATE TERRA_MODIS_NASA6.03  \n",
       "satellite_sensor_product                                              \n",
       "AQUA_MODIS_LANDGATE             0 days 01:15:00      0 days 01:24:00  \n",
       "AQUA_MODIS_NASA6.03             0 days 01:24:00      0 days 01:33:00  \n",
       "NOAA 20_VIIRS_LANDGATE          0 days 00:32:00      0 days 00:44:00  \n",
       "NOAA 20_VIIRS_NASA2.0NRT        0 days 00:01:00      0 days 00:06:00  \n",
       "SENTINEL_3A_SLSTR_ESA           0 days 00:00:24      0 days 00:00:20  \n",
       "SENTINEL_3A_SLSTR_EUMETSAT      0 days 00:00:24      0 days 00:02:32  \n",
       "SENTINEL_3B_SLSTR_ESA           0 days 00:00:24      0 days 00:01:41  \n",
       "SENTINEL_3B_SLSTR_EUMETSAT      0 days 00:00:24      0 days 00:01:41  \n",
       "SUOMI NPP_VIIRS_LANDGATE        0 days 00:33:00      0 days 00:53:00  \n",
       "SUOMI NPP_VIIRS_NASA1           0 days 00:12:00      0 days 00:00:00  \n",
       "TERRA_MODIS_LANDGATE            0 days 00:00:00      0 days 00:00:00  \n",
       "TERRA_MODIS_NASA6.03            0 days 00:00:00      0 days 00:00:00  "
      ]
     },
     "execution_count": 48,
     "metadata": {},
     "output_type": "execute_result"
    }
   ],
   "source": [
    "timemin.to_csv(output_directory.joinpath(f\"{comparison_prefix}_min_time_matched_points.csv\"))\n",
    "timemin"
   ]
  },
  {
   "cell_type": "code",
   "execution_count": 49,
   "metadata": {},
   "outputs": [],
   "source": [
    "# Average distance (m) between matched points < dist_threshold\n",
    "averagedist = util.pandas_pivot_table(\n",
    "    nearest_ddf_dist_subset,\n",
    "    index=[\"satellite_sensor_product\"],\n",
    "    columns=[\"2_satellite_sensor_product\"],\n",
    "    values=[\"dist_m\"],\n",
    "    aggfunc={\"dist_m\": np.mean}\n",
    ")"
   ]
  },
  {
   "cell_type": "code",
   "execution_count": 50,
   "metadata": {},
   "outputs": [
    {
     "data": {
      "text/html": [
       "<div>\n",
       "<style scoped>\n",
       "    .dataframe tbody tr th:only-of-type {\n",
       "        vertical-align: middle;\n",
       "    }\n",
       "\n",
       "    .dataframe tbody tr th {\n",
       "        vertical-align: top;\n",
       "    }\n",
       "\n",
       "    .dataframe thead tr th {\n",
       "        text-align: left;\n",
       "    }\n",
       "\n",
       "    .dataframe thead tr:last-of-type th {\n",
       "        text-align: right;\n",
       "    }\n",
       "</style>\n",
       "<table border=\"1\" class=\"dataframe\">\n",
       "  <thead>\n",
       "    <tr>\n",
       "      <th></th>\n",
       "      <th colspan=\"12\" halign=\"left\">dist_m</th>\n",
       "    </tr>\n",
       "    <tr>\n",
       "      <th>2_satellite_sensor_product</th>\n",
       "      <th>AQUA_MODIS_LANDGATE</th>\n",
       "      <th>AQUA_MODIS_NASA6.03</th>\n",
       "      <th>NOAA 20_VIIRS_LANDGATE</th>\n",
       "      <th>NOAA 20_VIIRS_NASA2.0NRT</th>\n",
       "      <th>SENTINEL_3A_SLSTR_ESA</th>\n",
       "      <th>SENTINEL_3A_SLSTR_EUMETSAT</th>\n",
       "      <th>SENTINEL_3B_SLSTR_ESA</th>\n",
       "      <th>SENTINEL_3B_SLSTR_EUMETSAT</th>\n",
       "      <th>SUOMI NPP_VIIRS_LANDGATE</th>\n",
       "      <th>SUOMI NPP_VIIRS_NASA1</th>\n",
       "      <th>TERRA_MODIS_LANDGATE</th>\n",
       "      <th>TERRA_MODIS_NASA6.03</th>\n",
       "    </tr>\n",
       "    <tr>\n",
       "      <th>satellite_sensor_product</th>\n",
       "      <th></th>\n",
       "      <th></th>\n",
       "      <th></th>\n",
       "      <th></th>\n",
       "      <th></th>\n",
       "      <th></th>\n",
       "      <th></th>\n",
       "      <th></th>\n",
       "      <th></th>\n",
       "      <th></th>\n",
       "      <th></th>\n",
       "      <th></th>\n",
       "    </tr>\n",
       "  </thead>\n",
       "  <tbody>\n",
       "    <tr>\n",
       "      <th>AQUA_MODIS_LANDGATE</th>\n",
       "      <td>0.00</td>\n",
       "      <td>900.39</td>\n",
       "      <td>658.43</td>\n",
       "      <td>561.49</td>\n",
       "      <td>797.42</td>\n",
       "      <td>791.79</td>\n",
       "      <td>742.71</td>\n",
       "      <td>991.74</td>\n",
       "      <td>700.95</td>\n",
       "      <td>533.41</td>\n",
       "      <td>981.41</td>\n",
       "      <td>1376.21</td>\n",
       "    </tr>\n",
       "    <tr>\n",
       "      <th>AQUA_MODIS_NASA6.03</th>\n",
       "      <td>118.97</td>\n",
       "      <td>0.00</td>\n",
       "      <td>435.48</td>\n",
       "      <td>358.24</td>\n",
       "      <td>627.02</td>\n",
       "      <td>641.36</td>\n",
       "      <td>607.58</td>\n",
       "      <td>678.87</td>\n",
       "      <td>506.36</td>\n",
       "      <td>342.64</td>\n",
       "      <td>1012.14</td>\n",
       "      <td>1230.38</td>\n",
       "    </tr>\n",
       "    <tr>\n",
       "      <th>NOAA 20_VIIRS_LANDGATE</th>\n",
       "      <td>843.19</td>\n",
       "      <td>1238.23</td>\n",
       "      <td>0.00</td>\n",
       "      <td>216.03</td>\n",
       "      <td>582.21</td>\n",
       "      <td>633.88</td>\n",
       "      <td>630.36</td>\n",
       "      <td>674.20</td>\n",
       "      <td>464.33</td>\n",
       "      <td>339.66</td>\n",
       "      <td>836.14</td>\n",
       "      <td>1076.44</td>\n",
       "    </tr>\n",
       "    <tr>\n",
       "      <th>NOAA 20_VIIRS_NASA2.0NRT</th>\n",
       "      <td>956.40</td>\n",
       "      <td>1293.85</td>\n",
       "      <td>443.42</td>\n",
       "      <td>0.00</td>\n",
       "      <td>636.41</td>\n",
       "      <td>636.35</td>\n",
       "      <td>636.05</td>\n",
       "      <td>634.22</td>\n",
       "      <td>614.64</td>\n",
       "      <td>368.28</td>\n",
       "      <td>908.61</td>\n",
       "      <td>1176.36</td>\n",
       "    </tr>\n",
       "    <tr>\n",
       "      <th>SENTINEL_3A_SLSTR_ESA</th>\n",
       "      <td>1258.49</td>\n",
       "      <td>1682.53</td>\n",
       "      <td>743.90</td>\n",
       "      <td>512.23</td>\n",
       "      <td>0.00</td>\n",
       "      <td>0.64</td>\n",
       "      <td>659.64</td>\n",
       "      <td>NaN</td>\n",
       "      <td>850.16</td>\n",
       "      <td>573.29</td>\n",
       "      <td>1065.55</td>\n",
       "      <td>1426.92</td>\n",
       "    </tr>\n",
       "    <tr>\n",
       "      <th>SENTINEL_3A_SLSTR_EUMETSAT</th>\n",
       "      <td>1308.89</td>\n",
       "      <td>1679.14</td>\n",
       "      <td>717.01</td>\n",
       "      <td>513.76</td>\n",
       "      <td>0.44</td>\n",
       "      <td>0.00</td>\n",
       "      <td>NaN</td>\n",
       "      <td>NaN</td>\n",
       "      <td>730.41</td>\n",
       "      <td>526.26</td>\n",
       "      <td>971.23</td>\n",
       "      <td>1337.96</td>\n",
       "    </tr>\n",
       "    <tr>\n",
       "      <th>SENTINEL_3B_SLSTR_ESA</th>\n",
       "      <td>1419.63</td>\n",
       "      <td>1682.43</td>\n",
       "      <td>1076.07</td>\n",
       "      <td>830.25</td>\n",
       "      <td>1086.27</td>\n",
       "      <td>NaN</td>\n",
       "      <td>0.00</td>\n",
       "      <td>3.68</td>\n",
       "      <td>1051.73</td>\n",
       "      <td>815.67</td>\n",
       "      <td>1340.03</td>\n",
       "      <td>1660.44</td>\n",
       "    </tr>\n",
       "    <tr>\n",
       "      <th>SENTINEL_3B_SLSTR_EUMETSAT</th>\n",
       "      <td>1976.67</td>\n",
       "      <td>1885.11</td>\n",
       "      <td>1143.51</td>\n",
       "      <td>826.26</td>\n",
       "      <td>NaN</td>\n",
       "      <td>NaN</td>\n",
       "      <td>1.25</td>\n",
       "      <td>0.00</td>\n",
       "      <td>1101.82</td>\n",
       "      <td>861.97</td>\n",
       "      <td>1263.02</td>\n",
       "      <td>1647.50</td>\n",
       "    </tr>\n",
       "    <tr>\n",
       "      <th>SUOMI NPP_VIIRS_LANDGATE</th>\n",
       "      <td>810.65</td>\n",
       "      <td>1177.67</td>\n",
       "      <td>413.14</td>\n",
       "      <td>342.28</td>\n",
       "      <td>617.93</td>\n",
       "      <td>629.50</td>\n",
       "      <td>609.46</td>\n",
       "      <td>685.54</td>\n",
       "      <td>0.00</td>\n",
       "      <td>204.19</td>\n",
       "      <td>905.70</td>\n",
       "      <td>1142.27</td>\n",
       "    </tr>\n",
       "    <tr>\n",
       "      <th>SUOMI NPP_VIIRS_NASA1</th>\n",
       "      <td>925.11</td>\n",
       "      <td>1303.12</td>\n",
       "      <td>545.03</td>\n",
       "      <td>350.25</td>\n",
       "      <td>600.95</td>\n",
       "      <td>606.44</td>\n",
       "      <td>617.94</td>\n",
       "      <td>661.30</td>\n",
       "      <td>432.26</td>\n",
       "      <td>0.00</td>\n",
       "      <td>921.33</td>\n",
       "      <td>1180.87</td>\n",
       "    </tr>\n",
       "    <tr>\n",
       "      <th>TERRA_MODIS_LANDGATE</th>\n",
       "      <td>1001.53</td>\n",
       "      <td>1484.71</td>\n",
       "      <td>599.29</td>\n",
       "      <td>502.84</td>\n",
       "      <td>596.35</td>\n",
       "      <td>620.10</td>\n",
       "      <td>670.89</td>\n",
       "      <td>667.43</td>\n",
       "      <td>610.54</td>\n",
       "      <td>458.55</td>\n",
       "      <td>0.00</td>\n",
       "      <td>568.03</td>\n",
       "    </tr>\n",
       "    <tr>\n",
       "      <th>TERRA_MODIS_NASA6.03</th>\n",
       "      <td>955.80</td>\n",
       "      <td>1299.64</td>\n",
       "      <td>477.04</td>\n",
       "      <td>360.40</td>\n",
       "      <td>508.89</td>\n",
       "      <td>515.99</td>\n",
       "      <td>536.18</td>\n",
       "      <td>550.90</td>\n",
       "      <td>477.09</td>\n",
       "      <td>332.45</td>\n",
       "      <td>123.47</td>\n",
       "      <td>0.00</td>\n",
       "    </tr>\n",
       "  </tbody>\n",
       "</table>\n",
       "</div>"
      ],
      "text/plain": [
       "                                        dist_m                      \\\n",
       "2_satellite_sensor_product AQUA_MODIS_LANDGATE AQUA_MODIS_NASA6.03   \n",
       "satellite_sensor_product                                             \n",
       "AQUA_MODIS_LANDGATE                       0.00              900.39   \n",
       "AQUA_MODIS_NASA6.03                     118.97                0.00   \n",
       "NOAA 20_VIIRS_LANDGATE                  843.19             1238.23   \n",
       "NOAA 20_VIIRS_NASA2.0NRT                956.40             1293.85   \n",
       "SENTINEL_3A_SLSTR_ESA                  1258.49             1682.53   \n",
       "SENTINEL_3A_SLSTR_EUMETSAT             1308.89             1679.14   \n",
       "SENTINEL_3B_SLSTR_ESA                  1419.63             1682.43   \n",
       "SENTINEL_3B_SLSTR_EUMETSAT             1976.67             1885.11   \n",
       "SUOMI NPP_VIIRS_LANDGATE                810.65             1177.67   \n",
       "SUOMI NPP_VIIRS_NASA1                   925.11             1303.12   \n",
       "TERRA_MODIS_LANDGATE                   1001.53             1484.71   \n",
       "TERRA_MODIS_NASA6.03                    955.80             1299.64   \n",
       "\n",
       "                                                                            \\\n",
       "2_satellite_sensor_product NOAA 20_VIIRS_LANDGATE NOAA 20_VIIRS_NASA2.0NRT   \n",
       "satellite_sensor_product                                                     \n",
       "AQUA_MODIS_LANDGATE                        658.43                   561.49   \n",
       "AQUA_MODIS_NASA6.03                        435.48                   358.24   \n",
       "NOAA 20_VIIRS_LANDGATE                       0.00                   216.03   \n",
       "NOAA 20_VIIRS_NASA2.0NRT                   443.42                     0.00   \n",
       "SENTINEL_3A_SLSTR_ESA                      743.90                   512.23   \n",
       "SENTINEL_3A_SLSTR_EUMETSAT                 717.01                   513.76   \n",
       "SENTINEL_3B_SLSTR_ESA                     1076.07                   830.25   \n",
       "SENTINEL_3B_SLSTR_EUMETSAT                1143.51                   826.26   \n",
       "SUOMI NPP_VIIRS_LANDGATE                   413.14                   342.28   \n",
       "SUOMI NPP_VIIRS_NASA1                      545.03                   350.25   \n",
       "TERRA_MODIS_LANDGATE                       599.29                   502.84   \n",
       "TERRA_MODIS_NASA6.03                       477.04                   360.40   \n",
       "\n",
       "                                                                             \\\n",
       "2_satellite_sensor_product SENTINEL_3A_SLSTR_ESA SENTINEL_3A_SLSTR_EUMETSAT   \n",
       "satellite_sensor_product                                                      \n",
       "AQUA_MODIS_LANDGATE                       797.42                     791.79   \n",
       "AQUA_MODIS_NASA6.03                       627.02                     641.36   \n",
       "NOAA 20_VIIRS_LANDGATE                    582.21                     633.88   \n",
       "NOAA 20_VIIRS_NASA2.0NRT                  636.41                     636.35   \n",
       "SENTINEL_3A_SLSTR_ESA                       0.00                       0.64   \n",
       "SENTINEL_3A_SLSTR_EUMETSAT                  0.44                       0.00   \n",
       "SENTINEL_3B_SLSTR_ESA                    1086.27                        NaN   \n",
       "SENTINEL_3B_SLSTR_EUMETSAT                   NaN                        NaN   \n",
       "SUOMI NPP_VIIRS_LANDGATE                  617.93                     629.50   \n",
       "SUOMI NPP_VIIRS_NASA1                     600.95                     606.44   \n",
       "TERRA_MODIS_LANDGATE                      596.35                     620.10   \n",
       "TERRA_MODIS_NASA6.03                      508.89                     515.99   \n",
       "\n",
       "                                                                             \\\n",
       "2_satellite_sensor_product SENTINEL_3B_SLSTR_ESA SENTINEL_3B_SLSTR_EUMETSAT   \n",
       "satellite_sensor_product                                                      \n",
       "AQUA_MODIS_LANDGATE                       742.71                     991.74   \n",
       "AQUA_MODIS_NASA6.03                       607.58                     678.87   \n",
       "NOAA 20_VIIRS_LANDGATE                    630.36                     674.20   \n",
       "NOAA 20_VIIRS_NASA2.0NRT                  636.05                     634.22   \n",
       "SENTINEL_3A_SLSTR_ESA                     659.64                        NaN   \n",
       "SENTINEL_3A_SLSTR_EUMETSAT                   NaN                        NaN   \n",
       "SENTINEL_3B_SLSTR_ESA                       0.00                       3.68   \n",
       "SENTINEL_3B_SLSTR_EUMETSAT                  1.25                       0.00   \n",
       "SUOMI NPP_VIIRS_LANDGATE                  609.46                     685.54   \n",
       "SUOMI NPP_VIIRS_NASA1                     617.94                     661.30   \n",
       "TERRA_MODIS_LANDGATE                      670.89                     667.43   \n",
       "TERRA_MODIS_NASA6.03                      536.18                     550.90   \n",
       "\n",
       "                                                                           \\\n",
       "2_satellite_sensor_product SUOMI NPP_VIIRS_LANDGATE SUOMI NPP_VIIRS_NASA1   \n",
       "satellite_sensor_product                                                    \n",
       "AQUA_MODIS_LANDGATE                          700.95                533.41   \n",
       "AQUA_MODIS_NASA6.03                          506.36                342.64   \n",
       "NOAA 20_VIIRS_LANDGATE                       464.33                339.66   \n",
       "NOAA 20_VIIRS_NASA2.0NRT                     614.64                368.28   \n",
       "SENTINEL_3A_SLSTR_ESA                        850.16                573.29   \n",
       "SENTINEL_3A_SLSTR_EUMETSAT                   730.41                526.26   \n",
       "SENTINEL_3B_SLSTR_ESA                       1051.73                815.67   \n",
       "SENTINEL_3B_SLSTR_EUMETSAT                  1101.82                861.97   \n",
       "SUOMI NPP_VIIRS_LANDGATE                       0.00                204.19   \n",
       "SUOMI NPP_VIIRS_NASA1                        432.26                  0.00   \n",
       "TERRA_MODIS_LANDGATE                         610.54                458.55   \n",
       "TERRA_MODIS_NASA6.03                         477.09                332.45   \n",
       "\n",
       "                                                                      \n",
       "2_satellite_sensor_product TERRA_MODIS_LANDGATE TERRA_MODIS_NASA6.03  \n",
       "satellite_sensor_product                                              \n",
       "AQUA_MODIS_LANDGATE                      981.41              1376.21  \n",
       "AQUA_MODIS_NASA6.03                     1012.14              1230.38  \n",
       "NOAA 20_VIIRS_LANDGATE                   836.14              1076.44  \n",
       "NOAA 20_VIIRS_NASA2.0NRT                 908.61              1176.36  \n",
       "SENTINEL_3A_SLSTR_ESA                   1065.55              1426.92  \n",
       "SENTINEL_3A_SLSTR_EUMETSAT               971.23              1337.96  \n",
       "SENTINEL_3B_SLSTR_ESA                   1340.03              1660.44  \n",
       "SENTINEL_3B_SLSTR_EUMETSAT              1263.02              1647.50  \n",
       "SUOMI NPP_VIIRS_LANDGATE                 905.70              1142.27  \n",
       "SUOMI NPP_VIIRS_NASA1                    921.33              1180.87  \n",
       "TERRA_MODIS_LANDGATE                       0.00               568.03  \n",
       "TERRA_MODIS_NASA6.03                     123.47                 0.00  "
      ]
     },
     "execution_count": 50,
     "metadata": {},
     "output_type": "execute_result"
    }
   ],
   "source": [
    "averagedist = np.round(averagedist, 2)\n",
    "averagedist.to_csv(output_directory.joinpath(f\"{comparison_prefix}_average_distance_{dist_threshold}m.csv\"))\n",
    "averagedist"
   ]
  },
  {
   "cell_type": "code",
   "execution_count": 51,
   "metadata": {},
   "outputs": [],
   "source": [
    "#client.close() # close dask.distributed client"
   ]
  },
  {
   "cell_type": "code",
   "execution_count": null,
   "metadata": {},
   "outputs": [],
   "source": []
  }
 ],
 "metadata": {
  "kernelspec": {
   "display_name": "Python 3 (ipykernel)",
   "language": "python",
   "name": "python3"
  },
  "language_info": {
   "codemirror_mode": {
    "name": "ipython",
    "version": 3
   },
   "file_extension": ".py",
   "mimetype": "text/x-python",
   "name": "python",
   "nbconvert_exporter": "python",
   "pygments_lexer": "ipython3",
   "version": "3.8.10"
  }
 },
 "nbformat": 4,
 "nbformat_minor": 4
}
