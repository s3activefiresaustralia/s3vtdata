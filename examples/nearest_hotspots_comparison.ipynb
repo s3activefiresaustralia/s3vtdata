{
 "cells": [
  {
   "cell_type": "code",
   "execution_count": 1,
   "metadata": {},
   "outputs": [],
   "source": [
    "import os\n",
    "import sys\n",
    "from pathlib import Path\n",
    "import logging\n",
    "import time\n",
    "import shapely\n",
    "import pandas as pd\n",
    "import geopandas as gpd\n",
    "import seaborn\n",
    "import dask\n",
    "import numpy as np\n",
    "import dask.dataframe as dd\n",
    "from dask.distributed import Client\n",
    "\n",
    "sys.path.insert(0, '..')\n",
    "import src.hotspot_utils as util \n",
    "import src.process_nearest_hotspots as nearest_process"
   ]
  },
  {
   "cell_type": "code",
   "execution_count": 2,
   "metadata": {},
   "outputs": [],
   "source": [
    "logging.basicConfig(\n",
    "    format='%(asctime)s [%(levelname)s] %(name)s - %(message)s',\n",
    "    level=logging.DEBUG,\n",
    "    datefmt='%Y-%m-%d %H:%M:%S',\n",
    "    stream=sys.stdout,\n",
    ")\n",
    "_LOG = logging.getLogger(__name__)"
   ]
  },
  {
   "cell_type": "code",
   "execution_count": 3,
   "metadata": {},
   "outputs": [
    {
     "name": "stderr",
     "output_type": "stream",
     "text": [
      "/env/lib/python3.6/site-packages/distributed/client.py:1129: VersionMismatchWarning: Mismatched versions found\n",
      "\n",
      "+---------+--------+-----------+---------+\n",
      "| Package | client | scheduler | workers |\n",
      "+---------+--------+-----------+---------+\n",
      "| tornado | 6.1    | 6.1       | 6.0.4   |\n",
      "+---------+--------+-----------+---------+\n",
      "  warnings.warn(version_module.VersionMismatchWarning(msg[0][\"warning\"]))\n"
     ]
    },
    {
     "data": {
      "text/html": [
       "<table style=\"border: 2px solid white;\">\n",
       "<tr>\n",
       "<td style=\"vertical-align: top; border: 0px solid white\">\n",
       "<h3 style=\"text-align: left;\">Client</h3>\n",
       "<ul style=\"text-align: left; list-style: none; margin: 0; padding: 0;\">\n",
       "  <li><b>Scheduler: </b>tcp://127.0.0.1:39413</li>\n",
       "  <li><b>Dashboard: </b><a href='http://127.0.0.1:8787/status' target='_blank'>http://127.0.0.1:8787/status</a></li>\n",
       "</ul>\n",
       "</td>\n",
       "<td style=\"vertical-align: top; border: 0px solid white\">\n",
       "<h3 style=\"text-align: left;\">Cluster</h3>\n",
       "<ul style=\"text-align: left; list-style:none; margin: 0; padding: 0;\">\n",
       "  <li><b>Workers: </b>8</li>\n",
       "  <li><b>Cores: </b>16</li>\n",
       "  <li><b>Memory: </b>66.57 GB</li>\n",
       "</ul>\n",
       "</td>\n",
       "</tr>\n",
       "</table>"
      ],
      "text/plain": [
       "<Client: 'tcp://127.0.0.1:39413' processes=8 threads=16, memory=66.57 GB>"
      ]
     },
     "execution_count": 3,
     "metadata": {},
     "output_type": "execute_result"
    }
   ],
   "source": [
    "# include n_workers equal or less than the number of core\n",
    "client = Client(n_workers=8)\n",
    "client"
   ]
  },
  {
   "cell_type": "code",
   "execution_count": 4,
   "metadata": {},
   "outputs": [],
   "source": [
    "# This is the output directory outputs and itermediary files from this notebook examples will be stored.\n",
    "outdir = Path(\"/home/jovyan/s3vt_dask/s3vtdata/workdir\")"
   ]
  },
  {
   "cell_type": "markdown",
   "metadata": {},
   "source": [
    "# Processing Parameter used in Sub-setting Spatial Extent and Temporal Range for Area of Interest\n",
    "##### The FRP data from nasa, esa, eumetsat and landgate are merged, sub-setted and neareast hotspots csv files are generated based on the parameters in `processing_parameters`  \n",
    "##### The parameter `chunks` in blocking FRP data to enable multi-processing. If you encounter memory issues then higher the number.\n",
    "##### The `start_time` and `end_time` can be used to subset for solar_day (3:00-22:00), solar_night (22:00-03:00) and solar_all(0:00-24:00) hours."
   ]
  },
  {
   "cell_type": "code",
   "execution_count": 5,
   "metadata": {},
   "outputs": [],
   "source": [
    "processing_parameters = {\n",
    "    \"nasa_frp\": \"s3://s3vtaustralia/nasa_hotspots_gdf.geojson\",\n",
    "    \"esa_frp\": \"s3://s3vtaustralia/s3vt_hotspots.geojson\",\n",
    "    \"eumetsat_frp\": \"s3://s3vtaustralia/s3vt_eumetsat_hotspots.geojson\",\n",
    "    \"landgate_frp\": \"s3://s3vtaustralia/landgate_hotspots_gdf.geojson\",\n",
    "    \"dea_frp\": None,\n",
    "    \"lon_west\": 147.0,\n",
    "    \"lat_south\": -38.0,\n",
    "    \"lon_east\": 154.0,\n",
    "    \"lat_north\": -27.,\n",
    "    \"start_date\": \"2019-11-01\",\n",
    "    \"end_date\": \"2020-10-08\",\n",
    "    \"start_time\": \"03:00\",\n",
    "    \"end_time\": \"22:00\",\n",
    "    \"chunks\": 500,\n",
    "    \"outdir\": outdir,\n",
    "    \"compare_field\": \"solar_day\",\n",
    "    \"swath_config_file\": Path(\"/home/jovyan/s3vtconfig.yaml\"),\n",
    "}"
   ]
  },
  {
   "cell_type": "code",
   "execution_count": null,
   "metadata": {},
   "outputs": [
    {
     "name": "stderr",
     "output_type": "stream",
     "text": [
      "2021-08-16 00:50:53,558: INFO: Processing FRP Hotspots Datasets\n",
      "2021-08-16 00:50:53,572: INFO: Found credentials in environment variables.\n",
      "2021-08-16 00:50:53,708: INFO: Fetching FRP datasets...\n",
      "2021-08-16 00:50:53,710: INFO: s3://s3vtaustralia/nasa_hotspots_gdf.geojson exists: skipped download\n",
      "2021-08-16 00:50:53,710: INFO: s3://s3vtaustralia/s3vt_hotspots.geojson exists: skipped download\n",
      "2021-08-16 00:50:53,711: INFO: s3://s3vtaustralia/s3vt_eumetsat_hotspots.geojson exists: skipped download\n",
      "2021-08-16 00:50:53,712: INFO: s3://s3vtaustralia/landgate_hotspots_gdf.geojson exists: skipped download\n",
      "2021-08-16 00:50:53,712: INFO: dea Hotspots FRP  is None. excluding from analysis.\n",
      "2021-08-16 00:50:53,713: INFO: Reading...\n",
      "2021-08-16 00:50:53,713: INFO: reading and subsetting GeoDataFrame for nasa: /home/jovyan/s3vt_dask/s3vtdata/workdir/nasa_hotspots_gdf.geojson\n",
      "2021-08-16 00:52:35,885: INFO: reading and subsetting GeoDataFrame for esa: /home/jovyan/s3vt_dask/s3vtdata/workdir/s3vt_hotspots.geojson\n",
      "2021-08-16 00:53:32,645: INFO: reading and subsetting GeoDataFrame for eumetsat: /home/jovyan/s3vt_dask/s3vtdata/workdir/s3vt_eumetsat_hotspots.geojson\n"
     ]
    }
   ],
   "source": [
    "# This is to generate nearest .csv files. If .csv files already exists then skip this process. Takes around ~5-6 hours in this sandbox environment with 2-core and 16 GB RAM\n",
    "nearest_hotspots_product_files = nearest_process.process_nearest_points(**processing_parameters)"
   ]
  },
  {
   "cell_type": "code",
   "execution_count": null,
   "metadata": {},
   "outputs": [],
   "source": []
  },
  {
   "cell_type": "markdown",
   "metadata": {},
   "source": [
    "## Nearest Hotspots DataFrame merged from neareast hotspots csv files"
   ]
  },
  {
   "cell_type": "code",
   "execution_count": null,
   "metadata": {},
   "outputs": [],
   "source": [
    "# csv directory is where nearest hotspots csv files are stored. \n",
    "csv_directory = outdir\n",
    "print(csv_directory)\n",
    "# This is read all the .csv files if name starts with `nearest_points` and ends with `compare_field` value from processing parameters.\n",
    "nearest_hotspots_csv_files = [\n",
    "    fp for fp in csv_directory.iterdir()\n",
    "    if (fp.name.startswith(\"nearest_points\"))\n",
    "    and (fp.name.endswith(\"csv\"))\n",
    "]"
   ]
  },
  {
   "cell_type": "code",
   "execution_count": null,
   "metadata": {},
   "outputs": [],
   "source": [
    "# nearest points csv files that will be used analysis from here on.\n",
    "nearest_hotspots_csv_files"
   ]
  },
  {
   "cell_type": "code",
   "execution_count": null,
   "metadata": {},
   "outputs": [],
   "source": [
    "# returns a dask DataFrame with index set at column `compare_field` from processing_parameters.\n",
    "nearest_points_ddf = util.csv_to_dataframe(nearest_hotspots_csv_files, processing_parameters[\"compare_field\"])"
   ]
  },
  {
   "cell_type": "code",
   "execution_count": null,
   "metadata": {},
   "outputs": [],
   "source": [
    "nearest_points_ddf.head()"
   ]
  },
  {
   "cell_type": "markdown",
   "metadata": {},
   "source": [
    "# Results\n",
    "## Co-occurrence metrics"
   ]
  },
  {
   "cell_type": "code",
   "execution_count": null,
   "metadata": {},
   "outputs": [],
   "source": [
    "region_alias = \"nsw\"\n",
    "output_directory = processing_parameters[\"outdir\"]\n",
    "comparison_prefix = (\n",
    "    f\"{processing_parameters['start_date'].replace('-', '')}\"\n",
    "    f\"_{processing_parameters['end_date'].replace('-', '')}\"\n",
    "    f\"_{processing_parameters['start_time'].replace(':','')}\"\n",
    "    f\"_{processing_parameters['end_time'].replace(':','')}\"\n",
    "    f\"_{region_alias}\"\n",
    ")"
   ]
  },
  {
   "cell_type": "code",
   "execution_count": null,
   "metadata": {},
   "outputs": [],
   "source": [
    "# set the nearest distance threshold between two hotspots to confine the analysis within the distance threshold.  \n",
    "dist_threshold = 5000  # units in meters"
   ]
  },
  {
   "cell_type": "code",
   "execution_count": null,
   "metadata": {},
   "outputs": [],
   "source": [
    "nearest_ddf_dist_subset = client.persist(nearest_points_ddf[nearest_points_ddf[\"dist_m\"] < dist_threshold])"
   ]
  },
  {
   "cell_type": "code",
   "execution_count": null,
   "metadata": {},
   "outputs": [],
   "source": [
    "# Count of hotspot matches < dist_threshold\n",
    "numerator = util.dask_pivot_table(\n",
    "    nearest_ddf_dist_subset,\n",
    "    index=\"2_satellite_sensor_product\",\n",
    "    column=\"satellite_sensor_product\",\n",
    "    values=\"count\",\n",
    "    aggfunc=\"count\"\n",
    ").compute()"
   ]
  },
  {
   "cell_type": "code",
   "execution_count": null,
   "metadata": {},
   "outputs": [],
   "source": [
    "numerator.astype(int).to_csv(output_directory.joinpath(f\"{comparison_prefix}_matches_{dist_threshold}.csv\"))\n",
    "numerator.astype(int)"
   ]
  },
  {
   "cell_type": "code",
   "execution_count": null,
   "metadata": {},
   "outputs": [],
   "source": [
    "# Count of hotspot matches - total  \n",
    "denominator = util.dask_pivot_table(\n",
    "        nearest_points_ddf,\n",
    "        index=\"2_satellite_sensor_product\",\n",
    "        column=\"satellite_sensor_product\",\n",
    "        values=\"count\",\n",
    "        aggfunc=\"count\",\n",
    "    ).compute()"
   ]
  },
  {
   "cell_type": "code",
   "execution_count": null,
   "metadata": {},
   "outputs": [],
   "source": [
    "denominator.astype(int).to_csv(output_directory.joinpath(f\"{comparison_prefix}_matches_count.csv\"))\n",
    "denominator.astype(int)"
   ]
  },
  {
   "cell_type": "code",
   "execution_count": null,
   "metadata": {},
   "outputs": [],
   "source": [
    "# Difference of matched points closer than 5000m\n",
    "difference = denominator - numerator"
   ]
  },
  {
   "cell_type": "code",
   "execution_count": null,
   "metadata": {},
   "outputs": [],
   "source": [
    "difference.astype(int).to_csv(output_directory.joinpath(f\"{comparison_prefix}_count_difference.csv\"))\n",
    "difference.astype(int)"
   ]
  },
  {
   "cell_type": "code",
   "execution_count": null,
   "metadata": {},
   "outputs": [],
   "source": [
    "# Percentage of matched points closer than dist_threshold\n",
    "percentage = (numerator / denominator) * 100\n",
    "percentage = np.round(percentage, 2)"
   ]
  },
  {
   "cell_type": "code",
   "execution_count": null,
   "metadata": {},
   "outputs": [],
   "source": [
    "percentage.to_csv(output_directory.joinpath(f\"{comparison_prefix}_percentage.csv\"))\n",
    "percentage"
   ]
  },
  {
   "cell_type": "code",
   "execution_count": null,
   "metadata": {},
   "outputs": [],
   "source": [
    "# Maximum time between match points < dist_threshold\n",
    "timemax = util.pandas_pivot_table(\n",
    "    nearest_ddf_dist_subset.compute(),\n",
    "    index=[\"satellite_sensor_product\"],\n",
    "    columns=[\"2_satellite_sensor_product\"],\n",
    "    values=[\"timedelta\"],\n",
    "    aggfunc={\"timedelta\": np.max}\n",
    "    \n",
    ")"
   ]
  },
  {
   "cell_type": "code",
   "execution_count": null,
   "metadata": {},
   "outputs": [],
   "source": [
    "timemax.to_csv(output_directory.joinpath(f\"{comparison_prefix}_max_time_matched_points.csv\"))\n",
    "timemax"
   ]
  },
  {
   "cell_type": "code",
   "execution_count": null,
   "metadata": {},
   "outputs": [],
   "source": [
    "# Minimum time between match points < dist_threshold\n",
    "timemin = util.pandas_pivot_table(\n",
    "    nearest_ddf_dist_subset.compute(),\n",
    "    index=[\"satellite_sensor_product\"],\n",
    "    columns=[\"2_satellite_sensor_product\"],\n",
    "    values=[\"timedelta\"],\n",
    "    aggfunc={\"timedelta\": np.min}\n",
    "    \n",
    ")"
   ]
  },
  {
   "cell_type": "code",
   "execution_count": null,
   "metadata": {},
   "outputs": [],
   "source": [
    "timemin.to_csv(output_directory.joinpath(f\"{comparison_prefix}_min_time_matched_points.csv\"))\n",
    "timemin"
   ]
  },
  {
   "cell_type": "code",
   "execution_count": null,
   "metadata": {},
   "outputs": [],
   "source": [
    "# Average distance (m) between matched points < dist_threshold\n",
    "averagedist = util.dask_pivot_table(\n",
    "    nearest_ddf_dist_subset,\n",
    "    index=\"2_satellite_sensor_product\",\n",
    "    column=\"satellite_sensor_product\",\n",
    "    values=\"dist_m\",\n",
    "    aggfunc=\"mean\",\n",
    ").compute()"
   ]
  },
  {
   "cell_type": "code",
   "execution_count": null,
   "metadata": {},
   "outputs": [],
   "source": [
    "averagedist = np.round(averagedist, 2)\n",
    "averagedist.to_csv(output_directory.joinpath(f\"{comparison_prefix}_average_distance_{dist_threshold}m.csv\"))\n",
    "averagedist"
   ]
  },
  {
   "cell_type": "code",
   "execution_count": null,
   "metadata": {},
   "outputs": [],
   "source": [
    "client.close() # close dask.distributed client"
   ]
  },
  {
   "cell_type": "code",
   "execution_count": null,
   "metadata": {},
   "outputs": [],
   "source": []
  }
 ],
 "metadata": {
  "kernelspec": {
   "display_name": "Python 3",
   "language": "python",
   "name": "python3"
  },
  "language_info": {
   "codemirror_mode": {
    "name": "ipython",
    "version": 3
   },
   "file_extension": ".py",
   "mimetype": "text/x-python",
   "name": "python",
   "nbconvert_exporter": "python",
   "pygments_lexer": "ipython3",
   "version": "3.6.9"
  }
 },
 "nbformat": 4,
 "nbformat_minor": 4
}
