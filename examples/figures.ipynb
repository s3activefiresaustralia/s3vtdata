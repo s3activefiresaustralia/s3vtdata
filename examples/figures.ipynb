{
 "cells": [
  {
   "cell_type": "code",
   "execution_count": null,
   "id": "85ebd8ee-1351-46c7-a4e1-221f8a166145",
   "metadata": {},
   "outputs": [],
   "source": [
    "import pandas as pd\n",
    "pd.options.plotting.backend = \"plotly\"\n",
    "import geopandas as gpd"
   ]
  },
  {
   "cell_type": "code",
   "execution_count": null,
   "id": "4fccda4a-8458-4ecc-a7ee-ccd26715f63d",
   "metadata": {},
   "outputs": [],
   "source": [
    "eumetsat = gpd.read_file('workdir_test1/s3vt_eumetsat_hotspots.geojson')"
   ]
  },
  {
   "cell_type": "code",
   "execution_count": null,
   "id": "44d75b7a-b80e-4f2a-97af-68663a4ac3dc",
   "metadata": {},
   "outputs": [],
   "source": [
    "eumetsat.date.max()"
   ]
  },
  {
   "cell_type": "code",
   "execution_count": null,
   "id": "4255b66a-30d7-45c6-a72d-f9a9b273f5ca",
   "metadata": {},
   "outputs": [],
   "source": [
    "esa_s3 = gpd.read_file('workdir_test1/s3vt_hotspots.geojson')"
   ]
  },
  {
   "cell_type": "code",
   "execution_count": null,
   "id": "f425e44e-2375-49be-8506-ea10d02e2863",
   "metadata": {},
   "outputs": [],
   "source": [
    "esa_s3.date.max()"
   ]
  },
  {
   "cell_type": "code",
   "execution_count": null,
   "id": "abea20ae-dff1-4b06-bba3-a662e259d7ea",
   "metadata": {},
   "outputs": [],
   "source": [
    "s3swaths = gpd.read_file('workdir_test1/sentinel3_swath_gdfs.geojson')"
   ]
  },
  {
   "cell_type": "code",
   "execution_count": null,
   "id": "b4383fd9-7fdf-4ada-b817-a801e14af725",
   "metadata": {},
   "outputs": [],
   "source": [
    "import shapely.wkt\n",
    "continental = shapely.wkt.loads('POLYGON ((154 -44, 154 -10, 113 -10, 113 -44, 154 -44))')"
   ]
  },
  {
   "cell_type": "code",
   "execution_count": null,
   "id": "f6ca3f34-88ce-4a3e-952b-be582882f9ab",
   "metadata": {},
   "outputs": [],
   "source": [
    "regional = shapely.wkt.loads('POLYGON ((154 -38, 154 -27, 147 -27, 147 -38, 154 -38))')"
   ]
  },
  {
   "cell_type": "code",
   "execution_count": null,
   "id": "4ef19973-7324-4cec-b3a0-f595caf59cf4",
   "metadata": {},
   "outputs": [],
   "source": [
    "regional"
   ]
  },
  {
   "cell_type": "code",
   "execution_count": null,
   "id": "a472e84e-045a-494e-9313-edba2b19e005",
   "metadata": {},
   "outputs": [],
   "source": [
    "list1 = [1,2,3,4,6,1,2]"
   ]
  },
  {
   "cell_type": "code",
   "execution_count": null,
   "id": "56eaba71-a4d3-4ba1-b7cb-e1a2f41acde1",
   "metadata": {},
   "outputs": [],
   "source": [
    "newlist = []\n",
    "for i in list1:\n",
    "    if i in newlist:\n",
    "        pass\n",
    "    else:\n",
    "        newlist.append(i)"
   ]
  },
  {
   "cell_type": "code",
   "execution_count": null,
   "id": "17b48993-8362-48f2-ae30-748660a66cf2",
   "metadata": {},
   "outputs": [],
   "source": [
    "newlist"
   ]
  },
  {
   "cell_type": "code",
   "execution_count": null,
   "id": "6bc20d52-d810-4835-882f-54ffbfd9e725",
   "metadata": {},
   "outputs": [],
   "source": [
    "!wget 'http://thematicmapping.org/downloads/TM_WORLD_BORDERS_SIMPL-0.3.zip'\n",
    "australia = gpd.GeoDataFrame.from_file('zip://TM_WORLD_BORDERS_SIMPL-0.3.zip')"
   ]
  },
  {
   "cell_type": "code",
   "execution_count": null,
   "id": "28579885-7d24-4657-bd27-c0b82d0822bd",
   "metadata": {},
   "outputs": [],
   "source": [
    "australia = australia[australia.NAME=='Australia']"
   ]
  },
  {
   "cell_type": "code",
   "execution_count": null,
   "id": "95beb5ca-888a-4dea-9a45-e18a2476501c",
   "metadata": {},
   "outputs": [],
   "source": [
    "from matplotlib.legend_handler import HandlerLine2D\n",
    "import matplotlib.pyplot as plt\n",
    "with plt.style.context((\"seaborn\", \"ggplot\")):\n",
    "    fig, ax = plt.subplots()\n",
    "\n",
    "    # set aspect to equal. This is done automatically\n",
    "    # when using *geopandas* plot on it's own, but not when\n",
    "    # working with pyplot directly.\n",
    "    ax.set_aspect('equal')\n",
    "    \n",
    "    australia.plot(ax=ax, color='white', edgecolor='black')\n",
    "    plt.plot(*continental.exterior.xy, color=\"blue\")\n",
    "    plt.plot(*regional.exterior.xy, color=\"red\")\n",
    "    #regional.plot(ax=ax, marker='o', color='red', markersize=5)\n",
    "    plt.title(\"Continental and regional study extents\")\n",
    "    plt.legend=True\n",
    "    xlim = ([110,156])\n",
    "    ylim = ([-45,-8])\n",
    "    \n",
    "    ax.set_xlim(xlim)\n",
    "    ax.set_ylim(ylim)\n",
    "\n",
    "    line1, = plt.plot([3, 2, 1], marker='o', label='Line 1')\n",
    "    line2, = plt.plot([1, 2, 3], marker='o', label='Line 2')\n",
    "\n",
    "    #plt.legend(handler_map={line1: HandlerLine2D(numpoints=4)})\n",
    "\n",
    "    plt.savefig('studyextent.png', dpi=300, bbox_inches='tight')\n",
    "    plt.show();"
   ]
  },
  {
   "cell_type": "code",
   "execution_count": null,
   "id": "c55462b1-6376-4b97-8448-5ec923943bac",
   "metadata": {},
   "outputs": [],
   "source": [
    "#intersect = gpd.read_file('debug/2020-02-29-0944-1928/swath_intersection_AQUA_TERRA_20200229_0944_1928.geojson')\n",
    "#hotspots = gpd.read_file('debug/2020-02-29-0944-1928/AQUA_MODIS_LANDGATE_and_TERRA_MODIS_LANDGATE_20200229_0944_1928.geojson')    \n",
    "intersect = gpd.read_file('debug/2020-02-09-0944-1928/swath_intersection_AQUA_NOAA 20_20200209_0944_1928.geojson')\n",
    "hotspots = gpd.read_file('debug/2020-02-09-0944-1928/AQUA_MODIS_NASA6.03_and_SUOMI_NPP_VIIRS_LANDGATE_20200209_0944_1928.geojson')                     "
   ]
  },
  {
   "cell_type": "code",
   "execution_count": null,
   "id": "0bcad366-9d55-491d-961c-d6988830a2de",
   "metadata": {},
   "outputs": [],
   "source": [
    "intersect"
   ]
  },
  {
   "cell_type": "code",
   "execution_count": null,
   "id": "1725fab1-7bec-482a-86df-da8a9e905c63",
   "metadata": {},
   "outputs": [],
   "source": [
    "from matplotlib.legend_handler import HandlerLine2D\n",
    "import matplotlib.pyplot as plt\n",
    "with plt.style.context((\"seaborn\", \"ggplot\")):\n",
    "    fig, ax = plt.subplots()\n",
    "\n",
    "    # set aspect to equal. This is done automatically\n",
    "    # when using *geopandas* plot on it's own, but not when\n",
    "    # working with pyplot directly.\n",
    "    ax.set_aspect('equal')\n",
    "    \n",
    "    australia.plot(ax=ax, color='white', edgecolor='black')\n",
    "    #plt.plot(*intersect.exterior.xy, color=\"blue\")\n",
    "    #plt.plot(*regional.exterior.xy, color=\"red\")\n",
    "    intersect.plot(ax=ax, color=None, edgecolor='green',linewidth = 2, facecolor='none')\n",
    "    hotspots.plot(ax=ax, color=None, edgecolor='red')\n",
    "    #regional.plot(ax=ax, marker='o', color='red', markersize=5)\n",
    "    plt.title(\"Aqua MODIS and Suomi NPP VIIRS\\n swath intersection 2020-02-29\")\n",
    "    plt.legend=True\n",
    "    xlim = ([105,161])\n",
    "    ylim = ([-51,1])\n",
    "    \n",
    "    ax.set_xlim(xlim)\n",
    "    ax.set_ylim(ylim)\n",
    "\n",
    "    line1, = plt.plot([3, 2, 1], marker='o', label='Line 1')\n",
    "    line2, = plt.plot([1, 2, 3], marker='o', label='Line 2')\n",
    "\n",
    "    #plt.legend(handler_map={line1: HandlerLine2D(numpoints=4)})\n",
    "\n",
    "    plt.savefig('intesection.png', dpi=300, bbox_inches='tight')\n",
    "    plt.show();"
   ]
  },
  {
   "cell_type": "code",
   "execution_count": null,
   "id": "1964fb63-2750-44a4-b52b-4956d02455e4",
   "metadata": {},
   "outputs": [],
   "source": [
    "base = australia.plot(color='white', edgecolor='black')"
   ]
  },
  {
   "cell_type": "code",
   "execution_count": null,
   "id": "6b9de68b-1122-47ef-a2c1-bda91d692383",
   "metadata": {},
   "outputs": [],
   "source": [
    "esa_s3[(pd.to_datetime(esa_s3['date']).dt.date == np.datetime64('2020-02-04')) & (esa_s3['satellite'] == 'SENTINEL_3B') ].geometry"
   ]
  },
  {
   "cell_type": "code",
   "execution_count": null,
   "id": "9562926c-760b-4ca3-b00c-0acb0d486e89",
   "metadata": {},
   "outputs": [],
   "source": [
    "arr = np.random.randn(500000*2).reshape((500000, 2))"
   ]
  },
  {
   "cell_type": "code",
   "execution_count": null,
   "id": "53796f22-3f8f-4d08-8118-315c5a44dada",
   "metadata": {},
   "outputs": [],
   "source": [
    "arr[2]"
   ]
  },
  {
   "cell_type": "code",
   "execution_count": null,
   "id": "73cb1caa-a4cc-4f6b-8968-2e30d8dd053a",
   "metadata": {},
   "outputs": [],
   "source": [
    "list(zip(esa_s3[(pd.to_datetime(esa_s3['date']).dt.date == np.datetime64('2020-02-04')) & (esa_s3['satellite'] == 'SENTINEL_3B') ].geometry)"
   ]
  },
  {
   "cell_type": "code",
   "execution_count": null,
   "id": "cf53c152-5692-4e9d-8f76-a307de9be0bc",
   "metadata": {},
   "outputs": [],
   "source": [
    "import numpy as np\n",
    "import matplotlib.pyplot as plt\n",
    "from scipy.cluster.vq import kmeans2, whiten\n",
    "#arr = np.array(esa_s3[(pd.to_datetime(esa_s3['date']).dt.date == np.datetime64('2020-02-04')) & (esa_s3['satellite'] == 'SENTINEL_3B') ].geometry)\n",
    "arr = np.random.randn(500000*2).reshape((500000, 2))\n",
    "x, y = kmeans2(whiten(arr), 3, iter = 20)  #<--- I randomly picked 7 clusters\n",
    "plt.scatter(arr[:,0], arr[:,1], c=y, alpha=0.33333);"
   ]
  },
  {
   "cell_type": "code",
   "execution_count": null,
   "id": "86729ece-0cb5-44fd-b6d7-8a6d9cdc2a47",
   "metadata": {},
   "outputs": [],
   "source": [
    "s3swaths[(pd.to_datetime(s3swaths['AcquisitionOfSignalLocal']).dt.date == np.datetime64('2020-02-04')) & (s3swaths['Satellite'] == 'Sentinel_3B') ].plot()"
   ]
  },
  {
   "cell_type": "code",
   "execution_count": null,
   "id": "39e86728-9598-4211-a7e3-a6b40a94d124",
   "metadata": {},
   "outputs": [],
   "source": [
    "s3swaths[(pd.to_datetime(s3swaths['AcquisitionOfSignalLocal']).dt.date == np.datetime64('2020-02-04')) & (s3swaths['Satellite'] == 'Sentinel_3B') & (s3swaths['geometry'].is_valid == True)].plot()"
   ]
  },
  {
   "cell_type": "code",
   "execution_count": null,
   "id": "612a568d-c084-425e-9e7c-5a43421a0f57",
   "metadata": {},
   "outputs": [],
   "source": [
    "gpd.clip(s3swaths[(pd.to_datetime(s3swaths['AcquisitionOfSignalLocal']).dt.date == np.datetime64('2020-02-04')) & (s3swaths['Satellite'] == 'Sentinel_3B')], bounds)"
   ]
  },
  {
   "cell_type": "code",
   "execution_count": null,
   "id": "e3dc3754-bdfc-4857-8182-57e428e83ece",
   "metadata": {},
   "outputs": [],
   "source": [
    "s3swaths"
   ]
  },
  {
   "cell_type": "code",
   "execution_count": null,
   "id": "278590a3-c3d6-4162-9d5a-31cc0e78af7f",
   "metadata": {},
   "outputs": [],
   "source": [
    "esa_s3[(pd.to_datetime(esa_s3['date']).dt.date == np.datetime64('2020-02-04')) & (esa_s3['satellite'] == 'SENTINEL_3B') ].solar_day"
   ]
  },
  {
   "cell_type": "code",
   "execution_count": null,
   "id": "b0e8f12b-5e9c-42d3-8bee-e827cc98c63b",
   "metadata": {},
   "outputs": [],
   "source": [
    "esa_s3.date.max()"
   ]
  },
  {
   "cell_type": "code",
   "execution_count": null,
   "id": "ee86a571-f746-46c9-8a86-a70eaa8d99d6",
   "metadata": {},
   "outputs": [],
   "source": []
  },
  {
   "cell_type": "code",
   "execution_count": null,
   "id": "43332e60-fcdb-4c76-9337-ce10f16984ca",
   "metadata": {},
   "outputs": [],
   "source": [
    "import numpy as np\n",
    "esa_s3[(pd.to_datetime(esa_s3['date']).dt.date == np.datetime64('2020-02-03')) & (esa_s3['satellite'] == 'SENTINEL_3B') ].plot()"
   ]
  },
  {
   "cell_type": "code",
   "execution_count": null,
   "id": "421e6ee4-e5d3-4da0-9817-622a05bdfc2c",
   "metadata": {},
   "outputs": [],
   "source": [
    "nasa = gpd.read_file('workdir_test1/nasa_hotspots_gdf.geojson')"
   ]
  },
  {
   "cell_type": "code",
   "execution_count": null,
   "id": "95f52e73-3d80-445f-9602-e4938436fcf9",
   "metadata": {},
   "outputs": [],
   "source": [
    "nasa.datetime.min()"
   ]
  },
  {
   "cell_type": "code",
   "execution_count": null,
   "id": "6bbcb761-bc09-4bdb-b5b3-c7f461dd7f92",
   "metadata": {},
   "outputs": [],
   "source": [
    "nasa.datetime.max()"
   ]
  },
  {
   "cell_type": "code",
   "execution_count": null,
   "id": "01109ad5-07a8-4e22-b606-6a7485c91b24",
   "metadata": {},
   "outputs": [],
   "source": [
    "landgate = gpd.read_file('workdir_test1/landgate_hotspots_gdf.geojson')"
   ]
  },
  {
   "cell_type": "code",
   "execution_count": null,
   "id": "24e1ead8-819f-4d5e-a2f5-111238c6b87d",
   "metadata": {},
   "outputs": [],
   "source": [
    "landgate.datetime.max()"
   ]
  },
  {
   "cell_type": "code",
   "execution_count": null,
   "id": "63aa0840-2020-4df9-9124-6223e9906c75",
   "metadata": {},
   "outputs": [],
   "source": [
    "esa_s3[esa_s3.satellite == 'SENTINEL_3B'].date.plot()"
   ]
  },
  {
   "cell_type": "code",
   "execution_count": null,
   "id": "c04b54ea-ac77-4efc-95d2-ab1384be97ac",
   "metadata": {},
   "outputs": [],
   "source": []
  }
 ],
 "metadata": {
  "kernelspec": {
   "display_name": "Python 3 (ipykernel)",
   "language": "python",
   "name": "python3"
  },
  "language_info": {
   "codemirror_mode": {
    "name": "ipython",
    "version": 3
   },
   "file_extension": ".py",
   "mimetype": "text/x-python",
   "name": "python",
   "nbconvert_exporter": "python",
   "pygments_lexer": "ipython3",
   "version": "3.8.10"
  }
 },
 "nbformat": 4,
 "nbformat_minor": 5
}
