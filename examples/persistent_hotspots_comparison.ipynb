{
 "cells": [
  {
   "cell_type": "code",
   "execution_count": null,
   "metadata": {},
   "outputs": [],
   "source": [
    "import os\n",
    "import sys\n",
    "from pathlib import Path\n",
    "import logging\n",
    "import time\n",
    "import pandas as pd\n",
    "import geopandas as gpd\n",
    "import seaborn\n",
    "import dask\n",
    "import numpy as np\n",
    "import dask.dataframe as dd\n",
    "from dask.distributed import Client\n",
    "\n",
    "sys.path.insert(0, '..')\n",
    "import src.hotspot_utils as util"
   ]
  },
  {
   "cell_type": "code",
   "execution_count": null,
   "metadata": {},
   "outputs": [],
   "source": [
    "logging.basicConfig(\n",
    "    format='%(asctime)s [%(levelname)s] %(name)s - %(message)s',\n",
    "    level=logging.DEBUG,\n",
    "    datefmt='%Y-%m-%d %H:%M:%S',\n",
    "    stream=sys.stdout,\n",
    ")\n",
    "_LOG = logging.getLogger(__name__)"
   ]
  },
  {
   "cell_type": "code",
   "execution_count": null,
   "metadata": {},
   "outputs": [],
   "source": [
    "# include n_workers equal or less than the number of core\n",
    "# To visualise status in Dask add /user/<username>/proxy/8787/status\n",
    "client = Client(n_workers=8)\n",
    "client"
   ]
  },
  {
   "cell_type": "markdown",
   "metadata": {},
   "source": [
    "# Persistent Hotspot Comparison\n",
    "Landgate developed a set of persistent hotspots  (v5.2) by associating recurrent hotspots with known heat sources (industrial activity). Knowledge of persistent hotspots are used here to provide a baseline for the ability of a given sensor to detect hotspots. \n",
    "\n",
    "Persistent hotspots, together with high resolution hotspot sources from Sentinel 2 MSI and Landsat Enhanced Thematic Mapper and Opertional Land Imager sensors are used here to validate hotspots from the AVHRR, VIIRS, MODIS and SLSTR instruments.  "
   ]
  },
  {
   "cell_type": "code",
   "execution_count": null,
   "metadata": {},
   "outputs": [],
   "source": [
    "# This is the output directory outputs and itermediary files from this notebook examples will be stored.\n",
    "outdir =  Path(\"/home/jovyan/s3vt_dask/s3vtdata/workdir_test3\")\n",
    "\n",
    "# Data directory where .geojson files and presistent hotspots shape files are located.\n",
    "data_dir = Path(\"/home/jovyan/s3vt_dask/s3vtdata/workdir_test1\")"
   ]
  },
  {
   "cell_type": "code",
   "execution_count": null,
   "metadata": {},
   "outputs": [],
   "source": [
    "# Read persistent hotspots from a shape file in the zip folder.\n",
    "persistent_hotspots_gdf = gpd.GeoDataFrame.from_file(f\"zip://{data_dir.joinpath('Known non FHS - Version 5.2.zip')}/Version 5.2/known_non_FHS.shp\")"
   ]
  },
  {
   "cell_type": "code",
   "execution_count": null,
   "metadata": {},
   "outputs": [],
   "source": [
    "persistent_hotspots_gdf = persistent_hotspots_gdf.rename(columns={'Latitude': 'latitude', 'Longitude': 'longitude'})"
   ]
  },
  {
   "cell_type": "code",
   "execution_count": null,
   "metadata": {},
   "outputs": [],
   "source": [
    "persistent_hotspots_gdf"
   ]
  },
  {
   "cell_type": "code",
   "execution_count": null,
   "metadata": {},
   "outputs": [],
   "source": [
    "# This is a processing parameter to load hotspots from a .geojson files within the temporal and spatial bounds provided.\n",
    "processing_parameters = {\n",
    "    \"nasa_frp\": \"s3://s3vtaustralia/nasa_hotspots_gdf.geojson\",\n",
    "    \"esa_frp\": \"s3://s3vtaustralia/s3vt_hotspots.geojson\",\n",
    "    \"eumetsat_frp\": \"s3://s3vtaustralia/s3vt_eumetsat_hotspots.geojson\",\n",
    "    \"landgate_frp\": \"s3://s3vtaustralia/landgate_hotspots_gdf.geojson\",\n",
    "    \"dea_frp\": None,\n",
    "    \"start_date\": \"2019-11-01\",\n",
    "    \"end_date\": \"2020-10-08\",\n",
    "    \"bbox\": (113.0, -44.0, 154.0, -10.0),\n",
    "    \"chunks\": 300,\n",
    "    \"outdir\": outdir,\n",
    "}"
   ]
  },
  {
   "cell_type": "code",
   "execution_count": null,
   "metadata": {},
   "outputs": [],
   "source": [
    "processing_parameters = {\n",
    "    \"nasa_frp\": \"s3://s3vtaustralia/nasa_hotspots_gdf.geojson\",\n",
    "    \"esa_frp\": \"s3://s3vtaustralia/s3vt_hotspots.geojson\",\n",
    "    \"eumetsat_frp\": \"s3://s3vtaustralia/s3vt_eumetsat_hotspots.geojson\",\n",
    "    \"landgate_frp\": \"s3://s3vtaustralia/landgate_hotspots_gdf.geojson\",\n",
    "    \"sentinel3_swath_geojson\": \"s3://s3vtaustralia/sentinel3_swath_gdfs.geojson\",\n",
    "    \"dea_frp\": None,\n",
    "    \"lon_west\": 113.0, #147.0,\n",
    "    \"lat_south\": -44, #-38.0,\n",
    "    \"lon_east\": 154.0,\n",
    "    \"lat_north\": -10, #-27.,\n",
    "    \"start_date\":  \"2020-02-02\", #\"2019-11-01\",\n",
    "    \"end_date\": \"2020-10-08\",\n",
    "    \"start_time\": \"20:00\",\n",
    "    \"end_time\": \"03:00\",\n",
    "    \"chunks\": 250,\n",
    "    \"compare_field\": \"solar_night\",\n",
    "    \"swath_config_file\": Path(\"/home/jovyan/s3vt_dask/s3vtdata/configs/s3vtconfig.yaml\"),\n",
    "    \"outdir\": outdir,\n",
    "    \"test\": False\n",
    "}"
   ]
  },
  {
   "cell_type": "code",
   "execution_count": null,
   "metadata": {},
   "outputs": [],
   "source": [
    "hotspots_pkl_file = Path(data_dir).joinpath(\n",
    "    f\"all_hotspots_{int(processing_parameters['bbox'][2])}_{int(processing_parameters['bbox'][0])}_{processing_parameters['start_date'].replace('-','')}_{processing_parameters['end_date'].replace('-','')}.pkl\"\n",
    ")"
   ]
  },
  {
   "cell_type": "code",
   "execution_count": null,
   "metadata": {},
   "outputs": [],
   "source": [
    "if not hotspots_pkl_file.exists():\n",
    "    hotspots_gdf = util.process_hotspots_gdf(**processing_parameters)\n",
    "    hotspots_gdf.to_pickle(hotspots_pkl_file)\n",
    "else:\n",
    "    hotspots_gdf = pd.read_pickle(hotspots_pkl_file)"
   ]
  },
  {
   "cell_type": "code",
   "execution_count": null,
   "metadata": {},
   "outputs": [],
   "source": [
    "len(hotspots_gdf)"
   ]
  },
  {
   "cell_type": "code",
   "execution_count": null,
   "metadata": {},
   "outputs": [],
   "source": [
    "persistent_hotspots_nearest_df = util.ckdnearest(hotspots_gdf, persistent_hotspots_gdf)"
   ]
  },
  {
   "cell_type": "code",
   "execution_count": null,
   "metadata": {},
   "outputs": [],
   "source": [
    "persistent_hotspots_nearest_df[\"count\"] = 1"
   ]
  },
  {
   "cell_type": "code",
   "execution_count": null,
   "metadata": {},
   "outputs": [],
   "source": [
    "persistent_hotspots_nearest_df = persistent_hotspots_nearest_df.drop(['geometry', '2_geometry'], axis=1)"
   ]
  },
  {
   "cell_type": "code",
   "execution_count": null,
   "metadata": {},
   "outputs": [],
   "source": [
    "dd_persistent_hotspots_nearest_df = dd.from_pandas(persistent_hotspots_nearest_df, npartitions=100)"
   ]
  },
  {
   "cell_type": "code",
   "execution_count": null,
   "metadata": {},
   "outputs": [],
   "source": [
    "len(dd_persistent_hotspots_nearest_df)"
   ]
  },
  {
   "cell_type": "code",
   "execution_count": null,
   "metadata": {},
   "outputs": [],
   "source": [
    "dd_persistent_hotspots_nearest_df[\"dist_m\"] = dd_persistent_hotspots_nearest_df.map_partitions(util._distance, meta=persistent_hotspots_nearest_df.dtypes)"
   ]
  },
  {
   "cell_type": "code",
   "execution_count": null,
   "metadata": {},
   "outputs": [],
   "source": [
    "dd_persistent_hotspots_nearest_df = dd_persistent_hotspots_nearest_df.compute()"
   ]
  },
  {
   "cell_type": "code",
   "execution_count": null,
   "metadata": {},
   "outputs": [],
   "source": [
    "persistentcount = util.pandas_pivot_table(\n",
    "    dd_persistent_hotspots_nearest_df,\n",
    "    index=[\"2_Comment\"],\n",
    "    columns=[\"satellite_sensor_product\"],\n",
    "    values=[\"count\"],\n",
    "    aggfunc={\"count\": np.sum}\n",
    "    \n",
    ")"
   ]
  },
  {
   "cell_type": "code",
   "execution_count": null,
   "metadata": {},
   "outputs": [],
   "source": [
    "persistentcount"
   ]
  },
  {
   "cell_type": "code",
   "execution_count": null,
   "metadata": {},
   "outputs": [],
   "source": [
    "persistentcount_5000 = util.pandas_pivot_table(\n",
    "    dd_persistent_hotspots_nearest_df[dd_persistent_hotspots_nearest_df['dist_m'] < 5000],\n",
    "    index=[\"2_Comment\"],\n",
    "    columns=[\"satellite_sensor_product\"],\n",
    "    values=[\"count\"],\n",
    "    aggfunc={\"count\": np.sum}\n",
    "    \n",
    ")"
   ]
  },
  {
   "cell_type": "code",
   "execution_count": null,
   "metadata": {},
   "outputs": [],
   "source": [
    "persistentcount_5000"
   ]
  },
  {
   "cell_type": "code",
   "execution_count": null,
   "metadata": {},
   "outputs": [],
   "source": [
    "persistent5km = dd_persistent_hotspots_nearest_df[dd_persistent_hotspots_nearest_df['dist_m'] < 5000]"
   ]
  },
  {
   "cell_type": "code",
   "execution_count": null,
   "metadata": {},
   "outputs": [],
   "source": [
    "persistent5km.set_index('2_Comment', inplace=True)\n",
    "#persistent5km.set_index('solar_night', inplace=True)"
   ]
  },
  {
   "cell_type": "code",
   "execution_count": null,
   "metadata": {},
   "outputs": [],
   "source": [
    "# which persistent hotspots were imaged by a target sensor? on any given day?\n",
    "#for index_a, gdf_ra in persistent5km.resample(\"D\", on='solar_night'):\n",
    "#    print(index_a, gdf_ra)"
   ]
  },
  {
   "cell_type": "code",
   "execution_count": null,
   "metadata": {},
   "outputs": [],
   "source": [
    "# need a day count for intersections with persistent point and image swath.\n",
    "# what date do we have hotspots for?\n",
    "# 1. load swaths\n",
    "swaths = pd.read_pickle('../workdir_test1/swaths_154_113_20191101_20201008.pkl')"
   ]
  },
  {
   "cell_type": "code",
   "execution_count": null,
   "metadata": {},
   "outputs": [],
   "source": [
    "swath_gdf = swaths[swaths['geometry'].is_valid == True]"
   ]
  },
  {
   "cell_type": "code",
   "execution_count": null,
   "metadata": {},
   "outputs": [],
   "source": [
    "start_time_utc, end_time_utc = util.convert_solar_time_to_utc(154.0, 113.0, \"20:00\", \"03:00\")"
   ]
  },
  {
   "cell_type": "code",
   "execution_count": null,
   "metadata": {},
   "outputs": [],
   "source": [
    "hotspots_gdf.reset_index(inplace=True)"
   ]
  },
  {
   "cell_type": "code",
   "execution_count": null,
   "metadata": {},
   "outputs": [],
   "source": [
    "hotspots_gdf"
   ]
  },
  {
   "cell_type": "code",
   "execution_count": null,
   "metadata": {},
   "outputs": [],
   "source": [
    "hotspots_gdf = hotspots_gdf.between_time('09:44' , '19:28')\n",
    "swath_gdf.set_index('AcquisitionOfSignalUTC', inplace=True)\n",
    "swath_gdf = swath_gdf.between_time(start_time_utc, end_time_utc)"
   ]
  },
  {
   "cell_type": "code",
   "execution_count": null,
   "metadata": {},
   "outputs": [],
   "source": [
    "# Simplify matching between swaths and hotspots\n",
    "for index, row in swath_gdf.iterrows():\n",
    "    if row['Satellite'] == 'NPP':\n",
    "        swath_gdf.at[index,'Satellite']= 'SUOMI NPP'\n",
    "    if row['Satellite'] == 'NOAA_20':\n",
    "        swath_gdf.at[index,'Satellite']= 'NOAA 20'\n",
    "    if row['Satellite'] == 'NOAA_19':\n",
    "        swath_gdf.at[index,'Satellite']= 'NOAA-19' \n",
    "    if row['Satellite'] == 'Sentinel_3A':\n",
    "        swath_gdf.at[index,'Satellite']= 'SENTINEL_3A'\n",
    "    if row['Satellite'] == 'Sentinel_3B':\n",
    "        swath_gdf.at[index,'Satellite']= 'SENTINEL_3B'"
   ]
  },
  {
   "cell_type": "code",
   "execution_count": null,
   "metadata": {},
   "outputs": [],
   "source": [
    "satellite_sensor_product = hotspots_gdf['satellite_sensor_product'].unique()"
   ]
  },
  {
   "cell_type": "code",
   "execution_count": null,
   "metadata": {},
   "outputs": [],
   "source": [
    "satellite_sensor_product"
   ]
  },
  {
   "cell_type": "code",
   "execution_count": null,
   "metadata": {},
   "outputs": [],
   "source": [
    "persistent_row = gpd.GeoDataFrame(row)"
   ]
  },
  {
   "cell_type": "code",
   "execution_count": null,
   "metadata": {},
   "outputs": [],
   "source": [
    "persistent_row = persistent_row.transpose()"
   ]
  },
  {
   "cell_type": "code",
   "execution_count": null,
   "metadata": {},
   "outputs": [],
   "source": [
    "#util.ckdnearest(gpd.GeoDataFrame(row, geometry='geometry'), gdf_ra)\n",
    "#gpd.GeoDataFrame(row)\n",
    "matched_hotspot = util.ckdnearest(persistent_row, gdf_ra.reset_index())"
   ]
  },
  {
   "cell_type": "code",
   "execution_count": null,
   "metadata": {},
   "outputs": [],
   "source": [
    "persistent_row['Comment'].iloc[0]"
   ]
  },
  {
   "cell_type": "code",
   "execution_count": null,
   "metadata": {},
   "outputs": [],
   "source": [
    "dist_m[0]"
   ]
  },
  {
   "cell_type": "code",
   "execution_count": null,
   "metadata": {},
   "outputs": [],
   "source": [
    "persistent_results_list = []\n",
    "# For each hotspot product\n",
    "for product in satellite_sensor_product:\n",
    "    for index_a, gdf_ra in hotspots_gdf[hotspots_gdf['satellite_sensor_product'] == product].resample(\"D\", on='solar_night'):\n",
    "        # Get the corresponding geometry for the satellite pass\n",
    "        swath_gdf[swath_gdf.index.date == index_a]\n",
    "        #print( index_a, product)\n",
    "        try:\n",
    "            subset_swath_gdf = swath_gdf[swath_gdf.index.date == index_a]\n",
    "            sensor_geom = subset_swath_gdf[subset_swath_gdf['Satellite'] == gdf_ra['satellite'].iloc[0]].unary_union\n",
    "            #print(sensor_geom.is_valid, sensor_geom.bounds)\n",
    "            for index, row in persistent_hotspots_gdf.iterrows():\n",
    "                intersection = row.geometry.intersection(sensor_geom)\n",
    "                if intersection:\n",
    "                    persistent_row = gpd.GeoDataFrame(row)\n",
    "                    persistent_row = persistent_row.transpose()\n",
    "                    gpd_result = util.ckdnearest(persistent_row, gdf_ra.reset_index())\n",
    "                    dist_m = util._distance(gpd_result)\n",
    "                    \n",
    "                    gpd_result['dist_m'] = dist_m[0]\n",
    "                    \n",
    "                    if dist_m[0] < 5000.0:\n",
    "                        gpd_result['detected5km'] = 1\n",
    "                        \n",
    "                    else:\n",
    "                        gpd_result['detected5km'] = 0\n",
    "                        \n",
    "                    persistent_results_list.append(gpd_result)\n",
    "                    \n",
    "        except:\n",
    "            #print('no geometry')\n",
    "            pass\n",
    "persistent_results_gpd = pd.concat(persistent_results_list)"
   ]
  },
  {
   "cell_type": "code",
   "execution_count": null,
   "metadata": {},
   "outputs": [],
   "source": [
    "persistent_results_gpd['count'] = 1"
   ]
  },
  {
   "cell_type": "code",
   "execution_count": null,
   "metadata": {},
   "outputs": [],
   "source": [
    "#persistent_results_gpd[persistent_results_gpd['detected5km'] == 1]\n",
    "persistent_results_denominator = persistent_results_gpd.pivot_table(\n",
    "    index=[\"Comment\"],\n",
    "    columns=[\"2_satellite_sensor_product\"],\n",
    "    values=[\"count\"],\n",
    "    aggfunc={\"count\": np.sum}\n",
    "    \n",
    ")"
   ]
  },
  {
   "cell_type": "code",
   "execution_count": null,
   "metadata": {},
   "outputs": [],
   "source": [
    "#persistent_results_gpd[persistent_results_gpd['detected5km'] == 1]\n",
    "persistent_results_numerator = persistent_results_gpd.pivot_table(\n",
    "    index=[\"Comment\"],\n",
    "    columns=[\"2_satellite_sensor_product\"],\n",
    "    values=[\"detected5km\"],\n",
    "    aggfunc={\"detected5km\": np.sum}\n",
    "    \n",
    ")"
   ]
  },
  {
   "cell_type": "code",
   "execution_count": null,
   "metadata": {},
   "outputs": [],
   "source": [
    "persistent_results_numerator.index"
   ]
  },
  {
   "cell_type": "code",
   "execution_count": null,
   "metadata": {},
   "outputs": [],
   "source": [
    "percentage_persistent = (persistent_results_numerator / persistent_results_denominator)* 100"
   ]
  },
  {
   "cell_type": "code",
   "execution_count": null,
   "metadata": {},
   "outputs": [],
   "source": [
    "persistent_results_numerator"
   ]
  },
  {
   "cell_type": "code",
   "execution_count": null,
   "metadata": {},
   "outputs": [],
   "source": [
    "persistent_results_denominator"
   ]
  },
  {
   "cell_type": "code",
   "execution_count": null,
   "metadata": {},
   "outputs": [],
   "source": [
    "persistentcount_5000 = util.pandas_pivot_table(\n",
    "    dd_persistent_hotspots_nearest_df[dd_persistent_hotspots_nearest_df['dist_m'] < 5000],\n",
    "    index=[\"2_Comment\"],\n",
    "    columns=[\"satellite_sensor_product\"],\n",
    "    values=[\"count\"],\n",
    "    aggfunc={\"count\": np.sum}\n",
    "    \n",
    ")"
   ]
  },
  {
   "cell_type": "code",
   "execution_count": null,
   "metadata": {},
   "outputs": [],
   "source": []
  },
  {
   "cell_type": "code",
   "execution_count": null,
   "metadata": {},
   "outputs": [],
   "source": [
    "sensor_geom"
   ]
  },
  {
   "cell_type": "code",
   "execution_count": null,
   "metadata": {},
   "outputs": [],
   "source": [
    "index_a + pd.DateOffset(hours=int(start_time_utc[0:2])) + pd.DateOffset(minutes=int(start_time_utc[3:5]))"
   ]
  },
  {
   "cell_type": "code",
   "execution_count": null,
   "metadata": {},
   "outputs": [],
   "source": [
    "swath_gdf.min()"
   ]
  },
  {
   "cell_type": "code",
   "execution_count": null,
   "metadata": {},
   "outputs": [],
   "source": [
    "sensor_geom = swath_gdf[swath_gdf['Satellite'] == gdf_ra['satellite'].iloc[0]].unary_union"
   ]
  },
  {
   "cell_type": "code",
   "execution_count": null,
   "metadata": {},
   "outputs": [],
   "source": [
    "sensor_geom"
   ]
  },
  {
   "cell_type": "code",
   "execution_count": null,
   "metadata": {},
   "outputs": [],
   "source": [
    "    # For each night_pass date and group of hotspots for that date\n",
    "    for index_a, gdf_ra in hotspots_gdf[hotspots_gdf['satellite_sensor_product'] == product].resample(\"D\", on='solar_night'):\n",
    "        # Get the corresponding geometry for the satellite pass\n",
    "        try:\n",
    "            sensor_geom = swath_gdf[swath_gdf['Satellite'] == gdf_ra['satellite'].iloc[0]].unary_union"
   ]
  },
  {
   "cell_type": "code",
   "execution_count": null,
   "metadata": {},
   "outputs": [],
   "source": [
    "persistent_hotspot_results"
   ]
  },
  {
   "cell_type": "code",
   "execution_count": null,
   "metadata": {},
   "outputs": [],
   "source": [
    "swath_gdf[swath_gdf['Satellite'] == gdf_ra['satellite'].iloc[0]]"
   ]
  },
  {
   "cell_type": "code",
   "execution_count": null,
   "metadata": {},
   "outputs": [],
   "source": [
    "swath_gdf['Satellite'].iloc[0]"
   ]
  },
  {
   "cell_type": "code",
   "execution_count": null,
   "metadata": {},
   "outputs": [],
   "source": [
    "gdf_ra['satellite'][0:1]"
   ]
  },
  {
   "cell_type": "code",
   "execution_count": null,
   "metadata": {},
   "outputs": [],
   "source": [
    "swath_gdf.columns"
   ]
  },
  {
   "cell_type": "code",
   "execution_count": null,
   "metadata": {},
   "outputs": [],
   "source": [
    "hotspots_gdf['satellite'].unique()"
   ]
  },
  {
   "cell_type": "code",
   "execution_count": null,
   "metadata": {},
   "outputs": [],
   "source": [
    "swath_gdf['Satellite'].unique()"
   ]
  },
  {
   "cell_type": "code",
   "execution_count": null,
   "metadata": {},
   "outputs": [],
   "source": [
    "for day in range (start_date,end_date):\n",
    "    hotspot_subset = hotspots_gdf.between_time(start_time_utc, end_time_utc)\n",
    "    \n",
    "    swath_subset = swath_gdf.between_time(start_time_utc, end_time_utc)\n",
    "    for index, row in persistent_hotspots_gdf.iterrows():\n",
    "        intersection = row.geometry.intersection(swath_subset)\n",
    "        if intersection:\n",
    "            intersection = 1\n",
    "            ckdnearest(row, hotspot_subset)\n",
    "            if nearest < 5km = True:\n",
    "                detected5km = 1\n",
    "            else:\n",
    "                deteced5km = 0\n",
    "        else:\n",
    "            intersection = 0\n",
    "        "
   ]
  },
  {
   "cell_type": "code",
   "execution_count": null,
   "metadata": {},
   "outputs": [],
   "source": [
    "intersection"
   ]
  },
  {
   "cell_type": "code",
   "execution_count": null,
   "metadata": {},
   "outputs": [],
   "source": [
    "swath_gdf_subset = swath_gdf_subset.unary_union\n",
    "intersection = persistent_hotspots_gdf.intersection(sensor_b_geom)"
   ]
  },
  {
   "cell_type": "code",
   "execution_count": null,
   "metadata": {},
   "outputs": [],
   "source": []
  }
 ],
 "metadata": {
  "kernelspec": {
   "display_name": "Python 3 (ipykernel)",
   "language": "python",
   "name": "python3"
  },
  "language_info": {
   "codemirror_mode": {
    "name": "ipython",
    "version": 3
   },
   "file_extension": ".py",
   "mimetype": "text/x-python",
   "name": "python",
   "nbconvert_exporter": "python",
   "pygments_lexer": "ipython3",
   "version": "3.8.10"
  }
 },
 "nbformat": 4,
 "nbformat_minor": 4
}
